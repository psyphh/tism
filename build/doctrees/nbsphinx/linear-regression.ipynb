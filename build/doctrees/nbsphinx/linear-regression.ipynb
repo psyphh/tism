{
 "cells": [
  {
   "cell_type": "markdown",
   "metadata": {
    "collapsed": true,
    "pycharm": {
     "name": "#%% md\n"
    }
   },
   "source": [
    "線性迴歸\n",
    "================================\n",
    "\n",
    "## 引言\n",
    "「線性迴歸」（linear regression）可說是統計建模的基礎，其試圖建立一線性函數（linear function），以描述兩變項 $x$ 與 $y$ 之間的關係。這裡，$x=(x_1,x_2,..., x_P)$為一 $P$ 維之向量，其常被稱獨變項（independent variable）、共變量（covariate），或是特徵（feature），而 $y$ 則為一純量（scalar），其常被稱作依變項（dependent variable）或是反應變項（response variable）。\n",
    "\n",
    "在此主題中，我們將會學習以下的重點\n",
    "\n",
    "1. 如何用線性函數刻畫兩變項間的關係。\n",
    "\n",
    "2. 如何使用最小平方法（least squares method）來建立參數之估計準則。\n",
    "\n",
    "3. 如何使用向量與矩陣來表徵「線性迴歸」之問題。\n",
    "\n",
    "4. 使用反矩陣（inverse matrix）獲得模型參數之估計。\n",
    "\n",
    "## 線性迴歸模型\n",
    "\n",
    "\n",
    "## 最小平方法與其解\n",
    "\n",
    "\n",
    "## `TensorFlow`範例：線性迴歸\n",
    "\n"
   ]
  }
 ],
 "metadata": {
  "kernelspec": {
   "display_name": "Python 3",
   "language": "python",
   "name": "python3"
  },
  "language_info": {
   "codemirror_mode": {
    "name": "ipython",
    "version": 2
   },
   "file_extension": ".py",
   "mimetype": "text/x-python",
   "name": "python",
   "nbconvert_exporter": "python",
   "pygments_lexer": "ipython2",
   "version": "2.7.6"
  }
 },
 "nbformat": 4,
 "nbformat_minor": 0
}
