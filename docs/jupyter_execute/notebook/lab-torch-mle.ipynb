{
 "cells": [
  {
   "cell_type": "markdown",
   "metadata": {
    "collapsed": false
   },
   "source": [
    "Lab: 最大概似估計\n",
    "================"
   ]
  },
  {
   "cell_type": "code",
   "execution_count": 1,
   "metadata": {
    "collapsed": true,
    "execution": {
     "iopub.execute_input": "2020-08-20T04:21:34.878556Z",
     "iopub.status.busy": "2020-08-20T04:21:34.877826Z",
     "iopub.status.idle": "2020-08-20T04:21:35.899751Z",
     "shell.execute_reply": "2020-08-20T04:21:35.900412Z"
    }
   },
   "outputs": [],
   "source": [
    "import torch"
   ]
  },
  {
   "cell_type": "code",
   "execution_count": 2,
   "metadata": {
    "collapsed": false,
    "execution": {
     "iopub.execute_input": "2020-08-20T04:21:35.904607Z",
     "iopub.status.busy": "2020-08-20T04:21:35.903957Z",
     "iopub.status.idle": "2020-08-20T04:21:35.905955Z",
     "shell.execute_reply": "2020-08-20T04:21:35.906431Z"
    },
    "pycharm": {
     "name": "#%%\n"
    }
   },
   "outputs": [],
   "source": [
    "from torch.distributions import Normal\n",
    "normal = Normal(loc=0., scale=1.)"
   ]
  },
  {
   "cell_type": "code",
   "execution_count": 3,
   "metadata": {
    "collapsed": false,
    "execution": {
     "iopub.execute_input": "2020-08-20T04:21:35.910703Z",
     "iopub.status.busy": "2020-08-20T04:21:35.909863Z",
     "iopub.status.idle": "2020-08-20T04:21:35.925502Z",
     "shell.execute_reply": "2020-08-20T04:21:35.926002Z"
    },
    "pycharm": {
     "name": "#%%\n"
    }
   },
   "outputs": [
    {
     "name": "stdout",
     "output_type": "stream",
     "text": [
      "random sample with shape ():\n",
      " tensor(-0.2156)\n",
      "random sample with shape (3,):\n",
      " tensor([ 1.8439, -0.8815, -0.0551])\n",
      "random sample with shape (2,3):\n",
      " tensor([[ 1.1040,  0.9123, -0.1674],\n",
      "        [-0.3166,  0.2960,  0.9957]])\n"
     ]
    }
   ],
   "source": [
    "print(\"random sample with shape ():\\n\",\n",
    "      normal.sample())\n",
    "print(\"random sample with shape (3,):\\n\",\n",
    "      normal.sample(sample_shape=(3,)))\n",
    "print(\"random sample with shape (2,3):\\n\",\n",
    "      normal.sample(sample_shape=(2, 3)))"
   ]
  },
  {
   "cell_type": "code",
   "execution_count": 4,
   "metadata": {
    "collapsed": false,
    "execution": {
     "iopub.execute_input": "2020-08-20T04:21:35.931138Z",
     "iopub.status.busy": "2020-08-20T04:21:35.930088Z",
     "iopub.status.idle": "2020-08-20T04:21:35.937251Z",
     "shell.execute_reply": "2020-08-20T04:21:35.936711Z"
    },
    "pycharm": {
     "name": "#%%\n"
    }
   },
   "outputs": [
    {
     "name": "stdout",
     "output_type": "stream",
     "text": [
      "cumulative probability given value with shape ():\n",
      " tensor(0.5000) \n",
      "\n",
      "cumulative probability given value with (3,):\n",
      " tensor([0.1587, 0.5000, 0.6915]) \n",
      "\n",
      "cumulative probability given value with (2,3):\n",
      " tensor([[0.1587, 0.5000, 0.6915],\n",
      "        [0.0228, 0.8413, 0.9987]])\n"
     ]
    }
   ],
   "source": [
    "print(\"cumulative probability given value with shape ():\\n\",\n",
    "      normal.cdf(value=0), \"\\n\")\n",
    "print(\"cumulative probability given value with (3,):\\n\",\n",
    "      normal.cdf(value=torch.Tensor([-1, 0, .5])), \"\\n\")\n",
    "print(\"cumulative probability given value with (2,3):\\n\",\n",
    "      normal.cdf(value=torch.Tensor([[-1, 0, .5], [-2, 1, 3]])))"
   ]
  },
  {
   "cell_type": "code",
   "execution_count": 5,
   "metadata": {
    "collapsed": false,
    "execution": {
     "iopub.execute_input": "2020-08-20T04:21:35.941836Z",
     "iopub.status.busy": "2020-08-20T04:21:35.941068Z",
     "iopub.status.idle": "2020-08-20T04:21:35.946751Z",
     "shell.execute_reply": "2020-08-20T04:21:35.947240Z"
    },
    "pycharm": {
     "name": "#%%\n"
    }
   },
   "outputs": [
    {
     "name": "stdout",
     "output_type": "stream",
     "text": [
      "cumulative probability given value with shape ():\n",
      " tensor(-0.9189) \n",
      "\n",
      "cumulative probability given value with (3,):\n",
      " tensor([-1.4189, -0.9189, -1.0439]) \n",
      "\n",
      "cumulative probability given value with (2,3):\n",
      " tensor([[-1.4189, -0.9189, -1.0439],\n",
      "        [-2.9189, -1.4189, -5.4189]])\n"
     ]
    }
   ],
   "source": [
    "print(\"cumulative probability given value with shape ():\\n\",\n",
    "      normal.log_prob(value=0), \"\\n\")\n",
    "print(\"cumulative probability given value with (3,):\\n\",\n",
    "      normal.log_prob(value=torch.Tensor([-1, 0, .5])), \"\\n\")\n",
    "print(\"cumulative probability given value with (2,3):\\n\",\n",
    "      normal.log_prob(value=torch.Tensor([[-1, 0, .5], [-2, 1, 3]])))"
   ]
  },
  {
   "cell_type": "code",
   "execution_count": 6,
   "metadata": {
    "collapsed": false,
    "execution": {
     "iopub.execute_input": "2020-08-20T04:21:35.951317Z",
     "iopub.status.busy": "2020-08-20T04:21:35.950440Z",
     "iopub.status.idle": "2020-08-20T04:21:35.953079Z",
     "shell.execute_reply": "2020-08-20T04:21:35.953564Z"
    },
    "pycharm": {
     "name": "#%%\n"
    }
   },
   "outputs": [
    {
     "name": "stdout",
     "output_type": "stream",
     "text": [
      "Normal(loc: 0.0, scale: 1.0)\n"
     ]
    }
   ],
   "source": [
    "print(normal)"
   ]
  },
  {
   "cell_type": "code",
   "execution_count": 7,
   "metadata": {
    "collapsed": false,
    "execution": {
     "iopub.execute_input": "2020-08-20T04:21:35.957277Z",
     "iopub.status.busy": "2020-08-20T04:21:35.956587Z",
     "iopub.status.idle": "2020-08-20T04:21:35.958935Z",
     "shell.execute_reply": "2020-08-20T04:21:35.959404Z"
    },
    "pycharm": {
     "name": "#%%\n"
    }
   },
   "outputs": [
    {
     "name": "stdout",
     "output_type": "stream",
     "text": [
      "torch.Size([])\n",
      "torch.Size([])\n"
     ]
    }
   ],
   "source": [
    "print(normal.batch_shape)\n",
    "print(normal.event_shape)"
   ]
  },
  {
   "cell_type": "code",
   "execution_count": 8,
   "metadata": {
    "collapsed": false,
    "execution": {
     "iopub.execute_input": "2020-08-20T04:21:35.963342Z",
     "iopub.status.busy": "2020-08-20T04:21:35.962607Z",
     "iopub.status.idle": "2020-08-20T04:21:35.965167Z",
     "shell.execute_reply": "2020-08-20T04:21:35.965744Z"
    },
    "pycharm": {
     "name": "#%%\n"
    }
   },
   "outputs": [
    {
     "name": "stdout",
     "output_type": "stream",
     "text": [
      "Normal(loc: torch.Size([2]), scale: torch.Size([2]))\n"
     ]
    }
   ],
   "source": [
    "normal_batch = Normal(loc=torch.Tensor([0., 1.]), scale=torch.Tensor([1., 1.5]))\n",
    "print(normal_batch)"
   ]
  },
  {
   "cell_type": "code",
   "execution_count": 9,
   "metadata": {
    "collapsed": false,
    "execution": {
     "iopub.execute_input": "2020-08-20T04:21:35.970235Z",
     "iopub.status.busy": "2020-08-20T04:21:35.969535Z",
     "iopub.status.idle": "2020-08-20T04:21:35.974953Z",
     "shell.execute_reply": "2020-08-20T04:21:35.975442Z"
    },
    "pycharm": {
     "name": "#%%\n"
    }
   },
   "outputs": [
    {
     "name": "stdout",
     "output_type": "stream",
     "text": [
      "random sample with sample_shape ():\n",
      " tensor([1.8786, 1.0935]) \n",
      "\n",
      "random sample with sample_shape (3,):\n",
      " tensor([[ 1.6435, -0.8350],\n",
      "        [ 0.3184,  1.8001],\n",
      "        [-1.0454, -0.4213]]) \n",
      "\n",
      "random sample with sample_shape (2,3):\n",
      " tensor([[[-0.4025,  1.3274],\n",
      "         [ 0.2543,  3.5675],\n",
      "         [-0.7132,  1.1360]],\n",
      "\n",
      "        [[ 0.4705,  1.5651],\n",
      "         [-1.5722, -1.0387],\n",
      "         [ 1.9484,  1.7870]]])\n"
     ]
    }
   ],
   "source": [
    "print(\"random sample with sample_shape ():\\n\",\n",
    "      normal_batch.sample(), \"\\n\")\n",
    "print(\"random sample with sample_shape (3,):\\n\",\n",
    "      normal_batch.sample(sample_shape=(3,)), \"\\n\")\n",
    "print(\"random sample with sample_shape (2,3):\\n\",\n",
    "      normal_batch.sample(sample_shape=(2,3)))\n"
   ]
  },
  {
   "cell_type": "code",
   "execution_count": 10,
   "metadata": {
    "collapsed": false,
    "execution": {
     "iopub.execute_input": "2020-08-20T04:21:35.979488Z",
     "iopub.status.busy": "2020-08-20T04:21:35.978806Z",
     "iopub.status.idle": "2020-08-20T04:21:35.984580Z",
     "shell.execute_reply": "2020-08-20T04:21:35.985070Z"
    },
    "pycharm": {
     "name": "#%%\n"
    }
   },
   "outputs": [
    {
     "name": "stdout",
     "output_type": "stream",
     "text": [
      "log-probability given value with shape ():\n",
      " tensor([-0.9189, -1.5466]) \n",
      "\n",
      "log-probability given value with shape (2,):\n",
      " tensor([-0.9189, -1.5466]) \n",
      "\n",
      "log-probability given value with shape (2,1):\n",
      " tensor([[-0.9189, -1.5466],\n",
      "        [-0.9189, -1.5466]])\n"
     ]
    }
   ],
   "source": [
    "print(\"log-probability given value with shape ():\\n\",\n",
    "      normal_batch.log_prob(0), \"\\n\")\n",
    "print(\"log-probability given value with shape (2,):\\n\",\n",
    "      normal_batch.log_prob(torch.Tensor([0, 0])), \"\\n\")\n",
    "print(\"log-probability given value with shape (2,1):\\n\",\n",
    "      normal_batch.log_prob(torch.Tensor([[0], [0]])))"
   ]
  },
  {
   "cell_type": "code",
   "execution_count": 11,
   "metadata": {
    "collapsed": false,
    "execution": {
     "iopub.execute_input": "2020-08-20T04:21:35.989195Z",
     "iopub.status.busy": "2020-08-20T04:21:35.988530Z",
     "iopub.status.idle": "2020-08-20T04:21:35.993797Z",
     "shell.execute_reply": "2020-08-20T04:21:35.994391Z"
    },
    "pycharm": {
     "name": "#%%\n"
    }
   },
   "outputs": [
    {
     "name": "stdout",
     "output_type": "stream",
     "text": [
      "MultivariateNormal(loc: torch.Size([2]), scale_tril: torch.Size([2, 2]))\n"
     ]
    }
   ],
   "source": [
    "from torch.distributions import MultivariateNormal\n",
    "mvn = MultivariateNormal(\n",
    "    loc=torch.Tensor([0, 1]),\n",
    "    scale_tril=torch.cholesky(torch.Tensor([[1., 0.], [0., .5]])))\n",
    "print(mvn)\n"
   ]
  },
  {
   "cell_type": "code",
   "execution_count": 12,
   "metadata": {
    "collapsed": false,
    "execution": {
     "iopub.execute_input": "2020-08-20T04:21:35.999224Z",
     "iopub.status.busy": "2020-08-20T04:21:35.998371Z",
     "iopub.status.idle": "2020-08-20T04:21:36.005868Z",
     "shell.execute_reply": "2020-08-20T04:21:36.006321Z"
    },
    "pycharm": {
     "name": "#%%\n"
    }
   },
   "outputs": [
    {
     "name": "stdout",
     "output_type": "stream",
     "text": [
      "random sample with sample_shape ():\n",
      " tensor([-0.5682,  1.8157]) \n",
      "\n",
      "random sample with sample_shape (3,):\n",
      " tensor([[0.7191, 1.1284],\n",
      "        [1.4425, 0.8393],\n",
      "        [0.9232, 1.2821]]) \n",
      "\n",
      "random sample with sample_shape (2, 3):\n",
      " tensor([[[ 0.3314,  0.2705],\n",
      "         [-1.4333,  0.5694],\n",
      "         [ 0.7050,  1.1735]],\n",
      "\n",
      "        [[-0.3681,  1.1516],\n",
      "         [-1.0326,  1.6851],\n",
      "         [ 0.3796,  0.3984]]])\n"
     ]
    }
   ],
   "source": [
    "print(\"random sample with sample_shape ():\\n\",\n",
    "      mvn.sample(), \"\\n\")\n",
    "print(\"random sample with sample_shape (3,):\\n\",\n",
    "      mvn.sample(sample_shape=(3,)), \"\\n\")\n",
    "print(\"random sample with sample_shape (2, 3):\\n\",\n",
    "      mvn.sample(sample_shape=(2, 3)))"
   ]
  },
  {
   "cell_type": "code",
   "execution_count": 13,
   "metadata": {
    "collapsed": false,
    "execution": {
     "iopub.execute_input": "2020-08-20T04:21:36.010552Z",
     "iopub.status.busy": "2020-08-20T04:21:36.009852Z",
     "iopub.status.idle": "2020-08-20T04:21:36.014920Z",
     "shell.execute_reply": "2020-08-20T04:21:36.015389Z"
    },
    "pycharm": {
     "name": "#%%\n"
    }
   },
   "outputs": [
    {
     "name": "stdout",
     "output_type": "stream",
     "text": [
      "log-probability given value with shape (2,):\n",
      " tensor(-2.4913) \n",
      "\n",
      "log-probability given value with shape (2,1):\n",
      " tensor([-2.4913, -2.4913])\n"
     ]
    }
   ],
   "source": [
    "print(\"log-probability given value with shape (2,):\\n\",\n",
    "      mvn.log_prob(torch.Tensor([0, 0])), \"\\n\")\n",
    "print(\"log-probability given value with shape (2,1):\\n\",\n",
    "      mvn.log_prob(torch.Tensor([[0, 0], [0, 0]])))"
   ]
  },
  {
   "cell_type": "code",
   "execution_count": 14,
   "metadata": {
    "collapsed": false,
    "execution": {
     "iopub.execute_input": "2020-08-20T04:21:36.020314Z",
     "iopub.status.busy": "2020-08-20T04:21:36.019557Z",
     "iopub.status.idle": "2020-08-20T04:21:36.022820Z",
     "shell.execute_reply": "2020-08-20T04:21:36.022225Z"
    },
    "pycharm": {
     "name": "#%%\n"
    }
   },
   "outputs": [
    {
     "name": "stdout",
     "output_type": "stream",
     "text": [
      "torch.Size([])\n",
      "torch.Size([2])\n"
     ]
    }
   ],
   "source": [
    "from torch.distributions import Independent\n",
    "normal_batch = Independent(normal_batch, reinterpreted_batch_ndims=1)\n",
    "print(normal_batch.batch_shape)\n",
    "print(normal_batch.event_shape)\n"
   ]
  },
  {
   "cell_type": "code",
   "execution_count": 15,
   "metadata": {
    "collapsed": false,
    "execution": {
     "iopub.execute_input": "2020-08-20T04:21:36.031819Z",
     "iopub.status.busy": "2020-08-20T04:21:36.026324Z",
     "iopub.status.idle": "2020-08-20T04:21:36.034717Z",
     "shell.execute_reply": "2020-08-20T04:21:36.035240Z"
    },
    "pycharm": {
     "name": "#%%\n"
    }
   },
   "outputs": [
    {
     "data": {
      "text/plain": [
       "MultivariateNormal(loc: torch.Size([3, 2]), scale_tril: torch.Size([3, 2, 2]))"
      ]
     },
     "execution_count": 15,
     "metadata": {},
     "output_type": "execute_result"
    }
   ],
   "source": [
    "mvn_batch = MultivariateNormal(\n",
    "    loc=torch.Tensor([[0, 1],[1, 2],[2, 3]]),\n",
    "    scale_tril=torch.cholesky(torch.Tensor([[1., .2], [.2, .5]])))\n",
    "mvn_batch"
   ]
  },
  {
   "cell_type": "code",
   "execution_count": 16,
   "metadata": {
    "collapsed": false,
    "execution": {
     "iopub.execute_input": "2020-08-20T04:21:36.039661Z",
     "iopub.status.busy": "2020-08-20T04:21:36.038933Z",
     "iopub.status.idle": "2020-08-20T04:21:36.045018Z",
     "shell.execute_reply": "2020-08-20T04:21:36.045507Z"
    },
    "pycharm": {
     "name": "#%%\n"
    }
   },
   "outputs": [
    {
     "name": "stdout",
     "output_type": "stream",
     "text": [
      "random sample with sample_shape ():\n",
      " tensor([[-0.5756,  1.5090],\n",
      "        [ 1.3517,  3.2940],\n",
      "        [ 4.4298,  3.4836]]) \n",
      "\n",
      "random sample with sample_shape (3,):\n",
      " tensor([[[-0.2578, -0.1874],\n",
      "         [ 1.2498,  1.6580],\n",
      "         [ 0.3778,  2.7123]],\n",
      "\n",
      "        [[ 0.4986,  1.8150],\n",
      "         [ 1.6149,  1.7774],\n",
      "         [ 1.9015,  2.8206]],\n",
      "\n",
      "        [[ 2.4321,  1.8450],\n",
      "         [ 2.0691,  2.9806],\n",
      "         [ 1.3496,  2.6710]]]) \n",
      "\n",
      "random sample with sample_shape (2, 3):\n",
      " tensor([[[[ 0.4153,  0.1326],\n",
      "          [ 0.4342,  1.3516],\n",
      "          [ 0.8363,  2.8164]],\n",
      "\n",
      "         [[ 1.5948,  2.2448],\n",
      "          [ 1.5327,  1.2794],\n",
      "          [ 1.9415,  2.8235]],\n",
      "\n",
      "         [[-0.4092,  2.1769],\n",
      "          [-0.1817,  2.5586],\n",
      "          [ 1.4545,  3.6256]]],\n",
      "\n",
      "\n",
      "        [[[-1.1010, -0.0972],\n",
      "          [ 1.3360,  2.1929],\n",
      "          [ 2.0700,  3.0896]],\n",
      "\n",
      "         [[ 0.7787,  0.3521],\n",
      "          [-0.2754,  1.7912],\n",
      "          [ 2.9310,  3.4168]],\n",
      "\n",
      "         [[ 0.5865,  1.4583],\n",
      "          [ 0.4751,  2.7114],\n",
      "          [ 1.3246,  2.3397]]]])\n"
     ]
    }
   ],
   "source": [
    "print(\"random sample with sample_shape ():\\n\",\n",
    "      mvn_batch.sample(), \"\\n\")\n",
    "print(\"random sample with sample_shape (3,):\\n\",\n",
    "      mvn_batch.sample(sample_shape=(3,)), \"\\n\")\n",
    "print(\"random sample with sample_shape (2, 3):\\n\",\n",
    "      mvn_batch.sample(sample_shape=(2, 3)))\n"
   ]
  },
  {
   "cell_type": "code",
   "execution_count": 17,
   "metadata": {
    "collapsed": false,
    "execution": {
     "iopub.execute_input": "2020-08-20T04:21:36.049975Z",
     "iopub.status.busy": "2020-08-20T04:21:36.049240Z",
     "iopub.status.idle": "2020-08-20T04:21:36.052994Z",
     "shell.execute_reply": "2020-08-20T04:21:36.053427Z"
    },
    "pycharm": {
     "name": "#%%\n"
    }
   },
   "outputs": [
    {
     "name": "stdout",
     "output_type": "stream",
     "text": [
      "normal model:\n",
      " Normal(loc: tensor([5.]), scale: tensor([2.])) \n",
      "\n"
     ]
    }
   ],
   "source": [
    "mu_true = torch.tensor([5.])\n",
    "sigma_true = torch.tensor([2.])\n",
    "normal_model_true = Normal(\n",
    "    loc=mu_true,\n",
    "    scale=sigma_true)\n",
    "print(\"normal model:\\n\", normal_model_true, \"\\n\")"
   ]
  },
  {
   "cell_type": "code",
   "execution_count": 18,
   "metadata": {
    "collapsed": false,
    "execution": {
     "iopub.execute_input": "2020-08-20T04:21:36.057507Z",
     "iopub.status.busy": "2020-08-20T04:21:36.056773Z",
     "iopub.status.idle": "2020-08-20T04:21:36.060637Z",
     "shell.execute_reply": "2020-08-20T04:21:36.061110Z"
    },
    "pycharm": {
     "name": "#%%\n"
    }
   },
   "outputs": [
    {
     "name": "stdout",
     "output_type": "stream",
     "text": [
      "negative likelihood value is tensor(2.1022)\n"
     ]
    }
   ],
   "source": [
    "sample_size = 1000\n",
    "x = normal_model_true.sample(sample_shape=(sample_size,))\n",
    "loss_value = -torch.mean(torch.sum(normal_model_true.log_prob(x), dim = 1))\n",
    "print(\"negative likelihood value is\", loss_value)\n"
   ]
  },
  {
   "cell_type": "code",
   "execution_count": 19,
   "metadata": {
    "collapsed": false,
    "execution": {
     "iopub.execute_input": "2020-08-20T04:21:36.067138Z",
     "iopub.status.busy": "2020-08-20T04:21:36.066364Z",
     "iopub.status.idle": "2020-08-20T04:21:36.160452Z",
     "shell.execute_reply": "2020-08-20T04:21:36.160910Z"
    },
    "pycharm": {
     "name": "#%%\n"
    }
   },
   "outputs": [],
   "source": [
    "epochs = 200\n",
    "lr = 1.0\n",
    "mu = torch.tensor([0.], requires_grad=True)\n",
    "sigma = torch.tensor([1.], requires_grad=True)\n",
    "optimizer = torch.optim.Adam([mu, sigma], lr=.5)\n",
    "for epoch in range(epochs):\n",
    "    normal_model = Normal(loc=mu, scale=sigma)\n",
    "    loss_value = -torch.mean(normal_model.log_prob(x))\n",
    "    optimizer.zero_grad()\n",
    "    loss_value.backward() # compute the gradient\n",
    "    optimizer.step()"
   ]
  },
  {
   "cell_type": "code",
   "execution_count": 20,
   "metadata": {
    "collapsed": false,
    "execution": {
     "iopub.execute_input": "2020-08-20T04:21:36.164787Z",
     "iopub.status.busy": "2020-08-20T04:21:36.163879Z",
     "iopub.status.idle": "2020-08-20T04:21:36.169133Z",
     "shell.execute_reply": "2020-08-20T04:21:36.169614Z"
    },
    "pycharm": {
     "name": "#%%\n"
    }
   },
   "outputs": [
    {
     "name": "stdout",
     "output_type": "stream",
     "text": [
      "ML mean by gradient descent: "
     ]
    },
    {
     "name": "stdout",
     "output_type": "stream",
     "text": [
      "tensor([5.0230], requires_grad=True)\n",
      "ML std by gradient descent: tensor([1.9782], requires_grad=True)\n"
     ]
    }
   ],
   "source": [
    "print(\"ML mean by gradient descent:\", mu)\n",
    "print(\"ML std by gradient descent:\", sigma)"
   ]
  },
  {
   "cell_type": "code",
   "execution_count": 21,
   "metadata": {
    "collapsed": false,
    "execution": {
     "iopub.execute_input": "2020-08-20T04:21:36.173352Z",
     "iopub.status.busy": "2020-08-20T04:21:36.172594Z",
     "iopub.status.idle": "2020-08-20T04:21:36.176687Z",
     "shell.execute_reply": "2020-08-20T04:21:36.177191Z"
    },
    "pycharm": {
     "name": "#%%\n"
    }
   },
   "outputs": [
    {
     "name": "stdout",
     "output_type": "stream",
     "text": [
      "ML mean by formula: tensor(5.0228)\n",
      "ML std by formula: tensor(1.9800)\n"
     ]
    }
   ],
   "source": [
    "print(\"ML mean by formula:\", torch.mean(x))\n",
    "print(\"ML std by formula:\", torch.std(x, unbiased=False))"
   ]
  },
  {
   "cell_type": "code",
   "execution_count": 22,
   "metadata": {
    "collapsed": false,
    "execution": {
     "iopub.execute_input": "2020-08-20T04:21:36.182049Z",
     "iopub.status.busy": "2020-08-20T04:21:36.181250Z",
     "iopub.status.idle": "2020-08-20T04:21:36.186140Z",
     "shell.execute_reply": "2020-08-20T04:21:36.186703Z"
    },
    "pycharm": {
     "name": "#%%\n"
    }
   },
   "outputs": [
    {
     "name": "stdout",
     "output_type": "stream",
     "text": [
      "true mean vector: \n",
      " tensor([-1.,  0.,  1.])\n",
      "true covariance matrix: \n",
      " tensor([[9.0000, 6.0000, 1.2000],\n",
      "        [6.0000, 5.0000, 1.3000],\n",
      "        [1.2000, 1.3000, 0.6600]])\n"
     ]
    }
   ],
   "source": [
    "mu_true = torch.tensor([-1., 0., 1.])\n",
    "sigma_tril_true = torch.tensor([[3., 0., 0.], [2., 1., 0.], [.4, .5, .5]])\n",
    "mvn_model_true = MultivariateNormal(\n",
    "    loc=mu_true,\n",
    "    scale_tril=sigma_tril_true)\n",
    "print(\"true mean vector: \\n\", mvn_model_true.mean)\n",
    "print(\"true covariance matrix: \\n\", mvn_model_true.covariance_matrix)"
   ]
  },
  {
   "cell_type": "code",
   "execution_count": 23,
   "metadata": {
    "collapsed": false,
    "execution": {
     "iopub.execute_input": "2020-08-20T04:21:36.190770Z",
     "iopub.status.busy": "2020-08-20T04:21:36.189996Z",
     "iopub.status.idle": "2020-08-20T04:21:36.194504Z",
     "shell.execute_reply": "2020-08-20T04:21:36.194998Z"
    },
    "pycharm": {
     "name": "#%%\n"
    }
   },
   "outputs": [
    {
     "name": "stdout",
     "output_type": "stream",
     "text": [
      "negative likelihood value is tensor(4.7150)\n"
     ]
    }
   ],
   "source": [
    "sample_size = 1000\n",
    "x = mvn_model_true.sample(sample_shape=(sample_size,))\n",
    "loss_value = -torch.mean(mvn_model_true.log_prob(x))\n",
    "print(\"negative likelihood value is\", loss_value)\n"
   ]
  },
  {
   "cell_type": "code",
   "execution_count": 24,
   "metadata": {
    "collapsed": false,
    "execution": {
     "iopub.execute_input": "2020-08-20T04:21:36.201214Z",
     "iopub.status.busy": "2020-08-20T04:21:36.200281Z",
     "iopub.status.idle": "2020-08-20T04:21:36.638505Z",
     "shell.execute_reply": "2020-08-20T04:21:36.639032Z"
    },
    "pycharm": {
     "name": "#%%\n"
    }
   },
   "outputs": [],
   "source": [
    "epochs = 500\n",
    "lr = .1\n",
    "mu = torch.tensor(\n",
    "    [0., 0., 0.], requires_grad=True)\n",
    "sigma_tril = torch.tensor(\n",
    "    [[1., 0., 0.], [0., 1., 0.], [0., 0., 1.]],\n",
    "    requires_grad=True)\n",
    "optimizer = torch.optim.Adam([mu, sigma_tril], lr=lr)\n",
    "\n",
    "for epoch in range(epochs):\n",
    "    mvn_model = MultivariateNormal(\n",
    "    loc=mu,\n",
    "    scale_tril=sigma_tril)\n",
    "    loss_value = -torch.mean(mvn_model.log_prob(x))\n",
    "    optimizer.zero_grad()\n",
    "    loss_value.backward() # compute the gradient\n",
    "    optimizer.step()"
   ]
  },
  {
   "cell_type": "code",
   "execution_count": 25,
   "metadata": {
    "collapsed": false,
    "execution": {
     "iopub.execute_input": "2020-08-20T04:21:36.642869Z",
     "iopub.status.busy": "2020-08-20T04:21:36.642082Z",
     "iopub.status.idle": "2020-08-20T04:21:36.646250Z",
     "shell.execute_reply": "2020-08-20T04:21:36.646747Z"
    },
    "pycharm": {
     "name": "#%%\n"
    }
   },
   "outputs": [
    {
     "name": "stdout",
     "output_type": "stream",
     "text": [
      "ML mean by gradient descent: \n",
      " tensor([-1.0681, -0.0417,  1.0032], requires_grad=True)\n",
      "ML covariance by gradient descent: \n",
      " tensor([[9.4952, 6.2792, 1.2215],\n",
      "        [6.2792, 5.1395, 1.3091],\n",
      "        [1.2215, 1.3091, 0.6771]], grad_fn=<MmBackward>)\n"
     ]
    }
   ],
   "source": [
    "print(\"ML mean by gradient descent: \\n\",\n",
    "      mu)\n",
    "print(\"ML covariance by gradient descent: \\n\",\n",
    "      sigma_tril @ torch.transpose(sigma_tril, 0, 1))"
   ]
  },
  {
   "cell_type": "code",
   "execution_count": 26,
   "metadata": {
    "collapsed": false,
    "execution": {
     "iopub.execute_input": "2020-08-20T04:21:36.651112Z",
     "iopub.status.busy": "2020-08-20T04:21:36.650356Z",
     "iopub.status.idle": "2020-08-20T04:21:36.654494Z",
     "shell.execute_reply": "2020-08-20T04:21:36.654962Z"
    },
    "pycharm": {
     "name": "#%%\n"
    }
   },
   "outputs": [
    {
     "name": "stdout",
     "output_type": "stream",
     "text": [
      "ML mean by formula: \n",
      " tensor([-1.0681, -0.0417,  1.0032])\n",
      "ML covariance by formula: \n",
      " tensor([[9.4952, 6.2792, 1.2215],\n",
      "        [6.2792, 5.1395, 1.3091],\n",
      "        [1.2215, 1.3091, 0.6771]])\n"
     ]
    }
   ],
   "source": [
    "sample_mean = torch.mean(x, dim = 0)\n",
    "sample_moment2 = (torch.transpose(x, 0, 1) @ x) / sample_size\n",
    "sample_cov = sample_moment2 - torch.ger(sample_mean, sample_mean)\n",
    "print(\"ML mean by formula: \\n\",\n",
    "      sample_mean)\n",
    "print(\"ML covariance by formula: \\n\",\n",
    "      sample_cov)"
   ]
  }
 ],
 "metadata": {
  "kernelspec": {
   "display_name": "Python 3",
   "language": "python",
   "name": "python3"
  },
  "language_info": {
   "codemirror_mode": {
    "name": "ipython",
    "version": 3
   },
   "file_extension": ".py",
   "mimetype": "text/x-python",
   "name": "python",
   "nbconvert_exporter": "python",
   "pygments_lexer": "ipython3",
   "version": "3.8.5"
  }
 },
 "nbformat": 4,
 "nbformat_minor": 0
}