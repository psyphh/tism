{
 "cells": [
  {
   "cell_type": "markdown",
   "source": [
    "\n",
    "Lab: 數值微分與優化\n",
    "================\n",
    "\n",
    "在此 lab 中，我們將介紹\n",
    "\n",
    "1. 如何使用 `tensorflow` 進行數值微分。\n",
    "\n",
    "2. 如何使用 `tensorflow` 進行數值優化。\n",
    "\n",
    "3. 利用前述知識，撰寫一採用梯度下降（gradient descent）獲得迴歸參數估計之類型。"
   ],
   "metadata": {
    "collapsed": false
   }
  },
  {
   "cell_type": "code",
   "execution_count": 1,
   "outputs": [],
   "source": [
    "import tensorflow as tf"
   ],
   "metadata": {
    "collapsed": false,
    "pycharm": {
     "name": "#%%\n"
    }
   }
  },
  {
   "cell_type": "markdown",
   "source": [
    "## 數值微分\n",
    "\n",
    "而在統計模型中，模型之參數常需透過一優化（optimization）方法獲得，而許多的優化方法皆仰賴目標函數（objective function）的一階導數（first-order derivative），或稱梯度（gradient），因此，如何獲得目標函數對於模型參數的梯度，即為一重要的工作。\n",
    "\n",
    "### `tf.Variable`\n",
    "\n",
    "在 `tensorflow` 中，我們所欲進行微分之變量乃透過 `tf.Variable` 此類型來表徵："
   ],
   "metadata": {
    "collapsed": false
   }
  },
  {
   "cell_type": "code",
   "execution_count": 3,
   "outputs": [
    {
     "name": "stdout",
     "output_type": "stream",
     "text": [
      "<tf.Variable 'Variable:0' shape=(3,) dtype=float64, numpy=array([1., 2., 3.])>\n"
     ]
    }
   ],
   "source": [
    "x = tf.Variable([1, 2, 3],\n",
    "                dtype = tf.float64)\n",
    "print(x)"
   ],
   "metadata": {
    "collapsed": false,
    "pycharm": {
     "name": "#%%\n"
    }
   }
  },
  {
   "cell_type": "markdown",
   "source": [
    "這裏，我們建立了一尺寸為 $3$ 的變量。乍看之下，`tf.Variable` 與張量非常類似，皆牽涉到內部資料、形狀、以及資料類型，而事實上，`tf.Variable` 其背後的資料結構的確是一張量，\n",
    "\n",
    "，由於此張量具有 `requires_grad=True` 此標記，因此，接下來對此張量進行任何的運算，`torch` 皆會將此計算過程記錄下來。舉例來說："
   ],
   "metadata": {
    "collapsed": false
   }
  },
  {
   "cell_type": "code",
   "execution_count": 5,
   "outputs": [
    {
     "name": "stdout",
     "output_type": "stream",
     "text": [
      "<tf.Variable 'Mark:0' shape=(2, 2) dtype=float32, numpy=\n",
      "array([[1., 2.],\n",
      "       [3., 4.]], dtype=float32)>\n",
      "<tf.Variable 'Mark:0' shape=(2, 2) dtype=float32, numpy=\n",
      "array([[2., 3.],\n",
      "       [4., 5.]], dtype=float32)>\n"
     ]
    }
   ],
   "source": [
    "my_tensor = tf.constant([[1.0, 2.0], [3.0, 4.0]])\n",
    "# Create a and b; they will have the same name but will be backed by\n",
    "# different tensors.\n",
    "a = tf.Variable(my_tensor, name=\"Mark\")\n",
    "# A new variable with the same name, but different value\n",
    "# Note that the scalar add is broadcast\n",
    "b = tf.Variable(my_tensor + 1, name=\"Mark\")\n",
    "print(a)\n",
    "print(b)"
   ],
   "metadata": {
    "collapsed": false,
    "pycharm": {
     "name": "#%%\n"
    }
   }
  },
  {
   "cell_type": "code",
   "execution_count": null,
   "outputs": [],
   "source": [
    "y = 2 * x - 4\n",
    "z = (y ** 2).sum()\n",
    "print(\"tensor y: \\n\", y)\n",
    "print(\"tensor z: \\n\", z)"
   ],
   "metadata": {
    "collapsed": false,
    "pycharm": {
     "name": "#%%\n"
    }
   }
  },
  {
   "cell_type": "markdown",
   "source": [
    "我們可以看到，無論是 `y` 或是 `z`，其都具有 `grad_fn` 的標記。要特別注意的是，`requires_grad=True` 僅適用於資料類型為浮點數之張量。\n"
   ],
   "metadata": {
    "collapsed": false
   }
  },
  {
   "cell_type": "markdown",
   "source": [
    "### 數值微分之執行\n",
    "針對已追朔之運算過程，想要獲得與該運算有關的梯度時，可以使用 `.backward()`此方法。在前一小節的例子中，$z = \\sum_{i=1}^3 (2x_{i} - 4)^2$，若想要獲得 $\\frac{\\partial z}{\\partial x}$ 在當下 $x$ 的數值的話，可使用以下的程式碼："
   ],
   "metadata": {
    "collapsed": false
   }
  },
  {
   "cell_type": "code",
   "execution_count": null,
   "outputs": [],
   "source": [
    "z.backward()\n",
    "print(\"dz/dx: \", x.grad)\n"
   ],
   "metadata": {
    "collapsed": false,
    "pycharm": {
     "name": "#%%\n"
    }
   }
  },
  {
   "cell_type": "markdown",
   "source": [
    "接著，由於 $z$ 也可以寫為 $z = \\sum_{i=1}^3 y_{i}^2$，因此，我們是否也可以透過類似的程式碼獲得 $\\frac{\\partial z}{\\partial y}$ 呢？"
   ],
   "metadata": {
    "collapsed": false
   }
  },
  {
   "cell_type": "code",
   "execution_count": null,
   "outputs": [],
   "source": [
    "print(\"dz/dy: \", y.grad)"
   ],
   "metadata": {
    "collapsed": false,
    "pycharm": {
     "name": "#%%\n"
    }
   }
  },
  {
   "cell_type": "markdown",
   "source": [
    "結果是不行，主因在於，`torch` 為了節省記憶體的使用，因此，僅可提供位於計算圖葉子（leaf）張量之一次微分。如果希望能夠獲得 $\\frac{\\partial z}{\\partial y}$ 的話，可以對 `y` 使用 `.retain_grad()` 此方法："
   ],
   "metadata": {
    "collapsed": false
   }
  },
  {
   "cell_type": "code",
   "execution_count": null,
   "outputs": [],
   "source": [
    "y = 2 * x - 4\n",
    "z = (y ** 2).sum()\n",
    "y.retain_grad()\n",
    "z.backward()\n",
    "print(\"dz/dy: \", y.grad)"
   ],
   "metadata": {
    "collapsed": false,
    "pycharm": {
     "name": "#%%\n"
    }
   }
  },
  {
   "cell_type": "markdown",
   "source": [
    "在評估完 $\\frac{\\partial z}{\\partial y}$ 後，讓我們重新檢視一下 `x.grad` 的數值："
   ],
   "metadata": {
    "collapsed": false
   }
  },
  {
   "cell_type": "code",
   "execution_count": null,
   "outputs": [],
   "source": [
    "print(\"dz/dx: \", x.grad)"
   ],
   "metadata": {
    "collapsed": false,
    "pycharm": {
     "name": "#%%\n"
    }
   }
  },
  {
   "cell_type": "markdown",
   "source": [
    "我們會發現，這時的 `x.grad` 數值，變成了原先的兩倍，其背後的原因在於，`.backward()`此方法，會持續地將計算結果累積在變數所對應之 `.grad` 當中。若想要避免持續累積，可以使用 `.grad.zero_()` 方法將 `.grad` 中的數值歸零："
   ],
   "metadata": {
    "collapsed": false
   }
  },
  {
   "cell_type": "code",
   "execution_count": null,
   "outputs": [],
   "source": [
    "x.grad.zero_()\n",
    "y.grad.zero_()\n",
    "print(\"dz/dx: \", x.grad)\n",
    "print(\"dz/dx: \", y.grad)"
   ],
   "metadata": {
    "collapsed": false,
    "pycharm": {
     "name": "#%%\n"
    }
   }
  },
  {
   "cell_type": "markdown",
   "source": [
    "接著，就可以使用原先的程式碼，計算 $\\frac{\\partial z}{\\partial x}$ 與 $\\frac{\\partial z}{\\partial y}$："
   ],
   "metadata": {
    "collapsed": false
   }
  },
  {
   "cell_type": "code",
   "execution_count": null,
   "outputs": [],
   "source": [
    "y = 2 * x - 4\n",
    "z = (y ** 2).sum()\n",
    "y.retain_grad()\n",
    "z.backward()\n",
    "print(\"dz/dx: \", x.grad)\n",
    "print(\"dz/dy: \", y.grad)\n"
   ],
   "metadata": {
    "collapsed": false,
    "pycharm": {
     "name": "#%%\n"
    }
   }
  },
  {
   "cell_type": "markdown",
   "source": [
    "不過要特別注意的是，如果計算圖沒有重新建立，連續進行兩次 `.backward()` 會引發錯誤的訊息。\n",
    "\n",
    "### 可獲得梯度張量之進階控制\n",
    "\n",
    "一個張量是否有被追朔以計算梯度，除了直接列印外，亦可透過 `.requires_grad` 此屬性來觀看"
   ],
   "metadata": {
    "collapsed": false
   }
  },
  {
   "cell_type": "code",
   "execution_count": null,
   "outputs": [],
   "source": [
    "x = torch.tensor([1, 2, 3],\n",
    "                 dtype = torch.float)\n",
    "print(x.requires_grad)"
   ],
   "metadata": {
    "collapsed": false,
    "pycharm": {
     "name": "#%%\n"
    }
   }
  },
  {
   "cell_type": "markdown",
   "source": [
    "如果想將一原先沒有要求梯度之張量，改為需要梯度時，可以使用 `.requires_grad_()` 此方法原地修改該向量的 `requires_grad` 類型："
   ],
   "metadata": {
    "collapsed": false
   }
  },
  {
   "cell_type": "code",
   "execution_count": null,
   "outputs": [],
   "source": [
    "x.requires_grad_(True)\n",
    "print(x.requires_grad)"
   ],
   "metadata": {
    "collapsed": false,
    "pycharm": {
     "name": "#%%\n"
    }
   }
  },
  {
   "cell_type": "markdown",
   "source": [
    "如果想將張量 `x` 拷貝到另一變量 `x_ng`，卻不希望 `x_ng` 的計算會被追朔時，可以使用以下的程式碼："
   ],
   "metadata": {
    "collapsed": false
   }
  },
  {
   "cell_type": "code",
   "execution_count": null,
   "outputs": [],
   "source": [
    "x_ng = x.detach()\n",
    "print(x_ng.requires_grad)"
   ],
   "metadata": {
    "collapsed": false,
    "pycharm": {
     "name": "#%%\n"
    }
   }
  },
  {
   "cell_type": "markdown",
   "source": [
    "最後，如果希望可獲得梯度之向量後續的計算歷程不被追朔的話，可以將計算程式碼置於 `with torch.no_grad():` 此環境中，即"
   ],
   "metadata": {
    "collapsed": false
   }
  },
  {
   "cell_type": "code",
   "execution_count": null,
   "outputs": [],
   "source": [
    "with torch.no_grad():\n",
    "    y = 2 * x - 4\n",
    "    z = (y ** 2).sum()\n",
    "print(y.requires_grad)\n",
    "print(z.requires_grad)"
   ],
   "metadata": {
    "collapsed": false,
    "pycharm": {
     "name": "#%%\n"
    }
   }
  },
  {
   "cell_type": "markdown",
   "source": [
    "## 數值優化\n",
    "\n",
    "### 手動撰寫優化算則\n",
    "\n",
    "前一小節所使用的範例，其計算過程可以寫為\n",
    "\n",
    "$$\n",
    "\\begin{aligned}\n",
    "z &= f(x)\\\\\n",
    " &= \\sum_{i=1}^3\\left[2(x_i-2)\\right]^2 \\\\\n",
    " &= \\sum_{i=1}^3 y^2\n",
    "\\end{aligned}\n",
    "$$\n",
    "\n",
    "若想要找到一 $\\widehat{x}$，其使得 $f(\\widehat{x})$ 達到最小值的話，由於 $z$ 為 $y_1, y_2, y_3$ 的平方和，因此，其會在 $\\widehat{y} = (0, 0, 0)$的地方達到最小值，也意味著 $\\widehat{x} = (2,2,2)$。\n",
    "\n",
    "那麼，我們應該如何使用數值方法，對目標函數進行優化呢？令 $\\theta$ 表示模型參數（其扮演範例中$x$的角色），$\\mathcal{D}(\\theta)$ 表示度量模型好壞的目標函數（其扮演$f(x)$的角色）。根據梯度下降（gradient descent）法，極小元（minimizer）$\\widehat{\\theta}$ 的更新規則為\n",
    "\n",
    "$$\n",
    "\\widehat{\\theta} \\leftarrow \\widehat{\\theta} - s \\times \\frac{\\partial \\mathcal{D}(\\widehat{\\theta})}{\\partial \\theta}\n",
    "$$\n",
    "這裏，$s$ 表示一步伐大小（step size），或稱學習速率（learning rate）。一般來說，當 $\\mathcal{D}$ 足夠圓滑（smooth），且 $s$ 的數值大小適切時，梯度下降法能夠找到一臨界點（critical points），其可能為 $\\mathcal{D}$ 最小值的發生位置。"
   ],
   "metadata": {
    "collapsed": false
   }
  },
  {
   "cell_type": "markdown",
   "source": [
    "在開始進行梯度下降前，我們先定義一函數 `f` 使得`z = f(x)`，並了解起始狀態時，`f(x)` 與 `x` 的數值為何："
   ],
   "metadata": {
    "collapsed": false
   }
  },
  {
   "cell_type": "code",
   "execution_count": null,
   "outputs": [],
   "source": [
    "def f(x):\n",
    "    z = ((2 * x - 4) ** 2).sum()\n",
    "    return z"
   ],
   "metadata": {
    "collapsed": false,
    "pycharm": {
     "name": "#%%\n"
    }
   }
  },
  {
   "cell_type": "code",
   "execution_count": null,
   "outputs": [],
   "source": [
    "x = torch.tensor([1, 2, 3],\n",
    "                 dtype = torch.float,\n",
    "                 requires_grad=True)\n",
    "z = f(x)\n",
    "print(\"f(x) = {:2.3f}, x = {}\".format(z.item(), x.data))"
   ],
   "metadata": {
    "collapsed": false,
    "pycharm": {
     "name": "#%%\n"
    }
   }
  },
  {
   "cell_type": "markdown",
   "source": [
    "使用 `torch` 進行梯度下降，需先計算在當下 `x` 數值下的梯度，接著，根據該梯度的訊息與設定的步伐大小對 `x` 進行更新，即"
   ],
   "metadata": {
    "collapsed": false
   }
  },
  {
   "cell_type": "code",
   "execution_count": null,
   "outputs": [],
   "source": [
    "lr = .1\n",
    "z.backward()\n",
    "with torch.no_grad():\n",
    "    x.sub_(lr * x.grad)\n",
    "    x.grad.zero_()\n",
    "z = f(x)\n",
    "print(\"f(x) = {:2.3f}, x = {}\".format(z.item(), x.data))"
   ],
   "metadata": {
    "collapsed": false,
    "pycharm": {
     "name": "#%%\n"
    }
   }
  },
  {
   "cell_type": "markdown",
   "source": [
    "這裡，我們將學習速率 `lr` 設為0.1，而張量的 `.sub_()` 方法則是就地減去括號內的數值直接更新。透過 `f(x)` 的數值，可觀察到梯度下降的確導致 `z` 數值的下降，而 `x` 也與 $\\widehat{x}=(2,2,2)$ 更加地靠近。\n",
    "\n",
    "梯度下降的算則，需重複前述的程序多次，才可獲得一收斂的解。最簡單的方法，即使用 `for` 迴圈，重複更新$I$次："
   ],
   "metadata": {
    "collapsed": false
   }
  },
  {
   "cell_type": "code",
   "execution_count": null,
   "outputs": [],
   "source": [
    "x = torch.tensor([1, 2, 3],\n",
    "                 dtype = torch.float,\n",
    "                 requires_grad=True)\n",
    "z = f(x)\n",
    "for i in range(1, 21):\n",
    "    z.backward()\n",
    "    with torch.no_grad():\n",
    "        x.sub_(lr * x.grad)\n",
    "    z = f(x)\n",
    "    print(\"iter {:2.0f}, f(x) = {:2.3f}, x = {}\".format(i, z.item(), x.data))\n",
    "    x.grad.zero_()"
   ],
   "metadata": {
    "collapsed": false,
    "pycharm": {
     "name": "#%%\n"
    }
   }
  },
  {
   "cell_type": "markdown",
   "source": [
    "然而，從列印出來的結果來看，20次迭代可能太多了，因此，我們可以進一步要求當梯度絕對值小於某收斂標準 `tol` 時，算則就停止，其所對應之程式碼為："
   ],
   "metadata": {
    "collapsed": false
   }
  },
  {
   "cell_type": "code",
   "execution_count": null,
   "outputs": [],
   "source": [
    "tol = 1e-5\n",
    "epochs = 20\n",
    "x = torch.tensor([1, 2, 3],\n",
    "                 dtype = torch.float,\n",
    "                 requires_grad=True)\n",
    "z = f(x)\n",
    "for epoch in range(epochs):\n",
    "    z.backward()\n",
    "    with torch.no_grad():\n",
    "        x.sub_(lr * x.grad)\n",
    "    z = f(x)\n",
    "    print(\"iter {:2.0f}, z = {:2.3f}, x = {}\".format(\n",
    "        epoch + 1, z.item(), x.data))\n",
    "    if (x.grad.abs().max().item() < tol):\n",
    "        break\n",
    "    x.grad.zero_()"
   ],
   "metadata": {
    "collapsed": false,
    "pycharm": {
     "name": "#%%\n"
    }
   }
  },
  {
   "cell_type": "markdown",
   "source": [
    "### 使用`torch.optim`進行優化\n",
    "\n",
    "由於 `torch` 已內建了進行優化的方法，因此，在絕大多數的情況下，可直接利用 `torch.optim` 的類型來求得函數的最小值。\n",
    "\n",
    "`torch.optim.SGD` 為進行梯度下降法之物件，由於 `torch` 主要用於進行深度學習，在該領域種主要使用的是隨機梯度下降（stochastic gradient descent）或是迷你批次梯度下降（mini-batch gradient descent）來強化優化的效能，因此，`torch` 使用 `SGD` 一詞。事實上，除了計算一階導數時資料量的差異外，`SGD` 與傳統的梯度下降並無差異。\n",
    "\n",
    "`torch.optim.SGD` 可透過以下的程式碼來使用："
   ],
   "metadata": {
    "collapsed": false
   }
  },
  {
   "cell_type": "code",
   "execution_count": null,
   "outputs": [],
   "source": [
    "x = torch.tensor([1, 2, 3],\n",
    "                 dtype = torch.float,\n",
    "                 requires_grad=True)\n",
    "opt = torch.optim.SGD((x,), lr=.1)\n",
    "z = f(x)\n",
    "for epoch in range(epochs):\n",
    "    z.backward()\n",
    "    opt.step()\n",
    "    z = f(x)\n",
    "    print(\"iter {:2.0f}, z = {:2.3f}, x = {}\".format(\n",
    "        epoch + 1, z.item(), x.data))\n",
    "    if (x.grad.abs().max().item() < tol):\n",
    "        break\n",
    "    opt.zero_grad()"
   ],
   "metadata": {
    "collapsed": false,
    "pycharm": {
     "name": "#%%\n"
    }
   }
  },
  {
   "cell_type": "markdown",
   "source": [
    "這裡，我們使用 `torch.optim.SGD` 來生成優化器（optimizer）物件 `opt`，其在生成時，需要指定其追朔的變量，並以一可迭代的物件（iterable object）作為輸入，因此，在該程式碼中，我們將 `x` 以一元組（tuple）的方式來輸入，並指定學習速率 `lr=.1`。使用內建優化器時，仍須手動對目標函數執行 `.backward()`，但更新估計值的步驟，可使用優化器的 `.step()` 來進行，而消除變量的 `.grad`，則可使用優化器的 `.zero_grad()` 方法。\n",
    "\n",
    "\n",
    "`torch.optim.SGD` 容許使用者加入動能（momentum）$m$（其預設為 0），此時，優化算則會改為\n",
    "\n",
    "$$\n",
    "\\begin{aligned}\n",
    "\\delta & \\leftarrow m \\times  \\delta + \\frac{\\partial \\mathcal{D}(\\widehat{\\theta})}{\\partial \\theta} \\\\\n",
    "\\widehat{\\theta} &\\leftarrow \\widehat{\\theta} - s \\times \\delta\n",
    "\\end{aligned}\n",
    "$$\n",
    "\n",
    "這裡，$\\delta$ 表示更新的方向。此算則中，更新的方向不單單倚賴當下目標函數的梯度，其亦考慮到先前的梯度方向，因此，引入動能會使得求解的路徑更為平滑。\n",
    "\n",
    "在 `torch.optim.SGD` 中，有許多不同的優化器（見[`torch.optim`頁面](https://pytorch.org/docs/stable/optim.html)），如\n",
    "\n",
    "+ `Adadelta`（見[ADADELTA: An Adaptive Learning Rate Method](https://arxiv.org/abs/1212.5701)）\n",
    "+ `Adagrad`（見[Adaptive Subgradient Methods for Online Learning and Stochastic Optimization](https://jmlr.org/papers/v12/duchi11a.html)）\n",
    "+ `Adam`（見[Adam: A Method for Stochastic Optimization](https://arxiv.org/abs/1412.6980)）\n",
    "+ `LBFGS`（見[On the limited memory BFGS method for large scale optimization](https://doi.org/10.1007/BF01589116)）\n",
    "+ `Adadelta`（見[ADADELTA: An Adaptive Learning Rate Method](https://arxiv.org/abs/1212.5701)）\n",
    "+ `RMSprop`（見[Generating Sequences With Recurrent Neural Networks](https://arxiv.org/abs/1308.0850)）\n",
    "\n",
    "讀者可自行深入了解這些方法。\n",
    "\n",
    "### 使用LBFGS法進行優化\n",
    "在使用 `torch.optim.LBFGS` 時，其物件的設計，與其它的優化器有不少的差別。`torch.optim.LBFGS` 容許使用者直接指定最多得迭代次數、收斂標準、以及線搜尋的方法，然而，其在執行時，需要定義一個closure，其內部需執行梯度之計算，以及對於函數值之評估。"
   ],
   "metadata": {
    "collapsed": false
   }
  },
  {
   "cell_type": "code",
   "execution_count": null,
   "outputs": [],
   "source": [
    "x = torch.tensor([1, 2, 3],\n",
    "                 dtype = torch.float,\n",
    "                 requires_grad=True)\n",
    "opt = torch.optim.LBFGS((x,), lr=1, max_iter = 20,\n",
    "                        tolerance_grad = tol,\n",
    "                        line_search_fn = \"strong_wolfe\")\n",
    "def closure():\n",
    "    opt.zero_grad()\n",
    "    z = ((2 * x - 4) ** 2).sum()\n",
    "    z.backward()\n",
    "    print(\"descent!!!\")\n",
    "    return z\n",
    "opt.step(closure)"
   ],
   "metadata": {
    "collapsed": false,
    "pycharm": {
     "name": "#%%\n"
    }
   }
  },
  {
   "cell_type": "markdown",
   "source": [
    "### 計算黑塞矩陣\n",
    "`torch.autograd.functional` 中有 `hessian` 此函數，其可用於計算純量函數之黑塞矩陣，這意味著研究者可以自行撰寫牛頓法之算則。"
   ],
   "metadata": {
    "collapsed": false
   }
  },
  {
   "cell_type": "code",
   "execution_count": null,
   "outputs": [],
   "source": [
    "from torch.autograd.functional import hessian\n",
    "x = torch.tensor([1, 2, 3],\n",
    "                 dtype = torch.float,\n",
    "                 requires_grad=True)\n",
    "def g(x):\n",
    "    z = (x ** 3).sum()\n",
    "    return z\n",
    "print(hessian(g, x))\n",
    "\n"
   ],
   "metadata": {
    "collapsed": false,
    "pycharm": {
     "name": "#%%\n"
    }
   }
  },
  {
   "cell_type": "markdown",
   "source": [
    "## 實徵範例與練習\n",
    "\n",
    "### 練習"
   ],
   "metadata": {
    "collapsed": false
   }
  },
  {
   "cell_type": "code",
   "execution_count": null,
   "outputs": [],
   "source": [
    "# set seed\n",
    "torch.manual_seed(246437)\n",
    "\n",
    "# write a function to generate data\n",
    "from torch.distributions import Bernoulli\n",
    "def generate_data(n_sample,\n",
    "                  weight,\n",
    "                  bias = 0,\n",
    "                  mean_feature = 0,\n",
    "                  std_feature = 1,\n",
    "                  dtype = torch.float64):\n",
    "    weight = torch.tensor(weight, dtype = dtype)\n",
    "    n_feature = weight.shape[0]\n",
    "    x = torch.normal(mean = mean_feature,\n",
    "                     std = std_feature,\n",
    "                     size = (n_sample, n_feature),\n",
    "                     dtype = dtype)\n",
    "    weight = weight.view(size = (-1, 1))\n",
    "    logit = bias + x @ weight\n",
    "    bernoulli = Bernoulli(logits = logit)\n",
    "    y = bernoulli.sample()\n",
    "    return x, y\n",
    "\n",
    "# run generate_data\n",
    "x, y = generate_data(n_sample = 1000,\n",
    "                     weight = [-5, 3, 0],\n",
    "                     bias = 2,\n",
    "                     mean_feature = 10,\n",
    "                     std_feature = 3,\n",
    "                     dtype = torch.float64)"
   ],
   "metadata": {
    "collapsed": false,
    "pycharm": {
     "name": "#%%\n"
    }
   }
  },
  {
   "cell_type": "markdown",
   "source": [
    "請根據前述程式碼產生的資料，撰寫以下的題目。\n",
    "\n",
    "1. 請寫一個函數`cal_pi`，其輸入為一$N \\times P+1$矩陣 $X$ 與 $P+1$ 維向量 $w$，輸出為邏輯斯回歸的 $N$ 維向量 $\\pi(X)$（$w$ 要是可微分的）。\n",
    "\n",
    "2. 請寫一個函數`cal_loss`，其輸入為 $y$ 與 $\\pi(X)$，輸出為邏輯斯回歸的估計準則。\n",
    "\n",
    "3. 請使用 1 和 2 的成果，使用 `torch.optim.SGD` 進行優化。\n",
    "\n",
    "4. 請使用 1 和 2 的成果，使用 `torch.optim.BFGS` 進行優化。\n",
    "\n",
    "5. (bonus) 請使用 1 和 2 的成果，撰寫牛頓法進行優化。\n"
   ],
   "metadata": {
    "collapsed": false
   }
  }
 ],
 "metadata": {
  "kernelspec": {
   "display_name": "Python 3",
   "language": "python",
   "name": "python3"
  },
  "language_info": {
   "codemirror_mode": {
    "name": "ipython",
    "version": 2
   },
   "file_extension": ".py",
   "mimetype": "text/x-python",
   "name": "python",
   "nbconvert_exporter": "python",
   "pygments_lexer": "ipython2",
   "version": "2.7.6"
  }
 },
 "nbformat": 4,
 "nbformat_minor": 0
}