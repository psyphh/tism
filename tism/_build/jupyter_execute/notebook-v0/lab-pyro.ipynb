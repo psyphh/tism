{
 "cells": [
  {
   "cell_type": "markdown",
   "metadata": {
    "collapsed": false
   },
   "source": [
    "\n",
    "Lab: `pyro`簡介\n",
    "================\n",
    "在 `colab` 上，請先使用以下指定安裝 `pyro`\n",
    "\n",
    "`!pip3 install pyro-ppl`"
   ]
  },
  {
   "cell_type": "code",
   "execution_count": 1,
   "metadata": {
    "collapsed": false,
    "execution": {
     "iopub.execute_input": "2020-12-23T04:55:04.232054Z",
     "iopub.status.busy": "2020-12-23T04:55:04.231485Z",
     "iopub.status.idle": "2020-12-23T04:55:04.767399Z",
     "shell.execute_reply": "2020-12-23T04:55:04.767816Z"
    },
    "pycharm": {
     "name": "#%%\n"
    }
   },
   "outputs": [],
   "source": [
    "import torch\n",
    "import pyro"
   ]
  },
  {
   "cell_type": "markdown",
   "metadata": {
    "collapsed": false
   },
   "source": [
    "## `pyro` 產生隨機資料\n",
    "\n",
    "`pyro` 產生隨機資料的方式與 `torch.distribution` 很類似，但其主要透過 `pyro.sample` 進行抽樣，且每次的抽樣，都可以對該隨機變數設定一名稱。在以下的例子中，我們先後產生滿足邏輯斯迴歸架構之 `data_x` 與 `data_y`："
   ]
  },
  {
   "cell_type": "code",
   "execution_count": 2,
   "metadata": {
    "collapsed": false,
    "execution": {
     "iopub.execute_input": "2020-12-23T04:55:04.772395Z",
     "iopub.status.busy": "2020-12-23T04:55:04.771824Z",
     "iopub.status.idle": "2020-12-23T04:55:04.777456Z",
     "shell.execute_reply": "2020-12-23T04:55:04.777910Z"
    },
    "pycharm": {
     "name": "#%%\n"
    }
   },
   "outputs": [],
   "source": [
    "torch.manual_seed(246437)\n",
    "n_sample = 10000\n",
    "n_feature = 3\n",
    "data_x = pyro.sample(\"data_x\", pyro.distributions.MultivariateNormal(\n",
    "            loc = torch.zeros(n_sample, n_feature),\n",
    "            scale_tril = torch.eye(n_feature)))"
   ]
  },
  {
   "cell_type": "code",
   "execution_count": 3,
   "metadata": {
    "collapsed": false,
    "execution": {
     "iopub.execute_input": "2020-12-23T04:55:04.782038Z",
     "iopub.status.busy": "2020-12-23T04:55:04.781470Z",
     "iopub.status.idle": "2020-12-23T04:55:04.787396Z",
     "shell.execute_reply": "2020-12-23T04:55:04.787838Z"
    },
    "pycharm": {
     "name": "#%%\n"
    }
   },
   "outputs": [
    {
     "name": "stdout",
     "output_type": "stream",
     "text": [
      "tensor([0.0063, 0.0103, 0.0074])\n",
      "tensor([[ 1.0085,  0.0217,  0.0029],\n",
      "        [ 0.0217,  0.9884, -0.0095],\n",
      "        [ 0.0029, -0.0095,  0.9971]])\n"
     ]
    }
   ],
   "source": [
    "mu_x = data_x.mean(axis = 0)\n",
    "sigma_x = (data_x - data_x.mean(axis = 0)).T @ (data_x - data_x.mean(axis = 0)) / n_sample\n",
    "print(mu_x)\n",
    "print(sigma_x)\n"
   ]
  },
  {
   "cell_type": "code",
   "execution_count": 4,
   "metadata": {
    "collapsed": false,
    "execution": {
     "iopub.execute_input": "2020-12-23T04:55:04.792682Z",
     "iopub.status.busy": "2020-12-23T04:55:04.791898Z",
     "iopub.status.idle": "2020-12-23T04:55:04.795156Z",
     "shell.execute_reply": "2020-12-23T04:55:04.794758Z"
    },
    "pycharm": {
     "name": "#%%\n"
    }
   },
   "outputs": [],
   "source": [
    "weight_true = torch.tensor([[10.], [5.], [-5.]])\n",
    "intercept_true = torch.tensor(-5.)\n",
    "data_y = pyro.sample(\"data_y\", pyro.distributions.Bernoulli(\n",
    "    logits = intercept_true + data_x @ weight_true))\n",
    "data = {\"y\":data_y, \"x\":data_x}\n",
    "\n"
   ]
  },
  {
   "cell_type": "markdown",
   "metadata": {
    "collapsed": false
   },
   "source": [
    "## `pyro` 對邏輯斯回歸進行最大概似法估計"
   ]
  },
  {
   "cell_type": "markdown",
   "metadata": {
    "collapsed": false,
    "pycharm": {
     "name": "#%% md\n"
    }
   },
   "source": [
    "使用 `pyro` 進行最大概似法估計，最簡單的方法是透過 `pyro.infer.SVI` 此物件進行，該物件主要用於進行變分推論（variational inference），在使用 `pyro.infer.SVI` 時，使用者需設定一模型（`model`）之機率分佈，以及一指引（`guide`）之機率分佈，由於我們在這邊使用最大概似法，因此，將指引設為什麼都沒做的函數。"
   ]
  },
  {
   "cell_type": "code",
   "execution_count": 5,
   "metadata": {
    "collapsed": false,
    "execution": {
     "iopub.execute_input": "2020-12-23T04:55:04.800129Z",
     "iopub.status.busy": "2020-12-23T04:55:04.799403Z",
     "iopub.status.idle": "2020-12-23T04:55:04.801813Z",
     "shell.execute_reply": "2020-12-23T04:55:04.802314Z"
    },
    "pycharm": {
     "name": "#%%\n"
    }
   },
   "outputs": [],
   "source": [
    "def model_lr(data):\n",
    "    weight = pyro.param(\"weight\", torch.zeros((3,1)))\n",
    "    intercept = pyro.param(\"intercept\", torch.zeros(()))\n",
    "    logits = intercept + data[\"x\"] @ weight\n",
    "    y = pyro.sample(\"y\", pyro.distributions.Bernoulli(logits = logits),\n",
    "                    obs = data[\"y\"])\n",
    "    return y\n",
    "\n",
    "def guide_lr(data):\n",
    "    pass"
   ]
  },
  {
   "cell_type": "markdown",
   "metadata": {
    "collapsed": false,
    "pycharm": {
     "name": "#%% md\n"
    }
   },
   "source": [
    "接著，我們就可以使用 `pyro.infer.SVI` 來進行優化。"
   ]
  },
  {
   "cell_type": "code",
   "execution_count": 6,
   "metadata": {
    "collapsed": false,
    "execution": {
     "iopub.execute_input": "2020-12-23T04:55:04.807446Z",
     "iopub.status.busy": "2020-12-23T04:55:04.806750Z",
     "iopub.status.idle": "2020-12-23T04:55:04.957536Z",
     "shell.execute_reply": "2020-12-23T04:55:04.958000Z"
    },
    "pycharm": {
     "name": "#%%\n"
    }
   },
   "outputs": [
    {
     "name": "stdout",
     "output_type": "stream",
     "text": [
      "[iter 0]  loss: 6931.4731\n",
      "[iter 50]  loss: 984.7116\n",
      "[iter 100]  loss: 969.8328\n",
      "[iter 150]  loss: 967.9623\n",
      "[iter 200]  loss: 967.8027\n"
     ]
    }
   ],
   "source": [
    "lr = 50. / n_sample\n",
    "n_steps = 201\n",
    "\n",
    "pyro.clear_param_store()\n",
    "optimizer = pyro.optim.SGD({\"lr\": lr})\n",
    "svi = pyro.infer.SVI(model_lr, guide_lr, optimizer,\n",
    "                     loss=pyro.infer.Trace_ELBO())\n",
    "\n",
    "for step in range(n_steps):\n",
    "    loss = svi.step(data)\n",
    "    if step % 50 == 0:\n",
    "        print('[iter {}]  loss: {:.4f}'.format(step, loss))"
   ]
  },
  {
   "cell_type": "code",
   "execution_count": 7,
   "metadata": {
    "collapsed": false,
    "execution": {
     "iopub.execute_input": "2020-12-23T04:55:04.961713Z",
     "iopub.status.busy": "2020-12-23T04:55:04.961071Z",
     "iopub.status.idle": "2020-12-23T04:55:04.964921Z",
     "shell.execute_reply": "2020-12-23T04:55:04.965408Z"
    },
    "pycharm": {
     "name": "#%%\n"
    }
   },
   "outputs": [
    {
     "name": "stdout",
     "output_type": "stream",
     "text": [
      "weight\n",
      "intercept\n",
      "tensor([[10.1213],\n",
      "        [ 5.0705],\n",
      "        [-5.0297]], requires_grad=True)\n",
      "tensor(-5.0715, requires_grad=True)\n"
     ]
    }
   ],
   "source": [
    "for name in pyro.get_param_store():\n",
    "    print(name)\n",
    "\n",
    "print(pyro.param(\"weight\"))\n",
    "print(pyro.param(\"intercept\"))\n",
    "\n"
   ]
  },
  {
   "cell_type": "markdown",
   "metadata": {
    "collapsed": false
   },
   "source": [
    "## `pyro` 對因素分析模型進行最大概似法估計\n",
    "以下程式碼用於產生因素分析之資料"
   ]
  },
  {
   "cell_type": "code",
   "execution_count": 8,
   "metadata": {
    "collapsed": true,
    "execution": {
     "iopub.execute_input": "2020-12-23T04:55:04.973532Z",
     "iopub.status.busy": "2020-12-23T04:55:04.972923Z",
     "iopub.status.idle": "2020-12-23T04:55:04.977692Z",
     "shell.execute_reply": "2020-12-23T04:55:04.978170Z"
    }
   },
   "outputs": [],
   "source": [
    "def create_fa_model(n_factor, n_item, ld, psi = None, rho = None):\n",
    "    if (n_item % n_factor) != 0:\n",
    "        n_item = n_factor * (n_item // n_factor)\n",
    "    loading = torch.zeros((n_item, n_factor))\n",
    "    item_per_factor = (n_item // n_factor)\n",
    "    for i in range(n_factor):\n",
    "        for j in range(i * item_per_factor,\n",
    "                       (i + 1) * item_per_factor):\n",
    "            loading[j, i] = ld\n",
    "    if rho is None:\n",
    "        cor = torch.eye(n_factor)\n",
    "    else:\n",
    "        unit = torch.ones((n_factor, 1))\n",
    "        identity = torch.eye(n_factor)\n",
    "        cor = rho * (unit @ unit.T) + (1 - rho) * identity\n",
    "    if psi is None:\n",
    "        uniqueness = 1 - torch.diagonal(loading @ cor @ loading.T)\n",
    "    else:\n",
    "        uniqueness = psi * torch.ones((n_item, ))\n",
    "    return loading, uniqueness, cor\n",
    "\n",
    "def generate_fa_data(n_sample, loading, uniqueness, cor):\n",
    "    n_item = loading.size()[0]\n",
    "    mean = torch.zeros((n_item, ))\n",
    "    cov = loading @ cor @ loading.T + torch.diag_embed(uniqueness)\n",
    "    mvn = torch.distributions.MultivariateNormal(\n",
    "        loc = mean, scale_tril = torch.cholesky(cov))\n",
    "    data = mvn.sample((n_sample,))\n",
    "    return data\n",
    "\n",
    "torch.manual_seed(246437)\n",
    "n_factor = 4\n",
    "n_item = 12\n",
    "n_sample = 10000\n",
    "loading_true, uniqueness_true, cor_true = create_fa_model(n_factor, n_item, ld = .7)\n",
    "data = generate_fa_data(n_sample,\n",
    "                        loading = loading_true,\n",
    "                        uniqueness = uniqueness_true,\n",
    "                        cor = cor_true)"
   ]
  },
  {
   "cell_type": "markdown",
   "metadata": {
    "collapsed": false
   },
   "source": [
    "接著，我們設定觀察變項之邊際分佈。這邊，我們在模型設定時，使用了 `pyro.plate` 來進行重複之設定。"
   ]
  },
  {
   "cell_type": "code",
   "execution_count": 9,
   "metadata": {
    "collapsed": false,
    "execution": {
     "iopub.execute_input": "2020-12-23T04:55:04.983355Z",
     "iopub.status.busy": "2020-12-23T04:55:04.982638Z",
     "iopub.status.idle": "2020-12-23T04:55:04.984655Z",
     "shell.execute_reply": "2020-12-23T04:55:04.985117Z"
    },
    "pycharm": {
     "name": "#%%\n"
    }
   },
   "outputs": [],
   "source": [
    "def model_fa(data):\n",
    "    loading = pyro.param(\"loading\", 0.5 * loading_true)\n",
    "    uniqueness = pyro.param(\"uniqueness\", 0.5 * uniqueness_true)\n",
    "    loading_mask = 1 *  (loading_true != 0)\n",
    "    with pyro.plate(\"data\", data.size(0)):\n",
    "        pyro.sample(\"x\", pyro.distributions.MultivariateNormal(\n",
    "            loc = torch.zeros((loading.size()[0], )),\n",
    "            scale_tril = torch.cholesky(\n",
    "                (loading * loading_mask) @ (loading * loading_mask).T + torch.diag_embed(uniqueness))),\n",
    "            obs=data)\n",
    "\n",
    "def guide_fa(data):\n",
    "    pass"
   ]
  },
  {
   "cell_type": "code",
   "execution_count": 10,
   "metadata": {
    "collapsed": false,
    "execution": {
     "iopub.execute_input": "2020-12-23T04:55:04.990072Z",
     "iopub.status.busy": "2020-12-23T04:55:04.989466Z",
     "iopub.status.idle": "2020-12-23T04:55:05.609552Z",
     "shell.execute_reply": "2020-12-23T04:55:05.610040Z"
    },
    "pycharm": {
     "name": "#%%\n"
    }
   },
   "outputs": [
    {
     "name": "stdout",
     "output_type": "stream",
     "text": [
      "[iter 0]  loss: 189637.8906\n"
     ]
    },
    {
     "name": "stdout",
     "output_type": "stream",
     "text": [
      "[iter 50]  loss: 156899.3438\n"
     ]
    },
    {
     "name": "stdout",
     "output_type": "stream",
     "text": [
      "[iter 100]  loss: 156943.4688\n"
     ]
    },
    {
     "name": "stdout",
     "output_type": "stream",
     "text": [
      "[iter 150]  loss: 156944.6719\n"
     ]
    },
    {
     "name": "stdout",
     "output_type": "stream",
     "text": [
      "[iter 200]  loss: 156944.6719\n"
     ]
    }
   ],
   "source": [
    "lr = 1. / n_sample\n",
    "n_steps = 201\n",
    "pyro.clear_param_store()\n",
    "optimizer = pyro.optim.SGD({\"lr\": lr})\n",
    "svi = pyro.infer.SVI(model_fa, guide_fa, optimizer, loss=pyro.infer.Trace_ELBO())\n",
    "\n",
    "for step in range(n_steps):\n",
    "    loss = svi.step(data)\n",
    "    if step % 50 == 0:\n",
    "        print('[iter {}]  loss: {:.4f}'.format(step, loss))"
   ]
  },
  {
   "cell_type": "code",
   "execution_count": 11,
   "metadata": {
    "collapsed": false,
    "execution": {
     "iopub.execute_input": "2020-12-23T04:55:05.613597Z",
     "iopub.status.busy": "2020-12-23T04:55:05.612938Z",
     "iopub.status.idle": "2020-12-23T04:55:05.616809Z",
     "shell.execute_reply": "2020-12-23T04:55:05.617233Z"
    },
    "pycharm": {
     "name": "#%%\n"
    }
   },
   "outputs": [
    {
     "name": "stdout",
     "output_type": "stream",
     "text": [
      "tensor([[0.6992, 0.0000, 0.0000, 0.0000],\n",
      "        [0.6954, 0.0000, 0.0000, 0.0000],\n",
      "        [0.6993, 0.0000, 0.0000, 0.0000],\n",
      "        [0.0000, 0.7133, 0.0000, 0.0000],\n",
      "        [0.0000, 0.7040, 0.0000, 0.0000],\n",
      "        [0.0000, 0.7090, 0.0000, 0.0000],\n",
      "        [0.0000, 0.0000, 0.7618, 0.0000],\n",
      "        [0.0000, 0.0000, 0.6650, 0.0000],\n",
      "        [0.0000, 0.0000, 0.6700, 0.0000],\n",
      "        [0.0000, 0.0000, 0.0000, 0.6963],\n",
      "        [0.0000, 0.0000, 0.0000, 0.7116],\n",
      "        [0.0000, 0.0000, 0.0000, 0.7105]], requires_grad=True)\n",
      "tensor([0.5055, 0.5043, 0.5135, 0.5078, 0.5059, 0.5122, 0.5224, 0.5030, 0.5064,\n",
      "        0.5262, 0.4993, 0.5094], requires_grad=True)\n"
     ]
    }
   ],
   "source": [
    "print(pyro.param(\"loading\"))\n",
    "print(pyro.param(\"uniqueness\"))\n"
   ]
  },
  {
   "cell_type": "markdown",
   "metadata": {
    "collapsed": false
   },
   "source": [
    "前述設定的模型中，我們在設定模型與指引時，皆直接將樣本資料視為函數的輸入，事實上，此給定的動作可以事後在使用 `pyro.poutine.condition` 進行。\n"
   ]
  },
  {
   "cell_type": "code",
   "execution_count": 12,
   "metadata": {
    "collapsed": false,
    "execution": {
     "iopub.execute_input": "2020-12-23T04:55:05.622720Z",
     "iopub.status.busy": "2020-12-23T04:55:05.622089Z",
     "iopub.status.idle": "2020-12-23T04:55:05.623895Z",
     "shell.execute_reply": "2020-12-23T04:55:05.624420Z"
    },
    "pycharm": {
     "name": "#%%\n"
    }
   },
   "outputs": [],
   "source": [
    "def model_fa():\n",
    "    loading = pyro.param(\"loading\", 0.5 * loading_true)\n",
    "    uniqueness = pyro.param(\"uniqueness\", 0.5 * uniqueness_true)\n",
    "    loading_mask = 1 *  (loading_true != 0)\n",
    "    with pyro.plate(\"data\", data.size(0)):\n",
    "        pyro.sample(\"x\", pyro.distributions.MultivariateNormal(\n",
    "            loc = torch.zeros((loading.size()[0], )),\n",
    "            scale_tril = torch.cholesky(\n",
    "                (loading * loading_mask) @ (loading * loading_mask).T + torch.diag_embed(uniqueness))))\n",
    "\n",
    "def guide_fa():\n",
    "    pass\n",
    "\n",
    "\n",
    "model_fa_cond = pyro.poutine.condition(model_fa, data={\"x\": data})\n",
    "guide_fa_cond = pyro.poutine.condition(guide_fa, data={\"x\": data})"
   ]
  },
  {
   "cell_type": "markdown",
   "metadata": {
    "collapsed": false
   },
   "source": [
    "接著，我們可以把 `model_fa_cond` 與 `guide_fa_cond` 丟到 `pyro.infer.SVI` 進行優化。"
   ]
  },
  {
   "cell_type": "code",
   "execution_count": 13,
   "metadata": {
    "collapsed": false,
    "execution": {
     "iopub.execute_input": "2020-12-23T04:55:05.629393Z",
     "iopub.status.busy": "2020-12-23T04:55:05.628714Z",
     "iopub.status.idle": "2020-12-23T04:55:06.231321Z",
     "shell.execute_reply": "2020-12-23T04:55:06.231783Z"
    },
    "pycharm": {
     "name": "#%%\n"
    }
   },
   "outputs": [
    {
     "name": "stdout",
     "output_type": "stream",
     "text": [
      "[iter 0]  loss: 189637.8906\n"
     ]
    },
    {
     "name": "stdout",
     "output_type": "stream",
     "text": [
      "[iter 50]  loss: 156899.3438\n"
     ]
    },
    {
     "name": "stdout",
     "output_type": "stream",
     "text": [
      "[iter 100]  loss: 156943.4688\n"
     ]
    },
    {
     "name": "stdout",
     "output_type": "stream",
     "text": [
      "[iter 150]  loss: 156944.6719\n"
     ]
    },
    {
     "name": "stdout",
     "output_type": "stream",
     "text": [
      "[iter 200]  loss: 156944.6719\n"
     ]
    }
   ],
   "source": [
    "lr = 1. / n_sample\n",
    "n_steps = 201\n",
    "pyro.clear_param_store()\n",
    "optimizer = pyro.optim.SGD({\"lr\": lr})\n",
    "svi = pyro.infer.SVI(model_fa_cond, guide_fa_cond, optimizer, loss=pyro.infer.Trace_ELBO())\n",
    "\n",
    "for step in range(n_steps):\n",
    "    loss = svi.step()\n",
    "    if step % 50 == 0:\n",
    "        print('[iter {}]  loss: {:.4f}'.format(step, loss))"
   ]
  },
  {
   "cell_type": "code",
   "execution_count": 14,
   "metadata": {
    "collapsed": false,
    "execution": {
     "iopub.execute_input": "2020-12-23T04:55:06.235253Z",
     "iopub.status.busy": "2020-12-23T04:55:06.234652Z",
     "iopub.status.idle": "2020-12-23T04:55:06.239419Z",
     "shell.execute_reply": "2020-12-23T04:55:06.239953Z"
    },
    "pycharm": {
     "name": "#%%\n"
    }
   },
   "outputs": [
    {
     "name": "stdout",
     "output_type": "stream",
     "text": [
      "tensor([[0.6992, 0.0000, 0.0000, 0.0000],\n",
      "        [0.6954, 0.0000, 0.0000, 0.0000],\n",
      "        [0.6993, 0.0000, 0.0000, 0.0000],\n",
      "        [0.0000, 0.7133, 0.0000, 0.0000],\n",
      "        [0.0000, 0.7040, 0.0000, 0.0000],\n",
      "        [0.0000, 0.7090, 0.0000, 0.0000],\n",
      "        [0.0000, 0.0000, 0.7618, 0.0000],\n",
      "        [0.0000, 0.0000, 0.6650, 0.0000],\n",
      "        [0.0000, 0.0000, 0.6700, 0.0000],\n",
      "        [0.0000, 0.0000, 0.0000, 0.6963],\n",
      "        [0.0000, 0.0000, 0.0000, 0.7116],\n",
      "        [0.0000, 0.0000, 0.0000, 0.7105]], requires_grad=True)\n",
      "tensor([0.5055, 0.5043, 0.5135, 0.5078, 0.5059, 0.5122, 0.5224, 0.5030, 0.5064,\n",
      "        0.5262, 0.4993, 0.5094], requires_grad=True)\n"
     ]
    }
   ],
   "source": [
    "print(pyro.param(\"loading\"))\n",
    "print(pyro.param(\"uniqueness\"))\n"
   ]
  },
  {
   "cell_type": "markdown",
   "metadata": {
    "collapsed": false,
    "pycharm": {
     "name": "#%% md\n"
    }
   },
   "source": [
    "### 利用隨機 EM 進行最大概似法"
   ]
  },
  {
   "cell_type": "code",
   "execution_count": 15,
   "metadata": {
    "collapsed": false,
    "execution": {
     "iopub.execute_input": "2020-12-23T04:55:06.245406Z",
     "iopub.status.busy": "2020-12-23T04:55:06.244769Z",
     "iopub.status.idle": "2020-12-23T04:55:06.246758Z",
     "shell.execute_reply": "2020-12-23T04:55:06.247282Z"
    },
    "pycharm": {
     "name": "#%%\n"
    }
   },
   "outputs": [],
   "source": [
    "def joint_model():\n",
    "    loading = pyro.param(\"loading\", 0.7 * loading_true)\n",
    "    uniqueness = pyro.param(\"uniqueness\", 0.7 * uniqueness_true)\n",
    "    loading_mask = 1 *  (loading_true != 0)\n",
    "    with pyro.plate(\"sample_plate\", n_sample):\n",
    "        eta = pyro.sample(\"eta\", pyro.distributions.MultivariateNormal(\n",
    "            loc = torch.zeros(n_factor),\n",
    "            scale_tril = torch.eye(n_factor)))\n",
    "        x = pyro.sample(\"x\", pyro.distributions.MultivariateNormal(\n",
    "                loc = eta @ (loading * loading_mask).T,\n",
    "                scale_tril = torch.cholesky(torch.diag(uniqueness))))\n",
    "    return x\n",
    "\n",
    "def joint_guide():\n",
    "    pass"
   ]
  },
  {
   "cell_type": "code",
   "execution_count": 16,
   "metadata": {
    "collapsed": false,
    "execution": {
     "iopub.execute_input": "2020-12-23T04:55:06.253607Z",
     "iopub.status.busy": "2020-12-23T04:55:06.252892Z",
     "iopub.status.idle": "2020-12-23T04:55:11.301307Z",
     "shell.execute_reply": "2020-12-23T04:55:11.301790Z"
    },
    "pycharm": {
     "name": "#%%\n"
    }
   },
   "outputs": [
    {
     "name": "stdout",
     "output_type": "stream",
     "text": [
      "[iter 0]  loss: 198613.4375\n"
     ]
    }
   ],
   "source": [
    "lr = .1 / n_sample\n",
    "n_steps = 1\n",
    "pyro.clear_param_store()\n",
    "\n",
    "\n",
    "for step in range(n_steps):\n",
    "    model_cond_x = pyro.poutine.condition(joint_model, data = {\"x\": data})\n",
    "    nuts_kernel = pyro.infer.NUTS(model_cond_x)\n",
    "    mcmc = pyro.infer.MCMC(nuts_kernel, num_samples=1,\n",
    "                           warmup_steps = 20, disable_progbar = True)\n",
    "    mcmc.run()\n",
    "    eta = mcmc.get_samples()[\"eta\"].reshape((-1, 4))\n",
    "    model_cond_x_eta = pyro.poutine.condition(joint_model,\n",
    "                                              data = {\"x\": data,\n",
    "                                            \"eta\":eta})\n",
    "    guide_cond_x_eta = pyro.poutine.condition(joint_guide,\n",
    "                                              data = {\"x\": data,\n",
    "                                            \"eta\":eta})\n",
    "    optimizer = pyro.optim.SGD({\"lr\": lr})\n",
    "    svi = pyro.infer.SVI(model_cond_x_eta,\n",
    "                         guide_cond_x_eta,\n",
    "                         optimizer,\n",
    "                         loss=pyro.infer.Trace_ELBO())\n",
    "    loss = svi.step()\n",
    "    if step % 5 == 0:\n",
    "        print('[iter {}]  loss: {:.4f}'.format(step, loss))\n",
    "\n"
   ]
  },
  {
   "cell_type": "code",
   "execution_count": 17,
   "metadata": {
    "collapsed": false,
    "execution": {
     "iopub.execute_input": "2020-12-23T04:55:11.305632Z",
     "iopub.status.busy": "2020-12-23T04:55:11.304892Z",
     "iopub.status.idle": "2020-12-23T04:55:11.308986Z",
     "shell.execute_reply": "2020-12-23T04:55:11.309415Z"
    },
    "pycharm": {
     "name": "#%%\n"
    }
   },
   "outputs": [
    {
     "name": "stdout",
     "output_type": "stream",
     "text": [
      "tensor([[0.5296, 0.0000, 0.0000, 0.0000],\n",
      "        [0.5256, 0.0000, 0.0000, 0.0000],\n",
      "        [0.5310, 0.0000, 0.0000, 0.0000],\n",
      "        [0.0000, 0.5319, 0.0000, 0.0000],\n",
      "        [0.0000, 0.5296, 0.0000, 0.0000],\n",
      "        [0.0000, 0.5306, 0.0000, 0.0000],\n",
      "        [0.0000, 0.0000, 0.5279, 0.0000],\n",
      "        [0.0000, 0.0000, 0.5289, 0.0000],\n",
      "        [0.0000, 0.0000, 0.5263, 0.0000],\n",
      "        [0.0000, 0.0000, 0.0000, 0.5300],\n",
      "        [0.0000, 0.0000, 0.0000, 0.5290],\n",
      "        [0.0000, 0.0000, 0.0000, 0.5315]], requires_grad=True)\n",
      "tensor([0.4073, 0.4102, 0.4085, 0.4091, 0.4063, 0.4103, 0.4053, 0.4065, 0.4127,\n",
      "        0.4109, 0.4102, 0.4101], requires_grad=True)\n"
     ]
    }
   ],
   "source": [
    "print(pyro.param(\"loading\"))\n",
    "print(pyro.param(\"uniqueness\"))\n"
   ]
  }
 ],
 "metadata": {
  "kernelspec": {
   "display_name": "Python 3",
   "language": "python",
   "name": "python3"
  },
  "language_info": {
   "codemirror_mode": {
    "name": "ipython",
    "version": 3
   },
   "file_extension": ".py",
   "mimetype": "text/x-python",
   "name": "python",
   "nbconvert_exporter": "python",
   "pygments_lexer": "ipython3",
   "version": "3.8.5"
  }
 },
 "nbformat": 4,
 "nbformat_minor": 0
}