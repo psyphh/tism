{
 "cells": [
  {
   "cell_type": "markdown",
   "metadata": {
    "collapsed": true,
    "pycharm": {
     "name": "#%% md\n"
    }
   },
   "source": [
    "\n",
    "Lab: 數值微分與優化\n",
    "================\n",
    "\n",
    "在此 lab 中，我們將介紹\n",
    "\n",
    "1. 如何使用 `torch` 進行數值微分。\n",
    "\n",
    "2. 如何使用 `torch` 進行數值優化。\n",
    "\n",
    "3. 利用前述知識，撰寫一採用梯度下降（gradient descent）獲得迴歸參數估計之類型。"
   ]
  },
  {
   "cell_type": "code",
   "execution_count": 1,
   "metadata": {
    "collapsed": false,
    "execution": {
     "iopub.execute_input": "2020-08-27T07:18:42.541371Z",
     "iopub.status.busy": "2020-08-27T07:18:42.540539Z",
     "iopub.status.idle": "2020-08-27T07:18:50.329041Z",
     "shell.execute_reply": "2020-08-27T07:18:50.328544Z"
    },
    "pycharm": {
     "name": "#%%\n"
    }
   },
   "outputs": [],
   "source": [
    "import torch"
   ]
  },
  {
   "cell_type": "markdown",
   "metadata": {
    "collapsed": false,
    "pycharm": {
     "name": "#%% md\n"
    }
   },
   "source": [
    "## 數值微分\n",
    "\n",
    "### 可獲得梯度張量之輸入\n",
    "\n",
    "而在統計模型中，模型之參數常需透過一優化（optimization）方法獲得，而許多的優化方法皆仰賴目標函數（objective function）的一階導數（first-order derivative），或稱梯度（gradient），因此，如何獲得目標函數對於模型參數的梯度，即為一重要的工作。\n",
    "\n",
    "在 `torch` 中，張量不僅用於儲存資料，其亦用於儲存模型之參數。然而，誠如先前所述，我們很可能會需要用到對應於該參數之梯度訊息，因此，為了追朔該參數的歷史建立計算圖（computation graph），輸入該參數張量時需要加入 `requires_grad=True` 此指令："
   ]
  },
  {
   "cell_type": "code",
   "execution_count": 2,
   "metadata": {
    "collapsed": false,
    "execution": {
     "iopub.execute_input": "2020-08-27T07:18:50.338104Z",
     "iopub.status.busy": "2020-08-27T07:18:50.337492Z",
     "iopub.status.idle": "2020-08-27T07:18:50.433274Z",
     "shell.execute_reply": "2020-08-27T07:18:50.433813Z"
    },
    "pycharm": {
     "name": "#%%\n"
    }
   },
   "outputs": [
    {
     "name": "stdout",
     "output_type": "stream",
     "text": [
      "tensor([1., 2., 3.], requires_grad=True)\n"
     ]
    }
   ],
   "source": [
    "x = torch.tensor([1, 2, 3],\n",
    "                 dtype = torch.float,\n",
    "                 requires_grad=True)\n",
    "print(x)"
   ]
  },
  {
   "cell_type": "markdown",
   "metadata": {
    "collapsed": false,
    "pycharm": {
     "name": "#%% md\n"
    }
   },
   "source": [
    "這裏，我們建立了一尺寸為 $3$ 的張量，由於此張量具有 `requires_grad=True` 此標記，因此，接下來對此張量進行任何的運算，`torch` 皆會將此計算過程記錄下來。舉例來說："
   ]
  },
  {
   "cell_type": "code",
   "execution_count": 3,
   "metadata": {
    "collapsed": false,
    "execution": {
     "iopub.execute_input": "2020-08-27T07:18:50.438249Z",
     "iopub.status.busy": "2020-08-27T07:18:50.437522Z",
     "iopub.status.idle": "2020-08-27T07:18:50.442017Z",
     "shell.execute_reply": "2020-08-27T07:18:50.442455Z"
    },
    "pycharm": {
     "name": "#%%\n"
    }
   },
   "outputs": [
    {
     "name": "stdout",
     "output_type": "stream",
     "text": [
      "tensor y: \n",
      " tensor([-2.,  0.,  2.], grad_fn=<SubBackward0>)\n",
      "tensor z: \n",
      " tensor(8., grad_fn=<SumBackward0>)\n"
     ]
    }
   ],
   "source": [
    "y = 2 * x - 4\n",
    "z = (y ** 2).sum()\n",
    "print(\"tensor y: \\n\", y)\n",
    "print(\"tensor z: \\n\", z)"
   ]
  },
  {
   "cell_type": "markdown",
   "metadata": {
    "collapsed": false,
    "pycharm": {
     "name": "#%% md\n"
    }
   },
   "source": [
    "我們可以看到，無論是 `y` 或是 `z`，其都具有 `requires_grad=True` 的標記。要特別注意的是，`requires_grad=True` 僅適用於資料類型為浮點數之張量。\n"
   ]
  },
  {
   "cell_type": "markdown",
   "metadata": {
    "collapsed": false,
    "pycharm": {
     "name": "#%% md\n"
    }
   },
   "source": [
    "### 數值微分之執行\n",
    "針對已追朔之運算過程，想要獲得與該運算有關的梯度時，可以使用 `.backward()`此方法。在前一小節的例子中，$z = \\sum_{i=1}^3 (2x_{i} - 4)^2$，若想要獲得 $\\frac{d z}{dx}$ 在當下 $x$ 的數值的話，可使用以下的程式碼："
   ]
  },
  {
   "cell_type": "code",
   "execution_count": 4,
   "metadata": {
    "collapsed": false,
    "execution": {
     "iopub.execute_input": "2020-08-27T07:18:50.446307Z",
     "iopub.status.busy": "2020-08-27T07:18:50.445596Z",
     "iopub.status.idle": "2020-08-27T07:18:50.448895Z",
     "shell.execute_reply": "2020-08-27T07:18:50.449322Z"
    },
    "pycharm": {
     "name": "#%%\n"
    }
   },
   "outputs": [
    {
     "name": "stdout",
     "output_type": "stream",
     "text": [
      "dz/dx:  tensor([-8.,  0.,  8.])\n"
     ]
    }
   ],
   "source": [
    "z.backward()\n",
    "print(\"dz/dx: \", x.grad)\n"
   ]
  },
  {
   "cell_type": "markdown",
   "metadata": {
    "collapsed": false,
    "pycharm": {
     "name": "#%% md\n"
    }
   },
   "source": [
    "接著，由於 $z$ 也可以寫為 $z = \\sum_{i=1}^3 y_{i}^2$，因此，我們是否也可以透過類似的程式碼獲得 $\\frac{d z}{dy}$ 呢？"
   ]
  },
  {
   "cell_type": "code",
   "execution_count": 5,
   "metadata": {
    "collapsed": false,
    "execution": {
     "iopub.execute_input": "2020-08-27T07:18:50.453207Z",
     "iopub.status.busy": "2020-08-27T07:18:50.452560Z",
     "iopub.status.idle": "2020-08-27T07:18:50.455815Z",
     "shell.execute_reply": "2020-08-27T07:18:50.456243Z"
    },
    "pycharm": {
     "name": "#%%\n"
    }
   },
   "outputs": [
    {
     "name": "stdout",
     "output_type": "stream",
     "text": [
      "dz/dy:  None\n"
     ]
    },
    {
     "name": "stderr",
     "output_type": "stream",
     "text": [
      "/Users/phhaung/Documents/PycharmProject/tism/venv/lib/python3.8/site-packages/torch/tensor.py:746: UserWarning: The .grad attribute of a Tensor that is not a leaf Tensor is being accessed. Its .grad attribute won't be populated during autograd.backward(). If you indeed want the gradient for a non-leaf Tensor, use .retain_grad() on the non-leaf Tensor. If you access the non-leaf Tensor by mistake, make sure you access the leaf Tensor instead. See github.com/pytorch/pytorch/pull/30531 for more informations.\n",
      "  warnings.warn(\"The .grad attribute of a Tensor that is not a leaf Tensor is being accessed. Its .grad \"\n"
     ]
    }
   ],
   "source": [
    "print(\"dz/dy: \", y.grad)"
   ]
  },
  {
   "cell_type": "markdown",
   "metadata": {
    "collapsed": false,
    "pycharm": {
     "name": "#%% md\n"
    }
   },
   "source": [
    "結果是不行，主因在於，`torch` 為了節省記憶體的使用，因此，僅可提供位於計算圖葉子（leaf）張量之一次微分。如果希望能夠獲得 $\\frac{d z}{dy}$ 的話，可以對 `y` 使用 `.retain_grad()` 此方法："
   ]
  },
  {
   "cell_type": "code",
   "execution_count": 6,
   "metadata": {
    "collapsed": false,
    "execution": {
     "iopub.execute_input": "2020-08-27T07:18:50.460620Z",
     "iopub.status.busy": "2020-08-27T07:18:50.459912Z",
     "iopub.status.idle": "2020-08-27T07:18:50.463078Z",
     "shell.execute_reply": "2020-08-27T07:18:50.463504Z"
    },
    "pycharm": {
     "name": "#%%\n"
    }
   },
   "outputs": [
    {
     "name": "stdout",
     "output_type": "stream",
     "text": [
      "dz/dy:  tensor([-4.,  0.,  4.])\n"
     ]
    }
   ],
   "source": [
    "y = 2 * x - 4\n",
    "z = (y ** 2).sum()\n",
    "y.retain_grad()\n",
    "z.backward()\n",
    "print(\"dz/dy: \", y.grad)"
   ]
  },
  {
   "cell_type": "markdown",
   "metadata": {
    "collapsed": false
   },
   "source": [
    "在評估完 $\\frac{d z}{dy}$ 後，讓我們重新檢視一下 `x.grad` 的數值："
   ]
  },
  {
   "cell_type": "code",
   "execution_count": 7,
   "metadata": {
    "collapsed": false,
    "execution": {
     "iopub.execute_input": "2020-08-27T07:18:50.467341Z",
     "iopub.status.busy": "2020-08-27T07:18:50.466535Z",
     "iopub.status.idle": "2020-08-27T07:18:50.469990Z",
     "shell.execute_reply": "2020-08-27T07:18:50.470422Z"
    },
    "pycharm": {
     "name": "#%%\n"
    }
   },
   "outputs": [
    {
     "name": "stdout",
     "output_type": "stream",
     "text": [
      "dz/dx:  tensor([-16.,   0.,  16.])\n"
     ]
    }
   ],
   "source": [
    "print(\"dz/dx: \", x.grad)"
   ]
  },
  {
   "cell_type": "markdown",
   "metadata": {
    "collapsed": false,
    "pycharm": {
     "name": "#%% md\n"
    }
   },
   "source": [
    "我們會發現，這時的 `x.grad` 數值，變成了原先的兩倍，其背後的原因在於，`.backward()`此方法，會持續地將計算結果累積在變數所對應之 `.grad` 當中。若想要避免持續累積，可以使用 `.grad.zero_()` 方法將 `.grad` 中的數值歸零："
   ]
  },
  {
   "cell_type": "code",
   "execution_count": 8,
   "metadata": {
    "collapsed": false,
    "execution": {
     "iopub.execute_input": "2020-08-27T07:18:50.474214Z",
     "iopub.status.busy": "2020-08-27T07:18:50.473506Z",
     "iopub.status.idle": "2020-08-27T07:18:50.476993Z",
     "shell.execute_reply": "2020-08-27T07:18:50.477428Z"
    },
    "pycharm": {
     "name": "#%%\n"
    }
   },
   "outputs": [
    {
     "name": "stdout",
     "output_type": "stream",
     "text": [
      "dz/dx:  tensor([0., 0., 0.])\n",
      "dz/dx:  tensor([0., 0., 0.])\n"
     ]
    }
   ],
   "source": [
    "x.grad.zero_()\n",
    "y.grad.zero_()\n",
    "print(\"dz/dx: \", x.grad)\n",
    "print(\"dz/dx: \", y.grad)"
   ]
  },
  {
   "cell_type": "markdown",
   "metadata": {
    "collapsed": false
   },
   "source": [
    "接著，就可以使用原先的程式碼，計算 $\\frac{d z}{dx}$ 與 $\\frac{d z}{dy}$："
   ]
  },
  {
   "cell_type": "code",
   "execution_count": 9,
   "metadata": {
    "collapsed": false,
    "execution": {
     "iopub.execute_input": "2020-08-27T07:18:50.481772Z",
     "iopub.status.busy": "2020-08-27T07:18:50.481040Z",
     "iopub.status.idle": "2020-08-27T07:18:50.485562Z",
     "shell.execute_reply": "2020-08-27T07:18:50.486007Z"
    },
    "pycharm": {
     "name": "#%%\n"
    }
   },
   "outputs": [
    {
     "name": "stdout",
     "output_type": "stream",
     "text": [
      "dz/dx:  tensor([-8.,  0.,  8.])\n",
      "dz/dy:  tensor([-4.,  0.,  4.])\n"
     ]
    }
   ],
   "source": [
    "y = 2 * x - 4\n",
    "z = (y ** 2).sum()\n",
    "y.retain_grad()\n",
    "z.backward()\n",
    "print(\"dz/dx: \", x.grad)\n",
    "print(\"dz/dy: \", y.grad)\n"
   ]
  },
  {
   "cell_type": "markdown",
   "metadata": {
    "collapsed": false,
    "pycharm": {
     "name": "#%% md\n"
    }
   },
   "source": [
    "不過要特別注意的是，如果計算圖沒有重新建立，連續進行兩次 `.backward()` 會引發錯誤的訊息。\n",
    "\n",
    "### 可獲得梯度張量之進階控制\n",
    "\n",
    "一個張量是否有被追朔以計算梯度，除了直接列印外，亦可透過 `.requires_grad` 此屬性來觀看"
   ]
  },
  {
   "cell_type": "code",
   "execution_count": 10,
   "metadata": {
    "collapsed": false,
    "execution": {
     "iopub.execute_input": "2020-08-27T07:18:50.490285Z",
     "iopub.status.busy": "2020-08-27T07:18:50.489564Z",
     "iopub.status.idle": "2020-08-27T07:18:50.491814Z",
     "shell.execute_reply": "2020-08-27T07:18:50.492235Z"
    },
    "pycharm": {
     "name": "#%%\n"
    }
   },
   "outputs": [
    {
     "name": "stdout",
     "output_type": "stream",
     "text": [
      "False\n"
     ]
    }
   ],
   "source": [
    "x = torch.tensor([1, 2, 3],\n",
    "                 dtype = torch.float)\n",
    "print(x.requires_grad)"
   ]
  },
  {
   "cell_type": "markdown",
   "metadata": {
    "collapsed": false,
    "pycharm": {
     "name": "#%% md\n"
    }
   },
   "source": [
    "如果想將一原先沒有要求梯度之張量，改為需要梯度時，可以使用 `.requires_grad_()` 此方法原地修改該向量的 `requires_grad` 類型："
   ]
  },
  {
   "cell_type": "code",
   "execution_count": 11,
   "metadata": {
    "collapsed": false,
    "execution": {
     "iopub.execute_input": "2020-08-27T07:18:50.496063Z",
     "iopub.status.busy": "2020-08-27T07:18:50.495432Z",
     "iopub.status.idle": "2020-08-27T07:18:50.497830Z",
     "shell.execute_reply": "2020-08-27T07:18:50.498328Z"
    },
    "pycharm": {
     "name": "#%%\n"
    }
   },
   "outputs": [
    {
     "name": "stdout",
     "output_type": "stream",
     "text": [
      "True\n"
     ]
    }
   ],
   "source": [
    "x.requires_grad_(True)\n",
    "print(x.requires_grad)"
   ]
  },
  {
   "cell_type": "markdown",
   "metadata": {
    "collapsed": false
   },
   "source": [
    "如果想將張量 `x` 拷貝到另一變量 `x_no`，卻不希望 `x_no` 的計算會被追朔時，可以使用以下的程式碼："
   ]
  },
  {
   "cell_type": "code",
   "execution_count": 12,
   "metadata": {
    "collapsed": false,
    "execution": {
     "iopub.execute_input": "2020-08-27T07:18:50.503141Z",
     "iopub.status.busy": "2020-08-27T07:18:50.502317Z",
     "iopub.status.idle": "2020-08-27T07:18:50.506217Z",
     "shell.execute_reply": "2020-08-27T07:18:50.506821Z"
    },
    "pycharm": {
     "name": "#%%\n"
    }
   },
   "outputs": [
    {
     "name": "stdout",
     "output_type": "stream",
     "text": [
      "False\n"
     ]
    }
   ],
   "source": [
    "x_no = x.detach()\n",
    "print(x_no.requires_grad)"
   ]
  },
  {
   "cell_type": "markdown",
   "metadata": {
    "collapsed": false,
    "pycharm": {
     "name": "#%% md\n"
    }
   },
   "source": [
    "最後，如果希望可獲得梯度之向量後續的計算歷程不被追朔的話，可以將計算程式碼置於 `with torch.no_grad():` 此環境中，即"
   ]
  },
  {
   "cell_type": "code",
   "execution_count": 13,
   "metadata": {
    "collapsed": false,
    "execution": {
     "iopub.execute_input": "2020-08-27T07:18:50.511215Z",
     "iopub.status.busy": "2020-08-27T07:18:50.510353Z",
     "iopub.status.idle": "2020-08-27T07:18:50.514192Z",
     "shell.execute_reply": "2020-08-27T07:18:50.514708Z"
    },
    "pycharm": {
     "name": "#%%\n"
    }
   },
   "outputs": [
    {
     "name": "stdout",
     "output_type": "stream",
     "text": [
      "False\n",
      "False\n"
     ]
    }
   ],
   "source": [
    "with torch.no_grad():\n",
    "    y = 2 * x - 4\n",
    "    z = (y ** 2).sum()\n",
    "print(y.requires_grad)\n",
    "print(z.requires_grad)\n"
   ]
  }
 ],
 "metadata": {
  "kernelspec": {
   "display_name": "Python 3",
   "language": "python",
   "name": "python3"
  },
  "language_info": {
   "codemirror_mode": {
    "name": "ipython",
    "version": 3
   },
   "file_extension": ".py",
   "mimetype": "text/x-python",
   "name": "python",
   "nbconvert_exporter": "python",
   "pygments_lexer": "ipython3",
   "version": "3.8.5"
  }
 },
 "nbformat": 4,
 "nbformat_minor": 0
}