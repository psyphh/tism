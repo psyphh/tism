{
 "cells": [
  {
   "cell_type": "markdown",
   "metadata": {
    "colab_type": "text",
    "collapsed": true,
    "id": "dw_zvvIwcvxG",
    "pycharm": {
     "name": "#%% md\n"
    }
   },
   "source": [
    "\n",
    "Lab III: 機率模型\n",
    "================\n",
    "此 lab 中，我們將會透過 `tensorflow-probability`（TFP）此套件，學習以下的主題。\n",
    "\n",
    "1. 認識 TFP 的分配（distribution）物件。\n",
    "\n",
    "2. 利用變項之分配，搭配自動微分獲與優化器獲得最大概似估計值。\n",
    "\n",
    "3. 了解如何將個別變項之分配物件組成聯合分配，建立複雜的機率模型。\n",
    "\n",
    "4. 應用前述之知識，建立一可進行廣義線性模型分析之類型（class）。\n",
    "\n",
    "TFP 之安裝與基礎教學，可參考 [TFP官方網頁](https://www.tensorflow.org/probability/install)。在安裝完成後，可透過以下的指令載入其與 `tensorflow`"
   ]
  },
  {
   "cell_type": "code",
   "execution_count": 1,
   "metadata": {
    "colab": {},
    "colab_type": "code",
    "execution": {
     "iopub.execute_input": "2020-12-23T06:11:43.737953Z",
     "iopub.status.busy": "2020-12-23T06:11:43.737363Z",
     "iopub.status.idle": "2020-12-23T06:11:46.195409Z",
     "shell.execute_reply": "2020-12-23T06:11:46.195879Z"
    },
    "id": "7P6EpAcIcvxI",
    "pycharm": {
     "name": "#%%\n"
    }
   },
   "outputs": [],
   "source": [
    "import tensorflow_probability as tfp\n",
    "import tensorflow as tf"
   ]
  },
  {
   "cell_type": "markdown",
   "metadata": {
    "colab_type": "text",
    "collapsed": false,
    "id": "16pj-OeWcvxM",
    "pycharm": {
     "name": "#%% md\n"
    }
   },
   "source": [
    "## 分配物件\n",
    "TFP 最為核心的物件為分配物件，其用於表徵一機率分配。TFP 涵蓋了許多不同的機率分配，其名單可至 [官方網頁](https://www.tensorflow.org/probability/api_docs/python/tfp/distributions) 查看。\n",
    "\n",
    "在實務上，我們常將 TFP 的分配模組儲存為 `tfd`，以便於使用，即："
   ]
  },
  {
   "cell_type": "code",
   "execution_count": 2,
   "metadata": {
    "colab": {},
    "colab_type": "code",
    "execution": {
     "iopub.execute_input": "2020-12-23T06:11:46.199434Z",
     "iopub.status.busy": "2020-12-23T06:11:46.198810Z",
     "iopub.status.idle": "2020-12-23T06:11:46.200714Z",
     "shell.execute_reply": "2020-12-23T06:11:46.201135Z"
    },
    "id": "soPSsBtfcvxN",
    "pycharm": {
     "name": "#%%\n"
    }
   },
   "outputs": [],
   "source": [
    "tfd = tfp.distributions"
   ]
  },
  {
   "cell_type": "markdown",
   "metadata": {
    "colab_type": "text",
    "collapsed": false,
    "id": "hDHBLSrhcvxQ",
    "pycharm": {
     "name": "#%% md\n"
    }
   },
   "source": [
    "### 分配物件之基本操作\n",
    "\n",
    "以常態分配為例，我們可透過以下程式碼產生一表徵常態分配之物件，其平均數為0，標準差為1（尾端的小數點表示浮點數，而非整數）："
   ]
  },
  {
   "cell_type": "code",
   "execution_count": 3,
   "metadata": {
    "colab": {},
    "colab_type": "code",
    "execution": {
     "iopub.execute_input": "2020-12-23T06:11:46.206283Z",
     "iopub.status.busy": "2020-12-23T06:11:46.205562Z",
     "iopub.status.idle": "2020-12-23T06:11:46.207437Z",
     "shell.execute_reply": "2020-12-23T06:11:46.207968Z"
    },
    "id": "wB8BZgYwcvxQ",
    "pycharm": {
     "name": "#%%\n"
    }
   },
   "outputs": [],
   "source": [
    "normal = tfd.Normal(loc=0., scale=1.)"
   ]
  },
  {
   "cell_type": "markdown",
   "metadata": {
    "colab_type": "text",
    "collapsed": false,
    "id": "bDJn1AtRcvxT",
    "pycharm": {
     "name": "#%% md\n"
    }
   },
   "source": [
    "透過此分配物件，我們可以產生對應之隨機樣本"
   ]
  },
  {
   "cell_type": "code",
   "execution_count": 4,
   "metadata": {
    "colab": {
     "base_uri": "https://localhost:8080/",
     "height": 158
    },
    "colab_type": "code",
    "execution": {
     "iopub.execute_input": "2020-12-23T06:11:46.212316Z",
     "iopub.status.busy": "2020-12-23T06:11:46.211709Z",
     "iopub.status.idle": "2020-12-23T06:11:46.221164Z",
     "shell.execute_reply": "2020-12-23T06:11:46.221667Z"
    },
    "id": "sCxas-XwcvxT",
    "outputId": "7998aef4-86a1-4742-e8eb-3f16a4c620ef",
    "pycharm": {
     "name": "#%%\n"
    }
   },
   "outputs": [
    {
     "name": "stdout",
     "output_type": "stream",
     "text": [
      "random sample with shape ():\n",
      " tf.Tensor(2.2713256, shape=(), dtype=float32)\n",
      "random sample with shape (3,):\n",
      " tf.Tensor([ 2.3771358  -1.8249989  -0.37349173], shape=(3,), dtype=float32)\n",
      "random sample with shape (2,3):\n",
      " tf.Tensor(\n",
      "[[ 1.7267758   0.23061198 -1.9052708 ]\n",
      " [ 0.26800588 -0.07182376  0.38082814]], shape=(2, 3), dtype=float32)\n"
     ]
    }
   ],
   "source": [
    "print(\"random sample with shape ():\\n\",\n",
    "      normal.sample())\n",
    "print(\"random sample with shape (3,):\\n\",\n",
    "      normal.sample(sample_shape=3))\n",
    "print(\"random sample with shape (2,3):\\n\",\n",
    "      normal.sample(sample_shape=(2, 3)))"
   ]
  },
  {
   "cell_type": "markdown",
   "metadata": {
    "colab_type": "text",
    "collapsed": false,
    "id": "uvFzPPERcvxX"
   },
   "source": [
    "我們亦可給定實現值來評估其在該分配下之累積機率值："
   ]
  },
  {
   "cell_type": "code",
   "execution_count": 5,
   "metadata": {
    "colab": {
     "base_uri": "https://localhost:8080/",
     "height": 193
    },
    "colab_type": "code",
    "execution": {
     "iopub.execute_input": "2020-12-23T06:11:46.226738Z",
     "iopub.status.busy": "2020-12-23T06:11:46.226063Z",
     "iopub.status.idle": "2020-12-23T06:11:46.233109Z",
     "shell.execute_reply": "2020-12-23T06:11:46.232601Z"
    },
    "id": "LfdFM8i7cvxX",
    "outputId": "e9f5e48c-db6b-4ee1-b06f-97f35319be30",
    "pycharm": {
     "name": "#%%\n"
    }
   },
   "outputs": [
    {
     "name": "stdout",
     "output_type": "stream",
     "text": [
      "cumulative probability given value with shape ():\n",
      " tf.Tensor(0.5, shape=(), dtype=float32) \n",
      "\n",
      "cumulative probability given value with (3,):\n",
      " tf.Tensor([0.15865526 0.5        0.69146246], shape=(3,), dtype=float32) \n",
      "\n",
      "cumulative probability given value with (2,3):\n",
      " tf.Tensor(\n",
      "[[0.15865526 0.5        0.69146246]\n",
      " [0.02275013 0.8413447  0.9986501 ]], shape=(2, 3), dtype=float32)\n"
     ]
    }
   ],
   "source": [
    "print(\"cumulative probability given value with shape ():\\n\",\n",
    "      normal.cdf(value=0), \"\\n\")\n",
    "print(\"cumulative probability given value with (3,):\\n\",\n",
    "      normal.cdf(value=[-1, 0, .5]), \"\\n\")\n",
    "print(\"cumulative probability given value with (2,3):\\n\",\n",
    "      normal.cdf(value=[[-1, 0, .5], [-2, 1, 3]]))\n"
   ]
  },
  {
   "cell_type": "markdown",
   "metadata": {
    "colab_type": "text",
    "collapsed": false,
    "id": "A7lMewP6cvxa"
   },
   "source": [
    "或是對數機率值："
   ]
  },
  {
   "cell_type": "code",
   "execution_count": 6,
   "metadata": {
    "colab": {
     "base_uri": "https://localhost:8080/",
     "height": 193
    },
    "colab_type": "code",
    "execution": {
     "iopub.execute_input": "2020-12-23T06:11:46.237407Z",
     "iopub.status.busy": "2020-12-23T06:11:46.236782Z",
     "iopub.status.idle": "2020-12-23T06:11:46.241963Z",
     "shell.execute_reply": "2020-12-23T06:11:46.242405Z"
    },
    "id": "eUx3vyN7cvxb",
    "outputId": "a988b1e4-fe00-4cd6-d7ec-efcf8d41a692",
    "pycharm": {
     "name": "#%%\n"
    }
   },
   "outputs": [
    {
     "name": "stdout",
     "output_type": "stream",
     "text": [
      "log-probability given value with shape ():\n",
      " tf.Tensor(-0.9189385, shape=(), dtype=float32) \n",
      "\n",
      "log-probability given value with (3,):\n",
      " tf.Tensor([-1.4189385 -0.9189385 -1.0439385], shape=(3,), dtype=float32) \n",
      "\n",
      "log-probability given value with (2,3):\n",
      " tf.Tensor(\n",
      "[[-1.4189385 -0.9189385 -1.0439385]\n",
      " [-2.9189386 -1.4189385 -5.4189386]], shape=(2, 3), dtype=float32)\n"
     ]
    }
   ],
   "source": [
    "print(\"log-probability given value with shape ():\\n\",\n",
    "      normal.log_prob(value=0), \"\\n\")\n",
    "print(\"log-probability given value with (3,):\\n\",\n",
    "      normal.log_prob(value=[-1, 0, .5]), \"\\n\")\n",
    "print(\"log-probability given value with (2,3):\\n\",\n",
    "      normal.log_prob(value=[[-1, 0, .5], [-2, 1, 3]]))"
   ]
  },
  {
   "cell_type": "markdown",
   "metadata": {
    "colab_type": "text",
    "collapsed": false,
    "id": "WgQ5DRsMcvxe",
    "pycharm": {
     "name": "#%% md\n"
    }
   },
   "source": [
    "### 分配物件之形狀\n",
    "分配物件的形狀比起張量的形狀較為複雜些，其產生的樣本共牽涉到三種形狀：\n",
    "\n",
    "1. 樣本形狀（sample shape），為在使用分配物件產生樣本時之形狀（即為前一小節使用 `.sample()` 時所設定的 `sample_shape`），其產生的資料彼此間為獨立且相同分配的（independent and identically distributed）。\n",
    "\n",
    "2. 批次形狀（batch shape），為建立分配物件時所設定的形狀（其透過參數的形狀決定），其可用於產生批次的樣本，批次樣本間彼此獨立，但其邊際分配之參數可以不同。\n",
    "\n",
    "3. 事件形狀（event shape），即多變量分配之變數形狀，如 $P$ 維多元常態分配的形狀即為 `(P,)`，在同一事件下產生的資料其變數間可為相依，且各邊際分配之參數也未必相同。\n",
    "\n",
    "而分配物件的形狀則牽涉到批次與事件兩種，可透過直接列印分配物件查看"
   ]
  },
  {
   "cell_type": "code",
   "execution_count": 7,
   "metadata": {
    "colab": {
     "base_uri": "https://localhost:8080/",
     "height": 34
    },
    "colab_type": "code",
    "execution": {
     "iopub.execute_input": "2020-12-23T06:11:46.246114Z",
     "iopub.status.busy": "2020-12-23T06:11:46.245405Z",
     "iopub.status.idle": "2020-12-23T06:11:46.247590Z",
     "shell.execute_reply": "2020-12-23T06:11:46.248046Z"
    },
    "id": "lbz_r5_6cvxe",
    "outputId": "dcb4e7d3-19dd-440f-8a6a-a406339a1eb0",
    "pycharm": {
     "name": "#%%\n"
    }
   },
   "outputs": [
    {
     "name": "stdout",
     "output_type": "stream",
     "text": [
      "tfp.distributions.Normal(\"Normal\", batch_shape=[], event_shape=[], dtype=float32)\n"
     ]
    }
   ],
   "source": [
    "print(normal)"
   ]
  },
  {
   "cell_type": "markdown",
   "metadata": {
    "colab_type": "text",
    "collapsed": false,
    "id": "7k5_5Whkcvxh",
    "pycharm": {
     "name": "#%% md\n"
    }
   },
   "source": [
    "或是使用 `.batch_shape` 與 `.event_shape` 獲得："
   ]
  },
  {
   "cell_type": "code",
   "execution_count": 8,
   "metadata": {
    "colab": {
     "base_uri": "https://localhost:8080/",
     "height": 52
    },
    "colab_type": "code",
    "execution": {
     "iopub.execute_input": "2020-12-23T06:11:46.251675Z",
     "iopub.status.busy": "2020-12-23T06:11:46.250925Z",
     "iopub.status.idle": "2020-12-23T06:11:46.253419Z",
     "shell.execute_reply": "2020-12-23T06:11:46.253862Z"
    },
    "id": "zi9Xi80Bcvxh",
    "outputId": "2431a2fb-1086-4150-fc71-b82e6f764327",
    "pycharm": {
     "name": "#%%\n"
    }
   },
   "outputs": [
    {
     "name": "stdout",
     "output_type": "stream",
     "text": [
      "()\n",
      "()\n"
     ]
    }
   ],
   "source": [
    "print(normal.batch_shape)\n",
    "print(normal.event_shape)"
   ]
  },
  {
   "cell_type": "markdown",
   "metadata": {
    "colab_type": "text",
    "collapsed": false,
    "id": "0H3ED4Iscvxk",
    "pycharm": {
     "name": "#%% md\n"
    }
   },
   "source": [
    "由於之前所創立的 `normal` 其用於產生純量之常態分配隨機變數，故 `.batch_shape` 與 `.event_shape` 兩者皆為 `()`。\n",
    "\n",
    "批次形狀之設定，乃經由對分配參數形狀之推論獲得，如"
   ]
  },
  {
   "cell_type": "code",
   "execution_count": 9,
   "metadata": {
    "colab": {
     "base_uri": "https://localhost:8080/",
     "height": 34
    },
    "colab_type": "code",
    "execution": {
     "iopub.execute_input": "2020-12-23T06:11:46.258285Z",
     "iopub.status.busy": "2020-12-23T06:11:46.257640Z",
     "iopub.status.idle": "2020-12-23T06:11:46.259844Z",
     "shell.execute_reply": "2020-12-23T06:11:46.260306Z"
    },
    "id": "zs7R4c4vcvxk",
    "outputId": "302adb10-46b7-4a89-c409-c0f4d4adc195",
    "pycharm": {
     "name": "#%%\n"
    }
   },
   "outputs": [
    {
     "name": "stdout",
     "output_type": "stream",
     "text": [
      "tfp.distributions.Normal(\"Normal\", batch_shape=[2], event_shape=[], dtype=float32)\n"
     ]
    }
   ],
   "source": [
    "normal_batch = tfd.Normal(loc=[0., 1.], scale=[1., .5])\n",
    "print(normal_batch)"
   ]
  },
  {
   "cell_type": "markdown",
   "metadata": {
    "colab_type": "text",
    "collapsed": false,
    "id": "w2Rf56rdcvxn",
    "pycharm": {
     "name": "#%% md\n"
    }
   },
   "source": [
    "前述分配的 `batch_shape` 為 `(2,)`，其可用於產生一組兩個來自常態分配之變數，其中一個平均數為0，變異數為1，另一個平均數為1，變異數為.5，如"
   ]
  },
  {
   "cell_type": "code",
   "execution_count": 10,
   "metadata": {
    "colab": {
     "base_uri": "https://localhost:8080/",
     "height": 334
    },
    "colab_type": "code",
    "execution": {
     "iopub.execute_input": "2020-12-23T06:11:46.264572Z",
     "iopub.status.busy": "2020-12-23T06:11:46.263920Z",
     "iopub.status.idle": "2020-12-23T06:11:46.270970Z",
     "shell.execute_reply": "2020-12-23T06:11:46.272275Z"
    },
    "id": "DCDP4E6jcvxn",
    "outputId": "62a52567-6e86-4314-ebd0-0fe5013efffb",
    "pycharm": {
     "name": "#%%\n"
    }
   },
   "outputs": [
    {
     "name": "stdout",
     "output_type": "stream",
     "text": [
      "random sample with sample_shape ():\n",
      " tf.Tensor([1.5389309 1.058266 ], shape=(2,), dtype=float32) \n",
      "\n",
      "random sample with sample_shape (3,):\n",
      " tf.Tensor(\n",
      "[[ 0.8262944  -0.20904672]\n",
      " [-0.41877052  0.37379056]\n",
      " [ 1.1131867   1.7374542 ]], shape=(3, 2), dtype=float32) \n",
      "\n",
      "random sample with sample_shape (2,3):\n",
      " tf.Tensor(\n",
      "[[[ 0.41234437  1.1895566 ]\n",
      "  [ 0.21679199  0.37657076]\n",
      "  [ 0.7545709   0.76228845]]\n",
      "\n",
      " [[ 0.1450507   1.1977061 ]\n",
      "  [-2.324742    0.86529374]\n",
      "  [-0.02887968  1.0968765 ]]], shape=(2, 3, 2), dtype=float32)\n"
     ]
    }
   ],
   "source": [
    "print(\"random sample with sample_shape ():\\n\",\n",
    "      normal_batch.sample(), \"\\n\")\n",
    "print(\"random sample with sample_shape (3,):\\n\",\n",
    "      normal_batch.sample(sample_shape=3), \"\\n\")\n",
    "print(\"random sample with sample_shape (2,3):\\n\",\n",
    "      normal_batch.sample(sample_shape=(2,3)))"
   ]
  },
  {
   "cell_type": "markdown",
   "metadata": {
    "colab_type": "text",
    "collapsed": false,
    "id": "UAY45NsFcvxq",
    "pycharm": {
     "name": "#%% md\n"
    }
   },
   "source": [
    "我們亦可使用所創立的 `normal_batch` 來度量輸入數值的對數機率值："
   ]
  },
  {
   "cell_type": "code",
   "execution_count": 11,
   "metadata": {
    "colab": {
     "base_uri": "https://localhost:8080/",
     "height": 193
    },
    "colab_type": "code",
    "execution": {
     "iopub.execute_input": "2020-12-23T06:11:46.276732Z",
     "iopub.status.busy": "2020-12-23T06:11:46.275975Z",
     "iopub.status.idle": "2020-12-23T06:11:46.281405Z",
     "shell.execute_reply": "2020-12-23T06:11:46.281923Z"
    },
    "id": "Bu1mmQqqcvxr",
    "outputId": "dc1a0ef5-17b2-42e0-a8fb-1882003d80f0",
    "pycharm": {
     "name": "#%%\n"
    }
   },
   "outputs": [
    {
     "name": "stdout",
     "output_type": "stream",
     "text": [
      "log-probability given value with shape ():\n",
      " tf.Tensor([-0.9189385 -2.2257915], shape=(2,), dtype=float32) \n",
      "\n",
      "log-probability given value with shape (2,):\n",
      " tf.Tensor([-0.9189385 -2.2257915], shape=(2,), dtype=float32) \n",
      "\n",
      "log-probability given value with shape (2,1):\n",
      " tf.Tensor(\n",
      "[[-0.9189385 -2.2257915]\n",
      " [-0.9189385 -2.2257915]], shape=(2, 2), dtype=float32)\n"
     ]
    }
   ],
   "source": [
    "print(\"log-probability given value with shape ():\\n\",\n",
    "      normal_batch.log_prob(0), \"\\n\")\n",
    "print(\"log-probability given value with shape (2,):\\n\",\n",
    "      normal_batch.log_prob([0, 0]), \"\\n\")\n",
    "print(\"log-probability given value with shape (2,1):\\n\",\n",
    "      normal_batch.log_prob([[0], [0]]))"
   ]
  },
  {
   "cell_type": "markdown",
   "metadata": {
    "colab_type": "text",
    "collapsed": false,
    "id": "bcdAX1H-cvxt",
    "pycharm": {
     "name": "#%% md\n"
    }
   },
   "source": [
    "這邊我們可以觀察到，前兩者種寫法獲得一樣的數值，皆表示 `[0, 0]` 此向量於 `normal_batch` 下的對數機率。對第一種寫法來說，其輸入為純量，因此，使用到了廣播（broadcasting）的概念，將0的數值轉為 `[0,0]` 後再進行評估，第二種寫法則是較為標準，其直接輸入了 `[0,0]`，與 `normal_batch` 的 `batch_size` 相同。而第三種寫法，可以想成輸入了一 `sample_shape` 為2的資料，而每筆觀測值的0皆會透過廣播拓展為 `[0, 0]`，故回傳了每筆觀測值於 `normal_batch` 之對數機率。\n",
    "\n",
    "\n",
    "事件形狀僅適用於多變量之分配，以多元常態（multivariate normal）分配為例，其需給定一平均數向量與共變異數矩陣（在這邊，我們採用的 `tfd.MultivariateNormalTriL` 需給定的是共變異數矩陣的 Cholesky 分解）："
   ]
  },
  {
   "cell_type": "code",
   "execution_count": 12,
   "metadata": {
    "colab": {
     "base_uri": "https://localhost:8080/",
     "height": 54
    },
    "colab_type": "code",
    "execution": {
     "iopub.execute_input": "2020-12-23T06:11:46.287083Z",
     "iopub.status.busy": "2020-12-23T06:11:46.285971Z",
     "iopub.status.idle": "2020-12-23T06:11:46.291615Z",
     "shell.execute_reply": "2020-12-23T06:11:46.292095Z"
    },
    "id": "QS0enb2Acvxu",
    "outputId": "3bd32b6c-4dff-4cb7-d006-590f8b8c1c74",
    "pycharm": {
     "name": "#%%\n"
    }
   },
   "outputs": [
    {
     "name": "stdout",
     "output_type": "stream",
     "text": [
      "tfp.distributions.MultivariateNormalTriL(\"MultivariateNormalTriL\", batch_shape=[], event_shape=[2], dtype=float32)\n"
     ]
    }
   ],
   "source": [
    "mvn = tfd.MultivariateNormalTriL(\n",
    "    loc=[0, 1],\n",
    "    scale_tril=tf.linalg.cholesky([[1., 0.], [0., .5]]))\n",
    "print(mvn)"
   ]
  },
  {
   "cell_type": "markdown",
   "metadata": {
    "colab_type": "text",
    "collapsed": false,
    "id": "9miRrz-jcvxx",
    "pycharm": {
     "name": "#%% md\n"
    }
   },
   "source": [
    "我們可看到此分配物件的 `event_shape` 是 `(2)`，與此多元常態分配的維度相同，其可用於產生服從多元常態分配之資料"
   ]
  },
  {
   "cell_type": "code",
   "execution_count": 13,
   "metadata": {
    "colab": {
     "base_uri": "https://localhost:8080/",
     "height": 334
    },
    "colab_type": "code",
    "execution": {
     "iopub.execute_input": "2020-12-23T06:11:46.296254Z",
     "iopub.status.busy": "2020-12-23T06:11:46.295647Z",
     "iopub.status.idle": "2020-12-23T06:11:46.314923Z",
     "shell.execute_reply": "2020-12-23T06:11:46.315408Z"
    },
    "id": "eq9IVXCTcvxx",
    "outputId": "06354dc4-57ec-4b8d-90c4-ec5c0c41e00e",
    "pycharm": {
     "name": "#%%\n"
    }
   },
   "outputs": [
    {
     "name": "stdout",
     "output_type": "stream",
     "text": [
      "random sample with sample_shape ():\n",
      " tf.Tensor([0.2162181  0.46002054], shape=(2,), dtype=float32) \n",
      "\n",
      "random sample with sample_shape (3,):\n",
      " tf.Tensor(\n",
      "[[-0.25399727  1.3331991 ]\n",
      " [ 0.50582093  0.54873157]\n",
      " [-0.08385251  0.15000951]], shape=(3, 2), dtype=float32) \n",
      "\n",
      "random sample with sample_shape (2, 3):\n",
      " tf.Tensor(\n",
      "[[[-0.07636248  0.4365208 ]\n",
      "  [-0.9659546  -0.01564229]\n",
      "  [ 1.0694548   2.2594252 ]]\n",
      "\n",
      " [[-0.08555713  1.887286  ]\n",
      "  [-0.17217642  2.4205818 ]\n",
      "  [-0.3970989   1.2988566 ]]], shape=(2, 3, 2), dtype=float32)\n"
     ]
    }
   ],
   "source": [
    "print(\"random sample with sample_shape ():\\n\",\n",
    "      mvn.sample(), \"\\n\")\n",
    "print(\"random sample with sample_shape (3,):\\n\",\n",
    "      mvn.sample(sample_shape=3), \"\\n\")\n",
    "print(\"random sample with sample_shape (2, 3):\\n\",\n",
    "      mvn.sample(sample_shape=(2, 3)))"
   ]
  },
  {
   "cell_type": "markdown",
   "metadata": {
    "colab_type": "text",
    "collapsed": false,
    "id": "AWf4QF3tcvx0",
    "pycharm": {
     "name": "#%% md\n"
    }
   },
   "source": [
    "同樣的，該物件亦可用於評估給定數值下的對數機率："
   ]
  },
  {
   "cell_type": "code",
   "execution_count": 14,
   "metadata": {
    "colab": {
     "base_uri": "https://localhost:8080/",
     "height": 105
    },
    "colab_type": "code",
    "execution": {
     "iopub.execute_input": "2020-12-23T06:11:46.320059Z",
     "iopub.status.busy": "2020-12-23T06:11:46.319459Z",
     "iopub.status.idle": "2020-12-23T06:11:46.335860Z",
     "shell.execute_reply": "2020-12-23T06:11:46.336358Z"
    },
    "id": "KlKkABhXcvx1",
    "outputId": "c48d24e6-e621-4e06-802e-cb1a26486d25",
    "pycharm": {
     "name": "#%%\n"
    }
   },
   "outputs": [
    {
     "name": "stdout",
     "output_type": "stream",
     "text": [
      "log-probability given value with shape (2,):\n",
      " tf.Tensor(-2.4913032, shape=(), dtype=float32) \n",
      "\n",
      "log-probability given value with shape (2,1):\n",
      " tf.Tensor([-2.4913032 -2.4913032], shape=(2,), dtype=float32)\n"
     ]
    }
   ],
   "source": [
    "print(\"log-probability given value with shape (2,):\\n\",\n",
    "      mvn.log_prob([0, 0]), \"\\n\")\n",
    "print(\"log-probability given value with shape (2,1):\\n\",\n",
    "      mvn.log_prob([[0, 0], [0, 0]]))"
   ]
  },
  {
   "cell_type": "markdown",
   "metadata": {
    "colab_type": "text",
    "collapsed": false,
    "id": "WZkJAJXNcvx3",
    "pycharm": {
     "name": "#%% md\n"
    }
   },
   "source": [
    "儘管此 `mvn` 表徵的二維之多元常態分配，其平均數與共變異數矩陣之設定，與先前 `normal_batch`是等價的，但在使用 `mvn` 評估機率時，需注意：（1）先前針對 `batch_shape` 此面向的廣播，不再適用於 `event_shape`，故 `mvn.log_prob(0)` 會產生錯誤訊息；（2）針對每筆觀測值，其計算的是在此多元常態分配下的聯合機率，因此，只會獲得一個對數機率值。\n"
   ]
  },
  {
   "cell_type": "markdown",
   "metadata": {
    "colab_type": "text",
    "collapsed": false,
    "id": "yrFwsZ3dcvx4"
   },
   "source": [
    "分配物件的 `batch_shape` 可透過 `tfd.Independent` 此物件轉為 `event_shape`，如"
   ]
  },
  {
   "cell_type": "code",
   "execution_count": 15,
   "metadata": {
    "colab": {
     "base_uri": "https://localhost:8080/",
     "height": 34
    },
    "colab_type": "code",
    "execution": {
     "iopub.execute_input": "2020-12-23T06:11:46.345366Z",
     "iopub.status.busy": "2020-12-23T06:11:46.344695Z",
     "iopub.status.idle": "2020-12-23T06:11:46.347225Z",
     "shell.execute_reply": "2020-12-23T06:11:46.347682Z"
    },
    "id": "7opzhoUBcvx4",
    "outputId": "58d8ff42-9ac9-43ed-ba9c-7bd1cd207210",
    "pycharm": {
     "name": "#%%\n"
    }
   },
   "outputs": [
    {
     "data": {
      "text/plain": [
       "<tfp.distributions.Independent 'IndependentNormal' batch_shape=[] event_shape=[2] dtype=float32>"
      ]
     },
     "execution_count": 15,
     "metadata": {},
     "output_type": "execute_result"
    }
   ],
   "source": [
    "tfd.Independent(normal_batch, reinterpreted_batch_ndims=1)"
   ]
  },
  {
   "cell_type": "markdown",
   "metadata": {
    "colab_type": "text",
    "collapsed": false,
    "id": "lpeaHvHscvx-",
    "pycharm": {
     "name": "#%% md\n"
    }
   },
   "source": [
    "在多變量的分配之下，前述介紹的批次形狀與事件形狀，可以合併使用："
   ]
  },
  {
   "cell_type": "code",
   "execution_count": 16,
   "metadata": {
    "colab": {
     "base_uri": "https://localhost:8080/",
     "height": 54
    },
    "colab_type": "code",
    "execution": {
     "iopub.execute_input": "2020-12-23T06:11:46.355346Z",
     "iopub.status.busy": "2020-12-23T06:11:46.354571Z",
     "iopub.status.idle": "2020-12-23T06:11:46.357409Z",
     "shell.execute_reply": "2020-12-23T06:11:46.357972Z"
    },
    "id": "MuJW9ohAcvx-",
    "outputId": "8bc7ebd1-ebd1-40e7-a3a0-7cc9be4cffb2",
    "pycharm": {
     "name": "#%%\n"
    }
   },
   "outputs": [
    {
     "data": {
      "text/plain": [
       "<tfp.distributions.MultivariateNormalTriL 'MultivariateNormalTriL' batch_shape=[3] event_shape=[2] dtype=float32>"
      ]
     },
     "execution_count": 16,
     "metadata": {},
     "output_type": "execute_result"
    }
   ],
   "source": [
    "mvn_batch = tfd.MultivariateNormalTriL(\n",
    "    loc=[[0, 1],\n",
    "         [1, 2],\n",
    "         [2, 3]],\n",
    "    scale_tril=tf.linalg.cholesky([[1., 0.], [0., .5]]))\n",
    "mvn_batch"
   ]
  },
  {
   "cell_type": "markdown",
   "metadata": {
    "colab_type": "text",
    "collapsed": false,
    "id": "IvwYBO60cvyA",
    "pycharm": {
     "name": "#%% md\n"
    }
   },
   "source": [
    "這裡，其 `batch_shape` 為 `(3)`，值得注意的是，這邊我們僅設定了一個共變異數矩陣，因此，其會透過廣播的機制，與三個平均數向量做對應。同樣的，我們可以用此 `mvn_batch` 來產生樣本資料\n"
   ]
  },
  {
   "cell_type": "code",
   "execution_count": 17,
   "metadata": {
    "colab": {
     "base_uri": "https://localhost:8080/",
     "height": 826
    },
    "colab_type": "code",
    "execution": {
     "iopub.execute_input": "2020-12-23T06:11:46.364318Z",
     "iopub.status.busy": "2020-12-23T06:11:46.363719Z",
     "iopub.status.idle": "2020-12-23T06:11:46.379790Z",
     "shell.execute_reply": "2020-12-23T06:11:46.380268Z"
    },
    "id": "N8qw6R_pcvyB",
    "outputId": "7064662a-5f23-4bdc-acaf-3f8e3bc8f481",
    "pycharm": {
     "name": "#%%\n"
    }
   },
   "outputs": [
    {
     "name": "stdout",
     "output_type": "stream",
     "text": [
      "random sample with sample_shape ():\n",
      " tf.Tensor(\n",
      "[[-0.8442798   1.6098676 ]\n",
      " [ 0.05365855  1.8673433 ]\n",
      " [ 1.2360637   3.1306837 ]], shape=(3, 2), dtype=float32) \n",
      "\n",
      "random sample with sample_shape (3,):\n",
      " tf.Tensor(\n",
      "[[[-1.8156862   0.6523211 ]\n",
      "  [ 1.7010512  -0.16461039]\n",
      "  [ 0.34791625  1.9542217 ]]\n",
      "\n",
      " [[-1.0917486   0.5257746 ]\n",
      "  [ 2.0450764   2.7479446 ]\n",
      "  [ 0.6193794   2.1641443 ]]\n",
      "\n",
      " [[ 1.6523548   0.2863677 ]\n",
      "  [ 0.19571602  3.248878  ]\n",
      "  [ 2.320044    1.8242878 ]]], shape=(3, 3, 2), dtype=float32) \n",
      "\n",
      "random sample with sample_shape (2, 3):\n",
      " tf.Tensor(\n",
      "[[[[-0.5093707   0.81250143]\n",
      "   [ 1.9468127   2.9683397 ]\n",
      "   [ 1.3619013   2.2389302 ]]\n",
      "\n",
      "  [[-0.26521453  0.95227057]\n",
      "   [ 3.1439462   1.5873938 ]\n",
      "   [ 1.4592228   1.5732392 ]]\n",
      "\n",
      "  [[-1.6538379   1.6909251 ]\n",
      "   [ 1.2586976   1.7571654 ]\n",
      "   [ 2.8081112   3.2831683 ]]]\n",
      "\n",
      "\n",
      " [[[-0.30845714  0.38611084]\n",
      "   [ 0.34927046  1.7144573 ]\n",
      "   [ 0.6021681   3.6861699 ]]\n",
      "\n",
      "  [[ 0.27426484  1.322668  ]\n",
      "   [-0.09283876  2.9660397 ]\n",
      "   [ 2.4892762   2.6491864 ]]\n",
      "\n",
      "  [[ 0.942785    1.4955674 ]\n",
      "   [ 2.3802404   2.0291984 ]\n",
      "   [ 1.7997298   1.7686393 ]]]], shape=(2, 3, 3, 2), dtype=float32)\n"
     ]
    }
   ],
   "source": [
    "print(\"random sample with sample_shape ():\\n\",\n",
    "      mvn_batch.sample(), \"\\n\")\n",
    "print(\"random sample with sample_shape (3,):\\n\",\n",
    "      mvn_batch.sample(sample_shape=3), \"\\n\")\n",
    "print(\"random sample with sample_shape (2, 3):\\n\",\n",
    "      mvn_batch.sample(sample_shape=(2, 3)))"
   ]
  },
  {
   "cell_type": "markdown",
   "metadata": {
    "colab_type": "text",
    "collapsed": false,
    "id": "J7Ax86-xcvyD",
    "pycharm": {
     "name": "#%% md\n"
    }
   },
   "source": [
    "## 最大概似估計法\n",
    "\n"
   ]
  },
  {
   "cell_type": "markdown",
   "metadata": {
    "colab_type": "text",
    "collapsed": false,
    "id": "f8eZ-35hcvyE"
   },
   "source": [
    "### 可學習的分配與求解\n",
    "使用 `tensorflow` 來進行最大概似法，有許多種做法，其中，最重要的關鍵就在於如何建構概似函數。事實上，在前一小節中，我們已經可以計算在給定參數下，某個隨機樣本實現值之可能性，因此，關鍵就在於如何讓前述之可能性，轉為參數數值之函數，而最簡單的做法，就是將參數設為 `tf.Variable`，搭配自動微分與優化器對其進行更新。\n",
    "\n",
    "以下的程式碼建立了一 `batch_size` 為2的常態分配模型，我們可透過 `.trainable_varialbes` 來查看哪些變數是可以透過訓練更新其數值的。"
   ]
  },
  {
   "cell_type": "code",
   "execution_count": 18,
   "metadata": {
    "colab": {
     "base_uri": "https://localhost:8080/",
     "height": 125
    },
    "colab_type": "code",
    "execution": {
     "iopub.execute_input": "2020-12-23T06:11:46.384504Z",
     "iopub.status.busy": "2020-12-23T06:11:46.383900Z",
     "iopub.status.idle": "2020-12-23T06:11:46.391634Z",
     "shell.execute_reply": "2020-12-23T06:11:46.392066Z"
    },
    "id": "MP-7H725cvyE",
    "outputId": "aa7ae444-4a30-4c1a-80b9-4934458b50ee",
    "pycharm": {
     "name": "#%%\n"
    }
   },
   "outputs": [
    {
     "name": "stdout",
     "output_type": "stream",
     "text": [
      "normal model:\n",
      " tfp.distributions.Normal(\"Normal\", batch_shape=[2], event_shape=[], dtype=float32) \n",
      "\n",
      "parameters in normal model:\n",
      " (<tf.Variable 'loc:0' shape=(2,) dtype=float32, numpy=array([0., 0.], dtype=float32)>, <tf.Variable 'scale:0' shape=(2,) dtype=float32, numpy=array([1., 1.], dtype=float32)>)\n"
     ]
    }
   ],
   "source": [
    "batch_size = 2\n",
    "normal_model = tfd.Normal(\n",
    "        loc=tf.Variable(tf.zeros(batch_size), name='loc'),\n",
    "        scale=tf.Variable(tf.ones(batch_size), name='scale'))\n",
    "print(\"normal model:\\n\", normal_model, \"\\n\")\n",
    "print(\"parameters in normal model:\\n\", normal_model.trainable_variables)"
   ]
  },
  {
   "cell_type": "markdown",
   "metadata": {
    "colab_type": "text",
    "collapsed": false,
    "id": "oceFlpMpdHSC",
    "pycharm": {
     "name": "#%% md\n"
    }
   },
   "source": [
    "TFP 的官方教學中，將前述的分配稱作可學習的分配（learnable distribution）。接著，我們在目前給定的參數數值下，產生一隨機樣本，此樣本在目前參數數值下的可能性，可簡單地使用 `.log_prob()` 方法與加總平均的計算獲得："
   ]
  },
  {
   "cell_type": "code",
   "execution_count": 19,
   "metadata": {
    "colab": {
     "base_uri": "https://localhost:8080/",
     "height": 34
    },
    "colab_type": "code",
    "execution": {
     "iopub.execute_input": "2020-12-23T06:11:46.396733Z",
     "iopub.status.busy": "2020-12-23T06:11:46.396125Z",
     "iopub.status.idle": "2020-12-23T06:11:46.400026Z",
     "shell.execute_reply": "2020-12-23T06:11:46.400469Z"
    },
    "id": "i6ZFZp1qcvyH",
    "outputId": "89e7aa0a-6063-4749-a39f-416c91befa22",
    "pycharm": {
     "name": "#%%\n"
    }
   },
   "outputs": [
    {
     "name": "stdout",
     "output_type": "stream",
     "text": [
      "negative likelihood value is  2.8390605\n"
     ]
    }
   ],
   "source": [
    "sample_size = 1000\n",
    "x = normal_model.sample(sample_shape=sample_size)\n",
    "loss_value = -tf.reduce_mean(tf.reduce_sum(normal_model.log_prob(x), axis = 1))\n",
    "print(\"negative likelihood value is \", loss_value.numpy())"
   ]
  },
  {
   "cell_type": "markdown",
   "metadata": {
    "colab_type": "text",
    "collapsed": false,
    "id": "fErvUwgcdHSF",
    "pycharm": {
     "name": "#%% md\n"
    }
   },
   "source": [
    "最後，我們就可以透過優化器來求最大概似解了。在這邊需特別注意的是，由於 `loc` 與 `scale` 原本的數值為真實參數的數值，為了要展示優化器的正確運作，我們將其起始值設為一個較差的數值。"
   ]
  },
  {
   "cell_type": "code",
   "execution_count": 20,
   "metadata": {
    "colab": {
     "base_uri": "https://localhost:8080/",
     "height": 34
    },
    "colab_type": "code",
    "execution": {
     "iopub.execute_input": "2020-12-23T06:11:46.407743Z",
     "iopub.status.busy": "2020-12-23T06:11:46.407066Z",
     "iopub.status.idle": "2020-12-23T06:11:47.499197Z",
     "shell.execute_reply": "2020-12-23T06:11:47.499643Z"
    },
    "id": "dVVB6J9VdHSG",
    "outputId": "3e1bb5cb-7465-4584-878a-d073a6902c23",
    "pycharm": {
     "name": "#%%\n"
    }
   },
   "outputs": [
    {
     "name": "stdout",
     "output_type": "stream",
     "text": [
      "Adam Optimizer Converges After 276 Iterations\n"
     ]
    }
   ],
   "source": [
    "epochs = 400\n",
    "tol = 10**(-5)\n",
    "learning_rate = 1.0\n",
    "normal_model.loc.assign([1., 1.])\n",
    "normal_model.scale.assign([.5, .5])\n",
    "optimizer = tf.optimizers.Adam(learning_rate)\n",
    "for epoch in tf.range(epochs):\n",
    "    with tf.GradientTape() as tape:\n",
    "        loss_value = -tf.reduce_mean(tf.reduce_sum(normal_model.log_prob(x), axis = 1))\n",
    "    gradients = tape.gradient(loss_value,\n",
    "                              normal_model.trainable_variables)\n",
    "    optimizer.apply_gradients(zip(gradients,\n",
    "                                  normal_model.trainable_variables))\n",
    "    if (tf.reduce_max(\n",
    "            [tf.reduce_mean(\n",
    "                tf.math.abs(x)) for x in gradients]).numpy()) < tol:\n",
    "        print(\"{n} Optimizer Converges After {i} Iterations\".format(\n",
    "            n=optimizer.__class__.__name__, i=epoch))\n",
    "        break"
   ]
  },
  {
   "cell_type": "markdown",
   "metadata": {
    "colab_type": "text",
    "collapsed": false,
    "id": "GfY2994EdHSI"
   },
   "source": [
    "接著，我們比較優化器求得的解，以及分析解之間的差異（常態分配平均數與標準差的分析解即為樣本平均數與除上 $N$ 的標準差）"
   ]
  },
  {
   "cell_type": "code",
   "execution_count": 21,
   "metadata": {
    "colab": {
     "base_uri": "https://localhost:8080/",
     "height": 87
    },
    "colab_type": "code",
    "execution": {
     "iopub.execute_input": "2020-12-23T06:11:47.503523Z",
     "iopub.status.busy": "2020-12-23T06:11:47.502814Z",
     "iopub.status.idle": "2020-12-23T06:11:47.505987Z",
     "shell.execute_reply": "2020-12-23T06:11:47.506448Z"
    },
    "id": "9uAr62N9dHSJ",
    "outputId": "70d56207-f12d-4dbe-8cb0-e74579d26f92",
    "pycharm": {
     "name": "#%%\n"
    }
   },
   "outputs": [
    {
     "name": "stdout",
     "output_type": "stream",
     "text": [
      "ML mean estimate: \n",
      " [-0.03601326 -0.03063894]\n",
      "ML standard deviation estimate: \n",
      " [0.99562484 1.0044298 ]\n"
     ]
    }
   ],
   "source": [
    "print(\"ML mean estimate: \\n\", \n",
    "      normal_model.loc.numpy())\n",
    "print(\"ML standard deviation estimate: \\n\", \n",
    "      normal_model.scale.numpy())"
   ]
  },
  {
   "cell_type": "code",
   "execution_count": 22,
   "metadata": {
    "colab": {
     "base_uri": "https://localhost:8080/",
     "height": 87
    },
    "colab_type": "code",
    "execution": {
     "iopub.execute_input": "2020-12-23T06:11:47.510248Z",
     "iopub.status.busy": "2020-12-23T06:11:47.509480Z",
     "iopub.status.idle": "2020-12-23T06:11:47.512929Z",
     "shell.execute_reply": "2020-12-23T06:11:47.513443Z"
    },
    "id": "Ja4QA3_GezuW",
    "outputId": "b40dc325-85e8-453d-f463-cd589f92eed1"
   },
   "outputs": [
    {
     "name": "stdout",
     "output_type": "stream",
     "text": [
      "sample mean: \n",
      " [-0.0360147  -0.03063884]\n",
      "sample standard deviation: \n",
      " [0.9956158 1.0044307]\n"
     ]
    }
   ],
   "source": [
    "print(\"sample mean: \\n\", \n",
    "      tf.reduce_mean(x, axis = 0).numpy())\n",
    "print(\"sample standard deviation: \\n\", \n",
    "      tfp.stats.stddev(x, sample_axis = 0).numpy())"
   ]
  },
  {
   "cell_type": "markdown",
   "metadata": {
    "colab_type": "text",
    "collapsed": false,
    "id": "PWe4hHu-cvyK"
   },
   "source": [
    "我們可看到兩組解的數值幾乎相同，顯示優化器在這邊有確實地找到最大概似解。\n",
    "\n",
    "由於前述的優化程式碼，在後續的小節中仍然會持續被用到，故我們將其包成一個 `train` 函數，以便後續使用。"
   ]
  },
  {
   "cell_type": "code",
   "execution_count": 23,
   "metadata": {
    "colab": {},
    "colab_type": "code",
    "execution": {
     "iopub.execute_input": "2020-12-23T06:11:47.519507Z",
     "iopub.status.busy": "2020-12-23T06:11:47.518765Z",
     "iopub.status.idle": "2020-12-23T06:11:47.520841Z",
     "shell.execute_reply": "2020-12-23T06:11:47.521365Z"
    },
    "id": "ttPqIUjbdHSO",
    "pycharm": {
     "name": "#%%\n"
    }
   },
   "outputs": [],
   "source": [
    "def train(model, x, optimizer, initial_values, epochs, tol):\n",
    "    for initial_value, trainable_variable in \\\n",
    "            zip(initial_values, model.trainable_variables):\n",
    "        trainable_variable.assign(initial_value)\n",
    "    for epoch in tf.range(epochs):\n",
    "        with tf.GradientTape() as tape:\n",
    "            loss_value = -tf.reduce_mean(\n",
    "                tf.reduce_sum(model.log_prob(x), axis = 1))\n",
    "        gradients = tape.gradient(loss_value,\n",
    "                                  model.trainable_variables)\n",
    "        optimizer.apply_gradients(zip(gradients,\n",
    "                                      model.trainable_variables))\n",
    "        if (tf.reduce_max(\n",
    "                [tf.reduce_mean(\n",
    "                    tf.math.abs(x)) for x in gradients]).numpy()) < tol:\n",
    "            print(\"{n} Optimizer Converges After {i} Iterations\".format(\n",
    "                n=optimizer.__class__.__name__, i=epoch))\n",
    "            break"
   ]
  },
  {
   "cell_type": "markdown",
   "metadata": {
    "colab_type": "text",
    "collapsed": false,
    "id": "rae_6zMedHSR",
    "pycharm": {
     "name": "#%% md\n"
    }
   },
   "source": [
    "### 利用對射進行變數轉換\n",
    "前述的最大概似估計過程，並未對於參數估計之數值進行限制，其考慮的是非限制的優化問題（unconstrained optimization problem），然而，在實際進行優化時，若未對於參數數值進行限制的話，可能會獲得不合理之估計值（如負的變異數等）。\n",
    "\n",
    "在 TFP 的架構中，主要是透過對於參數進行對射（bijection），將原始受限制的參數轉為非限制的參數後進行估計。TFP 所內建的對射函數，可參考其 [官方網頁](https://www.tensorflow.org/probability/api_docs/python/tfp/bijectors)。\n",
    "\n",
    "在下面的範例中，我們利用 `tfp.util.TransformedVariable` 與 `tfb.Exp()` ，將常態分配的變異數 $\\sigma$ 參數化為 $\\exp(\\gamma)$，將原本需進行估計 $\\mu$ 與 $\\sigma$ 的優化問題，轉為估計 $\\mu$ 與 $\\gamma$，此時，我們不需要對 $\\gamma$ 的數值範圍進行限制，其在透過 $\\exp$ 函數的轉換後，會自動符合模型隱含的限制式。"
   ]
  },
  {
   "cell_type": "code",
   "execution_count": 24,
   "metadata": {
    "colab": {
     "base_uri": "https://localhost:8080/",
     "height": 125
    },
    "colab_type": "code",
    "execution": {
     "iopub.execute_input": "2020-12-23T06:11:47.530284Z",
     "iopub.status.busy": "2020-12-23T06:11:47.529526Z",
     "iopub.status.idle": "2020-12-23T06:11:47.531861Z",
     "shell.execute_reply": "2020-12-23T06:11:47.532312Z"
    },
    "id": "5xEX0NuadHSR",
    "outputId": "8e22e1bb-0d12-4135-855a-ee2a561c49fd",
    "pycharm": {
     "name": "#%%\n"
    }
   },
   "outputs": [
    {
     "name": "stdout",
     "output_type": "stream",
     "text": [
      "normal model:\n",
      " tfp.distributions.Normal(\"Normal\", batch_shape=[2], event_shape=[], dtype=float32) \n",
      "\n",
      "parameters in normal model:\n",
      " (<tf.Variable 'loc:0' shape=(2,) dtype=float32, numpy=array([0., 0.], dtype=float32)>, <tf.Variable 'scale:0' shape=(2,) dtype=float32, numpy=array([0., 0.], dtype=float32)>)\n"
     ]
    }
   ],
   "source": [
    "tfb = tfp.bijectors\n",
    "batch_size = 2\n",
    "normal_model_tr = tfd.Normal(\n",
    "    loc=tf.Variable(tf.zeros(batch_size), name='loc'),\n",
    "    scale=tfp.util.TransformedVariable(\n",
    "        tf.ones(batch_size),\n",
    "        bijector=tfb.Exp(), name=\"scale\"))\n",
    "print(\"normal model:\\n\", normal_model_tr, \"\\n\")\n",
    "print(\"parameters in normal model:\\n\", normal_model_tr.trainable_variables)"
   ]
  },
  {
   "cell_type": "markdown",
   "metadata": {
    "colab_type": "text",
    "collapsed": false,
    "id": "oVvtaThrdHST",
    "pycharm": {
     "name": "#%% md\n"
    }
   },
   "source": [
    "我們可以直接使用前述的優化程式碼來獲得重新參數化後的參數估計"
   ]
  },
  {
   "cell_type": "code",
   "execution_count": 25,
   "metadata": {
    "colab": {
     "base_uri": "https://localhost:8080/",
     "height": 105
    },
    "colab_type": "code",
    "execution": {
     "iopub.execute_input": "2020-12-23T06:11:47.537689Z",
     "iopub.status.busy": "2020-12-23T06:11:47.537074Z",
     "iopub.status.idle": "2020-12-23T06:11:48.423712Z",
     "shell.execute_reply": "2020-12-23T06:11:48.424165Z"
    },
    "id": "ZvEhEahkdHSU",
    "outputId": "3716b593-4a66-4dfe-b62d-de1a21b3b062",
    "pycharm": {
     "name": "#%%\n"
    }
   },
   "outputs": [
    {
     "name": "stdout",
     "output_type": "stream",
     "text": [
      "Adam Optimizer Converges After 206 Iterations\n",
      "ML mean estimate: \n",
      " [-0.03603007 -0.03065409]\n",
      "ML standard deviation estimate: \n",
      " [0.99563926 1.0044488 ]\n"
     ]
    }
   ],
   "source": [
    "train(model=normal_model_tr,\n",
    "      x=x,\n",
    "      optimizer=tf.optimizers.Adam(learning_rate=1.),\n",
    "      initial_values=([1., 1.], [.5, .5]),\n",
    "      epochs=400,\n",
    "      tol=10**(-5))\n",
    "\n",
    "print(\"ML mean estimate: \\n\",\n",
    "      normal_model_tr.loc.numpy())\n",
    "print(\"ML standard deviation estimate: \\n\",\n",
    "      normal_model_tr.scale.numpy())"
   ]
  },
  {
   "cell_type": "markdown",
   "metadata": {
    "colab_type": "text",
    "collapsed": false,
    "id": "CTZysd6scvyK",
    "pycharm": {
     "name": "#%% md\n"
    }
   },
   "source": [
    "此變數轉換的作法，在進行多元常態分配共變異數估計時，特別的有幫助。一般來說，多元常態分配假設共變異數矩陣為對稱的正定矩陣（positive definite matrix），然而，一般在進行參數估計時，並無法保證此條件被滿足\n",
    "\n",
    "即便 `tfd.MultivariateNormalTriL` 已採用了"
   ]
  },
  {
   "cell_type": "code",
   "execution_count": 26,
   "metadata": {
    "colab": {
     "base_uri": "https://localhost:8080/",
     "height": 107
    },
    "colab_type": "code",
    "execution": {
     "iopub.execute_input": "2020-12-23T06:11:48.431094Z",
     "iopub.status.busy": "2020-12-23T06:11:48.430495Z",
     "iopub.status.idle": "2020-12-23T06:11:48.446141Z",
     "shell.execute_reply": "2020-12-23T06:11:48.446651Z"
    },
    "id": "OWGvSlwUdHSY",
    "outputId": "eb09d2ca-772c-4997-afbe-47718088e881",
    "pycharm": {
     "name": "#%%\n"
    }
   },
   "outputs": [
    {
     "name": "stdout",
     "output_type": "stream",
     "text": [
      "tfp.distributions.MultivariateNormalTriL(\"MultivariateNormalTriL\", batch_shape=[], event_shape=[3], dtype=float32)\n",
      "(<tf.Variable 'loc:0' shape=(3,) dtype=float32, numpy=array([ 0.,  1., -1.], dtype=float32)>, <tf.Variable 'scale:0' shape=(6,) dtype=float32, numpy=\n",
      "array([ 5.8611017e-02, -1.2493902e-01,  6.0000002e-01, -1.0013630e-05,\n",
      "       -4.4581467e-01,  3.0000001e-01], dtype=float32)>)\n"
     ]
    }
   ],
   "source": [
    "loc = tf.constant([0., 1., -1.])\n",
    "cov = tf.constant([[1, .3, .6], [.3, .5, .1], [.6, .1, 1.5]])\n",
    "to_scale_tril = tfb.Chain([\n",
    "    tfb.Invert(\n",
    "        tfb.FillTriangular(validate_args=True)),\n",
    "    tfb.TransformDiagonal(\n",
    "        tfb.Invert(tfb.Exp(validate_args=True)))])\n",
    "\n",
    "mvn_model = tfd.MultivariateNormalTriL(\n",
    "    loc=tf.Variable(loc, name='loc'),\n",
    "    scale_tril=tfp.util.TransformedVariable(\n",
    "        tf.linalg.cholesky(cov).numpy(),\n",
    "        bijector=tfp.bijectors.FillScaleTriL(\n",
    "            diag_bijector = tfb.Exp()),\n",
    "        name=\"scale\"))\n",
    "print(mvn_model)\n",
    "print(mvn_model.trainable_variables)"
   ]
  },
  {
   "cell_type": "code",
   "execution_count": 27,
   "metadata": {
    "colab": {
     "base_uri": "https://localhost:8080/",
     "height": 175
    },
    "colab_type": "code",
    "execution": {
     "iopub.execute_input": "2020-12-23T06:11:48.451298Z",
     "iopub.status.busy": "2020-12-23T06:11:48.450480Z",
     "iopub.status.idle": "2020-12-23T06:11:48.476707Z",
     "shell.execute_reply": "2020-12-23T06:11:48.477440Z"
    },
    "id": "3ipFEemRdHSa",
    "outputId": "cd06e69d-ee79-4eb6-ac48-0f9932127d5c",
    "pycharm": {
     "name": "#%%\n"
    }
   },
   "outputs": [
    {
     "name": "stdout",
     "output_type": "stream",
     "text": [
      "[[ 1.          0.          0.        ]\n",
      " [ 0.3         0.64031243  0.        ]\n",
      " [ 0.6        -0.12493902  1.0603727 ]]\n",
      "[[ 1.          0.          0.        ]\n",
      " [ 0.3         0.64031243  0.        ]\n",
      " [ 0.6        -0.12493902  1.0603727 ]]\n",
      "[[1.        0.3       0.6      ]\n",
      " [0.3       0.5       0.1      ]\n",
      " [0.6       0.1       1.5000001]]\n"
     ]
    }
   ],
   "source": [
    "print(tf.linalg.cholesky(cov).numpy())\n",
    "print(mvn_model.scale_tril.numpy())\n",
    "print(mvn_model.covariance().numpy())\n"
   ]
  }
 ],
 "metadata": {
  "accelerator": "GPU",
  "colab": {
   "collapsed_sections": [],
   "name": "lab-probability.ipynb",
   "provenance": []
  },
  "kernelspec": {
   "display_name": "Python 3",
   "language": "python",
   "name": "python3"
  },
  "language_info": {
   "codemirror_mode": {
    "name": "ipython",
    "version": 3
   },
   "file_extension": ".py",
   "mimetype": "text/x-python",
   "name": "python",
   "nbconvert_exporter": "python",
   "pygments_lexer": "ipython3",
   "version": "3.8.5"
  }
 },
 "nbformat": 4,
 "nbformat_minor": 0
}