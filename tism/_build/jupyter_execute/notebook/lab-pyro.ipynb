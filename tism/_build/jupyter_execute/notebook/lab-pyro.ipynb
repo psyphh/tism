{
 "cells": [
  {
   "cell_type": "markdown",
   "metadata": {
    "collapsed": false
   },
   "source": [
    "\n",
    "Lab: `pyro`簡介\n",
    "================\n",
    "在 `colab` 上，請先使用以下指定安裝 `pyro`\n",
    "\n",
    "`!pip3 install pyro-ppl`"
   ]
  },
  {
   "cell_type": "code",
   "execution_count": 1,
   "metadata": {
    "collapsed": false,
    "execution": {
     "iopub.execute_input": "2020-12-15T01:17:20.377972Z",
     "iopub.status.busy": "2020-12-15T01:17:20.377219Z",
     "iopub.status.idle": "2020-12-15T01:17:22.088026Z",
     "shell.execute_reply": "2020-12-15T01:17:22.088469Z"
    },
    "pycharm": {
     "name": "#%%\n"
    }
   },
   "outputs": [],
   "source": [
    "import torch\n",
    "import pyro"
   ]
  },
  {
   "cell_type": "markdown",
   "metadata": {
    "collapsed": false
   },
   "source": [
    "## `pyro` 產生隨機資料\n",
    "\n",
    "`pyro` 產生隨機資料的方式與 `torch.distribution` 很類似，但其主要透過 `pyro.sample` 進行抽樣，且每次的抽樣，都可以對該隨機變數設定一名稱。在以下的例子中，我們先後產生滿足邏輯斯迴歸架構之 `data_x` 與 `data_y`："
   ]
  },
  {
   "cell_type": "code",
   "execution_count": 2,
   "metadata": {
    "collapsed": false,
    "execution": {
     "iopub.execute_input": "2020-12-15T01:17:22.094133Z",
     "iopub.status.busy": "2020-12-15T01:17:22.092158Z",
     "iopub.status.idle": "2020-12-15T01:17:22.097897Z",
     "shell.execute_reply": "2020-12-15T01:17:22.098369Z"
    },
    "pycharm": {
     "name": "#%%\n"
    }
   },
   "outputs": [],
   "source": [
    "torch.manual_seed(246437)\n",
    "n_sample = 10000\n",
    "n_feature = 3\n",
    "data_x = pyro.sample(\"data_x\", pyro.distributions.MultivariateNormal(\n",
    "            loc = torch.zeros(n_sample, n_feature),\n",
    "            scale_tril = torch.eye(n_feature)))"
   ]
  },
  {
   "cell_type": "code",
   "execution_count": 3,
   "metadata": {
    "collapsed": false,
    "execution": {
     "iopub.execute_input": "2020-12-15T01:17:22.102333Z",
     "iopub.status.busy": "2020-12-15T01:17:22.101735Z",
     "iopub.status.idle": "2020-12-15T01:17:22.106449Z",
     "shell.execute_reply": "2020-12-15T01:17:22.106931Z"
    },
    "pycharm": {
     "name": "#%%\n"
    }
   },
   "outputs": [
    {
     "name": "stdout",
     "output_type": "stream",
     "text": [
      "tensor([0.0063, 0.0103, 0.0074])\n",
      "tensor([[ 1.0085,  0.0217,  0.0029],\n",
      "        [ 0.0217,  0.9884, -0.0095],\n",
      "        [ 0.0029, -0.0095,  0.9971]])\n"
     ]
    }
   ],
   "source": [
    "mu_x = data_x.mean(axis = 0)\n",
    "sigma_x = (data_x - data_x.mean(axis = 0)).T @ (data_x - data_x.mean(axis = 0)) / n_sample\n",
    "print(mu_x)\n",
    "print(sigma_x)\n"
   ]
  },
  {
   "cell_type": "code",
   "execution_count": 4,
   "metadata": {
    "collapsed": false,
    "execution": {
     "iopub.execute_input": "2020-12-15T01:17:22.112290Z",
     "iopub.status.busy": "2020-12-15T01:17:22.111571Z",
     "iopub.status.idle": "2020-12-15T01:17:22.114206Z",
     "shell.execute_reply": "2020-12-15T01:17:22.114683Z"
    },
    "pycharm": {
     "name": "#%%\n"
    }
   },
   "outputs": [],
   "source": [
    "weight_true = torch.tensor([[10.], [5.], [-5.]])\n",
    "intercept_true = torch.tensor(-5.)\n",
    "data_y = pyro.sample(\"data_y\", pyro.distributions.Bernoulli(\n",
    "    logits = intercept_true + data_x @ weight_true))\n",
    "data = {\"y\":data_y, \"x\":data_x}\n",
    "\n"
   ]
  },
  {
   "cell_type": "markdown",
   "metadata": {
    "collapsed": false
   },
   "source": [
    "## `pyro` 對邏輯斯回歸進行最大概似法估計"
   ]
  },
  {
   "cell_type": "markdown",
   "metadata": {
    "collapsed": false,
    "pycharm": {
     "name": "#%% md\n"
    }
   },
   "source": [
    "使用 `pyro` 進行最大概似法估計，最簡單的方法是透過 `pyro.infer.SVI` 此物件進行，該物件主要用於進行變分推論（variational inference），在使用 `pyro.infer.SVI` 時，使用者需設定一模型（`model`）之機率分佈，以及一指引（`guide`）之機率分佈，由於我們在這邊使用最大概似法，因此，將指引設為什麼都沒做的函數。"
   ]
  },
  {
   "cell_type": "code",
   "execution_count": 5,
   "metadata": {
    "collapsed": false,
    "execution": {
     "iopub.execute_input": "2020-12-15T01:17:22.119564Z",
     "iopub.status.busy": "2020-12-15T01:17:22.118853Z",
     "iopub.status.idle": "2020-12-15T01:17:22.121728Z",
     "shell.execute_reply": "2020-12-15T01:17:22.121191Z"
    },
    "pycharm": {
     "name": "#%%\n"
    }
   },
   "outputs": [],
   "source": [
    "def model_lr(data):\n",
    "    weight = pyro.param(\"weight\", torch.zeros((3,1)))\n",
    "    intercept = pyro.param(\"intercept\", torch.zeros(()))\n",
    "    logits = intercept + data[\"x\"] @ weight\n",
    "    y = pyro.sample(\"y\", pyro.distributions.Bernoulli(logits = logits),\n",
    "                    obs = data[\"y\"])\n",
    "    return y\n",
    "\n",
    "def guide_lr(data):\n",
    "    pass"
   ]
  },
  {
   "cell_type": "markdown",
   "metadata": {
    "collapsed": false,
    "pycharm": {
     "name": "#%% md\n"
    }
   },
   "source": [
    "接著，我們就可以使用 `pyro.infer.SVI` 來進行優化。"
   ]
  },
  {
   "cell_type": "code",
   "execution_count": 6,
   "metadata": {
    "collapsed": false,
    "execution": {
     "iopub.execute_input": "2020-12-15T01:17:22.127950Z",
     "iopub.status.busy": "2020-12-15T01:17:22.127045Z",
     "iopub.status.idle": "2020-12-15T01:17:22.291021Z",
     "shell.execute_reply": "2020-12-15T01:17:22.290561Z"
    },
    "pycharm": {
     "name": "#%%\n"
    }
   },
   "outputs": [
    {
     "name": "stdout",
     "output_type": "stream",
     "text": [
      "[iter 0]  loss: 6931.4731\n",
      "[iter 50]  loss: 984.7116\n",
      "[iter 100]  loss: 969.8328\n",
      "[iter 150]  loss: 967.9623\n",
      "[iter 200]  loss: 967.8027\n"
     ]
    }
   ],
   "source": [
    "lr = 50. / n_sample\n",
    "n_steps = 201\n",
    "\n",
    "pyro.clear_param_store()\n",
    "optimizer = pyro.optim.SGD({\"lr\": lr})\n",
    "svi = pyro.infer.SVI(model_lr, guide_lr, optimizer,\n",
    "                     loss=pyro.infer.Trace_ELBO())\n",
    "\n",
    "for step in range(n_steps):\n",
    "    loss = svi.step(data)\n",
    "    if step % 50 == 0:\n",
    "        print('[iter {}]  loss: {:.4f}'.format(step, loss))"
   ]
  },
  {
   "cell_type": "code",
   "execution_count": 7,
   "metadata": {
    "collapsed": false,
    "execution": {
     "iopub.execute_input": "2020-12-15T01:17:22.295443Z",
     "iopub.status.busy": "2020-12-15T01:17:22.294828Z",
     "iopub.status.idle": "2020-12-15T01:17:22.298806Z",
     "shell.execute_reply": "2020-12-15T01:17:22.299271Z"
    },
    "pycharm": {
     "name": "#%%\n"
    }
   },
   "outputs": [
    {
     "name": "stdout",
     "output_type": "stream",
     "text": [
      "weight\n",
      "intercept\n",
      "tensor([[10.1213],\n",
      "        [ 5.0705],\n",
      "        [-5.0297]], requires_grad=True)\n",
      "tensor(-5.0715, requires_grad=True)\n"
     ]
    }
   ],
   "source": [
    "for name in pyro.get_param_store():\n",
    "    print(name)\n",
    "\n",
    "print(pyro.param(\"weight\"))\n",
    "print(pyro.param(\"intercept\"))\n",
    "\n"
   ]
  },
  {
   "cell_type": "markdown",
   "metadata": {
    "collapsed": false
   },
   "source": [
    "## `pyro` 對因素分析模型進行最大概似法估計\n",
    "以下程式碼用於產生因素分析之資料"
   ]
  },
  {
   "cell_type": "code",
   "execution_count": 8,
   "metadata": {
    "collapsed": true,
    "execution": {
     "iopub.execute_input": "2020-12-15T01:17:22.307332Z",
     "iopub.status.busy": "2020-12-15T01:17:22.306693Z",
     "iopub.status.idle": "2020-12-15T01:17:22.311999Z",
     "shell.execute_reply": "2020-12-15T01:17:22.312635Z"
    }
   },
   "outputs": [],
   "source": [
    "def create_fa_model(n_factor, n_item, ld, psi = None, rho = None):\n",
    "    if (n_item % n_factor) != 0:\n",
    "        n_item = n_factor * (n_item // n_factor)\n",
    "    loading = torch.zeros((n_item, n_factor))\n",
    "    item_per_factor = (n_item // n_factor)\n",
    "    for i in range(n_factor):\n",
    "        for j in range(i * item_per_factor,\n",
    "                       (i + 1) * item_per_factor):\n",
    "            loading[j, i] = ld\n",
    "    if rho is None:\n",
    "        cor = torch.eye(n_factor)\n",
    "    else:\n",
    "        unit = torch.ones((n_factor, 1))\n",
    "        identity = torch.eye(n_factor)\n",
    "        cor = rho * (unit @ unit.T) + (1 - rho) * identity\n",
    "    if psi is None:\n",
    "        uniqueness = 1 - torch.diagonal(loading @ cor @ loading.T)\n",
    "    else:\n",
    "        uniqueness = psi * torch.ones((n_item, ))\n",
    "    return loading, uniqueness, cor\n",
    "\n",
    "def generate_fa_data(n_sample, loading, uniqueness, cor):\n",
    "    n_item = loading.size()[0]\n",
    "    mean = torch.zeros((n_item, ))\n",
    "    cov = loading @ cor @ loading.T + torch.diag_embed(uniqueness)\n",
    "    mvn = torch.distributions.MultivariateNormal(\n",
    "        loc = mean, scale_tril = torch.cholesky(cov))\n",
    "    data = mvn.sample((n_sample,))\n",
    "    return data\n",
    "\n",
    "torch.manual_seed(246437)\n",
    "n_factor = 4\n",
    "n_item = 12\n",
    "n_sample = 10000\n",
    "loading_true, uniqueness_true, cor_true = create_fa_model(n_factor, n_item, ld = .7)\n",
    "data = generate_fa_data(n_sample,\n",
    "                        loading = loading_true,\n",
    "                        uniqueness = uniqueness_true,\n",
    "                        cor = cor_true)"
   ]
  },
  {
   "cell_type": "markdown",
   "metadata": {
    "collapsed": false
   },
   "source": [
    "接著，我們設定觀察變項之邊際分佈。這邊，我們在模型設定時，使用了 `pyro.plate` 來進行重複之設定。"
   ]
  },
  {
   "cell_type": "code",
   "execution_count": 9,
   "metadata": {
    "collapsed": false,
    "execution": {
     "iopub.execute_input": "2020-12-15T01:17:22.317981Z",
     "iopub.status.busy": "2020-12-15T01:17:22.317279Z",
     "iopub.status.idle": "2020-12-15T01:17:22.319185Z",
     "shell.execute_reply": "2020-12-15T01:17:22.319650Z"
    },
    "pycharm": {
     "name": "#%%\n"
    }
   },
   "outputs": [],
   "source": [
    "def model_fa(data):\n",
    "    loading = pyro.param(\"loading\", 0.5 * loading_true)\n",
    "    uniqueness = pyro.param(\"uniqueness\", 0.5 * uniqueness_true)\n",
    "    loading_mask = 1 *  (loading_true != 0)\n",
    "    with pyro.plate(\"data\", data.size(0)):\n",
    "        pyro.sample(\"x\", pyro.distributions.MultivariateNormal(\n",
    "            loc = torch.zeros((loading.size()[0], )),\n",
    "            scale_tril = torch.cholesky(\n",
    "                (loading * loading_mask) @ (loading * loading_mask).T + torch.diag_embed(uniqueness))),\n",
    "            obs=data)\n",
    "\n",
    "def guide_fa(data):\n",
    "    pass"
   ]
  },
  {
   "cell_type": "code",
   "execution_count": 10,
   "metadata": {
    "collapsed": false,
    "execution": {
     "iopub.execute_input": "2020-12-15T01:17:22.324641Z",
     "iopub.status.busy": "2020-12-15T01:17:22.323941Z",
     "iopub.status.idle": "2020-12-15T01:17:23.284144Z",
     "shell.execute_reply": "2020-12-15T01:17:23.285509Z"
    },
    "pycharm": {
     "name": "#%%\n"
    }
   },
   "outputs": [
    {
     "name": "stdout",
     "output_type": "stream",
     "text": [
      "[iter 0]  loss: 189637.8906\n"
     ]
    },
    {
     "name": "stdout",
     "output_type": "stream",
     "text": [
      "[iter 50]  loss: 156899.3438\n"
     ]
    },
    {
     "name": "stdout",
     "output_type": "stream",
     "text": [
      "[iter 100]  loss: 156943.4688\n"
     ]
    },
    {
     "name": "stdout",
     "output_type": "stream",
     "text": [
      "[iter 150]  loss: 156944.6719\n"
     ]
    },
    {
     "name": "stdout",
     "output_type": "stream",
     "text": [
      "[iter 200]  loss: 156944.6719\n"
     ]
    }
   ],
   "source": [
    "lr = 1. / n_sample\n",
    "n_steps = 201\n",
    "pyro.clear_param_store()\n",
    "optimizer = pyro.optim.SGD({\"lr\": lr})\n",
    "svi = pyro.infer.SVI(model_fa, guide_fa, optimizer, loss=pyro.infer.Trace_ELBO())\n",
    "\n",
    "for step in range(n_steps):\n",
    "    loss = svi.step(data)\n",
    "    if step % 50 == 0:\n",
    "        print('[iter {}]  loss: {:.4f}'.format(step, loss))"
   ]
  },
  {
   "cell_type": "code",
   "execution_count": 11,
   "metadata": {
    "collapsed": false,
    "execution": {
     "iopub.execute_input": "2020-12-15T01:17:23.290143Z",
     "iopub.status.busy": "2020-12-15T01:17:23.289336Z",
     "iopub.status.idle": "2020-12-15T01:17:23.293947Z",
     "shell.execute_reply": "2020-12-15T01:17:23.294880Z"
    },
    "pycharm": {
     "name": "#%%\n"
    }
   },
   "outputs": [
    {
     "name": "stdout",
     "output_type": "stream",
     "text": [
      "tensor([[0.6992, 0.0000, 0.0000, 0.0000],\n",
      "        [0.6954, 0.0000, 0.0000, 0.0000],\n",
      "        [0.6993, 0.0000, 0.0000, 0.0000],\n",
      "        [0.0000, 0.7133, 0.0000, 0.0000],\n",
      "        [0.0000, 0.7040, 0.0000, 0.0000],\n",
      "        [0.0000, 0.7090, 0.0000, 0.0000],\n",
      "        [0.0000, 0.0000, 0.7618, 0.0000],\n",
      "        [0.0000, 0.0000, 0.6650, 0.0000],\n",
      "        [0.0000, 0.0000, 0.6700, 0.0000],\n",
      "        [0.0000, 0.0000, 0.0000, 0.6963],\n",
      "        [0.0000, 0.0000, 0.0000, 0.7116],\n",
      "        [0.0000, 0.0000, 0.0000, 0.7105]], requires_grad=True)\n",
      "tensor([0.5055, 0.5043, 0.5135, 0.5078, 0.5059, 0.5122, 0.5224, 0.5030, 0.5064,\n",
      "        0.5262, 0.4993, 0.5094], requires_grad=True)\n"
     ]
    }
   ],
   "source": [
    "print(pyro.param(\"loading\"))\n",
    "print(pyro.param(\"uniqueness\"))\n"
   ]
  },
  {
   "cell_type": "markdown",
   "metadata": {
    "collapsed": false
   },
   "source": [
    "前述設定的模型中，我們在設定模型與指引時，皆直接將樣本資料視為函數的輸入，事實上，此給定的動作可以事後在使用 `pyro.poutine.condition` 進行。\n"
   ]
  },
  {
   "cell_type": "code",
   "execution_count": 12,
   "metadata": {
    "collapsed": false,
    "execution": {
     "iopub.execute_input": "2020-12-15T01:17:23.303484Z",
     "iopub.status.busy": "2020-12-15T01:17:23.302859Z",
     "iopub.status.idle": "2020-12-15T01:17:23.304820Z",
     "shell.execute_reply": "2020-12-15T01:17:23.305319Z"
    },
    "pycharm": {
     "name": "#%%\n"
    }
   },
   "outputs": [],
   "source": [
    "def model_fa():\n",
    "    loading = pyro.param(\"loading\", 0.5 * loading_true)\n",
    "    uniqueness = pyro.param(\"uniqueness\", 0.5 * uniqueness_true)\n",
    "    loading_mask = 1 *  (loading_true != 0)\n",
    "    with pyro.plate(\"data\", data.size(0)):\n",
    "        pyro.sample(\"x\", pyro.distributions.MultivariateNormal(\n",
    "            loc = torch.zeros((loading.size()[0], )),\n",
    "            scale_tril = torch.cholesky(\n",
    "                (loading * loading_mask) @ (loading * loading_mask).T + torch.diag_embed(uniqueness))))\n",
    "\n",
    "def guide_fa():\n",
    "    pass\n",
    "\n",
    "\n",
    "model_fa_cond = pyro.poutine.condition(model_fa, data={\"x\": data})\n",
    "guide_fa_cond = pyro.poutine.condition(guide_fa, data={\"x\": data})"
   ]
  },
  {
   "cell_type": "markdown",
   "metadata": {
    "collapsed": false
   },
   "source": [
    "接著，我們可以把 `model_fa_cond` 與 `guide_fa_cond` 丟到 `pyro.infer.SVI` 進行優化。"
   ]
  },
  {
   "cell_type": "code",
   "execution_count": 13,
   "metadata": {
    "collapsed": false,
    "execution": {
     "iopub.execute_input": "2020-12-15T01:17:23.310985Z",
     "iopub.status.busy": "2020-12-15T01:17:23.310057Z",
     "iopub.status.idle": "2020-12-15T01:17:24.433556Z",
     "shell.execute_reply": "2020-12-15T01:17:24.434023Z"
    },
    "pycharm": {
     "name": "#%%\n"
    }
   },
   "outputs": [
    {
     "name": "stdout",
     "output_type": "stream",
     "text": [
      "[iter 0]  loss: 189637.8906\n"
     ]
    },
    {
     "name": "stdout",
     "output_type": "stream",
     "text": [
      "[iter 50]  loss: 156899.3438\n"
     ]
    },
    {
     "name": "stdout",
     "output_type": "stream",
     "text": [
      "[iter 100]  loss: 156943.4688\n"
     ]
    },
    {
     "name": "stdout",
     "output_type": "stream",
     "text": [
      "[iter 150]  loss: 156944.6719\n"
     ]
    },
    {
     "name": "stdout",
     "output_type": "stream",
     "text": [
      "[iter 200]  loss: 156944.6719\n"
     ]
    }
   ],
   "source": [
    "lr = 1. / n_sample\n",
    "n_steps = 201\n",
    "pyro.clear_param_store()\n",
    "optimizer = pyro.optim.SGD({\"lr\": lr})\n",
    "svi = pyro.infer.SVI(model_fa_cond, guide_fa_cond, optimizer, loss=pyro.infer.Trace_ELBO())\n",
    "\n",
    "for step in range(n_steps):\n",
    "    loss = svi.step()\n",
    "    if step % 50 == 0:\n",
    "        print('[iter {}]  loss: {:.4f}'.format(step, loss))"
   ]
  },
  {
   "cell_type": "code",
   "execution_count": 14,
   "metadata": {
    "collapsed": false,
    "execution": {
     "iopub.execute_input": "2020-12-15T01:17:24.437885Z",
     "iopub.status.busy": "2020-12-15T01:17:24.436901Z",
     "iopub.status.idle": "2020-12-15T01:17:24.446955Z",
     "shell.execute_reply": "2020-12-15T01:17:24.446427Z"
    },
    "pycharm": {
     "name": "#%%\n"
    }
   },
   "outputs": [
    {
     "name": "stdout",
     "output_type": "stream",
     "text": [
      "tensor([[0.6992, 0.0000, 0.0000, 0.0000],\n",
      "        [0.6954, 0.0000, 0.0000, 0.0000],\n",
      "        [0.6993, 0.0000, 0.0000, 0.0000],\n",
      "        [0.0000, 0.7133, 0.0000, 0.0000],\n",
      "        [0.0000, 0.7040, 0.0000, 0.0000],\n",
      "        [0.0000, 0.7090, 0.0000, 0.0000],\n",
      "        [0.0000, 0.0000, 0.7618, 0.0000],\n",
      "        [0.0000, 0.0000, 0.6650, 0.0000],\n",
      "        [0.0000, 0.0000, 0.6700, 0.0000],\n",
      "        [0.0000, 0.0000, 0.0000, 0.6963],\n",
      "        [0.0000, 0.0000, 0.0000, 0.7116],\n",
      "        [0.0000, 0.0000, 0.0000, 0.7105]], requires_grad=True)\n",
      "tensor([0.5055, 0.5043, 0.5135, 0.5078, 0.5059, 0.5122, 0.5224, 0.5030, 0.5064,\n",
      "        0.5262, 0.4993, 0.5094], requires_grad=True)\n"
     ]
    }
   ],
   "source": [
    "print(pyro.param(\"loading\"))\n",
    "print(pyro.param(\"uniqueness\"))\n"
   ]
  },
  {
   "cell_type": "markdown",
   "metadata": {
    "collapsed": false,
    "pycharm": {
     "name": "#%% md\n"
    }
   },
   "source": [
    "### 利用隨機 EM 進行最大概似法"
   ]
  },
  {
   "cell_type": "code",
   "execution_count": 15,
   "metadata": {
    "collapsed": false,
    "execution": {
     "iopub.execute_input": "2020-12-15T01:17:24.452682Z",
     "iopub.status.busy": "2020-12-15T01:17:24.451982Z",
     "iopub.status.idle": "2020-12-15T01:17:24.454024Z",
     "shell.execute_reply": "2020-12-15T01:17:24.455758Z"
    },
    "pycharm": {
     "name": "#%%\n"
    }
   },
   "outputs": [],
   "source": [
    "def joint_model():\n",
    "    loading = pyro.param(\"loading\", 0.7 * loading_true)\n",
    "    uniqueness = pyro.param(\"uniqueness\", 0.7 * uniqueness_true)\n",
    "    loading_mask = 1 *  (loading_true != 0)\n",
    "    with pyro.plate(\"sample_plate\", n_sample):\n",
    "        eta = pyro.sample(\"eta\", pyro.distributions.MultivariateNormal(\n",
    "            loc = torch.zeros(n_factor),\n",
    "            scale_tril = torch.eye(n_factor)))\n",
    "        x = pyro.sample(\"x\", pyro.distributions.MultivariateNormal(\n",
    "                loc = eta @ (loading * loading_mask).T,\n",
    "                scale_tril = torch.cholesky(torch.diag(uniqueness))))\n",
    "    return x\n",
    "\n",
    "def joint_guide():\n",
    "    pass"
   ]
  },
  {
   "cell_type": "code",
   "execution_count": 16,
   "metadata": {
    "collapsed": false,
    "execution": {
     "iopub.execute_input": "2020-12-15T01:17:24.464856Z",
     "iopub.status.busy": "2020-12-15T01:17:24.464231Z",
     "iopub.status.idle": "2020-12-15T01:24:14.664747Z",
     "shell.execute_reply": "2020-12-15T01:24:14.665293Z"
    },
    "pycharm": {
     "name": "#%%\n"
    }
   },
   "outputs": [
    {
     "name": "stderr",
     "output_type": "stream",
     "text": [
      "\r",
      "Warmup:   0%|          | 0/21 [00:00, ?it/s]"
     ]
    },
    {
     "name": "stderr",
     "output_type": "stream",
     "text": [
      "\r",
      "Warmup:   5%|▍         | 1/21 [00:00,  9.78it/s, step size=4.67e+00, acc. prob=0.000]"
     ]
    },
    {
     "name": "stderr",
     "output_type": "stream",
     "text": [
      "\r",
      "Warmup:  19%|█▉        | 4/21 [00:00, 12.12it/s, step size=6.49e-01, acc. prob=0.500]"
     ]
    },
    {
     "name": "stderr",
     "output_type": "stream",
     "text": [
      "\r",
      "Warmup:  29%|██▊       | 6/21 [00:02,  3.05it/s, step size=8.08e-02, acc. prob=0.500]"
     ]
    },
    {
     "name": "stderr",
     "output_type": "stream",
     "text": [
      "\r",
      "Warmup:  33%|███▎      | 7/21 [00:02,  3.14it/s, step size=8.12e-02, acc. prob=0.547]"
     ]
    },
    {
     "name": "stderr",
     "output_type": "stream",
     "text": [
      "\r",
      "Warmup:  38%|███▊      | 8/21 [00:02,  2.70it/s, step size=1.44e-01, acc. prob=0.604]"
     ]
    },
    {
     "name": "stderr",
     "output_type": "stream",
     "text": [
      "\r",
      "Warmup:  43%|████▎     | 9/21 [00:02,  3.20it/s, step size=3.59e-02, acc. prob=0.578]"
     ]
    },
    {
     "name": "stderr",
     "output_type": "stream",
     "text": [
      "\r",
      "Warmup:  48%|████▊     | 10/21 [00:04,  1.86it/s, step size=6.67e-02, acc. prob=0.620]"
     ]
    },
    {
     "name": "stderr",
     "output_type": "stream",
     "text": [
      "\r",
      "Warmup:  52%|█████▏    | 11/21 [00:04,  1.79it/s, step size=4.61e-02, acc. prob=0.625]"
     ]
    },
    {
     "name": "stderr",
     "output_type": "stream",
     "text": [
      "\r",
      "Warmup:  57%|█████▋    | 12/21 [00:07,  1.14s/it, step size=5.50e-02, acc. prob=0.644]"
     ]
    },
    {
     "name": "stderr",
     "output_type": "stream",
     "text": [
      "\r",
      "Warmup:  62%|██████▏   | 13/21 [00:08,  1.25s/it, step size=1.04e-01, acc. prob=0.671]"
     ]
    },
    {
     "name": "stderr",
     "output_type": "stream",
     "text": [
      "\r",
      "Warmup:  67%|██████▋   | 14/21 [00:09,  1.01it/s, step size=3.14e-02, acc. prob=0.652]"
     ]
    },
    {
     "name": "stderr",
     "output_type": "stream",
     "text": [
      "\r",
      "Warmup:  71%|███████▏  | 15/21 [00:10,  1.10s/it, step size=4.12e-02, acc. prob=0.667]"
     ]
    },
    {
     "name": "stderr",
     "output_type": "stream",
     "text": [
      "\r",
      "Warmup:  76%|███████▌  | 16/21 [00:12,  1.33s/it, step size=7.84e-02, acc. prob=0.687]"
     ]
    },
    {
     "name": "stderr",
     "output_type": "stream",
     "text": [
      "\r",
      "Warmup:  81%|████████  | 17/21 [00:12,  1.11s/it, step size=1.04e+00, acc. prob=0.690]"
     ]
    },
    {
     "name": "stderr",
     "output_type": "stream",
     "text": [
      "\r",
      "Warmup:  95%|█████████▌| 20/21 [00:12,  1.26it/s, step size=6.11e-01, acc. prob=0.629]"
     ]
    },
    {
     "name": "stderr",
     "output_type": "stream",
     "text": [
      "\r",
      "Sample: 100%|██████████| 21/21 [00:13,  1.61it/s, step size=6.11e-01, acc. prob=0.182]"
     ]
    },
    {
     "name": "stderr",
     "output_type": "stream",
     "text": [
      "\n",
      "\r",
      "Warmup:   0%|          | 0/21 [00:00, ?it/s]"
     ]
    },
    {
     "name": "stderr",
     "output_type": "stream",
     "text": [
      "\r",
      "Warmup:  14%|█▍        | 3/21 [00:00, 17.13it/s, step size=4.80e-01, acc. prob=0.333]"
     ]
    },
    {
     "name": "stdout",
     "output_type": "stream",
     "text": [
      "[iter 0]  loss: 198613.4375\n"
     ]
    },
    {
     "name": "stderr",
     "output_type": "stream",
     "text": [
      "\r",
      "Warmup:  24%|██▍       | 5/21 [00:00, 14.89it/s, step size=6.63e-01, acc. prob=0.571]"
     ]
    },
    {
     "name": "stderr",
     "output_type": "stream",
     "text": [
      "\r",
      "Warmup:  33%|███▎      | 7/21 [00:01,  6.27it/s, step size=8.81e-02, acc. prob=0.551]"
     ]
    },
    {
     "name": "stderr",
     "output_type": "stream",
     "text": [
      "\r",
      "Warmup:  38%|███▊      | 8/21 [00:01,  4.49it/s, step size=9.98e-02, acc. prob=0.589]"
     ]
    },
    {
     "name": "stderr",
     "output_type": "stream",
     "text": [
      "\r",
      "Warmup:  43%|████▎     | 9/21 [00:01,  3.95it/s, step size=1.74e-01, acc. prob=0.633]"
     ]
    },
    {
     "name": "stderr",
     "output_type": "stream",
     "text": [
      "\r",
      "Warmup:  48%|████▊     | 10/21 [00:01,  4.53it/s, step size=2.83e-02, acc. prob=0.593]"
     ]
    },
    {
     "name": "stderr",
     "output_type": "stream",
     "text": [
      "\r",
      "Warmup:  52%|█████▏    | 11/21 [00:12,  3.47s/it, step size=5.30e-02, acc. prob=0.629]"
     ]
    },
    {
     "name": "stderr",
     "output_type": "stream",
     "text": [
      "\r",
      "Warmup:  57%|█████▋    | 12/21 [00:13,  2.63s/it, step size=7.97e-02, acc. prob=0.654]"
     ]
    },
    {
     "name": "stderr",
     "output_type": "stream",
     "text": [
      "\r",
      "Warmup:  62%|██████▏   | 13/21 [00:14,  1.95s/it, step size=7.16e-02, acc. prob=0.662]"
     ]
    },
    {
     "name": "stderr",
     "output_type": "stream",
     "text": [
      "\r",
      "Warmup:  67%|██████▋   | 14/21 [00:14,  1.46s/it, step size=5.60e-02, acc. prob=0.665]"
     ]
    },
    {
     "name": "stderr",
     "output_type": "stream",
     "text": [
      "\r",
      "Warmup:  71%|███████▏  | 15/21 [00:14,  1.21s/it, step size=8.99e-02, acc. prob=0.684]"
     ]
    },
    {
     "name": "stderr",
     "output_type": "stream",
     "text": [
      "\r",
      "Warmup:  76%|███████▌  | 16/21 [00:15,  1.06it/s, step size=1.48e-01, acc. prob=0.700]"
     ]
    },
    {
     "name": "stderr",
     "output_type": "stream",
     "text": [
      "\r",
      "Warmup:  81%|████████  | 17/21 [00:15,  1.34it/s, step size=1.98e+00, acc. prob=0.675]"
     ]
    },
    {
     "name": "stderr",
     "output_type": "stream",
     "text": [
      "\r",
      "Sample: 100%|██████████| 21/21 [00:15,  1.35it/s, step size=1.16e+00, acc. prob=0.000]"
     ]
    },
    {
     "name": "stderr",
     "output_type": "stream",
     "text": [
      "\n",
      "\r",
      "Warmup:   0%|          | 0/21 [00:00, ?it/s]"
     ]
    },
    {
     "name": "stderr",
     "output_type": "stream",
     "text": [
      "\r",
      "Warmup:  14%|█▍        | 3/21 [00:00, 26.96it/s, step size=4.80e-01, acc. prob=0.333]"
     ]
    },
    {
     "name": "stderr",
     "output_type": "stream",
     "text": [
      "\r",
      "Warmup:  29%|██▊       | 6/21 [00:00, 10.31it/s, step size=8.08e-02, acc. prob=0.500]"
     ]
    },
    {
     "name": "stderr",
     "output_type": "stream",
     "text": [
      "\r",
      "Warmup:  33%|███▎      | 7/21 [00:01,  6.27it/s, step size=9.07e-02, acc. prob=0.552]"
     ]
    },
    {
     "name": "stderr",
     "output_type": "stream",
     "text": [
      "\r",
      "Warmup:  38%|███▊      | 8/21 [00:01,  4.95it/s, step size=4.28e-02, acc. prob=0.556]"
     ]
    },
    {
     "name": "stderr",
     "output_type": "stream",
     "text": [
      "\r",
      "Warmup:  43%|████▎     | 9/21 [00:02,  3.10it/s, step size=6.66e-02, acc. prob=0.599]"
     ]
    },
    {
     "name": "stderr",
     "output_type": "stream",
     "text": [
      "\r",
      "Warmup:  48%|████▊     | 10/21 [00:02,  3.18it/s, step size=5.03e-02, acc. prob=0.611]"
     ]
    },
    {
     "name": "stderr",
     "output_type": "stream",
     "text": [
      "\r",
      "Warmup:  52%|█████▏    | 11/21 [00:02,  2.44it/s, step size=8.08e-02, acc. prob=0.641]"
     ]
    },
    {
     "name": "stderr",
     "output_type": "stream",
     "text": [
      "\r",
      "Warmup:  57%|█████▋    | 12/21 [00:03,  2.64it/s, step size=7.56e-02, acc. prob=0.652]"
     ]
    },
    {
     "name": "stderr",
     "output_type": "stream",
     "text": [
      "\r",
      "Warmup:  62%|██████▏   | 13/21 [00:03,  2.81it/s, step size=5.49e-02, acc. prob=0.655]"
     ]
    },
    {
     "name": "stderr",
     "output_type": "stream",
     "text": [
      "\r",
      "Warmup:  67%|██████▋   | 14/21 [00:04,  2.26it/s, step size=3.42e-02, acc. prob=0.654]"
     ]
    },
    {
     "name": "stderr",
     "output_type": "stream",
     "text": [
      "\r",
      "Warmup:  71%|███████▏  | 15/21 [00:04,  2.01it/s, step size=4.76e-02, acc. prob=0.670]"
     ]
    },
    {
     "name": "stderr",
     "output_type": "stream",
     "text": [
      "\r",
      "Warmup:  76%|███████▌  | 16/21 [00:05,  1.86it/s, step size=6.54e-02, acc. prob=0.684]"
     ]
    },
    {
     "name": "stderr",
     "output_type": "stream",
     "text": [
      "\r",
      "Warmup:  81%|████████  | 17/21 [00:05,  1.98it/s, step size=1.85e+00, acc. prob=0.687]"
     ]
    },
    {
     "name": "stderr",
     "output_type": "stream",
     "text": [
      "\r",
      "Sample: 100%|██████████| 21/21 [00:05,  3.54it/s, step size=1.09e+00, acc. prob=0.000]"
     ]
    },
    {
     "name": "stderr",
     "output_type": "stream",
     "text": [
      "\n",
      "\r",
      "Warmup:   0%|          | 0/21 [00:00, ?it/s]"
     ]
    },
    {
     "name": "stderr",
     "output_type": "stream",
     "text": [
      "\r",
      "Warmup:  14%|█▍        | 3/21 [00:00, 27.32it/s, step size=4.80e-01, acc. prob=0.333]"
     ]
    },
    {
     "name": "stderr",
     "output_type": "stream",
     "text": [
      "\r",
      "Warmup:  29%|██▊       | 6/21 [00:00, 10.46it/s, step size=8.06e-02, acc. prob=0.500]"
     ]
    },
    {
     "name": "stderr",
     "output_type": "stream",
     "text": [
      "\r",
      "Warmup:  33%|███▎      | 7/21 [00:01,  6.28it/s, step size=6.72e-02, acc. prob=0.539]"
     ]
    },
    {
     "name": "stderr",
     "output_type": "stream",
     "text": [
      "\r",
      "Warmup:  38%|███▊      | 8/21 [00:01,  4.91it/s, step size=5.26e-02, acc. prob=0.564]"
     ]
    },
    {
     "name": "stderr",
     "output_type": "stream",
     "text": [
      "\r",
      "Warmup:  43%|████▎     | 9/21 [00:02,  2.98it/s, step size=9.01e-02, acc. prob=0.610]"
     ]
    },
    {
     "name": "stderr",
     "output_type": "stream",
     "text": [
      "\r",
      "Warmup:  48%|████▊     | 10/21 [00:02,  3.07it/s, step size=1.27e-01, acc. prob=0.640]"
     ]
    },
    {
     "name": "stderr",
     "output_type": "stream",
     "text": [
      "\r",
      "Warmup:  52%|█████▏    | 11/21 [00:02,  3.69it/s, step size=2.58e-02, acc. prob=0.609]"
     ]
    },
    {
     "name": "stderr",
     "output_type": "stream",
     "text": [
      "\r",
      "Warmup:  57%|█████▋    | 12/21 [00:03,  1.82it/s, step size=4.94e-02, acc. prob=0.641]"
     ]
    },
    {
     "name": "stderr",
     "output_type": "stream",
     "text": [
      "\r",
      "Warmup:  62%|██████▏   | 13/21 [00:04,  1.76it/s, step size=6.28e-02, acc. prob=0.659]"
     ]
    },
    {
     "name": "stderr",
     "output_type": "stream",
     "text": [
      "\r",
      "Warmup:  67%|██████▋   | 14/21 [00:04,  2.07it/s, step size=7.93e-02, acc. prob=0.673]"
     ]
    },
    {
     "name": "stderr",
     "output_type": "stream",
     "text": [
      "\r",
      "Warmup:  71%|███████▏  | 15/21 [00:04,  2.36it/s, step size=5.68e-02, acc. prob=0.674]"
     ]
    },
    {
     "name": "stderr",
     "output_type": "stream",
     "text": [
      "\r",
      "Warmup:  76%|███████▌  | 16/21 [00:06,  1.53it/s, step size=9.02e-02, acc. prob=0.690]"
     ]
    },
    {
     "name": "stderr",
     "output_type": "stream",
     "text": [
      "\r",
      "Warmup:  81%|████████  | 17/21 [00:06,  1.77it/s, step size=9.53e-01, acc. prob=0.701]"
     ]
    },
    {
     "name": "stderr",
     "output_type": "stream",
     "text": [
      "\r",
      "Warmup:  95%|█████████▌| 20/21 [00:06,  2.45it/s, step size=5.61e-01, acc. prob=0.639]"
     ]
    },
    {
     "name": "stderr",
     "output_type": "stream",
     "text": [
      "\r",
      "Sample: 100%|██████████| 21/21 [00:06,  3.16it/s, step size=5.61e-01, acc. prob=0.262]"
     ]
    },
    {
     "name": "stderr",
     "output_type": "stream",
     "text": [
      "\n",
      "\r",
      "Warmup:   0%|          | 0/21 [00:00, ?it/s]"
     ]
    },
    {
     "name": "stderr",
     "output_type": "stream",
     "text": [
      "\r",
      "Warmup:  14%|█▍        | 3/21 [00:00, 28.16it/s, step size=4.80e-01, acc. prob=0.333]"
     ]
    },
    {
     "name": "stderr",
     "output_type": "stream",
     "text": [
      "\r",
      "Warmup:  29%|██▊       | 6/21 [00:00, 10.49it/s, step size=8.08e-02, acc. prob=0.500]"
     ]
    },
    {
     "name": "stderr",
     "output_type": "stream",
     "text": [
      "\r",
      "Warmup:  33%|███▎      | 7/21 [00:01,  6.19it/s, step size=9.88e-02, acc. prob=0.556]"
     ]
    },
    {
     "name": "stderr",
     "output_type": "stream",
     "text": [
      "\r",
      "Warmup:  38%|███▊      | 8/21 [00:01,  4.73it/s, step size=1.19e-01, acc. prob=0.596]"
     ]
    },
    {
     "name": "stderr",
     "output_type": "stream",
     "text": [
      "\r",
      "Warmup:  43%|████▎     | 9/21 [00:01,  5.10it/s, step size=1.17e-01, acc. prob=0.619]"
     ]
    },
    {
     "name": "stderr",
     "output_type": "stream",
     "text": [
      "\r",
      "Warmup:  48%|████▊     | 10/21 [00:01,  5.39it/s, step size=2.18e-02, acc. prob=0.584]"
     ]
    },
    {
     "name": "stderr",
     "output_type": "stream",
     "text": [
      "\r",
      "Warmup:  52%|█████▏    | 11/21 [00:03,  1.87it/s, step size=4.02e-02, acc. prob=0.621]"
     ]
    },
    {
     "name": "stderr",
     "output_type": "stream",
     "text": [
      "\r",
      "Warmup:  57%|█████▋    | 12/21 [00:03,  1.74it/s, step size=4.95e-02, acc. prob=0.641]"
     ]
    },
    {
     "name": "stderr",
     "output_type": "stream",
     "text": [
      "\r",
      "Warmup:  62%|██████▏   | 13/21 [00:04,  1.63it/s, step size=7.81e-02, acc. prob=0.664]"
     ]
    },
    {
     "name": "stderr",
     "output_type": "stream",
     "text": [
      "\r",
      "Warmup:  67%|██████▋   | 14/21 [00:04,  1.83it/s, step size=9.85e-02, acc. prob=0.678]"
     ]
    },
    {
     "name": "stderr",
     "output_type": "stream",
     "text": [
      "\r",
      "Warmup:  71%|███████▏  | 15/21 [00:05,  2.04it/s, step size=1.06e-01, acc. prob=0.687]"
     ]
    },
    {
     "name": "stderr",
     "output_type": "stream",
     "text": [
      "\r",
      "Warmup:  76%|███████▌  | 16/21 [00:05,  2.22it/s, step size=2.33e-02, acc. prob=0.663]"
     ]
    },
    {
     "name": "stderr",
     "output_type": "stream",
     "text": [
      "\r",
      "Warmup:  81%|████████  | 17/21 [00:07,  1.24it/s, step size=1.44e+00, acc. prob=0.683]"
     ]
    },
    {
     "name": "stderr",
     "output_type": "stream",
     "text": [
      "\r",
      "Warmup:  95%|█████████▌| 20/21 [00:07,  1.73it/s, step size=8.48e-01, acc. prob=0.581]"
     ]
    },
    {
     "name": "stderr",
     "output_type": "stream",
     "text": [
      "\r",
      "Sample: 100%|██████████| 21/21 [00:07,  2.82it/s, step size=8.48e-01, acc. prob=0.286]"
     ]
    },
    {
     "name": "stderr",
     "output_type": "stream",
     "text": [
      "\n",
      "\r",
      "Warmup:   0%|          | 0/21 [00:00, ?it/s]"
     ]
    },
    {
     "name": "stderr",
     "output_type": "stream",
     "text": [
      "\r",
      "Warmup:  14%|█▍        | 3/21 [00:00, 23.74it/s, step size=4.80e-01, acc. prob=0.333]"
     ]
    },
    {
     "name": "stderr",
     "output_type": "stream",
     "text": [
      "\r",
      "Warmup:  29%|██▊       | 6/21 [00:00,  9.23it/s, step size=8.08e-02, acc. prob=0.500]"
     ]
    },
    {
     "name": "stderr",
     "output_type": "stream",
     "text": [
      "\r",
      "Warmup:  33%|███▎      | 7/21 [00:01,  5.94it/s, step size=1.37e-01, acc. prob=0.571]"
     ]
    },
    {
     "name": "stderr",
     "output_type": "stream",
     "text": [
      "\r",
      "Warmup:  38%|███▊      | 8/21 [00:01,  6.10it/s, step size=2.23e-01, acc. prob=0.621]"
     ]
    },
    {
     "name": "stderr",
     "output_type": "stream",
     "text": [
      "\r",
      "Warmup:  43%|████▎     | 9/21 [00:01,  6.05it/s, step size=2.21e-02, acc. prob=0.560]"
     ]
    },
    {
     "name": "stderr",
     "output_type": "stream",
     "text": [
      "\r",
      "Warmup:  48%|████▊     | 10/21 [00:02,  1.88it/s, step size=4.11e-02, acc. prob=0.604]"
     ]
    },
    {
     "name": "stderr",
     "output_type": "stream",
     "text": [
      "\r",
      "Warmup:  52%|█████▏    | 11/21 [00:03,  1.73it/s, step size=7.34e-02, acc. prob=0.639]"
     ]
    },
    {
     "name": "stderr",
     "output_type": "stream",
     "text": [
      "\r",
      "Warmup:  57%|█████▋    | 12/21 [00:03,  2.03it/s, step size=8.37e-02, acc. prob=0.655]"
     ]
    },
    {
     "name": "stderr",
     "output_type": "stream",
     "text": [
      "\r",
      "Warmup:  62%|██████▏   | 13/21 [00:04,  2.33it/s, step size=1.60e-01, acc. prob=0.681]"
     ]
    },
    {
     "name": "stderr",
     "output_type": "stream",
     "text": [
      "\r",
      "Warmup:  67%|██████▋   | 14/21 [00:04,  2.93it/s, step size=6.82e-02, acc. prob=0.670]"
     ]
    },
    {
     "name": "stderr",
     "output_type": "stream",
     "text": [
      "\r",
      "Warmup:  71%|███████▏  | 15/21 [00:04,  3.07it/s, step size=1.23e-01, acc. prob=0.690]"
     ]
    },
    {
     "name": "stderr",
     "output_type": "stream",
     "text": [
      "\r",
      "Warmup:  76%|███████▌  | 16/21 [00:04,  3.68it/s, step size=2.08e-02, acc. prob=0.660]"
     ]
    },
    {
     "name": "stderr",
     "output_type": "stream",
     "text": [
      "\r",
      "Warmup:  81%|████████  | 17/21 [00:06,  1.69it/s, step size=1.28e+00, acc. prob=0.680]"
     ]
    },
    {
     "name": "stderr",
     "output_type": "stream",
     "text": [
      "\r",
      "Warmup: 100%|██████████| 21/21 [00:06,  2.35it/s, step size=7.55e-01, acc. prob=0.286]"
     ]
    },
    {
     "name": "stderr",
     "output_type": "stream",
     "text": [
      "\r",
      "Sample: 100%|██████████| 21/21 [00:06,  3.36it/s, step size=7.55e-01, acc. prob=0.286]"
     ]
    },
    {
     "name": "stderr",
     "output_type": "stream",
     "text": [
      "\n",
      "\r",
      "Warmup:   0%|          | 0/21 [00:00, ?it/s]"
     ]
    },
    {
     "name": "stderr",
     "output_type": "stream",
     "text": [
      "\r",
      "Warmup:  14%|█▍        | 3/21 [00:00, 20.60it/s, step size=4.80e-01, acc. prob=0.333]"
     ]
    },
    {
     "name": "stdout",
     "output_type": "stream",
     "text": [
      "[iter 5]  loss: 189835.7930\n"
     ]
    },
    {
     "name": "stderr",
     "output_type": "stream",
     "text": [
      "\r",
      "Warmup:  19%|█▉        | 4/21 [00:02,  1.28it/s, step size=6.40e-01, acc. prob=0.499]"
     ]
    },
    {
     "name": "stderr",
     "output_type": "stream",
     "text": [
      "\r",
      "Warmup:  29%|██▊       | 6/21 [00:03,  1.57it/s, step size=7.97e-02, acc. prob=0.499]"
     ]
    },
    {
     "name": "stderr",
     "output_type": "stream",
     "text": [
      "\r",
      "Warmup:  33%|███▎      | 7/21 [00:03,  1.88it/s, step size=1.35e-01, acc. prob=0.571]"
     ]
    },
    {
     "name": "stderr",
     "output_type": "stream",
     "text": [
      "\r",
      "Warmup:  38%|███▊      | 8/21 [00:03,  2.41it/s, step size=2.79e-02, acc. prob=0.538]"
     ]
    },
    {
     "name": "stderr",
     "output_type": "stream",
     "text": [
      "\r",
      "Warmup:  43%|████▎     | 9/21 [00:04,  2.16it/s, step size=4.82e-02, acc. prob=0.588]"
     ]
    },
    {
     "name": "stderr",
     "output_type": "stream",
     "text": [
      "\r",
      "Warmup:  48%|████▊     | 10/21 [00:04,  1.96it/s, step size=7.14e-02, acc. prob=0.622]"
     ]
    },
    {
     "name": "stderr",
     "output_type": "stream",
     "text": [
      "\r",
      "Warmup:  52%|█████▏    | 11/21 [00:05,  2.20it/s, step size=8.91e-02, acc. prob=0.644]"
     ]
    },
    {
     "name": "stderr",
     "output_type": "stream",
     "text": [
      "\r",
      "Warmup:  57%|█████▋    | 12/21 [00:05,  2.41it/s, step size=1.24e-01, acc. prob=0.665]"
     ]
    },
    {
     "name": "stderr",
     "output_type": "stream",
     "text": [
      "\r",
      "Warmup:  62%|██████▏   | 13/21 [00:05,  3.00it/s, step size=7.97e-02, acc. prob=0.664]"
     ]
    },
    {
     "name": "stderr",
     "output_type": "stream",
     "text": [
      "\r",
      "Warmup:  67%|██████▋   | 14/21 [00:05,  3.12it/s, step size=1.50e-01, acc. prob=0.688]"
     ]
    },
    {
     "name": "stderr",
     "output_type": "stream",
     "text": [
      "\r",
      "Warmup:  71%|███████▏  | 15/21 [00:06,  3.73it/s, step size=2.98e-02, acc. prob=0.660]"
     ]
    },
    {
     "name": "stderr",
     "output_type": "stream",
     "text": [
      "\r",
      "Warmup:  76%|███████▌  | 16/21 [00:06,  2.75it/s, step size=5.01e-02, acc. prob=0.678]"
     ]
    },
    {
     "name": "stderr",
     "output_type": "stream",
     "text": [
      "\r",
      "Warmup:  81%|████████  | 17/21 [00:07,  2.20it/s, step size=1.53e+00, acc. prob=0.697]"
     ]
    },
    {
     "name": "stderr",
     "output_type": "stream",
     "text": [
      "\r",
      "Warmup:  95%|█████████▌| 20/21 [00:07,  3.03it/s, step size=9.04e-01, acc. prob=0.614]"
     ]
    },
    {
     "name": "stderr",
     "output_type": "stream",
     "text": [
      "\r",
      "Sample: 100%|██████████| 21/21 [00:07,  2.79it/s, step size=9.04e-01, acc. prob=0.000]"
     ]
    },
    {
     "name": "stderr",
     "output_type": "stream",
     "text": [
      "\n",
      "\r",
      "Warmup:   0%|          | 0/21 [00:00, ?it/s]"
     ]
    },
    {
     "name": "stderr",
     "output_type": "stream",
     "text": [
      "\r",
      "Warmup:   5%|▍         | 1/21 [00:00,  8.75it/s, step size=4.67e+00, acc. prob=0.000]"
     ]
    },
    {
     "name": "stderr",
     "output_type": "stream",
     "text": [
      "\r",
      "Warmup:  19%|█▉        | 4/21 [00:01,  4.96it/s, step size=6.49e-01, acc. prob=0.500]"
     ]
    },
    {
     "name": "stderr",
     "output_type": "stream",
     "text": [
      "\r",
      "Warmup:  29%|██▊       | 6/21 [00:02,  3.92it/s, step size=8.08e-02, acc. prob=0.500]"
     ]
    },
    {
     "name": "stderr",
     "output_type": "stream",
     "text": [
      "\r",
      "Warmup:  33%|███▎      | 7/21 [00:02,  3.20it/s, step size=1.16e-01, acc. prob=0.563]"
     ]
    },
    {
     "name": "stderr",
     "output_type": "stream",
     "text": [
      "\r",
      "Warmup:  38%|███▊      | 8/21 [00:02,  3.71it/s, step size=1.30e-01, acc. prob=0.600]"
     ]
    },
    {
     "name": "stderr",
     "output_type": "stream",
     "text": [
      "\r",
      "Warmup:  43%|████▎     | 9/21 [00:02,  4.17it/s, step size=2.39e-01, acc. prob=0.644]"
     ]
    },
    {
     "name": "stderr",
     "output_type": "stream",
     "text": [
      "\r",
      "Warmup:  48%|████▊     | 10/21 [00:04,  1.86it/s, step size=2.59e-02, acc. prob=0.590]"
     ]
    },
    {
     "name": "stderr",
     "output_type": "stream",
     "text": [
      "\r",
      "Warmup:  52%|█████▏    | 11/21 [00:05,  1.33it/s, step size=4.59e-02, acc. prob=0.625]"
     ]
    },
    {
     "name": "stderr",
     "output_type": "stream",
     "text": [
      "\r",
      "Warmup:  57%|█████▋    | 12/21 [00:05,  1.41it/s, step size=7.85e-02, acc. prob=0.653]"
     ]
    },
    {
     "name": "stderr",
     "output_type": "stream",
     "text": [
      "\r",
      "Warmup:  62%|██████▏   | 13/21 [00:06,  1.71it/s, step size=3.56e-02, acc. prob=0.645]"
     ]
    },
    {
     "name": "stderr",
     "output_type": "stream",
     "text": [
      "\r",
      "Warmup:  67%|██████▋   | 14/21 [00:06,  1.71it/s, step size=6.14e-02, acc. prob=0.667]"
     ]
    },
    {
     "name": "stderr",
     "output_type": "stream",
     "text": [
      "\r",
      "Warmup:  71%|███████▏  | 15/21 [00:07,  2.02it/s, step size=1.18e-01, acc. prob=0.690]"
     ]
    },
    {
     "name": "stderr",
     "output_type": "stream",
     "text": [
      "\r",
      "Warmup:  76%|███████▌  | 16/21 [00:07,  2.55it/s, step size=1.86e-02, acc. prob=0.658]"
     ]
    },
    {
     "name": "stderr",
     "output_type": "stream",
     "text": [
      "\r",
      "Warmup:  81%|████████  | 17/21 [00:08,  1.51it/s, step size=1.09e+00, acc. prob=0.677]"
     ]
    },
    {
     "name": "stderr",
     "output_type": "stream",
     "text": [
      "\r",
      "Warmup: 100%|██████████| 21/21 [00:08,  2.08it/s, step size=6.45e-01, acc. prob=0.143]"
     ]
    },
    {
     "name": "stderr",
     "output_type": "stream",
     "text": [
      "\r",
      "Sample: 100%|██████████| 21/21 [00:08,  2.39it/s, step size=6.45e-01, acc. prob=0.143]"
     ]
    },
    {
     "name": "stderr",
     "output_type": "stream",
     "text": [
      "\n",
      "\r",
      "Warmup:   0%|          | 0/21 [00:00, ?it/s]"
     ]
    },
    {
     "name": "stderr",
     "output_type": "stream",
     "text": [
      "\r",
      "Warmup:  10%|▉         | 2/21 [00:00, 18.27it/s, step size=4.60e-01, acc. prob=0.000]"
     ]
    },
    {
     "name": "stderr",
     "output_type": "stream",
     "text": [
      "\r",
      "Warmup:  19%|█▉        | 4/21 [00:00, 10.04it/s, step size=6.49e-01, acc. prob=0.500]"
     ]
    },
    {
     "name": "stderr",
     "output_type": "stream",
     "text": [
      "\r",
      "Warmup:  29%|██▊       | 6/21 [00:01,  5.90it/s, step size=8.08e-02, acc. prob=0.500]"
     ]
    },
    {
     "name": "stderr",
     "output_type": "stream",
     "text": [
      "\r",
      "Warmup:  33%|███▎      | 7/21 [00:01,  4.49it/s, step size=5.80e-02, acc. prob=0.532]"
     ]
    },
    {
     "name": "stderr",
     "output_type": "stream",
     "text": [
      "\r",
      "Warmup:  38%|███▊      | 8/21 [00:02,  3.19it/s, step size=1.03e-01, acc. prob=0.590]"
     ]
    },
    {
     "name": "stderr",
     "output_type": "stream",
     "text": [
      "\r",
      "Warmup:  43%|████▎     | 9/21 [00:02,  2.94it/s, step size=7.25e-02, acc. prob=0.602]"
     ]
    },
    {
     "name": "stderr",
     "output_type": "stream",
     "text": [
      "\r",
      "Warmup:  48%|████▊     | 10/21 [00:02,  2.98it/s, step size=1.35e-01, acc. prob=0.642]"
     ]
    },
    {
     "name": "stderr",
     "output_type": "stream",
     "text": [
      "\r",
      "Warmup:  52%|█████▏    | 11/21 [00:02,  3.39it/s, step size=1.61e-02, acc. prob=0.595]"
     ]
    },
    {
     "name": "stderr",
     "output_type": "stream",
     "text": [
      "\r",
      "Warmup:  57%|█████▋    | 12/21 [00:04,  1.78it/s, step size=3.04e-02, acc. prob=0.628]"
     ]
    },
    {
     "name": "stderr",
     "output_type": "stream",
     "text": [
      "\r",
      "Warmup:  62%|██████▏   | 13/21 [00:04,  1.78it/s, step size=5.60e-02, acc. prob=0.656]"
     ]
    },
    {
     "name": "stderr",
     "output_type": "stream",
     "text": [
      "\r",
      "Warmup:  67%|██████▋   | 14/21 [00:05,  2.09it/s, step size=4.83e-02, acc. prob=0.662]"
     ]
    },
    {
     "name": "stderr",
     "output_type": "stream",
     "text": [
      "\r",
      "Warmup:  71%|███████▏  | 15/21 [00:05,  1.97it/s, step size=9.27e-02, acc. prob=0.684]"
     ]
    },
    {
     "name": "stderr",
     "output_type": "stream",
     "text": [
      "\r",
      "Warmup:  76%|███████▌  | 16/21 [00:05,  2.27it/s, step size=3.21e-02, acc. prob=0.669]"
     ]
    },
    {
     "name": "stderr",
     "output_type": "stream",
     "text": [
      "\r",
      "Warmup:  81%|████████  | 17/21 [00:06,  1.96it/s, step size=9.62e-01, acc. prob=0.688]"
     ]
    },
    {
     "name": "stderr",
     "output_type": "stream",
     "text": [
      "\r",
      "Warmup:  95%|█████████▌| 20/21 [00:06,  2.71it/s, step size=5.67e-01, acc. prob=0.621]"
     ]
    },
    {
     "name": "stderr",
     "output_type": "stream",
     "text": [
      "\r",
      "Sample: 100%|██████████| 21/21 [00:06,  3.11it/s, step size=5.67e-01, acc. prob=0.286]"
     ]
    },
    {
     "name": "stderr",
     "output_type": "stream",
     "text": [
      "\n"
     ]
    },
    {
     "name": "stderr",
     "output_type": "stream",
     "text": [
      "\r",
      "Warmup:   0%|          | 0/21 [00:00, ?it/s]"
     ]
    },
    {
     "name": "stderr",
     "output_type": "stream",
     "text": [
      "\r",
      "Warmup:  14%|█▍        | 3/21 [00:00, 27.66it/s, step size=4.80e-01, acc. prob=0.333]"
     ]
    },
    {
     "name": "stderr",
     "output_type": "stream",
     "text": [
      "\r",
      "Warmup:  19%|█▉        | 4/21 [00:00,  8.93it/s, step size=6.49e-01, acc. prob=0.500]"
     ]
    },
    {
     "name": "stderr",
     "output_type": "stream",
     "text": [
      "\r",
      "Warmup:  29%|██▊       | 6/21 [00:01,  5.66it/s, step size=8.08e-02, acc. prob=0.500]"
     ]
    },
    {
     "name": "stderr",
     "output_type": "stream",
     "text": [
      "\r",
      "Warmup:  33%|███▎      | 7/21 [00:01,  4.81it/s, step size=1.37e-01, acc. prob=0.571]"
     ]
    },
    {
     "name": "stderr",
     "output_type": "stream",
     "text": [
      "\r",
      "Warmup:  38%|███▊      | 8/21 [00:01,  5.23it/s, step size=8.52e-02, acc. prob=0.583]"
     ]
    },
    {
     "name": "stderr",
     "output_type": "stream",
     "text": [
      "\r",
      "Warmup:  43%|████▎     | 9/21 [00:01,  4.64it/s, step size=5.58e-02, acc. prob=0.593]"
     ]
    },
    {
     "name": "stderr",
     "output_type": "stream",
     "text": [
      "\r",
      "Warmup:  48%|████▊     | 10/21 [00:02,  4.27it/s, step size=7.53e-02, acc. prob=0.623]"
     ]
    },
    {
     "name": "stderr",
     "output_type": "stream",
     "text": [
      "\r",
      "Warmup:  52%|█████▏    | 11/21 [00:02,  4.07it/s, step size=2.93e-02, acc. prob=0.612]"
     ]
    },
    {
     "name": "stderr",
     "output_type": "stream",
     "text": [
      "\r",
      "Warmup:  57%|█████▋    | 12/21 [00:02,  2.95it/s, step size=5.60e-02, acc. prob=0.644]"
     ]
    },
    {
     "name": "stderr",
     "output_type": "stream",
     "text": [
      "\r",
      "Warmup:  62%|██████▏   | 13/21 [00:03,  3.12it/s, step size=5.15e-02, acc. prob=0.654]"
     ]
    },
    {
     "name": "stderr",
     "output_type": "stream",
     "text": [
      "\r",
      "Warmup:  67%|██████▋   | 14/21 [00:03,  2.53it/s, step size=2.80e-02, acc. prob=0.649]"
     ]
    },
    {
     "name": "stderr",
     "output_type": "stream",
     "text": [
      "\r",
      "Warmup:  71%|███████▏  | 15/21 [00:04,  2.25it/s, step size=5.26e-02, acc. prob=0.672]"
     ]
    },
    {
     "name": "stderr",
     "output_type": "stream",
     "text": [
      "\r",
      "Warmup:  76%|███████▌  | 16/21 [00:04,  2.08it/s, step size=1.01e-01, acc. prob=0.693]"
     ]
    },
    {
     "name": "stderr",
     "output_type": "stream",
     "text": [
      "\r",
      "Warmup:  81%|████████  | 17/21 [00:05,  2.24it/s, step size=1.47e+00, acc. prob=0.710]"
     ]
    },
    {
     "name": "stderr",
     "output_type": "stream",
     "text": [
      "\r",
      "Warmup: 100%|██████████| 21/21 [00:05,  3.09it/s, step size=8.66e-01, acc. prob=0.000]"
     ]
    },
    {
     "name": "stderr",
     "output_type": "stream",
     "text": [
      "\r",
      "Sample: 100%|██████████| 21/21 [00:05,  3.92it/s, step size=8.66e-01, acc. prob=0.000]"
     ]
    },
    {
     "name": "stderr",
     "output_type": "stream",
     "text": [
      "\n",
      "\r",
      "Warmup:   0%|          | 0/21 [00:00, ?it/s]"
     ]
    },
    {
     "name": "stderr",
     "output_type": "stream",
     "text": [
      "\r",
      "Warmup:  14%|█▍        | 3/21 [00:00, 24.82it/s, step size=4.80e-01, acc. prob=0.333]"
     ]
    },
    {
     "name": "stderr",
     "output_type": "stream",
     "text": [
      "\r",
      "Warmup:  19%|█▉        | 4/21 [00:00,  8.82it/s, step size=6.49e-01, acc. prob=0.500]"
     ]
    },
    {
     "name": "stderr",
     "output_type": "stream",
     "text": [
      "\r",
      "Warmup:  29%|██▊       | 6/21 [00:00,  8.13it/s, step size=8.08e-02, acc. prob=0.500]"
     ]
    },
    {
     "name": "stderr",
     "output_type": "stream",
     "text": [
      "\r",
      "Warmup:  33%|███▎      | 7/21 [00:00,  5.90it/s, step size=1.37e-01, acc. prob=0.571]"
     ]
    },
    {
     "name": "stderr",
     "output_type": "stream",
     "text": [
      "\r",
      "Warmup:  38%|███▊      | 8/21 [00:01,  6.13it/s, step size=4.18e-02, acc. prob=0.555]"
     ]
    },
    {
     "name": "stderr",
     "output_type": "stream",
     "text": [
      "\r",
      "Warmup:  43%|████▎     | 9/21 [00:01,  3.55it/s, step size=6.19e-02, acc. prob=0.597]"
     ]
    },
    {
     "name": "stderr",
     "output_type": "stream",
     "text": [
      "\r",
      "Warmup:  48%|████▊     | 10/21 [00:01,  3.53it/s, step size=1.14e-01, acc. prob=0.637]"
     ]
    },
    {
     "name": "stderr",
     "output_type": "stream",
     "text": [
      "\r",
      "Warmup:  52%|█████▏    | 11/21 [00:02,  4.11it/s, step size=4.34e-02, acc. prob=0.624]"
     ]
    },
    {
     "name": "stderr",
     "output_type": "stream",
     "text": [
      "\r",
      "Warmup:  57%|█████▋    | 12/21 [00:02,  2.93it/s, step size=6.62e-02, acc. prob=0.649]"
     ]
    },
    {
     "name": "stderr",
     "output_type": "stream",
     "text": [
      "\r",
      "Warmup:  62%|██████▏   | 13/21 [00:02,  3.06it/s, step size=7.28e-02, acc. prob=0.662]"
     ]
    },
    {
     "name": "stderr",
     "output_type": "stream",
     "text": [
      "\r",
      "Warmup:  67%|██████▋   | 14/21 [00:03,  3.21it/s, step size=3.34e-02, acc. prob=0.654]"
     ]
    },
    {
     "name": "stderr",
     "output_type": "stream",
     "text": [
      "\r",
      "Warmup:  71%|███████▏  | 15/21 [00:03,  2.61it/s, step size=6.46e-02, acc. prob=0.677]"
     ]
    },
    {
     "name": "stderr",
     "output_type": "stream",
     "text": [
      "\r",
      "Warmup:  76%|███████▌  | 16/21 [00:04,  2.84it/s, step size=8.58e-02, acc. prob=0.689]"
     ]
    },
    {
     "name": "stderr",
     "output_type": "stream",
     "text": [
      "\r",
      "Warmup:  81%|████████  | 17/21 [00:04,  2.83it/s, step size=9.73e-01, acc. prob=0.702]"
     ]
    },
    {
     "name": "stderr",
     "output_type": "stream",
     "text": [
      "\r",
      "Warmup:  95%|█████████▌| 20/21 [00:04,  3.89it/s, step size=5.73e-01, acc. prob=0.639]"
     ]
    },
    {
     "name": "stderr",
     "output_type": "stream",
     "text": [
      "\r",
      "Sample: 100%|██████████| 21/21 [00:04,  4.56it/s, step size=5.73e-01, acc. prob=0.429]"
     ]
    },
    {
     "name": "stderr",
     "output_type": "stream",
     "text": [
      "\n",
      "\r",
      "Warmup:   0%|          | 0/21 [00:00, ?it/s]"
     ]
    },
    {
     "name": "stderr",
     "output_type": "stream",
     "text": [
      "\r",
      "Warmup:  14%|█▍        | 3/21 [00:00, 29.42it/s, step size=4.80e-01, acc. prob=0.333]"
     ]
    },
    {
     "name": "stdout",
     "output_type": "stream",
     "text": [
      "[iter 10]  loss: 189176.4883\n"
     ]
    },
    {
     "name": "stderr",
     "output_type": "stream",
     "text": [
      "\r",
      "Warmup:  19%|█▉        | 4/21 [00:00,  9.27it/s, step size=6.49e-01, acc. prob=0.500]"
     ]
    },
    {
     "name": "stderr",
     "output_type": "stream",
     "text": [
      "\r",
      "Warmup:  29%|██▊       | 6/21 [00:00,  6.21it/s, step size=8.08e-02, acc. prob=0.500]"
     ]
    },
    {
     "name": "stderr",
     "output_type": "stream",
     "text": [
      "\r",
      "Warmup:  33%|███▎      | 7/21 [00:01,  5.12it/s, step size=1.33e-01, acc. prob=0.570]"
     ]
    },
    {
     "name": "stderr",
     "output_type": "stream",
     "text": [
      "\r",
      "Warmup:  38%|███▊      | 8/21 [00:01,  5.63it/s, step size=6.87e-02, acc. prob=0.574]"
     ]
    },
    {
     "name": "stderr",
     "output_type": "stream",
     "text": [
      "\r",
      "Warmup:  43%|████▎     | 9/21 [00:01,  4.85it/s, step size=7.83e-02, acc. prob=0.605]"
     ]
    },
    {
     "name": "stderr",
     "output_type": "stream",
     "text": [
      "\r",
      "Warmup:  48%|████▊     | 10/21 [00:01,  4.41it/s, step size=1.10e-01, acc. prob=0.635]"
     ]
    },
    {
     "name": "stderr",
     "output_type": "stream",
     "text": [
      "\r",
      "Warmup:  52%|█████▏    | 11/21 [00:06,  1.51s/it, step size=2.84e-02, acc. prob=0.611]"
     ]
    },
    {
     "name": "stderr",
     "output_type": "stream",
     "text": [
      "\r",
      "Warmup:  57%|█████▋    | 12/21 [00:07,  1.23s/it, step size=4.73e-02, acc. prob=0.640]"
     ]
    },
    {
     "name": "stderr",
     "output_type": "stream",
     "text": [
      "\r",
      "Warmup:  62%|██████▏   | 13/21 [00:07,  1.05s/it, step size=7.12e-02, acc. prob=0.662]"
     ]
    },
    {
     "name": "stderr",
     "output_type": "stream",
     "text": [
      "\r",
      "Warmup:  67%|██████▋   | 14/21 [00:07,  1.22it/s, step size=8.02e-02, acc. prob=0.674]"
     ]
    },
    {
     "name": "stderr",
     "output_type": "stream",
     "text": [
      "\r",
      "Warmup:  71%|███████▏  | 15/21 [00:08,  1.52it/s, step size=7.28e-02, acc. prob=0.679]"
     ]
    },
    {
     "name": "stderr",
     "output_type": "stream",
     "text": [
      "\r",
      "Warmup:  76%|███████▌  | 16/21 [00:08,  1.83it/s, step size=3.69e-02, acc. prob=0.672]"
     ]
    },
    {
     "name": "stderr",
     "output_type": "stream",
     "text": [
      "\r",
      "Warmup:  81%|████████  | 17/21 [00:09,  1.73it/s, step size=1.11e+00, acc. prob=0.691]"
     ]
    },
    {
     "name": "stderr",
     "output_type": "stream",
     "text": [
      "\r",
      "Warmup: 100%|██████████| 21/21 [00:09,  2.40it/s, step size=6.52e-01, acc. prob=0.571]"
     ]
    },
    {
     "name": "stderr",
     "output_type": "stream",
     "text": [
      "\r",
      "Sample: 100%|██████████| 21/21 [00:09,  2.26it/s, step size=6.52e-01, acc. prob=0.571]"
     ]
    },
    {
     "name": "stderr",
     "output_type": "stream",
     "text": [
      "\n",
      "\r",
      "Warmup:   0%|          | 0/21 [00:00, ?it/s]"
     ]
    },
    {
     "name": "stderr",
     "output_type": "stream",
     "text": [
      "\r",
      "Warmup:   5%|▍         | 1/21 [00:00,  9.42it/s, step size=7.19e+00, acc. prob=1.000]"
     ]
    },
    {
     "name": "stderr",
     "output_type": "stream",
     "text": [
      "\r",
      "Warmup:  19%|█▉        | 4/21 [00:00, 11.07it/s, step size=1.62e-01, acc. prob=0.500]"
     ]
    },
    {
     "name": "stderr",
     "output_type": "stream",
     "text": [
      "\r",
      "Warmup:  24%|██▍       | 5/21 [00:00,  8.86it/s, step size=1.95e-01, acc. prob=0.582]"
     ]
    },
    {
     "name": "stderr",
     "output_type": "stream",
     "text": [
      "\r",
      "Warmup:  29%|██▊       | 6/21 [00:00,  8.29it/s, step size=2.51e-02, acc. prob=0.512]"
     ]
    },
    {
     "name": "stderr",
     "output_type": "stream",
     "text": [
      "\r",
      "Warmup:  33%|███▎      | 7/21 [00:01,  2.24it/s, step size=4.22e-02, acc. prob=0.581]"
     ]
    },
    {
     "name": "stderr",
     "output_type": "stream",
     "text": [
      "\r",
      "Warmup:  38%|███▊      | 8/21 [00:02,  2.02it/s, step size=7.28e-02, acc. prob=0.632]"
     ]
    },
    {
     "name": "stderr",
     "output_type": "stream",
     "text": [
      "\r",
      "Warmup:  43%|████▎     | 9/21 [00:02,  2.28it/s, step size=2.52e-02, acc. prob=0.614]"
     ]
    },
    {
     "name": "stderr",
     "output_type": "stream",
     "text": [
      "\r",
      "Warmup:  48%|████▊     | 10/21 [00:03,  1.54it/s, step size=4.38e-02, acc. prob=0.650]"
     ]
    },
    {
     "name": "stderr",
     "output_type": "stream",
     "text": [
      "\r",
      "Warmup:  52%|█████▏    | 11/21 [00:04,  1.57it/s, step size=7.16e-02, acc. prob=0.678]"
     ]
    },
    {
     "name": "stderr",
     "output_type": "stream",
     "text": [
      "\r",
      "Warmup:  57%|█████▋    | 12/21 [00:04,  1.89it/s, step size=9.06e-02, acc. prob=0.694]"
     ]
    },
    {
     "name": "stderr",
     "output_type": "stream",
     "text": [
      "\r",
      "Warmup:  62%|██████▏   | 13/21 [00:05,  2.19it/s, step size=1.07e-01, acc. prob=0.706]"
     ]
    },
    {
     "name": "stderr",
     "output_type": "stream",
     "text": [
      "\r",
      "Warmup:  67%|██████▋   | 14/21 [00:05,  2.47it/s, step size=4.47e-02, acc. prob=0.692]"
     ]
    },
    {
     "name": "stderr",
     "output_type": "stream",
     "text": [
      "\r",
      "Warmup:  71%|███████▏  | 15/21 [00:05,  2.20it/s, step size=8.33e-02, acc. prob=0.712]"
     ]
    },
    {
     "name": "stderr",
     "output_type": "stream",
     "text": [
      "\r",
      "Warmup:  76%|███████▌  | 16/21 [00:06,  2.47it/s, step size=1.20e-01, acc. prob=0.724]"
     ]
    },
    {
     "name": "stderr",
     "output_type": "stream",
     "text": [
      "\r",
      "Warmup:  81%|████████  | 17/21 [00:06,  2.73it/s, step size=1.36e+00, acc. prob=0.695]"
     ]
    },
    {
     "name": "stderr",
     "output_type": "stream",
     "text": [
      "\r",
      "Sample: 100%|██████████| 21/21 [00:06,  3.23it/s, step size=8.03e-01, acc. prob=0.000]"
     ]
    },
    {
     "name": "stderr",
     "output_type": "stream",
     "text": [
      "\n",
      "\r",
      "Warmup:   0%|          | 0/21 [00:00, ?it/s]"
     ]
    },
    {
     "name": "stderr",
     "output_type": "stream",
     "text": [
      "\r",
      "Warmup:   5%|▍         | 1/21 [00:00,  7.94it/s, step size=7.19e+00, acc. prob=1.000]"
     ]
    },
    {
     "name": "stderr",
     "output_type": "stream",
     "text": [
      "\r",
      "Warmup:  19%|█▉        | 4/21 [00:00,  9.58it/s, step size=1.62e-01, acc. prob=0.500]"
     ]
    },
    {
     "name": "stderr",
     "output_type": "stream",
     "text": [
      "\r",
      "Warmup:  24%|██▍       | 5/21 [00:00,  8.73it/s, step size=1.45e-02, acc. prob=0.408]"
     ]
    },
    {
     "name": "stderr",
     "output_type": "stream",
     "text": [
      "\r",
      "Warmup:  29%|██▊       | 6/21 [00:01,  2.18it/s, step size=2.24e-02, acc. prob=0.506]"
     ]
    },
    {
     "name": "stderr",
     "output_type": "stream",
     "text": [
      "\r",
      "Warmup:  33%|███▎      | 7/21 [00:02,  1.47it/s, step size=3.46e-02, acc. prob=0.572]"
     ]
    },
    {
     "name": "stderr",
     "output_type": "stream",
     "text": [
      "\r",
      "Warmup:  38%|███▊      | 8/21 [00:03,  1.53it/s, step size=6.18e-02, acc. prob=0.625]"
     ]
    },
    {
     "name": "stderr",
     "output_type": "stream",
     "text": [
      "\r",
      "Warmup:  43%|████▎     | 9/21 [00:03,  1.83it/s, step size=5.18e-02, acc. prob=0.639]"
     ]
    },
    {
     "name": "stderr",
     "output_type": "stream",
     "text": [
      "\r",
      "Warmup:  48%|████▊     | 10/21 [00:04,  1.80it/s, step size=3.04e-02, acc. prob=0.639]"
     ]
    },
    {
     "name": "stderr",
     "output_type": "stream",
     "text": [
      "\r",
      "Warmup:  52%|█████▏    | 11/21 [00:04,  1.78it/s, step size=3.41e-02, acc. prob=0.656]"
     ]
    },
    {
     "name": "stderr",
     "output_type": "stream",
     "text": [
      "\r",
      "Warmup:  57%|█████▋    | 12/21 [00:05,  1.68it/s, step size=5.18e-02, acc. prob=0.679]"
     ]
    },
    {
     "name": "stderr",
     "output_type": "stream",
     "text": [
      "\r",
      "Warmup:  62%|██████▏   | 13/21 [00:06,  1.59it/s, step size=6.04e-02, acc. prob=0.692]"
     ]
    },
    {
     "name": "stderr",
     "output_type": "stream",
     "text": [
      "\r",
      "Warmup:  67%|██████▋   | 14/21 [00:06,  1.77it/s, step size=1.03e-01, acc. prob=0.711]"
     ]
    },
    {
     "name": "stderr",
     "output_type": "stream",
     "text": [
      "\r",
      "Warmup:  71%|███████▏  | 15/21 [00:07,  1.91it/s, step size=5.27e-02, acc. prob=0.702]"
     ]
    },
    {
     "name": "stderr",
     "output_type": "stream",
     "text": [
      "\r",
      "Warmup:  76%|███████▌  | 16/21 [00:07,  1.79it/s, step size=9.86e-02, acc. prob=0.720]"
     ]
    },
    {
     "name": "stderr",
     "output_type": "stream",
     "text": [
      "\r",
      "Warmup:  81%|████████  | 17/21 [00:08,  2.00it/s, step size=8.19e-01, acc. prob=0.712]"
     ]
    },
    {
     "name": "stderr",
     "output_type": "stream",
     "text": [
      "\r",
      "Warmup:  95%|█████████▌| 20/21 [00:08,  2.69it/s, step size=4.83e-01, acc. prob=0.648]"
     ]
    },
    {
     "name": "stderr",
     "output_type": "stream",
     "text": [
      "\r",
      "Warmup: 100%|██████████| 21/21 [00:08,  3.28it/s, step size=4.83e-01, acc. prob=0.152]"
     ]
    },
    {
     "name": "stderr",
     "output_type": "stream",
     "text": [
      "\r",
      "Sample: 100%|██████████| 21/21 [00:08,  2.46it/s, step size=4.83e-01, acc. prob=0.152]"
     ]
    },
    {
     "name": "stderr",
     "output_type": "stream",
     "text": [
      "\n",
      "\r",
      "Warmup:   0%|          | 0/21 [00:00, ?it/s]"
     ]
    },
    {
     "name": "stderr",
     "output_type": "stream",
     "text": [
      "\r",
      "Warmup:  14%|█▍        | 3/21 [00:00, 28.28it/s, step size=1.20e-01, acc. prob=0.333]"
     ]
    },
    {
     "name": "stderr",
     "output_type": "stream",
     "text": [
      "\r",
      "Warmup:  19%|█▉        | 4/21 [00:00, 13.12it/s, step size=1.62e-01, acc. prob=0.500]"
     ]
    },
    {
     "name": "stderr",
     "output_type": "stream",
     "text": [
      "\r",
      "Warmup:  24%|██▍       | 5/21 [00:00,  9.68it/s, step size=2.54e-01, acc. prob=0.600]"
     ]
    },
    {
     "name": "stderr",
     "output_type": "stream",
     "text": [
      "\r",
      "Warmup:  33%|███▎      | 7/21 [00:01,  3.44it/s, step size=3.43e-02, acc. prob=0.571]"
     ]
    },
    {
     "name": "stderr",
     "output_type": "stream",
     "text": [
      "\r",
      "Warmup:  38%|███▊      | 8/21 [00:02,  2.32it/s, step size=4.21e-02, acc. prob=0.610]"
     ]
    },
    {
     "name": "stderr",
     "output_type": "stream",
     "text": [
      "\r",
      "Warmup:  43%|████▎     | 9/21 [00:03,  1.84it/s, step size=6.32e-02, acc. prob=0.646]"
     ]
    },
    {
     "name": "stderr",
     "output_type": "stream",
     "text": [
      "\r",
      "Warmup:  48%|████▊     | 10/21 [00:03,  2.04it/s, step size=9.63e-02, acc. prob=0.675]"
     ]
    },
    {
     "name": "stderr",
     "output_type": "stream",
     "text": [
      "\r",
      "Warmup:  52%|█████▏    | 11/21 [00:04,  2.30it/s, step size=9.56e-02, acc. prob=0.686]"
     ]
    },
    {
     "name": "stderr",
     "output_type": "stream",
     "text": [
      "\r",
      "Warmup:  57%|█████▋    | 12/21 [00:04,  2.51it/s, step size=4.36e-02, acc. prob=0.675]"
     ]
    },
    {
     "name": "stderr",
     "output_type": "stream",
     "text": [
      "\r",
      "Warmup:  62%|██████▏   | 13/21 [00:05,  2.17it/s, step size=7.63e-02, acc. prob=0.697]"
     ]
    },
    {
     "name": "stderr",
     "output_type": "stream",
     "text": [
      "\r",
      "Warmup:  67%|██████▋   | 14/21 [00:05,  2.47it/s, step size=1.22e-01, acc. prob=0.715]"
     ]
    },
    {
     "name": "stderr",
     "output_type": "stream",
     "text": [
      "\r",
      "Warmup:  71%|███████▏  | 15/21 [00:05,  2.98it/s, step size=3.25e-02, acc. prob=0.692]"
     ]
    },
    {
     "name": "stderr",
     "output_type": "stream",
     "text": [
      "\r",
      "Warmup:  76%|███████▌  | 16/21 [00:06,  2.43it/s, step size=6.11e-02, acc. prob=0.711]"
     ]
    },
    {
     "name": "stderr",
     "output_type": "stream",
     "text": [
      "\r",
      "Warmup:  81%|████████  | 17/21 [00:06,  2.49it/s, step size=1.32e+00, acc. prob=0.708]"
     ]
    },
    {
     "name": "stderr",
     "output_type": "stream",
     "text": [
      "\r",
      "Warmup: 100%|██████████| 21/21 [00:06,  3.41it/s, step size=7.79e-01, acc. prob=0.143]"
     ]
    },
    {
     "name": "stderr",
     "output_type": "stream",
     "text": [
      "\r",
      "Sample: 100%|██████████| 21/21 [00:06,  3.17it/s, step size=7.79e-01, acc. prob=0.143]"
     ]
    },
    {
     "name": "stderr",
     "output_type": "stream",
     "text": [
      "\n",
      "\r",
      "Warmup:   0%|          | 0/21 [00:00, ?it/s]"
     ]
    },
    {
     "name": "stderr",
     "output_type": "stream",
     "text": [
      "\r",
      "Warmup:  14%|█▍        | 3/21 [00:00, 28.58it/s, step size=1.20e-01, acc. prob=0.333]"
     ]
    },
    {
     "name": "stderr",
     "output_type": "stream",
     "text": [
      "\r",
      "Warmup:  19%|█▉        | 4/21 [00:00, 14.52it/s, step size=1.62e-01, acc. prob=0.500]"
     ]
    },
    {
     "name": "stderr",
     "output_type": "stream",
     "text": [
      "\r",
      "Warmup:  24%|██▍       | 5/21 [00:00, 10.49it/s, step size=2.60e-02, acc. prob=0.447]"
     ]
    },
    {
     "name": "stderr",
     "output_type": "stream",
     "text": [
      "\r",
      "Warmup:  29%|██▊       | 6/21 [00:01,  2.43it/s, step size=4.08e-02, acc. prob=0.538]"
     ]
    },
    {
     "name": "stderr",
     "output_type": "stream",
     "text": [
      "\r",
      "Warmup:  33%|███▎      | 7/21 [00:02,  2.18it/s, step size=6.87e-02, acc. prob=0.603]"
     ]
    },
    {
     "name": "stderr",
     "output_type": "stream",
     "text": [
      "\r",
      "Warmup:  38%|███▊      | 8/21 [00:02,  2.47it/s, step size=4.44e-02, acc. prob=0.612]"
     ]
    },
    {
     "name": "stderr",
     "output_type": "stream",
     "text": [
      "\r",
      "Warmup:  43%|████▎     | 9/21 [00:02,  2.21it/s, step size=3.38e-02, acc. prob=0.624]"
     ]
    },
    {
     "name": "stderr",
     "output_type": "stream",
     "text": [
      "\r",
      "Warmup:  48%|████▊     | 10/21 [00:03,  2.04it/s, step size=5.35e-02, acc. prob=0.656]"
     ]
    },
    {
     "name": "stderr",
     "output_type": "stream",
     "text": [
      "\r",
      "Warmup:  52%|█████▏    | 11/21 [00:03,  2.34it/s, step size=9.67e-02, acc. prob=0.686]"
     ]
    },
    {
     "name": "stderr",
     "output_type": "stream",
     "text": [
      "\r",
      "Warmup:  57%|█████▋    | 12/21 [00:04,  2.61it/s, step size=4.51e-02, acc. prob=0.675]"
     ]
    },
    {
     "name": "stderr",
     "output_type": "stream",
     "text": [
      "\r",
      "Warmup:  62%|██████▏   | 13/21 [00:04,  2.28it/s, step size=7.78e-02, acc. prob=0.698]"
     ]
    },
    {
     "name": "stderr",
     "output_type": "stream",
     "text": [
      "\r",
      "Warmup:  67%|██████▋   | 14/21 [00:04,  2.57it/s, step size=5.87e-02, acc. prob=0.698]"
     ]
    },
    {
     "name": "stderr",
     "output_type": "stream",
     "text": [
      "\r",
      "Warmup:  71%|███████▏  | 15/21 [00:05,  2.81it/s, step size=1.06e-01, acc. prob=0.717]"
     ]
    },
    {
     "name": "stderr",
     "output_type": "stream",
     "text": [
      "\r",
      "Warmup:  76%|███████▌  | 16/21 [00:05,  3.00it/s, step size=1.89e-02, acc. prob=0.687]"
     ]
    },
    {
     "name": "stderr",
     "output_type": "stream",
     "text": [
      "\r",
      "Warmup:  81%|████████  | 17/21 [00:06,  1.64it/s, step size=1.04e+00, acc. prob=0.703]"
     ]
    },
    {
     "name": "stderr",
     "output_type": "stream",
     "text": [
      "\r",
      "Warmup: 100%|██████████| 21/21 [00:06,  2.28it/s, step size=6.14e-01, acc. prob=0.326]"
     ]
    },
    {
     "name": "stderr",
     "output_type": "stream",
     "text": [
      "\r",
      "Sample: 100%|██████████| 21/21 [00:06,  3.03it/s, step size=6.14e-01, acc. prob=0.326]"
     ]
    },
    {
     "name": "stderr",
     "output_type": "stream",
     "text": [
      "\n",
      "\r",
      "Warmup:   0%|          | 0/21 [00:00, ?it/s]"
     ]
    },
    {
     "name": "stderr",
     "output_type": "stream",
     "text": [
      "\r",
      "Warmup:   5%|▍         | 1/21 [00:00,  8.21it/s, step size=7.19e+00, acc. prob=1.000]"
     ]
    },
    {
     "name": "stdout",
     "output_type": "stream",
     "text": [
      "[iter 15]  loss: 187921.0781\n"
     ]
    },
    {
     "name": "stderr",
     "output_type": "stream",
     "text": [
      "\r",
      "Warmup:  19%|█▉        | 4/21 [00:00,  9.92it/s, step size=1.62e-01, acc. prob=0.500]"
     ]
    },
    {
     "name": "stderr",
     "output_type": "stream",
     "text": [
      "\r",
      "Warmup:  24%|██▍       | 5/21 [00:00,  8.94it/s, step size=2.20e-02, acc. prob=0.436]"
     ]
    },
    {
     "name": "stderr",
     "output_type": "stream",
     "text": [
      "\r",
      "Warmup:  29%|██▊       | 6/21 [00:01,  2.37it/s, step size=3.50e-02, acc. prob=0.530]"
     ]
    },
    {
     "name": "stderr",
     "output_type": "stream",
     "text": [
      "\r",
      "Warmup:  33%|███▎      | 7/21 [00:02,  2.15it/s, step size=5.55e-02, acc. prob=0.593]"
     ]
    },
    {
     "name": "stderr",
     "output_type": "stream",
     "text": [
      "\r",
      "Warmup:  38%|███▊      | 8/21 [00:02,  2.44it/s, step size=9.48e-02, acc. prob=0.642]"
     ]
    },
    {
     "name": "stderr",
     "output_type": "stream",
     "text": [
      "\r",
      "Warmup:  43%|████▎     | 9/21 [00:02,  2.66it/s, step size=7.31e-02, acc. prob=0.651]"
     ]
    },
    {
     "name": "stderr",
     "output_type": "stream",
     "text": [
      "\r",
      "Warmup:  48%|████▊     | 10/21 [00:02,  2.88it/s, step size=1.01e-01, acc. prob=0.676]"
     ]
    },
    {
     "name": "stderr",
     "output_type": "stream",
     "text": [
      "\r",
      "Warmup:  52%|█████▏    | 11/21 [00:03,  3.07it/s, step size=1.89e-02, acc. prob=0.640]"
     ]
    },
    {
     "name": "stderr",
     "output_type": "stream",
     "text": [
      "\r",
      "Warmup:  57%|█████▋    | 12/21 [00:04,  1.76it/s, step size=2.93e-02, acc. prob=0.664]"
     ]
    },
    {
     "name": "stderr",
     "output_type": "stream",
     "text": [
      "\r",
      "Warmup:  62%|██████▏   | 13/21 [00:04,  1.76it/s, step size=5.61e-02, acc. prob=0.690]"
     ]
    },
    {
     "name": "stderr",
     "output_type": "stream",
     "text": [
      "\r",
      "Warmup:  67%|██████▋   | 14/21 [00:05,  2.08it/s, step size=6.02e-02, acc. prob=0.699]"
     ]
    },
    {
     "name": "stderr",
     "output_type": "stream",
     "text": [
      "\r",
      "Warmup:  71%|███████▏  | 15/21 [00:05,  2.37it/s, step size=1.15e-01, acc. prob=0.719]"
     ]
    },
    {
     "name": "stderr",
     "output_type": "stream",
     "text": [
      "\r",
      "Warmup:  76%|███████▌  | 16/21 [00:05,  2.97it/s, step size=3.38e-02, acc. prob=0.699]"
     ]
    },
    {
     "name": "stderr",
     "output_type": "stream",
     "text": [
      "\r",
      "Warmup:  81%|████████  | 17/21 [00:06,  2.29it/s, step size=1.85e+00, acc. prob=0.714]"
     ]
    },
    {
     "name": "stderr",
     "output_type": "stream",
     "text": [
      "\r",
      "Sample: 100%|██████████| 21/21 [00:06,  3.30it/s, step size=1.09e+00, acc. prob=0.000]"
     ]
    },
    {
     "name": "stderr",
     "output_type": "stream",
     "text": [
      "\n",
      "\r",
      "Warmup:   0%|          | 0/21 [00:00, ?it/s]"
     ]
    },
    {
     "name": "stderr",
     "output_type": "stream",
     "text": [
      "\r",
      "Warmup:  14%|█▍        | 3/21 [00:00, 27.87it/s, step size=1.20e-01, acc. prob=0.333]"
     ]
    },
    {
     "name": "stderr",
     "output_type": "stream",
     "text": [
      "\r",
      "Warmup:  19%|█▉        | 4/21 [00:00, 15.10it/s, step size=1.62e-01, acc. prob=0.500]"
     ]
    },
    {
     "name": "stderr",
     "output_type": "stream",
     "text": [
      "\r",
      "Warmup:  24%|██▍       | 5/21 [00:00, 11.53it/s, step size=2.69e-02, acc. prob=0.450]"
     ]
    },
    {
     "name": "stderr",
     "output_type": "stream",
     "text": [
      "\r",
      "Warmup:  29%|██▊       | 6/21 [00:00,  4.28it/s, step size=4.32e-02, acc. prob=0.541]"
     ]
    },
    {
     "name": "stderr",
     "output_type": "stream",
     "text": [
      "\r",
      "Warmup:  33%|███▎      | 7/21 [00:01,  2.98it/s, step size=6.57e-02, acc. prob=0.601]"
     ]
    },
    {
     "name": "stderr",
     "output_type": "stream",
     "text": [
      "\r",
      "Warmup:  38%|███▊      | 8/21 [00:01,  3.15it/s, step size=5.25e-02, acc. prob=0.619]"
     ]
    },
    {
     "name": "stderr",
     "output_type": "stream",
     "text": [
      "\r",
      "Warmup:  43%|████▎     | 9/21 [00:11,  3.00s/it, step size=7.06e-02, acc. prob=0.650]"
     ]
    },
    {
     "name": "stderr",
     "output_type": "stream",
     "text": [
      "\r",
      "Warmup:  48%|████▊     | 10/21 [00:11,  2.19s/it, step size=1.21e-01, acc. prob=0.682]"
     ]
    },
    {
     "name": "stderr",
     "output_type": "stream",
     "text": [
      "\r",
      "Warmup:  52%|█████▏    | 11/21 [00:11,  1.57s/it, step size=9.85e-02, acc. prob=0.687]"
     ]
    },
    {
     "name": "stderr",
     "output_type": "stream",
     "text": [
      "\r",
      "Warmup:  57%|█████▋    | 12/21 [00:11,  1.19s/it, step size=1.26e-01, acc. prob=0.703]"
     ]
    },
    {
     "name": "stderr",
     "output_type": "stream",
     "text": [
      "\r",
      "Warmup:  62%|██████▏   | 13/21 [00:11,  1.14it/s, step size=4.26e-02, acc. prob=0.683]"
     ]
    },
    {
     "name": "stderr",
     "output_type": "stream",
     "text": [
      "\r",
      "Warmup:  67%|██████▋   | 14/21 [00:12,  1.27it/s, step size=8.12e-02, acc. prob=0.706]"
     ]
    },
    {
     "name": "stderr",
     "output_type": "stream",
     "text": [
      "\r",
      "Warmup:  71%|███████▏  | 15/21 [00:12,  1.57it/s, step size=8.89e-02, acc. prob=0.713]"
     ]
    },
    {
     "name": "stderr",
     "output_type": "stream",
     "text": [
      "\r",
      "Warmup:  76%|███████▌  | 16/21 [00:13,  1.87it/s, step size=7.00e-02, acc. prob=0.713]"
     ]
    },
    {
     "name": "stderr",
     "output_type": "stream",
     "text": [
      "\r",
      "Warmup:  81%|████████  | 17/21 [00:13,  2.06it/s, step size=1.63e+00, acc. prob=0.725]"
     ]
    },
    {
     "name": "stderr",
     "output_type": "stream",
     "text": [
      "\r",
      "Warmup: 100%|██████████| 21/21 [00:13,  2.85it/s, step size=9.61e-01, acc. prob=0.000]"
     ]
    },
    {
     "name": "stderr",
     "output_type": "stream",
     "text": [
      "\r",
      "Sample: 100%|██████████| 21/21 [00:13,  1.54it/s, step size=9.61e-01, acc. prob=0.000]"
     ]
    },
    {
     "name": "stderr",
     "output_type": "stream",
     "text": [
      "\n",
      "\r",
      "Warmup:   0%|          | 0/21 [00:00, ?it/s]"
     ]
    },
    {
     "name": "stderr",
     "output_type": "stream",
     "text": [
      "\r",
      "Warmup:  14%|█▍        | 3/21 [00:00, 28.85it/s, step size=1.20e-01, acc. prob=0.333]"
     ]
    },
    {
     "name": "stderr",
     "output_type": "stream",
     "text": [
      "\r",
      "Warmup:  19%|█▉        | 4/21 [00:00, 15.29it/s, step size=1.62e-01, acc. prob=0.500]"
     ]
    },
    {
     "name": "stderr",
     "output_type": "stream",
     "text": [
      "\r",
      "Warmup:  24%|██▍       | 5/21 [00:00, 11.47it/s, step size=1.74e-02, acc. prob=0.420]"
     ]
    },
    {
     "name": "stderr",
     "output_type": "stream",
     "text": [
      "\r",
      "Warmup:  29%|██▊       | 6/21 [00:01,  2.46it/s, step size=2.76e-02, acc. prob=0.517]"
     ]
    },
    {
     "name": "stderr",
     "output_type": "stream",
     "text": [
      "\r",
      "Warmup:  33%|███▎      | 7/21 [00:02,  2.20it/s, step size=4.25e-02, acc. prob=0.581]"
     ]
    },
    {
     "name": "stderr",
     "output_type": "stream",
     "text": [
      "\r",
      "Warmup:  38%|███▊      | 8/21 [00:02,  2.04it/s, step size=7.52e-02, acc. prob=0.633]"
     ]
    },
    {
     "name": "stderr",
     "output_type": "stream",
     "text": [
      "\r",
      "Warmup:  43%|████▎     | 9/21 [00:02,  2.34it/s, step size=2.77e-02, acc. prob=0.617]"
     ]
    },
    {
     "name": "stderr",
     "output_type": "stream",
     "text": [
      "\r",
      "Warmup:  48%|████▊     | 10/21 [00:03,  2.13it/s, step size=4.38e-02, acc. prob=0.650]"
     ]
    },
    {
     "name": "stderr",
     "output_type": "stream",
     "text": [
      "\r",
      "Warmup:  52%|█████▏    | 11/21 [00:04,  1.98it/s, step size=5.51e-02, acc. prob=0.670]"
     ]
    },
    {
     "name": "stderr",
     "output_type": "stream",
     "text": [
      "\r",
      "Warmup:  57%|█████▋    | 12/21 [00:04,  2.28it/s, step size=9.54e-02, acc. prob=0.695]"
     ]
    },
    {
     "name": "stderr",
     "output_type": "stream",
     "text": [
      "\r",
      "Warmup:  62%|██████▏   | 13/21 [00:04,  2.53it/s, step size=1.92e-02, acc. prob=0.664]"
     ]
    },
    {
     "name": "stderr",
     "output_type": "stream",
     "text": [
      "\r",
      "Warmup:  67%|██████▋   | 14/21 [00:05,  1.60it/s, step size=3.43e-02, acc. prob=0.686]"
     ]
    },
    {
     "name": "stderr",
     "output_type": "stream",
     "text": [
      "\r",
      "Warmup:  71%|███████▏  | 15/21 [00:06,  1.63it/s, step size=5.95e-02, acc. prob=0.705]"
     ]
    },
    {
     "name": "stderr",
     "output_type": "stream",
     "text": [
      "\r",
      "Warmup:  76%|███████▌  | 16/21 [00:06,  1.94it/s, step size=3.62e-02, acc. prob=0.700]"
     ]
    },
    {
     "name": "stderr",
     "output_type": "stream",
     "text": [
      "\r",
      "Warmup:  81%|████████  | 17/21 [00:07,  1.76it/s, step size=1.56e+00, acc. prob=0.711]"
     ]
    },
    {
     "name": "stderr",
     "output_type": "stream",
     "text": [
      "\r",
      "Warmup: 100%|██████████| 21/21 [00:07,  2.45it/s, step size=9.20e-01, acc. prob=0.000]"
     ]
    },
    {
     "name": "stderr",
     "output_type": "stream",
     "text": [
      "\r",
      "Sample: 100%|██████████| 21/21 [00:07,  2.78it/s, step size=9.20e-01, acc. prob=0.000]"
     ]
    },
    {
     "name": "stderr",
     "output_type": "stream",
     "text": [
      "\n",
      "\r",
      "Warmup:   0%|          | 0/21 [00:00, ?it/s]"
     ]
    },
    {
     "name": "stderr",
     "output_type": "stream",
     "text": [
      "\r",
      "Warmup:  14%|█▍        | 3/21 [00:00, 28.83it/s, step size=1.20e-01, acc. prob=0.333]"
     ]
    },
    {
     "name": "stderr",
     "output_type": "stream",
     "text": [
      "\r",
      "Warmup:  19%|█▉        | 4/21 [00:00, 15.22it/s, step size=1.62e-01, acc. prob=0.500]"
     ]
    },
    {
     "name": "stderr",
     "output_type": "stream",
     "text": [
      "\r",
      "Warmup:  24%|██▍       | 5/21 [00:00, 11.28it/s, step size=2.69e-02, acc. prob=0.450]"
     ]
    },
    {
     "name": "stderr",
     "output_type": "stream",
     "text": [
      "\r",
      "Warmup:  29%|██▊       | 6/21 [00:00,  4.26it/s, step size=3.66e-02, acc. prob=0.532]"
     ]
    },
    {
     "name": "stderr",
     "output_type": "stream",
     "text": [
      "\r",
      "Warmup:  33%|███▎      | 7/21 [00:01,  2.99it/s, step size=5.98e-02, acc. prob=0.597]"
     ]
    },
    {
     "name": "stderr",
     "output_type": "stream",
     "text": [
      "\r",
      "Warmup:  38%|███▊      | 8/21 [00:01,  3.14it/s, step size=3.45e-02, acc. prob=0.602]"
     ]
    },
    {
     "name": "stderr",
     "output_type": "stream",
     "text": [
      "\r",
      "Warmup:  43%|████▎     | 9/21 [00:02,  2.51it/s, step size=5.94e-02, acc. prob=0.644]"
     ]
    },
    {
     "name": "stderr",
     "output_type": "stream",
     "text": [
      "\r",
      "Warmup:  48%|████▊     | 10/21 [00:02,  2.76it/s, step size=3.94e-02, acc. prob=0.647]"
     ]
    },
    {
     "name": "stderr",
     "output_type": "stream",
     "text": [
      "\r",
      "Warmup:  52%|█████▏    | 11/21 [00:03,  2.32it/s, step size=5.57e-02, acc. prob=0.671]"
     ]
    },
    {
     "name": "stderr",
     "output_type": "stream",
     "text": [
      "\r",
      "Warmup:  57%|█████▋    | 12/21 [00:03,  2.59it/s, step size=6.48e-02, acc. prob=0.685]"
     ]
    },
    {
     "name": "stderr",
     "output_type": "stream",
     "text": [
      "\r",
      "Warmup:  62%|██████▏   | 13/21 [00:03,  2.80it/s, step size=9.51e-02, acc. prob=0.703]"
     ]
    },
    {
     "name": "stderr",
     "output_type": "stream",
     "text": [
      "\r",
      "Warmup:  67%|██████▋   | 14/21 [00:04,  2.99it/s, step size=1.37e-01, acc. prob=0.718]"
     ]
    },
    {
     "name": "stderr",
     "output_type": "stream",
     "text": [
      "\r",
      "Warmup:  71%|███████▏  | 15/21 [00:04,  3.62it/s, step size=1.91e-02, acc. prob=0.680]"
     ]
    },
    {
     "name": "stderr",
     "output_type": "stream",
     "text": [
      "\r",
      "Warmup:  76%|███████▌  | 16/21 [00:05,  1.87it/s, step size=3.55e-02, acc. prob=0.700]"
     ]
    },
    {
     "name": "stderr",
     "output_type": "stream",
     "text": [
      "\r",
      "Warmup:  81%|████████  | 17/21 [00:06,  1.72it/s, step size=1.94e+00, acc. prob=0.715]"
     ]
    },
    {
     "name": "stderr",
     "output_type": "stream",
     "text": [
      "\r",
      "Sample: 100%|██████████| 21/21 [00:06,  3.43it/s, step size=1.14e+00, acc. prob=0.000]"
     ]
    },
    {
     "name": "stderr",
     "output_type": "stream",
     "text": [
      "\n",
      "\r",
      "Warmup:   0%|          | 0/21 [00:00, ?it/s]"
     ]
    },
    {
     "name": "stderr",
     "output_type": "stream",
     "text": [
      "\r",
      "Warmup:  14%|█▍        | 3/21 [00:00, 27.99it/s, step size=1.20e-01, acc. prob=0.333]"
     ]
    },
    {
     "name": "stderr",
     "output_type": "stream",
     "text": [
      "\r",
      "Warmup:  19%|█▉        | 4/21 [00:00, 15.20it/s, step size=1.62e-01, acc. prob=0.500]"
     ]
    },
    {
     "name": "stderr",
     "output_type": "stream",
     "text": [
      "\r",
      "Warmup:  24%|██▍       | 5/21 [00:00, 11.49it/s, step size=3.94e-02, acc. prob=0.475]"
     ]
    },
    {
     "name": "stderr",
     "output_type": "stream",
     "text": [
      "\r",
      "Warmup:  29%|██▊       | 6/21 [00:00,  4.17it/s, step size=6.30e-02, acc. prob=0.562]"
     ]
    },
    {
     "name": "stderr",
     "output_type": "stream",
     "text": [
      "\r",
      "Warmup:  33%|███▎      | 7/21 [00:01,  3.89it/s, step size=1.09e-01, acc. prob=0.624]"
     ]
    },
    {
     "name": "stderr",
     "output_type": "stream",
     "text": [
      "\r",
      "Warmup:  38%|███▊      | 8/21 [00:01,  4.52it/s, step size=2.14e-02, acc. prob=0.583]"
     ]
    },
    {
     "name": "stderr",
     "output_type": "stream",
     "text": [
      "\r",
      "Warmup:  43%|████▎     | 9/21 [00:02,  2.00it/s, step size=3.48e-02, acc. prob=0.625]"
     ]
    },
    {
     "name": "stderr",
     "output_type": "stream",
     "text": [
      "\r",
      "Warmup:  48%|████▊     | 10/21 [00:03,  1.92it/s, step size=6.48e-02, acc. prob=0.663]"
     ]
    },
    {
     "name": "stderr",
     "output_type": "stream",
     "text": [
      "\r",
      "Warmup:  52%|█████▏    | 11/21 [00:03,  2.22it/s, step size=2.84e-02, acc. prob=0.651]"
     ]
    },
    {
     "name": "stderr",
     "output_type": "stream",
     "text": [
      "\r",
      "Warmup:  57%|█████▋    | 12/21 [00:03,  2.05it/s, step size=4.92e-02, acc. prob=0.678]"
     ]
    },
    {
     "name": "stderr",
     "output_type": "stream",
     "text": [
      "\r",
      "Warmup:  62%|██████▏   | 13/21 [00:04,  1.96it/s, step size=8.62e-02, acc. prob=0.700]"
     ]
    },
    {
     "name": "stderr",
     "output_type": "stream",
     "text": [
      "\r",
      "Warmup:  67%|██████▋   | 14/21 [00:04,  2.23it/s, step size=7.73e-02, acc. prob=0.704]"
     ]
    },
    {
     "name": "stderr",
     "output_type": "stream",
     "text": [
      "\r",
      "Warmup:  71%|███████▏  | 15/21 [00:05,  2.50it/s, step size=7.19e-02, acc. prob=0.709]"
     ]
    },
    {
     "name": "stderr",
     "output_type": "stream",
     "text": [
      "\r",
      "Warmup:  76%|███████▌  | 16/21 [00:05,  2.74it/s, step size=8.31e-02, acc. prob=0.717]"
     ]
    },
    {
     "name": "stderr",
     "output_type": "stream",
     "text": [
      "\r",
      "Warmup:  81%|████████  | 17/21 [00:05,  2.75it/s, step size=8.96e-01, acc. prob=0.727]"
     ]
    },
    {
     "name": "stderr",
     "output_type": "stream",
     "text": [
      "\r",
      "Warmup:  95%|█████████▌| 20/21 [00:05,  3.72it/s, step size=5.28e-01, acc. prob=0.654]"
     ]
    },
    {
     "name": "stderr",
     "output_type": "stream",
     "text": [
      "\r",
      "Warmup: 100%|██████████| 21/21 [00:06,  4.36it/s, step size=5.28e-01, acc. prob=0.136]"
     ]
    },
    {
     "name": "stderr",
     "output_type": "stream",
     "text": [
      "\r",
      "Sample: 100%|██████████| 21/21 [00:06,  3.46it/s, step size=5.28e-01, acc. prob=0.136]"
     ]
    },
    {
     "name": "stderr",
     "output_type": "stream",
     "text": [
      "\n",
      "\r",
      "Warmup:   0%|          | 0/21 [00:00, ?it/s]"
     ]
    },
    {
     "name": "stderr",
     "output_type": "stream",
     "text": [
      "\r",
      "Warmup:   5%|▍         | 1/21 [00:00,  8.29it/s, step size=7.19e+00, acc. prob=1.000]"
     ]
    },
    {
     "name": "stdout",
     "output_type": "stream",
     "text": [
      "[iter 20]  loss: 187489.3555\n"
     ]
    },
    {
     "name": "stderr",
     "output_type": "stream",
     "text": [
      "\r",
      "Warmup:  19%|█▉        | 4/21 [00:00,  9.99it/s, step size=1.62e-01, acc. prob=0.500]"
     ]
    },
    {
     "name": "stderr",
     "output_type": "stream",
     "text": [
      "\r",
      "Warmup:  24%|██▍       | 5/21 [00:00,  8.79it/s, step size=2.15e-02, acc. prob=0.434]"
     ]
    },
    {
     "name": "stderr",
     "output_type": "stream",
     "text": [
      "\r",
      "Warmup:  29%|██▊       | 6/21 [00:01,  2.39it/s, step size=3.41e-02, acc. prob=0.529]"
     ]
    },
    {
     "name": "stderr",
     "output_type": "stream",
     "text": [
      "\r",
      "Warmup:  33%|███▎      | 7/21 [00:02,  2.13it/s, step size=4.03e-02, acc. prob=0.579]"
     ]
    },
    {
     "name": "stderr",
     "output_type": "stream",
     "text": [
      "\r",
      "Warmup:  38%|███▊      | 8/21 [00:02,  2.00it/s, step size=7.21e-02, acc. prob=0.631]"
     ]
    },
    {
     "name": "stderr",
     "output_type": "stream",
     "text": [
      "\r",
      "Warmup:  43%|████▎     | 9/21 [00:02,  2.30it/s, step size=6.05e-02, acc. prob=0.645]"
     ]
    },
    {
     "name": "stderr",
     "output_type": "stream",
     "text": [
      "\r",
      "Warmup:  48%|████▊     | 10/21 [00:03,  2.57it/s, step size=6.93e-02, acc. prob=0.665]"
     ]
    },
    {
     "name": "stderr",
     "output_type": "stream",
     "text": [
      "\r",
      "Warmup:  52%|█████▏    | 11/21 [00:03,  2.80it/s, step size=4.24e-02, acc. prob=0.663]"
     ]
    },
    {
     "name": "stderr",
     "output_type": "stream",
     "text": [
      "\r",
      "Warmup:  57%|█████▋    | 12/21 [00:04,  2.37it/s, step size=7.64e-02, acc. prob=0.689]"
     ]
    },
    {
     "name": "stderr",
     "output_type": "stream",
     "text": [
      "\r",
      "Warmup:  62%|██████▏   | 13/21 [00:04,  2.63it/s, step size=6.68e-02, acc. prob=0.694]"
     ]
    },
    {
     "name": "stderr",
     "output_type": "stream",
     "text": [
      "\r",
      "Warmup:  67%|██████▋   | 14/21 [00:04,  2.85it/s, step size=7.15e-02, acc. prob=0.703]"
     ]
    },
    {
     "name": "stderr",
     "output_type": "stream",
     "text": [
      "\r",
      "Warmup:  71%|███████▏  | 15/21 [00:04,  3.03it/s, step size=5.39e-02, acc. prob=0.703]"
     ]
    },
    {
     "name": "stderr",
     "output_type": "stream",
     "text": [
      "\r",
      "Warmup:  76%|███████▌  | 16/21 [00:05,  3.17it/s, step size=6.77e-02, acc. prob=0.713]"
     ]
    },
    {
     "name": "stderr",
     "output_type": "stream",
     "text": [
      "\r",
      "Warmup:  81%|████████  | 17/21 [00:05,  2.97it/s, step size=1.52e+00, acc. prob=0.710]"
     ]
    },
    {
     "name": "stderr",
     "output_type": "stream",
     "text": [
      "\r",
      "Warmup: 100%|██████████| 21/21 [00:05,  4.04it/s, step size=8.98e-01, acc. prob=0.000]"
     ]
    },
    {
     "name": "stderr",
     "output_type": "stream",
     "text": [
      "\r",
      "Sample: 100%|██████████| 21/21 [00:05,  3.62it/s, step size=8.98e-01, acc. prob=0.000]"
     ]
    },
    {
     "name": "stderr",
     "output_type": "stream",
     "text": [
      "\n",
      "\r",
      "Warmup:   0%|          | 0/21 [00:00, ?it/s]"
     ]
    },
    {
     "name": "stderr",
     "output_type": "stream",
     "text": [
      "\r",
      "Warmup:  10%|▉         | 2/21 [00:00, 18.81it/s, step size=1.22e+00, acc. prob=0.500]"
     ]
    },
    {
     "name": "stderr",
     "output_type": "stream",
     "text": [
      "\r",
      "Warmup:  19%|█▉        | 4/21 [00:00, 16.98it/s, step size=1.62e-01, acc. prob=0.500]"
     ]
    },
    {
     "name": "stderr",
     "output_type": "stream",
     "text": [
      "\r",
      "Warmup:  24%|██▍       | 5/21 [00:00, 12.10it/s, step size=2.55e-02, acc. prob=0.446]"
     ]
    },
    {
     "name": "stderr",
     "output_type": "stream",
     "text": [
      "\r",
      "Warmup:  29%|██▊       | 6/21 [00:01,  2.47it/s, step size=4.06e-02, acc. prob=0.538]"
     ]
    },
    {
     "name": "stderr",
     "output_type": "stream",
     "text": [
      "\r",
      "Warmup:  33%|███▎      | 7/21 [00:02,  2.20it/s, step size=5.49e-02, acc. prob=0.593]"
     ]
    },
    {
     "name": "stderr",
     "output_type": "stream",
     "text": [
      "\r",
      "Warmup:  38%|███▊      | 8/21 [00:02,  2.47it/s, step size=9.69e-02, acc. prob=0.643]"
     ]
    },
    {
     "name": "stderr",
     "output_type": "stream",
     "text": [
      "\r",
      "Warmup:  43%|████▎     | 9/21 [00:02,  2.72it/s, step size=4.73e-02, acc. prob=0.636]"
     ]
    },
    {
     "name": "stderr",
     "output_type": "stream",
     "text": [
      "\r",
      "Warmup:  48%|████▊     | 10/21 [00:03,  2.32it/s, step size=6.50e-02, acc. prob=0.663]"
     ]
    },
    {
     "name": "stderr",
     "output_type": "stream",
     "text": [
      "\r",
      "Warmup:  52%|█████▏    | 11/21 [00:03,  2.60it/s, step size=1.07e-01, acc. prob=0.689]"
     ]
    },
    {
     "name": "stderr",
     "output_type": "stream",
     "text": [
      "\r",
      "Warmup:  57%|█████▋    | 12/21 [00:08,  1.65s/it, step size=3.01e-02, acc. prob=0.665]"
     ]
    },
    {
     "name": "stderr",
     "output_type": "stream",
     "text": [
      "\r",
      "Warmup:  62%|██████▏   | 13/21 [00:08,  1.32s/it, step size=5.59e-02, acc. prob=0.690]"
     ]
    },
    {
     "name": "stderr",
     "output_type": "stream",
     "text": [
      "\r",
      "Warmup:  67%|██████▋   | 14/21 [00:08,  1.01s/it, step size=7.29e-02, acc. prob=0.703]"
     ]
    },
    {
     "name": "stderr",
     "output_type": "stream",
     "text": [
      "\r",
      "Warmup:  71%|███████▏  | 15/21 [00:09,  1.26it/s, step size=5.80e-02, acc. prob=0.704]"
     ]
    },
    {
     "name": "stderr",
     "output_type": "stream",
     "text": [
      "\r",
      "Warmup:  76%|███████▌  | 16/21 [00:09,  1.56it/s, step size=1.07e-01, acc. prob=0.722]"
     ]
    },
    {
     "name": "stderr",
     "output_type": "stream",
     "text": [
      "\r",
      "Warmup:  81%|████████  | 17/21 [00:14,  1.86s/it, step size=1.08e+00, acc. prob=0.704]"
     ]
    },
    {
     "name": "stderr",
     "output_type": "stream",
     "text": [
      "\r",
      "Warmup: 100%|██████████| 21/21 [00:14,  1.31s/it, step size=6.37e-01, acc. prob=0.286]"
     ]
    },
    {
     "name": "stderr",
     "output_type": "stream",
     "text": [
      "\r",
      "Sample: 100%|██████████| 21/21 [00:14,  1.46it/s, step size=6.37e-01, acc. prob=0.286]"
     ]
    },
    {
     "name": "stderr",
     "output_type": "stream",
     "text": [
      "\n",
      "\r",
      "Warmup:   0%|          | 0/21 [00:00, ?it/s]"
     ]
    },
    {
     "name": "stderr",
     "output_type": "stream",
     "text": [
      "\r",
      "Warmup:   5%|▍         | 1/21 [00:00,  8.37it/s, step size=7.19e+00, acc. prob=1.000]"
     ]
    },
    {
     "name": "stderr",
     "output_type": "stream",
     "text": [
      "\r",
      "Warmup:  19%|█▉        | 4/21 [00:00, 10.07it/s, step size=1.62e-01, acc. prob=0.500]"
     ]
    },
    {
     "name": "stderr",
     "output_type": "stream",
     "text": [
      "\r",
      "Warmup:  24%|██▍       | 5/21 [00:00,  8.91it/s, step size=1.04e-01, acc. prob=0.540]"
     ]
    },
    {
     "name": "stderr",
     "output_type": "stream",
     "text": [
      "\r",
      "Warmup:  29%|██▊       | 6/21 [00:00,  6.12it/s, step size=4.56e-02, acc. prob=0.544]"
     ]
    },
    {
     "name": "stderr",
     "output_type": "stream",
     "text": [
      "\r",
      "Warmup:  33%|███▎      | 7/21 [00:01,  3.43it/s, step size=7.75e-02, acc. prob=0.609]"
     ]
    },
    {
     "name": "stderr",
     "output_type": "stream",
     "text": [
      "\r",
      "Warmup:  38%|███▊      | 8/21 [00:01,  3.43it/s, step size=3.62e-02, acc. prob=0.604]"
     ]
    },
    {
     "name": "stderr",
     "output_type": "stream",
     "text": [
      "\r",
      "Warmup:  43%|████▎     | 9/21 [00:02,  2.61it/s, step size=6.57e-02, acc. prob=0.648]"
     ]
    },
    {
     "name": "stderr",
     "output_type": "stream",
     "text": [
      "\r",
      "Warmup:  48%|████▊     | 10/21 [00:02,  2.83it/s, step size=7.32e-02, acc. prob=0.666]"
     ]
    },
    {
     "name": "stderr",
     "output_type": "stream",
     "text": [
      "\r",
      "Warmup:  52%|█████▏    | 11/21 [00:02,  3.00it/s, step size=6.59e-02, acc. prob=0.675]"
     ]
    },
    {
     "name": "stderr",
     "output_type": "stream",
     "text": [
      "\r",
      "Warmup:  57%|█████▋    | 12/21 [00:03,  3.15it/s, step size=1.23e-01, acc. prob=0.702]"
     ]
    },
    {
     "name": "stderr",
     "output_type": "stream",
     "text": [
      "\r",
      "Warmup:  62%|██████▏   | 13/21 [00:03,  3.79it/s, step size=3.87e-02, acc. prob=0.681]"
     ]
    },
    {
     "name": "stderr",
     "output_type": "stream",
     "text": [
      "\r",
      "Warmup:  67%|██████▋   | 14/21 [00:03,  2.80it/s, step size=6.31e-02, acc. prob=0.700]"
     ]
    },
    {
     "name": "stderr",
     "output_type": "stream",
     "text": [
      "\r",
      "Warmup:  71%|███████▏  | 15/21 [00:04,  2.97it/s, step size=2.62e-02, acc. prob=0.687]"
     ]
    },
    {
     "name": "stderr",
     "output_type": "stream",
     "text": [
      "\r",
      "Warmup:  76%|███████▌  | 16/21 [00:04,  2.40it/s, step size=3.23e-02, acc. prob=0.698]"
     ]
    },
    {
     "name": "stderr",
     "output_type": "stream",
     "text": [
      "\r",
      "Warmup:  81%|████████  | 17/21 [00:05,  2.01it/s, step size=8.89e-01, acc. prob=0.713]"
     ]
    },
    {
     "name": "stderr",
     "output_type": "stream",
     "text": [
      "\r",
      "Warmup:  95%|█████████▌| 20/21 [00:05,  2.67it/s, step size=5.23e-01, acc. prob=0.643]"
     ]
    },
    {
     "name": "stderr",
     "output_type": "stream",
     "text": [
      "\r",
      "Warmup: 100%|██████████| 21/21 [00:05,  3.11it/s, step size=5.23e-01, acc. prob=0.067]"
     ]
    },
    {
     "name": "stderr",
     "output_type": "stream",
     "text": [
      "\r",
      "Sample: 100%|██████████| 21/21 [00:05,  3.63it/s, step size=5.23e-01, acc. prob=0.067]"
     ]
    },
    {
     "name": "stderr",
     "output_type": "stream",
     "text": [
      "\n"
     ]
    },
    {
     "name": "stderr",
     "output_type": "stream",
     "text": [
      "\r",
      "Warmup:   0%|          | 0/21 [00:00, ?it/s]"
     ]
    },
    {
     "name": "stderr",
     "output_type": "stream",
     "text": [
      "\r",
      "Warmup:   5%|▍         | 1/21 [00:00,  7.57it/s, step size=7.19e+00, acc. prob=1.000]"
     ]
    },
    {
     "name": "stderr",
     "output_type": "stream",
     "text": [
      "\r",
      "Warmup:  19%|█▉        | 4/21 [00:00,  9.21it/s, step size=1.62e-01, acc. prob=0.500]"
     ]
    },
    {
     "name": "stderr",
     "output_type": "stream",
     "text": [
      "\r",
      "Warmup:  24%|██▍       | 5/21 [00:00,  8.46it/s, step size=1.94e-02, acc. prob=0.427]"
     ]
    },
    {
     "name": "stderr",
     "output_type": "stream",
     "text": [
      "\r",
      "Warmup:  29%|██▊       | 6/21 [00:01,  2.19it/s, step size=3.06e-02, acc. prob=0.523]"
     ]
    },
    {
     "name": "stderr",
     "output_type": "stream",
     "text": [
      "\r",
      "Warmup:  33%|███▎      | 7/21 [00:02,  1.97it/s, step size=5.15e-02, acc. prob=0.590]"
     ]
    },
    {
     "name": "stderr",
     "output_type": "stream",
     "text": [
      "\r",
      "Warmup:  38%|███▊      | 8/21 [00:13,  3.63s/it, step size=8.05e-02, acc. prob=0.636]"
     ]
    },
    {
     "name": "stderr",
     "output_type": "stream",
     "text": [
      "\r",
      "Warmup:  43%|████▎     | 9/21 [00:13,  2.65s/it, step size=1.02e-01, acc. prob=0.663]"
     ]
    },
    {
     "name": "stderr",
     "output_type": "stream",
     "text": [
      "\r",
      "Warmup:  48%|████▊     | 10/21 [00:13,  1.97s/it, step size=2.70e-02, acc. prob=0.635]"
     ]
    },
    {
     "name": "stderr",
     "output_type": "stream",
     "text": [
      "\r",
      "Warmup:  52%|█████▏    | 11/21 [00:14,  1.58s/it, step size=4.77e-02, acc. prob=0.666]"
     ]
    },
    {
     "name": "stderr",
     "output_type": "stream",
     "text": [
      "\r",
      "Warmup:  57%|█████▋    | 12/21 [00:15,  1.33s/it, step size=5.90e-02, acc. prob=0.683]"
     ]
    },
    {
     "name": "stderr",
     "output_type": "stream",
     "text": [
      "\r",
      "Warmup:  62%|██████▏   | 13/21 [00:15,  1.02s/it, step size=6.41e-02, acc. prob=0.693]"
     ]
    },
    {
     "name": "stderr",
     "output_type": "stream",
     "text": [
      "\r",
      "Warmup:  67%|██████▋   | 14/21 [00:15,  1.24it/s, step size=4.06e-02, acc. prob=0.690]"
     ]
    },
    {
     "name": "stderr",
     "output_type": "stream",
     "text": [
      "\r",
      "Warmup:  71%|███████▏  | 15/21 [00:16,  1.36it/s, step size=7.67e-02, acc. prob=0.710]"
     ]
    },
    {
     "name": "stderr",
     "output_type": "stream",
     "text": [
      "\r",
      "Warmup:  76%|███████▌  | 16/21 [00:16,  1.65it/s, step size=1.30e-01, acc. prob=0.726]"
     ]
    },
    {
     "name": "stderr",
     "output_type": "stream",
     "text": [
      "\r",
      "Warmup:  81%|████████  | 17/21 [00:17,  1.97it/s, step size=1.47e+00, acc. prob=0.696]"
     ]
    },
    {
     "name": "stderr",
     "output_type": "stream",
     "text": [
      "\r",
      "Warmup: 100%|██████████| 21/21 [00:17,  2.73it/s, step size=8.63e-01, acc. prob=0.000]"
     ]
    },
    {
     "name": "stderr",
     "output_type": "stream",
     "text": [
      "\r",
      "Sample: 100%|██████████| 21/21 [00:17,  1.21it/s, step size=8.63e-01, acc. prob=0.000]"
     ]
    },
    {
     "name": "stderr",
     "output_type": "stream",
     "text": [
      "\n",
      "\r",
      "Warmup:   0%|          | 0/21 [00:00, ?it/s]"
     ]
    },
    {
     "name": "stderr",
     "output_type": "stream",
     "text": [
      "\r",
      "Warmup:  14%|█▍        | 3/21 [00:00, 28.61it/s, step size=1.20e-01, acc. prob=0.333]"
     ]
    },
    {
     "name": "stderr",
     "output_type": "stream",
     "text": [
      "\r",
      "Warmup:  19%|█▉        | 4/21 [00:00, 15.20it/s, step size=1.62e-01, acc. prob=0.500]"
     ]
    },
    {
     "name": "stderr",
     "output_type": "stream",
     "text": [
      "\r",
      "Warmup:  24%|██▍       | 5/21 [00:00, 11.20it/s, step size=7.06e-02, acc. prob=0.514]"
     ]
    },
    {
     "name": "stderr",
     "output_type": "stream",
     "text": [
      "\r",
      "Warmup:  29%|██▊       | 6/21 [00:00,  6.32it/s, step size=1.16e-01, acc. prob=0.595]"
     ]
    },
    {
     "name": "stderr",
     "output_type": "stream",
     "text": [
      "\r",
      "Warmup:  33%|███▎      | 7/21 [00:00,  6.54it/s, step size=2.22e-02, acc. prob=0.551]"
     ]
    },
    {
     "name": "stderr",
     "output_type": "stream",
     "text": [
      "\r",
      "Warmup:  38%|███▊      | 8/21 [00:02,  2.18it/s, step size=3.94e-02, acc. prob=0.607]"
     ]
    },
    {
     "name": "stderr",
     "output_type": "stream",
     "text": [
      "\r",
      "Warmup:  43%|████▎     | 9/21 [00:02,  1.97it/s, step size=7.24e-02, acc. prob=0.651]"
     ]
    },
    {
     "name": "stderr",
     "output_type": "stream",
     "text": [
      "\r",
      "Warmup:  48%|████▊     | 10/21 [00:02,  2.27it/s, step size=6.18e-02, acc. prob=0.661]"
     ]
    },
    {
     "name": "stderr",
     "output_type": "stream",
     "text": [
      "\r",
      "Warmup:  52%|█████▏    | 11/21 [00:03,  2.54it/s, step size=9.53e-02, acc. prob=0.686]"
     ]
    },
    {
     "name": "stderr",
     "output_type": "stream",
     "text": [
      "\r",
      "Warmup:  57%|█████▋    | 12/21 [00:03,  2.76it/s, step size=2.43e-02, acc. prob=0.659]"
     ]
    },
    {
     "name": "stderr",
     "output_type": "stream",
     "text": [
      "\r",
      "Warmup:  62%|██████▏   | 13/21 [00:04,  1.67it/s, step size=3.46e-02, acc. prob=0.678]"
     ]
    },
    {
     "name": "stderr",
     "output_type": "stream",
     "text": [
      "\r",
      "Warmup:  67%|██████▋   | 14/21 [00:05,  1.69it/s, step size=6.16e-02, acc. prob=0.699]"
     ]
    },
    {
     "name": "stderr",
     "output_type": "stream",
     "text": [
      "\r",
      "Warmup:  71%|███████▏  | 15/21 [00:05,  2.00it/s, step size=3.93e-02, acc. prob=0.696]"
     ]
    },
    {
     "name": "stderr",
     "output_type": "stream",
     "text": [
      "\r",
      "Warmup:  76%|███████▌  | 16/21 [00:06,  1.92it/s, step size=4.78e-02, acc. prob=0.706]"
     ]
    },
    {
     "name": "stderr",
     "output_type": "stream",
     "text": [
      "\r",
      "Warmup:  81%|████████  | 17/21 [00:06,  1.74it/s, step size=1.64e+00, acc. prob=0.712]"
     ]
    },
    {
     "name": "stderr",
     "output_type": "stream",
     "text": [
      "\r",
      "Sample: 100%|██████████| 21/21 [00:06,  3.07it/s, step size=9.68e-01, acc. prob=0.000]"
     ]
    },
    {
     "name": "stderr",
     "output_type": "stream",
     "text": [
      "\n",
      "\r",
      "Warmup:   0%|          | 0/21 [00:00, ?it/s]"
     ]
    },
    {
     "name": "stderr",
     "output_type": "stream",
     "text": [
      "\r",
      "Warmup:   5%|▍         | 1/21 [00:00,  8.16it/s, step size=7.19e+00, acc. prob=1.000]"
     ]
    },
    {
     "name": "stdout",
     "output_type": "stream",
     "text": [
      "[iter 25]  loss: 187088.7109\n"
     ]
    },
    {
     "name": "stderr",
     "output_type": "stream",
     "text": [
      "\r",
      "Warmup:  19%|█▉        | 4/21 [00:00,  9.82it/s, step size=1.62e-01, acc. prob=0.500]"
     ]
    },
    {
     "name": "stderr",
     "output_type": "stream",
     "text": [
      "\r",
      "Warmup:  24%|██▍       | 5/21 [00:00,  8.90it/s, step size=9.45e-02, acc. prob=0.534]"
     ]
    },
    {
     "name": "stderr",
     "output_type": "stream",
     "text": [
      "\r",
      "Warmup:  29%|██▊       | 6/21 [00:00,  6.05it/s, step size=6.72e-02, acc. prob=0.565]"
     ]
    },
    {
     "name": "stderr",
     "output_type": "stream",
     "text": [
      "\r",
      "Warmup:  33%|███▎      | 7/21 [00:00,  4.94it/s, step size=7.96e-02, acc. prob=0.610]"
     ]
    },
    {
     "name": "stderr",
     "output_type": "stream",
     "text": [
      "\r",
      "Warmup:  38%|███▊      | 8/21 [00:01,  4.42it/s, step size=2.15e-02, acc. prob=0.583]"
     ]
    },
    {
     "name": "stderr",
     "output_type": "stream",
     "text": [
      "\r",
      "Warmup:  43%|████▎     | 9/21 [00:02,  1.97it/s, step size=3.35e-02, acc. prob=0.624]"
     ]
    },
    {
     "name": "stderr",
     "output_type": "stream",
     "text": [
      "\r",
      "Warmup:  48%|████▊     | 10/21 [00:03,  1.90it/s, step size=6.20e-02, acc. prob=0.661]"
     ]
    },
    {
     "name": "stderr",
     "output_type": "stream",
     "text": [
      "\r",
      "Warmup:  52%|█████▏    | 11/21 [00:03,  2.20it/s, step size=1.02e-01, acc. prob=0.688]"
     ]
    },
    {
     "name": "stderr",
     "output_type": "stream",
     "text": [
      "\r",
      "Warmup:  57%|█████▋    | 12/21 [00:03,  2.48it/s, step size=1.22e-01, acc. prob=0.702]"
     ]
    },
    {
     "name": "stderr",
     "output_type": "stream",
     "text": [
      "\r",
      "Warmup:  62%|██████▏   | 13/21 [00:03,  3.09it/s, step size=1.93e-02, acc. prob=0.664]"
     ]
    },
    {
     "name": "stderr",
     "output_type": "stream",
     "text": [
      "\r",
      "Warmup:  67%|██████▋   | 14/21 [00:04,  1.75it/s, step size=3.69e-02, acc. prob=0.688]"
     ]
    },
    {
     "name": "stderr",
     "output_type": "stream",
     "text": [
      "\r",
      "Warmup:  71%|███████▏  | 15/21 [00:05,  1.76it/s, step size=5.74e-02, acc. prob=0.704]"
     ]
    },
    {
     "name": "stderr",
     "output_type": "stream",
     "text": [
      "\r",
      "Warmup:  76%|███████▌  | 16/21 [00:05,  2.06it/s, step size=4.30e-02, acc. prob=0.703]"
     ]
    },
    {
     "name": "stderr",
     "output_type": "stream",
     "text": [
      "\r",
      "Warmup:  81%|████████  | 17/21 [00:06,  1.85it/s, step size=8.39e-01, acc. prob=0.712]"
     ]
    },
    {
     "name": "stderr",
     "output_type": "stream",
     "text": [
      "\r",
      "Warmup:  95%|█████████▌| 20/21 [00:06,  2.51it/s, step size=4.94e-01, acc. prob=0.642]"
     ]
    },
    {
     "name": "stderr",
     "output_type": "stream",
     "text": [
      "\r",
      "Warmup: 100%|██████████| 21/21 [00:06,  3.12it/s, step size=4.94e-01, acc. prob=0.067]"
     ]
    },
    {
     "name": "stderr",
     "output_type": "stream",
     "text": [
      "\r",
      "Sample: 100%|██████████| 21/21 [00:06,  3.11it/s, step size=4.94e-01, acc. prob=0.067]"
     ]
    },
    {
     "name": "stderr",
     "output_type": "stream",
     "text": [
      "\n",
      "\r",
      "Warmup:   0%|          | 0/21 [00:00, ?it/s]"
     ]
    },
    {
     "name": "stderr",
     "output_type": "stream",
     "text": [
      "\r",
      "Warmup:   5%|▍         | 1/21 [00:00,  8.29it/s, step size=7.19e+00, acc. prob=1.000]"
     ]
    },
    {
     "name": "stderr",
     "output_type": "stream",
     "text": [
      "\r",
      "Warmup:  19%|█▉        | 4/21 [00:00,  9.98it/s, step size=1.62e-01, acc. prob=0.500]"
     ]
    },
    {
     "name": "stderr",
     "output_type": "stream",
     "text": [
      "\r",
      "Warmup:  24%|██▍       | 5/21 [00:00,  8.99it/s, step size=2.87e-02, acc. prob=0.454]"
     ]
    },
    {
     "name": "stderr",
     "output_type": "stream",
     "text": [
      "\r",
      "Warmup:  29%|██▊       | 6/21 [00:00,  4.00it/s, step size=4.57e-02, acc. prob=0.544]"
     ]
    },
    {
     "name": "stderr",
     "output_type": "stream",
     "text": [
      "\r",
      "Warmup:  33%|███▎      | 7/21 [00:01,  2.88it/s, step size=4.20e-02, acc. prob=0.581]"
     ]
    },
    {
     "name": "stderr",
     "output_type": "stream",
     "text": [
      "\r",
      "Warmup:  38%|███▊      | 8/21 [00:02,  2.41it/s, step size=3.84e-02, acc. prob=0.606]"
     ]
    },
    {
     "name": "stderr",
     "output_type": "stream",
     "text": [
      "\r",
      "Warmup:  43%|████▎     | 9/21 [00:02,  2.17it/s, step size=6.60e-02, acc. prob=0.648]"
     ]
    },
    {
     "name": "stderr",
     "output_type": "stream",
     "text": [
      "\r",
      "Warmup:  48%|████▊     | 10/21 [00:02,  2.45it/s, step size=5.21e-02, acc. prob=0.656]"
     ]
    },
    {
     "name": "stderr",
     "output_type": "stream",
     "text": [
      "\r",
      "Warmup:  52%|█████▏    | 11/21 [00:03,  2.69it/s, step size=9.83e-02, acc. prob=0.687]"
     ]
    },
    {
     "name": "stderr",
     "output_type": "stream",
     "text": [
      "\r",
      "Warmup:  57%|█████▋    | 12/21 [00:03,  2.86it/s, step size=8.86e-02, acc. prob=0.693]"
     ]
    },
    {
     "name": "stderr",
     "output_type": "stream",
     "text": [
      "\r",
      "Warmup:  62%|██████▏   | 13/21 [00:03,  3.02it/s, step size=2.60e-02, acc. prob=0.671]"
     ]
    },
    {
     "name": "stderr",
     "output_type": "stream",
     "text": [
      "\r",
      "Warmup:  67%|██████▋   | 14/21 [00:04,  2.43it/s, step size=4.99e-02, acc. prob=0.694]"
     ]
    },
    {
     "name": "stderr",
     "output_type": "stream",
     "text": [
      "\r",
      "Warmup:  71%|███████▏  | 15/21 [00:05,  2.13it/s, step size=7.78e-02, acc. prob=0.710]"
     ]
    },
    {
     "name": "stderr",
     "output_type": "stream",
     "text": [
      "\r",
      "Warmup:  76%|███████▌  | 16/21 [00:05,  2.41it/s, step size=3.54e-02, acc. prob=0.699]"
     ]
    },
    {
     "name": "stderr",
     "output_type": "stream",
     "text": [
      "\r",
      "Warmup:  81%|████████  | 17/21 [00:06,  2.02it/s, step size=1.92e+00, acc. prob=0.715]"
     ]
    },
    {
     "name": "stderr",
     "output_type": "stream",
     "text": [
      "\r",
      "Sample: 100%|██████████| 21/21 [00:06,  3.46it/s, step size=1.13e+00, acc. prob=0.000]"
     ]
    },
    {
     "name": "stderr",
     "output_type": "stream",
     "text": [
      "\n",
      "\r",
      "Warmup:   0%|          | 0/21 [00:00, ?it/s]"
     ]
    },
    {
     "name": "stderr",
     "output_type": "stream",
     "text": [
      "\r",
      "Warmup:   5%|▍         | 1/21 [00:00,  8.44it/s, step size=7.19e+00, acc. prob=1.000]"
     ]
    },
    {
     "name": "stderr",
     "output_type": "stream",
     "text": [
      "\r",
      "Warmup:  19%|█▉        | 4/21 [00:00, 10.14it/s, step size=1.62e-01, acc. prob=0.500]"
     ]
    },
    {
     "name": "stderr",
     "output_type": "stream",
     "text": [
      "\r",
      "Warmup:  24%|██▍       | 5/21 [00:00,  9.04it/s, step size=2.46e-02, acc. prob=0.443]"
     ]
    },
    {
     "name": "stderr",
     "output_type": "stream",
     "text": [
      "\r",
      "Warmup:  29%|██▊       | 6/21 [00:01,  2.38it/s, step size=3.83e-02, acc. prob=0.535]"
     ]
    },
    {
     "name": "stderr",
     "output_type": "stream",
     "text": [
      "\r",
      "Warmup:  33%|███▎      | 7/21 [00:02,  2.14it/s, step size=6.22e-02, acc. prob=0.599]"
     ]
    },
    {
     "name": "stderr",
     "output_type": "stream",
     "text": [
      "\r",
      "Warmup:  38%|███▊      | 8/21 [00:02,  2.44it/s, step size=6.76e-02, acc. prob=0.629]"
     ]
    },
    {
     "name": "stderr",
     "output_type": "stream",
     "text": [
      "\r",
      "Warmup:  43%|████▎     | 9/21 [00:02,  2.69it/s, step size=7.66e-02, acc. prob=0.653]"
     ]
    },
    {
     "name": "stderr",
     "output_type": "stream",
     "text": [
      "\r",
      "Warmup:  48%|████▊     | 10/21 [00:02,  2.89it/s, step size=3.44e-02, acc. prob=0.643]"
     ]
    },
    {
     "name": "stderr",
     "output_type": "stream",
     "text": [
      "\r",
      "Warmup:  52%|█████▏    | 11/21 [00:03,  2.43it/s, step size=6.46e-02, acc. prob=0.675]"
     ]
    },
    {
     "name": "stderr",
     "output_type": "stream",
     "text": [
      "\r",
      "Warmup:  57%|█████▋    | 12/21 [00:03,  2.67it/s, step size=1.21e-01, acc. prob=0.702]"
     ]
    },
    {
     "name": "stderr",
     "output_type": "stream",
     "text": [
      "\r",
      "Warmup:  62%|██████▏   | 13/21 [00:03,  3.29it/s, step size=3.14e-02, acc. prob=0.676]"
     ]
    },
    {
     "name": "stderr",
     "output_type": "stream",
     "text": [
      "\r",
      "Warmup:  67%|██████▋   | 14/21 [00:04,  2.61it/s, step size=5.48e-02, acc. prob=0.697]"
     ]
    },
    {
     "name": "stderr",
     "output_type": "stream",
     "text": [
      "\r",
      "Warmup:  71%|███████▏  | 15/21 [00:04,  2.83it/s, step size=2.94e-02, acc. prob=0.689]"
     ]
    },
    {
     "name": "stderr",
     "output_type": "stream",
     "text": [
      "\r",
      "Warmup:  76%|███████▌  | 16/21 [00:05,  2.38it/s, step size=5.03e-02, acc. prob=0.707]"
     ]
    },
    {
     "name": "stderr",
     "output_type": "stream",
     "text": [
      "\r",
      "Warmup:  81%|████████  | 17/21 [00:06,  2.01it/s, step size=1.18e+00, acc. prob=0.705]"
     ]
    },
    {
     "name": "stderr",
     "output_type": "stream",
     "text": [
      "\r",
      "Warmup: 100%|██████████| 21/21 [00:06,  2.79it/s, step size=6.92e-01, acc. prob=0.143]"
     ]
    },
    {
     "name": "stderr",
     "output_type": "stream",
     "text": [
      "\r",
      "Sample: 100%|██████████| 21/21 [00:06,  3.37it/s, step size=6.92e-01, acc. prob=0.143]"
     ]
    },
    {
     "name": "stderr",
     "output_type": "stream",
     "text": [
      "\n",
      "\r",
      "Warmup:   0%|          | 0/21 [00:00, ?it/s]"
     ]
    },
    {
     "name": "stderr",
     "output_type": "stream",
     "text": [
      "\r",
      "Warmup:  14%|█▍        | 3/21 [00:00, 29.13it/s, step size=1.20e-01, acc. prob=0.333]"
     ]
    },
    {
     "name": "stderr",
     "output_type": "stream",
     "text": [
      "\r",
      "Warmup:  19%|█▉        | 4/21 [00:00, 15.09it/s, step size=1.62e-01, acc. prob=0.500]"
     ]
    },
    {
     "name": "stderr",
     "output_type": "stream",
     "text": [
      "\r",
      "Warmup:  24%|██▍       | 5/21 [00:00, 11.19it/s, step size=4.76e-02, acc. prob=0.488]"
     ]
    },
    {
     "name": "stderr",
     "output_type": "stream",
     "text": [
      "\r",
      "Warmup:  29%|██▊       | 6/21 [00:00,  4.23it/s, step size=7.61e-02, acc. prob=0.572]"
     ]
    },
    {
     "name": "stderr",
     "output_type": "stream",
     "text": [
      "\r",
      "Warmup:  33%|███▎      | 7/21 [00:01,  4.00it/s, step size=5.45e-02, acc. prob=0.593]"
     ]
    },
    {
     "name": "stderr",
     "output_type": "stream",
     "text": [
      "\r",
      "Warmup:  38%|███▊      | 8/21 [00:01,  3.83it/s, step size=4.37e-02, acc. prob=0.611]"
     ]
    },
    {
     "name": "stderr",
     "output_type": "stream",
     "text": [
      "\r",
      "Warmup:  43%|████▎     | 9/21 [00:02,  2.81it/s, step size=7.95e-02, acc. prob=0.654]"
     ]
    },
    {
     "name": "stderr",
     "output_type": "stream",
     "text": [
      "\r",
      "Warmup:  48%|████▊     | 10/21 [00:02,  2.99it/s, step size=1.06e-01, acc. prob=0.678]"
     ]
    },
    {
     "name": "stderr",
     "output_type": "stream",
     "text": [
      "\r",
      "Warmup:  52%|█████▏    | 11/21 [00:07,  1.63s/it, step size=4.97e-02, acc. prob=0.667]"
     ]
    },
    {
     "name": "stderr",
     "output_type": "stream",
     "text": [
      "\r",
      "Warmup:  57%|█████▋    | 12/21 [00:07,  1.32s/it, step size=8.37e-02, acc. prob=0.692]"
     ]
    },
    {
     "name": "stderr",
     "output_type": "stream",
     "text": [
      "\r",
      "Warmup:  62%|██████▏   | 13/21 [00:07,  1.01s/it, step size=6.08e-02, acc. prob=0.692]"
     ]
    },
    {
     "name": "stderr",
     "output_type": "stream",
     "text": [
      "\r",
      "Warmup:  67%|██████▋   | 14/21 [00:08,  1.27it/s, step size=9.34e-02, acc. prob=0.709]"
     ]
    },
    {
     "name": "stderr",
     "output_type": "stream",
     "text": [
      "\r",
      "Warmup:  71%|███████▏  | 15/21 [00:08,  1.56it/s, step size=2.52e-02, acc. prob=0.686]"
     ]
    },
    {
     "name": "stderr",
     "output_type": "stream",
     "text": [
      "\r",
      "Warmup:  76%|███████▌  | 16/21 [00:09,  1.26it/s, step size=4.57e-02, acc. prob=0.705]"
     ]
    },
    {
     "name": "stderr",
     "output_type": "stream",
     "text": [
      "\r",
      "Warmup:  81%|████████  | 17/21 [00:10,  1.33it/s, step size=1.39e+00, acc. prob=0.722]"
     ]
    },
    {
     "name": "stderr",
     "output_type": "stream",
     "text": [
      "\r",
      "Warmup: 100%|██████████| 21/21 [00:10,  1.85it/s, step size=8.17e-01, acc. prob=0.000]"
     ]
    },
    {
     "name": "stderr",
     "output_type": "stream",
     "text": [
      "\r",
      "Sample: 100%|██████████| 21/21 [00:10,  2.01it/s, step size=8.17e-01, acc. prob=0.000]"
     ]
    },
    {
     "name": "stderr",
     "output_type": "stream",
     "text": [
      "\n",
      "\r",
      "Warmup:   0%|          | 0/21 [00:00, ?it/s]"
     ]
    },
    {
     "name": "stderr",
     "output_type": "stream",
     "text": [
      "\r",
      "Warmup:  14%|█▍        | 3/21 [00:00, 28.37it/s, step size=1.20e-01, acc. prob=0.333]"
     ]
    },
    {
     "name": "stderr",
     "output_type": "stream",
     "text": [
      "\r",
      "Warmup:  19%|█▉        | 4/21 [00:00, 15.16it/s, step size=1.62e-01, acc. prob=0.500]"
     ]
    },
    {
     "name": "stderr",
     "output_type": "stream",
     "text": [
      "\r",
      "Warmup:  24%|██▍       | 5/21 [00:00, 11.38it/s, step size=1.15e-01, acc. prob=0.547]"
     ]
    },
    {
     "name": "stderr",
     "output_type": "stream",
     "text": [
      "\r",
      "Warmup:  29%|██▊       | 6/21 [00:00,  9.70it/s, step size=1.55e-01, acc. prob=0.611]"
     ]
    },
    {
     "name": "stderr",
     "output_type": "stream",
     "text": [
      "\r",
      "Warmup:  33%|███▎      | 7/21 [00:00,  8.79it/s, step size=1.35e-01, acc. prob=0.634]"
     ]
    },
    {
     "name": "stderr",
     "output_type": "stream",
     "text": [
      "\r",
      "Warmup:  38%|███▊      | 8/21 [00:00,  8.24it/s, step size=2.39e-02, acc. prob=0.588]"
     ]
    },
    {
     "name": "stderr",
     "output_type": "stream",
     "text": [
      "\r",
      "Warmup:  43%|████▎     | 9/21 [00:01,  2.26it/s, step size=4.38e-02, acc. prob=0.633]"
     ]
    },
    {
     "name": "stderr",
     "output_type": "stream",
     "text": [
      "\r",
      "Warmup:  48%|████▊     | 10/21 [00:02,  2.08it/s, step size=7.56e-02, acc. prob=0.667]"
     ]
    },
    {
     "name": "stderr",
     "output_type": "stream",
     "text": [
      "\r",
      "Warmup:  52%|█████▏    | 11/21 [00:02,  2.37it/s, step size=2.23e-02, acc. prob=0.644]"
     ]
    },
    {
     "name": "stderr",
     "output_type": "stream",
     "text": [
      "\r",
      "Warmup:  57%|█████▋    | 12/21 [00:04,  1.55it/s, step size=4.04e-02, acc. prob=0.672]"
     ]
    },
    {
     "name": "stderr",
     "output_type": "stream",
     "text": [
      "\r",
      "Warmup:  62%|██████▏   | 13/21 [00:04,  1.60it/s, step size=5.60e-02, acc. prob=0.690]"
     ]
    },
    {
     "name": "stderr",
     "output_type": "stream",
     "text": [
      "\r",
      "Warmup:  67%|██████▋   | 14/21 [00:04,  1.92it/s, step size=1.07e-01, acc. prob=0.712]"
     ]
    },
    {
     "name": "stderr",
     "output_type": "stream",
     "text": [
      "\r",
      "Warmup:  71%|███████▏  | 15/21 [00:05,  2.22it/s, step size=1.15e-01, acc. prob=0.719]"
     ]
    },
    {
     "name": "stderr",
     "output_type": "stream",
     "text": [
      "\r",
      "Warmup:  76%|███████▌  | 16/21 [00:05,  2.80it/s, step size=2.58e-02, acc. prob=0.693]"
     ]
    },
    {
     "name": "stderr",
     "output_type": "stream",
     "text": [
      "\r",
      "Warmup:  81%|████████  | 17/21 [00:05,  2.19it/s, step size=1.40e+00, acc. prob=0.709]"
     ]
    },
    {
     "name": "stderr",
     "output_type": "stream",
     "text": [
      "\r",
      "Warmup: 100%|██████████| 21/21 [00:06,  3.02it/s, step size=8.26e-01, acc. prob=0.000]"
     ]
    },
    {
     "name": "stderr",
     "output_type": "stream",
     "text": [
      "\r",
      "Sample: 100%|██████████| 21/21 [00:06,  3.42it/s, step size=8.26e-01, acc. prob=0.000]"
     ]
    },
    {
     "name": "stderr",
     "output_type": "stream",
     "text": [
      "\n",
      "\r",
      "Warmup:   0%|          | 0/21 [00:00, ?it/s]"
     ]
    },
    {
     "name": "stderr",
     "output_type": "stream",
     "text": [
      "\r",
      "Warmup:   5%|▍         | 1/21 [00:00,  8.16it/s, step size=7.19e+00, acc. prob=1.000]"
     ]
    },
    {
     "name": "stdout",
     "output_type": "stream",
     "text": [
      "[iter 30]  loss: 186847.2148\n"
     ]
    },
    {
     "name": "stderr",
     "output_type": "stream",
     "text": [
      "\r",
      "Warmup:  19%|█▉        | 4/21 [00:00,  9.85it/s, step size=1.62e-01, acc. prob=0.500]"
     ]
    },
    {
     "name": "stderr",
     "output_type": "stream",
     "text": [
      "\r",
      "Warmup:  24%|██▍       | 5/21 [00:00,  8.79it/s, step size=2.22e-02, acc. prob=0.437]"
     ]
    },
    {
     "name": "stderr",
     "output_type": "stream",
     "text": [
      "\r",
      "Warmup:  29%|██▊       | 6/21 [00:01,  2.26it/s, step size=3.50e-02, acc. prob=0.530]"
     ]
    },
    {
     "name": "stderr",
     "output_type": "stream",
     "text": [
      "\r",
      "Warmup:  33%|███▎      | 7/21 [00:02,  2.10it/s, step size=6.01e-02, acc. prob=0.597]"
     ]
    },
    {
     "name": "stderr",
     "output_type": "stream",
     "text": [
      "\r",
      "Warmup:  38%|███▊      | 8/21 [00:02,  2.40it/s, step size=4.63e-02, acc. prob=0.614]"
     ]
    },
    {
     "name": "stderr",
     "output_type": "stream",
     "text": [
      "\r",
      "Warmup:  43%|████▎     | 9/21 [00:03,  2.18it/s, step size=4.13e-02, acc. prob=0.631]"
     ]
    },
    {
     "name": "stderr",
     "output_type": "stream",
     "text": [
      "\r",
      "Warmup:  48%|████▊     | 10/21 [00:03,  2.05it/s, step size=7.50e-02, acc. prob=0.667]"
     ]
    },
    {
     "name": "stderr",
     "output_type": "stream",
     "text": [
      "\r",
      "Warmup:  52%|█████▏    | 11/21 [00:03,  2.35it/s, step size=2.91e-02, acc. prob=0.652]"
     ]
    },
    {
     "name": "stderr",
     "output_type": "stream",
     "text": [
      "\r",
      "Warmup:  57%|█████▋    | 12/21 [00:04,  2.14it/s, step size=5.03e-02, acc. prob=0.678]"
     ]
    },
    {
     "name": "stderr",
     "output_type": "stream",
     "text": [
      "\r",
      "Warmup:  62%|██████▏   | 13/21 [00:04,  2.02it/s, step size=5.90e-02, acc. prob=0.691]"
     ]
    },
    {
     "name": "stderr",
     "output_type": "stream",
     "text": [
      "\r",
      "Warmup:  67%|██████▋   | 14/21 [00:05,  2.33it/s, step size=6.56e-02, acc. prob=0.701]"
     ]
    },
    {
     "name": "stderr",
     "output_type": "stream",
     "text": [
      "\r",
      "Warmup:  71%|███████▏  | 15/21 [00:05,  2.60it/s, step size=8.98e-02, acc. prob=0.714]"
     ]
    },
    {
     "name": "stderr",
     "output_type": "stream",
     "text": [
      "\r",
      "Warmup:  76%|███████▌  | 16/21 [00:05,  2.83it/s, step size=1.34e-01, acc. prob=0.726]"
     ]
    },
    {
     "name": "stderr",
     "output_type": "stream",
     "text": [
      "\r",
      "Warmup:  81%|████████  | 17/21 [00:06,  3.13it/s, step size=1.26e+00, acc. prob=0.707]"
     ]
    },
    {
     "name": "stderr",
     "output_type": "stream",
     "text": [
      "\r",
      "Warmup: 100%|██████████| 21/21 [00:06,  4.27it/s, step size=7.44e-01, acc. prob=0.286]"
     ]
    },
    {
     "name": "stderr",
     "output_type": "stream",
     "text": [
      "\r",
      "Sample: 100%|██████████| 21/21 [00:06,  3.39it/s, step size=7.44e-01, acc. prob=0.286]"
     ]
    },
    {
     "name": "stderr",
     "output_type": "stream",
     "text": [
      "\n",
      "\r",
      "Warmup:   0%|          | 0/21 [00:00, ?it/s]"
     ]
    },
    {
     "name": "stderr",
     "output_type": "stream",
     "text": [
      "\r",
      "Warmup:   5%|▍         | 1/21 [00:00,  8.44it/s, step size=7.19e+00, acc. prob=1.000]"
     ]
    },
    {
     "name": "stderr",
     "output_type": "stream",
     "text": [
      "\r",
      "Warmup:  19%|█▉        | 4/21 [00:00, 10.17it/s, step size=1.62e-01, acc. prob=0.500]"
     ]
    },
    {
     "name": "stderr",
     "output_type": "stream",
     "text": [
      "\r",
      "Warmup:  24%|██▍       | 5/21 [00:00,  9.17it/s, step size=5.95e-02, acc. prob=0.503]"
     ]
    },
    {
     "name": "stderr",
     "output_type": "stream",
     "text": [
      "\r",
      "Warmup:  29%|██▊       | 6/21 [00:00,  6.25it/s, step size=9.72e-02, acc. prob=0.585]"
     ]
    },
    {
     "name": "stderr",
     "output_type": "stream",
     "text": [
      "\r",
      "Warmup:  33%|███▎      | 7/21 [00:00,  5.16it/s, step size=2.09e-02, acc. prob=0.549]"
     ]
    },
    {
     "name": "stderr",
     "output_type": "stream",
     "text": [
      "\r",
      "Warmup:  38%|███▊      | 8/21 [00:02,  2.12it/s, step size=3.71e-02, acc. prob=0.605]"
     ]
    },
    {
     "name": "stderr",
     "output_type": "stream",
     "text": [
      "\r",
      "Warmup:  43%|████▎     | 9/21 [00:02,  2.01it/s, step size=5.63e-02, acc. prob=0.642]"
     ]
    },
    {
     "name": "stderr",
     "output_type": "stream",
     "text": [
      "\r",
      "Warmup:  48%|████▊     | 10/21 [00:02,  2.32it/s, step size=1.00e-01, acc. prob=0.676]"
     ]
    },
    {
     "name": "stderr",
     "output_type": "stream",
     "text": [
      "\r",
      "Warmup:  52%|█████▏    | 11/21 [00:03,  2.61it/s, step size=3.81e-02, acc. prob=0.660]"
     ]
    },
    {
     "name": "stderr",
     "output_type": "stream",
     "text": [
      "\r",
      "Warmup:  57%|█████▋    | 12/21 [00:03,  2.29it/s, step size=5.76e-02, acc. prob=0.682]"
     ]
    },
    {
     "name": "stderr",
     "output_type": "stream",
     "text": [
      "\r",
      "Warmup:  62%|██████▏   | 13/21 [00:04,  2.58it/s, step size=5.32e-02, acc. prob=0.689]"
     ]
    },
    {
     "name": "stderr",
     "output_type": "stream",
     "text": [
      "\r",
      "Warmup:  67%|██████▋   | 14/21 [00:04,  2.83it/s, step size=8.78e-02, acc. prob=0.707]"
     ]
    },
    {
     "name": "stderr",
     "output_type": "stream",
     "text": [
      "\r",
      "Warmup:  71%|███████▏  | 15/21 [00:04,  3.01it/s, step size=3.49e-02, acc. prob=0.693]"
     ]
    },
    {
     "name": "stderr",
     "output_type": "stream",
     "text": [
      "\r",
      "Warmup:  76%|███████▌  | 16/21 [00:05,  2.50it/s, step size=6.68e-02, acc. prob=0.712]"
     ]
    },
    {
     "name": "stderr",
     "output_type": "stream",
     "text": [
      "\r",
      "Warmup:  81%|████████  | 17/21 [00:05,  2.57it/s, step size=1.15e+00, acc. prob=0.718]"
     ]
    },
    {
     "name": "stderr",
     "output_type": "stream",
     "text": [
      "\r",
      "Warmup: 100%|██████████| 21/21 [00:05,  3.52it/s, step size=6.77e-01, acc. prob=0.714]"
     ]
    },
    {
     "name": "stderr",
     "output_type": "stream",
     "text": [
      "\r",
      "Sample: 100%|██████████| 21/21 [00:05,  3.72it/s, step size=6.77e-01, acc. prob=0.714]"
     ]
    },
    {
     "name": "stderr",
     "output_type": "stream",
     "text": [
      "\n",
      "\r",
      "Warmup:   0%|          | 0/21 [00:00, ?it/s]"
     ]
    },
    {
     "name": "stderr",
     "output_type": "stream",
     "text": [
      "\r",
      "Warmup:   5%|▍         | 1/21 [00:00,  8.07it/s, step size=7.19e+00, acc. prob=1.000]"
     ]
    },
    {
     "name": "stderr",
     "output_type": "stream",
     "text": [
      "\r",
      "Warmup:  19%|█▉        | 4/21 [00:00,  9.78it/s, step size=1.62e-01, acc. prob=0.500]"
     ]
    },
    {
     "name": "stderr",
     "output_type": "stream",
     "text": [
      "\r",
      "Warmup:  24%|██▍       | 5/21 [00:00,  8.84it/s, step size=1.94e-01, acc. prob=0.582]"
     ]
    },
    {
     "name": "stderr",
     "output_type": "stream",
     "text": [
      "\r",
      "Warmup:  29%|██▊       | 6/21 [00:00,  8.31it/s, step size=2.73e-02, acc. prob=0.516]"
     ]
    },
    {
     "name": "stderr",
     "output_type": "stream",
     "text": [
      "\r",
      "Warmup:  33%|███▎      | 7/21 [00:01,  3.98it/s, step size=4.55e-02, acc. prob=0.584]"
     ]
    },
    {
     "name": "stderr",
     "output_type": "stream",
     "text": [
      "\r",
      "Warmup:  38%|███▊      | 8/21 [00:01,  2.91it/s, step size=8.11e-02, acc. prob=0.636]"
     ]
    },
    {
     "name": "stderr",
     "output_type": "stream",
     "text": [
      "\r",
      "Warmup:  43%|████▎     | 9/21 [00:01,  3.08it/s, step size=1.48e-01, acc. prob=0.676]"
     ]
    },
    {
     "name": "stderr",
     "output_type": "stream",
     "text": [
      "\r",
      "Warmup:  48%|████▊     | 10/21 [00:02,  3.74it/s, step size=2.12e-02, acc. prob=0.627]"
     ]
    },
    {
     "name": "stderr",
     "output_type": "stream",
     "text": [
      "\r",
      "Warmup:  52%|█████▏    | 11/21 [00:03,  1.91it/s, step size=3.43e-02, acc. prob=0.657]"
     ]
    },
    {
     "name": "stderr",
     "output_type": "stream",
     "text": [
      "\r",
      "Warmup:  57%|█████▋    | 12/21 [00:03,  1.88it/s, step size=6.51e-02, acc. prob=0.685]"
     ]
    },
    {
     "name": "stderr",
     "output_type": "stream",
     "text": [
      "\r",
      "Warmup:  62%|██████▏   | 13/21 [00:04,  2.19it/s, step size=3.62e-02, acc. prob=0.679]"
     ]
    },
    {
     "name": "stderr",
     "output_type": "stream",
     "text": [
      "\r",
      "Warmup:  67%|██████▋   | 14/21 [00:04,  2.06it/s, step size=4.11e-02, acc. prob=0.690]"
     ]
    },
    {
     "name": "stderr",
     "output_type": "stream",
     "text": [
      "\r",
      "Warmup:  71%|███████▏  | 15/21 [00:05,  1.97it/s, step size=6.18e-02, acc. prob=0.705]"
     ]
    },
    {
     "name": "stderr",
     "output_type": "stream",
     "text": [
      "\r",
      "Warmup:  76%|███████▌  | 16/21 [00:05,  2.28it/s, step size=4.86e-02, acc. prob=0.706]"
     ]
    },
    {
     "name": "stderr",
     "output_type": "stream",
     "text": [
      "\r",
      "Warmup:  81%|████████  | 17/21 [00:06,  1.99it/s, step size=1.57e+00, acc. prob=0.711]"
     ]
    },
    {
     "name": "stderr",
     "output_type": "stream",
     "text": [
      "\r",
      "Warmup: 100%|██████████| 21/21 [00:06,  2.76it/s, step size=9.23e-01, acc. prob=0.000]"
     ]
    },
    {
     "name": "stderr",
     "output_type": "stream",
     "text": [
      "\r",
      "Sample: 100%|██████████| 21/21 [00:06,  3.38it/s, step size=9.23e-01, acc. prob=0.000]"
     ]
    },
    {
     "name": "stderr",
     "output_type": "stream",
     "text": [
      "\n",
      "\r",
      "Warmup:   0%|          | 0/21 [00:00, ?it/s]"
     ]
    },
    {
     "name": "stderr",
     "output_type": "stream",
     "text": [
      "\r",
      "Warmup:   5%|▍         | 1/21 [00:00,  8.53it/s, step size=7.19e+00, acc. prob=1.000]"
     ]
    },
    {
     "name": "stderr",
     "output_type": "stream",
     "text": [
      "\r",
      "Warmup:  19%|█▉        | 4/21 [00:00, 10.27it/s, step size=1.62e-01, acc. prob=0.500]"
     ]
    },
    {
     "name": "stderr",
     "output_type": "stream",
     "text": [
      "\r",
      "Warmup:  24%|██▍       | 5/21 [00:00,  9.26it/s, step size=2.09e-01, acc. prob=0.587]"
     ]
    },
    {
     "name": "stderr",
     "output_type": "stream",
     "text": [
      "\r",
      "Warmup:  29%|██▊       | 6/21 [00:00,  8.68it/s, step size=3.79e-02, acc. prob=0.534]"
     ]
    },
    {
     "name": "stderr",
     "output_type": "stream",
     "text": [
      "\r",
      "Warmup:  33%|███▎      | 7/21 [00:01,  3.88it/s, step size=6.50e-02, acc. prob=0.601]"
     ]
    },
    {
     "name": "stderr",
     "output_type": "stream",
     "text": [
      "\r",
      "Warmup:  38%|███▊      | 8/21 [00:01,  3.80it/s, step size=5.57e-02, acc. prob=0.621]"
     ]
    },
    {
     "name": "stderr",
     "output_type": "stream",
     "text": [
      "\r",
      "Warmup:  43%|████▎     | 9/21 [00:01,  3.74it/s, step size=9.37e-02, acc. prob=0.660]"
     ]
    },
    {
     "name": "stderr",
     "output_type": "stream",
     "text": [
      "\r",
      "Warmup:  48%|████▊     | 10/21 [00:01,  3.72it/s, step size=1.75e-01, acc. prob=0.694]"
     ]
    },
    {
     "name": "stderr",
     "output_type": "stream",
     "text": [
      "\r",
      "Warmup:  52%|█████▏    | 11/21 [00:02,  4.36it/s, step size=2.69e-02, acc. prob=0.650]"
     ]
    },
    {
     "name": "stderr",
     "output_type": "stream",
     "text": [
      "\r",
      "Warmup:  57%|█████▋    | 12/21 [00:02,  3.06it/s, step size=4.23e-02, acc. prob=0.674]"
     ]
    },
    {
     "name": "stderr",
     "output_type": "stream",
     "text": [
      "\r",
      "Warmup:  62%|██████▏   | 13/21 [00:03,  2.52it/s, step size=6.66e-02, acc. prob=0.694]"
     ]
    },
    {
     "name": "stderr",
     "output_type": "stream",
     "text": [
      "\r",
      "Warmup:  67%|██████▋   | 14/21 [00:03,  2.78it/s, step size=2.49e-02, acc. prob=0.679]"
     ]
    },
    {
     "name": "stderr",
     "output_type": "stream",
     "text": [
      "\r",
      "Warmup:  71%|███████▏  | 15/21 [00:04,  1.70it/s, step size=4.58e-02, acc. prob=0.699]"
     ]
    },
    {
     "name": "stderr",
     "output_type": "stream",
     "text": [
      "\r",
      "Warmup:  76%|███████▌  | 16/21 [00:05,  1.72it/s, step size=4.96e-02, acc. prob=0.706]"
     ]
    },
    {
     "name": "stderr",
     "output_type": "stream",
     "text": [
      "\r",
      "Warmup:  81%|████████  | 17/21 [00:05,  1.65it/s, step size=1.71e+00, acc. prob=0.713]"
     ]
    },
    {
     "name": "stderr",
     "output_type": "stream",
     "text": [
      "\r",
      "Sample: 100%|██████████| 21/21 [00:05,  3.56it/s, step size=1.01e+00, acc. prob=0.000]"
     ]
    },
    {
     "name": "stderr",
     "output_type": "stream",
     "text": [
      "\n",
      "\r",
      "Warmup:   0%|          | 0/21 [00:00, ?it/s]"
     ]
    },
    {
     "name": "stderr",
     "output_type": "stream",
     "text": [
      "\r",
      "Warmup:   5%|▍         | 1/21 [00:00,  8.21it/s, step size=7.19e+00, acc. prob=1.000]"
     ]
    },
    {
     "name": "stderr",
     "output_type": "stream",
     "text": [
      "\r",
      "Warmup:  19%|█▉        | 4/21 [00:00,  9.93it/s, step size=1.62e-01, acc. prob=0.500]"
     ]
    },
    {
     "name": "stderr",
     "output_type": "stream",
     "text": [
      "\r",
      "Warmup:  24%|██▍       | 5/21 [00:00,  9.04it/s, step size=9.76e-02, acc. prob=0.536]"
     ]
    },
    {
     "name": "stderr",
     "output_type": "stream",
     "text": [
      "\r",
      "Warmup:  29%|██▊       | 6/21 [00:00,  6.26it/s, step size=1.33e-01, acc. prob=0.603]"
     ]
    },
    {
     "name": "stderr",
     "output_type": "stream",
     "text": [
      "\r",
      "Warmup:  33%|███▎      | 7/21 [00:00,  6.52it/s, step size=1.86e-02, acc. prob=0.543]"
     ]
    },
    {
     "name": "stderr",
     "output_type": "stream",
     "text": [
      "\r",
      "Warmup:  38%|███▊      | 8/21 [00:01,  2.26it/s, step size=3.06e-02, acc. prob=0.597]"
     ]
    },
    {
     "name": "stderr",
     "output_type": "stream",
     "text": [
      "\r",
      "Warmup:  43%|████▎     | 9/21 [00:02,  2.10it/s, step size=3.23e-02, acc. prob=0.623]"
     ]
    },
    {
     "name": "stderr",
     "output_type": "stream",
     "text": [
      "\r",
      "Warmup:  48%|████▊     | 10/21 [00:03,  1.99it/s, step size=3.03e-02, acc. prob=0.639]"
     ]
    },
    {
     "name": "stderr",
     "output_type": "stream",
     "text": [
      "\r",
      "Warmup:  52%|█████▏    | 11/21 [00:03,  1.93it/s, step size=5.39e-02, acc. prob=0.670]"
     ]
    },
    {
     "name": "stderr",
     "output_type": "stream",
     "text": [
      "\r",
      "Warmup:  57%|█████▋    | 12/21 [00:03,  2.24it/s, step size=7.86e-02, acc. prob=0.690]"
     ]
    },
    {
     "name": "stderr",
     "output_type": "stream",
     "text": [
      "\r",
      "Warmup:  62%|██████▏   | 13/21 [00:04,  2.53it/s, step size=5.51e-02, acc. prob=0.689]"
     ]
    },
    {
     "name": "stderr",
     "output_type": "stream",
     "text": [
      "\r",
      "Warmup:  67%|██████▋   | 14/21 [00:04,  2.79it/s, step size=4.90e-02, acc. prob=0.694]"
     ]
    },
    {
     "name": "stderr",
     "output_type": "stream",
     "text": [
      "\r",
      "Warmup:  71%|███████▏  | 15/21 [00:05,  2.38it/s, step size=7.43e-02, acc. prob=0.709]"
     ]
    },
    {
     "name": "stderr",
     "output_type": "stream",
     "text": [
      "\r",
      "Warmup:  76%|███████▌  | 16/21 [00:05,  2.65it/s, step size=5.21e-02, acc. prob=0.707]"
     ]
    },
    {
     "name": "stderr",
     "output_type": "stream",
     "text": [
      "\r",
      "Warmup:  81%|████████  | 17/21 [00:05,  2.69it/s, step size=1.06e+00, acc. prob=0.717]"
     ]
    },
    {
     "name": "stderr",
     "output_type": "stream",
     "text": [
      "\r",
      "Warmup: 100%|██████████| 21/21 [00:05,  3.68it/s, step size=6.26e-01, acc. prob=0.145]"
     ]
    },
    {
     "name": "stderr",
     "output_type": "stream",
     "text": [
      "\r",
      "Sample: 100%|██████████| 21/21 [00:05,  3.63it/s, step size=6.26e-01, acc. prob=0.145]"
     ]
    },
    {
     "name": "stderr",
     "output_type": "stream",
     "text": [
      "\n",
      "\r",
      "Warmup:   0%|          | 0/21 [00:00, ?it/s]"
     ]
    },
    {
     "name": "stderr",
     "output_type": "stream",
     "text": [
      "\r",
      "Warmup:   5%|▍         | 1/21 [00:00,  8.34it/s, step size=7.19e+00, acc. prob=1.000]"
     ]
    },
    {
     "name": "stdout",
     "output_type": "stream",
     "text": [
      "[iter 35]  loss: 186926.2734\n"
     ]
    },
    {
     "name": "stderr",
     "output_type": "stream",
     "text": [
      "\r",
      "Warmup:  19%|█▉        | 4/21 [00:00, 10.05it/s, step size=1.62e-01, acc. prob=0.500]"
     ]
    },
    {
     "name": "stderr",
     "output_type": "stream",
     "text": [
      "\r",
      "Warmup:  24%|██▍       | 5/21 [00:00,  9.12it/s, step size=3.32e-02, acc. prob=0.464]"
     ]
    },
    {
     "name": "stderr",
     "output_type": "stream",
     "text": [
      "\r",
      "Warmup:  29%|██▊       | 6/21 [00:00,  4.08it/s, step size=4.84e-02, acc. prob=0.548]"
     ]
    },
    {
     "name": "stderr",
     "output_type": "stream",
     "text": [
      "\r",
      "Warmup:  33%|███▎      | 7/21 [00:01,  2.95it/s, step size=4.90e-02, acc. prob=0.588]"
     ]
    },
    {
     "name": "stderr",
     "output_type": "stream",
     "text": [
      "\r",
      "Warmup:  38%|███▊      | 8/21 [00:02,  2.47it/s, step size=7.20e-02, acc. prob=0.631]"
     ]
    },
    {
     "name": "stderr",
     "output_type": "stream",
     "text": [
      "\r",
      "Warmup:  43%|████▎     | 9/21 [00:02,  2.74it/s, step size=5.31e-02, acc. prob=0.640]"
     ]
    },
    {
     "name": "stderr",
     "output_type": "stream",
     "text": [
      "\r",
      "Warmup:  48%|████▊     | 10/21 [00:02,  2.95it/s, step size=7.93e-02, acc. prob=0.669]"
     ]
    },
    {
     "name": "stderr",
     "output_type": "stream",
     "text": [
      "\r",
      "Warmup:  52%|█████▏    | 11/21 [00:02,  3.13it/s, step size=4.29e-02, acc. prob=0.663]"
     ]
    },
    {
     "name": "stderr",
     "output_type": "stream",
     "text": [
      "\r",
      "Warmup:  57%|█████▋    | 12/21 [00:03,  2.55it/s, step size=4.16e-02, acc. prob=0.673]"
     ]
    },
    {
     "name": "stderr",
     "output_type": "stream",
     "text": [
      "\r",
      "Warmup:  62%|██████▏   | 13/21 [00:04,  2.26it/s, step size=4.88e-02, acc. prob=0.686]"
     ]
    },
    {
     "name": "stderr",
     "output_type": "stream",
     "text": [
      "\r",
      "Warmup:  67%|██████▋   | 14/21 [00:04,  2.11it/s, step size=5.44e-02, acc. prob=0.696]"
     ]
    },
    {
     "name": "stderr",
     "output_type": "stream",
     "text": [
      "\r",
      "Warmup:  71%|███████▏  | 15/21 [00:04,  2.42it/s, step size=3.56e-02, acc. prob=0.694]"
     ]
    },
    {
     "name": "stderr",
     "output_type": "stream",
     "text": [
      "\r",
      "Warmup:  76%|███████▌  | 16/21 [00:05,  2.19it/s, step size=5.44e-02, acc. prob=0.708]"
     ]
    },
    {
     "name": "stderr",
     "output_type": "stream",
     "text": [
      "\r",
      "Warmup:  81%|████████  | 17/21 [00:05,  2.31it/s, step size=1.17e+00, acc. prob=0.705]"
     ]
    },
    {
     "name": "stderr",
     "output_type": "stream",
     "text": [
      "\r",
      "Warmup: 100%|██████████| 21/21 [00:05,  3.18it/s, step size=6.90e-01, acc. prob=0.288]"
     ]
    },
    {
     "name": "stderr",
     "output_type": "stream",
     "text": [
      "\r",
      "Sample: 100%|██████████| 21/21 [00:05,  3.54it/s, step size=6.90e-01, acc. prob=0.288]"
     ]
    },
    {
     "name": "stderr",
     "output_type": "stream",
     "text": [
      "\n",
      "\r",
      "Warmup:   0%|          | 0/21 [00:00, ?it/s]"
     ]
    },
    {
     "name": "stderr",
     "output_type": "stream",
     "text": [
      "\r",
      "Warmup:   5%|▍         | 1/21 [00:00,  8.05it/s, step size=7.19e+00, acc. prob=1.000]"
     ]
    },
    {
     "name": "stderr",
     "output_type": "stream",
     "text": [
      "\r",
      "Warmup:  19%|█▉        | 4/21 [00:00,  9.77it/s, step size=1.62e-01, acc. prob=0.500]"
     ]
    },
    {
     "name": "stderr",
     "output_type": "stream",
     "text": [
      "\r",
      "Warmup:  24%|██▍       | 5/21 [00:00,  8.85it/s, step size=1.70e-01, acc. prob=0.573]"
     ]
    },
    {
     "name": "stderr",
     "output_type": "stream",
     "text": [
      "\r",
      "Warmup:  29%|██▊       | 6/21 [00:00,  8.38it/s, step size=8.38e-02, acc. prob=0.577]"
     ]
    },
    {
     "name": "stderr",
     "output_type": "stream",
     "text": [
      "\r",
      "Warmup:  33%|███▎      | 7/21 [00:00,  6.04it/s, step size=1.46e-01, acc. prob=0.638]"
     ]
    },
    {
     "name": "stderr",
     "output_type": "stream",
     "text": [
      "\r",
      "Warmup:  38%|███▊      | 8/21 [00:00,  6.39it/s, step size=4.55e-02, acc. prob=0.613]"
     ]
    },
    {
     "name": "stderr",
     "output_type": "stream",
     "text": [
      "\r",
      "Warmup:  43%|████▎     | 9/21 [00:01,  3.61it/s, step size=8.28e-02, acc. prob=0.656]"
     ]
    },
    {
     "name": "stderr",
     "output_type": "stream",
     "text": [
      "\r",
      "Warmup:  48%|████▊     | 10/21 [00:01,  3.62it/s, step size=3.99e-02, acc. prob=0.647]"
     ]
    },
    {
     "name": "stderr",
     "output_type": "stream",
     "text": [
      "\r",
      "Warmup:  52%|█████▏    | 11/21 [00:02,  2.77it/s, step size=7.55e-02, acc. prob=0.679]"
     ]
    },
    {
     "name": "stderr",
     "output_type": "stream",
     "text": [
      "\r",
      "Warmup:  57%|█████▋    | 12/21 [00:02,  2.99it/s, step size=3.54e-02, acc. prob=0.669]"
     ]
    },
    {
     "name": "stderr",
     "output_type": "stream",
     "text": [
      "\r",
      "Warmup:  62%|██████▏   | 13/21 [00:03,  2.49it/s, step size=5.11e-02, acc. prob=0.688]"
     ]
    },
    {
     "name": "stderr",
     "output_type": "stream",
     "text": [
      "\r",
      "Warmup:  67%|██████▋   | 14/21 [00:12,  2.98s/it, step size=8.50e-02, acc. prob=0.707]"
     ]
    },
    {
     "name": "stderr",
     "output_type": "stream",
     "text": [
      "\r",
      "Warmup:  71%|███████▏  | 15/21 [00:12,  2.17s/it, step size=1.84e-02, acc. prob=0.679]"
     ]
    },
    {
     "name": "stderr",
     "output_type": "stream",
     "text": [
      "\r",
      "Warmup:  76%|███████▌  | 16/21 [00:13,  1.86s/it, step size=3.03e-02, acc. prob=0.696]"
     ]
    },
    {
     "name": "stderr",
     "output_type": "stream",
     "text": [
      "\r",
      "Warmup:  81%|████████  | 17/21 [00:14,  1.49s/it, step size=8.17e-01, acc. prob=0.712]"
     ]
    },
    {
     "name": "stderr",
     "output_type": "stream",
     "text": [
      "\r",
      "Warmup:  95%|█████████▌| 20/21 [00:14,  1.07s/it, step size=4.81e-01, acc. prob=0.642]"
     ]
    },
    {
     "name": "stderr",
     "output_type": "stream",
     "text": [
      "\r",
      "Warmup: 100%|██████████| 21/21 [00:14,  1.27it/s, step size=4.81e-01, acc. prob=0.134]"
     ]
    },
    {
     "name": "stderr",
     "output_type": "stream",
     "text": [
      "\r",
      "Sample: 100%|██████████| 21/21 [00:14,  1.44it/s, step size=4.81e-01, acc. prob=0.134]"
     ]
    },
    {
     "name": "stderr",
     "output_type": "stream",
     "text": [
      "\n",
      "\r",
      "Warmup:   0%|          | 0/21 [00:00, ?it/s]"
     ]
    },
    {
     "name": "stderr",
     "output_type": "stream",
     "text": [
      "\r",
      "Warmup:   5%|▍         | 1/21 [00:00,  8.39it/s, step size=7.19e+00, acc. prob=1.000]"
     ]
    },
    {
     "name": "stderr",
     "output_type": "stream",
     "text": [
      "\r",
      "Warmup:  19%|█▉        | 4/21 [00:00, 10.14it/s, step size=1.62e-01, acc. prob=0.500]"
     ]
    },
    {
     "name": "stderr",
     "output_type": "stream",
     "text": [
      "\r",
      "Warmup:  24%|██▍       | 5/21 [00:00,  9.01it/s, step size=3.55e-02, acc. prob=0.468]"
     ]
    },
    {
     "name": "stderr",
     "output_type": "stream",
     "text": [
      "\r",
      "Warmup:  29%|██▊       | 6/21 [00:00,  4.01it/s, step size=5.73e-02, acc. prob=0.557]"
     ]
    },
    {
     "name": "stderr",
     "output_type": "stream",
     "text": [
      "\r",
      "Warmup:  33%|███▎      | 7/21 [00:01,  3.90it/s, step size=8.52e-02, acc. prob=0.613]"
     ]
    },
    {
     "name": "stderr",
     "output_type": "stream",
     "text": [
      "\r",
      "Warmup:  38%|███▊      | 8/21 [00:01,  3.77it/s, step size=3.26e-02, acc. prob=0.600]"
     ]
    },
    {
     "name": "stderr",
     "output_type": "stream",
     "text": [
      "\r",
      "Warmup:  43%|████▎     | 9/21 [00:02,  2.79it/s, step size=5.82e-02, acc. prob=0.643]"
     ]
    },
    {
     "name": "stderr",
     "output_type": "stream",
     "text": [
      "\r",
      "Warmup:  48%|████▊     | 10/21 [00:02,  2.94it/s, step size=7.55e-02, acc. prob=0.667]"
     ]
    },
    {
     "name": "stderr",
     "output_type": "stream",
     "text": [
      "\r",
      "Warmup:  52%|█████▏    | 11/21 [00:02,  3.10it/s, step size=1.25e-01, acc. prob=0.694]"
     ]
    },
    {
     "name": "stderr",
     "output_type": "stream",
     "text": [
      "\r",
      "Warmup:  57%|█████▋    | 12/21 [00:02,  3.77it/s, step size=4.40e-02, acc. prob=0.675]"
     ]
    },
    {
     "name": "stderr",
     "output_type": "stream",
     "text": [
      "\r",
      "Warmup:  62%|██████▏   | 13/21 [00:03,  2.85it/s, step size=8.41e-02, acc. prob=0.700]"
     ]
    },
    {
     "name": "stderr",
     "output_type": "stream",
     "text": [
      "\r",
      "Warmup:  67%|██████▋   | 14/21 [00:03,  3.04it/s, step size=5.69e-02, acc. prob=0.697]"
     ]
    },
    {
     "name": "stderr",
     "output_type": "stream",
     "text": [
      "\r",
      "Warmup:  71%|███████▏  | 15/21 [00:03,  3.19it/s, step size=1.02e-01, acc. prob=0.716]"
     ]
    },
    {
     "name": "stderr",
     "output_type": "stream",
     "text": [
      "\r",
      "Warmup:  76%|███████▌  | 16/21 [00:04,  3.31it/s, step size=1.17e-01, acc. prob=0.724]"
     ]
    },
    {
     "name": "stderr",
     "output_type": "stream",
     "text": [
      "\r",
      "Warmup:  81%|████████  | 17/21 [00:04,  3.51it/s, step size=9.98e-01, acc. prob=0.702]"
     ]
    },
    {
     "name": "stderr",
     "output_type": "stream",
     "text": [
      "\r",
      "Warmup: 100%|██████████| 21/21 [00:04,  4.74it/s, step size=5.88e-01, acc. prob=0.204]"
     ]
    },
    {
     "name": "stderr",
     "output_type": "stream",
     "text": [
      "\r",
      "Sample: 100%|██████████| 21/21 [00:04,  4.56it/s, step size=5.88e-01, acc. prob=0.204]"
     ]
    },
    {
     "name": "stderr",
     "output_type": "stream",
     "text": [
      "\n",
      "\r",
      "Warmup:   0%|          | 0/21 [00:00, ?it/s]"
     ]
    },
    {
     "name": "stderr",
     "output_type": "stream",
     "text": [
      "\r",
      "Warmup:   5%|▍         | 1/21 [00:00,  8.42it/s, step size=7.19e+00, acc. prob=1.000]"
     ]
    },
    {
     "name": "stderr",
     "output_type": "stream",
     "text": [
      "\r",
      "Warmup:  19%|█▉        | 4/21 [00:00, 10.17it/s, step size=1.62e-01, acc. prob=0.500]"
     ]
    },
    {
     "name": "stderr",
     "output_type": "stream",
     "text": [
      "\r",
      "Warmup:  24%|██▍       | 5/21 [00:00,  9.18it/s, step size=2.35e-01, acc. prob=0.595]"
     ]
    },
    {
     "name": "stderr",
     "output_type": "stream",
     "text": [
      "\r",
      "Warmup:  33%|███▎      | 7/21 [00:01,  3.93it/s, step size=3.18e-02, acc. prob=0.568]"
     ]
    },
    {
     "name": "stderr",
     "output_type": "stream",
     "text": [
      "\r",
      "Warmup:  38%|███▊      | 8/21 [00:02,  2.89it/s, step size=5.65e-02, acc. prob=0.622]"
     ]
    },
    {
     "name": "stderr",
     "output_type": "stream",
     "text": [
      "\r",
      "Warmup:  43%|████▎     | 9/21 [00:02,  3.09it/s, step size=8.67e-02, acc. prob=0.657]"
     ]
    },
    {
     "name": "stderr",
     "output_type": "stream",
     "text": [
      "\r",
      "Warmup:  48%|████▊     | 10/21 [00:02,  3.23it/s, step size=8.54e-02, acc. prob=0.671]"
     ]
    },
    {
     "name": "stderr",
     "output_type": "stream",
     "text": [
      "\r",
      "Warmup:  52%|█████▏    | 11/21 [00:02,  3.32it/s, step size=9.11e-02, acc. prob=0.685]"
     ]
    },
    {
     "name": "stderr",
     "output_type": "stream",
     "text": [
      "\r",
      "Warmup:  57%|█████▋    | 12/21 [00:03,  3.40it/s, step size=3.08e-02, acc. prob=0.665]"
     ]
    },
    {
     "name": "stderr",
     "output_type": "stream",
     "text": [
      "\r",
      "Warmup:  62%|██████▏   | 13/21 [00:03,  2.68it/s, step size=5.87e-02, acc. prob=0.691]"
     ]
    },
    {
     "name": "stderr",
     "output_type": "stream",
     "text": [
      "\r",
      "Warmup:  67%|██████▋   | 14/21 [00:04,  2.90it/s, step size=1.03e-01, acc. prob=0.711]"
     ]
    },
    {
     "name": "stderr",
     "output_type": "stream",
     "text": [
      "\r",
      "Warmup:  71%|███████▏  | 15/21 [00:08,  1.69s/it, step size=3.59e-02, acc. prob=0.694]"
     ]
    },
    {
     "name": "stderr",
     "output_type": "stream",
     "text": [
      "\r",
      "Warmup:  76%|███████▌  | 16/21 [00:09,  1.36s/it, step size=6.74e-02, acc. prob=0.713]"
     ]
    },
    {
     "name": "stderr",
     "output_type": "stream",
     "text": [
      "\r",
      "Warmup:  81%|████████  | 17/21 [00:09,  1.10s/it, step size=1.07e+00, acc. prob=0.703]"
     ]
    },
    {
     "name": "stderr",
     "output_type": "stream",
     "text": [
      "\r",
      "Warmup: 100%|██████████| 21/21 [00:10,  1.29it/s, step size=6.28e-01, acc. prob=0.571]"
     ]
    },
    {
     "name": "stderr",
     "output_type": "stream",
     "text": [
      "\r",
      "Sample: 100%|██████████| 21/21 [00:10,  2.07it/s, step size=6.28e-01, acc. prob=0.571]"
     ]
    },
    {
     "name": "stderr",
     "output_type": "stream",
     "text": [
      "\n",
      "\r",
      "Warmup:   0%|          | 0/21 [00:00, ?it/s]"
     ]
    },
    {
     "name": "stderr",
     "output_type": "stream",
     "text": [
      "\r",
      "Warmup:  14%|█▍        | 3/21 [00:00, 28.50it/s, step size=1.20e-01, acc. prob=0.333]"
     ]
    },
    {
     "name": "stderr",
     "output_type": "stream",
     "text": [
      "\r",
      "Warmup:  19%|█▉        | 4/21 [00:00, 14.96it/s, step size=1.62e-01, acc. prob=0.500]"
     ]
    },
    {
     "name": "stderr",
     "output_type": "stream",
     "text": [
      "\r",
      "Warmup:  24%|██▍       | 5/21 [00:00, 10.71it/s, step size=2.45e-01, acc. prob=0.598]"
     ]
    },
    {
     "name": "stderr",
     "output_type": "stream",
     "text": [
      "\r",
      "Warmup:  33%|███▎      | 7/21 [00:01,  3.56it/s, step size=3.59e-02, acc. prob=0.573]"
     ]
    },
    {
     "name": "stderr",
     "output_type": "stream",
     "text": [
      "\r",
      "Warmup:  38%|███▊      | 8/21 [00:02,  2.68it/s, step size=6.39e-02, acc. prob=0.627]"
     ]
    },
    {
     "name": "stderr",
     "output_type": "stream",
     "text": [
      "\r",
      "Warmup:  43%|████▎     | 9/21 [00:02,  2.88it/s, step size=6.13e-02, acc. prob=0.645]"
     ]
    },
    {
     "name": "stderr",
     "output_type": "stream",
     "text": [
      "\r",
      "Warmup:  48%|████▊     | 10/21 [00:02,  3.06it/s, step size=6.89e-02, acc. prob=0.665]"
     ]
    },
    {
     "name": "stderr",
     "output_type": "stream",
     "text": [
      "\r",
      "Warmup:  52%|█████▏    | 11/21 [00:03,  3.22it/s, step size=7.89e-02, acc. prob=0.681]"
     ]
    },
    {
     "name": "stderr",
     "output_type": "stream",
     "text": [
      "\r",
      "Warmup:  57%|█████▋    | 12/21 [00:03,  3.17it/s, step size=6.79e-02, acc. prob=0.686]"
     ]
    },
    {
     "name": "stderr",
     "output_type": "stream",
     "text": [
      "\r",
      "Warmup:  62%|██████▏   | 13/21 [00:03,  3.15it/s, step size=2.27e-02, acc. prob=0.668]"
     ]
    },
    {
     "name": "stderr",
     "output_type": "stream",
     "text": [
      "\r",
      "Warmup:  67%|██████▋   | 14/21 [00:05,  1.70it/s, step size=4.33e-02, acc. prob=0.691]"
     ]
    },
    {
     "name": "stderr",
     "output_type": "stream",
     "text": [
      "\r",
      "Warmup:  71%|███████▏  | 15/21 [00:05,  1.67it/s, step size=4.97e-02, acc. prob=0.701]"
     ]
    },
    {
     "name": "stderr",
     "output_type": "stream",
     "text": [
      "\r",
      "Warmup:  76%|███████▌  | 16/21 [00:06,  1.69it/s, step size=8.69e-02, acc. prob=0.718]"
     ]
    },
    {
     "name": "stderr",
     "output_type": "stream",
     "text": [
      "\r",
      "Warmup:  81%|████████  | 17/21 [00:06,  1.88it/s, step size=1.84e+00, acc. prob=0.714]"
     ]
    },
    {
     "name": "stderr",
     "output_type": "stream",
     "text": [
      "\r",
      "Sample: 100%|██████████| 21/21 [00:06,  3.10it/s, step size=1.08e+00, acc. prob=0.000]"
     ]
    },
    {
     "name": "stderr",
     "output_type": "stream",
     "text": [
      "\n",
      "\r",
      "Warmup:   0%|          | 0/21 [00:00, ?it/s]"
     ]
    },
    {
     "name": "stderr",
     "output_type": "stream",
     "text": [
      "\r",
      "Warmup:  14%|█▍        | 3/21 [00:00, 29.88it/s, step size=1.20e-01, acc. prob=0.333]"
     ]
    },
    {
     "name": "stdout",
     "output_type": "stream",
     "text": [
      "[iter 40]  loss: 186526.2617\n"
     ]
    },
    {
     "name": "stderr",
     "output_type": "stream",
     "text": [
      "\r",
      "Warmup:  19%|█▉        | 4/21 [00:00, 15.36it/s, step size=1.62e-01, acc. prob=0.500]"
     ]
    },
    {
     "name": "stderr",
     "output_type": "stream",
     "text": [
      "\r",
      "Warmup:  24%|██▍       | 5/21 [00:00, 11.52it/s, step size=2.00e-01, acc. prob=0.584]"
     ]
    },
    {
     "name": "stderr",
     "output_type": "stream",
     "text": [
      "\r",
      "Warmup:  29%|██▊       | 6/21 [00:00,  9.62it/s, step size=2.92e-02, acc. prob=0.520]"
     ]
    },
    {
     "name": "stderr",
     "output_type": "stream",
     "text": [
      "\r",
      "Warmup:  33%|███▎      | 7/21 [00:01,  3.94it/s, step size=4.98e-02, acc. prob=0.588]"
     ]
    },
    {
     "name": "stderr",
     "output_type": "stream",
     "text": [
      "\r",
      "Warmup:  38%|███▊      | 8/21 [00:01,  2.43it/s, step size=8.54e-02, acc. prob=0.638]"
     ]
    },
    {
     "name": "stderr",
     "output_type": "stream",
     "text": [
      "\r",
      "Warmup:  43%|████▎     | 9/21 [00:02,  2.52it/s, step size=1.45e-01, acc. prob=0.676]"
     ]
    },
    {
     "name": "stderr",
     "output_type": "stream",
     "text": [
      "\r",
      "Warmup:  48%|████▊     | 10/21 [00:02,  3.10it/s, step size=1.08e-01, acc. prob=0.679]"
     ]
    },
    {
     "name": "stderr",
     "output_type": "stream",
     "text": [
      "\r",
      "Warmup:  52%|█████▏    | 11/21 [00:02,  3.72it/s, step size=2.03e-01, acc. prob=0.708]"
     ]
    },
    {
     "name": "stderr",
     "output_type": "stream",
     "text": [
      "\r",
      "Warmup:  57%|█████▋    | 12/21 [00:02,  4.34it/s, step size=1.96e-02, acc. prob=0.653]"
     ]
    },
    {
     "name": "stderr",
     "output_type": "stream",
     "text": [
      "\r",
      "Warmup:  62%|██████▏   | 13/21 [00:03,  1.83it/s, step size=3.66e-02, acc. prob=0.679]"
     ]
    },
    {
     "name": "stderr",
     "output_type": "stream",
     "text": [
      "\r",
      "Warmup:  67%|██████▋   | 14/21 [00:04,  1.73it/s, step size=6.98e-02, acc. prob=0.702]"
     ]
    },
    {
     "name": "stderr",
     "output_type": "stream",
     "text": [
      "\r",
      "Warmup:  71%|███████▏  | 15/21 [00:04,  2.01it/s, step size=6.89e-02, acc. prob=0.708]"
     ]
    },
    {
     "name": "stderr",
     "output_type": "stream",
     "text": [
      "\r",
      "Warmup:  76%|███████▌  | 16/21 [00:05,  2.31it/s, step size=1.92e-02, acc. prob=0.687]"
     ]
    },
    {
     "name": "stderr",
     "output_type": "stream",
     "text": [
      "\r",
      "Warmup:  81%|████████  | 17/21 [00:06,  1.44it/s, step size=9.76e-01, acc. prob=0.702]"
     ]
    },
    {
     "name": "stderr",
     "output_type": "stream",
     "text": [
      "\r",
      "Warmup: 100%|██████████| 21/21 [00:06,  2.00it/s, step size=5.75e-01, acc. prob=0.446]"
     ]
    },
    {
     "name": "stderr",
     "output_type": "stream",
     "text": [
      "\r",
      "Sample: 100%|██████████| 21/21 [00:06,  3.14it/s, step size=5.75e-01, acc. prob=0.446]"
     ]
    },
    {
     "name": "stderr",
     "output_type": "stream",
     "text": [
      "\n",
      "\r",
      "Warmup:   0%|          | 0/21 [00:00, ?it/s]"
     ]
    },
    {
     "name": "stderr",
     "output_type": "stream",
     "text": [
      "\r",
      "Warmup:  14%|█▍        | 3/21 [00:00, 27.56it/s, step size=1.20e-01, acc. prob=0.333]"
     ]
    },
    {
     "name": "stderr",
     "output_type": "stream",
     "text": [
      "\r",
      "Warmup:  19%|█▉        | 4/21 [00:00, 14.10it/s, step size=1.62e-01, acc. prob=0.500]"
     ]
    },
    {
     "name": "stderr",
     "output_type": "stream",
     "text": [
      "\r",
      "Warmup:  24%|██▍       | 5/21 [00:00, 11.12it/s, step size=4.59e-02, acc. prob=0.485]"
     ]
    },
    {
     "name": "stderr",
     "output_type": "stream",
     "text": [
      "\r",
      "Warmup:  29%|██▊       | 6/21 [00:01,  4.05it/s, step size=7.42e-02, acc. prob=0.571]"
     ]
    },
    {
     "name": "stderr",
     "output_type": "stream",
     "text": [
      "\r",
      "Warmup:  33%|███▎      | 7/21 [00:01,  3.86it/s, step size=7.84e-02, acc. prob=0.609]"
     ]
    },
    {
     "name": "stderr",
     "output_type": "stream",
     "text": [
      "\r",
      "Warmup:  38%|███▊      | 8/21 [00:01,  3.75it/s, step size=1.31e-01, acc. prob=0.655]"
     ]
    },
    {
     "name": "stderr",
     "output_type": "stream",
     "text": [
      "\r",
      "Warmup:  43%|████▎     | 9/21 [00:01,  4.35it/s, step size=2.13e-02, acc. prob=0.608]"
     ]
    },
    {
     "name": "stderr",
     "output_type": "stream",
     "text": [
      "\r",
      "Warmup:  48%|████▊     | 10/21 [00:03,  1.78it/s, step size=3.83e-02, acc. prob=0.646]"
     ]
    },
    {
     "name": "stderr",
     "output_type": "stream",
     "text": [
      "\r",
      "Warmup:  52%|█████▏    | 11/21 [00:03,  1.68it/s, step size=7.24e-02, acc. prob=0.678]"
     ]
    },
    {
     "name": "stderr",
     "output_type": "stream",
     "text": [
      "\r",
      "Warmup:  57%|█████▋    | 12/21 [00:04,  1.96it/s, step size=1.37e-01, acc. prob=0.705]"
     ]
    },
    {
     "name": "stderr",
     "output_type": "stream",
     "text": [
      "\r",
      "Warmup:  62%|██████▏   | 13/21 [00:04,  2.48it/s, step size=1.39e-02, acc. prob=0.656]"
     ]
    },
    {
     "name": "stderr",
     "output_type": "stream",
     "text": [
      "\r",
      "Warmup:  67%|██████▋   | 14/21 [00:05,  1.54it/s, step size=2.31e-02, acc. prob=0.677]"
     ]
    },
    {
     "name": "stderr",
     "output_type": "stream",
     "text": [
      "\r",
      "Warmup:  71%|███████▏  | 15/21 [00:06,  1.24it/s, step size=4.32e-02, acc. prob=0.698]"
     ]
    },
    {
     "name": "stderr",
     "output_type": "stream",
     "text": [
      "\r",
      "Warmup:  76%|███████▌  | 16/21 [00:07,  1.36it/s, step size=4.19e-02, acc. prob=0.703]"
     ]
    },
    {
     "name": "stderr",
     "output_type": "stream",
     "text": [
      "\r",
      "Warmup:  81%|████████  | 17/21 [00:07,  1.41it/s, step size=1.12e+00, acc. prob=0.718]"
     ]
    },
    {
     "name": "stderr",
     "output_type": "stream",
     "text": [
      "\r",
      "Warmup: 100%|██████████| 21/21 [00:07,  1.98it/s, step size=6.57e-01, acc. prob=0.572]"
     ]
    },
    {
     "name": "stderr",
     "output_type": "stream",
     "text": [
      "\r",
      "Sample: 100%|██████████| 21/21 [00:07,  2.64it/s, step size=6.57e-01, acc. prob=0.572]"
     ]
    },
    {
     "name": "stderr",
     "output_type": "stream",
     "text": [
      "\n",
      "\r",
      "Warmup:   0%|          | 0/21 [00:00, ?it/s]"
     ]
    },
    {
     "name": "stderr",
     "output_type": "stream",
     "text": [
      "\r",
      "Warmup:  14%|█▍        | 3/21 [00:00, 28.38it/s, step size=1.20e-01, acc. prob=0.333]"
     ]
    },
    {
     "name": "stderr",
     "output_type": "stream",
     "text": [
      "\r",
      "Warmup:  19%|█▉        | 4/21 [00:00, 13.39it/s, step size=1.62e-01, acc. prob=0.500]"
     ]
    },
    {
     "name": "stderr",
     "output_type": "stream",
     "text": [
      "\r",
      "Warmup:  24%|██▍       | 5/21 [00:00, 10.16it/s, step size=2.20e-01, acc. prob=0.590]"
     ]
    },
    {
     "name": "stderr",
     "output_type": "stream",
     "text": [
      "\r",
      "Warmup:  29%|██▊       | 6/21 [00:01,  2.41it/s, step size=2.34e-02, acc. prob=0.508]"
     ]
    },
    {
     "name": "stderr",
     "output_type": "stream",
     "text": [
      "\r",
      "Warmup:  33%|███▎      | 7/21 [00:02,  1.57it/s, step size=3.90e-02, acc. prob=0.577]"
     ]
    },
    {
     "name": "stderr",
     "output_type": "stream",
     "text": [
      "\r",
      "Warmup:  38%|███▊      | 8/21 [00:03,  1.63it/s, step size=6.95e-02, acc. prob=0.630]"
     ]
    },
    {
     "name": "stderr",
     "output_type": "stream",
     "text": [
      "\r",
      "Warmup:  43%|████▎     | 9/21 [00:03,  1.96it/s, step size=1.28e-01, acc. prob=0.671]"
     ]
    },
    {
     "name": "stderr",
     "output_type": "stream",
     "text": [
      "\r",
      "Warmup:  48%|████▊     | 10/21 [00:03,  2.51it/s, step size=1.65e-02, acc. prob=0.619]"
     ]
    },
    {
     "name": "stderr",
     "output_type": "stream",
     "text": [
      "\r",
      "Warmup:  52%|█████▏    | 11/21 [00:04,  1.61it/s, step size=2.71e-02, acc. prob=0.650]"
     ]
    },
    {
     "name": "stderr",
     "output_type": "stream",
     "text": [
      "\r",
      "Warmup:  57%|█████▋    | 12/21 [00:05,  1.66it/s, step size=5.00e-02, acc. prob=0.678]"
     ]
    },
    {
     "name": "stderr",
     "output_type": "stream",
     "text": [
      "\r",
      "Warmup:  62%|██████▏   | 13/21 [00:05,  1.66it/s, step size=4.88e-02, acc. prob=0.686]"
     ]
    },
    {
     "name": "stderr",
     "output_type": "stream",
     "text": [
      "\r",
      "Warmup:  67%|██████▋   | 14/21 [00:06,  1.59it/s, step size=3.75e-02, acc. prob=0.688]"
     ]
    },
    {
     "name": "stderr",
     "output_type": "stream",
     "text": [
      "\r",
      "Warmup:  71%|███████▏  | 15/21 [00:07,  1.59it/s, step size=4.37e-02, acc. prob=0.698]"
     ]
    },
    {
     "name": "stderr",
     "output_type": "stream",
     "text": [
      "\r",
      "Warmup:  76%|███████▌  | 16/21 [00:08,  1.46it/s, step size=6.42e-02, acc. prob=0.712]"
     ]
    },
    {
     "name": "stderr",
     "output_type": "stream",
     "text": [
      "\r",
      "Warmup:  81%|████████  | 17/21 [00:08,  1.63it/s, step size=1.87e+00, acc. prob=0.728]"
     ]
    },
    {
     "name": "stderr",
     "output_type": "stream",
     "text": [
      "\r",
      "Sample: 100%|██████████| 21/21 [00:08,  2.44it/s, step size=1.10e+00, acc. prob=0.000]"
     ]
    },
    {
     "name": "stderr",
     "output_type": "stream",
     "text": [
      "\n",
      "\r",
      "Warmup:   0%|          | 0/21 [00:00, ?it/s]"
     ]
    },
    {
     "name": "stderr",
     "output_type": "stream",
     "text": [
      "\r",
      "Warmup:   5%|▍         | 1/21 [00:00,  7.92it/s, step size=7.19e+00, acc. prob=1.000]"
     ]
    },
    {
     "name": "stderr",
     "output_type": "stream",
     "text": [
      "\r",
      "Warmup:  19%|█▉        | 4/21 [00:00,  9.12it/s, step size=1.62e-01, acc. prob=0.500]"
     ]
    },
    {
     "name": "stderr",
     "output_type": "stream",
     "text": [
      "\r",
      "Warmup:  24%|██▍       | 5/21 [00:00,  8.17it/s, step size=3.59e-02, acc. prob=0.469]"
     ]
    },
    {
     "name": "stderr",
     "output_type": "stream",
     "text": [
      "\r",
      "Warmup:  29%|██▊       | 6/21 [00:01,  3.00it/s, step size=5.80e-02, acc. prob=0.557]"
     ]
    },
    {
     "name": "stderr",
     "output_type": "stream",
     "text": [
      "\r",
      "Warmup:  33%|███▎      | 7/21 [00:01,  2.87it/s, step size=9.95e-02, acc. prob=0.620]"
     ]
    },
    {
     "name": "stderr",
     "output_type": "stream",
     "text": [
      "\r",
      "Warmup:  38%|███▊      | 8/21 [00:01,  3.01it/s, step size=2.22e-02, acc. prob=0.585]"
     ]
    },
    {
     "name": "stderr",
     "output_type": "stream",
     "text": [
      "\r",
      "Warmup:  43%|████▎     | 9/21 [00:03,  1.73it/s, step size=4.07e-02, acc. prob=0.631]"
     ]
    },
    {
     "name": "stderr",
     "output_type": "stream",
     "text": [
      "\r",
      "Warmup:  48%|████▊     | 10/21 [00:03,  1.74it/s, step size=5.40e-02, acc. prob=0.657]"
     ]
    },
    {
     "name": "stderr",
     "output_type": "stream",
     "text": [
      "\r",
      "Warmup:  52%|█████▏    | 11/21 [00:03,  2.06it/s, step size=8.31e-02, acc. prob=0.682]"
     ]
    },
    {
     "name": "stderr",
     "output_type": "stream",
     "text": [
      "\r",
      "Warmup:  57%|█████▋    | 12/21 [00:04,  2.36it/s, step size=6.91e-02, acc. prob=0.687]"
     ]
    },
    {
     "name": "stderr",
     "output_type": "stream",
     "text": [
      "\r",
      "Warmup:  62%|██████▏   | 13/21 [00:04,  2.63it/s, step size=9.63e-02, acc. prob=0.703]"
     ]
    },
    {
     "name": "stderr",
     "output_type": "stream",
     "text": [
      "\r",
      "Warmup:  67%|██████▋   | 14/21 [00:04,  2.84it/s, step size=2.02e-02, acc. prob=0.674]"
     ]
    },
    {
     "name": "stderr",
     "output_type": "stream",
     "text": [
      "\r",
      "Warmup:  71%|███████▏  | 15/21 [00:05,  1.70it/s, step size=3.44e-02, acc. prob=0.693]"
     ]
    },
    {
     "name": "stderr",
     "output_type": "stream",
     "text": [
      "\r",
      "Warmup:  76%|███████▌  | 16/21 [00:06,  1.73it/s, step size=5.99e-02, acc. prob=0.710]"
     ]
    },
    {
     "name": "stderr",
     "output_type": "stream",
     "text": [
      "\r",
      "Warmup:  81%|████████  | 17/21 [00:06,  1.94it/s, step size=1.30e+00, acc. prob=0.721]"
     ]
    },
    {
     "name": "stderr",
     "output_type": "stream",
     "text": [
      "\r",
      "Warmup: 100%|██████████| 21/21 [00:07,  2.69it/s, step size=7.65e-01, acc. prob=0.173]"
     ]
    },
    {
     "name": "stderr",
     "output_type": "stream",
     "text": [
      "\r",
      "Sample: 100%|██████████| 21/21 [00:07,  2.98it/s, step size=7.65e-01, acc. prob=0.173]"
     ]
    },
    {
     "name": "stderr",
     "output_type": "stream",
     "text": [
      "\n",
      "\r",
      "Warmup:   0%|          | 0/21 [00:00, ?it/s]"
     ]
    },
    {
     "name": "stderr",
     "output_type": "stream",
     "text": [
      "\r",
      "Warmup:  14%|█▍        | 3/21 [00:00, 28.37it/s, step size=1.20e-01, acc. prob=0.333]"
     ]
    },
    {
     "name": "stderr",
     "output_type": "stream",
     "text": [
      "\r",
      "Warmup:  19%|█▉        | 4/21 [00:00, 15.25it/s, step size=1.62e-01, acc. prob=0.500]"
     ]
    },
    {
     "name": "stderr",
     "output_type": "stream",
     "text": [
      "\r",
      "Warmup:  24%|██▍       | 5/21 [00:00, 11.60it/s, step size=3.11e-02, acc. prob=0.459]"
     ]
    },
    {
     "name": "stderr",
     "output_type": "stream",
     "text": [
      "\r",
      "Warmup:  29%|██▊       | 6/21 [00:00,  4.38it/s, step size=4.99e-02, acc. prob=0.549]"
     ]
    },
    {
     "name": "stderr",
     "output_type": "stream",
     "text": [
      "\r",
      "Warmup:  33%|███▎      | 7/21 [00:01,  3.06it/s, step size=3.72e-02, acc. prob=0.575]"
     ]
    },
    {
     "name": "stderr",
     "output_type": "stream",
     "text": [
      "\r",
      "Warmup:  38%|███▊      | 8/21 [00:02,  2.52it/s, step size=3.83e-02, acc. prob=0.606]"
     ]
    },
    {
     "name": "stderr",
     "output_type": "stream",
     "text": [
      "\r",
      "Warmup:  43%|████▎     | 9/21 [00:02,  2.24it/s, step size=4.46e-02, acc. prob=0.634]"
     ]
    },
    {
     "name": "stderr",
     "output_type": "stream",
     "text": [
      "\r",
      "Warmup:  48%|████▊     | 10/21 [00:03,  2.07it/s, step size=5.17e-02, acc. prob=0.655]"
     ]
    },
    {
     "name": "stderr",
     "output_type": "stream",
     "text": [
      "\r",
      "Warmup:  52%|█████▏    | 11/21 [00:03,  2.37it/s, step size=9.78e-02, acc. prob=0.687]"
     ]
    },
    {
     "name": "stderr",
     "output_type": "stream",
     "text": [
      "\r",
      "Warmup:  57%|█████▋    | 12/21 [00:03,  2.64it/s, step size=5.93e-02, acc. prob=0.683]"
     ]
    },
    {
     "name": "stderr",
     "output_type": "stream",
     "text": [
      "\r",
      "Warmup:  62%|██████▏   | 13/21 [00:04,  2.87it/s, step size=8.51e-02, acc. prob=0.700]"
     ]
    },
    {
     "name": "stderr",
     "output_type": "stream",
     "text": [
      "\r",
      "Warmup:  67%|██████▋   | 14/21 [00:04,  3.07it/s, step size=2.52e-02, acc. prob=0.679]"
     ]
    },
    {
     "name": "stderr",
     "output_type": "stream",
     "text": [
      "\r",
      "Warmup:  71%|███████▏  | 15/21 [00:13,  3.08s/it, step size=4.15e-02, acc. prob=0.697]"
     ]
    },
    {
     "name": "stderr",
     "output_type": "stream",
     "text": [
      "\r",
      "Warmup:  76%|███████▌  | 16/21 [00:14,  2.33s/it, step size=6.21e-02, acc. prob=0.711]"
     ]
    },
    {
     "name": "stderr",
     "output_type": "stream",
     "text": [
      "\r",
      "Warmup:  81%|████████  | 17/21 [00:14,  1.74s/it, step size=8.08e-01, acc. prob=0.712]"
     ]
    },
    {
     "name": "stderr",
     "output_type": "stream",
     "text": [
      "\r",
      "Warmup:  95%|█████████▌| 20/21 [00:14,  1.24s/it, step size=4.76e-01, acc. prob=0.643]"
     ]
    },
    {
     "name": "stderr",
     "output_type": "stream",
     "text": [
      "\r",
      "Warmup: 100%|██████████| 21/21 [00:15,  1.09it/s, step size=4.76e-01, acc. prob=0.290]"
     ]
    },
    {
     "name": "stderr",
     "output_type": "stream",
     "text": [
      "\r",
      "Sample: 100%|██████████| 21/21 [00:15,  1.39it/s, step size=4.76e-01, acc. prob=0.290]"
     ]
    },
    {
     "name": "stderr",
     "output_type": "stream",
     "text": [
      "\n",
      "\r",
      "Warmup:   0%|          | 0/21 [00:00, ?it/s]"
     ]
    },
    {
     "name": "stderr",
     "output_type": "stream",
     "text": [
      "\r",
      "Warmup:  10%|▉         | 2/21 [00:00, 19.75it/s, step size=1.22e+00, acc. prob=0.500]"
     ]
    },
    {
     "name": "stdout",
     "output_type": "stream",
     "text": [
      "[iter 45]  loss: 186567.5039\n"
     ]
    },
    {
     "name": "stderr",
     "output_type": "stream",
     "text": [
      "\r",
      "Warmup:  19%|█▉        | 4/21 [00:00, 16.93it/s, step size=1.62e-01, acc. prob=0.500]"
     ]
    },
    {
     "name": "stderr",
     "output_type": "stream",
     "text": [
      "\r",
      "Warmup:  24%|██▍       | 5/21 [00:00, 11.45it/s, step size=2.11e-02, acc. prob=0.433]"
     ]
    },
    {
     "name": "stderr",
     "output_type": "stream",
     "text": [
      "\r",
      "Warmup:  29%|██▊       | 6/21 [00:01,  2.21it/s, step size=3.35e-02, acc. prob=0.527]"
     ]
    },
    {
     "name": "stderr",
     "output_type": "stream",
     "text": [
      "\r",
      "Warmup:  33%|███▎      | 7/21 [00:02,  1.74it/s, step size=5.73e-02, acc. prob=0.595]"
     ]
    },
    {
     "name": "stderr",
     "output_type": "stream",
     "text": [
      "\r",
      "Warmup:  38%|███▊      | 8/21 [00:02,  1.99it/s, step size=9.87e-02, acc. prob=0.644]"
     ]
    },
    {
     "name": "stderr",
     "output_type": "stream",
     "text": [
      "\r",
      "Warmup:  43%|████▎     | 9/21 [00:03,  2.20it/s, step size=8.72e-02, acc. prob=0.658]"
     ]
    },
    {
     "name": "stderr",
     "output_type": "stream",
     "text": [
      "\r",
      "Warmup:  48%|████▊     | 10/21 [00:03,  2.36it/s, step size=5.48e-02, acc. prob=0.657]"
     ]
    },
    {
     "name": "stderr",
     "output_type": "stream",
     "text": [
      "\r",
      "Warmup:  52%|█████▏    | 11/21 [00:03,  2.50it/s, step size=1.00e-01, acc. prob=0.687]"
     ]
    },
    {
     "name": "stderr",
     "output_type": "stream",
     "text": [
      "\r",
      "Warmup:  57%|█████▋    | 12/21 [00:04,  2.60it/s, step size=2.76e-02, acc. prob=0.662]"
     ]
    },
    {
     "name": "stderr",
     "output_type": "stream",
     "text": [
      "\r",
      "Warmup:  62%|██████▏   | 13/21 [00:05,  1.93it/s, step size=4.53e-02, acc. prob=0.685]"
     ]
    },
    {
     "name": "stderr",
     "output_type": "stream",
     "text": [
      "\r",
      "Warmup:  67%|██████▋   | 14/21 [00:05,  1.70it/s, step size=7.05e-02, acc. prob=0.702]"
     ]
    },
    {
     "name": "stderr",
     "output_type": "stream",
     "text": [
      "\r",
      "Warmup:  71%|███████▏  | 15/21 [00:06,  1.96it/s, step size=3.81e-02, acc. prob=0.695]"
     ]
    },
    {
     "name": "stderr",
     "output_type": "stream",
     "text": [
      "\r",
      "Warmup:  76%|███████▌  | 16/21 [00:06,  1.76it/s, step size=3.44e-02, acc. prob=0.699]"
     ]
    },
    {
     "name": "stderr",
     "output_type": "stream",
     "text": [
      "\r",
      "Warmup:  81%|████████  | 17/21 [00:07,  1.54it/s, step size=9.43e-01, acc. prob=0.714]"
     ]
    },
    {
     "name": "stderr",
     "output_type": "stream",
     "text": [
      "\r",
      "Warmup:  95%|█████████▌| 20/21 [00:07,  2.11it/s, step size=5.56e-01, acc. prob=0.641]"
     ]
    },
    {
     "name": "stderr",
     "output_type": "stream",
     "text": [
      "\r",
      "Sample: 100%|██████████| 21/21 [00:08,  2.62it/s, step size=5.56e-01, acc. prob=0.000]"
     ]
    },
    {
     "name": "stderr",
     "output_type": "stream",
     "text": [
      "\n",
      "\r",
      "Warmup:   0%|          | 0/21 [00:00, ?it/s]"
     ]
    },
    {
     "name": "stderr",
     "output_type": "stream",
     "text": [
      "\r",
      "Warmup:   5%|▍         | 1/21 [00:00,  9.90it/s, step size=7.19e+00, acc. prob=1.000]"
     ]
    },
    {
     "name": "stderr",
     "output_type": "stream",
     "text": [
      "\r",
      "Warmup:  19%|█▉        | 4/21 [00:00, 11.13it/s, step size=1.62e-01, acc. prob=0.500]"
     ]
    },
    {
     "name": "stderr",
     "output_type": "stream",
     "text": [
      "\r",
      "Warmup:  24%|██▍       | 5/21 [00:00,  8.52it/s, step size=2.53e-01, acc. prob=0.600]"
     ]
    },
    {
     "name": "stderr",
     "output_type": "stream",
     "text": [
      "\r",
      "Warmup:  33%|███▎      | 7/21 [00:01,  4.93it/s, step size=4.41e-02, acc. prob=0.583]"
     ]
    },
    {
     "name": "stderr",
     "output_type": "stream",
     "text": [
      "\r",
      "Warmup:  38%|███▊      | 8/21 [00:02,  2.59it/s, step size=6.81e-02, acc. prob=0.629]"
     ]
    },
    {
     "name": "stderr",
     "output_type": "stream",
     "text": [
      "\r",
      "Warmup:  43%|████▎     | 9/21 [00:02,  2.67it/s, step size=7.39e-02, acc. prob=0.652]"
     ]
    },
    {
     "name": "stderr",
     "output_type": "stream",
     "text": [
      "\r",
      "Warmup:  48%|████▊     | 10/21 [00:02,  2.75it/s, step size=6.89e-02, acc. prob=0.665]"
     ]
    },
    {
     "name": "stderr",
     "output_type": "stream",
     "text": [
      "\r",
      "Warmup:  52%|█████▏    | 11/21 [00:03,  2.79it/s, step size=3.76e-02, acc. prob=0.659]"
     ]
    },
    {
     "name": "stderr",
     "output_type": "stream",
     "text": [
      "\r",
      "Warmup:  57%|█████▋    | 12/21 [00:03,  2.16it/s, step size=6.71e-02, acc. prob=0.686]"
     ]
    },
    {
     "name": "stderr",
     "output_type": "stream",
     "text": [
      "\r",
      "Warmup:  62%|██████▏   | 13/21 [00:04,  2.41it/s, step size=1.18e-01, acc. prob=0.708]"
     ]
    },
    {
     "name": "stderr",
     "output_type": "stream",
     "text": [
      "\r",
      "Warmup:  67%|██████▋   | 14/21 [00:04,  3.01it/s, step size=3.31e-02, acc. prob=0.685]"
     ]
    },
    {
     "name": "stderr",
     "output_type": "stream",
     "text": [
      "\r",
      "Warmup:  71%|███████▏  | 15/21 [00:04,  2.36it/s, step size=4.89e-02, acc. prob=0.700]"
     ]
    },
    {
     "name": "stderr",
     "output_type": "stream",
     "text": [
      "\r",
      "Warmup:  76%|███████▌  | 16/21 [00:05,  2.01it/s, step size=8.63e-02, acc. prob=0.718]"
     ]
    },
    {
     "name": "stderr",
     "output_type": "stream",
     "text": [
      "\r",
      "Warmup:  81%|████████  | 17/21 [00:06,  2.06it/s, step size=1.21e+00, acc. prob=0.693]"
     ]
    },
    {
     "name": "stderr",
     "output_type": "stream",
     "text": [
      "\r",
      "Warmup:  95%|█████████▌| 20/21 [00:06,  2.83it/s, step size=7.14e-01, acc. prob=0.624]"
     ]
    },
    {
     "name": "stderr",
     "output_type": "stream",
     "text": [
      "\r",
      "Sample: 100%|██████████| 21/21 [00:06,  3.35it/s, step size=7.14e-01, acc. prob=0.143]"
     ]
    },
    {
     "name": "stderr",
     "output_type": "stream",
     "text": [
      "\n",
      "\r",
      "Warmup:   0%|          | 0/21 [00:00, ?it/s]"
     ]
    },
    {
     "name": "stderr",
     "output_type": "stream",
     "text": [
      "\r",
      "Warmup:   5%|▍         | 1/21 [00:00,  8.82it/s, step size=7.19e+00, acc. prob=1.000]"
     ]
    },
    {
     "name": "stderr",
     "output_type": "stream",
     "text": [
      "\r",
      "Warmup:  19%|█▉        | 4/21 [00:00,  9.99it/s, step size=1.62e-01, acc. prob=0.500]"
     ]
    },
    {
     "name": "stderr",
     "output_type": "stream",
     "text": [
      "\r",
      "Warmup:  24%|██▍       | 5/21 [00:00,  7.64it/s, step size=2.54e-01, acc. prob=0.600]"
     ]
    },
    {
     "name": "stderr",
     "output_type": "stream",
     "text": [
      "\r",
      "Warmup:  29%|██▊       | 6/21 [00:00,  8.19it/s, step size=2.45e-02, acc. prob=0.510]"
     ]
    },
    {
     "name": "stderr",
     "output_type": "stream",
     "text": [
      "\r",
      "Warmup:  33%|███▎      | 7/21 [00:02,  1.57it/s, step size=4.17e-02, acc. prob=0.580]"
     ]
    },
    {
     "name": "stderr",
     "output_type": "stream",
     "text": [
      "\r",
      "Warmup:  38%|███▊      | 8/21 [00:03,  1.51it/s, step size=7.24e-02, acc. prob=0.632]"
     ]
    },
    {
     "name": "stderr",
     "output_type": "stream",
     "text": [
      "\r",
      "Warmup:  43%|████▎     | 9/21 [00:03,  1.74it/s, step size=2.42e-02, acc. prob=0.612]"
     ]
    },
    {
     "name": "stderr",
     "output_type": "stream",
     "text": [
      "\r",
      "Warmup:  48%|████▊     | 10/21 [00:05,  1.16it/s, step size=4.47e-02, acc. prob=0.651]"
     ]
    },
    {
     "name": "stderr",
     "output_type": "stream",
     "text": [
      "\r",
      "Warmup:  52%|█████▏    | 11/21 [00:05,  1.23it/s, step size=8.24e-02, acc. prob=0.682]"
     ]
    },
    {
     "name": "stderr",
     "output_type": "stream",
     "text": [
      "\r",
      "Warmup:  57%|█████▋    | 12/21 [00:06,  1.45it/s, step size=1.09e-01, acc. prob=0.699]"
     ]
    },
    {
     "name": "stderr",
     "output_type": "stream",
     "text": [
      "\r",
      "Warmup:  62%|██████▏   | 13/21 [00:06,  1.81it/s, step size=2.86e-02, acc. prob=0.673]"
     ]
    },
    {
     "name": "stderr",
     "output_type": "stream",
     "text": [
      "\r",
      "Warmup:  67%|██████▋   | 14/21 [00:07,  1.46it/s, step size=5.14e-02, acc. prob=0.695]"
     ]
    },
    {
     "name": "stderr",
     "output_type": "stream",
     "text": [
      "\r",
      "Warmup:  71%|███████▏  | 15/21 [00:11,  1.57s/it, step size=5.59e-02, acc. prob=0.703]"
     ]
    },
    {
     "name": "stderr",
     "output_type": "stream",
     "text": [
      "\r",
      "Warmup:  76%|███████▌  | 16/21 [00:11,  1.21s/it, step size=4.45e-02, acc. prob=0.704]"
     ]
    },
    {
     "name": "stderr",
     "output_type": "stream",
     "text": [
      "\r",
      "Warmup:  81%|████████  | 17/21 [00:12,  1.12s/it, step size=1.65e+00, acc. prob=0.699]"
     ]
    },
    {
     "name": "stderr",
     "output_type": "stream",
     "text": [
      "\r",
      "Warmup: 100%|██████████| 21/21 [00:12,  1.26it/s, step size=9.73e-01, acc. prob=0.000]"
     ]
    },
    {
     "name": "stderr",
     "output_type": "stream",
     "text": [
      "\r",
      "Sample: 100%|██████████| 21/21 [00:12,  1.68it/s, step size=9.73e-01, acc. prob=0.000]"
     ]
    },
    {
     "name": "stderr",
     "output_type": "stream",
     "text": [
      "\n",
      "\r",
      "Warmup:   0%|          | 0/21 [00:00, ?it/s]"
     ]
    },
    {
     "name": "stderr",
     "output_type": "stream",
     "text": [
      "\r",
      "Warmup:   5%|▍         | 1/21 [00:00,  8.81it/s, step size=7.19e+00, acc. prob=1.000]"
     ]
    },
    {
     "name": "stderr",
     "output_type": "stream",
     "text": [
      "\r",
      "Warmup:  19%|█▉        | 4/21 [00:00, 10.18it/s, step size=1.62e-01, acc. prob=0.500]"
     ]
    },
    {
     "name": "stderr",
     "output_type": "stream",
     "text": [
      "\r",
      "Warmup:  24%|██▍       | 5/21 [00:00,  8.92it/s, step size=2.49e-01, acc. prob=0.599]"
     ]
    },
    {
     "name": "stderr",
     "output_type": "stream",
     "text": [
      "\r",
      "Warmup:  33%|███▎      | 7/21 [00:01,  3.80it/s, step size=3.37e-02, acc. prob=0.571]"
     ]
    },
    {
     "name": "stderr",
     "output_type": "stream",
     "text": [
      "\r",
      "Warmup:  38%|███▊      | 8/21 [00:02,  2.78it/s, step size=4.78e-02, acc. prob=0.615]"
     ]
    },
    {
     "name": "stderr",
     "output_type": "stream",
     "text": [
      "\r",
      "Warmup:  43%|████▎     | 9/21 [00:02,  2.28it/s, step size=7.17e-02, acc. prob=0.651]"
     ]
    },
    {
     "name": "stderr",
     "output_type": "stream",
     "text": [
      "\r",
      "Warmup:  48%|████▊     | 10/21 [00:03,  2.38it/s, step size=2.36e-02, acc. prob=0.631]"
     ]
    },
    {
     "name": "stderr",
     "output_type": "stream",
     "text": [
      "\r",
      "Warmup:  52%|█████▏    | 11/21 [00:04,  1.49it/s, step size=4.16e-02, acc. prob=0.662]"
     ]
    },
    {
     "name": "stderr",
     "output_type": "stream",
     "text": [
      "\r",
      "Warmup:  57%|█████▋    | 12/21 [00:05,  1.56it/s, step size=5.50e-02, acc. prob=0.681]"
     ]
    },
    {
     "name": "stderr",
     "output_type": "stream",
     "text": [
      "\r",
      "Warmup:  62%|██████▏   | 13/21 [00:05,  1.88it/s, step size=5.83e-02, acc. prob=0.691]"
     ]
    },
    {
     "name": "stderr",
     "output_type": "stream",
     "text": [
      "\r",
      "Warmup:  67%|██████▋   | 14/21 [00:05,  2.12it/s, step size=1.10e-01, acc. prob=0.713]"
     ]
    },
    {
     "name": "stderr",
     "output_type": "stream",
     "text": [
      "\r",
      "Warmup:  71%|███████▏  | 15/21 [00:05,  2.63it/s, step size=4.47e-02, acc. prob=0.698]"
     ]
    },
    {
     "name": "stderr",
     "output_type": "stream",
     "text": [
      "\r",
      "Warmup:  76%|███████▌  | 16/21 [00:06,  2.23it/s, step size=5.17e-02, acc. prob=0.707]"
     ]
    },
    {
     "name": "stderr",
     "output_type": "stream",
     "text": [
      "\r",
      "Warmup:  81%|████████  | 17/21 [00:06,  2.33it/s, step size=8.61e-01, acc. prob=0.713]"
     ]
    },
    {
     "name": "stderr",
     "output_type": "stream",
     "text": [
      "\r",
      "Warmup:  95%|█████████▌| 20/21 [00:07,  3.11it/s, step size=5.07e-01, acc. prob=0.646]"
     ]
    },
    {
     "name": "stderr",
     "output_type": "stream",
     "text": [
      "\r",
      "Warmup: 100%|██████████| 21/21 [00:07,  3.77it/s, step size=5.07e-01, acc. prob=0.455]"
     ]
    },
    {
     "name": "stderr",
     "output_type": "stream",
     "text": [
      "\r",
      "Sample: 100%|██████████| 21/21 [00:07,  2.92it/s, step size=5.07e-01, acc. prob=0.455]"
     ]
    },
    {
     "name": "stderr",
     "output_type": "stream",
     "text": [
      "\n",
      "\r",
      "Warmup:   0%|          | 0/21 [00:00, ?it/s]"
     ]
    },
    {
     "name": "stderr",
     "output_type": "stream",
     "text": [
      "\r",
      "Warmup:   5%|▍         | 1/21 [00:00,  8.37it/s, step size=7.19e+00, acc. prob=1.000]"
     ]
    },
    {
     "name": "stderr",
     "output_type": "stream",
     "text": [
      "\r",
      "Warmup:  19%|█▉        | 4/21 [00:00, 10.10it/s, step size=1.62e-01, acc. prob=0.500]"
     ]
    },
    {
     "name": "stderr",
     "output_type": "stream",
     "text": [
      "\r",
      "Warmup:  24%|██▍       | 5/21 [00:00,  9.00it/s, step size=7.65e-02, acc. prob=0.520]"
     ]
    },
    {
     "name": "stderr",
     "output_type": "stream",
     "text": [
      "\r",
      "Warmup:  29%|██▊       | 6/21 [00:00,  6.20it/s, step size=9.11e-02, acc. prob=0.582]"
     ]
    },
    {
     "name": "stderr",
     "output_type": "stream",
     "text": [
      "\r",
      "Warmup:  33%|███▎      | 7/21 [00:00,  5.10it/s, step size=2.55e-02, acc. prob=0.558]"
     ]
    },
    {
     "name": "stderr",
     "output_type": "stream",
     "text": [
      "\r",
      "Warmup:  38%|███▊      | 8/21 [00:01,  3.02it/s, step size=3.77e-02, acc. prob=0.606]"
     ]
    },
    {
     "name": "stderr",
     "output_type": "stream",
     "text": [
      "\r",
      "Warmup:  43%|████▎     | 9/21 [00:02,  2.33it/s, step size=4.18e-02, acc. prob=0.632]"
     ]
    },
    {
     "name": "stderr",
     "output_type": "stream",
     "text": [
      "\r",
      "Warmup:  48%|████▊     | 10/21 [00:02,  2.04it/s, step size=6.07e-02, acc. prob=0.661]"
     ]
    },
    {
     "name": "stderr",
     "output_type": "stream",
     "text": [
      "\r",
      "Warmup:  52%|█████▏    | 11/21 [00:03,  2.25it/s, step size=6.91e-02, acc. prob=0.677]"
     ]
    },
    {
     "name": "stderr",
     "output_type": "stream",
     "text": [
      "\r",
      "Warmup:  57%|█████▋    | 12/21 [00:03,  2.46it/s, step size=2.36e-02, acc. prob=0.658]"
     ]
    },
    {
     "name": "stderr",
     "output_type": "stream",
     "text": [
      "\r",
      "Warmup:  62%|██████▏   | 13/21 [00:04,  1.56it/s, step size=4.48e-02, acc. prob=0.684]"
     ]
    },
    {
     "name": "stderr",
     "output_type": "stream",
     "text": [
      "\r",
      "Warmup:  67%|██████▋   | 14/21 [00:05,  1.62it/s, step size=7.12e-02, acc. prob=0.703]"
     ]
    },
    {
     "name": "stderr",
     "output_type": "stream",
     "text": [
      "\r",
      "Warmup:  71%|███████▏  | 15/21 [00:05,  1.92it/s, step size=5.02e-02, acc. prob=0.701]"
     ]
    },
    {
     "name": "stderr",
     "output_type": "stream",
     "text": [
      "\r",
      "Warmup:  76%|███████▌  | 16/21 [00:06,  1.66it/s, step size=5.40e-02, acc. prob=0.708]"
     ]
    },
    {
     "name": "stderr",
     "output_type": "stream",
     "text": [
      "\r",
      "Warmup:  81%|████████  | 17/21 [00:06,  1.82it/s, step size=1.17e+00, acc. prob=0.705]"
     ]
    },
    {
     "name": "stderr",
     "output_type": "stream",
     "text": [
      "\r",
      "Warmup: 100%|██████████| 21/21 [00:06,  2.52it/s, step size=6.92e-01, acc. prob=0.667]"
     ]
    },
    {
     "name": "stderr",
     "output_type": "stream",
     "text": [
      "\r",
      "Sample: 100%|██████████| 21/21 [00:06,  3.01it/s, step size=6.92e-01, acc. prob=0.667]"
     ]
    },
    {
     "name": "stdout",
     "output_type": "stream",
     "text": [
      "[iter 50]  loss: 185957.7930\n"
     ]
    },
    {
     "name": "stderr",
     "output_type": "stream",
     "text": [
      "\n"
     ]
    }
   ],
   "source": [
    "lr = .1 / n_sample\n",
    "n_steps = 51\n",
    "pyro.clear_param_store()\n",
    "\n",
    "\n",
    "for step in range(n_steps):\n",
    "    model_cond_x = pyro.poutine.condition(joint_model, data = {\"x\": data})\n",
    "    nuts_kernel = pyro.infer.NUTS(model_cond_x)\n",
    "    mcmc = pyro.infer.MCMC(nuts_kernel, num_samples=1, warmup_steps = 20)\n",
    "    mcmc.run()\n",
    "    eta = mcmc.get_samples()[\"eta\"].reshape((-1, 4))\n",
    "    model_cond_x_eta = pyro.poutine.condition(joint_model,\n",
    "                                              data = {\"x\": data,\n",
    "                                            \"eta\":eta})\n",
    "    guide_cond_x_eta = pyro.poutine.condition(joint_guide,\n",
    "                                              data = {\"x\": data,\n",
    "                                            \"eta\":eta})\n",
    "    optimizer = pyro.optim.SGD({\"lr\": lr})\n",
    "    svi = pyro.infer.SVI(model_cond_x_eta,\n",
    "                         guide_cond_x_eta,\n",
    "                         optimizer,\n",
    "                         loss=pyro.infer.Trace_ELBO())\n",
    "    loss = svi.step()\n",
    "    if step % 5 == 0:\n",
    "        print('[iter {}]  loss: {:.4f}'.format(step, loss))\n",
    "\n"
   ]
  },
  {
   "cell_type": "code",
   "execution_count": 17,
   "metadata": {
    "collapsed": false,
    "execution": {
     "iopub.execute_input": "2020-12-15T01:24:14.669004Z",
     "iopub.status.busy": "2020-12-15T01:24:14.668366Z",
     "iopub.status.idle": "2020-12-15T01:24:14.672043Z",
     "shell.execute_reply": "2020-12-15T01:24:14.672502Z"
    },
    "pycharm": {
     "name": "#%%\n"
    }
   },
   "outputs": [
    {
     "name": "stdout",
     "output_type": "stream",
     "text": [
      "tensor([[0.6921, 0.0000, 0.0000, 0.0000],\n",
      "        [0.6881, 0.0000, 0.0000, 0.0000],\n",
      "        [0.6977, 0.0000, 0.0000, 0.0000],\n",
      "        [0.0000, 0.7109, 0.0000, 0.0000],\n",
      "        [0.0000, 0.6946, 0.0000, 0.0000],\n",
      "        [0.0000, 0.7025, 0.0000, 0.0000],\n",
      "        [0.0000, 0.0000, 0.7030, 0.0000],\n",
      "        [0.0000, 0.0000, 0.6777, 0.0000],\n",
      "        [0.0000, 0.0000, 0.6792, 0.0000],\n",
      "        [0.0000, 0.0000, 0.0000, 0.6893],\n",
      "        [0.0000, 0.0000, 0.0000, 0.7036],\n",
      "        [0.0000, 0.0000, 0.0000, 0.7068]], requires_grad=True)\n",
      "tensor([0.5105, 0.5096, 0.5107, 0.5041, 0.5122, 0.5144, 0.4749, 0.5175, 0.5219,\n",
      "        0.5299, 0.5044, 0.5082], requires_grad=True)\n"
     ]
    }
   ],
   "source": [
    "print(pyro.param(\"loading\"))\n",
    "print(pyro.param(\"uniqueness\"))\n"
   ]
  }
 ],
 "metadata": {
  "kernelspec": {
   "display_name": "Python 3",
   "language": "python",
   "name": "python3"
  },
  "language_info": {
   "codemirror_mode": {
    "name": "ipython",
    "version": 3
   },
   "file_extension": ".py",
   "mimetype": "text/x-python",
   "name": "python",
   "nbconvert_exporter": "python",
   "pygments_lexer": "ipython3",
   "version": "3.8.5"
  }
 },
 "nbformat": 4,
 "nbformat_minor": 0
}