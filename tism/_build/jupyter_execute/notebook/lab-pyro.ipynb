{
 "cells": [
  {
   "cell_type": "code",
   "execution_count": 1,
   "metadata": {
    "collapsed": true,
    "execution": {
     "iopub.execute_input": "2020-11-30T02:44:57.703210Z",
     "iopub.status.busy": "2020-11-30T02:44:57.702613Z",
     "iopub.status.idle": "2020-11-30T02:44:59.989710Z",
     "shell.execute_reply": "2020-11-30T02:44:59.990178Z"
    }
   },
   "outputs": [],
   "source": [
    "import pyro\n",
    "import torch\n",
    "\n",
    "\n",
    "loading = torch.tensor([[.7, 0, 0],\n",
    "                        [.7, 0, 0],\n",
    "                        [.7, 0, 0],\n",
    "                        [0, .7, 0],\n",
    "                        [0, .7, 0],\n",
    "                        [0, .7, 0],\n",
    "                        [0, 0, .7],\n",
    "                        [0, 0, .7],\n",
    "                        [0, 0, .7]])\n",
    "\n",
    "uniqueness = torch.tensor([.51, .51, .51,\n",
    "                           .51, .51, .51,\n",
    "                           .51, .51, .51])\n"
   ]
  },
  {
   "cell_type": "code",
   "execution_count": 2,
   "metadata": {
    "collapsed": false,
    "execution": {
     "iopub.execute_input": "2020-11-30T02:44:59.994592Z",
     "iopub.status.busy": "2020-11-30T02:44:59.993926Z",
     "iopub.status.idle": "2020-11-30T02:44:59.996171Z",
     "shell.execute_reply": "2020-11-30T02:44:59.996783Z"
    },
    "pycharm": {
     "name": "#%%\n"
    }
   },
   "outputs": [],
   "source": [
    "import pyro\n",
    "import torch\n",
    "mvn = pyro.distributions.MultivariateNormal(\n",
    "    loc=torch.Tensor([0, 1]),\n",
    "    scale_tril=torch.cholesky(torch.Tensor([[1., 0.], [0., .5]])))\n",
    "\n"
   ]
  }
 ],
 "metadata": {
  "kernelspec": {
   "display_name": "Python 3",
   "language": "python",
   "name": "python3"
  },
  "language_info": {
   "codemirror_mode": {
    "name": "ipython",
    "version": 3
   },
   "file_extension": ".py",
   "mimetype": "text/x-python",
   "name": "python",
   "nbconvert_exporter": "python",
   "pygments_lexer": "ipython3",
   "version": "3.8.5"
  }
 },
 "nbformat": 4,
 "nbformat_minor": 0
}