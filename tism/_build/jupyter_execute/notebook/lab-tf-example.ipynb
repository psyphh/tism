{
 "cells": [
  {
   "cell_type": "markdown",
   "metadata": {
    "collapsed": false
   },
   "source": [
    "\n",
    "Lab: `tensoflow` 範例\n",
    "================"
   ]
  },
  {
   "cell_type": "code",
   "execution_count": 1,
   "metadata": {
    "execution": {
     "iopub.execute_input": "2020-12-23T06:11:31.983199Z",
     "iopub.status.busy": "2020-12-23T06:11:31.982592Z",
     "iopub.status.idle": "2020-12-23T06:11:34.419991Z",
     "shell.execute_reply": "2020-12-23T06:11:34.420462Z"
    },
    "id": "N0okuQckPWIY"
   },
   "outputs": [],
   "source": [
    "import numpy as np\n",
    "import tensorflow as tf\n",
    "import tensorflow_probability as tfp\n",
    "from tensorflow_probability import distributions as tfd"
   ]
  },
  {
   "cell_type": "markdown",
   "metadata": {
    "id": "VC9fzjMEPnj3"
   },
   "source": [
    "## Linear Regression"
   ]
  },
  {
   "cell_type": "code",
   "execution_count": 2,
   "metadata": {
    "execution": {
     "iopub.execute_input": "2020-12-23T06:11:34.429404Z",
     "iopub.status.busy": "2020-12-23T06:11:34.428786Z",
     "iopub.status.idle": "2020-12-23T06:11:34.432083Z",
     "shell.execute_reply": "2020-12-23T06:11:34.432648Z"
    },
    "id": "g1RplVD_Qc9Q"
   },
   "outputs": [],
   "source": [
    "# define a function to generate x and y\n",
    "def generate_linear_reg_data(\n",
    "    n_sample, weight, intercept = 0, sd_residual = 1,\n",
    "    dtype = tf.float64, seed = None):\n",
    "    weight = tf.constant(weight, dtype = dtype)\n",
    "    weight = tf.reshape(weight, shape = (-1, 1))\n",
    "    n_feature = weight.shape[0]\n",
    "    x = tf.random.normal(shape = (n_sample, n_feature),\n",
    "                         seed = seed, dtype = dtype)\n",
    "    e = tf.random.normal(shape = (n_sample, 1),\n",
    "                         seed = seed, dtype = dtype)\n",
    "    y = intercept + x @ weight + e\n",
    "    return x, y\n",
    "\n",
    "# run generate_data\n",
    "n_sample = 10000\n",
    "weight_true = [-1, 2, 0]\n",
    "dtype = tf.float64\n",
    "\n",
    "x, y = generate_linear_reg_data(\n",
    "    n_sample = n_sample, weight = weight_true,\n",
    "    intercept = 0, sd_residual = 1,\n",
    "    dtype = dtype, seed = 48)"
   ]
  },
  {
   "cell_type": "code",
   "execution_count": 3,
   "metadata": {
    "colab": {
     "base_uri": "https://localhost:8080/"
    },
    "execution": {
     "iopub.execute_input": "2020-12-23T06:11:34.439723Z",
     "iopub.status.busy": "2020-12-23T06:11:34.439068Z",
     "iopub.status.idle": "2020-12-23T06:11:34.568686Z",
     "shell.execute_reply": "2020-12-23T06:11:34.569150Z"
    },
    "id": "WvLX-d0FUSqd",
    "outputId": "82a29269-c784-4b02-d0bb-7647d8891199"
   },
   "outputs": [
    {
     "name": "stdout",
     "output_type": "stream",
     "text": [
      "SGD Optimizer Converges After 45 Iterations\n",
      "intercept -0.012025053092215557\n",
      "weight [[-0.99697044]\n",
      " [ 1.99617999]\n",
      " [ 0.02433336]]\n"
     ]
    }
   ],
   "source": [
    "# start optimization\n",
    "n_feature = len(weight_true)\n",
    "learning_rate = .1\n",
    "epochs = 500\n",
    "tol = 10**(-4)\n",
    "\n",
    "optimizer = tf.optimizers.SGD(learning_rate = learning_rate)\n",
    "\n",
    "intercept = tf.Variable(tf.zeros((), dtype = dtype), \n",
    "                        name = \"intercept\")\n",
    "weight = tf.Variable(tf.zeros((n_feature, 1), dtype = dtype), \n",
    "                     name = \"weight\")\n",
    "\n",
    "for epoch in tf.range(epochs):\n",
    "    with tf.GradientTape() as tape:\n",
    "        y_hat = intercept + x @ weight\n",
    "        loss_value = tf.reduce_mean((y - y_hat)**2)\n",
    "    gradients = tape.gradient(loss_value, [intercept, weight])\n",
    "    optimizer.apply_gradients(zip(gradients, [intercept, weight]))\n",
    "    #print(weight)\n",
    "    if (tf.reduce_max(\n",
    "            [tf.reduce_mean(\n",
    "                tf.math.abs(x)) for x in gradients]).numpy()) < tol:\n",
    "        print(\"{n} Optimizer Converges After {i} Iterations\".format(\n",
    "            n=optimizer.__class__.__name__, i=epoch))\n",
    "        break\n",
    "\n",
    "print(\"intercept\", intercept.numpy())\n",
    "print(\"weight\", weight.numpy())"
   ]
  },
  {
   "cell_type": "markdown",
   "metadata": {
    "id": "TZ_MZWfBhl5v"
   },
   "source": [
    "## Logistic Regression"
   ]
  },
  {
   "cell_type": "code",
   "execution_count": 4,
   "metadata": {
    "execution": {
     "iopub.execute_input": "2020-12-23T06:11:34.575464Z",
     "iopub.status.busy": "2020-12-23T06:11:34.574854Z",
     "iopub.status.idle": "2020-12-23T06:11:34.580151Z",
     "shell.execute_reply": "2020-12-23T06:11:34.580647Z"
    },
    "id": "BMtDMypchoxa"
   },
   "outputs": [],
   "source": [
    "# define a function to generate x and y\n",
    "def generate_logistic_reg_data(\n",
    "    n_sample, weight, intercept = 0, \n",
    "    dtype = tf.float64, seed = None):\n",
    "    weight = tf.constant(weight, dtype = dtype)\n",
    "    weight = tf.reshape(weight, shape = (-1, 1))\n",
    "    n_feature = weight.shape[0]\n",
    "    x = tf.random.normal(shape = (n_sample, n_feature),\n",
    "                         seed = seed, dtype = dtype)\n",
    "    logits = intercept + x @ weight\n",
    "    y = tfd.Bernoulli(logits=logits, dtype=dtype).sample()\n",
    "    return x, y\n",
    "\n",
    "# run generate_data\n",
    "n_sample = 10000\n",
    "weight_true = [-1, 2, 0]\n",
    "dtype = tf.float64\n",
    "\n",
    "x, y = generate_logistic_reg_data(\n",
    "    n_sample = n_sample, \n",
    "    weight = weight_true,intercept = 0, \n",
    "    dtype = dtype, seed = 48)"
   ]
  },
  {
   "cell_type": "code",
   "execution_count": 5,
   "metadata": {
    "execution": {
     "iopub.execute_input": "2020-12-23T06:11:34.585794Z",
     "iopub.status.busy": "2020-12-23T06:11:34.585138Z",
     "iopub.status.idle": "2020-12-23T06:11:34.586978Z",
     "shell.execute_reply": "2020-12-23T06:11:34.587437Z"
    },
    "id": "JpGdAGR2iutc"
   },
   "outputs": [],
   "source": [
    "# define a tf.Module to collect parameters\n",
    "class LinearModel(tf.Module):\n",
    "  def __init__(self, n_feature, dtype = tf.float64):\n",
    "    super().__init__()\n",
    "    self.weight = tf.Variable(tf.zeros((n_feature, 1), \n",
    "                                       dtype = dtype), \n",
    "                              name = \"weight\")\n",
    "    self.intercept = tf.Variable(tf.zeros((), dtype = dtype), \n",
    "                                 name = \"intercept\")\n",
    "  def __call__(self, x):\n",
    "    return self.intercept + x @ self.weight"
   ]
  },
  {
   "cell_type": "code",
   "execution_count": 6,
   "metadata": {
    "colab": {
     "base_uri": "https://localhost:8080/"
    },
    "execution": {
     "iopub.execute_input": "2020-12-23T06:11:34.595326Z",
     "iopub.status.busy": "2020-12-23T06:11:34.594681Z",
     "iopub.status.idle": "2020-12-23T06:11:35.329234Z",
     "shell.execute_reply": "2020-12-23T06:11:35.329810Z"
    },
    "id": "nJtGDN2skY9T",
    "outputId": "531a9c38-2c8f-4c55-996b-7bb5257ae6f9"
   },
   "outputs": [
    {
     "name": "stdout",
     "output_type": "stream",
     "text": [
      "SGD Optimizer Converges After 214 Iterations\n",
      "intercept 0.028428658456768785\n",
      "weight [[-1.00035866]\n",
      " [ 1.99132667]\n",
      " [-0.0303744 ]]\n"
     ]
    }
   ],
   "source": [
    "n_feature = len(weight_true)\n",
    "learning_rate = .5\n",
    "epochs = 500\n",
    "tol = 10**(-4)\n",
    "\n",
    "linear_model = LinearModel(n_feature, dtype)\n",
    "optimizer = tf.optimizers.SGD(learning_rate = learning_rate)\n",
    "\n",
    "for epoch in tf.range(epochs):\n",
    "    with tf.GradientTape() as tape:\n",
    "        logits = linear_model(x)\n",
    "        loss_value = - tf.reduce_mean(\n",
    "            tfd.Bernoulli(logits=logits).log_prob(y))\n",
    "    gradients = tape.gradient(\n",
    "        loss_value, linear_model.trainable_variables)\n",
    "    optimizer.apply_gradients(\n",
    "        zip(gradients, linear_model.trainable_variables))\n",
    "    if (tf.reduce_max(\n",
    "            [tf.reduce_mean(\n",
    "                tf.math.abs(x)) for x in gradients]).numpy()) < tol:\n",
    "        print(\"{n} Optimizer Converges After {i} Iterations\".format(\n",
    "            n=optimizer.__class__.__name__, i=epoch))\n",
    "        break\n",
    "\n",
    "print(\"intercept\", linear_model.intercept.numpy())\n",
    "print(\"weight\", linear_model.weight.numpy())"
   ]
  },
  {
   "cell_type": "markdown",
   "metadata": {
    "id": "toH0-cITKYZo"
   },
   "source": [
    "## Factor Analysis"
   ]
  },
  {
   "cell_type": "code",
   "execution_count": 7,
   "metadata": {
    "execution": {
     "iopub.execute_input": "2020-12-23T06:11:35.338509Z",
     "iopub.status.busy": "2020-12-23T06:11:35.337881Z",
     "iopub.status.idle": "2020-12-23T06:11:35.411011Z",
     "shell.execute_reply": "2020-12-23T06:11:35.411556Z"
    },
    "id": "8npnnKsrKX92"
   },
   "outputs": [],
   "source": [
    "def generate_fa_data(n_sample, n_factor, n_item, \n",
    "                     ld, psi = None, rho = None, \n",
    "                     dtype = tf.float64):\n",
    "    if (n_item % n_factor) != 0:\n",
    "        n_item = n_factor * (n_item // n_factor)\n",
    "    loading = np.zeros((n_item, n_factor))\n",
    "    item_per_factor = (n_item // n_factor)\n",
    "    for i in range(n_factor):\n",
    "        for j in range(i * item_per_factor,\n",
    "                       (i + 1) * item_per_factor):\n",
    "            loading[j, i] = ld\n",
    "    loading = tf.constant(loading, dtype = dtype)\n",
    "    if rho is None:\n",
    "        cor = tf.eye(n_factor, dtype = dtype)\n",
    "    else:\n",
    "        unit = tf.ones((n_factor, 1), dtype = dtype)\n",
    "        identity = tf.eye(n_factor, dtype = dtype)\n",
    "        cor = rho * (unit @ tf.transpose(unit)) + (1 - rho) * identity\n",
    "    if psi is None:\n",
    "        uniqueness = 1 - tf.linalg.diag_part(loading @ cor @ tf.transpose(loading))\n",
    "    else:\n",
    "        uniqueness = psi * tf.ones((n_item, ), dtype = dtype)\n",
    "    \n",
    "    mean = tf.zeros(n_item, dtype = dtype)\n",
    "    cov = loading @ cor @ tf.transpose(loading) + tf.linalg.diag(uniqueness)\n",
    "    dist_x = tfd.MultivariateNormalTriL(\n",
    "        loc = mean, scale_tril = tf.linalg.cholesky(cov))\n",
    "    x = dist_x.sample(n_sample)\n",
    "    return x\n",
    "\n",
    "n_sample = 10000\n",
    "n_factor = 4\n",
    "n_item = 12\n",
    "ld = .7\n",
    "dtype = tf.float64\n",
    "\n",
    "x = generate_fa_data(n_sample, n_factor, \n",
    "                     n_item, ld,\n",
    "                     dtype = dtype)\n",
    "sample_mean = tf.reduce_mean(x, axis = 0)\n",
    "sample_cov = tf.transpose(x - sample_mean) @ (x - sample_mean) / n_sample"
   ]
  },
  {
   "cell_type": "code",
   "execution_count": 8,
   "metadata": {
    "colab": {
     "base_uri": "https://localhost:8080/"
    },
    "execution": {
     "iopub.execute_input": "2020-12-23T06:11:35.420283Z",
     "iopub.status.busy": "2020-12-23T06:11:35.419527Z",
     "iopub.status.idle": "2020-12-23T06:11:35.422271Z",
     "shell.execute_reply": "2020-12-23T06:11:35.422736Z"
    },
    "id": "zHW9chhhsx-s",
    "outputId": "3cacd122-b1f1-4b6e-dd1d-3068509b2958"
   },
   "outputs": [
    {
     "data": {
      "text/plain": [
       "<tf.Tensor: shape=(12,), dtype=float64, numpy=\n",
       "array([ 0.00694589,  0.01861561,  0.00231769,  0.01193671,  0.00354684,\n",
       "        0.00245367,  0.00678747, -0.01344016,  0.00113555,  0.0015863 ,\n",
       "        0.00881824,  0.01604796])>"
      ]
     },
     "execution_count": 8,
     "metadata": {},
     "output_type": "execute_result"
    }
   ],
   "source": [
    "sample_mean"
   ]
  },
  {
   "cell_type": "code",
   "execution_count": 9,
   "metadata": {
    "execution": {
     "iopub.execute_input": "2020-12-23T06:11:35.428702Z",
     "iopub.status.busy": "2020-12-23T06:11:35.427964Z",
     "iopub.status.idle": "2020-12-23T06:11:35.429878Z",
     "shell.execute_reply": "2020-12-23T06:11:35.430350Z"
    },
    "id": "wffqM99mRdYu"
   },
   "outputs": [],
   "source": [
    "# define a tf.Module to coollect parameters\n",
    "class FactorModel(tf.Module):\n",
    "  def __init__(self, n_item, n_factor, \n",
    "               dtype = tf.float64):\n",
    "    super().__init__()\n",
    "    self.intercept = tf.Variable(\n",
    "        tf.zeros(n_item, dtype = dtype), name = \"intercept\")\n",
    "    self.loading = tf.Variable(\n",
    "        tf.random.uniform((n_item, n_factor), dtype = dtype), \n",
    "        name = \"loading\")\n",
    "    self.uniqueness = tf.Variable(\n",
    "        tf.fill(n_item, value = tf.constant(.2, dtype = dtype)), \n",
    "        name = \"uniqueness\")\n",
    "  def __call__(self):\n",
    "      model_mean = self.intercept\n",
    "      model_cov = self.loading @ tf.transpose(self.loading) + tf.linalg.diag(self.uniqueness)\n",
    "      return model_mean, model_cov"
   ]
  },
  {
   "cell_type": "code",
   "execution_count": 10,
   "metadata": {
    "colab": {
     "base_uri": "https://localhost:8080/"
    },
    "execution": {
     "iopub.execute_input": "2020-12-23T06:11:35.437020Z",
     "iopub.status.busy": "2020-12-23T06:11:35.436402Z",
     "iopub.status.idle": "2020-12-23T06:11:39.976861Z",
     "shell.execute_reply": "2020-12-23T06:11:39.977332Z"
    },
    "id": "W6d0DLuFYcMF",
    "outputId": "7b628ed7-f6eb-49f2-b498-d97813798802"
   },
   "outputs": [
    {
     "name": "stdout",
     "output_type": "stream",
     "text": [
      "SGD Optimizer Converges After 100 Iterations\n",
      "intercept [ 0.00694589  0.01861561  0.00231769  0.01193671  0.00354684  0.00245367\n",
      "  0.00678747 -0.01344016  0.00113555  0.0015863   0.00881824  0.01604796]\n",
      "loading [[-0.02221385  0.10911273 -0.00109037  0.68254381]\n",
      " [-0.0175807   0.1044087  -0.00820094  0.69358882]\n",
      " [-0.01512443  0.1131248   0.0144762   0.69565084]\n",
      " [-0.20007189  0.63954803 -0.17693098 -0.10471538]\n",
      " [-0.21177718  0.62841627 -0.18959392 -0.10762987]\n",
      " [-0.18297993  0.62750234 -0.17421041 -0.10844638]\n",
      " [-0.1655678   0.14956793  0.66250806 -0.00600716]\n",
      " [-0.17773945  0.13590783  0.65895129 -0.01161161]\n",
      " [-0.16511511  0.1239272   0.67860947 -0.0239917 ]\n",
      " [ 0.64943859  0.22918753  0.1265145  -0.02127336]\n",
      " [ 0.66108752  0.21961133  0.1142367  -0.00435664]\n",
      " [ 0.65507305  0.21538745  0.10804776 -0.0063102 ]]\n",
      "uniqueness [0.51339857 0.49946111 0.5058744  0.50321719 0.50426668 0.51438143\n",
      " 0.51000255 0.52049379 0.50440702 0.51432171 0.50867047 0.51511271]\n"
     ]
    }
   ],
   "source": [
    "learning_rate = .5\n",
    "epochs = 500\n",
    "tol = 10**(-4)\n",
    "\n",
    "factor_model = FactorModel(n_item, n_factor, dtype)\n",
    "optimizer = tf.optimizers.SGD(learning_rate = learning_rate)\n",
    "\n",
    "for epoch in tf.range(epochs):\n",
    "    with tf.GradientTape() as tape:\n",
    "        model_mean, model_cov = factor_model()\n",
    "        mvn = tfd.MultivariateNormalTriL(\n",
    "            loc = model_mean, \n",
    "            scale_tril = tf.linalg.cholesky(model_cov))\n",
    "        loss_value = - tf.reduce_mean(mvn.log_prob(x))\n",
    "    gradients = tape.gradient(\n",
    "        loss_value, factor_model.trainable_variables)\n",
    "    optimizer.apply_gradients(\n",
    "        zip(gradients, factor_model.trainable_variables))\n",
    "    if (tf.reduce_max(\n",
    "            [tf.reduce_mean(\n",
    "                tf.math.abs(x)) for x in gradients]).numpy()) < tol:\n",
    "        print(\"{n} Optimizer Converges After {i} Iterations\".format(\n",
    "            n=optimizer.__class__.__name__, i=epoch))\n",
    "        break\n",
    "\n",
    "print(\"intercept\", factor_model.intercept.numpy())\n",
    "print(\"loading\", factor_model.loading.numpy())\n",
    "print(\"uniqueness\", factor_model.uniqueness.numpy())"
   ]
  },
  {
   "cell_type": "markdown",
   "metadata": {
    "id": "m2MgZjN3hpwt"
   },
   "source": [
    "## Two-Parameter Logistic Model"
   ]
  },
  {
   "cell_type": "code",
   "execution_count": 11,
   "metadata": {
    "execution": {
     "iopub.execute_input": "2020-12-23T06:11:39.984620Z",
     "iopub.status.busy": "2020-12-23T06:11:39.983881Z",
     "iopub.status.idle": "2020-12-23T06:11:39.985881Z",
     "shell.execute_reply": "2020-12-23T06:11:39.986343Z"
    },
    "id": "Ps5_2oCmhuJB"
   },
   "outputs": [],
   "source": [
    "def generate_2pl_data(n_sample, n_factor, n_item, \n",
    "                      alpha, beta, rho, \n",
    "                      dtype = tf.float64):\n",
    "    if (n_item % n_factor) != 0:\n",
    "        n_item = n_factor * (n_item // n_factor)\n",
    "    item_per_factor = (n_item // n_factor)\n",
    "    intercept = tf.fill((n_item,), value = tf.constant(alpha, dtype = dtype))\n",
    "    loading = np.zeros((n_item, n_factor))\n",
    "    for i in range(n_factor):\n",
    "        for j in range(i * item_per_factor,\n",
    "                       (i + 1) * item_per_factor):\n",
    "            loading[j, i] = ld\n",
    "    loading = tf.constant(loading, dtype = dtype)\n",
    "    if rho is None:\n",
    "        cor = tf.eye(n_factor, dtype = dtype)\n",
    "    else:\n",
    "        unit = tf.ones((n_factor, 1), dtype = dtype)\n",
    "        identity = tf.eye(n_factor, dtype = dtype)\n",
    "        cor = rho * (unit @ tf.transpose(unit)) + (1 - rho) * identity\n",
    "    dist_eta = tfd.MultivariateNormalTriL(\n",
    "        loc = tf.zeros(n_factor, dtype = dtype), scale_tril = tf.linalg.cholesky(cor))\n",
    "    eta = dist_eta.sample(n_sample)\n",
    "    logits = intercept + eta @ tf.transpose(loading)\n",
    "    x = tfd.Bernoulli(logits=logits, dtype=dtype).sample()\n",
    "    return x"
   ]
  },
  {
   "cell_type": "code",
   "execution_count": 12,
   "metadata": {
    "execution": {
     "iopub.execute_input": "2020-12-23T06:11:39.995177Z",
     "iopub.status.busy": "2020-12-23T06:11:39.990526Z",
     "iopub.status.idle": "2020-12-23T06:11:40.007159Z",
     "shell.execute_reply": "2020-12-23T06:11:40.007608Z"
    },
    "id": "cU5w0Eg-r45W"
   },
   "outputs": [],
   "source": [
    "n_sample = 10000\n",
    "n_factor = 5\n",
    "n_item = 25\n",
    "alpha = .2\n",
    "beta = .7 \n",
    "rho = 0\n",
    "dtype = tf.float64\n",
    "x = generate_2pl_data(n_sample, n_factor, n_item, \n",
    "                      alpha, beta, rho, \n",
    "                      dtype = dtype)"
   ]
  },
  {
   "cell_type": "code",
   "execution_count": 13,
   "metadata": {
    "execution": {
     "iopub.execute_input": "2020-12-23T06:11:40.014349Z",
     "iopub.status.busy": "2020-12-23T06:11:40.013635Z",
     "iopub.status.idle": "2020-12-23T06:11:40.015646Z",
     "shell.execute_reply": "2020-12-23T06:11:40.016105Z"
    },
    "id": "Uwl2REi6oLc_"
   },
   "outputs": [],
   "source": [
    "class TwoPLModel(tf.Module):\n",
    "    def __init__(self, n_item, n_factor, \n",
    "                 dtype = tf.float64):\n",
    "        super().__init__()\n",
    "        self.dtype = dtype\n",
    "        self.intercept = tf.Variable(\n",
    "            tf.zeros(n_item, dtype = self.dtype), name = \"intercept\")\n",
    "        self.loading = tf.Variable(\n",
    "            tf.random.uniform((n_item, n_factor), dtype = self.dtype), \n",
    "            name = \"loading\")\n",
    "    def __call__(self, x):\n",
    "        n_sample = len(x)\n",
    "        joint_prob = tfd.JointDistributionSequential([\n",
    "            tfd.Independent(\n",
    "                tfd.Normal(\n",
    "                    loc = tf.zeros((n_sample, n_factor), dtype=self.dtype),\n",
    "                    scale = 1.0), \n",
    "                reinterpreted_batch_ndims=1),\n",
    "            lambda eta: tfd.Independent(\n",
    "                tfd.Bernoulli(\n",
    "                    logits= self.intercept + eta @ tf.transpose(self.loading), \n",
    "                    dtype=self.dtype), \n",
    "                reinterpreted_batch_ndims=1)])             \n",
    "        joint_prob._to_track=self\n",
    "        return joint_prob"
   ]
  },
  {
   "cell_type": "code",
   "execution_count": 14,
   "metadata": {
    "execution": {
     "iopub.execute_input": "2020-12-23T06:11:40.022689Z",
     "iopub.status.busy": "2020-12-23T06:11:40.022056Z",
     "iopub.status.idle": "2020-12-23T06:11:40.066393Z",
     "shell.execute_reply": "2020-12-23T06:11:40.066851Z"
    },
    "id": "QPXjWR2rGb1S"
   },
   "outputs": [],
   "source": [
    "two_pl_model = TwoPLModel(n_item, n_factor)\n",
    "joint_prob = two_pl_model(x)\n",
    "\n",
    "def target_log_prob_fn(*eta):\n",
    "    return joint_prob.log_prob(eta + (x,))\n",
    "\n",
    "hmc=tfp.mcmc.HamiltonianMonteCarlo(\n",
    "    target_log_prob_fn = target_log_prob_fn,\n",
    "    step_size = .015,\n",
    "    num_leapfrog_steps=3)\n",
    "current_state = joint_prob.sample()[:-1]\n",
    "kernel_results = hmc.bootstrap_results(current_state)\n",
    "\n",
    "@tf.function(autograph=False,\n",
    "             experimental_compile=True)\n",
    "def one_e_step(current_state, kernel_results):\n",
    "    next_state, next_kernel_results = hmc.one_step(\n",
    "        current_state=current_state,\n",
    "        previous_kernel_results=kernel_results)\n",
    "    return next_state, next_kernel_results\n",
    "\n",
    "optimizer=tf.optimizers.RMSprop(learning_rate=.01)\n",
    "\n",
    "@tf.function(autograph=False, \n",
    "             experimental_compile=True)\n",
    "def one_m_step(current_state):\n",
    "    with tf.GradientTape() as tape:\n",
    "        loss_value = -tf.reduce_mean(\n",
    "            target_log_prob_fn(*current_state))\n",
    "    gradients = tape.gradient(loss_value, two_pl_model.trainable_variables)\n",
    "    optimizer.apply_gradients(zip(gradients, two_pl_model.trainable_variables))\n",
    "    return loss_value"
   ]
  },
  {
   "cell_type": "code",
   "execution_count": 15,
   "metadata": {
    "colab": {
     "base_uri": "https://localhost:8080/"
    },
    "execution": {
     "iopub.execute_input": "2020-12-23T06:11:40.075685Z",
     "iopub.status.busy": "2020-12-23T06:11:40.074776Z",
     "iopub.status.idle": "2020-12-23T06:11:42.429436Z",
     "shell.execute_reply": "2020-12-23T06:11:42.429946Z"
    },
    "id": "cuL5oF3zLofj",
    "outputId": "c25dadf5-ecd4-45e0-9b74-86f5e9fd1865"
   },
   "outputs": [
    {
     "name": "stdout",
     "output_type": "stream",
     "text": [
      "Warm-Up Iteration:   0 Acceptance Rate: 0.000\n"
     ]
    },
    {
     "name": "stdout",
     "output_type": "stream",
     "text": [
      "Iteration:    0 Acceptance Rate: 0.000 Loss: 28.946\n"
     ]
    }
   ],
   "source": [
    "import time\n",
    "num_warmup_start = 1\n",
    "num_warmup_iter = 1\n",
    "num_iters = 1\n",
    "num_accepted = 0\n",
    "loss_history = np.zeros([num_iters])\n",
    "tStart = time.time()\n",
    "# Run warm-up stage.\n",
    "for t in range(num_warmup_start):\n",
    "    current_state, kernel_results = one_e_step(\n",
    "        current_state, kernel_results)\n",
    "    num_accepted += kernel_results.is_accepted.numpy().prod()\n",
    "    if t % 500 == 0:\n",
    "        print(\"Warm-Up Iteration: {:>3} Acceptance Rate: {:.3f}\".format(\n",
    "            t, num_accepted / (t + 1)))\n",
    "num_accepted = 0  # reset acceptance rate counter\n",
    "\n",
    "# Run training.\n",
    "for t in range(num_iters):\n",
    "    for _ in range(num_warmup_iter):\n",
    "        current_state, kernel_results = one_e_step(current_state, kernel_results)\n",
    "    loss_value = one_m_step(current_state)\n",
    "    num_accepted += kernel_results.is_accepted.numpy().prod()\n",
    "    loss_history[t] = loss_value.numpy()\n",
    "    if t % 50 == 0:\n",
    "        print(\"Iteration: {:>4} Acceptance Rate: {:.3f} Loss: {:.3f}\".format(\n",
    "            t, num_accepted / (t + 1), loss_history[t]))\n",
    "tEnd = time.time()"
   ]
  },
  {
   "cell_type": "code",
   "execution_count": 16,
   "metadata": {
    "colab": {
     "base_uri": "https://localhost:8080/"
    },
    "execution": {
     "iopub.execute_input": "2020-12-23T06:11:42.434145Z",
     "iopub.status.busy": "2020-12-23T06:11:42.433483Z",
     "iopub.status.idle": "2020-12-23T06:11:42.439055Z",
     "shell.execute_reply": "2020-12-23T06:11:42.438551Z"
    },
    "id": "BU2I5EgqMlqc",
    "outputId": "1070f273-97c7-4023-dd9d-acfc070bfc0c"
   },
   "outputs": [
    {
     "name": "stdout",
     "output_type": "stream",
     "text": [
      "2.3544578552246094\n",
      "[0.03 0.03 0.03 0.03 0.03 0.03 0.03 0.03 0.03 0.03 0.03 0.03 0.03 0.03\n",
      " 0.03 0.03 0.03 0.03 0.03 0.03 0.03 0.03 0.03 0.03 0.03]\n",
      "[[ 0.04  0.64  0.42  0.61  0.4 ]\n",
      " [ 0.4   0.81  0.94  0.49  0.06]\n",
      " [ 0.83  0.82  0.83  0.83  0.76]\n",
      " [ 0.41  0.14  0.48  0.92  0.05]\n",
      " [-0.01  0.13  0.78  0.06  0.64]\n",
      " [ 0.96  0.66  0.69  0.37  0.04]\n",
      " [ 0.39  0.09  0.71  0.97  0.1 ]\n",
      " [ 0.95  0.27  0.84  0.84  0.01]\n",
      " [ 0.66  0.35  0.79  0.94  0.88]\n",
      " [ 0.09  0.07  0.33  0.68  0.37]\n",
      " [ 0.7   0.74  0.31  0.7   0.04]\n",
      " [ 0.11  0.18  0.91  0.56  0.41]\n",
      " [ 0.05  0.18  0.81  0.11  0.19]\n",
      " [ 0.89  0.39  0.92  0.38 -0.01]\n",
      " [ 0.04  0.15  0.51  0.29  0.42]\n",
      " [ 0.52  0.64  0.02  0.96  0.52]\n",
      " [ 0.44  0.57  0.36  0.67  0.61]\n",
      " [ 0.05  0.62  0.78  0.85  0.89]\n",
      " [ 0.92  0.21  0.1   0.52  0.43]\n",
      " [ 0.88  0.67  0.58  0.45  0.55]\n",
      " [ 0.13  0.16  0.56  0.79  0.93]\n",
      " [ 0.48  0.53  0.51  0.13  0.34]\n",
      " [ 0.22  0.47  0.12  0.04  0.71]\n",
      " [ 0.79  0.57  0.33  0.94  0.44]\n",
      " [ 0.2   0.81  0.19  0.47  0.42]]\n"
     ]
    }
   ],
   "source": [
    "print(tEnd - tStart)\n",
    "print(np.around(two_pl_model.trainable_variables[0].numpy(), decimals=2))\n",
    "print(np.around(two_pl_model.trainable_variables[1].numpy(), decimals=2))"
   ]
  },
  {
   "cell_type": "code",
   "execution_count": null,
   "metadata": {
    "colab": {
     "base_uri": "https://localhost:8080/"
    },
    "id": "PD-1UVbZcO9l",
    "outputId": "fad76292-5e31-4226-e416-5a1ff355c3d4",
    "pycharm": {
     "name": "#%%\n"
    }
   },
   "outputs": [
    {
     "data": {
      "text/plain": [
       "<tf.Tensor: shape=(3, 5), dtype=float64, numpy=\n",
       "array([[ 0.15511598, -0.08058979,  0.08665804,  0.48163486,  0.08782219],\n",
       "       [ 0.04422697,  0.12941052, -0.0459003 ,  0.218732  ,  0.27211936],\n",
       "       [ 0.05397605, -0.0450546 ,  0.09205034,  0.28376689,  0.20026456]])>"
      ]
     },
     "execution_count": 21,
     "metadata": {
      "tags": []
     },
     "output_type": "execute_result"
    }
   ],
   "source": []
  }
 ],
 "metadata": {
  "accelerator": "GPU",
  "colab": {
   "collapsed_sections": [],
   "name": "lab-tf-example.ipynb",
   "provenance": []
  },
  "kernelspec": {
   "display_name": "Python 3",
   "name": "python3"
  },
  "language_info": {
   "codemirror_mode": {
    "name": "ipython",
    "version": 3
   },
   "file_extension": ".py",
   "mimetype": "text/x-python",
   "name": "python",
   "nbconvert_exporter": "python",
   "pygments_lexer": "ipython3",
   "version": "3.8.5"
  }
 },
 "nbformat": 4,
 "nbformat_minor": 0
}