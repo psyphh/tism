{
 "cells": [
  {
   "cell_type": "markdown",
   "metadata": {
    "collapsed": false
   },
   "source": [
    "\n",
    "Lab: `tensoflow` 範例\n",
    "================"
   ]
  },
  {
   "cell_type": "code",
   "execution_count": 1,
   "metadata": {
    "execution": {
     "iopub.execute_input": "2021-01-05T06:42:57.818673Z",
     "iopub.status.busy": "2021-01-05T06:42:57.816487Z",
     "iopub.status.idle": "2021-01-05T06:43:00.771579Z",
     "shell.execute_reply": "2021-01-05T06:43:00.772001Z"
    },
    "id": "N0okuQckPWIY"
   },
   "outputs": [],
   "source": [
    "import numpy as np\n",
    "import tensorflow as tf\n",
    "import tensorflow_probability as tfp\n",
    "from tensorflow_probability import distributions as tfd"
   ]
  },
  {
   "cell_type": "markdown",
   "metadata": {
    "id": "VC9fzjMEPnj3"
   },
   "source": [
    "## Linear Regression"
   ]
  },
  {
   "cell_type": "code",
   "execution_count": 2,
   "metadata": {
    "execution": {
     "iopub.execute_input": "2021-01-05T06:43:00.780968Z",
     "iopub.status.busy": "2021-01-05T06:43:00.780237Z",
     "iopub.status.idle": "2021-01-05T06:43:00.783975Z",
     "shell.execute_reply": "2021-01-05T06:43:00.784391Z"
    },
    "id": "g1RplVD_Qc9Q"
   },
   "outputs": [],
   "source": [
    "# define a function to generate x and y\n",
    "def generate_linear_reg_data(\n",
    "    n_sample, weight, intercept = 0, sd_residual = 1,\n",
    "    dtype = tf.float64, seed = None):\n",
    "    weight = tf.constant(weight, dtype = dtype)\n",
    "    weight = tf.reshape(weight, shape = (-1, 1))\n",
    "    n_feature = weight.shape[0]\n",
    "    x = tf.random.normal(shape = (n_sample, n_feature),\n",
    "                         seed = seed, dtype = dtype)\n",
    "    e = tf.random.normal(shape = (n_sample, 1),\n",
    "                         seed = seed, dtype = dtype)\n",
    "    y = intercept + x @ weight + e\n",
    "    return x, y\n",
    "\n",
    "# run generate_data\n",
    "n_sample = 10000\n",
    "weight_true = [-1, 2, 0]\n",
    "dtype = tf.float64\n",
    "\n",
    "x, y = generate_linear_reg_data(\n",
    "    n_sample = n_sample, weight = weight_true,\n",
    "    intercept = 0, sd_residual = 1,\n",
    "    dtype = dtype, seed = 48)"
   ]
  },
  {
   "cell_type": "code",
   "execution_count": 3,
   "metadata": {
    "colab": {
     "base_uri": "https://localhost:8080/"
    },
    "execution": {
     "iopub.execute_input": "2021-01-05T06:43:00.791694Z",
     "iopub.status.busy": "2021-01-05T06:43:00.790891Z",
     "iopub.status.idle": "2021-01-05T06:43:00.920365Z",
     "shell.execute_reply": "2021-01-05T06:43:00.920836Z"
    },
    "id": "WvLX-d0FUSqd",
    "outputId": "82a29269-c784-4b02-d0bb-7647d8891199"
   },
   "outputs": [
    {
     "name": "stdout",
     "output_type": "stream",
     "text": [
      "SGD Optimizer Converges After 45 Iterations\n",
      "intercept -0.012025053092215557\n",
      "weight [[-0.99697044]\n",
      " [ 1.99617999]\n",
      " [ 0.02433336]]\n"
     ]
    }
   ],
   "source": [
    "# start optimization\n",
    "n_feature = len(weight_true)\n",
    "learning_rate = .1\n",
    "epochs = 500\n",
    "tol = 10**(-4)\n",
    "\n",
    "optimizer = tf.optimizers.SGD(learning_rate = learning_rate)\n",
    "\n",
    "intercept = tf.Variable(tf.zeros((), dtype = dtype), \n",
    "                        name = \"intercept\")\n",
    "weight = tf.Variable(tf.zeros((n_feature, 1), dtype = dtype), \n",
    "                     name = \"weight\")\n",
    "\n",
    "for epoch in tf.range(epochs):\n",
    "    with tf.GradientTape() as tape:\n",
    "        y_hat = intercept + x @ weight\n",
    "        loss_value = tf.reduce_mean((y - y_hat)**2)\n",
    "    gradients = tape.gradient(loss_value, [intercept, weight])\n",
    "    optimizer.apply_gradients(zip(gradients, [intercept, weight]))\n",
    "    #print(weight)\n",
    "    if (tf.reduce_max(\n",
    "            [tf.reduce_mean(\n",
    "                tf.math.abs(x)) for x in gradients]).numpy()) < tol:\n",
    "        print(\"{n} Optimizer Converges After {i} Iterations\".format(\n",
    "            n=optimizer.__class__.__name__, i=epoch))\n",
    "        break\n",
    "\n",
    "print(\"intercept\", intercept.numpy())\n",
    "print(\"weight\", weight.numpy())"
   ]
  },
  {
   "cell_type": "markdown",
   "metadata": {
    "id": "TZ_MZWfBhl5v"
   },
   "source": [
    "## Logistic Regression"
   ]
  },
  {
   "cell_type": "code",
   "execution_count": 4,
   "metadata": {
    "execution": {
     "iopub.execute_input": "2021-01-05T06:43:00.927665Z",
     "iopub.status.busy": "2021-01-05T06:43:00.926921Z",
     "iopub.status.idle": "2021-01-05T06:43:00.932110Z",
     "shell.execute_reply": "2021-01-05T06:43:00.932527Z"
    },
    "id": "BMtDMypchoxa"
   },
   "outputs": [],
   "source": [
    "# define a function to generate x and y\n",
    "def generate_logistic_reg_data(\n",
    "    n_sample, weight, intercept = 0, \n",
    "    dtype = tf.float64, seed = None):\n",
    "    weight = tf.constant(weight, dtype = dtype)\n",
    "    weight = tf.reshape(weight, shape = (-1, 1))\n",
    "    n_feature = weight.shape[0]\n",
    "    x = tf.random.normal(shape = (n_sample, n_feature),\n",
    "                         seed = seed, dtype = dtype)\n",
    "    logits = intercept + x @ weight\n",
    "    y = tfd.Bernoulli(logits=logits, dtype=dtype).sample()\n",
    "    return x, y\n",
    "\n",
    "# run generate_data\n",
    "n_sample = 10000\n",
    "weight_true = [-1, 2, 0]\n",
    "dtype = tf.float64\n",
    "\n",
    "x, y = generate_logistic_reg_data(\n",
    "    n_sample = n_sample, \n",
    "    weight = weight_true,intercept = 0, \n",
    "    dtype = dtype, seed = 48)"
   ]
  },
  {
   "cell_type": "code",
   "execution_count": 5,
   "metadata": {
    "execution": {
     "iopub.execute_input": "2021-01-05T06:43:00.937611Z",
     "iopub.status.busy": "2021-01-05T06:43:00.936892Z",
     "iopub.status.idle": "2021-01-05T06:43:00.938734Z",
     "shell.execute_reply": "2021-01-05T06:43:00.939188Z"
    },
    "id": "JpGdAGR2iutc"
   },
   "outputs": [],
   "source": [
    "# define a tf.Module to collect parameters\n",
    "class LinearModel(tf.Module):\n",
    "  def __init__(self, n_feature, dtype = tf.float64):\n",
    "    super().__init__()\n",
    "    self.weight = tf.Variable(tf.zeros((n_feature, 1), \n",
    "                                       dtype = dtype), \n",
    "                              name = \"weight\")\n",
    "    self.intercept = tf.Variable(tf.zeros((), dtype = dtype), \n",
    "                                 name = \"intercept\")\n",
    "  def __call__(self, x):\n",
    "    return self.intercept + x @ self.weight"
   ]
  },
  {
   "cell_type": "code",
   "execution_count": 6,
   "metadata": {
    "colab": {
     "base_uri": "https://localhost:8080/"
    },
    "execution": {
     "iopub.execute_input": "2021-01-05T06:43:00.947340Z",
     "iopub.status.busy": "2021-01-05T06:43:00.946703Z",
     "iopub.status.idle": "2021-01-05T06:43:01.709450Z",
     "shell.execute_reply": "2021-01-05T06:43:01.708958Z"
    },
    "id": "nJtGDN2skY9T",
    "outputId": "531a9c38-2c8f-4c55-996b-7bb5257ae6f9"
   },
   "outputs": [
    {
     "name": "stdout",
     "output_type": "stream",
     "text": [
      "SGD Optimizer Converges After 226 Iterations\n",
      "intercept 0.018624852750212684\n",
      "weight [[-1.01441119]\n",
      " [ 2.07139214]\n",
      " [-0.02560208]]\n"
     ]
    }
   ],
   "source": [
    "n_feature = len(weight_true)\n",
    "learning_rate = .5\n",
    "epochs = 500\n",
    "tol = 10**(-4)\n",
    "\n",
    "linear_model = LinearModel(n_feature, dtype)\n",
    "optimizer = tf.optimizers.SGD(learning_rate = learning_rate)\n",
    "\n",
    "for epoch in tf.range(epochs):\n",
    "    with tf.GradientTape() as tape:\n",
    "        logits = linear_model(x)\n",
    "        loss_value = - tf.reduce_mean(\n",
    "            tfd.Bernoulli(logits=logits).log_prob(y))\n",
    "    gradients = tape.gradient(\n",
    "        loss_value, linear_model.trainable_variables)\n",
    "    optimizer.apply_gradients(\n",
    "        zip(gradients, linear_model.trainable_variables))\n",
    "    if (tf.reduce_max(\n",
    "            [tf.reduce_mean(\n",
    "                tf.math.abs(x)) for x in gradients]).numpy()) < tol:\n",
    "        print(\"{n} Optimizer Converges After {i} Iterations\".format(\n",
    "            n=optimizer.__class__.__name__, i=epoch))\n",
    "        break\n",
    "\n",
    "print(\"intercept\", linear_model.intercept.numpy())\n",
    "print(\"weight\", linear_model.weight.numpy())"
   ]
  },
  {
   "cell_type": "markdown",
   "metadata": {
    "id": "toH0-cITKYZo"
   },
   "source": [
    "## Factor Analysis"
   ]
  },
  {
   "cell_type": "code",
   "execution_count": 7,
   "metadata": {
    "execution": {
     "iopub.execute_input": "2021-01-05T06:43:01.718429Z",
     "iopub.status.busy": "2021-01-05T06:43:01.717763Z",
     "iopub.status.idle": "2021-01-05T06:43:01.791532Z",
     "shell.execute_reply": "2021-01-05T06:43:01.792030Z"
    },
    "id": "8npnnKsrKX92"
   },
   "outputs": [],
   "source": [
    "def generate_fa_data(n_sample, n_factor, n_item, \n",
    "                     ld, psi = None, rho = None, \n",
    "                     dtype = tf.float64):\n",
    "    if (n_item % n_factor) != 0:\n",
    "        n_item = n_factor * (n_item // n_factor)\n",
    "    loading = np.zeros((n_item, n_factor))\n",
    "    item_per_factor = (n_item // n_factor)\n",
    "    for i in range(n_factor):\n",
    "        for j in range(i * item_per_factor,\n",
    "                       (i + 1) * item_per_factor):\n",
    "            loading[j, i] = ld\n",
    "    loading = tf.constant(loading, dtype = dtype)\n",
    "    if rho is None:\n",
    "        cor = tf.eye(n_factor, dtype = dtype)\n",
    "    else:\n",
    "        unit = tf.ones((n_factor, 1), dtype = dtype)\n",
    "        identity = tf.eye(n_factor, dtype = dtype)\n",
    "        cor = rho * (unit @ tf.transpose(unit)) + (1 - rho) * identity\n",
    "    if psi is None:\n",
    "        uniqueness = 1 - tf.linalg.diag_part(loading @ cor @ tf.transpose(loading))\n",
    "    else:\n",
    "        uniqueness = psi * tf.ones((n_item, ), dtype = dtype)\n",
    "    \n",
    "    mean = tf.zeros(n_item, dtype = dtype)\n",
    "    cov = loading @ cor @ tf.transpose(loading) + tf.linalg.diag(uniqueness)\n",
    "    dist_x = tfd.MultivariateNormalTriL(\n",
    "        loc = mean, scale_tril = tf.linalg.cholesky(cov))\n",
    "    x = dist_x.sample(n_sample)\n",
    "    return x\n",
    "\n",
    "n_sample = 10000\n",
    "n_factor = 4\n",
    "n_item = 12\n",
    "ld = .7\n",
    "dtype = tf.float64\n",
    "\n",
    "x = generate_fa_data(n_sample, n_factor, \n",
    "                     n_item, ld,\n",
    "                     dtype = dtype)\n",
    "sample_mean = tf.reduce_mean(x, axis = 0)\n",
    "sample_cov = tf.transpose(x - sample_mean) @ (x - sample_mean) / n_sample"
   ]
  },
  {
   "cell_type": "code",
   "execution_count": 8,
   "metadata": {
    "colab": {
     "base_uri": "https://localhost:8080/"
    },
    "execution": {
     "iopub.execute_input": "2021-01-05T06:43:01.800664Z",
     "iopub.status.busy": "2021-01-05T06:43:01.800016Z",
     "iopub.status.idle": "2021-01-05T06:43:01.802710Z",
     "shell.execute_reply": "2021-01-05T06:43:01.803178Z"
    },
    "id": "zHW9chhhsx-s",
    "outputId": "3cacd122-b1f1-4b6e-dd1d-3068509b2958"
   },
   "outputs": [
    {
     "data": {
      "text/plain": [
       "<tf.Tensor: shape=(12,), dtype=float64, numpy=\n",
       "array([-0.00297178,  0.0023064 , -0.00543589,  0.01030335,  0.01620562,\n",
       "        0.00354845,  0.0173241 ,  0.01119512,  0.00894522, -0.00163948,\n",
       "        0.01154066, -0.00952854])>"
      ]
     },
     "execution_count": 8,
     "metadata": {},
     "output_type": "execute_result"
    }
   ],
   "source": [
    "sample_mean"
   ]
  },
  {
   "cell_type": "code",
   "execution_count": 9,
   "metadata": {
    "execution": {
     "iopub.execute_input": "2021-01-05T06:43:01.808912Z",
     "iopub.status.busy": "2021-01-05T06:43:01.808269Z",
     "iopub.status.idle": "2021-01-05T06:43:01.810326Z",
     "shell.execute_reply": "2021-01-05T06:43:01.810799Z"
    },
    "id": "wffqM99mRdYu"
   },
   "outputs": [],
   "source": [
    "# define a tf.Module to coollect parameters\n",
    "class FactorModel(tf.Module):\n",
    "  def __init__(self, n_item, n_factor, \n",
    "               dtype = tf.float64):\n",
    "    super().__init__()\n",
    "    self.intercept = tf.Variable(\n",
    "        tf.zeros(n_item, dtype = dtype), name = \"intercept\")\n",
    "    self.loading = tf.Variable(\n",
    "        tf.random.uniform((n_item, n_factor), dtype = dtype), \n",
    "        name = \"loading\")\n",
    "    self.uniqueness = tf.Variable(\n",
    "        tf.fill(n_item, value = tf.constant(.2, dtype = dtype)), \n",
    "        name = \"uniqueness\")\n",
    "  def __call__(self):\n",
    "      model_mean = self.intercept\n",
    "      model_cov = self.loading @ tf.transpose(self.loading) + tf.linalg.diag(self.uniqueness)\n",
    "      return model_mean, model_cov"
   ]
  },
  {
   "cell_type": "code",
   "execution_count": 10,
   "metadata": {
    "colab": {
     "base_uri": "https://localhost:8080/"
    },
    "execution": {
     "iopub.execute_input": "2021-01-05T06:43:01.817737Z",
     "iopub.status.busy": "2021-01-05T06:43:01.817062Z",
     "iopub.status.idle": "2021-01-05T06:43:06.061704Z",
     "shell.execute_reply": "2021-01-05T06:43:06.062132Z"
    },
    "id": "W6d0DLuFYcMF",
    "outputId": "7b628ed7-f6eb-49f2-b498-d97813798802"
   },
   "outputs": [
    {
     "name": "stdout",
     "output_type": "stream",
     "text": [
      "SGD Optimizer Converges After 94 Iterations\n",
      "intercept [-0.00297178  0.0023064  -0.00543589  0.01030335  0.01620562  0.00354845\n",
      "  0.0173241   0.01119512  0.00894522 -0.00163948  0.01154066 -0.00952854]\n",
      "loading [[ 0.32201697  0.01642084 -0.04100319  0.63066625]\n",
      " [ 0.32674537  0.017146   -0.02945871  0.59252605]\n",
      " [ 0.31397258  0.01467024 -0.02726598  0.60138549]\n",
      " [-0.35925704 -0.16868686  0.54328278  0.23228625]\n",
      " [-0.36713426 -0.14299242  0.53827701  0.23144005]\n",
      " [-0.36943135 -0.15992695  0.55381386  0.21350927]\n",
      " [ 0.49919328 -0.01116984  0.41326406 -0.24805683]\n",
      " [ 0.50933655 -0.01500938  0.42080456 -0.26146489]\n",
      " [ 0.48115747 -0.01353824  0.4401694  -0.257501  ]\n",
      " [-0.07177533  0.68385012  0.12889856  0.04274879]\n",
      " [-0.0726081   0.67029127  0.12940358  0.03346163]\n",
      " [-0.06331207  0.69502703  0.13793051  0.04287903]]\n",
      "uniqueness [0.49196496 0.51461259 0.52890638 0.51286385 0.51396283 0.51203993\n",
      " 0.52058576 0.50785139 0.51175418 0.505354   0.54437636 0.51580434]\n"
     ]
    }
   ],
   "source": [
    "learning_rate = .5\n",
    "epochs = 500\n",
    "tol = 10**(-4)\n",
    "\n",
    "factor_model = FactorModel(n_item, n_factor, dtype)\n",
    "optimizer = tf.optimizers.SGD(learning_rate = learning_rate)\n",
    "\n",
    "for epoch in tf.range(epochs):\n",
    "    with tf.GradientTape() as tape:\n",
    "        model_mean, model_cov = factor_model()\n",
    "        mvn = tfd.MultivariateNormalTriL(\n",
    "            loc = model_mean, \n",
    "            scale_tril = tf.linalg.cholesky(model_cov))\n",
    "        loss_value = - tf.reduce_mean(mvn.log_prob(x))\n",
    "    gradients = tape.gradient(\n",
    "        loss_value, factor_model.trainable_variables)\n",
    "    optimizer.apply_gradients(\n",
    "        zip(gradients, factor_model.trainable_variables))\n",
    "    if (tf.reduce_max(\n",
    "            [tf.reduce_mean(\n",
    "                tf.math.abs(x)) for x in gradients]).numpy()) < tol:\n",
    "        print(\"{n} Optimizer Converges After {i} Iterations\".format(\n",
    "            n=optimizer.__class__.__name__, i=epoch))\n",
    "        break\n",
    "\n",
    "print(\"intercept\", factor_model.intercept.numpy())\n",
    "print(\"loading\", factor_model.loading.numpy())\n",
    "print(\"uniqueness\", factor_model.uniqueness.numpy())"
   ]
  },
  {
   "cell_type": "markdown",
   "metadata": {
    "id": "m2MgZjN3hpwt"
   },
   "source": [
    "## Two-Parameter Logistic Model"
   ]
  },
  {
   "cell_type": "code",
   "execution_count": 11,
   "metadata": {
    "execution": {
     "iopub.execute_input": "2021-01-05T06:43:06.069825Z",
     "iopub.status.busy": "2021-01-05T06:43:06.069175Z",
     "iopub.status.idle": "2021-01-05T06:43:06.071159Z",
     "shell.execute_reply": "2021-01-05T06:43:06.071625Z"
    },
    "id": "Ps5_2oCmhuJB"
   },
   "outputs": [],
   "source": [
    "def generate_2pl_data(n_sample, n_factor, n_item, \n",
    "                      alpha, beta, rho, \n",
    "                      dtype = tf.float64):\n",
    "    if (n_item % n_factor) != 0:\n",
    "        n_item = n_factor * (n_item // n_factor)\n",
    "    item_per_factor = (n_item // n_factor)\n",
    "    intercept = tf.fill((n_item,), value = tf.constant(alpha, dtype = dtype))\n",
    "    loading = np.zeros((n_item, n_factor))\n",
    "    for i in range(n_factor):\n",
    "        for j in range(i * item_per_factor,\n",
    "                       (i + 1) * item_per_factor):\n",
    "            loading[j, i] = ld\n",
    "    loading = tf.constant(loading, dtype = dtype)\n",
    "    if rho is None:\n",
    "        cor = tf.eye(n_factor, dtype = dtype)\n",
    "    else:\n",
    "        unit = tf.ones((n_factor, 1), dtype = dtype)\n",
    "        identity = tf.eye(n_factor, dtype = dtype)\n",
    "        cor = rho * (unit @ tf.transpose(unit)) + (1 - rho) * identity\n",
    "    dist_eta = tfd.MultivariateNormalTriL(\n",
    "        loc = tf.zeros(n_factor, dtype = dtype), scale_tril = tf.linalg.cholesky(cor))\n",
    "    eta = dist_eta.sample(n_sample)\n",
    "    logits = intercept + eta @ tf.transpose(loading)\n",
    "    x = tfd.Bernoulli(logits=logits, dtype=dtype).sample()\n",
    "    return x"
   ]
  },
  {
   "cell_type": "code",
   "execution_count": 12,
   "metadata": {
    "execution": {
     "iopub.execute_input": "2021-01-05T06:43:06.076257Z",
     "iopub.status.busy": "2021-01-05T06:43:06.075641Z",
     "iopub.status.idle": "2021-01-05T06:43:06.090701Z",
     "shell.execute_reply": "2021-01-05T06:43:06.091194Z"
    },
    "id": "cU5w0Eg-r45W"
   },
   "outputs": [],
   "source": [
    "n_sample = 10000\n",
    "n_factor = 5\n",
    "n_item = 25\n",
    "alpha = .2\n",
    "beta = .7 \n",
    "rho = 0\n",
    "dtype = tf.float64\n",
    "x = generate_2pl_data(n_sample, n_factor, n_item, \n",
    "                      alpha, beta, rho, \n",
    "                      dtype = dtype)"
   ]
  },
  {
   "cell_type": "code",
   "execution_count": 13,
   "metadata": {
    "execution": {
     "iopub.execute_input": "2021-01-05T06:43:06.097529Z",
     "iopub.status.busy": "2021-01-05T06:43:06.096886Z",
     "iopub.status.idle": "2021-01-05T06:43:06.098873Z",
     "shell.execute_reply": "2021-01-05T06:43:06.099339Z"
    },
    "id": "Uwl2REi6oLc_"
   },
   "outputs": [],
   "source": [
    "class TwoPLModel(tf.Module):\n",
    "    def __init__(self, n_item, n_factor, \n",
    "                 dtype = tf.float64):\n",
    "        super().__init__()\n",
    "        self.dtype = dtype\n",
    "        self.intercept = tf.Variable(\n",
    "            tf.zeros(n_item, dtype = self.dtype), name = \"intercept\")\n",
    "        self.loading = tf.Variable(\n",
    "            tf.random.uniform((n_item, n_factor), dtype = self.dtype), \n",
    "            name = \"loading\")\n",
    "    def __call__(self, x):\n",
    "        n_sample = len(x)\n",
    "        joint_prob = tfd.JointDistributionSequential([\n",
    "            tfd.Independent(\n",
    "                tfd.Normal(\n",
    "                    loc = tf.zeros((n_sample, n_factor), dtype=self.dtype),\n",
    "                    scale = 1.0), \n",
    "                reinterpreted_batch_ndims=1),\n",
    "            lambda eta: tfd.Independent(\n",
    "                tfd.Bernoulli(\n",
    "                    logits= self.intercept + eta @ tf.transpose(self.loading), \n",
    "                    dtype=self.dtype), \n",
    "                reinterpreted_batch_ndims=1)])             \n",
    "        joint_prob._to_track=self\n",
    "        return joint_prob"
   ]
  },
  {
   "cell_type": "code",
   "execution_count": 14,
   "metadata": {
    "execution": {
     "iopub.execute_input": "2021-01-05T06:43:06.106288Z",
     "iopub.status.busy": "2021-01-05T06:43:06.105576Z",
     "iopub.status.idle": "2021-01-05T06:43:06.147850Z",
     "shell.execute_reply": "2021-01-05T06:43:06.148337Z"
    },
    "id": "QPXjWR2rGb1S"
   },
   "outputs": [],
   "source": [
    "two_pl_model = TwoPLModel(n_item, n_factor)\n",
    "joint_prob = two_pl_model(x)\n",
    "\n",
    "def target_log_prob_fn(*eta):\n",
    "    return joint_prob.log_prob(eta + (x,))\n",
    "\n",
    "hmc=tfp.mcmc.HamiltonianMonteCarlo(\n",
    "    target_log_prob_fn = target_log_prob_fn,\n",
    "    step_size = .015,\n",
    "    num_leapfrog_steps=3)\n",
    "current_state = joint_prob.sample()[:-1]\n",
    "kernel_results = hmc.bootstrap_results(current_state)\n",
    "\n",
    "@tf.function(autograph=False,\n",
    "             experimental_compile=True)\n",
    "def one_e_step(current_state, kernel_results):\n",
    "    next_state, next_kernel_results = hmc.one_step(\n",
    "        current_state=current_state,\n",
    "        previous_kernel_results=kernel_results)\n",
    "    return next_state, next_kernel_results\n",
    "\n",
    "optimizer=tf.optimizers.RMSprop(learning_rate=.01)\n",
    "\n",
    "@tf.function(autograph=False, \n",
    "             experimental_compile=True)\n",
    "def one_m_step(current_state):\n",
    "    with tf.GradientTape() as tape:\n",
    "        loss_value = -tf.reduce_mean(\n",
    "            target_log_prob_fn(*current_state))\n",
    "    gradients = tape.gradient(loss_value, two_pl_model.trainable_variables)\n",
    "    optimizer.apply_gradients(zip(gradients, two_pl_model.trainable_variables))\n",
    "    return loss_value"
   ]
  },
  {
   "cell_type": "code",
   "execution_count": 15,
   "metadata": {
    "colab": {
     "base_uri": "https://localhost:8080/"
    },
    "execution": {
     "iopub.execute_input": "2021-01-05T06:43:06.157329Z",
     "iopub.status.busy": "2021-01-05T06:43:06.156580Z",
     "iopub.status.idle": "2021-01-05T06:43:08.555459Z",
     "shell.execute_reply": "2021-01-05T06:43:08.555920Z"
    },
    "id": "cuL5oF3zLofj",
    "outputId": "c25dadf5-ecd4-45e0-9b74-86f5e9fd1865"
   },
   "outputs": [
    {
     "name": "stdout",
     "output_type": "stream",
     "text": [
      "Warm-Up Iteration:   0 Acceptance Rate: 0.000\n"
     ]
    },
    {
     "name": "stdout",
     "output_type": "stream",
     "text": [
      "Iteration:    0 Acceptance Rate: 1.000 Loss: 28.959\n"
     ]
    }
   ],
   "source": [
    "import time\n",
    "num_warmup_start = 1\n",
    "num_warmup_iter = 1\n",
    "num_iters = 1\n",
    "num_accepted = 0\n",
    "loss_history = np.zeros([num_iters])\n",
    "tStart = time.time()\n",
    "# Run warm-up stage.\n",
    "for t in range(num_warmup_start):\n",
    "    current_state, kernel_results = one_e_step(\n",
    "        current_state, kernel_results)\n",
    "    num_accepted += kernel_results.is_accepted.numpy().prod()\n",
    "    if t % 500 == 0:\n",
    "        print(\"Warm-Up Iteration: {:>3} Acceptance Rate: {:.3f}\".format(\n",
    "            t, num_accepted / (t + 1)))\n",
    "num_accepted = 0  # reset acceptance rate counter\n",
    "\n",
    "# Run training.\n",
    "for t in range(num_iters):\n",
    "    for _ in range(num_warmup_iter):\n",
    "        current_state, kernel_results = one_e_step(current_state, kernel_results)\n",
    "    loss_value = one_m_step(current_state)\n",
    "    num_accepted += kernel_results.is_accepted.numpy().prod()\n",
    "    loss_history[t] = loss_value.numpy()\n",
    "    if t % 50 == 0:\n",
    "        print(\"Iteration: {:>4} Acceptance Rate: {:.3f} Loss: {:.3f}\".format(\n",
    "            t, num_accepted / (t + 1), loss_history[t]))\n",
    "tEnd = time.time()"
   ]
  },
  {
   "cell_type": "code",
   "execution_count": 16,
   "metadata": {
    "colab": {
     "base_uri": "https://localhost:8080/"
    },
    "execution": {
     "iopub.execute_input": "2021-01-05T06:43:08.562720Z",
     "iopub.status.busy": "2021-01-05T06:43:08.561886Z",
     "iopub.status.idle": "2021-01-05T06:43:08.564427Z",
     "shell.execute_reply": "2021-01-05T06:43:08.564969Z"
    },
    "id": "BU2I5EgqMlqc",
    "outputId": "1070f273-97c7-4023-dd9d-acfc070bfc0c"
   },
   "outputs": [
    {
     "name": "stdout",
     "output_type": "stream",
     "text": [
      "2.3993680477142334\n",
      "[0.03 0.03 0.03 0.03 0.03 0.03 0.03 0.03 0.03 0.03 0.03 0.03 0.03 0.03\n",
      " 0.03 0.03 0.03 0.03 0.03 0.03 0.03 0.03 0.03 0.03 0.03]\n",
      "[[ 0.88  0.92  0.64  0.26  0.06]\n",
      " [ 0.1   0.46  0.04  0.45  0.7 ]\n",
      " [ 0.15  0.53  0.61  0.22  0.18]\n",
      " [ 0.01  0.33  0.41  0.74  0.78]\n",
      " [ 0.64  0.68  0.04  0.21  0.14]\n",
      " [-0.01 -0.    0.38  0.68  0.18]\n",
      " [ 0.79  0.65  0.72  0.31  0.39]\n",
      " [ 0.5   0.32  0.61  0.54  0.84]\n",
      " [ 0.78  0.19  0.02  0.53  0.64]\n",
      " [ 0.72  0.58  0.49  0.96  0.28]\n",
      " [ 0.81  0.16  0.62  0.61  0.95]\n",
      " [ 0.33  0.61  0.67  0.89  0.24]\n",
      " [ 0.73  0.16  0.18  0.64 -0.02]\n",
      " [ 0.74  0.84  0.09  0.96  0.91]\n",
      " [ 0.65  0.04  0.32  0.95  0.74]\n",
      " [ 0.58  0.25  0.48  0.81  0.46]\n",
      " [ 0.54  0.65  0.92 -0.   -0.01]\n",
      " [ 0.38  0.47  0.89  0.26  0.2 ]\n",
      " [ 0.76  0.82  0.24  0.68  0.24]\n",
      " [ 0.02  0.78  0.87  0.39  0.06]\n",
      " [ 0.63  0.05  0.42  0.36  0.3 ]\n",
      " [ 0.84  0.59  0.11  0.03  0.45]\n",
      " [ 0.84  0.57  0.96  0.23  0.04]\n",
      " [ 0.15  0.21  0.37  0.89  0.92]\n",
      " [ 0.92  0.74  0.35  0.55  0.5 ]]\n"
     ]
    }
   ],
   "source": [
    "print(tEnd - tStart)\n",
    "print(np.around(two_pl_model.trainable_variables[0].numpy(), decimals=2))\n",
    "print(np.around(two_pl_model.trainable_variables[1].numpy(), decimals=2))"
   ]
  },
  {
   "cell_type": "code",
   "execution_count": 17,
   "metadata": {
    "collapsed": false,
    "execution": {
     "iopub.execute_input": "2021-01-05T06:43:08.570176Z",
     "iopub.status.busy": "2021-01-05T06:43:08.569526Z",
     "iopub.status.idle": "2021-01-05T06:43:09.715615Z",
     "shell.execute_reply": "2021-01-05T06:43:09.716080Z"
    },
    "pycharm": {
     "name": "#%%\n"
    }
   },
   "outputs": [
    {
     "data": {
      "text/plain": [
       "[Text(0, 0.5, 'Loss Value'),\n",
       " Text(0.5, 0, 'epoch'),\n",
       " Text(0.5, 1.0, 'Gradient Descent History')]"
      ]
     },
     "execution_count": 17,
     "metadata": {},
     "output_type": "execute_result"
    },
    {
     "data": {
      "image/png": "[encoded data removed]",
      "text/plain": [
       "<Figure size 2000x1000 with 1 Axes>"
      ]
     },
     "metadata": {
      "filenames": {
       "image/png": "/Users/phhaung/Documents/PycharmProject/tism/tism/_build/jupyter_execute/notebook/lab-tf-example_21_1.png"
      }
     },
     "output_type": "display_data"
    }
   ],
   "source": [
    "import matplotlib.pyplot as plt\n",
    "plt.style.use('ggplot')\n",
    "fig = plt.figure(figsize=(10, 5), dpi=200)\n",
    "ax = plt.axes()\n",
    "ax.plot(list(range(1, len(loss_history) + 1, 1)),loss_history )\n",
    "ax.set(xlabel='epoch', ylabel='Loss Value',\n",
    "       title='Gradient Descent History')"
   ]
  },
  {
   "cell_type": "markdown",
   "metadata": {
    "colab": {
     "base_uri": "https://localhost:8080/"
    },
    "id": "PD-1UVbZcO9l",
    "outputId": "fad76292-5e31-4226-e416-5a1ff355c3d4",
    "pycharm": {
     "name": "#%% md\n"
    }
   },
   "source": [
    "## Grade Response Model"
   ]
  },
  {
   "cell_type": "code",
   "execution_count": 18,
   "metadata": {
    "collapsed": false,
    "execution": {
     "iopub.execute_input": "2021-01-05T06:43:09.722643Z",
     "iopub.status.busy": "2021-01-05T06:43:09.721871Z",
     "iopub.status.idle": "2021-01-05T06:43:09.723773Z",
     "shell.execute_reply": "2021-01-05T06:43:09.724203Z"
    },
    "pycharm": {
     "name": "#%%\n"
    }
   },
   "outputs": [],
   "source": [
    "def create_cd(n_category, dtype):\n",
    "    c1 = tf.linalg.diag(\n",
    "        tf.fill([n_category - 1],\n",
    "                tf.constant([1], dtype = dtype)),\n",
    "        k = 0, num_rows= n_category - 1, num_cols= n_category)\n",
    "    c2 = tf.linalg.diag(\n",
    "        tf.fill([n_category - 1],\n",
    "            tf.constant([1], dtype = dtype)),\n",
    "        k = 1, num_rows= n_category - 1, num_cols= n_category)\n",
    "    c = c1 - c2\n",
    "    d = tf.squeeze(tf.linalg.diag(\n",
    "        tf.constant([1], dtype = dtype),\n",
    "        k = n_category - 1, num_rows= 1, num_cols= n_category))\n",
    "    return c, d\n",
    "\n",
    "def grm_irf(eta, intercept, loading, c, d):\n",
    "    tau = tf.expand_dims(eta @ tf.transpose(loading), axis = 2) + intercept\n",
    "    probs = tf.math.sigmoid(tau) @ c + d\n",
    "    return probs"
   ]
  },
  {
   "cell_type": "code",
   "execution_count": 19,
   "metadata": {
    "collapsed": false,
    "execution": {
     "iopub.execute_input": "2021-01-05T06:43:09.733632Z",
     "iopub.status.busy": "2021-01-05T06:43:09.732819Z",
     "iopub.status.idle": "2021-01-05T06:43:09.734983Z",
     "shell.execute_reply": "2021-01-05T06:43:09.735453Z"
    },
    "pycharm": {
     "name": "#%%\n"
    }
   },
   "outputs": [],
   "source": [
    "def generate_grm_data(n_sample, n_factor, n_item,\n",
    "                      nu, ld, rho,\n",
    "                      dtype = tf.float64):\n",
    "    if (n_item % n_factor) != 0:\n",
    "        n_item = n_factor * (n_item // n_factor)\n",
    "    item_per_factor = (n_item // n_factor)\n",
    "    n_category = len(nu) + 1\n",
    "    intercept = tf.tile(tf.constant([nu], dtype = dtype),\n",
    "                        multiples = [n_item, 1])\n",
    "    loading = np.zeros((n_item, n_factor))\n",
    "    for i in range(n_factor):\n",
    "        for j in range(i * item_per_factor,\n",
    "                       (i + 1) * item_per_factor):\n",
    "            loading[j, i] = ld\n",
    "    loading = tf.constant(loading, dtype = dtype)\n",
    "    if rho is None:\n",
    "        cor = tf.eye(n_factor, dtype = dtype)\n",
    "    else:\n",
    "        unit = tf.ones((n_factor, 1), dtype = dtype)\n",
    "        identity = tf.eye(n_factor, dtype = dtype)\n",
    "        cor = rho * (unit @ tf.transpose(unit)) + (1 - rho) * identity\n",
    "    dist_eta = tfd.MultivariateNormalTriL(\n",
    "        loc = tf.zeros(n_factor, dtype = dtype),\n",
    "        scale_tril = tf.linalg.cholesky(cor))\n",
    "    eta = dist_eta.sample(n_sample)\n",
    "    c, d = create_cd(n_category, dtype)\n",
    "    probs = grm_irf(eta, intercept, loading, c, d)\n",
    "    x = tfd.Categorical(probs=probs, dtype=dtype).sample()\n",
    "    return x"
   ]
  },
  {
   "cell_type": "code",
   "execution_count": 20,
   "metadata": {
    "collapsed": false,
    "execution": {
     "iopub.execute_input": "2021-01-05T06:43:09.745912Z",
     "iopub.status.busy": "2021-01-05T06:43:09.740030Z",
     "iopub.status.idle": "2021-01-05T06:43:09.766412Z",
     "shell.execute_reply": "2021-01-05T06:43:09.767019Z"
    },
    "pycharm": {
     "name": "#%%\n"
    }
   },
   "outputs": [],
   "source": [
    "n_sample = 10000\n",
    "n_factor = 5\n",
    "n_item = 15\n",
    "n_category = 3\n",
    "nu = [-.5, .5]\n",
    "ld = .7\n",
    "rho = 0\n",
    "dtype = tf.float64\n",
    "x = generate_grm_data(n_sample, n_factor, n_item,\n",
    "                      nu, ld, rho, dtype = dtype)"
   ]
  },
  {
   "cell_type": "code",
   "execution_count": 21,
   "metadata": {
    "collapsed": false,
    "execution": {
     "iopub.execute_input": "2021-01-05T06:43:09.775180Z",
     "iopub.status.busy": "2021-01-05T06:43:09.773793Z",
     "iopub.status.idle": "2021-01-05T06:43:09.776676Z",
     "shell.execute_reply": "2021-01-05T06:43:09.777281Z"
    },
    "pycharm": {
     "name": "#%%\n"
    }
   },
   "outputs": [],
   "source": [
    "class GRM(tf.Module):\n",
    "    def __init__(self, n_item,\n",
    "                 n_factor, n_category,\n",
    "                 dtype = tf.float64):\n",
    "        super().__init__()\n",
    "        self.n_item = n_item\n",
    "        self.n_factor = n_factor\n",
    "        self.n_category = n_category\n",
    "        self.dtype = dtype\n",
    "        self.intercept = tf.Variable(\n",
    "            tf.tile(tf.sort(tf.random.uniform((1, self.n_category - 1),\n",
    "                  minval = -1, maxval = 1,\n",
    "                  dtype = self.dtype)), multiples = [self.n_item, 1]), name = \"intercept\")\n",
    "        self.loading = tf.Variable(\n",
    "            tf.random.uniform((self.n_item, self.n_factor), dtype = self.dtype),\n",
    "            name = \"loading\")\n",
    "    def __call__(self, x):\n",
    "        n_sample = len(x)\n",
    "        c, d = create_cd(self.n_category, self.dtype)\n",
    "        joint_prob = tfd.JointDistributionSequential([\n",
    "            tfd.Independent(\n",
    "                tfd.Normal(\n",
    "                    loc = tf.zeros((n_sample, n_factor), dtype=self.dtype),\n",
    "                    scale = 1.0),\n",
    "                reinterpreted_batch_ndims=1),\n",
    "            lambda eta: tfd.Independent(\n",
    "                tfd.Categorical(\n",
    "                    probs = grm_irf(eta, self.intercept, self.loading, c, d),\n",
    "                        dtype = self.dtype),\n",
    "                reinterpreted_batch_ndims=1)])\n",
    "        joint_prob._to_track=self\n",
    "        return joint_prob"
   ]
  },
  {
   "cell_type": "code",
   "execution_count": 22,
   "metadata": {
    "collapsed": false,
    "execution": {
     "iopub.execute_input": "2021-01-05T06:43:09.781615Z",
     "iopub.status.busy": "2021-01-05T06:43:09.780996Z",
     "iopub.status.idle": "2021-01-05T06:43:09.786886Z",
     "shell.execute_reply": "2021-01-05T06:43:09.787330Z"
    },
    "pycharm": {
     "name": "#%%\n"
    }
   },
   "outputs": [],
   "source": [
    "grm = GRM(n_item, n_factor, n_category)\n",
    "joint_prob = grm(x)"
   ]
  },
  {
   "cell_type": "code",
   "execution_count": 23,
   "metadata": {
    "collapsed": false,
    "execution": {
     "iopub.execute_input": "2021-01-05T06:43:09.795237Z",
     "iopub.status.busy": "2021-01-05T06:43:09.794520Z",
     "iopub.status.idle": "2021-01-05T06:43:09.865468Z",
     "shell.execute_reply": "2021-01-05T06:43:09.866029Z"
    },
    "pycharm": {
     "name": "#%%\n"
    }
   },
   "outputs": [],
   "source": [
    "def target_log_prob_fn(*eta):\n",
    "    return joint_prob.log_prob(eta + (x,))\n",
    "\n",
    "hmc=tfp.mcmc.HamiltonianMonteCarlo(\n",
    "    target_log_prob_fn = target_log_prob_fn,\n",
    "    step_size = .015,\n",
    "    num_leapfrog_steps=3)\n",
    "current_state = joint_prob.sample()[:-1]\n",
    "kernel_results = hmc.bootstrap_results(current_state)\n",
    "\n",
    "def one_e_step(current_state, kernel_results):\n",
    "    next_state, next_kernel_results = hmc.one_step(\n",
    "        current_state=current_state,\n",
    "        previous_kernel_results=kernel_results)\n",
    "    return next_state, next_kernel_results\n",
    "\n",
    "optimizer=tf.optimizers.RMSprop(learning_rate=.01)\n",
    "\n",
    "def one_m_step(current_state):\n",
    "    with tf.GradientTape() as tape:\n",
    "        loss_value = -tf.reduce_mean(\n",
    "            target_log_prob_fn(*current_state))\n",
    "    gradients = tape.gradient(loss_value, grm.trainable_variables)\n",
    "    optimizer.apply_gradients(zip(gradients, grm.trainable_variables))\n",
    "    return loss_value"
   ]
  },
  {
   "cell_type": "code",
   "execution_count": 24,
   "metadata": {
    "collapsed": false,
    "execution": {
     "iopub.execute_input": "2021-01-05T06:43:09.872969Z",
     "iopub.status.busy": "2021-01-05T06:43:09.872199Z",
     "iopub.status.idle": "2021-01-05T06:43:10.179871Z",
     "shell.execute_reply": "2021-01-05T06:43:10.180348Z"
    },
    "pycharm": {
     "name": "#%%\n"
    }
   },
   "outputs": [
    {
     "name": "stdout",
     "output_type": "stream",
     "text": [
      "Warm-Up Iteration:   0 Acceptance Rate: 1.000\n",
      "Iteration:    0 Acceptance Rate: 0.000 Loss: 27.297\n"
     ]
    }
   ],
   "source": [
    "import time\n",
    "num_warmup_start = 1\n",
    "num_warmup_iter = 1\n",
    "num_iters = 1\n",
    "num_accepted = 0\n",
    "loss_history = np.zeros([num_iters])\n",
    "tStart = time.time()\n",
    "# Run warm-up stage.\n",
    "for t in range(num_warmup_start):\n",
    "    current_state, kernel_results = one_e_step(\n",
    "        current_state, kernel_results)\n",
    "    num_accepted += kernel_results.is_accepted.numpy().prod()\n",
    "    if t % 500 == 0:\n",
    "        print(\"Warm-Up Iteration: {:>3} Acceptance Rate: {:.3f}\".format(\n",
    "            t, num_accepted / (t + 1)))\n",
    "num_accepted = 0  # reset acceptance rate counter\n",
    "\n",
    "# Run training.\n",
    "for t in range(num_iters):\n",
    "    for _ in range(num_warmup_iter):\n",
    "        current_state, kernel_results = one_e_step(current_state, kernel_results)\n",
    "    loss_value = one_m_step(current_state)\n",
    "    num_accepted += kernel_results.is_accepted.numpy().prod()\n",
    "    loss_history[t] = loss_value.numpy()\n",
    "    if t % 50 == 0:\n",
    "        print(\"Iteration: {:>4} Acceptance Rate: {:.3f} Loss: {:.3f}\".format(\n",
    "            t, num_accepted / (t + 1), loss_history[t]))\n",
    "tEnd = time.time()"
   ]
  },
  {
   "cell_type": "code",
   "execution_count": 25,
   "metadata": {
    "collapsed": false,
    "execution": {
     "iopub.execute_input": "2021-01-05T06:43:10.185248Z",
     "iopub.status.busy": "2021-01-05T06:43:10.184599Z",
     "iopub.status.idle": "2021-01-05T06:43:10.189158Z",
     "shell.execute_reply": "2021-01-05T06:43:10.189601Z"
    },
    "pycharm": {
     "name": "#%%\n"
    }
   },
   "outputs": [
    {
     "name": "stdout",
     "output_type": "stream",
     "text": [
      "0.30606818199157715\n",
      "[[-0.83 -0.21]\n",
      " [-0.83 -0.21]\n",
      " [-0.83 -0.21]\n",
      " [-0.83 -0.21]\n",
      " [-0.83 -0.21]\n",
      " [-0.83 -0.21]\n",
      " [-0.83 -0.21]\n",
      " [-0.83 -0.21]\n",
      " [-0.83 -0.21]\n",
      " [-0.83 -0.21]\n",
      " [-0.83 -0.21]\n",
      " [-0.83 -0.21]\n",
      " [-0.83 -0.21]\n",
      " [-0.83 -0.21]\n",
      " [-0.83 -0.21]]\n",
      "[[0.25 0.3  0.62 0.57 0.88]\n",
      " [0.38 0.35 0.11 0.5  0.52]\n",
      " [0.22 0.79 0.19 0.46 0.76]\n",
      " [0.44 0.85 0.73 0.53 0.46]\n",
      " [0.05 0.07 0.85 0.93 0.63]\n",
      " [0.29 0.05 0.7  0.86 0.72]\n",
      " [0.55 0.11 0.64 0.58 0.43]\n",
      " [0.96 0.59 0.2  0.82 0.28]\n",
      " [0.25 0.83 0.62 0.02 0.36]\n",
      " [0.88 0.65 0.25 0.41 0.24]\n",
      " [0.41 0.35 0.1  0.68 0.33]\n",
      " [0.83 0.7  0.6  0.64 0.67]\n",
      " [0.43 0.59 0.86 0.11 0.6 ]\n",
      " [0.05 0.59 0.52 0.76 0.24]\n",
      " [0.53 0.69 0.87 0.9  0.73]]\n"
     ]
    }
   ],
   "source": [
    "print(tEnd - tStart)\n",
    "print(np.around(grm.trainable_variables[0].numpy(), decimals=2))\n",
    "print(np.around(grm.trainable_variables[1].numpy(), decimals=2))\n"
   ]
  },
  {
   "cell_type": "code",
   "execution_count": 26,
   "metadata": {
    "collapsed": false,
    "execution": {
     "iopub.execute_input": "2021-01-05T06:43:10.207469Z",
     "iopub.status.busy": "2021-01-05T06:43:10.206751Z",
     "iopub.status.idle": "2021-01-05T06:43:10.573680Z",
     "shell.execute_reply": "2021-01-05T06:43:10.574149Z"
    },
    "pycharm": {
     "name": "#%%\n"
    }
   },
   "outputs": [
    {
     "data": {
      "text/plain": [
       "[Text(0, 0.5, 'Loss Value'),\n",
       " Text(0.5, 0, 'epoch'),\n",
       " Text(0.5, 1.0, 'Gradient Descent History')]"
      ]
     },
     "execution_count": 26,
     "metadata": {},
     "output_type": "execute_result"
    },
    {
     "data": {
      "image/png": "[encoded data removed]",
      "text/plain": [
       "<Figure size 2000x1000 with 1 Axes>"
      ]
     },
     "metadata": {
      "filenames": {
       "image/png": "/Users/phhaung/Documents/PycharmProject/tism/tism/_build/jupyter_execute/notebook/lab-tf-example_31_1.png"
      }
     },
     "output_type": "display_data"
    }
   ],
   "source": [
    "import matplotlib.pyplot as plt\n",
    "plt.style.use('ggplot')\n",
    "fig = plt.figure(figsize=(10, 5), dpi=200)\n",
    "ax = plt.axes()\n",
    "ax.plot(list(range(1, len(loss_history) + 1, 1)),loss_history )\n",
    "ax.set(xlabel='epoch', ylabel='Loss Value',\n",
    "       title='Gradient Descent History')\n"
   ]
  }
 ],
 "metadata": {
  "accelerator": "GPU",
  "colab": {
   "collapsed_sections": [],
   "name": "lab-tf-example.ipynb",
   "provenance": []
  },
  "kernelspec": {
   "display_name": "Python 3",
   "language": "python",
   "name": "python3"
  },
  "language_info": {
   "codemirror_mode": {
    "name": "ipython",
    "version": 3
   },
   "file_extension": ".py",
   "mimetype": "text/x-python",
   "name": "python",
   "nbconvert_exporter": "python",
   "pygments_lexer": "ipython3",
   "version": "3.8.5"
  }
 },
 "nbformat": 4,
 "nbformat_minor": 0
}