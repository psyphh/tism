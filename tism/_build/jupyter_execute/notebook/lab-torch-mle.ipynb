{
 "cells": [
  {
   "cell_type": "markdown",
   "metadata": {
    "collapsed": false
   },
   "source": [
    "Lab: 最大概似估計\n",
    "================"
   ]
  },
  {
   "cell_type": "code",
   "execution_count": 1,
   "metadata": {
    "collapsed": true,
    "execution": {
     "iopub.execute_input": "2020-09-28T06:16:16.736743Z",
     "iopub.status.busy": "2020-09-28T06:16:16.736049Z",
     "iopub.status.idle": "2020-09-28T06:16:17.043156Z",
     "shell.execute_reply": "2020-09-28T06:16:17.043626Z"
    }
   },
   "outputs": [],
   "source": [
    "import torch"
   ]
  },
  {
   "cell_type": "markdown",
   "metadata": {
    "collapsed": false,
    "pycharm": {
     "name": "#%% md\n"
    }
   },
   "source": [
    "## `torch` 分配物件"
   ]
  },
  {
   "cell_type": "code",
   "execution_count": 2,
   "metadata": {
    "collapsed": false,
    "execution": {
     "iopub.execute_input": "2020-09-28T06:16:17.047687Z",
     "iopub.status.busy": "2020-09-28T06:16:17.047026Z",
     "iopub.status.idle": "2020-09-28T06:16:17.049347Z",
     "shell.execute_reply": "2020-09-28T06:16:17.049801Z"
    },
    "pycharm": {
     "name": "#%%\n"
    }
   },
   "outputs": [],
   "source": [
    "from torch.distributions import Normal\n",
    "normal = Normal(loc=0., scale=1.)"
   ]
  },
  {
   "cell_type": "code",
   "execution_count": 3,
   "metadata": {
    "collapsed": false,
    "execution": {
     "iopub.execute_input": "2020-09-28T06:16:17.054097Z",
     "iopub.status.busy": "2020-09-28T06:16:17.053484Z",
     "iopub.status.idle": "2020-09-28T06:16:17.059163Z",
     "shell.execute_reply": "2020-09-28T06:16:17.059634Z"
    },
    "pycharm": {
     "name": "#%%\n"
    }
   },
   "outputs": [
    {
     "name": "stdout",
     "output_type": "stream",
     "text": [
      "random sample with shape ():\n",
      " tensor(-0.3928)\n",
      "random sample with shape (3,):\n",
      " tensor([-1.3024,  0.5673, -0.7241])\n",
      "random sample with shape (2,3):\n",
      " tensor([[-1.7103, -1.1960, -0.1491],\n",
      "        [-0.8045, -0.2008, -0.3264]])\n"
     ]
    }
   ],
   "source": [
    "print(\"random sample with shape ():\\n\",\n",
    "      normal.sample())\n",
    "print(\"random sample with shape (3,):\\n\",\n",
    "      normal.sample(sample_shape=(3,)))\n",
    "print(\"random sample with shape (2,3):\\n\",\n",
    "      normal.sample(sample_shape=(2, 3)))"
   ]
  },
  {
   "cell_type": "code",
   "execution_count": 4,
   "metadata": {
    "collapsed": false,
    "execution": {
     "iopub.execute_input": "2020-09-28T06:16:17.063730Z",
     "iopub.status.busy": "2020-09-28T06:16:17.063134Z",
     "iopub.status.idle": "2020-09-28T06:16:17.067906Z",
     "shell.execute_reply": "2020-09-28T06:16:17.068346Z"
    },
    "pycharm": {
     "name": "#%%\n"
    }
   },
   "outputs": [
    {
     "name": "stdout",
     "output_type": "stream",
     "text": [
      "cumulative probability given value with shape ():\n",
      " tensor(0.5000) \n",
      "\n",
      "cumulative probability given value with (3,):\n",
      " tensor([0.1587, 0.5000, 0.6915]) \n",
      "\n",
      "cumulative probability given value with (2,3):\n",
      " tensor([[0.1587, 0.5000, 0.6915],\n",
      "        [0.0228, 0.8413, 0.9987]])\n"
     ]
    }
   ],
   "source": [
    "print(\"cumulative probability given value with shape ():\\n\",\n",
    "      normal.cdf(value=0), \"\\n\")\n",
    "print(\"cumulative probability given value with (3,):\\n\",\n",
    "      normal.cdf(value=torch.Tensor([-1, 0, .5])), \"\\n\")\n",
    "print(\"cumulative probability given value with (2,3):\\n\",\n",
    "      normal.cdf(value=torch.Tensor([[-1, 0, .5], [-2, 1, 3]])))"
   ]
  },
  {
   "cell_type": "code",
   "execution_count": 5,
   "metadata": {
    "collapsed": false,
    "execution": {
     "iopub.execute_input": "2020-09-28T06:16:17.072631Z",
     "iopub.status.busy": "2020-09-28T06:16:17.072006Z",
     "iopub.status.idle": "2020-09-28T06:16:17.079046Z",
     "shell.execute_reply": "2020-09-28T06:16:17.079470Z"
    },
    "pycharm": {
     "name": "#%%\n"
    }
   },
   "outputs": [
    {
     "name": "stdout",
     "output_type": "stream",
     "text": [
      "cumulative probability given value with shape ():\n",
      " tensor(-0.9189) \n",
      "\n",
      "cumulative probability given value with (3,):\n",
      " tensor([-1.4189, -0.9189, -1.0439]) \n",
      "\n",
      "cumulative probability given value with (2,3):\n",
      " tensor([[-1.4189, -0.9189, -1.0439],\n",
      "        [-2.9189, -1.4189, -5.4189]])\n"
     ]
    }
   ],
   "source": [
    "print(\"cumulative probability given value with shape ():\\n\",\n",
    "      normal.log_prob(value=0), \"\\n\")\n",
    "print(\"cumulative probability given value with (3,):\\n\",\n",
    "      normal.log_prob(value=torch.Tensor([-1, 0, .5])), \"\\n\")\n",
    "print(\"cumulative probability given value with (2,3):\\n\",\n",
    "      normal.log_prob(value=torch.Tensor([[-1, 0, .5], [-2, 1, 3]])))"
   ]
  },
  {
   "cell_type": "code",
   "execution_count": 6,
   "metadata": {
    "collapsed": false,
    "execution": {
     "iopub.execute_input": "2020-09-28T06:16:17.082987Z",
     "iopub.status.busy": "2020-09-28T06:16:17.082244Z",
     "iopub.status.idle": "2020-09-28T06:16:17.084526Z",
     "shell.execute_reply": "2020-09-28T06:16:17.085039Z"
    },
    "pycharm": {
     "name": "#%%\n"
    }
   },
   "outputs": [
    {
     "name": "stdout",
     "output_type": "stream",
     "text": [
      "Normal(loc: 0.0, scale: 1.0)\n"
     ]
    }
   ],
   "source": [
    "print(normal)"
   ]
  },
  {
   "cell_type": "code",
   "execution_count": 7,
   "metadata": {
    "collapsed": false,
    "execution": {
     "iopub.execute_input": "2020-09-28T06:16:17.088615Z",
     "iopub.status.busy": "2020-09-28T06:16:17.087933Z",
     "iopub.status.idle": "2020-09-28T06:16:17.090398Z",
     "shell.execute_reply": "2020-09-28T06:16:17.090862Z"
    },
    "pycharm": {
     "name": "#%%\n"
    }
   },
   "outputs": [
    {
     "name": "stdout",
     "output_type": "stream",
     "text": [
      "torch.Size([])\n",
      "torch.Size([])\n"
     ]
    }
   ],
   "source": [
    "print(normal.batch_shape)\n",
    "print(normal.event_shape)"
   ]
  },
  {
   "cell_type": "code",
   "execution_count": 8,
   "metadata": {
    "collapsed": false,
    "execution": {
     "iopub.execute_input": "2020-09-28T06:16:17.094456Z",
     "iopub.status.busy": "2020-09-28T06:16:17.093694Z",
     "iopub.status.idle": "2020-09-28T06:16:17.096007Z",
     "shell.execute_reply": "2020-09-28T06:16:17.096489Z"
    },
    "pycharm": {
     "name": "#%%\n"
    }
   },
   "outputs": [
    {
     "name": "stdout",
     "output_type": "stream",
     "text": [
      "Normal(loc: torch.Size([2]), scale: torch.Size([2]))\n"
     ]
    }
   ],
   "source": [
    "normal_batch = Normal(loc=torch.Tensor([0., 1.]), scale=torch.Tensor([1., 1.5]))\n",
    "print(normal_batch)"
   ]
  },
  {
   "cell_type": "code",
   "execution_count": 9,
   "metadata": {
    "collapsed": false,
    "execution": {
     "iopub.execute_input": "2020-09-28T06:16:17.100369Z",
     "iopub.status.busy": "2020-09-28T06:16:17.099718Z",
     "iopub.status.idle": "2020-09-28T06:16:17.104675Z",
     "shell.execute_reply": "2020-09-28T06:16:17.105250Z"
    },
    "pycharm": {
     "name": "#%%\n"
    }
   },
   "outputs": [
    {
     "name": "stdout",
     "output_type": "stream",
     "text": [
      "random sample with sample_shape ():\n",
      " tensor([2.2823, 2.0313]) \n",
      "\n",
      "random sample with sample_shape (3,):\n",
      " tensor([[ 0.5562,  0.5906],\n",
      "        [ 0.9478,  1.6389],\n",
      "        [-1.3332, -0.2785]]) \n",
      "\n",
      "random sample with sample_shape (2,3):\n",
      " tensor([[[ 0.0256,  0.9709],\n",
      "         [-0.2821, -1.8753],\n",
      "         [ 0.8322,  2.2881]],\n",
      "\n",
      "        [[-0.1398,  1.5929],\n",
      "         [ 0.1419, -1.1636],\n",
      "         [-0.3617,  0.7002]]])\n"
     ]
    }
   ],
   "source": [
    "print(\"random sample with sample_shape ():\\n\",\n",
    "      normal_batch.sample(), \"\\n\")\n",
    "print(\"random sample with sample_shape (3,):\\n\",\n",
    "      normal_batch.sample(sample_shape=(3,)), \"\\n\")\n",
    "print(\"random sample with sample_shape (2,3):\\n\",\n",
    "      normal_batch.sample(sample_shape=(2,3)))\n"
   ]
  },
  {
   "cell_type": "code",
   "execution_count": 10,
   "metadata": {
    "collapsed": false,
    "execution": {
     "iopub.execute_input": "2020-09-28T06:16:17.109027Z",
     "iopub.status.busy": "2020-09-28T06:16:17.108442Z",
     "iopub.status.idle": "2020-09-28T06:16:17.113360Z",
     "shell.execute_reply": "2020-09-28T06:16:17.113777Z"
    },
    "pycharm": {
     "name": "#%%\n"
    }
   },
   "outputs": [
    {
     "name": "stdout",
     "output_type": "stream",
     "text": [
      "log-probability given value with shape ():\n",
      " tensor([-0.9189, -1.5466]) \n",
      "\n",
      "log-probability given value with shape (2,):\n",
      " tensor([-0.9189, -1.5466]) \n",
      "\n",
      "log-probability given value with shape (2,1):\n",
      " tensor([[-0.9189, -1.5466],\n",
      "        [-0.9189, -1.5466]])\n"
     ]
    }
   ],
   "source": [
    "print(\"log-probability given value with shape ():\\n\",\n",
    "      normal_batch.log_prob(0), \"\\n\")\n",
    "print(\"log-probability given value with shape (2,):\\n\",\n",
    "      normal_batch.log_prob(torch.Tensor([0, 0])), \"\\n\")\n",
    "print(\"log-probability given value with shape (2,1):\\n\",\n",
    "      normal_batch.log_prob(torch.Tensor([[0], [0]])))"
   ]
  },
  {
   "cell_type": "code",
   "execution_count": 11,
   "metadata": {
    "collapsed": false,
    "execution": {
     "iopub.execute_input": "2020-09-28T06:16:17.117723Z",
     "iopub.status.busy": "2020-09-28T06:16:17.117009Z",
     "iopub.status.idle": "2020-09-28T06:16:17.119461Z",
     "shell.execute_reply": "2020-09-28T06:16:17.119926Z"
    },
    "pycharm": {
     "name": "#%%\n"
    }
   },
   "outputs": [
    {
     "name": "stdout",
     "output_type": "stream",
     "text": [
      "MultivariateNormal(loc: torch.Size([2]), scale_tril: torch.Size([2, 2]))\n"
     ]
    }
   ],
   "source": [
    "from torch.distributions import MultivariateNormal\n",
    "mvn = MultivariateNormal(\n",
    "    loc=torch.Tensor([0, 1]),\n",
    "    scale_tril=torch.cholesky(torch.Tensor([[1., 0.], [0., .5]])))\n",
    "print(mvn)\n"
   ]
  },
  {
   "cell_type": "code",
   "execution_count": 12,
   "metadata": {
    "collapsed": false,
    "execution": {
     "iopub.execute_input": "2020-09-28T06:16:17.123579Z",
     "iopub.status.busy": "2020-09-28T06:16:17.122940Z",
     "iopub.status.idle": "2020-09-28T06:16:17.128810Z",
     "shell.execute_reply": "2020-09-28T06:16:17.129229Z"
    },
    "pycharm": {
     "name": "#%%\n"
    }
   },
   "outputs": [
    {
     "name": "stdout",
     "output_type": "stream",
     "text": [
      "random sample with sample_shape ():\n",
      " tensor([0.8104, 0.8740]) \n",
      "\n",
      "random sample with sample_shape (3,):\n",
      " tensor([[1.1261, 0.9605],\n",
      "        [1.1375, 0.6623],\n",
      "        [2.0399, 0.8764]]) \n",
      "\n",
      "random sample with sample_shape (2, 3):\n",
      " tensor([[[-0.4795,  0.7012],\n",
      "         [ 0.4866,  0.6868],\n",
      "         [ 1.5726,  1.4272]],\n",
      "\n",
      "        [[ 0.5580,  1.9129],\n",
      "         [-0.2727,  1.5926],\n",
      "         [-0.7278,  1.6601]]])\n"
     ]
    }
   ],
   "source": [
    "print(\"random sample with sample_shape ():\\n\",\n",
    "      mvn.sample(), \"\\n\")\n",
    "print(\"random sample with sample_shape (3,):\\n\",\n",
    "      mvn.sample(sample_shape=(3,)), \"\\n\")\n",
    "print(\"random sample with sample_shape (2, 3):\\n\",\n",
    "      mvn.sample(sample_shape=(2, 3)))"
   ]
  },
  {
   "cell_type": "code",
   "execution_count": 13,
   "metadata": {
    "collapsed": false,
    "execution": {
     "iopub.execute_input": "2020-09-28T06:16:17.132980Z",
     "iopub.status.busy": "2020-09-28T06:16:17.132298Z",
     "iopub.status.idle": "2020-09-28T06:16:17.136495Z",
     "shell.execute_reply": "2020-09-28T06:16:17.136988Z"
    },
    "pycharm": {
     "name": "#%%\n"
    }
   },
   "outputs": [
    {
     "name": "stdout",
     "output_type": "stream",
     "text": [
      "log-probability given value with shape (2,):\n",
      " tensor(-2.4913) \n",
      "\n",
      "log-probability given value with shape (2,1):\n",
      " tensor([-2.4913, -2.4913])\n"
     ]
    }
   ],
   "source": [
    "print(\"log-probability given value with shape (2,):\\n\",\n",
    "      mvn.log_prob(torch.Tensor([0, 0])), \"\\n\")\n",
    "print(\"log-probability given value with shape (2,1):\\n\",\n",
    "      mvn.log_prob(torch.Tensor([[0, 0], [0, 0]])))"
   ]
  },
  {
   "cell_type": "code",
   "execution_count": 14,
   "metadata": {
    "collapsed": false,
    "execution": {
     "iopub.execute_input": "2020-09-28T06:16:17.140877Z",
     "iopub.status.busy": "2020-09-28T06:16:17.140204Z",
     "iopub.status.idle": "2020-09-28T06:16:17.142362Z",
     "shell.execute_reply": "2020-09-28T06:16:17.142819Z"
    },
    "pycharm": {
     "name": "#%%\n"
    }
   },
   "outputs": [
    {
     "name": "stdout",
     "output_type": "stream",
     "text": [
      "torch.Size([])\n",
      "torch.Size([2])\n"
     ]
    }
   ],
   "source": [
    "from torch.distributions import Independent\n",
    "normal_batch = Independent(normal_batch, reinterpreted_batch_ndims=1)\n",
    "print(normal_batch.batch_shape)\n",
    "print(normal_batch.event_shape)\n"
   ]
  },
  {
   "cell_type": "code",
   "execution_count": 15,
   "metadata": {
    "collapsed": false,
    "execution": {
     "iopub.execute_input": "2020-09-28T06:16:17.146397Z",
     "iopub.status.busy": "2020-09-28T06:16:17.145820Z",
     "iopub.status.idle": "2020-09-28T06:16:17.153869Z",
     "shell.execute_reply": "2020-09-28T06:16:17.154326Z"
    },
    "pycharm": {
     "name": "#%%\n"
    }
   },
   "outputs": [
    {
     "data": {
      "text/plain": [
       "MultivariateNormal(loc: torch.Size([3, 2]), scale_tril: torch.Size([3, 2, 2]))"
      ]
     },
     "execution_count": 15,
     "metadata": {},
     "output_type": "execute_result"
    }
   ],
   "source": [
    "mvn_batch = MultivariateNormal(\n",
    "    loc=torch.Tensor([[0, 1],[1, 2],[2, 3]]),\n",
    "    scale_tril=torch.cholesky(torch.Tensor([[1., .2], [.2, .5]])))\n",
    "mvn_batch"
   ]
  },
  {
   "cell_type": "code",
   "execution_count": 16,
   "metadata": {
    "collapsed": false,
    "execution": {
     "iopub.execute_input": "2020-09-28T06:16:17.158188Z",
     "iopub.status.busy": "2020-09-28T06:16:17.157580Z",
     "iopub.status.idle": "2020-09-28T06:16:17.163462Z",
     "shell.execute_reply": "2020-09-28T06:16:17.163939Z"
    },
    "pycharm": {
     "name": "#%%\n"
    }
   },
   "outputs": [
    {
     "name": "stdout",
     "output_type": "stream",
     "text": [
      "random sample with sample_shape ():\n",
      " tensor([[0.4927, 0.8543],\n",
      "        [0.2390, 2.3257],\n",
      "        [3.7066, 2.8771]]) \n",
      "\n",
      "random sample with sample_shape (3,):\n",
      " tensor([[[0.4614, 1.7635],\n",
      "         [1.0031, 1.7796],\n",
      "         [2.5332, 3.9563]],\n",
      "\n",
      "        [[0.7801, 2.5183],\n",
      "         [1.8002, 2.7732],\n",
      "         [1.8520, 2.6230]],\n",
      "\n",
      "        [[1.0190, 1.7015],\n",
      "         [0.0054, 1.5790],\n",
      "         [2.3277, 3.8149]]]) \n",
      "\n",
      "random sample with sample_shape (2, 3):\n",
      " tensor([[[[ 0.1078,  1.2458],\n",
      "          [ 1.0050,  0.7558],\n",
      "          [ 1.3435,  3.0010]],\n",
      "\n",
      "         [[-0.9371,  0.2344],\n",
      "          [ 0.9650,  2.4869],\n",
      "          [ 2.6279,  2.9655]],\n",
      "\n",
      "         [[-0.4670,  1.3447],\n",
      "          [ 1.5154,  1.7639],\n",
      "          [ 2.4210,  2.8851]]],\n",
      "\n",
      "\n",
      "        [[[-1.0814, -0.0753],\n",
      "          [ 0.4217,  0.9100],\n",
      "          [ 1.6339,  3.4832]],\n",
      "\n",
      "         [[-1.3910,  0.7438],\n",
      "          [ 0.4115,  3.1093],\n",
      "          [ 1.6127,  2.8018]],\n",
      "\n",
      "         [[-0.3251,  1.0216],\n",
      "          [ 1.0163,  2.5736],\n",
      "          [ 2.3716,  3.2669]]]])\n"
     ]
    }
   ],
   "source": [
    "print(\"random sample with sample_shape ():\\n\",\n",
    "      mvn_batch.sample(), \"\\n\")\n",
    "print(\"random sample with sample_shape (3,):\\n\",\n",
    "      mvn_batch.sample(sample_shape=(3,)), \"\\n\")\n",
    "print(\"random sample with sample_shape (2, 3):\\n\",\n",
    "      mvn_batch.sample(sample_shape=(2, 3)))"
   ]
  },
  {
   "cell_type": "markdown",
   "metadata": {
    "collapsed": false,
    "pycharm": {
     "name": "#%% md\n"
    }
   },
   "source": [
    "## 計算最大概似估計值"
   ]
  },
  {
   "cell_type": "code",
   "execution_count": 17,
   "metadata": {
    "collapsed": false,
    "execution": {
     "iopub.execute_input": "2020-09-28T06:16:17.167677Z",
     "iopub.status.busy": "2020-09-28T06:16:17.167082Z",
     "iopub.status.idle": "2020-09-28T06:16:17.170206Z",
     "shell.execute_reply": "2020-09-28T06:16:17.170659Z"
    },
    "pycharm": {
     "name": "#%%\n"
    }
   },
   "outputs": [
    {
     "name": "stdout",
     "output_type": "stream",
     "text": [
      "normal model:\n",
      " Normal(loc: tensor([5.]), scale: tensor([2.])) \n",
      "\n"
     ]
    }
   ],
   "source": [
    "mu_true = torch.tensor([5.])\n",
    "sigma_true = torch.tensor([2.])\n",
    "model_normal_true = Normal(\n",
    "    loc=mu_true,\n",
    "    scale=sigma_true)\n",
    "print(\"normal model:\\n\", model_normal_true, \"\\n\")"
   ]
  },
  {
   "cell_type": "code",
   "execution_count": 18,
   "metadata": {
    "collapsed": false,
    "execution": {
     "iopub.execute_input": "2020-09-28T06:16:17.174382Z",
     "iopub.status.busy": "2020-09-28T06:16:17.173723Z",
     "iopub.status.idle": "2020-09-28T06:16:17.177003Z",
     "shell.execute_reply": "2020-09-28T06:16:17.177468Z"
    },
    "pycharm": {
     "name": "#%%\n"
    }
   },
   "outputs": [
    {
     "name": "stdout",
     "output_type": "stream",
     "text": [
      "negative likelihood value is tensor(2.0444)\n"
     ]
    }
   ],
   "source": [
    "sample_size = 1000\n",
    "x = model_normal_true.sample(sample_shape=(sample_size,))\n",
    "loss_value = -torch.mean(torch.sum(model_normal_true.log_prob(x), dim = 1))\n",
    "print(\"negative likelihood value is\", loss_value)\n"
   ]
  },
  {
   "cell_type": "code",
   "execution_count": 19,
   "metadata": {
    "collapsed": false,
    "execution": {
     "iopub.execute_input": "2020-09-28T06:16:17.182221Z",
     "iopub.status.busy": "2020-09-28T06:16:17.181593Z",
     "iopub.status.idle": "2020-09-28T06:16:17.266199Z",
     "shell.execute_reply": "2020-09-28T06:16:17.266655Z"
    },
    "pycharm": {
     "name": "#%%\n"
    }
   },
   "outputs": [],
   "source": [
    "epochs = 200\n",
    "lr = 1.0\n",
    "mu = torch.tensor([0.], requires_grad=True)\n",
    "sigma = torch.tensor([1.], requires_grad=True)\n",
    "opt = torch.optim.Adam([mu, sigma], lr=.5)\n",
    "for epoch in range(epochs):\n",
    "    model_normal = Normal(loc=mu, scale=sigma)\n",
    "    loss_value = -torch.mean(model_normal.log_prob(x))\n",
    "    opt.zero_grad()\n",
    "    loss_value.backward() # compute the gradient\n",
    "    opt.step()"
   ]
  },
  {
   "cell_type": "code",
   "execution_count": 20,
   "metadata": {
    "collapsed": false,
    "execution": {
     "iopub.execute_input": "2020-09-28T06:16:17.270597Z",
     "iopub.status.busy": "2020-09-28T06:16:17.269679Z",
     "iopub.status.idle": "2020-09-28T06:16:17.273928Z",
     "shell.execute_reply": "2020-09-28T06:16:17.274387Z"
    },
    "pycharm": {
     "name": "#%%\n"
    }
   },
   "outputs": [
    {
     "name": "stdout",
     "output_type": "stream",
     "text": [
      "ML mean by gradient descent: tensor([5.0044], requires_grad=True)\n",
      "ML std by gradient descent: tensor([1.8556], requires_grad=True)\n"
     ]
    }
   ],
   "source": [
    "print(\"ML mean by gradient descent:\", mu)\n",
    "print(\"ML std by gradient descent:\", sigma)"
   ]
  },
  {
   "cell_type": "code",
   "execution_count": 21,
   "metadata": {
    "collapsed": false,
    "execution": {
     "iopub.execute_input": "2020-09-28T06:16:17.277765Z",
     "iopub.status.busy": "2020-09-28T06:16:17.277075Z",
     "iopub.status.idle": "2020-09-28T06:16:17.280633Z",
     "shell.execute_reply": "2020-09-28T06:16:17.281095Z"
    },
    "pycharm": {
     "name": "#%%\n"
    }
   },
   "outputs": [
    {
     "name": "stdout",
     "output_type": "stream",
     "text": [
      "ML mean by formula: tensor(5.0043)\n",
      "ML std by formula: tensor(1.8598)\n"
     ]
    }
   ],
   "source": [
    "print(\"ML mean by formula:\", torch.mean(x))\n",
    "print(\"ML std by formula:\", torch.std(x, unbiased=False))"
   ]
  },
  {
   "cell_type": "code",
   "execution_count": 22,
   "metadata": {
    "collapsed": false,
    "execution": {
     "iopub.execute_input": "2020-09-28T06:16:17.285234Z",
     "iopub.status.busy": "2020-09-28T06:16:17.284604Z",
     "iopub.status.idle": "2020-09-28T06:16:17.288397Z",
     "shell.execute_reply": "2020-09-28T06:16:17.288858Z"
    },
    "pycharm": {
     "name": "#%%\n"
    }
   },
   "outputs": [
    {
     "name": "stdout",
     "output_type": "stream",
     "text": [
      "true mean vector: \n",
      " tensor([-1.,  0.,  1.])\n",
      "true covariance matrix: \n",
      " tensor([[9.0000, 6.0000, 1.2000],\n",
      "        [6.0000, 5.0000, 1.3000],\n",
      "        [1.2000, 1.3000, 0.6600]])\n"
     ]
    }
   ],
   "source": [
    "mu_true = torch.tensor([-1., 0., 1.])\n",
    "sigma_tril_true = torch.tensor([[3., 0., 0.], [2., 1., 0.], [.4, .5, .5]])\n",
    "model_mvn_true = MultivariateNormal(\n",
    "    loc=mu_true,\n",
    "    scale_tril=sigma_tril_true)\n",
    "print(\"true mean vector: \\n\", model_mvn_true.mean)\n",
    "print(\"true covariance matrix: \\n\", model_mvn_true.covariance_matrix)"
   ]
  },
  {
   "cell_type": "code",
   "execution_count": 23,
   "metadata": {
    "collapsed": false,
    "execution": {
     "iopub.execute_input": "2020-09-28T06:16:17.292446Z",
     "iopub.status.busy": "2020-09-28T06:16:17.291756Z",
     "iopub.status.idle": "2020-09-28T06:16:17.296219Z",
     "shell.execute_reply": "2020-09-28T06:16:17.296707Z"
    },
    "pycharm": {
     "name": "#%%\n"
    }
   },
   "outputs": [
    {
     "name": "stdout",
     "output_type": "stream",
     "text": [
      "negative likelihood value is tensor(4.6625)\n"
     ]
    }
   ],
   "source": [
    "sample_size = 1000\n",
    "x = model_mvn_true.sample(sample_shape=(sample_size,))\n",
    "loss_value = -torch.mean(model_mvn_true.log_prob(x))\n",
    "print(\"negative likelihood value is\", loss_value)\n"
   ]
  },
  {
   "cell_type": "code",
   "execution_count": 24,
   "metadata": {
    "collapsed": false,
    "execution": {
     "iopub.execute_input": "2020-09-28T06:16:17.301758Z",
     "iopub.status.busy": "2020-09-28T06:16:17.301057Z",
     "iopub.status.idle": "2020-09-28T06:16:17.674298Z",
     "shell.execute_reply": "2020-09-28T06:16:17.674744Z"
    },
    "pycharm": {
     "name": "#%%\n"
    }
   },
   "outputs": [],
   "source": [
    "epochs = 500\n",
    "lr = .1\n",
    "mu = torch.tensor(\n",
    "    [0., 0., 0.], requires_grad=True)\n",
    "sigma_tril = torch.tensor(\n",
    "    [[1., 0., 0.], [0., 1., 0.], [0., 0., 1.]],\n",
    "    requires_grad=True)\n",
    "opt = torch.optim.Adam([mu, sigma_tril], lr=lr)\n",
    "\n",
    "for epoch in range(epochs):\n",
    "    model_mvn = MultivariateNormal(\n",
    "    loc=mu,\n",
    "    scale_tril=sigma_tril)\n",
    "    loss_value = -torch.mean(model_mvn.log_prob(x))\n",
    "    opt.zero_grad()\n",
    "    loss_value.backward() # compute the gradient\n",
    "    opt.step()"
   ]
  },
  {
   "cell_type": "code",
   "execution_count": 25,
   "metadata": {
    "collapsed": false,
    "execution": {
     "iopub.execute_input": "2020-09-28T06:16:17.678335Z",
     "iopub.status.busy": "2020-09-28T06:16:17.677637Z",
     "iopub.status.idle": "2020-09-28T06:16:17.681592Z",
     "shell.execute_reply": "2020-09-28T06:16:17.682063Z"
    },
    "pycharm": {
     "name": "#%%\n"
    }
   },
   "outputs": [
    {
     "name": "stdout",
     "output_type": "stream",
     "text": [
      "ML mean by gradient descent: \n",
      " tensor([-1.0107,  0.0472,  1.0554], requires_grad=True)\n",
      "ML covariance by gradient descent: \n",
      " tensor([[8.5641, 5.7108, 1.1811],\n",
      "        [5.7108, 4.8554, 1.2967],\n",
      "        [1.1811, 1.2967, 0.6589]], grad_fn=<MmBackward>)\n"
     ]
    }
   ],
   "source": [
    "print(\"ML mean by gradient descent: \\n\",\n",
    "      mu)\n",
    "print(\"ML covariance by gradient descent: \\n\",\n",
    "      sigma_tril @ torch.transpose(sigma_tril, 0, 1))"
   ]
  },
  {
   "cell_type": "code",
   "execution_count": 26,
   "metadata": {
    "collapsed": false,
    "execution": {
     "iopub.execute_input": "2020-09-28T06:16:17.686001Z",
     "iopub.status.busy": "2020-09-28T06:16:17.685324Z",
     "iopub.status.idle": "2020-09-28T06:16:17.689272Z",
     "shell.execute_reply": "2020-09-28T06:16:17.689736Z"
    },
    "pycharm": {
     "name": "#%%\n"
    }
   },
   "outputs": [
    {
     "name": "stdout",
     "output_type": "stream",
     "text": [
      "ML mean by formula: \n",
      " tensor([-1.0107,  0.0472,  1.0554])\n",
      "ML covariance by formula: \n",
      " tensor([[8.5641, 5.7108, 1.1811],\n",
      "        [5.7108, 4.8554, 1.2967],\n",
      "        [1.1811, 1.2967, 0.6589]])\n"
     ]
    }
   ],
   "source": [
    "sample_mean = torch.mean(x, dim = 0)\n",
    "sample_moment2 = (torch.transpose(x, 0, 1) @ x) / sample_size\n",
    "sample_cov = sample_moment2 - torch.ger(sample_mean, sample_mean)\n",
    "print(\"ML mean by formula: \\n\",\n",
    "      sample_mean)\n",
    "print(\"ML covariance by formula: \\n\",\n",
    "      sample_cov)\n"
   ]
  },
  {
   "cell_type": "markdown",
   "metadata": {
    "collapsed": false,
    "pycharm": {
     "name": "#%% md\n"
    }
   },
   "source": [
    "## 實徵範例"
   ]
  },
  {
   "cell_type": "markdown",
   "metadata": {
    "collapsed": false,
    "pycharm": {
     "name": "#%% md\n"
    }
   },
   "source": [
    "### 產生邏吉斯迴歸資料"
   ]
  },
  {
   "cell_type": "code",
   "execution_count": 27,
   "metadata": {
    "collapsed": false,
    "execution": {
     "iopub.execute_input": "2020-09-28T06:16:17.693024Z",
     "iopub.status.busy": "2020-09-28T06:16:17.692375Z",
     "iopub.status.idle": "2020-09-28T06:16:17.696398Z",
     "shell.execute_reply": "2020-09-28T06:16:17.695925Z"
    },
    "pycharm": {
     "name": "#%%\n"
    }
   },
   "outputs": [
    {
     "data": {
      "text/plain": [
       "<torch._C.Generator at 0x7feca8e86fb0>"
      ]
     },
     "execution_count": 27,
     "metadata": {},
     "output_type": "execute_result"
    }
   ],
   "source": [
    "torch.manual_seed(48)"
   ]
  },
  {
   "cell_type": "code",
   "execution_count": 28,
   "metadata": {
    "collapsed": false,
    "execution": {
     "iopub.execute_input": "2020-09-28T06:16:17.701378Z",
     "iopub.status.busy": "2020-09-28T06:16:17.700711Z",
     "iopub.status.idle": "2020-09-28T06:16:17.702475Z",
     "shell.execute_reply": "2020-09-28T06:16:17.702938Z"
    },
    "pycharm": {
     "name": "#%%\n"
    }
   },
   "outputs": [],
   "source": [
    "from torch.distributions import Bernoulli\n",
    "def generate_data(n_sample,\n",
    "                  weight,\n",
    "                  bias = 0,\n",
    "                  mean_feature = 0,\n",
    "                  std_feature = 1,\n",
    "                  dtype = torch.float64):\n",
    "    weight = torch.tensor(weight, dtype = dtype)\n",
    "    n_feature = weight.shape[0]\n",
    "    x = torch.normal(mean = mean_feature,\n",
    "                     std = std_feature,\n",
    "                     size = (n_sample, n_feature),\n",
    "                     dtype = dtype)\n",
    "    weight = weight.view(size = (-1, 1))\n",
    "    logit = bias + x @ weight\n",
    "    bernoulli = Bernoulli(logits = logit)\n",
    "    y = bernoulli.sample()\n",
    "    return x, y"
   ]
  },
  {
   "cell_type": "code",
   "execution_count": 29,
   "metadata": {
    "collapsed": false,
    "execution": {
     "iopub.execute_input": "2020-09-28T06:16:17.706516Z",
     "iopub.status.busy": "2020-09-28T06:16:17.705847Z",
     "iopub.status.idle": "2020-09-28T06:16:17.708260Z",
     "shell.execute_reply": "2020-09-28T06:16:17.708704Z"
    },
    "pycharm": {
     "name": "#%%\n"
    }
   },
   "outputs": [],
   "source": [
    "# run generate_data\n",
    "x, y = generate_data(n_sample = 1000,\n",
    "                     weight = [-5, 3, 0],\n",
    "                     bias = 2,\n",
    "                     mean_feature = 10,\n",
    "                     std_feature = 3,\n",
    "                     dtype = torch.float64)"
   ]
  },
  {
   "cell_type": "markdown",
   "metadata": {
    "collapsed": false
   },
   "source": [
    "### 建立一進行邏吉斯迴歸分析之物件"
   ]
  },
  {
   "cell_type": "code",
   "execution_count": 30,
   "metadata": {
    "collapsed": false,
    "execution": {
     "iopub.execute_input": "2020-09-28T06:16:17.715758Z",
     "iopub.status.busy": "2020-09-28T06:16:17.715088Z",
     "iopub.status.idle": "2020-09-28T06:16:17.716962Z",
     "shell.execute_reply": "2020-09-28T06:16:17.717504Z"
    },
    "pycharm": {
     "name": "#%%\n"
    }
   },
   "outputs": [],
   "source": [
    "# define a class to fit logistic regression\n",
    "class LogisticRegression():\n",
    "    def __init__(self, dtype = torch.float64):\n",
    "        self.dtype = dtype\n",
    "        self.weight = None\n",
    "        self.bias = None\n",
    "    def log_lik(self, x, y):\n",
    "        logit = self.bias + x @ self.weight\n",
    "        bernoulli = Bernoulli(logits = logit)\n",
    "        return torch.mean(bernoulli.log_prob(y))\n",
    "    def fit(self, x, y, epochs = 200, lr = .1):\n",
    "        if x.dtype is not self.dtype:\n",
    "            x = x.type(dtype = self.dtype)\n",
    "        if y.dtype is not self.dtype:\n",
    "            y = y.type(dtype = self.dtype)\n",
    "        n_feature = x.size()[1]\n",
    "        self.bias = torch.zeros(size = (1,),\n",
    "                                dtype = self.dtype,\n",
    "                                requires_grad = True)\n",
    "        self.weight = torch.zeros(size = (n_feature, 1),\n",
    "                                  dtype = self.dtype,\n",
    "                                  requires_grad = True)\n",
    "        opt = torch.optim.Adam([self.bias, self.weight], lr=lr)\n",
    "        for epoch in range(epochs):\n",
    "            loss_value = - self.log_lik(x, y)\n",
    "            opt.zero_grad()\n",
    "            loss_value.backward() # compute the gradient\n",
    "            opt.step()\n",
    "        return self"
   ]
  },
  {
   "cell_type": "markdown",
   "metadata": {
    "collapsed": false
   },
   "source": [
    "### 計算模型參數"
   ]
  },
  {
   "cell_type": "code",
   "execution_count": 31,
   "metadata": {
    "collapsed": false,
    "execution": {
     "iopub.execute_input": "2020-09-28T06:16:17.721135Z",
     "iopub.status.busy": "2020-09-28T06:16:17.720446Z",
     "iopub.status.idle": "2020-09-28T06:16:18.413192Z",
     "shell.execute_reply": "2020-09-28T06:16:18.413665Z"
    },
    "pycharm": {
     "name": "#%%\n"
    }
   },
   "outputs": [
    {
     "name": "stdout",
     "output_type": "stream",
     "text": [
      "tensor([3.8176], dtype=torch.float64, requires_grad=True)\n",
      "tensor([[-4.6982],\n",
      "        [ 2.6668],\n",
      "        [-0.0054]], dtype=torch.float64, requires_grad=True)\n"
     ]
    }
   ],
   "source": [
    "# fit logistic model\n",
    "model_lr = LogisticRegression()\n",
    "model_lr.fit(x, y, epochs = 2000, lr = 1)\n",
    "print(model_lr.bias)\n",
    "print(model_lr.weight)"
   ]
  },
  {
   "cell_type": "code",
   "execution_count": 32,
   "metadata": {
    "collapsed": false,
    "execution": {
     "iopub.execute_input": "2020-09-28T06:16:18.417299Z",
     "iopub.status.busy": "2020-09-28T06:16:18.416664Z",
     "iopub.status.idle": "2020-09-28T06:16:22.381521Z",
     "shell.execute_reply": "2020-09-28T06:16:22.382168Z"
    },
    "pycharm": {
     "name": "#%%\n"
    }
   },
   "outputs": [
    {
     "name": "stdout",
     "output_type": "stream",
     "text": [
      "[3.81736449]\n",
      "[[-4.69795962  2.66667074 -0.00543114]]\n"
     ]
    },
    {
     "name": "stderr",
     "output_type": "stream",
     "text": [
      "/Users/phhaung/Documents/PycharmProject/tism/venv/lib/python3.8/site-packages/sklearn/utils/validation.py:72: DataConversionWarning: A column-vector y was passed when a 1d array was expected. Please change the shape of y to (n_samples, ), for example using ravel().\n",
      "  return f(**kwargs)\n"
     ]
    }
   ],
   "source": [
    "# fit logistic model via sklearn\n",
    "# please install sklearn first\n",
    "from sklearn import linear_model\n",
    "model_lr_sklearn = linear_model.LogisticRegression(C=10000)\n",
    "model_lr_sklearn.fit(x, y)\n",
    "print(model_lr_sklearn.intercept_)\n",
    "print(model_lr_sklearn.coef_)"
   ]
  }
 ],
 "metadata": {
  "kernelspec": {
   "display_name": "Python 3",
   "language": "python",
   "name": "python3"
  },
  "language_info": {
   "codemirror_mode": {
    "name": "ipython",
    "version": 3
   },
   "file_extension": ".py",
   "mimetype": "text/x-python",
   "name": "python",
   "nbconvert_exporter": "python",
   "pygments_lexer": "ipython3",
   "version": "3.8.5"
  }
 },
 "nbformat": 4,
 "nbformat_minor": 0
}