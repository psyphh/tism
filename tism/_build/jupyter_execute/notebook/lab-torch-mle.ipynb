{
 "cells": [
  {
   "cell_type": "markdown",
   "metadata": {
    "collapsed": false
   },
   "source": [
    "Lab: 最大概似估計\n",
    "================"
   ]
  },
  {
   "cell_type": "code",
   "execution_count": 1,
   "metadata": {
    "collapsed": true,
    "execution": {
     "iopub.execute_input": "2020-09-28T09:35:33.826729Z",
     "iopub.status.busy": "2020-09-28T09:35:33.826163Z",
     "iopub.status.idle": "2020-09-28T09:35:34.128990Z",
     "shell.execute_reply": "2020-09-28T09:35:34.129418Z"
    }
   },
   "outputs": [],
   "source": [
    "import torch"
   ]
  },
  {
   "cell_type": "markdown",
   "metadata": {
    "collapsed": false,
    "pycharm": {
     "name": "#%% md\n"
    }
   },
   "source": [
    "## `torch` 分配物件"
   ]
  },
  {
   "cell_type": "code",
   "execution_count": 2,
   "metadata": {
    "collapsed": false,
    "execution": {
     "iopub.execute_input": "2020-09-28T09:35:34.134036Z",
     "iopub.status.busy": "2020-09-28T09:35:34.133181Z",
     "iopub.status.idle": "2020-09-28T09:35:34.135330Z",
     "shell.execute_reply": "2020-09-28T09:35:34.135815Z"
    },
    "pycharm": {
     "name": "#%%\n"
    }
   },
   "outputs": [],
   "source": [
    "from torch.distributions import Normal\n",
    "normal = Normal(loc=0., scale=1.)"
   ]
  },
  {
   "cell_type": "code",
   "execution_count": 3,
   "metadata": {
    "collapsed": false,
    "execution": {
     "iopub.execute_input": "2020-09-28T09:35:34.140620Z",
     "iopub.status.busy": "2020-09-28T09:35:34.139741Z",
     "iopub.status.idle": "2020-09-28T09:35:34.146606Z",
     "shell.execute_reply": "2020-09-28T09:35:34.147029Z"
    },
    "pycharm": {
     "name": "#%%\n"
    }
   },
   "outputs": [
    {
     "name": "stdout",
     "output_type": "stream",
     "text": [
      "random sample with shape ():\n",
      " tensor(-1.8298)\n",
      "random sample with shape (3,):\n",
      " tensor([-0.8925,  0.4637, -1.3890])\n",
      "random sample with shape (2,3):\n",
      " tensor([[ 1.1207, -0.4670, -1.5655],\n",
      "        [-0.7139,  0.3801,  1.1125]])\n"
     ]
    }
   ],
   "source": [
    "print(\"random sample with shape ():\\n\",\n",
    "      normal.sample())\n",
    "print(\"random sample with shape (3,):\\n\",\n",
    "      normal.sample(sample_shape=(3,)))\n",
    "print(\"random sample with shape (2,3):\\n\",\n",
    "      normal.sample(sample_shape=(2, 3)))"
   ]
  },
  {
   "cell_type": "code",
   "execution_count": 4,
   "metadata": {
    "collapsed": false,
    "execution": {
     "iopub.execute_input": "2020-09-28T09:35:34.152021Z",
     "iopub.status.busy": "2020-09-28T09:35:34.151261Z",
     "iopub.status.idle": "2020-09-28T09:35:34.157752Z",
     "shell.execute_reply": "2020-09-28T09:35:34.158195Z"
    },
    "pycharm": {
     "name": "#%%\n"
    }
   },
   "outputs": [
    {
     "name": "stdout",
     "output_type": "stream",
     "text": [
      "cumulative probability given value with shape ():\n",
      " tensor(0.5000) \n",
      "\n",
      "cumulative probability given value with (3,):\n",
      " tensor([0.1587, 0.5000, 0.6915]) \n",
      "\n",
      "cumulative probability given value with (2,3):\n",
      " tensor([[0.1587, 0.5000, 0.6915],\n",
      "        [0.0228, 0.8413, 0.9987]])\n"
     ]
    }
   ],
   "source": [
    "print(\"cumulative probability given value with shape ():\\n\",\n",
    "      normal.cdf(value=0), \"\\n\")\n",
    "print(\"cumulative probability given value with (3,):\\n\",\n",
    "      normal.cdf(value=torch.Tensor([-1, 0, .5])), \"\\n\")\n",
    "print(\"cumulative probability given value with (2,3):\\n\",\n",
    "      normal.cdf(value=torch.Tensor([[-1, 0, .5], [-2, 1, 3]])))"
   ]
  },
  {
   "cell_type": "code",
   "execution_count": 5,
   "metadata": {
    "collapsed": false,
    "execution": {
     "iopub.execute_input": "2020-09-28T09:35:34.162515Z",
     "iopub.status.busy": "2020-09-28T09:35:34.161877Z",
     "iopub.status.idle": "2020-09-28T09:35:34.167575Z",
     "shell.execute_reply": "2020-09-28T09:35:34.167113Z"
    },
    "pycharm": {
     "name": "#%%\n"
    }
   },
   "outputs": [
    {
     "name": "stdout",
     "output_type": "stream",
     "text": [
      "cumulative probability given value with shape ():\n",
      " tensor(-0.9189) \n",
      "\n",
      "cumulative probability given value with (3,):\n",
      " tensor([-1.4189, -0.9189, -1.0439]) \n",
      "\n",
      "cumulative probability given value with (2,3):\n",
      " tensor([[-1.4189, -0.9189, -1.0439],\n",
      "        [-2.9189, -1.4189, -5.4189]])\n"
     ]
    }
   ],
   "source": [
    "print(\"cumulative probability given value with shape ():\\n\",\n",
    "      normal.log_prob(value=0), \"\\n\")\n",
    "print(\"cumulative probability given value with (3,):\\n\",\n",
    "      normal.log_prob(value=torch.Tensor([-1, 0, .5])), \"\\n\")\n",
    "print(\"cumulative probability given value with (2,3):\\n\",\n",
    "      normal.log_prob(value=torch.Tensor([[-1, 0, .5], [-2, 1, 3]])))"
   ]
  },
  {
   "cell_type": "code",
   "execution_count": 6,
   "metadata": {
    "collapsed": false,
    "execution": {
     "iopub.execute_input": "2020-09-28T09:35:34.171834Z",
     "iopub.status.busy": "2020-09-28T09:35:34.171097Z",
     "iopub.status.idle": "2020-09-28T09:35:34.173684Z",
     "shell.execute_reply": "2020-09-28T09:35:34.174147Z"
    },
    "pycharm": {
     "name": "#%%\n"
    }
   },
   "outputs": [
    {
     "name": "stdout",
     "output_type": "stream",
     "text": [
      "Normal(loc: 0.0, scale: 1.0)\n"
     ]
    }
   ],
   "source": [
    "print(normal)"
   ]
  },
  {
   "cell_type": "code",
   "execution_count": 7,
   "metadata": {
    "collapsed": false,
    "execution": {
     "iopub.execute_input": "2020-09-28T09:35:34.178560Z",
     "iopub.status.busy": "2020-09-28T09:35:34.177812Z",
     "iopub.status.idle": "2020-09-28T09:35:34.180524Z",
     "shell.execute_reply": "2020-09-28T09:35:34.180953Z"
    },
    "pycharm": {
     "name": "#%%\n"
    }
   },
   "outputs": [
    {
     "name": "stdout",
     "output_type": "stream",
     "text": [
      "torch.Size([])\n",
      "torch.Size([])\n"
     ]
    }
   ],
   "source": [
    "print(normal.batch_shape)\n",
    "print(normal.event_shape)"
   ]
  },
  {
   "cell_type": "code",
   "execution_count": 8,
   "metadata": {
    "collapsed": false,
    "execution": {
     "iopub.execute_input": "2020-09-28T09:35:34.184947Z",
     "iopub.status.busy": "2020-09-28T09:35:34.184348Z",
     "iopub.status.idle": "2020-09-28T09:35:34.186547Z",
     "shell.execute_reply": "2020-09-28T09:35:34.186992Z"
    },
    "pycharm": {
     "name": "#%%\n"
    }
   },
   "outputs": [
    {
     "name": "stdout",
     "output_type": "stream",
     "text": [
      "Normal(loc: torch.Size([2]), scale: torch.Size([2]))\n"
     ]
    }
   ],
   "source": [
    "normal_batch = Normal(loc=torch.Tensor([0., 1.]), scale=torch.Tensor([1., 1.5]))\n",
    "print(normal_batch)"
   ]
  },
  {
   "cell_type": "code",
   "execution_count": 9,
   "metadata": {
    "collapsed": false,
    "execution": {
     "iopub.execute_input": "2020-09-28T09:35:34.191004Z",
     "iopub.status.busy": "2020-09-28T09:35:34.190254Z",
     "iopub.status.idle": "2020-09-28T09:35:34.195232Z",
     "shell.execute_reply": "2020-09-28T09:35:34.195709Z"
    },
    "pycharm": {
     "name": "#%%\n"
    }
   },
   "outputs": [
    {
     "name": "stdout",
     "output_type": "stream",
     "text": [
      "random sample with sample_shape ():\n",
      " tensor([-0.8357, -1.2257]) \n",
      "\n",
      "random sample with sample_shape (3,):\n",
      " tensor([[-0.4238,  0.3947],\n",
      "        [ 0.1365, -0.8724],\n",
      "        [ 0.6504,  0.6819]]) \n",
      "\n",
      "random sample with sample_shape (2,3):\n",
      " tensor([[[ 0.7630, -1.2074],\n",
      "         [-0.4039,  2.7326],\n",
      "         [-2.4301,  1.1138]],\n",
      "\n",
      "        [[ 0.1333, -0.1076],\n",
      "         [-0.9569,  1.0467],\n",
      "         [-0.9119, -0.0142]]])\n"
     ]
    }
   ],
   "source": [
    "print(\"random sample with sample_shape ():\\n\",\n",
    "      normal_batch.sample(), \"\\n\")\n",
    "print(\"random sample with sample_shape (3,):\\n\",\n",
    "      normal_batch.sample(sample_shape=(3,)), \"\\n\")\n",
    "print(\"random sample with sample_shape (2,3):\\n\",\n",
    "      normal_batch.sample(sample_shape=(2,3)))\n"
   ]
  },
  {
   "cell_type": "code",
   "execution_count": 10,
   "metadata": {
    "collapsed": false,
    "execution": {
     "iopub.execute_input": "2020-09-28T09:35:34.199872Z",
     "iopub.status.busy": "2020-09-28T09:35:34.199175Z",
     "iopub.status.idle": "2020-09-28T09:35:34.204467Z",
     "shell.execute_reply": "2020-09-28T09:35:34.204907Z"
    },
    "pycharm": {
     "name": "#%%\n"
    }
   },
   "outputs": [
    {
     "name": "stdout",
     "output_type": "stream",
     "text": [
      "log-probability given value with shape ():\n",
      " tensor([-0.9189, -1.5466]) \n",
      "\n",
      "log-probability given value with shape (2,):\n",
      " tensor([-0.9189, -1.5466]) \n",
      "\n",
      "log-probability given value with shape (2,1):\n",
      " tensor([[-0.9189, -1.5466],\n",
      "        [-0.9189, -1.5466]])\n"
     ]
    }
   ],
   "source": [
    "print(\"log-probability given value with shape ():\\n\",\n",
    "      normal_batch.log_prob(0), \"\\n\")\n",
    "print(\"log-probability given value with shape (2,):\\n\",\n",
    "      normal_batch.log_prob(torch.Tensor([0, 0])), \"\\n\")\n",
    "print(\"log-probability given value with shape (2,1):\\n\",\n",
    "      normal_batch.log_prob(torch.Tensor([[0], [0]])))"
   ]
  },
  {
   "cell_type": "code",
   "execution_count": 11,
   "metadata": {
    "collapsed": false,
    "execution": {
     "iopub.execute_input": "2020-09-28T09:35:34.209177Z",
     "iopub.status.busy": "2020-09-28T09:35:34.208530Z",
     "iopub.status.idle": "2020-09-28T09:35:34.210955Z",
     "shell.execute_reply": "2020-09-28T09:35:34.211395Z"
    },
    "pycharm": {
     "name": "#%%\n"
    }
   },
   "outputs": [
    {
     "name": "stdout",
     "output_type": "stream",
     "text": [
      "MultivariateNormal(loc: torch.Size([2]), scale_tril: torch.Size([2, 2]))\n"
     ]
    }
   ],
   "source": [
    "from torch.distributions import MultivariateNormal\n",
    "mvn = MultivariateNormal(\n",
    "    loc=torch.Tensor([0, 1]),\n",
    "    scale_tril=torch.cholesky(torch.Tensor([[1., 0.], [0., .5]])))\n",
    "print(mvn)\n"
   ]
  },
  {
   "cell_type": "code",
   "execution_count": 12,
   "metadata": {
    "collapsed": false,
    "execution": {
     "iopub.execute_input": "2020-09-28T09:35:34.215192Z",
     "iopub.status.busy": "2020-09-28T09:35:34.214581Z",
     "iopub.status.idle": "2020-09-28T09:35:34.220287Z",
     "shell.execute_reply": "2020-09-28T09:35:34.220749Z"
    },
    "pycharm": {
     "name": "#%%\n"
    }
   },
   "outputs": [
    {
     "name": "stdout",
     "output_type": "stream",
     "text": [
      "random sample with sample_shape ():\n",
      " tensor([0.2843, 0.8909]) \n",
      "\n",
      "random sample with sample_shape (3,):\n",
      " tensor([[-0.1150,  0.2172],\n",
      "        [-0.0252, -0.1034],\n",
      "        [ 0.4730,  0.4007]]) \n",
      "\n",
      "random sample with sample_shape (2, 3):\n",
      " tensor([[[ 0.6561,  0.3213],\n",
      "         [ 0.1755, -0.0363],\n",
      "         [ 1.2135,  0.5264]],\n",
      "\n",
      "        [[ 0.2440,  1.1450],\n",
      "         [ 0.7525,  1.8254],\n",
      "         [ 0.1223,  0.5367]]])\n"
     ]
    }
   ],
   "source": [
    "print(\"random sample with sample_shape ():\\n\",\n",
    "      mvn.sample(), \"\\n\")\n",
    "print(\"random sample with sample_shape (3,):\\n\",\n",
    "      mvn.sample(sample_shape=(3,)), \"\\n\")\n",
    "print(\"random sample with sample_shape (2, 3):\\n\",\n",
    "      mvn.sample(sample_shape=(2, 3)))"
   ]
  },
  {
   "cell_type": "code",
   "execution_count": 13,
   "metadata": {
    "collapsed": false,
    "execution": {
     "iopub.execute_input": "2020-09-28T09:35:34.224561Z",
     "iopub.status.busy": "2020-09-28T09:35:34.223935Z",
     "iopub.status.idle": "2020-09-28T09:35:34.228252Z",
     "shell.execute_reply": "2020-09-28T09:35:34.228719Z"
    },
    "pycharm": {
     "name": "#%%\n"
    }
   },
   "outputs": [
    {
     "name": "stdout",
     "output_type": "stream",
     "text": [
      "log-probability given value with shape (2,):\n",
      " tensor(-2.4913) \n",
      "\n",
      "log-probability given value with shape (2,1):\n",
      " tensor([-2.4913, -2.4913])\n"
     ]
    }
   ],
   "source": [
    "print(\"log-probability given value with shape (2,):\\n\",\n",
    "      mvn.log_prob(torch.Tensor([0, 0])), \"\\n\")\n",
    "print(\"log-probability given value with shape (2,1):\\n\",\n",
    "      mvn.log_prob(torch.Tensor([[0, 0], [0, 0]])))"
   ]
  },
  {
   "cell_type": "code",
   "execution_count": 14,
   "metadata": {
    "collapsed": false,
    "execution": {
     "iopub.execute_input": "2020-09-28T09:35:34.232438Z",
     "iopub.status.busy": "2020-09-28T09:35:34.231810Z",
     "iopub.status.idle": "2020-09-28T09:35:34.233878Z",
     "shell.execute_reply": "2020-09-28T09:35:34.234333Z"
    },
    "pycharm": {
     "name": "#%%\n"
    }
   },
   "outputs": [
    {
     "name": "stdout",
     "output_type": "stream",
     "text": [
      "torch.Size([])\n",
      "torch.Size([2])\n"
     ]
    }
   ],
   "source": [
    "from torch.distributions import Independent\n",
    "normal_batch = Independent(normal_batch, reinterpreted_batch_ndims=1)\n",
    "print(normal_batch.batch_shape)\n",
    "print(normal_batch.event_shape)\n"
   ]
  },
  {
   "cell_type": "code",
   "execution_count": 15,
   "metadata": {
    "collapsed": false,
    "execution": {
     "iopub.execute_input": "2020-09-28T09:35:34.237997Z",
     "iopub.status.busy": "2020-09-28T09:35:34.237417Z",
     "iopub.status.idle": "2020-09-28T09:35:34.245768Z",
     "shell.execute_reply": "2020-09-28T09:35:34.246229Z"
    },
    "pycharm": {
     "name": "#%%\n"
    }
   },
   "outputs": [
    {
     "data": {
      "text/plain": [
       "MultivariateNormal(loc: torch.Size([3, 2]), scale_tril: torch.Size([3, 2, 2]))"
      ]
     },
     "execution_count": 15,
     "metadata": {},
     "output_type": "execute_result"
    }
   ],
   "source": [
    "mvn_batch = MultivariateNormal(\n",
    "    loc=torch.Tensor([[0, 1],[1, 2],[2, 3]]),\n",
    "    scale_tril=torch.cholesky(torch.Tensor([[1., .2], [.2, .5]])))\n",
    "mvn_batch"
   ]
  },
  {
   "cell_type": "code",
   "execution_count": 16,
   "metadata": {
    "collapsed": false,
    "execution": {
     "iopub.execute_input": "2020-09-28T09:35:34.250032Z",
     "iopub.status.busy": "2020-09-28T09:35:34.249426Z",
     "iopub.status.idle": "2020-09-28T09:35:34.255073Z",
     "shell.execute_reply": "2020-09-28T09:35:34.255576Z"
    },
    "pycharm": {
     "name": "#%%\n"
    }
   },
   "outputs": [
    {
     "name": "stdout",
     "output_type": "stream",
     "text": [
      "random sample with sample_shape ():\n",
      " tensor([[0.5387, 1.1184],\n",
      "        [1.2575, 1.3901],\n",
      "        [1.3177, 2.2904]]) \n",
      "\n",
      "random sample with sample_shape (3,):\n",
      " tensor([[[ 0.0920,  0.8389],\n",
      "         [ 1.1783,  1.8747],\n",
      "         [ 1.4882,  3.6123]],\n",
      "\n",
      "        [[-1.3812, -0.7643],\n",
      "         [ 1.6537,  1.8568],\n",
      "         [ 3.0792,  3.6590]],\n",
      "\n",
      "        [[ 0.1097,  0.6339],\n",
      "         [ 0.7720,  1.5574],\n",
      "         [ 2.3198,  3.2755]]]) \n",
      "\n",
      "random sample with sample_shape (2, 3):\n",
      " tensor([[[[-3.1103, -0.0619],\n",
      "          [ 0.4550,  2.7118],\n",
      "          [ 1.6152,  3.7901]],\n",
      "\n",
      "         [[ 0.4638,  2.7971],\n",
      "          [ 1.9913,  1.4127],\n",
      "          [ 1.9089,  2.5743]],\n",
      "\n",
      "         [[-0.6809,  0.5867],\n",
      "          [ 0.4002,  2.0383],\n",
      "          [ 1.7226,  3.3009]]],\n",
      "\n",
      "\n",
      "        [[[-0.6001,  0.6087],\n",
      "          [ 0.7697,  1.5886],\n",
      "          [ 3.2563,  3.3999]],\n",
      "\n",
      "         [[ 0.7557,  0.7906],\n",
      "          [ 1.3797,  1.7520],\n",
      "          [ 2.8743,  3.0163]],\n",
      "\n",
      "         [[ 1.9530,  1.9643],\n",
      "          [ 1.4392,  2.1948],\n",
      "          [ 2.9696,  3.0859]]]])\n"
     ]
    }
   ],
   "source": [
    "print(\"random sample with sample_shape ():\\n\",\n",
    "      mvn_batch.sample(), \"\\n\")\n",
    "print(\"random sample with sample_shape (3,):\\n\",\n",
    "      mvn_batch.sample(sample_shape=(3,)), \"\\n\")\n",
    "print(\"random sample with sample_shape (2, 3):\\n\",\n",
    "      mvn_batch.sample(sample_shape=(2, 3)))"
   ]
  },
  {
   "cell_type": "markdown",
   "metadata": {
    "collapsed": false,
    "pycharm": {
     "name": "#%% md\n"
    }
   },
   "source": [
    "## 計算最大概似估計值"
   ]
  },
  {
   "cell_type": "code",
   "execution_count": 17,
   "metadata": {
    "collapsed": false,
    "execution": {
     "iopub.execute_input": "2020-09-28T09:35:34.259364Z",
     "iopub.status.busy": "2020-09-28T09:35:34.258772Z",
     "iopub.status.idle": "2020-09-28T09:35:34.261897Z",
     "shell.execute_reply": "2020-09-28T09:35:34.262350Z"
    },
    "pycharm": {
     "name": "#%%\n"
    }
   },
   "outputs": [
    {
     "name": "stdout",
     "output_type": "stream",
     "text": [
      "normal model:\n",
      " Normal(loc: tensor([5.]), scale: tensor([2.])) \n",
      "\n"
     ]
    }
   ],
   "source": [
    "mu_true = torch.tensor([5.])\n",
    "sigma_true = torch.tensor([2.])\n",
    "model_normal_true = Normal(\n",
    "    loc=mu_true,\n",
    "    scale=sigma_true)\n",
    "print(\"normal model:\\n\", model_normal_true, \"\\n\")"
   ]
  },
  {
   "cell_type": "code",
   "execution_count": 18,
   "metadata": {
    "collapsed": false,
    "execution": {
     "iopub.execute_input": "2020-09-28T09:35:34.265966Z",
     "iopub.status.busy": "2020-09-28T09:35:34.265337Z",
     "iopub.status.idle": "2020-09-28T09:35:34.268613Z",
     "shell.execute_reply": "2020-09-28T09:35:34.269130Z"
    },
    "pycharm": {
     "name": "#%%\n"
    }
   },
   "outputs": [
    {
     "name": "stdout",
     "output_type": "stream",
     "text": [
      "negative likelihood value is tensor(2.1429)\n"
     ]
    }
   ],
   "source": [
    "sample_size = 1000\n",
    "x = model_normal_true.sample(sample_shape=(sample_size,))\n",
    "loss_value = -torch.mean(torch.sum(model_normal_true.log_prob(x), dim = 1))\n",
    "print(\"negative likelihood value is\", loss_value)\n"
   ]
  },
  {
   "cell_type": "code",
   "execution_count": 19,
   "metadata": {
    "collapsed": false,
    "execution": {
     "iopub.execute_input": "2020-09-28T09:35:34.273866Z",
     "iopub.status.busy": "2020-09-28T09:35:34.273262Z",
     "iopub.status.idle": "2020-09-28T09:35:34.356574Z",
     "shell.execute_reply": "2020-09-28T09:35:34.357039Z"
    },
    "pycharm": {
     "name": "#%%\n"
    }
   },
   "outputs": [],
   "source": [
    "epochs = 200\n",
    "lr = 1.0\n",
    "mu = torch.tensor([0.], requires_grad=True)\n",
    "sigma = torch.tensor([1.], requires_grad=True)\n",
    "opt = torch.optim.Adam([mu, sigma], lr=.5)\n",
    "for epoch in range(epochs):\n",
    "    model_normal = Normal(loc=mu, scale=sigma)\n",
    "    loss_value = -torch.mean(model_normal.log_prob(x))\n",
    "    opt.zero_grad()\n",
    "    loss_value.backward() # compute the gradient\n",
    "    opt.step()"
   ]
  },
  {
   "cell_type": "code",
   "execution_count": 20,
   "metadata": {
    "collapsed": false,
    "execution": {
     "iopub.execute_input": "2020-09-28T09:35:34.360600Z",
     "iopub.status.busy": "2020-09-28T09:35:34.359900Z",
     "iopub.status.idle": "2020-09-28T09:35:34.363884Z",
     "shell.execute_reply": "2020-09-28T09:35:34.364342Z"
    },
    "pycharm": {
     "name": "#%%\n"
    }
   },
   "outputs": [
    {
     "name": "stdout",
     "output_type": "stream",
     "text": [
      "ML mean by gradient descent: tensor([4.9664], requires_grad=True)\n",
      "ML std by gradient descent: tensor([2.0603], requires_grad=True)\n"
     ]
    }
   ],
   "source": [
    "print(\"ML mean by gradient descent:\", mu)\n",
    "print(\"ML std by gradient descent:\", sigma)"
   ]
  },
  {
   "cell_type": "code",
   "execution_count": 21,
   "metadata": {
    "collapsed": false,
    "execution": {
     "iopub.execute_input": "2020-09-28T09:35:34.367666Z",
     "iopub.status.busy": "2020-09-28T09:35:34.367039Z",
     "iopub.status.idle": "2020-09-28T09:35:34.370494Z",
     "shell.execute_reply": "2020-09-28T09:35:34.370952Z"
    },
    "pycharm": {
     "name": "#%%\n"
    }
   },
   "outputs": [
    {
     "name": "stdout",
     "output_type": "stream",
     "text": [
      "ML mean by formula: tensor(4.9664)\n",
      "ML std by formula: tensor(2.0604)\n"
     ]
    }
   ],
   "source": [
    "print(\"ML mean by formula:\", torch.mean(x))\n",
    "print(\"ML std by formula:\", torch.std(x, unbiased=False))"
   ]
  },
  {
   "cell_type": "code",
   "execution_count": 22,
   "metadata": {
    "collapsed": false,
    "execution": {
     "iopub.execute_input": "2020-09-28T09:35:34.375130Z",
     "iopub.status.busy": "2020-09-28T09:35:34.374518Z",
     "iopub.status.idle": "2020-09-28T09:35:34.378493Z",
     "shell.execute_reply": "2020-09-28T09:35:34.378958Z"
    },
    "pycharm": {
     "name": "#%%\n"
    }
   },
   "outputs": [
    {
     "name": "stdout",
     "output_type": "stream",
     "text": [
      "true mean vector: \n",
      " tensor([-1.,  0.,  1.])\n",
      "true covariance matrix: \n",
      " tensor([[9.0000, 6.0000, 1.2000],\n",
      "        [6.0000, 5.0000, 1.3000],\n",
      "        [1.2000, 1.3000, 0.6600]])\n"
     ]
    }
   ],
   "source": [
    "mu_true = torch.tensor([-1., 0., 1.])\n",
    "sigma_tril_true = torch.tensor([[3., 0., 0.], [2., 1., 0.], [.4, .5, .5]])\n",
    "model_mvn_true = MultivariateNormal(\n",
    "    loc=mu_true,\n",
    "    scale_tril=sigma_tril_true)\n",
    "print(\"true mean vector: \\n\", model_mvn_true.mean)\n",
    "print(\"true covariance matrix: \\n\", model_mvn_true.covariance_matrix)"
   ]
  },
  {
   "cell_type": "code",
   "execution_count": 23,
   "metadata": {
    "collapsed": false,
    "execution": {
     "iopub.execute_input": "2020-09-28T09:35:34.382688Z",
     "iopub.status.busy": "2020-09-28T09:35:34.381968Z",
     "iopub.status.idle": "2020-09-28T09:35:34.385750Z",
     "shell.execute_reply": "2020-09-28T09:35:34.386169Z"
    },
    "pycharm": {
     "name": "#%%\n"
    }
   },
   "outputs": [
    {
     "name": "stdout",
     "output_type": "stream",
     "text": [
      "negative likelihood value is tensor(4.6392)\n"
     ]
    }
   ],
   "source": [
    "sample_size = 1000\n",
    "x = model_mvn_true.sample(sample_shape=(sample_size,))\n",
    "loss_value = -torch.mean(model_mvn_true.log_prob(x))\n",
    "print(\"negative likelihood value is\", loss_value)\n"
   ]
  },
  {
   "cell_type": "code",
   "execution_count": 24,
   "metadata": {
    "collapsed": false,
    "execution": {
     "iopub.execute_input": "2020-09-28T09:35:34.391374Z",
     "iopub.status.busy": "2020-09-28T09:35:34.390689Z",
     "iopub.status.idle": "2020-09-28T09:35:34.757530Z",
     "shell.execute_reply": "2020-09-28T09:35:34.758012Z"
    },
    "pycharm": {
     "name": "#%%\n"
    }
   },
   "outputs": [],
   "source": [
    "epochs = 500\n",
    "lr = .1\n",
    "mu = torch.tensor(\n",
    "    [0., 0., 0.], requires_grad=True)\n",
    "sigma_tril = torch.tensor(\n",
    "    [[1., 0., 0.], [0., 1., 0.], [0., 0., 1.]],\n",
    "    requires_grad=True)\n",
    "opt = torch.optim.Adam([mu, sigma_tril], lr=lr)\n",
    "\n",
    "for epoch in range(epochs):\n",
    "    model_mvn = MultivariateNormal(\n",
    "    loc=mu,\n",
    "    scale_tril=sigma_tril)\n",
    "    loss_value = -torch.mean(model_mvn.log_prob(x))\n",
    "    opt.zero_grad()\n",
    "    loss_value.backward() # compute the gradient\n",
    "    opt.step()"
   ]
  },
  {
   "cell_type": "code",
   "execution_count": 25,
   "metadata": {
    "collapsed": false,
    "execution": {
     "iopub.execute_input": "2020-09-28T09:35:34.761868Z",
     "iopub.status.busy": "2020-09-28T09:35:34.761152Z",
     "iopub.status.idle": "2020-09-28T09:35:34.765190Z",
     "shell.execute_reply": "2020-09-28T09:35:34.765623Z"
    },
    "pycharm": {
     "name": "#%%\n"
    }
   },
   "outputs": [
    {
     "name": "stdout",
     "output_type": "stream",
     "text": [
      "ML mean by gradient descent: \n",
      " tensor([-0.8957,  0.0802,  1.0058], requires_grad=True)\n",
      "ML covariance by gradient descent: \n",
      " tensor([[9.2037, 6.1752, 1.2807],\n",
      "        [6.1752, 5.0788, 1.3221],\n",
      "        [1.2807, 1.3221, 0.6554]], grad_fn=<MmBackward>)\n"
     ]
    }
   ],
   "source": [
    "print(\"ML mean by gradient descent: \\n\",\n",
    "      mu)\n",
    "print(\"ML covariance by gradient descent: \\n\",\n",
    "      sigma_tril @ torch.transpose(sigma_tril, 0, 1))"
   ]
  },
  {
   "cell_type": "code",
   "execution_count": 26,
   "metadata": {
    "collapsed": false,
    "execution": {
     "iopub.execute_input": "2020-09-28T09:35:34.769608Z",
     "iopub.status.busy": "2020-09-28T09:35:34.768948Z",
     "iopub.status.idle": "2020-09-28T09:35:34.772965Z",
     "shell.execute_reply": "2020-09-28T09:35:34.773414Z"
    },
    "pycharm": {
     "name": "#%%\n"
    }
   },
   "outputs": [
    {
     "name": "stdout",
     "output_type": "stream",
     "text": [
      "ML mean by formula: \n",
      " tensor([-0.8957,  0.0802,  1.0058])\n",
      "ML covariance by formula: \n",
      " tensor([[9.2037, 6.1753, 1.2807],\n",
      "        [6.1753, 5.0789, 1.3221],\n",
      "        [1.2807, 1.3221, 0.6554]])\n"
     ]
    }
   ],
   "source": [
    "sample_mean = torch.mean(x, dim = 0)\n",
    "sample_moment2 = (torch.transpose(x, 0, 1) @ x) / sample_size\n",
    "sample_cov = sample_moment2 - torch.ger(sample_mean, sample_mean)\n",
    "print(\"ML mean by formula: \\n\",\n",
    "      sample_mean)\n",
    "print(\"ML covariance by formula: \\n\",\n",
    "      sample_cov)\n"
   ]
  },
  {
   "cell_type": "markdown",
   "metadata": {
    "collapsed": false,
    "pycharm": {
     "name": "#%% md\n"
    }
   },
   "source": [
    "## 實徵範例"
   ]
  },
  {
   "cell_type": "markdown",
   "metadata": {
    "collapsed": false,
    "pycharm": {
     "name": "#%% md\n"
    }
   },
   "source": [
    "### 產生邏吉斯迴歸資料"
   ]
  },
  {
   "cell_type": "code",
   "execution_count": 27,
   "metadata": {
    "collapsed": false,
    "execution": {
     "iopub.execute_input": "2020-09-28T09:35:34.776823Z",
     "iopub.status.busy": "2020-09-28T09:35:34.776205Z",
     "iopub.status.idle": "2020-09-28T09:35:34.779853Z",
     "shell.execute_reply": "2020-09-28T09:35:34.780327Z"
    },
    "pycharm": {
     "name": "#%%\n"
    }
   },
   "outputs": [
    {
     "data": {
      "text/plain": [
       "<torch._C.Generator at 0x7f9c386d6fb0>"
      ]
     },
     "execution_count": 27,
     "metadata": {},
     "output_type": "execute_result"
    }
   ],
   "source": [
    "torch.manual_seed(48)"
   ]
  },
  {
   "cell_type": "code",
   "execution_count": 28,
   "metadata": {
    "collapsed": false,
    "execution": {
     "iopub.execute_input": "2020-09-28T09:35:34.785745Z",
     "iopub.status.busy": "2020-09-28T09:35:34.785022Z",
     "iopub.status.idle": "2020-09-28T09:35:34.786711Z",
     "shell.execute_reply": "2020-09-28T09:35:34.787389Z"
    },
    "pycharm": {
     "name": "#%%\n"
    }
   },
   "outputs": [],
   "source": [
    "from torch.distributions import Bernoulli\n",
    "def generate_data(n_sample,\n",
    "                  weight,\n",
    "                  bias = 0,\n",
    "                  mean_feature = 0,\n",
    "                  std_feature = 1,\n",
    "                  dtype = torch.float64):\n",
    "    weight = torch.tensor(weight, dtype = dtype)\n",
    "    n_feature = weight.shape[0]\n",
    "    x = torch.normal(mean = mean_feature,\n",
    "                     std = std_feature,\n",
    "                     size = (n_sample, n_feature),\n",
    "                     dtype = dtype)\n",
    "    weight = weight.view(size = (-1, 1))\n",
    "    logit = bias + x @ weight\n",
    "    bernoulli = Bernoulli(logits = logit)\n",
    "    y = bernoulli.sample()\n",
    "    return x, y"
   ]
  },
  {
   "cell_type": "code",
   "execution_count": 29,
   "metadata": {
    "collapsed": false,
    "execution": {
     "iopub.execute_input": "2020-09-28T09:35:34.791074Z",
     "iopub.status.busy": "2020-09-28T09:35:34.790401Z",
     "iopub.status.idle": "2020-09-28T09:35:34.792797Z",
     "shell.execute_reply": "2020-09-28T09:35:34.793252Z"
    },
    "pycharm": {
     "name": "#%%\n"
    }
   },
   "outputs": [],
   "source": [
    "# run generate_data\n",
    "x, y = generate_data(n_sample = 1000,\n",
    "                     weight = [-5, 3, 0],\n",
    "                     bias = 2,\n",
    "                     mean_feature = 10,\n",
    "                     std_feature = 3,\n",
    "                     dtype = torch.float64)"
   ]
  },
  {
   "cell_type": "markdown",
   "metadata": {
    "collapsed": false
   },
   "source": [
    "### 建立一進行邏吉斯迴歸分析之物件"
   ]
  },
  {
   "cell_type": "code",
   "execution_count": 30,
   "metadata": {
    "collapsed": false,
    "execution": {
     "iopub.execute_input": "2020-09-28T09:35:34.800311Z",
     "iopub.status.busy": "2020-09-28T09:35:34.799634Z",
     "iopub.status.idle": "2020-09-28T09:35:34.801358Z",
     "shell.execute_reply": "2020-09-28T09:35:34.801813Z"
    },
    "pycharm": {
     "name": "#%%\n"
    }
   },
   "outputs": [],
   "source": [
    "# define a class to fit logistic regression\n",
    "class LogisticRegression():\n",
    "    def __init__(self, dtype = torch.float64):\n",
    "        self.dtype = dtype\n",
    "        self.weight = None\n",
    "        self.bias = None\n",
    "    def log_lik(self, x, y):\n",
    "        logit = self.bias + x @ self.weight\n",
    "        bernoulli = Bernoulli(logits = logit)\n",
    "        return torch.mean(bernoulli.log_prob(y))\n",
    "    def fit(self, x, y, epochs = 200, lr = .1):\n",
    "        if x.dtype is not self.dtype:\n",
    "            x = x.type(dtype = self.dtype)\n",
    "        if y.dtype is not self.dtype:\n",
    "            y = y.type(dtype = self.dtype)\n",
    "        n_feature = x.size()[1]\n",
    "        self.bias = torch.zeros(size = (1,),\n",
    "                                dtype = self.dtype,\n",
    "                                requires_grad = True)\n",
    "        self.weight = torch.zeros(size = (n_feature, 1),\n",
    "                                  dtype = self.dtype,\n",
    "                                  requires_grad = True)\n",
    "        opt = torch.optim.Adam([self.bias, self.weight], lr=lr)\n",
    "        for epoch in range(epochs):\n",
    "            loss_value = - self.log_lik(x, y)\n",
    "            opt.zero_grad()\n",
    "            loss_value.backward() # compute the gradient\n",
    "            opt.step()\n",
    "        return self"
   ]
  },
  {
   "cell_type": "markdown",
   "metadata": {
    "collapsed": false
   },
   "source": [
    "### 計算模型參數"
   ]
  },
  {
   "cell_type": "code",
   "execution_count": 31,
   "metadata": {
    "collapsed": false,
    "execution": {
     "iopub.execute_input": "2020-09-28T09:35:34.805477Z",
     "iopub.status.busy": "2020-09-28T09:35:34.804775Z",
     "iopub.status.idle": "2020-09-28T09:35:35.484780Z",
     "shell.execute_reply": "2020-09-28T09:35:35.485264Z"
    },
    "pycharm": {
     "name": "#%%\n"
    }
   },
   "outputs": [
    {
     "name": "stdout",
     "output_type": "stream",
     "text": [
      "tensor([3.8176], dtype=torch.float64, requires_grad=True)\n",
      "tensor([[-4.6982],\n",
      "        [ 2.6668],\n",
      "        [-0.0054]], dtype=torch.float64, requires_grad=True)\n"
     ]
    }
   ],
   "source": [
    "# fit logistic model\n",
    "model_lr = LogisticRegression()\n",
    "model_lr.fit(x, y, epochs = 2000, lr = 1)\n",
    "print(model_lr.bias)\n",
    "print(model_lr.weight)"
   ]
  },
  {
   "cell_type": "code",
   "execution_count": 32,
   "metadata": {
    "collapsed": false,
    "execution": {
     "iopub.execute_input": "2020-09-28T09:35:35.488930Z",
     "iopub.status.busy": "2020-09-28T09:35:35.488312Z",
     "iopub.status.idle": "2020-09-28T09:35:35.920313Z",
     "shell.execute_reply": "2020-09-28T09:35:35.920761Z"
    },
    "pycharm": {
     "name": "#%%\n"
    }
   },
   "outputs": [
    {
     "name": "stdout",
     "output_type": "stream",
     "text": [
      "[3.81736449]\n",
      "[[-4.69795962  2.66667074 -0.00543114]]\n"
     ]
    },
    {
     "name": "stderr",
     "output_type": "stream",
     "text": [
      "/Users/phhaung/Documents/PycharmProject/tism/venv/lib/python3.8/site-packages/sklearn/utils/validation.py:72: DataConversionWarning: A column-vector y was passed when a 1d array was expected. Please change the shape of y to (n_samples, ), for example using ravel().\n",
      "  return f(**kwargs)\n"
     ]
    }
   ],
   "source": [
    "# fit logistic model via sklearn\n",
    "# please install sklearn first\n",
    "from sklearn import linear_model\n",
    "model_lr_sklearn = linear_model.LogisticRegression(C=10000)\n",
    "model_lr_sklearn.fit(x, y)\n",
    "print(model_lr_sklearn.intercept_)\n",
    "print(model_lr_sklearn.coef_)"
   ]
  }
 ],
 "metadata": {
  "kernelspec": {
   "display_name": "Python 3",
   "language": "python",
   "name": "python3"
  },
  "language_info": {
   "codemirror_mode": {
    "name": "ipython",
    "version": 3
   },
   "file_extension": ".py",
   "mimetype": "text/x-python",
   "name": "python",
   "nbconvert_exporter": "python",
   "pygments_lexer": "ipython3",
   "version": "3.8.5"
  }
 },
 "nbformat": 4,
 "nbformat_minor": 0
}