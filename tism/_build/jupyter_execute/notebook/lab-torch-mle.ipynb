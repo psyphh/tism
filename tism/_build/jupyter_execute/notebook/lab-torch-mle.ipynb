{
 "cells": [
  {
   "cell_type": "markdown",
   "metadata": {
    "collapsed": false
   },
   "source": [
    "Lab: 最大概似估計\n",
    "================"
   ]
  },
  {
   "cell_type": "code",
   "execution_count": 1,
   "metadata": {
    "collapsed": true,
    "execution": {
     "iopub.execute_input": "2020-08-28T01:52:25.004739Z",
     "iopub.status.busy": "2020-08-28T01:52:25.003219Z",
     "iopub.status.idle": "2020-08-28T01:52:25.311491Z",
     "shell.execute_reply": "2020-08-28T01:52:25.311922Z"
    }
   },
   "outputs": [],
   "source": [
    "import torch"
   ]
  },
  {
   "cell_type": "code",
   "execution_count": 2,
   "metadata": {
    "collapsed": false,
    "execution": {
     "iopub.execute_input": "2020-08-28T01:52:25.316441Z",
     "iopub.status.busy": "2020-08-28T01:52:25.315806Z",
     "iopub.status.idle": "2020-08-28T01:52:25.318388Z",
     "shell.execute_reply": "2020-08-28T01:52:25.318870Z"
    },
    "pycharm": {
     "name": "#%%\n"
    }
   },
   "outputs": [],
   "source": [
    "from torch.distributions import Normal\n",
    "normal = Normal(loc=0., scale=1.)"
   ]
  },
  {
   "cell_type": "code",
   "execution_count": 3,
   "metadata": {
    "collapsed": false,
    "execution": {
     "iopub.execute_input": "2020-08-28T01:52:25.323028Z",
     "iopub.status.busy": "2020-08-28T01:52:25.322383Z",
     "iopub.status.idle": "2020-08-28T01:52:25.328860Z",
     "shell.execute_reply": "2020-08-28T01:52:25.329287Z"
    },
    "pycharm": {
     "name": "#%%\n"
    }
   },
   "outputs": [
    {
     "name": "stdout",
     "output_type": "stream",
     "text": [
      "random sample with shape ():\n",
      " tensor(-0.4205)\n",
      "random sample with shape (3,):\n",
      " tensor([-1.3577,  0.2594, -0.3872])\n",
      "random sample with shape (2,3):\n",
      " tensor([[-0.3462,  0.0221,  0.5617],\n",
      "        [-1.1793,  0.1680, -0.2688]])\n"
     ]
    }
   ],
   "source": [
    "print(\"random sample with shape ():\\n\",\n",
    "      normal.sample())\n",
    "print(\"random sample with shape (3,):\\n\",\n",
    "      normal.sample(sample_shape=(3,)))\n",
    "print(\"random sample with shape (2,3):\\n\",\n",
    "      normal.sample(sample_shape=(2, 3)))"
   ]
  },
  {
   "cell_type": "code",
   "execution_count": 4,
   "metadata": {
    "collapsed": false,
    "execution": {
     "iopub.execute_input": "2020-08-28T01:52:25.334550Z",
     "iopub.status.busy": "2020-08-28T01:52:25.333687Z",
     "iopub.status.idle": "2020-08-28T01:52:25.341064Z",
     "shell.execute_reply": "2020-08-28T01:52:25.341679Z"
    },
    "pycharm": {
     "name": "#%%\n"
    }
   },
   "outputs": [
    {
     "name": "stdout",
     "output_type": "stream",
     "text": [
      "cumulative probability given value with shape ():\n",
      " tensor(0.5000) \n",
      "\n",
      "cumulative probability given value with (3,):\n",
      " tensor([0.1587, 0.5000, 0.6915]) \n",
      "\n",
      "cumulative probability given value with (2,3):\n",
      " tensor([[0.1587, 0.5000, 0.6915],\n",
      "        [0.0228, 0.8413, 0.9987]])\n"
     ]
    }
   ],
   "source": [
    "print(\"cumulative probability given value with shape ():\\n\",\n",
    "      normal.cdf(value=0), \"\\n\")\n",
    "print(\"cumulative probability given value with (3,):\\n\",\n",
    "      normal.cdf(value=torch.Tensor([-1, 0, .5])), \"\\n\")\n",
    "print(\"cumulative probability given value with (2,3):\\n\",\n",
    "      normal.cdf(value=torch.Tensor([[-1, 0, .5], [-2, 1, 3]])))"
   ]
  },
  {
   "cell_type": "code",
   "execution_count": 5,
   "metadata": {
    "collapsed": false,
    "execution": {
     "iopub.execute_input": "2020-08-28T01:52:25.346647Z",
     "iopub.status.busy": "2020-08-28T01:52:25.345877Z",
     "iopub.status.idle": "2020-08-28T01:52:25.352657Z",
     "shell.execute_reply": "2020-08-28T01:52:25.353085Z"
    },
    "pycharm": {
     "name": "#%%\n"
    }
   },
   "outputs": [
    {
     "name": "stdout",
     "output_type": "stream",
     "text": [
      "cumulative probability given value with shape ():\n",
      " tensor(-0.9189) \n",
      "\n",
      "cumulative probability given value with (3,):\n",
      " tensor([-1.4189, -0.9189, -1.0439]) \n",
      "\n",
      "cumulative probability given value with (2,3):\n",
      " tensor([[-1.4189, -0.9189, -1.0439],\n",
      "        [-2.9189, -1.4189, -5.4189]])\n"
     ]
    }
   ],
   "source": [
    "print(\"cumulative probability given value with shape ():\\n\",\n",
    "      normal.log_prob(value=0), \"\\n\")\n",
    "print(\"cumulative probability given value with (3,):\\n\",\n",
    "      normal.log_prob(value=torch.Tensor([-1, 0, .5])), \"\\n\")\n",
    "print(\"cumulative probability given value with (2,3):\\n\",\n",
    "      normal.log_prob(value=torch.Tensor([[-1, 0, .5], [-2, 1, 3]])))"
   ]
  },
  {
   "cell_type": "code",
   "execution_count": 6,
   "metadata": {
    "collapsed": false,
    "execution": {
     "iopub.execute_input": "2020-08-28T01:52:25.357237Z",
     "iopub.status.busy": "2020-08-28T01:52:25.356559Z",
     "iopub.status.idle": "2020-08-28T01:52:25.358901Z",
     "shell.execute_reply": "2020-08-28T01:52:25.359399Z"
    },
    "pycharm": {
     "name": "#%%\n"
    }
   },
   "outputs": [
    {
     "name": "stdout",
     "output_type": "stream",
     "text": [
      "Normal(loc: 0.0, scale: 1.0)\n"
     ]
    }
   ],
   "source": [
    "print(normal)"
   ]
  },
  {
   "cell_type": "code",
   "execution_count": 7,
   "metadata": {
    "collapsed": false,
    "execution": {
     "iopub.execute_input": "2020-08-28T01:52:25.363499Z",
     "iopub.status.busy": "2020-08-28T01:52:25.362778Z",
     "iopub.status.idle": "2020-08-28T01:52:25.365406Z",
     "shell.execute_reply": "2020-08-28T01:52:25.366035Z"
    },
    "pycharm": {
     "name": "#%%\n"
    }
   },
   "outputs": [
    {
     "name": "stdout",
     "output_type": "stream",
     "text": [
      "torch.Size([])\n",
      "torch.Size([])\n"
     ]
    }
   ],
   "source": [
    "print(normal.batch_shape)\n",
    "print(normal.event_shape)"
   ]
  },
  {
   "cell_type": "code",
   "execution_count": 8,
   "metadata": {
    "collapsed": false,
    "execution": {
     "iopub.execute_input": "2020-08-28T01:52:25.370165Z",
     "iopub.status.busy": "2020-08-28T01:52:25.369516Z",
     "iopub.status.idle": "2020-08-28T01:52:25.372064Z",
     "shell.execute_reply": "2020-08-28T01:52:25.372497Z"
    },
    "pycharm": {
     "name": "#%%\n"
    }
   },
   "outputs": [
    {
     "name": "stdout",
     "output_type": "stream",
     "text": [
      "Normal(loc: torch.Size([2]), scale: torch.Size([2]))\n"
     ]
    }
   ],
   "source": [
    "normal_batch = Normal(loc=torch.Tensor([0., 1.]), scale=torch.Tensor([1., 1.5]))\n",
    "print(normal_batch)"
   ]
  },
  {
   "cell_type": "code",
   "execution_count": 9,
   "metadata": {
    "collapsed": false,
    "execution": {
     "iopub.execute_input": "2020-08-28T01:52:25.377151Z",
     "iopub.status.busy": "2020-08-28T01:52:25.376362Z",
     "iopub.status.idle": "2020-08-28T01:52:25.381573Z",
     "shell.execute_reply": "2020-08-28T01:52:25.382003Z"
    },
    "pycharm": {
     "name": "#%%\n"
    }
   },
   "outputs": [
    {
     "name": "stdout",
     "output_type": "stream",
     "text": [
      "random sample with sample_shape ():\n",
      " tensor([0.3196, 2.1923]) \n",
      "\n",
      "random sample with sample_shape (3,):\n",
      " tensor([[ 0.0940,  0.1338],\n",
      "        [-0.3400,  2.4002],\n",
      "        [-1.0516, -0.1826]]) \n",
      "\n",
      "random sample with sample_shape (2,3):\n",
      " tensor([[[ 0.1398,  4.7928],\n",
      "         [-0.1455, -0.5193],\n",
      "         [-1.4244, -0.6089]],\n",
      "\n",
      "        [[-0.1050,  2.6404],\n",
      "         [-1.6125,  1.1516],\n",
      "         [ 0.2476,  1.0377]]])\n"
     ]
    }
   ],
   "source": [
    "print(\"random sample with sample_shape ():\\n\",\n",
    "      normal_batch.sample(), \"\\n\")\n",
    "print(\"random sample with sample_shape (3,):\\n\",\n",
    "      normal_batch.sample(sample_shape=(3,)), \"\\n\")\n",
    "print(\"random sample with sample_shape (2,3):\\n\",\n",
    "      normal_batch.sample(sample_shape=(2,3)))\n"
   ]
  },
  {
   "cell_type": "code",
   "execution_count": 10,
   "metadata": {
    "collapsed": false,
    "execution": {
     "iopub.execute_input": "2020-08-28T01:52:25.386220Z",
     "iopub.status.busy": "2020-08-28T01:52:25.385408Z",
     "iopub.status.idle": "2020-08-28T01:52:25.391444Z",
     "shell.execute_reply": "2020-08-28T01:52:25.391924Z"
    },
    "pycharm": {
     "name": "#%%\n"
    }
   },
   "outputs": [
    {
     "name": "stdout",
     "output_type": "stream",
     "text": [
      "log-probability given value with shape ():\n",
      " tensor([-0.9189, -1.5466]) \n",
      "\n",
      "log-probability given value with shape (2,):\n",
      " tensor([-0.9189, -1.5466]) \n",
      "\n",
      "log-probability given value with shape (2,1):\n",
      " tensor([[-0.9189, -1.5466],\n",
      "        [-0.9189, -1.5466]])\n"
     ]
    }
   ],
   "source": [
    "print(\"log-probability given value with shape ():\\n\",\n",
    "      normal_batch.log_prob(0), \"\\n\")\n",
    "print(\"log-probability given value with shape (2,):\\n\",\n",
    "      normal_batch.log_prob(torch.Tensor([0, 0])), \"\\n\")\n",
    "print(\"log-probability given value with shape (2,1):\\n\",\n",
    "      normal_batch.log_prob(torch.Tensor([[0], [0]])))"
   ]
  },
  {
   "cell_type": "code",
   "execution_count": 11,
   "metadata": {
    "collapsed": false,
    "execution": {
     "iopub.execute_input": "2020-08-28T01:52:25.396861Z",
     "iopub.status.busy": "2020-08-28T01:52:25.395969Z",
     "iopub.status.idle": "2020-08-28T01:52:25.399777Z",
     "shell.execute_reply": "2020-08-28T01:52:25.400209Z"
    },
    "pycharm": {
     "name": "#%%\n"
    }
   },
   "outputs": [
    {
     "name": "stdout",
     "output_type": "stream",
     "text": [
      "MultivariateNormal(loc: torch.Size([2]), scale_tril: torch.Size([2, 2]))\n"
     ]
    }
   ],
   "source": [
    "from torch.distributions import MultivariateNormal\n",
    "mvn = MultivariateNormal(\n",
    "    loc=torch.Tensor([0, 1]),\n",
    "    scale_tril=torch.cholesky(torch.Tensor([[1., 0.], [0., .5]])))\n",
    "print(mvn)\n"
   ]
  },
  {
   "cell_type": "code",
   "execution_count": 12,
   "metadata": {
    "collapsed": false,
    "execution": {
     "iopub.execute_input": "2020-08-28T01:52:25.404455Z",
     "iopub.status.busy": "2020-08-28T01:52:25.403747Z",
     "iopub.status.idle": "2020-08-28T01:52:25.410393Z",
     "shell.execute_reply": "2020-08-28T01:52:25.410783Z"
    },
    "pycharm": {
     "name": "#%%\n"
    }
   },
   "outputs": [
    {
     "name": "stdout",
     "output_type": "stream",
     "text": [
      "random sample with sample_shape ():\n",
      " tensor([2.2865, 0.6410]) \n",
      "\n",
      "random sample with sample_shape (3,):\n",
      " tensor([[-0.1174,  0.8089],\n",
      "        [ 1.7223,  2.2532],\n",
      "        [ 0.7753,  2.0000]]) \n",
      "\n",
      "random sample with sample_shape (2, 3):\n",
      " tensor([[[-0.0497,  2.2984],\n",
      "         [-0.5064,  0.9095],\n",
      "         [ 0.2189,  1.6590]],\n",
      "\n",
      "        [[ 0.5981,  1.3462],\n",
      "         [ 1.7386,  0.7478],\n",
      "         [-0.4982,  1.1488]]])\n"
     ]
    }
   ],
   "source": [
    "print(\"random sample with sample_shape ():\\n\",\n",
    "      mvn.sample(), \"\\n\")\n",
    "print(\"random sample with sample_shape (3,):\\n\",\n",
    "      mvn.sample(sample_shape=(3,)), \"\\n\")\n",
    "print(\"random sample with sample_shape (2, 3):\\n\",\n",
    "      mvn.sample(sample_shape=(2, 3)))"
   ]
  },
  {
   "cell_type": "code",
   "execution_count": 13,
   "metadata": {
    "collapsed": false,
    "execution": {
     "iopub.execute_input": "2020-08-28T01:52:25.414900Z",
     "iopub.status.busy": "2020-08-28T01:52:25.414173Z",
     "iopub.status.idle": "2020-08-28T01:52:25.419045Z",
     "shell.execute_reply": "2020-08-28T01:52:25.419487Z"
    },
    "pycharm": {
     "name": "#%%\n"
    }
   },
   "outputs": [
    {
     "name": "stdout",
     "output_type": "stream",
     "text": [
      "log-probability given value with shape (2,):\n",
      " tensor(-2.4913) \n",
      "\n",
      "log-probability given value with shape (2,1):\n",
      " tensor([-2.4913, -2.4913])\n"
     ]
    }
   ],
   "source": [
    "print(\"log-probability given value with shape (2,):\\n\",\n",
    "      mvn.log_prob(torch.Tensor([0, 0])), \"\\n\")\n",
    "print(\"log-probability given value with shape (2,1):\\n\",\n",
    "      mvn.log_prob(torch.Tensor([[0, 0], [0, 0]])))"
   ]
  },
  {
   "cell_type": "code",
   "execution_count": 14,
   "metadata": {
    "collapsed": false,
    "execution": {
     "iopub.execute_input": "2020-08-28T01:52:25.423468Z",
     "iopub.status.busy": "2020-08-28T01:52:25.422775Z",
     "iopub.status.idle": "2020-08-28T01:52:25.425011Z",
     "shell.execute_reply": "2020-08-28T01:52:25.425429Z"
    },
    "pycharm": {
     "name": "#%%\n"
    }
   },
   "outputs": [
    {
     "name": "stdout",
     "output_type": "stream",
     "text": [
      "torch.Size([])\n",
      "torch.Size([2])\n"
     ]
    }
   ],
   "source": [
    "from torch.distributions import Independent\n",
    "normal_batch = Independent(normal_batch, reinterpreted_batch_ndims=1)\n",
    "print(normal_batch.batch_shape)\n",
    "print(normal_batch.event_shape)\n"
   ]
  },
  {
   "cell_type": "code",
   "execution_count": 15,
   "metadata": {
    "collapsed": false,
    "execution": {
     "iopub.execute_input": "2020-08-28T01:52:25.429464Z",
     "iopub.status.busy": "2020-08-28T01:52:25.428827Z",
     "iopub.status.idle": "2020-08-28T01:52:25.437299Z",
     "shell.execute_reply": "2020-08-28T01:52:25.437734Z"
    },
    "pycharm": {
     "name": "#%%\n"
    }
   },
   "outputs": [
    {
     "data": {
      "text/plain": [
       "MultivariateNormal(loc: torch.Size([3, 2]), scale_tril: torch.Size([3, 2, 2]))"
      ]
     },
     "execution_count": 15,
     "metadata": {},
     "output_type": "execute_result"
    }
   ],
   "source": [
    "mvn_batch = MultivariateNormal(\n",
    "    loc=torch.Tensor([[0, 1],[1, 2],[2, 3]]),\n",
    "    scale_tril=torch.cholesky(torch.Tensor([[1., .2], [.2, .5]])))\n",
    "mvn_batch"
   ]
  },
  {
   "cell_type": "code",
   "execution_count": 16,
   "metadata": {
    "collapsed": false,
    "execution": {
     "iopub.execute_input": "2020-08-28T01:52:25.442098Z",
     "iopub.status.busy": "2020-08-28T01:52:25.441376Z",
     "iopub.status.idle": "2020-08-28T01:52:25.447685Z",
     "shell.execute_reply": "2020-08-28T01:52:25.448308Z"
    },
    "pycharm": {
     "name": "#%%\n"
    }
   },
   "outputs": [
    {
     "name": "stdout",
     "output_type": "stream",
     "text": [
      "random sample with sample_shape ():\n",
      " tensor([[1.1275, 1.7382],\n",
      "        [0.5327, 2.4657],\n",
      "        [2.4923, 2.9444]]) \n",
      "\n",
      "random sample with sample_shape (3,):\n",
      " tensor([[[ 1.7485e-03,  1.1704e+00],\n",
      "         [-7.7522e-01,  1.0061e+00],\n",
      "         [ 3.8714e+00,  2.9748e+00]],\n",
      "\n",
      "        [[ 3.0326e-01,  4.6701e-01],\n",
      "         [-3.1945e-01,  3.0077e-01],\n",
      "         [ 3.7882e+00,  2.7624e+00]],\n",
      "\n",
      "        [[-1.1375e+00,  3.3560e-01],\n",
      "         [ 7.5519e-01,  2.2413e+00],\n",
      "         [ 3.0676e+00,  3.7033e+00]]]) \n",
      "\n",
      "random sample with sample_shape (2, 3):\n",
      " tensor([[[[-0.8206,  0.4010],\n",
      "          [ 1.1678,  2.1332],\n",
      "          [ 1.0008,  2.4261]],\n",
      "\n",
      "         [[-0.2140, -0.2980],\n",
      "          [ 1.1422,  2.5305],\n",
      "          [ 1.4001,  3.7645]],\n",
      "\n",
      "         [[ 0.9449,  0.4744],\n",
      "          [ 1.0263,  3.2151],\n",
      "          [ 1.9302,  3.2841]]],\n",
      "\n",
      "\n",
      "        [[[ 1.6932,  1.7799],\n",
      "          [ 0.8284,  1.8066],\n",
      "          [ 3.0099,  3.1478]],\n",
      "\n",
      "         [[ 0.3715,  0.4171],\n",
      "          [ 0.2260,  1.6781],\n",
      "          [ 1.0694,  2.1480]],\n",
      "\n",
      "         [[-0.0609,  0.9179],\n",
      "          [ 1.5631,  2.2728],\n",
      "          [ 3.8856,  3.7695]]]])\n"
     ]
    }
   ],
   "source": [
    "print(\"random sample with sample_shape ():\\n\",\n",
    "      mvn_batch.sample(), \"\\n\")\n",
    "print(\"random sample with sample_shape (3,):\\n\",\n",
    "      mvn_batch.sample(sample_shape=(3,)), \"\\n\")\n",
    "print(\"random sample with sample_shape (2, 3):\\n\",\n",
    "      mvn_batch.sample(sample_shape=(2, 3)))\n"
   ]
  },
  {
   "cell_type": "code",
   "execution_count": 17,
   "metadata": {
    "collapsed": false,
    "execution": {
     "iopub.execute_input": "2020-08-28T01:52:25.453228Z",
     "iopub.status.busy": "2020-08-28T01:52:25.452579Z",
     "iopub.status.idle": "2020-08-28T01:52:25.455816Z",
     "shell.execute_reply": "2020-08-28T01:52:25.456243Z"
    },
    "pycharm": {
     "name": "#%%\n"
    }
   },
   "outputs": [
    {
     "name": "stdout",
     "output_type": "stream",
     "text": [
      "normal model:\n",
      " Normal(loc: tensor([5.]), scale: tensor([2.])) \n",
      "\n"
     ]
    }
   ],
   "source": [
    "mu_true = torch.tensor([5.])\n",
    "sigma_true = torch.tensor([2.])\n",
    "normal_model_true = Normal(\n",
    "    loc=mu_true,\n",
    "    scale=sigma_true)\n",
    "print(\"normal model:\\n\", normal_model_true, \"\\n\")"
   ]
  },
  {
   "cell_type": "code",
   "execution_count": 18,
   "metadata": {
    "collapsed": false,
    "execution": {
     "iopub.execute_input": "2020-08-28T01:52:25.460896Z",
     "iopub.status.busy": "2020-08-28T01:52:25.459998Z",
     "iopub.status.idle": "2020-08-28T01:52:25.464677Z",
     "shell.execute_reply": "2020-08-28T01:52:25.465184Z"
    },
    "pycharm": {
     "name": "#%%\n"
    }
   },
   "outputs": [
    {
     "name": "stdout",
     "output_type": "stream",
     "text": [
      "negative likelihood value is tensor(2.1462)\n"
     ]
    }
   ],
   "source": [
    "sample_size = 1000\n",
    "x = normal_model_true.sample(sample_shape=(sample_size,))\n",
    "loss_value = -torch.mean(torch.sum(normal_model_true.log_prob(x), dim = 1))\n",
    "print(\"negative likelihood value is\", loss_value)\n"
   ]
  },
  {
   "cell_type": "code",
   "execution_count": 19,
   "metadata": {
    "collapsed": false,
    "execution": {
     "iopub.execute_input": "2020-08-28T01:52:25.471398Z",
     "iopub.status.busy": "2020-08-28T01:52:25.470494Z",
     "iopub.status.idle": "2020-08-28T01:52:25.567451Z",
     "shell.execute_reply": "2020-08-28T01:52:25.567889Z"
    },
    "pycharm": {
     "name": "#%%\n"
    }
   },
   "outputs": [],
   "source": [
    "epochs = 200\n",
    "lr = 1.0\n",
    "mu = torch.tensor([0.], requires_grad=True)\n",
    "sigma = torch.tensor([1.], requires_grad=True)\n",
    "optimizer = torch.optim.Adam([mu, sigma], lr=.5)\n",
    "for epoch in range(epochs):\n",
    "    normal_model = Normal(loc=mu, scale=sigma)\n",
    "    loss_value = -torch.mean(normal_model.log_prob(x))\n",
    "    optimizer.zero_grad()\n",
    "    loss_value.backward() # compute the gradient\n",
    "    optimizer.step()"
   ]
  },
  {
   "cell_type": "code",
   "execution_count": 20,
   "metadata": {
    "collapsed": false,
    "execution": {
     "iopub.execute_input": "2020-08-28T01:52:25.572061Z",
     "iopub.status.busy": "2020-08-28T01:52:25.571269Z",
     "iopub.status.idle": "2020-08-28T01:52:25.576301Z",
     "shell.execute_reply": "2020-08-28T01:52:25.577012Z"
    },
    "pycharm": {
     "name": "#%%\n"
    }
   },
   "outputs": [
    {
     "name": "stdout",
     "output_type": "stream",
     "text": [
      "ML mean by gradient descent: tensor([4.8263], requires_grad=True)\n",
      "ML std by gradient descent: tensor([2.0574], requires_grad=True)\n"
     ]
    }
   ],
   "source": [
    "print(\"ML mean by gradient descent:\", mu)\n",
    "print(\"ML std by gradient descent:\", sigma)"
   ]
  },
  {
   "cell_type": "code",
   "execution_count": 21,
   "metadata": {
    "collapsed": false,
    "execution": {
     "iopub.execute_input": "2020-08-28T01:52:25.581284Z",
     "iopub.status.busy": "2020-08-28T01:52:25.580518Z",
     "iopub.status.idle": "2020-08-28T01:52:25.584781Z",
     "shell.execute_reply": "2020-08-28T01:52:25.585402Z"
    },
    "pycharm": {
     "name": "#%%\n"
    }
   },
   "outputs": [
    {
     "name": "stdout",
     "output_type": "stream",
     "text": [
      "ML mean by formula: tensor(4.8261)\n",
      "ML std by formula: tensor(2.0598)\n"
     ]
    }
   ],
   "source": [
    "print(\"ML mean by formula:\", torch.mean(x))\n",
    "print(\"ML std by formula:\", torch.std(x, unbiased=False))"
   ]
  },
  {
   "cell_type": "code",
   "execution_count": 22,
   "metadata": {
    "collapsed": false,
    "execution": {
     "iopub.execute_input": "2020-08-28T01:52:25.590669Z",
     "iopub.status.busy": "2020-08-28T01:52:25.589895Z",
     "iopub.status.idle": "2020-08-28T01:52:25.634152Z",
     "shell.execute_reply": "2020-08-28T01:52:25.635013Z"
    },
    "pycharm": {
     "name": "#%%\n"
    }
   },
   "outputs": [
    {
     "name": "stdout",
     "output_type": "stream",
     "text": [
      "true mean vector: \n",
      " tensor([-1.,  0.,  1.])\n",
      "true covariance matrix: \n",
      " tensor([[9.0000, 6.0000, 1.2000],\n",
      "        [6.0000, 5.0000, 1.3000],\n",
      "        [1.2000, 1.3000, 0.6600]])\n"
     ]
    }
   ],
   "source": [
    "mu_true = torch.tensor([-1., 0., 1.])\n",
    "sigma_tril_true = torch.tensor([[3., 0., 0.], [2., 1., 0.], [.4, .5, .5]])\n",
    "mvn_model_true = MultivariateNormal(\n",
    "    loc=mu_true,\n",
    "    scale_tril=sigma_tril_true)\n",
    "print(\"true mean vector: \\n\", mvn_model_true.mean)\n",
    "print(\"true covariance matrix: \\n\", mvn_model_true.covariance_matrix)"
   ]
  },
  {
   "cell_type": "code",
   "execution_count": 23,
   "metadata": {
    "collapsed": false,
    "execution": {
     "iopub.execute_input": "2020-08-28T01:52:25.638494Z",
     "iopub.status.busy": "2020-08-28T01:52:25.637821Z",
     "iopub.status.idle": "2020-08-28T01:52:25.651512Z",
     "shell.execute_reply": "2020-08-28T01:52:25.652016Z"
    },
    "pycharm": {
     "name": "#%%\n"
    }
   },
   "outputs": [
    {
     "name": "stdout",
     "output_type": "stream",
     "text": [
      "negative likelihood value is tensor(4.6442)\n"
     ]
    }
   ],
   "source": [
    "sample_size = 1000\n",
    "x = mvn_model_true.sample(sample_shape=(sample_size,))\n",
    "loss_value = -torch.mean(mvn_model_true.log_prob(x))\n",
    "print(\"negative likelihood value is\", loss_value)\n"
   ]
  },
  {
   "cell_type": "code",
   "execution_count": 24,
   "metadata": {
    "collapsed": false,
    "execution": {
     "iopub.execute_input": "2020-08-28T01:52:25.657792Z",
     "iopub.status.busy": "2020-08-28T01:52:25.657021Z",
     "iopub.status.idle": "2020-08-28T01:52:26.082431Z",
     "shell.execute_reply": "2020-08-28T01:52:26.083052Z"
    },
    "pycharm": {
     "name": "#%%\n"
    }
   },
   "outputs": [],
   "source": [
    "epochs = 500\n",
    "lr = .1\n",
    "mu = torch.tensor(\n",
    "    [0., 0., 0.], requires_grad=True)\n",
    "sigma_tril = torch.tensor(\n",
    "    [[1., 0., 0.], [0., 1., 0.], [0., 0., 1.]],\n",
    "    requires_grad=True)\n",
    "optimizer = torch.optim.Adam([mu, sigma_tril], lr=lr)\n",
    "\n",
    "for epoch in range(epochs):\n",
    "    mvn_model = MultivariateNormal(\n",
    "    loc=mu,\n",
    "    scale_tril=sigma_tril)\n",
    "    loss_value = -torch.mean(mvn_model.log_prob(x))\n",
    "    optimizer.zero_grad()\n",
    "    loss_value.backward() # compute the gradient\n",
    "    optimizer.step()"
   ]
  },
  {
   "cell_type": "code",
   "execution_count": 25,
   "metadata": {
    "collapsed": false,
    "execution": {
     "iopub.execute_input": "2020-08-28T01:52:26.087693Z",
     "iopub.status.busy": "2020-08-28T01:52:26.086814Z",
     "iopub.status.idle": "2020-08-28T01:52:26.091575Z",
     "shell.execute_reply": "2020-08-28T01:52:26.092146Z"
    },
    "pycharm": {
     "name": "#%%\n"
    }
   },
   "outputs": [
    {
     "name": "stdout",
     "output_type": "stream",
     "text": [
      "ML mean by gradient descent: \n",
      " tensor([-0.9729, -0.0022,  0.9979], requires_grad=True)\n",
      "ML covariance by gradient descent: \n",
      " tensor([[9.5867, 6.1855, 1.1623],\n",
      "        [6.1855, 4.9734, 1.2497],\n",
      "        [1.1623, 1.2497, 0.6229]], grad_fn=<MmBackward>)\n"
     ]
    }
   ],
   "source": [
    "print(\"ML mean by gradient descent: \\n\",\n",
    "      mu)\n",
    "print(\"ML covariance by gradient descent: \\n\",\n",
    "      sigma_tril @ torch.transpose(sigma_tril, 0, 1))"
   ]
  },
  {
   "cell_type": "code",
   "execution_count": 26,
   "metadata": {
    "collapsed": false,
    "execution": {
     "iopub.execute_input": "2020-08-28T01:52:26.096401Z",
     "iopub.status.busy": "2020-08-28T01:52:26.095644Z",
     "iopub.status.idle": "2020-08-28T01:52:26.100580Z",
     "shell.execute_reply": "2020-08-28T01:52:26.100052Z"
    },
    "pycharm": {
     "name": "#%%\n"
    }
   },
   "outputs": [
    {
     "name": "stdout",
     "output_type": "stream",
     "text": [
      "ML mean by formula: \n",
      " tensor([-0.9729, -0.0022,  0.9979])\n",
      "ML covariance by formula: \n",
      " tensor([[9.5868, 6.1855, 1.1624],\n",
      "        [6.1855, 4.9734, 1.2497],\n",
      "        [1.1624, 1.2497, 0.6229]])\n"
     ]
    }
   ],
   "source": [
    "sample_mean = torch.mean(x, dim = 0)\n",
    "sample_moment2 = (torch.transpose(x, 0, 1) @ x) / sample_size\n",
    "sample_cov = sample_moment2 - torch.ger(sample_mean, sample_mean)\n",
    "print(\"ML mean by formula: \\n\",\n",
    "      sample_mean)\n",
    "print(\"ML covariance by formula: \\n\",\n",
    "      sample_cov)"
   ]
  }
 ],
 "metadata": {
  "kernelspec": {
   "display_name": "Python 3",
   "language": "python",
   "name": "python3"
  },
  "language_info": {
   "codemirror_mode": {
    "name": "ipython",
    "version": 3
   },
   "file_extension": ".py",
   "mimetype": "text/x-python",
   "name": "python",
   "nbconvert_exporter": "python",
   "pygments_lexer": "ipython3",
   "version": "3.8.5"
  }
 },
 "nbformat": 4,
 "nbformat_minor": 0
}