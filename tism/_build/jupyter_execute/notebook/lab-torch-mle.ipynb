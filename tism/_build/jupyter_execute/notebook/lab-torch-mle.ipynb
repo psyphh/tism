{
 "cells": [
  {
   "cell_type": "markdown",
   "metadata": {
    "collapsed": false
   },
   "source": [
    "Lab: 最大概似估計\n",
    "================"
   ]
  },
  {
   "cell_type": "code",
   "execution_count": 1,
   "metadata": {
    "collapsed": true,
    "execution": {
     "iopub.execute_input": "2020-09-10T05:28:01.033452Z",
     "iopub.status.busy": "2020-09-10T05:28:01.032740Z",
     "iopub.status.idle": "2020-09-10T05:28:01.350729Z",
     "shell.execute_reply": "2020-09-10T05:28:01.351418Z"
    }
   },
   "outputs": [],
   "source": [
    "import torch"
   ]
  },
  {
   "cell_type": "markdown",
   "metadata": {
    "collapsed": false,
    "pycharm": {
     "name": "#%% md\n"
    }
   },
   "source": [
    "## `torch` 分配物件"
   ]
  },
  {
   "cell_type": "code",
   "execution_count": 2,
   "metadata": {
    "collapsed": false,
    "execution": {
     "iopub.execute_input": "2020-09-10T05:28:01.356254Z",
     "iopub.status.busy": "2020-09-10T05:28:01.355393Z",
     "iopub.status.idle": "2020-09-10T05:28:01.357832Z",
     "shell.execute_reply": "2020-09-10T05:28:01.358284Z"
    },
    "pycharm": {
     "name": "#%%\n"
    }
   },
   "outputs": [],
   "source": [
    "from torch.distributions import Normal\n",
    "normal = Normal(loc=0., scale=1.)"
   ]
  },
  {
   "cell_type": "code",
   "execution_count": 3,
   "metadata": {
    "collapsed": false,
    "execution": {
     "iopub.execute_input": "2020-09-10T05:28:01.363346Z",
     "iopub.status.busy": "2020-09-10T05:28:01.362421Z",
     "iopub.status.idle": "2020-09-10T05:28:01.369586Z",
     "shell.execute_reply": "2020-09-10T05:28:01.370036Z"
    },
    "pycharm": {
     "name": "#%%\n"
    }
   },
   "outputs": [
    {
     "name": "stdout",
     "output_type": "stream",
     "text": [
      "random sample with shape ():\n",
      " tensor(0.3471)\n",
      "random sample with shape (3,):\n",
      " tensor([ 0.2764,  1.3294, -0.0920])\n",
      "random sample with shape (2,3):\n",
      " tensor([[ 2.6177,  0.8466,  1.3437],\n",
      "        [-1.4105,  1.9438,  0.5512]])\n"
     ]
    }
   ],
   "source": [
    "print(\"random sample with shape ():\\n\",\n",
    "      normal.sample())\n",
    "print(\"random sample with shape (3,):\\n\",\n",
    "      normal.sample(sample_shape=(3,)))\n",
    "print(\"random sample with shape (2,3):\\n\",\n",
    "      normal.sample(sample_shape=(2, 3)))"
   ]
  },
  {
   "cell_type": "code",
   "execution_count": 4,
   "metadata": {
    "collapsed": false,
    "execution": {
     "iopub.execute_input": "2020-09-10T05:28:01.375073Z",
     "iopub.status.busy": "2020-09-10T05:28:01.374030Z",
     "iopub.status.idle": "2020-09-10T05:28:01.379836Z",
     "shell.execute_reply": "2020-09-10T05:28:01.380325Z"
    },
    "pycharm": {
     "name": "#%%\n"
    }
   },
   "outputs": [
    {
     "name": "stdout",
     "output_type": "stream",
     "text": [
      "cumulative probability given value with shape ():\n",
      " tensor(0.5000) \n",
      "\n",
      "cumulative probability given value with (3,):\n",
      " tensor([0.1587, 0.5000, 0.6915]) \n",
      "\n",
      "cumulative probability given value with (2,3):\n",
      " tensor([[0.1587, 0.5000, 0.6915],\n",
      "        [0.0228, 0.8413, 0.9987]])\n"
     ]
    }
   ],
   "source": [
    "print(\"cumulative probability given value with shape ():\\n\",\n",
    "      normal.cdf(value=0), \"\\n\")\n",
    "print(\"cumulative probability given value with (3,):\\n\",\n",
    "      normal.cdf(value=torch.Tensor([-1, 0, .5])), \"\\n\")\n",
    "print(\"cumulative probability given value with (2,3):\\n\",\n",
    "      normal.cdf(value=torch.Tensor([[-1, 0, .5], [-2, 1, 3]])))"
   ]
  },
  {
   "cell_type": "code",
   "execution_count": 5,
   "metadata": {
    "collapsed": false,
    "execution": {
     "iopub.execute_input": "2020-09-10T05:28:01.384801Z",
     "iopub.status.busy": "2020-09-10T05:28:01.384069Z",
     "iopub.status.idle": "2020-09-10T05:28:01.389144Z",
     "shell.execute_reply": "2020-09-10T05:28:01.389610Z"
    },
    "pycharm": {
     "name": "#%%\n"
    }
   },
   "outputs": [
    {
     "name": "stdout",
     "output_type": "stream",
     "text": [
      "cumulative probability given value with shape ():\n",
      " tensor(-0.9189) \n",
      "\n",
      "cumulative probability given value with (3,):\n",
      " tensor([-1.4189, -0.9189, -1.0439]) \n",
      "\n",
      "cumulative probability given value with (2,3):\n",
      " tensor([[-1.4189, -0.9189, -1.0439],\n",
      "        [-2.9189, -1.4189, -5.4189]])\n"
     ]
    }
   ],
   "source": [
    "print(\"cumulative probability given value with shape ():\\n\",\n",
    "      normal.log_prob(value=0), \"\\n\")\n",
    "print(\"cumulative probability given value with (3,):\\n\",\n",
    "      normal.log_prob(value=torch.Tensor([-1, 0, .5])), \"\\n\")\n",
    "print(\"cumulative probability given value with (2,3):\\n\",\n",
    "      normal.log_prob(value=torch.Tensor([[-1, 0, .5], [-2, 1, 3]])))"
   ]
  },
  {
   "cell_type": "code",
   "execution_count": 6,
   "metadata": {
    "collapsed": false,
    "execution": {
     "iopub.execute_input": "2020-09-10T05:28:01.392947Z",
     "iopub.status.busy": "2020-09-10T05:28:01.392332Z",
     "iopub.status.idle": "2020-09-10T05:28:01.394456Z",
     "shell.execute_reply": "2020-09-10T05:28:01.394911Z"
    },
    "pycharm": {
     "name": "#%%\n"
    }
   },
   "outputs": [
    {
     "name": "stdout",
     "output_type": "stream",
     "text": [
      "Normal(loc: 0.0, scale: 1.0)\n"
     ]
    }
   ],
   "source": [
    "print(normal)"
   ]
  },
  {
   "cell_type": "code",
   "execution_count": 7,
   "metadata": {
    "collapsed": false,
    "execution": {
     "iopub.execute_input": "2020-09-10T05:28:01.398285Z",
     "iopub.status.busy": "2020-09-10T05:28:01.397612Z",
     "iopub.status.idle": "2020-09-10T05:28:01.399875Z",
     "shell.execute_reply": "2020-09-10T05:28:01.400336Z"
    },
    "pycharm": {
     "name": "#%%\n"
    }
   },
   "outputs": [
    {
     "name": "stdout",
     "output_type": "stream",
     "text": [
      "torch.Size([])\n",
      "torch.Size([])\n"
     ]
    }
   ],
   "source": [
    "print(normal.batch_shape)\n",
    "print(normal.event_shape)"
   ]
  },
  {
   "cell_type": "code",
   "execution_count": 8,
   "metadata": {
    "collapsed": false,
    "execution": {
     "iopub.execute_input": "2020-09-10T05:28:01.404010Z",
     "iopub.status.busy": "2020-09-10T05:28:01.403377Z",
     "iopub.status.idle": "2020-09-10T05:28:01.405455Z",
     "shell.execute_reply": "2020-09-10T05:28:01.405970Z"
    },
    "pycharm": {
     "name": "#%%\n"
    }
   },
   "outputs": [
    {
     "name": "stdout",
     "output_type": "stream",
     "text": [
      "Normal(loc: torch.Size([2]), scale: torch.Size([2]))\n"
     ]
    }
   ],
   "source": [
    "normal_batch = Normal(loc=torch.Tensor([0., 1.]), scale=torch.Tensor([1., 1.5]))\n",
    "print(normal_batch)"
   ]
  },
  {
   "cell_type": "code",
   "execution_count": 9,
   "metadata": {
    "collapsed": false,
    "execution": {
     "iopub.execute_input": "2020-09-10T05:28:01.409686Z",
     "iopub.status.busy": "2020-09-10T05:28:01.409002Z",
     "iopub.status.idle": "2020-09-10T05:28:01.413625Z",
     "shell.execute_reply": "2020-09-10T05:28:01.414084Z"
    },
    "pycharm": {
     "name": "#%%\n"
    }
   },
   "outputs": [
    {
     "name": "stdout",
     "output_type": "stream",
     "text": [
      "random sample with sample_shape ():\n",
      " tensor([0.4789, 1.5501]) \n",
      "\n",
      "random sample with sample_shape (3,):\n",
      " tensor([[ 0.4099, -1.1181],\n",
      "        [ 1.0750, -0.2275],\n",
      "        [ 0.6607,  0.8156]]) \n",
      "\n",
      "random sample with sample_shape (2,3):\n",
      " tensor([[[-0.3418,  2.8886],\n",
      "         [ 0.5395,  3.4939],\n",
      "         [ 0.4751,  1.0449]],\n",
      "\n",
      "        [[-0.6914,  0.2891],\n",
      "         [-1.2024,  0.6521],\n",
      "         [-0.9135,  0.6125]]])\n"
     ]
    }
   ],
   "source": [
    "print(\"random sample with sample_shape ():\\n\",\n",
    "      normal_batch.sample(), \"\\n\")\n",
    "print(\"random sample with sample_shape (3,):\\n\",\n",
    "      normal_batch.sample(sample_shape=(3,)), \"\\n\")\n",
    "print(\"random sample with sample_shape (2,3):\\n\",\n",
    "      normal_batch.sample(sample_shape=(2,3)))\n"
   ]
  },
  {
   "cell_type": "code",
   "execution_count": 10,
   "metadata": {
    "collapsed": false,
    "execution": {
     "iopub.execute_input": "2020-09-10T05:28:01.418189Z",
     "iopub.status.busy": "2020-09-10T05:28:01.417485Z",
     "iopub.status.idle": "2020-09-10T05:28:01.422331Z",
     "shell.execute_reply": "2020-09-10T05:28:01.422809Z"
    },
    "pycharm": {
     "name": "#%%\n"
    }
   },
   "outputs": [
    {
     "name": "stdout",
     "output_type": "stream",
     "text": [
      "log-probability given value with shape ():\n",
      " tensor([-0.9189, -1.5466]) \n",
      "\n",
      "log-probability given value with shape (2,):\n",
      " tensor([-0.9189, -1.5466]) \n",
      "\n",
      "log-probability given value with shape (2,1):\n",
      " tensor([[-0.9189, -1.5466],\n",
      "        [-0.9189, -1.5466]])\n"
     ]
    }
   ],
   "source": [
    "print(\"log-probability given value with shape ():\\n\",\n",
    "      normal_batch.log_prob(0), \"\\n\")\n",
    "print(\"log-probability given value with shape (2,):\\n\",\n",
    "      normal_batch.log_prob(torch.Tensor([0, 0])), \"\\n\")\n",
    "print(\"log-probability given value with shape (2,1):\\n\",\n",
    "      normal_batch.log_prob(torch.Tensor([[0], [0]])))"
   ]
  },
  {
   "cell_type": "code",
   "execution_count": 11,
   "metadata": {
    "collapsed": false,
    "execution": {
     "iopub.execute_input": "2020-09-10T05:28:01.426649Z",
     "iopub.status.busy": "2020-09-10T05:28:01.425989Z",
     "iopub.status.idle": "2020-09-10T05:28:01.428496Z",
     "shell.execute_reply": "2020-09-10T05:28:01.428958Z"
    },
    "pycharm": {
     "name": "#%%\n"
    }
   },
   "outputs": [
    {
     "name": "stdout",
     "output_type": "stream",
     "text": [
      "MultivariateNormal(loc: torch.Size([2]), scale_tril: torch.Size([2, 2]))\n"
     ]
    }
   ],
   "source": [
    "from torch.distributions import MultivariateNormal\n",
    "mvn = MultivariateNormal(\n",
    "    loc=torch.Tensor([0, 1]),\n",
    "    scale_tril=torch.cholesky(torch.Tensor([[1., 0.], [0., .5]])))\n",
    "print(mvn)\n"
   ]
  },
  {
   "cell_type": "code",
   "execution_count": 12,
   "metadata": {
    "collapsed": false,
    "execution": {
     "iopub.execute_input": "2020-09-10T05:28:01.432761Z",
     "iopub.status.busy": "2020-09-10T05:28:01.432150Z",
     "iopub.status.idle": "2020-09-10T05:28:01.437790Z",
     "shell.execute_reply": "2020-09-10T05:28:01.438351Z"
    },
    "pycharm": {
     "name": "#%%\n"
    }
   },
   "outputs": [
    {
     "name": "stdout",
     "output_type": "stream",
     "text": [
      "random sample with sample_shape ():\n",
      " tensor([0.1373, 1.4793]) \n",
      "\n",
      "random sample with sample_shape (3,):\n",
      " tensor([[1.7331, 2.1149],\n",
      "        [0.1035, 0.5050],\n",
      "        [0.3499, 0.9203]]) \n",
      "\n",
      "random sample with sample_shape (2, 3):\n",
      " tensor([[[-0.0942,  2.6992],\n",
      "         [ 0.4968,  1.4207],\n",
      "         [ 0.7308,  0.2046]],\n",
      "\n",
      "        [[ 0.0976,  0.4487],\n",
      "         [ 1.9930,  0.9622],\n",
      "         [-0.0584,  0.3790]]])\n"
     ]
    }
   ],
   "source": [
    "print(\"random sample with sample_shape ():\\n\",\n",
    "      mvn.sample(), \"\\n\")\n",
    "print(\"random sample with sample_shape (3,):\\n\",\n",
    "      mvn.sample(sample_shape=(3,)), \"\\n\")\n",
    "print(\"random sample with sample_shape (2, 3):\\n\",\n",
    "      mvn.sample(sample_shape=(2, 3)))"
   ]
  },
  {
   "cell_type": "code",
   "execution_count": 13,
   "metadata": {
    "collapsed": false,
    "execution": {
     "iopub.execute_input": "2020-09-10T05:28:01.442132Z",
     "iopub.status.busy": "2020-09-10T05:28:01.441447Z",
     "iopub.status.idle": "2020-09-10T05:28:01.445837Z",
     "shell.execute_reply": "2020-09-10T05:28:01.446300Z"
    },
    "pycharm": {
     "name": "#%%\n"
    }
   },
   "outputs": [
    {
     "name": "stdout",
     "output_type": "stream",
     "text": [
      "log-probability given value with shape (2,):\n",
      " tensor(-2.4913) \n",
      "\n",
      "log-probability given value with shape (2,1):\n",
      " tensor([-2.4913, -2.4913])\n"
     ]
    }
   ],
   "source": [
    "print(\"log-probability given value with shape (2,):\\n\",\n",
    "      mvn.log_prob(torch.Tensor([0, 0])), \"\\n\")\n",
    "print(\"log-probability given value with shape (2,1):\\n\",\n",
    "      mvn.log_prob(torch.Tensor([[0, 0], [0, 0]])))"
   ]
  },
  {
   "cell_type": "code",
   "execution_count": 14,
   "metadata": {
    "collapsed": false,
    "execution": {
     "iopub.execute_input": "2020-09-10T05:28:01.450022Z",
     "iopub.status.busy": "2020-09-10T05:28:01.449363Z",
     "iopub.status.idle": "2020-09-10T05:28:01.451555Z",
     "shell.execute_reply": "2020-09-10T05:28:01.452016Z"
    },
    "pycharm": {
     "name": "#%%\n"
    }
   },
   "outputs": [
    {
     "name": "stdout",
     "output_type": "stream",
     "text": [
      "torch.Size([])\n",
      "torch.Size([2])\n"
     ]
    }
   ],
   "source": [
    "from torch.distributions import Independent\n",
    "normal_batch = Independent(normal_batch, reinterpreted_batch_ndims=1)\n",
    "print(normal_batch.batch_shape)\n",
    "print(normal_batch.event_shape)\n"
   ]
  },
  {
   "cell_type": "code",
   "execution_count": 15,
   "metadata": {
    "collapsed": false,
    "execution": {
     "iopub.execute_input": "2020-09-10T05:28:01.455717Z",
     "iopub.status.busy": "2020-09-10T05:28:01.455131Z",
     "iopub.status.idle": "2020-09-10T05:28:01.463433Z",
     "shell.execute_reply": "2020-09-10T05:28:01.463857Z"
    },
    "pycharm": {
     "name": "#%%\n"
    }
   },
   "outputs": [
    {
     "data": {
      "text/plain": [
       "MultivariateNormal(loc: torch.Size([3, 2]), scale_tril: torch.Size([3, 2, 2]))"
      ]
     },
     "execution_count": 15,
     "metadata": {},
     "output_type": "execute_result"
    }
   ],
   "source": [
    "mvn_batch = MultivariateNormal(\n",
    "    loc=torch.Tensor([[0, 1],[1, 2],[2, 3]]),\n",
    "    scale_tril=torch.cholesky(torch.Tensor([[1., .2], [.2, .5]])))\n",
    "mvn_batch"
   ]
  },
  {
   "cell_type": "code",
   "execution_count": 16,
   "metadata": {
    "collapsed": false,
    "execution": {
     "iopub.execute_input": "2020-09-10T05:28:01.467886Z",
     "iopub.status.busy": "2020-09-10T05:28:01.467225Z",
     "iopub.status.idle": "2020-09-10T05:28:01.472767Z",
     "shell.execute_reply": "2020-09-10T05:28:01.473246Z"
    },
    "pycharm": {
     "name": "#%%\n"
    }
   },
   "outputs": [
    {
     "name": "stdout",
     "output_type": "stream",
     "text": [
      "random sample with sample_shape ():\n",
      " tensor([[-0.9025,  0.7102],\n",
      "        [-1.4402,  0.8393],\n",
      "        [ 1.4704,  3.6990]]) \n",
      "\n",
      "random sample with sample_shape (3,):\n",
      " tensor([[[-2.1170,  1.3513],\n",
      "         [ 1.5338,  1.4740],\n",
      "         [ 2.7437,  2.3366]],\n",
      "\n",
      "        [[ 0.2841,  0.7145],\n",
      "         [ 0.4565,  3.0112],\n",
      "         [ 0.8437,  3.9906]],\n",
      "\n",
      "        [[ 0.5743,  0.8828],\n",
      "         [ 1.8611,  2.7959],\n",
      "         [ 3.2177,  3.9537]]]) \n",
      "\n",
      "random sample with sample_shape (2, 3):\n",
      " tensor([[[[ 0.2302,  0.1240],\n",
      "          [ 0.0167,  0.5930],\n",
      "          [ 1.0884,  1.6395]],\n",
      "\n",
      "         [[ 0.8134,  1.7372],\n",
      "          [ 1.5693,  2.0849],\n",
      "          [ 4.6024,  2.9109]],\n",
      "\n",
      "         [[ 0.0443,  0.3992],\n",
      "          [ 1.2023,  2.6121],\n",
      "          [ 2.3752,  4.1484]]],\n",
      "\n",
      "\n",
      "        [[[-0.7692,  1.5281],\n",
      "          [ 0.0667,  0.8561],\n",
      "          [ 1.9542,  4.6272]],\n",
      "\n",
      "         [[ 0.9022,  0.7512],\n",
      "          [ 2.5382,  2.2632],\n",
      "          [ 0.8168,  3.9857]],\n",
      "\n",
      "         [[ 0.0511,  1.4663],\n",
      "          [ 0.4689,  2.6174],\n",
      "          [ 1.5000,  2.6020]]]])\n"
     ]
    }
   ],
   "source": [
    "print(\"random sample with sample_shape ():\\n\",\n",
    "      mvn_batch.sample(), \"\\n\")\n",
    "print(\"random sample with sample_shape (3,):\\n\",\n",
    "      mvn_batch.sample(sample_shape=(3,)), \"\\n\")\n",
    "print(\"random sample with sample_shape (2, 3):\\n\",\n",
    "      mvn_batch.sample(sample_shape=(2, 3)))"
   ]
  },
  {
   "cell_type": "markdown",
   "metadata": {
    "collapsed": false,
    "pycharm": {
     "name": "#%% md\n"
    }
   },
   "source": [
    "## 計算最大概似估計值"
   ]
  },
  {
   "cell_type": "code",
   "execution_count": 17,
   "metadata": {
    "collapsed": false,
    "execution": {
     "iopub.execute_input": "2020-09-10T05:28:01.477005Z",
     "iopub.status.busy": "2020-09-10T05:28:01.476403Z",
     "iopub.status.idle": "2020-09-10T05:28:01.479595Z",
     "shell.execute_reply": "2020-09-10T05:28:01.480049Z"
    },
    "pycharm": {
     "name": "#%%\n"
    }
   },
   "outputs": [
    {
     "name": "stdout",
     "output_type": "stream",
     "text": [
      "normal model:\n",
      " Normal(loc: tensor([5.]), scale: tensor([2.])) \n",
      "\n"
     ]
    }
   ],
   "source": [
    "mu_true = torch.tensor([5.])\n",
    "sigma_true = torch.tensor([2.])\n",
    "model_normal_true = Normal(\n",
    "    loc=mu_true,\n",
    "    scale=sigma_true)\n",
    "print(\"normal model:\\n\", model_normal_true, \"\\n\")"
   ]
  },
  {
   "cell_type": "code",
   "execution_count": 18,
   "metadata": {
    "collapsed": false,
    "execution": {
     "iopub.execute_input": "2020-09-10T05:28:01.483757Z",
     "iopub.status.busy": "2020-09-10T05:28:01.483130Z",
     "iopub.status.idle": "2020-09-10T05:28:01.486297Z",
     "shell.execute_reply": "2020-09-10T05:28:01.486793Z"
    },
    "pycharm": {
     "name": "#%%\n"
    }
   },
   "outputs": [
    {
     "name": "stdout",
     "output_type": "stream",
     "text": [
      "negative likelihood value is tensor(2.0891)\n"
     ]
    }
   ],
   "source": [
    "sample_size = 1000\n",
    "x = model_normal_true.sample(sample_shape=(sample_size,))\n",
    "loss_value = -torch.mean(torch.sum(model_normal_true.log_prob(x), dim = 1))\n",
    "print(\"negative likelihood value is\", loss_value)\n"
   ]
  },
  {
   "cell_type": "code",
   "execution_count": 19,
   "metadata": {
    "collapsed": false,
    "execution": {
     "iopub.execute_input": "2020-09-10T05:28:01.491522Z",
     "iopub.status.busy": "2020-09-10T05:28:01.490921Z",
     "iopub.status.idle": "2020-09-10T05:28:01.576187Z",
     "shell.execute_reply": "2020-09-10T05:28:01.575680Z"
    },
    "pycharm": {
     "name": "#%%\n"
    }
   },
   "outputs": [],
   "source": [
    "epochs = 200\n",
    "lr = 1.0\n",
    "mu = torch.tensor([0.], requires_grad=True)\n",
    "sigma = torch.tensor([1.], requires_grad=True)\n",
    "opt = torch.optim.Adam([mu, sigma], lr=.5)\n",
    "for epoch in range(epochs):\n",
    "    model_normal = Normal(loc=mu, scale=sigma)\n",
    "    loss_value = -torch.mean(model_normal.log_prob(x))\n",
    "    opt.zero_grad()\n",
    "    loss_value.backward() # compute the gradient\n",
    "    opt.step()"
   ]
  },
  {
   "cell_type": "code",
   "execution_count": 20,
   "metadata": {
    "collapsed": false,
    "execution": {
     "iopub.execute_input": "2020-09-10T05:28:01.579741Z",
     "iopub.status.busy": "2020-09-10T05:28:01.579072Z",
     "iopub.status.idle": "2020-09-10T05:28:01.582955Z",
     "shell.execute_reply": "2020-09-10T05:28:01.583484Z"
    },
    "pycharm": {
     "name": "#%%\n"
    }
   },
   "outputs": [
    {
     "name": "stdout",
     "output_type": "stream",
     "text": [
      "ML mean by gradient descent: tensor([5.0607], requires_grad=True)\n",
      "ML std by gradient descent: tensor([1.9505], requires_grad=True)\n"
     ]
    }
   ],
   "source": [
    "print(\"ML mean by gradient descent:\", mu)\n",
    "print(\"ML std by gradient descent:\", sigma)"
   ]
  },
  {
   "cell_type": "code",
   "execution_count": 21,
   "metadata": {
    "collapsed": false,
    "execution": {
     "iopub.execute_input": "2020-09-10T05:28:01.586868Z",
     "iopub.status.busy": "2020-09-10T05:28:01.586221Z",
     "iopub.status.idle": "2020-09-10T05:28:01.589761Z",
     "shell.execute_reply": "2020-09-10T05:28:01.590224Z"
    },
    "pycharm": {
     "name": "#%%\n"
    }
   },
   "outputs": [
    {
     "name": "stdout",
     "output_type": "stream",
     "text": [
      "ML mean by formula: tensor(5.0605)\n",
      "ML std by formula: tensor(1.9526)\n"
     ]
    }
   ],
   "source": [
    "print(\"ML mean by formula:\", torch.mean(x))\n",
    "print(\"ML std by formula:\", torch.std(x, unbiased=False))"
   ]
  },
  {
   "cell_type": "code",
   "execution_count": 22,
   "metadata": {
    "collapsed": false,
    "execution": {
     "iopub.execute_input": "2020-09-10T05:28:01.594472Z",
     "iopub.status.busy": "2020-09-10T05:28:01.593808Z",
     "iopub.status.idle": "2020-09-10T05:28:01.597679Z",
     "shell.execute_reply": "2020-09-10T05:28:01.598142Z"
    },
    "pycharm": {
     "name": "#%%\n"
    }
   },
   "outputs": [
    {
     "name": "stdout",
     "output_type": "stream",
     "text": [
      "true mean vector: \n",
      " tensor([-1.,  0.,  1.])\n",
      "true covariance matrix: \n",
      " tensor([[9.0000, 6.0000, 1.2000],\n",
      "        [6.0000, 5.0000, 1.3000],\n",
      "        [1.2000, 1.3000, 0.6600]])\n"
     ]
    }
   ],
   "source": [
    "mu_true = torch.tensor([-1., 0., 1.])\n",
    "sigma_tril_true = torch.tensor([[3., 0., 0.], [2., 1., 0.], [.4, .5, .5]])\n",
    "model_mvn_true = MultivariateNormal(\n",
    "    loc=mu_true,\n",
    "    scale_tril=sigma_tril_true)\n",
    "print(\"true mean vector: \\n\", model_mvn_true.mean)\n",
    "print(\"true covariance matrix: \\n\", model_mvn_true.covariance_matrix)"
   ]
  },
  {
   "cell_type": "code",
   "execution_count": 23,
   "metadata": {
    "collapsed": false,
    "execution": {
     "iopub.execute_input": "2020-09-10T05:28:01.601974Z",
     "iopub.status.busy": "2020-09-10T05:28:01.601221Z",
     "iopub.status.idle": "2020-09-10T05:28:01.605102Z",
     "shell.execute_reply": "2020-09-10T05:28:01.605486Z"
    },
    "pycharm": {
     "name": "#%%\n"
    }
   },
   "outputs": [
    {
     "name": "stdout",
     "output_type": "stream",
     "text": [
      "negative likelihood value is tensor(4.6588)\n"
     ]
    }
   ],
   "source": [
    "sample_size = 1000\n",
    "x = model_mvn_true.sample(sample_shape=(sample_size,))\n",
    "loss_value = -torch.mean(model_mvn_true.log_prob(x))\n",
    "print(\"negative likelihood value is\", loss_value)\n"
   ]
  },
  {
   "cell_type": "code",
   "execution_count": 24,
   "metadata": {
    "collapsed": false,
    "execution": {
     "iopub.execute_input": "2020-09-10T05:28:01.610895Z",
     "iopub.status.busy": "2020-09-10T05:28:01.610173Z",
     "iopub.status.idle": "2020-09-10T05:28:01.990673Z",
     "shell.execute_reply": "2020-09-10T05:28:01.991334Z"
    },
    "pycharm": {
     "name": "#%%\n"
    }
   },
   "outputs": [],
   "source": [
    "epochs = 500\n",
    "lr = .1\n",
    "mu = torch.tensor(\n",
    "    [0., 0., 0.], requires_grad=True)\n",
    "sigma_tril = torch.tensor(\n",
    "    [[1., 0., 0.], [0., 1., 0.], [0., 0., 1.]],\n",
    "    requires_grad=True)\n",
    "opt = torch.optim.Adam([mu, sigma_tril], lr=lr)\n",
    "\n",
    "for epoch in range(epochs):\n",
    "    model_mvn = MultivariateNormal(\n",
    "    loc=mu,\n",
    "    scale_tril=sigma_tril)\n",
    "    loss_value = -torch.mean(model_mvn.log_prob(x))\n",
    "    opt.zero_grad()\n",
    "    loss_value.backward() # compute the gradient\n",
    "    opt.step()"
   ]
  },
  {
   "cell_type": "code",
   "execution_count": 25,
   "metadata": {
    "collapsed": false,
    "execution": {
     "iopub.execute_input": "2020-09-10T05:28:01.995148Z",
     "iopub.status.busy": "2020-09-10T05:28:01.994446Z",
     "iopub.status.idle": "2020-09-10T05:28:01.998734Z",
     "shell.execute_reply": "2020-09-10T05:28:01.999419Z"
    },
    "pycharm": {
     "name": "#%%\n"
    }
   },
   "outputs": [
    {
     "name": "stdout",
     "output_type": "stream",
     "text": [
      "ML mean by gradient descent: \n",
      " tensor([-1.0622, -0.0872,  0.9892], requires_grad=True)\n",
      "ML covariance by gradient descent: \n",
      " tensor([[8.4839, 5.6784, 1.1295],\n",
      "        [5.6784, 4.8110, 1.2631],\n",
      "        [1.1295, 1.2631, 0.6638]], grad_fn=<MmBackward>)\n"
     ]
    }
   ],
   "source": [
    "print(\"ML mean by gradient descent: \\n\",\n",
    "      mu)\n",
    "print(\"ML covariance by gradient descent: \\n\",\n",
    "      sigma_tril @ torch.transpose(sigma_tril, 0, 1))"
   ]
  },
  {
   "cell_type": "code",
   "execution_count": 26,
   "metadata": {
    "collapsed": false,
    "execution": {
     "iopub.execute_input": "2020-09-10T05:28:02.003569Z",
     "iopub.status.busy": "2020-09-10T05:28:02.002884Z",
     "iopub.status.idle": "2020-09-10T05:28:02.007534Z",
     "shell.execute_reply": "2020-09-10T05:28:02.008008Z"
    },
    "pycharm": {
     "name": "#%%\n"
    }
   },
   "outputs": [
    {
     "name": "stdout",
     "output_type": "stream",
     "text": [
      "ML mean by formula: \n",
      " tensor([-1.0622, -0.0872,  0.9892])\n",
      "ML covariance by formula: \n",
      " tensor([[8.4839, 5.6784, 1.1295],\n",
      "        [5.6784, 4.8110, 1.2631],\n",
      "        [1.1295, 1.2631, 0.6638]])\n"
     ]
    }
   ],
   "source": [
    "sample_mean = torch.mean(x, dim = 0)\n",
    "sample_moment2 = (torch.transpose(x, 0, 1) @ x) / sample_size\n",
    "sample_cov = sample_moment2 - torch.ger(sample_mean, sample_mean)\n",
    "print(\"ML mean by formula: \\n\",\n",
    "      sample_mean)\n",
    "print(\"ML covariance by formula: \\n\",\n",
    "      sample_cov)\n"
   ]
  },
  {
   "cell_type": "markdown",
   "metadata": {
    "collapsed": false,
    "pycharm": {
     "name": "#%% md\n"
    }
   },
   "source": [
    "## 實徵範例"
   ]
  },
  {
   "cell_type": "markdown",
   "metadata": {
    "collapsed": false,
    "pycharm": {
     "name": "#%% md\n"
    }
   },
   "source": [
    "### 產生邏吉斯迴歸資料"
   ]
  },
  {
   "cell_type": "code",
   "execution_count": 27,
   "metadata": {
    "collapsed": false,
    "execution": {
     "iopub.execute_input": "2020-09-10T05:28:02.011604Z",
     "iopub.status.busy": "2020-09-10T05:28:02.010903Z",
     "iopub.status.idle": "2020-09-10T05:28:02.016478Z",
     "shell.execute_reply": "2020-09-10T05:28:02.017138Z"
    },
    "pycharm": {
     "name": "#%%\n"
    }
   },
   "outputs": [
    {
     "data": {
      "text/plain": [
       "<torch._C.Generator at 0x7ff620fe6fb0>"
      ]
     },
     "execution_count": 27,
     "metadata": {},
     "output_type": "execute_result"
    }
   ],
   "source": [
    "torch.manual_seed(48)"
   ]
  },
  {
   "cell_type": "code",
   "execution_count": 28,
   "metadata": {
    "collapsed": false,
    "execution": {
     "iopub.execute_input": "2020-09-10T05:28:02.022744Z",
     "iopub.status.busy": "2020-09-10T05:28:02.022037Z",
     "iopub.status.idle": "2020-09-10T05:28:02.023903Z",
     "shell.execute_reply": "2020-09-10T05:28:02.024457Z"
    },
    "pycharm": {
     "name": "#%%\n"
    }
   },
   "outputs": [],
   "source": [
    "from torch.distributions import Bernoulli\n",
    "def generate_data(n_sample,\n",
    "                  weight,\n",
    "                  bias = 0,\n",
    "                  mean_feature = 0,\n",
    "                  std_feature = 1,\n",
    "                  dtype = torch.float64):\n",
    "    weight = torch.tensor(weight, dtype = dtype)\n",
    "    n_feature = weight.shape[0]\n",
    "    x = torch.normal(mean = mean_feature,\n",
    "                     std = std_feature,\n",
    "                     size = (n_sample, n_feature),\n",
    "                     dtype = dtype)\n",
    "    weight = weight.view(size = (-1, 1))\n",
    "    logit = bias + x @ weight\n",
    "    bernoulli = Bernoulli(logits = logit)\n",
    "    y = bernoulli.sample()\n",
    "    return x, y"
   ]
  },
  {
   "cell_type": "code",
   "execution_count": 29,
   "metadata": {
    "collapsed": false,
    "execution": {
     "iopub.execute_input": "2020-09-10T05:28:02.035754Z",
     "iopub.status.busy": "2020-09-10T05:28:02.035067Z",
     "iopub.status.idle": "2020-09-10T05:28:02.037654Z",
     "shell.execute_reply": "2020-09-10T05:28:02.038143Z"
    },
    "pycharm": {
     "name": "#%%\n"
    }
   },
   "outputs": [],
   "source": [
    "# run generate_data\n",
    "x, y = generate_data(n_sample = 1000,\n",
    "                     weight = [-5, 3, 0],\n",
    "                     bias = 2,\n",
    "                     mean_feature = 10,\n",
    "                     std_feature = 3,\n",
    "                     dtype = torch.float64)"
   ]
  },
  {
   "cell_type": "markdown",
   "metadata": {
    "collapsed": false
   },
   "source": [
    "### 建立一進行邏吉斯迴歸分析之物件"
   ]
  },
  {
   "cell_type": "code",
   "execution_count": 30,
   "metadata": {
    "collapsed": false,
    "execution": {
     "iopub.execute_input": "2020-09-10T05:28:02.045274Z",
     "iopub.status.busy": "2020-09-10T05:28:02.044594Z",
     "iopub.status.idle": "2020-09-10T05:28:02.046444Z",
     "shell.execute_reply": "2020-09-10T05:28:02.046900Z"
    },
    "pycharm": {
     "name": "#%%\n"
    }
   },
   "outputs": [],
   "source": [
    "# define a class to fit logistic regression\n",
    "class LogisticRegression():\n",
    "    def __init__(self, dtype = torch.float64):\n",
    "        self.dtype = dtype\n",
    "        self.weight = None\n",
    "        self.bias = None\n",
    "    def log_lik(self, x, y):\n",
    "        logit = self.bias + x @ self.weight\n",
    "        bernoulli = Bernoulli(logits = logit)\n",
    "        return torch.mean(bernoulli.log_prob(y))\n",
    "    def fit(self, x, y, epochs = 200, lr = .1):\n",
    "        if x.dtype is not self.dtype:\n",
    "            x = x.type(dtype = self.dtype)\n",
    "        if y.dtype is not self.dtype:\n",
    "            y = y.type(dtype = self.dtype)\n",
    "        n_feature = x.size()[1]\n",
    "        self.bias = torch.zeros(size = (1,),\n",
    "                                dtype = self.dtype,\n",
    "                                requires_grad = True)\n",
    "        self.weight = torch.zeros(size = (n_feature, 1),\n",
    "                                  dtype = self.dtype,\n",
    "                                  requires_grad = True)\n",
    "        opt = torch.optim.Adam([self.bias, self.weight], lr=lr)\n",
    "        for epoch in range(epochs):\n",
    "            loss_value = - self.log_lik(x, y)\n",
    "            opt.zero_grad()\n",
    "            loss_value.backward() # compute the gradient\n",
    "            opt.step()\n",
    "        return self"
   ]
  },
  {
   "cell_type": "markdown",
   "metadata": {
    "collapsed": false
   },
   "source": [
    "### 計算模型參數"
   ]
  },
  {
   "cell_type": "code",
   "execution_count": 31,
   "metadata": {
    "collapsed": false,
    "execution": {
     "iopub.execute_input": "2020-09-10T05:28:02.050537Z",
     "iopub.status.busy": "2020-09-10T05:28:02.049863Z",
     "iopub.status.idle": "2020-09-10T05:28:02.738831Z",
     "shell.execute_reply": "2020-09-10T05:28:02.739295Z"
    },
    "pycharm": {
     "name": "#%%\n"
    }
   },
   "outputs": [
    {
     "name": "stdout",
     "output_type": "stream",
     "text": [
      "tensor([3.8176], dtype=torch.float64, requires_grad=True)\n",
      "tensor([[-4.6982],\n",
      "        [ 2.6668],\n",
      "        [-0.0054]], dtype=torch.float64, requires_grad=True)\n"
     ]
    }
   ],
   "source": [
    "# fit logistic model\n",
    "model_lr = LogisticRegression()\n",
    "model_lr.fit(x, y, epochs = 2000, lr = 1)\n",
    "print(model_lr.bias)\n",
    "print(model_lr.weight)"
   ]
  },
  {
   "cell_type": "code",
   "execution_count": 32,
   "metadata": {
    "collapsed": false,
    "execution": {
     "iopub.execute_input": "2020-09-10T05:28:02.742993Z",
     "iopub.status.busy": "2020-09-10T05:28:02.742376Z",
     "iopub.status.idle": "2020-09-10T05:28:03.183422Z",
     "shell.execute_reply": "2020-09-10T05:28:03.183877Z"
    },
    "pycharm": {
     "name": "#%%\n"
    }
   },
   "outputs": [
    {
     "name": "stdout",
     "output_type": "stream",
     "text": [
      "[3.81736449]\n",
      "[[-4.69795962  2.66667074 -0.00543114]]\n"
     ]
    },
    {
     "name": "stderr",
     "output_type": "stream",
     "text": [
      "/Users/phhaung/Documents/PycharmProject/tism/venv/lib/python3.8/site-packages/sklearn/utils/validation.py:72: DataConversionWarning: A column-vector y was passed when a 1d array was expected. Please change the shape of y to (n_samples, ), for example using ravel().\n",
      "  return f(**kwargs)\n"
     ]
    }
   ],
   "source": [
    "# fit logistic model via sklearn\n",
    "# please install sklearn first\n",
    "from sklearn import linear_model\n",
    "model_lr_sklearn = linear_model.LogisticRegression(C=10000)\n",
    "model_lr_sklearn.fit(x, y)\n",
    "print(model_lr_sklearn.intercept_)\n",
    "print(model_lr_sklearn.coef_)"
   ]
  }
 ],
 "metadata": {
  "kernelspec": {
   "display_name": "Python 3",
   "language": "python",
   "name": "python3"
  },
  "language_info": {
   "codemirror_mode": {
    "name": "ipython",
    "version": 3
   },
   "file_extension": ".py",
   "mimetype": "text/x-python",
   "name": "python",
   "nbconvert_exporter": "python",
   "pygments_lexer": "ipython3",
   "version": "3.8.5"
  }
 },
 "nbformat": 4,
 "nbformat_minor": 0
}