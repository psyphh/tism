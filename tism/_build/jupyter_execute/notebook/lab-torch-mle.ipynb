{
 "cells": [
  {
   "cell_type": "markdown",
   "metadata": {
    "collapsed": false
   },
   "source": [
    "Lab: 最大概似估計\n",
    "================"
   ]
  },
  {
   "cell_type": "code",
   "execution_count": 1,
   "metadata": {
    "collapsed": true,
    "execution": {
     "iopub.execute_input": "2020-08-20T05:45:04.514879Z",
     "iopub.status.busy": "2020-08-20T05:45:04.514107Z",
     "iopub.status.idle": "2020-08-20T05:45:09.308236Z",
     "shell.execute_reply": "2020-08-20T05:45:09.308679Z"
    }
   },
   "outputs": [],
   "source": [
    "import torch"
   ]
  },
  {
   "cell_type": "code",
   "execution_count": 2,
   "metadata": {
    "collapsed": false,
    "execution": {
     "iopub.execute_input": "2020-08-20T05:45:09.312744Z",
     "iopub.status.busy": "2020-08-20T05:45:09.312121Z",
     "iopub.status.idle": "2020-08-20T05:45:09.314068Z",
     "shell.execute_reply": "2020-08-20T05:45:09.314534Z"
    },
    "pycharm": {
     "name": "#%%\n"
    }
   },
   "outputs": [],
   "source": [
    "from torch.distributions import Normal\n",
    "normal = Normal(loc=0., scale=1.)"
   ]
  },
  {
   "cell_type": "code",
   "execution_count": 3,
   "metadata": {
    "collapsed": false,
    "execution": {
     "iopub.execute_input": "2020-08-20T05:45:09.321489Z",
     "iopub.status.busy": "2020-08-20T05:45:09.320817Z",
     "iopub.status.idle": "2020-08-20T05:45:09.326731Z",
     "shell.execute_reply": "2020-08-20T05:45:09.327168Z"
    },
    "pycharm": {
     "name": "#%%\n"
    }
   },
   "outputs": [
    {
     "name": "stdout",
     "output_type": "stream",
     "text": [
      "random sample with shape ():\n",
      " tensor(-2.2001)\n",
      "random sample with shape (3,):\n",
      " tensor([-0.6555, -0.1522, -0.1238])\n",
      "random sample with shape (2,3):\n",
      " tensor([[ 1.0799,  1.3602, -1.3700],\n",
      "        [ 1.5724,  0.0683,  0.8137]])\n"
     ]
    }
   ],
   "source": [
    "print(\"random sample with shape ():\\n\",\n",
    "      normal.sample())\n",
    "print(\"random sample with shape (3,):\\n\",\n",
    "      normal.sample(sample_shape=(3,)))\n",
    "print(\"random sample with shape (2,3):\\n\",\n",
    "      normal.sample(sample_shape=(2, 3)))"
   ]
  },
  {
   "cell_type": "code",
   "execution_count": 4,
   "metadata": {
    "collapsed": false,
    "execution": {
     "iopub.execute_input": "2020-08-20T05:45:09.331504Z",
     "iopub.status.busy": "2020-08-20T05:45:09.330808Z",
     "iopub.status.idle": "2020-08-20T05:45:09.336220Z",
     "shell.execute_reply": "2020-08-20T05:45:09.336669Z"
    },
    "pycharm": {
     "name": "#%%\n"
    }
   },
   "outputs": [
    {
     "name": "stdout",
     "output_type": "stream",
     "text": [
      "cumulative probability given value with shape ():\n",
      " tensor(0.5000) \n",
      "\n",
      "cumulative probability given value with (3,):\n",
      " tensor([0.1587, 0.5000, 0.6915]) \n",
      "\n",
      "cumulative probability given value with (2,3):\n",
      " tensor([[0.1587, 0.5000, 0.6915],\n",
      "        [0.0228, 0.8413, 0.9987]])\n"
     ]
    }
   ],
   "source": [
    "print(\"cumulative probability given value with shape ():\\n\",\n",
    "      normal.cdf(value=0), \"\\n\")\n",
    "print(\"cumulative probability given value with (3,):\\n\",\n",
    "      normal.cdf(value=torch.Tensor([-1, 0, .5])), \"\\n\")\n",
    "print(\"cumulative probability given value with (2,3):\\n\",\n",
    "      normal.cdf(value=torch.Tensor([[-1, 0, .5], [-2, 1, 3]])))"
   ]
  },
  {
   "cell_type": "code",
   "execution_count": 5,
   "metadata": {
    "collapsed": false,
    "execution": {
     "iopub.execute_input": "2020-08-20T05:45:09.340889Z",
     "iopub.status.busy": "2020-08-20T05:45:09.340192Z",
     "iopub.status.idle": "2020-08-20T05:45:09.345378Z",
     "shell.execute_reply": "2020-08-20T05:45:09.345839Z"
    },
    "pycharm": {
     "name": "#%%\n"
    }
   },
   "outputs": [
    {
     "name": "stdout",
     "output_type": "stream",
     "text": [
      "cumulative probability given value with shape ():\n",
      " tensor(-0.9189) \n",
      "\n",
      "cumulative probability given value with (3,):\n",
      " tensor([-1.4189, -0.9189, -1.0439]) \n",
      "\n",
      "cumulative probability given value with (2,3):\n",
      " tensor([[-1.4189, -0.9189, -1.0439],\n",
      "        [-2.9189, -1.4189, -5.4189]])\n"
     ]
    }
   ],
   "source": [
    "print(\"cumulative probability given value with shape ():\\n\",\n",
    "      normal.log_prob(value=0), \"\\n\")\n",
    "print(\"cumulative probability given value with (3,):\\n\",\n",
    "      normal.log_prob(value=torch.Tensor([-1, 0, .5])), \"\\n\")\n",
    "print(\"cumulative probability given value with (2,3):\\n\",\n",
    "      normal.log_prob(value=torch.Tensor([[-1, 0, .5], [-2, 1, 3]])))"
   ]
  },
  {
   "cell_type": "code",
   "execution_count": 6,
   "metadata": {
    "collapsed": false,
    "execution": {
     "iopub.execute_input": "2020-08-20T05:45:09.349377Z",
     "iopub.status.busy": "2020-08-20T05:45:09.348732Z",
     "iopub.status.idle": "2020-08-20T05:45:09.350988Z",
     "shell.execute_reply": "2020-08-20T05:45:09.351440Z"
    },
    "pycharm": {
     "name": "#%%\n"
    }
   },
   "outputs": [
    {
     "name": "stdout",
     "output_type": "stream",
     "text": [
      "Normal(loc: 0.0, scale: 1.0)\n"
     ]
    }
   ],
   "source": [
    "print(normal)"
   ]
  },
  {
   "cell_type": "code",
   "execution_count": 7,
   "metadata": {
    "collapsed": false,
    "execution": {
     "iopub.execute_input": "2020-08-20T05:45:09.355170Z",
     "iopub.status.busy": "2020-08-20T05:45:09.354490Z",
     "iopub.status.idle": "2020-08-20T05:45:09.356856Z",
     "shell.execute_reply": "2020-08-20T05:45:09.357324Z"
    },
    "pycharm": {
     "name": "#%%\n"
    }
   },
   "outputs": [
    {
     "name": "stdout",
     "output_type": "stream",
     "text": [
      "torch.Size([])\n",
      "torch.Size([])\n"
     ]
    }
   ],
   "source": [
    "print(normal.batch_shape)\n",
    "print(normal.event_shape)"
   ]
  },
  {
   "cell_type": "code",
   "execution_count": 8,
   "metadata": {
    "collapsed": false,
    "execution": {
     "iopub.execute_input": "2020-08-20T05:45:09.361021Z",
     "iopub.status.busy": "2020-08-20T05:45:09.360276Z",
     "iopub.status.idle": "2020-08-20T05:45:09.362661Z",
     "shell.execute_reply": "2020-08-20T05:45:09.363131Z"
    },
    "pycharm": {
     "name": "#%%\n"
    }
   },
   "outputs": [
    {
     "name": "stdout",
     "output_type": "stream",
     "text": [
      "Normal(loc: torch.Size([2]), scale: torch.Size([2]))\n"
     ]
    }
   ],
   "source": [
    "normal_batch = Normal(loc=torch.Tensor([0., 1.]), scale=torch.Tensor([1., 1.5]))\n",
    "print(normal_batch)"
   ]
  },
  {
   "cell_type": "code",
   "execution_count": 9,
   "metadata": {
    "collapsed": false,
    "execution": {
     "iopub.execute_input": "2020-08-20T05:45:09.367081Z",
     "iopub.status.busy": "2020-08-20T05:45:09.366387Z",
     "iopub.status.idle": "2020-08-20T05:45:09.372111Z",
     "shell.execute_reply": "2020-08-20T05:45:09.371662Z"
    },
    "pycharm": {
     "name": "#%%\n"
    }
   },
   "outputs": [
    {
     "name": "stdout",
     "output_type": "stream",
     "text": [
      "random sample with sample_shape ():\n",
      " tensor([0.2274, 0.0266]) \n",
      "\n",
      "random sample with sample_shape (3,):\n",
      " tensor([[-1.3639,  3.5289],\n",
      "        [-1.1314,  0.4441],\n",
      "        [-1.7837,  0.5650]]) \n",
      "\n",
      "random sample with sample_shape (2,3):\n",
      " tensor([[[-1.1421,  0.6511],\n",
      "         [-0.7792, -0.0861],\n",
      "         [ 0.1006,  2.2322]],\n",
      "\n",
      "        [[ 0.2150,  0.0298],\n",
      "         [ 1.1210,  0.3860],\n",
      "         [ 0.2337, -0.3509]]])\n"
     ]
    }
   ],
   "source": [
    "print(\"random sample with sample_shape ():\\n\",\n",
    "      normal_batch.sample(), \"\\n\")\n",
    "print(\"random sample with sample_shape (3,):\\n\",\n",
    "      normal_batch.sample(sample_shape=(3,)), \"\\n\")\n",
    "print(\"random sample with sample_shape (2,3):\\n\",\n",
    "      normal_batch.sample(sample_shape=(2,3)))\n"
   ]
  },
  {
   "cell_type": "code",
   "execution_count": 10,
   "metadata": {
    "collapsed": false,
    "execution": {
     "iopub.execute_input": "2020-08-20T05:45:09.376184Z",
     "iopub.status.busy": "2020-08-20T05:45:09.375446Z",
     "iopub.status.idle": "2020-08-20T05:45:09.381250Z",
     "shell.execute_reply": "2020-08-20T05:45:09.381771Z"
    },
    "pycharm": {
     "name": "#%%\n"
    }
   },
   "outputs": [
    {
     "name": "stdout",
     "output_type": "stream",
     "text": [
      "log-probability given value with shape ():\n",
      " tensor([-0.9189, -1.5466]) \n",
      "\n",
      "log-probability given value with shape (2,):\n",
      " tensor([-0.9189, -1.5466]) \n",
      "\n",
      "log-probability given value with shape (2,1):\n",
      " tensor([[-0.9189, -1.5466],\n",
      "        [-0.9189, -1.5466]])\n"
     ]
    }
   ],
   "source": [
    "print(\"log-probability given value with shape ():\\n\",\n",
    "      normal_batch.log_prob(0), \"\\n\")\n",
    "print(\"log-probability given value with shape (2,):\\n\",\n",
    "      normal_batch.log_prob(torch.Tensor([0, 0])), \"\\n\")\n",
    "print(\"log-probability given value with shape (2,1):\\n\",\n",
    "      normal_batch.log_prob(torch.Tensor([[0], [0]])))"
   ]
  },
  {
   "cell_type": "code",
   "execution_count": 11,
   "metadata": {
    "collapsed": false,
    "execution": {
     "iopub.execute_input": "2020-08-20T05:45:09.385885Z",
     "iopub.status.busy": "2020-08-20T05:45:09.385138Z",
     "iopub.status.idle": "2020-08-20T05:45:09.387753Z",
     "shell.execute_reply": "2020-08-20T05:45:09.388138Z"
    },
    "pycharm": {
     "name": "#%%\n"
    }
   },
   "outputs": [
    {
     "name": "stdout",
     "output_type": "stream",
     "text": [
      "MultivariateNormal(loc: torch.Size([2]), scale_tril: torch.Size([2, 2]))\n"
     ]
    }
   ],
   "source": [
    "from torch.distributions import MultivariateNormal\n",
    "mvn = MultivariateNormal(\n",
    "    loc=torch.Tensor([0, 1]),\n",
    "    scale_tril=torch.cholesky(torch.Tensor([[1., 0.], [0., .5]])))\n",
    "print(mvn)\n"
   ]
  },
  {
   "cell_type": "code",
   "execution_count": 12,
   "metadata": {
    "collapsed": false,
    "execution": {
     "iopub.execute_input": "2020-08-20T05:45:09.392256Z",
     "iopub.status.busy": "2020-08-20T05:45:09.391423Z",
     "iopub.status.idle": "2020-08-20T05:45:09.397903Z",
     "shell.execute_reply": "2020-08-20T05:45:09.398444Z"
    },
    "pycharm": {
     "name": "#%%\n"
    }
   },
   "outputs": [
    {
     "name": "stdout",
     "output_type": "stream",
     "text": [
      "random sample with sample_shape ():\n",
      " tensor([-0.3706,  0.9224]) \n",
      "\n",
      "random sample with sample_shape (3,):\n",
      " tensor([[ 0.0142, -0.2571],\n",
      "        [ 0.2588,  0.9381],\n",
      "        [-0.4774,  1.0325]]) \n",
      "\n",
      "random sample with sample_shape (2, 3):\n",
      " tensor([[[ 1.3255,  1.3830],\n",
      "         [ 1.7761,  2.1592],\n",
      "         [-1.7575,  0.8117]],\n",
      "\n",
      "        [[-1.6518,  1.7633],\n",
      "         [ 0.8681,  0.9253],\n",
      "         [ 0.9465,  2.3077]]])\n"
     ]
    }
   ],
   "source": [
    "print(\"random sample with sample_shape ():\\n\",\n",
    "      mvn.sample(), \"\\n\")\n",
    "print(\"random sample with sample_shape (3,):\\n\",\n",
    "      mvn.sample(sample_shape=(3,)), \"\\n\")\n",
    "print(\"random sample with sample_shape (2, 3):\\n\",\n",
    "      mvn.sample(sample_shape=(2, 3)))"
   ]
  },
  {
   "cell_type": "code",
   "execution_count": 13,
   "metadata": {
    "collapsed": false,
    "execution": {
     "iopub.execute_input": "2020-08-20T05:45:09.402228Z",
     "iopub.status.busy": "2020-08-20T05:45:09.401558Z",
     "iopub.status.idle": "2020-08-20T05:45:09.406396Z",
     "shell.execute_reply": "2020-08-20T05:45:09.406786Z"
    },
    "pycharm": {
     "name": "#%%\n"
    }
   },
   "outputs": [
    {
     "name": "stdout",
     "output_type": "stream",
     "text": [
      "log-probability given value with shape (2,):\n",
      " tensor(-2.4913) \n",
      "\n",
      "log-probability given value with shape (2,1):\n",
      " tensor([-2.4913, -2.4913])\n"
     ]
    }
   ],
   "source": [
    "print(\"log-probability given value with shape (2,):\\n\",\n",
    "      mvn.log_prob(torch.Tensor([0, 0])), \"\\n\")\n",
    "print(\"log-probability given value with shape (2,1):\\n\",\n",
    "      mvn.log_prob(torch.Tensor([[0, 0], [0, 0]])))"
   ]
  },
  {
   "cell_type": "code",
   "execution_count": 14,
   "metadata": {
    "collapsed": false,
    "execution": {
     "iopub.execute_input": "2020-08-20T05:45:09.411039Z",
     "iopub.status.busy": "2020-08-20T05:45:09.410198Z",
     "iopub.status.idle": "2020-08-20T05:45:09.412806Z",
     "shell.execute_reply": "2020-08-20T05:45:09.413324Z"
    },
    "pycharm": {
     "name": "#%%\n"
    }
   },
   "outputs": [
    {
     "name": "stdout",
     "output_type": "stream",
     "text": [
      "torch.Size([])\n",
      "torch.Size([2])\n"
     ]
    }
   ],
   "source": [
    "from torch.distributions import Independent\n",
    "normal_batch = Independent(normal_batch, reinterpreted_batch_ndims=1)\n",
    "print(normal_batch.batch_shape)\n",
    "print(normal_batch.event_shape)\n"
   ]
  },
  {
   "cell_type": "code",
   "execution_count": 15,
   "metadata": {
    "collapsed": false,
    "execution": {
     "iopub.execute_input": "2020-08-20T05:45:09.422959Z",
     "iopub.status.busy": "2020-08-20T05:45:09.422275Z",
     "iopub.status.idle": "2020-08-20T05:45:09.425075Z",
     "shell.execute_reply": "2020-08-20T05:45:09.425509Z"
    },
    "pycharm": {
     "name": "#%%\n"
    }
   },
   "outputs": [
    {
     "data": {
      "text/plain": [
       "MultivariateNormal(loc: torch.Size([3, 2]), scale_tril: torch.Size([3, 2, 2]))"
      ]
     },
     "execution_count": 15,
     "metadata": {},
     "output_type": "execute_result"
    }
   ],
   "source": [
    "mvn_batch = MultivariateNormal(\n",
    "    loc=torch.Tensor([[0, 1],[1, 2],[2, 3]]),\n",
    "    scale_tril=torch.cholesky(torch.Tensor([[1., .2], [.2, .5]])))\n",
    "mvn_batch"
   ]
  },
  {
   "cell_type": "code",
   "execution_count": 16,
   "metadata": {
    "collapsed": false,
    "execution": {
     "iopub.execute_input": "2020-08-20T05:45:09.429328Z",
     "iopub.status.busy": "2020-08-20T05:45:09.428681Z",
     "iopub.status.idle": "2020-08-20T05:45:09.434811Z",
     "shell.execute_reply": "2020-08-20T05:45:09.434350Z"
    },
    "pycharm": {
     "name": "#%%\n"
    }
   },
   "outputs": [
    {
     "name": "stdout",
     "output_type": "stream",
     "text": [
      "random sample with sample_shape ():\n",
      " tensor([[-0.1869,  0.7251],\n",
      "        [ 1.0426,  2.2433],\n",
      "        [ 1.7472,  3.3224]]) \n",
      "\n",
      "random sample with sample_shape (3,):\n",
      " tensor([[[-0.2009,  0.2792],\n",
      "         [ 1.1694,  1.4674],\n",
      "         [ 1.1404,  3.6818]],\n",
      "\n",
      "        [[-0.9680,  1.2411],\n",
      "         [-0.0784,  0.6412],\n",
      "         [ 2.6169,  2.9247]],\n",
      "\n",
      "        [[ 1.0264,  1.4182],\n",
      "         [ 2.6512,  2.5538],\n",
      "         [ 2.4851,  3.2090]]]) \n",
      "\n",
      "random sample with sample_shape (2, 3):\n",
      " tensor([[[[-0.6230,  0.3428],\n",
      "          [ 1.3693,  1.6382],\n",
      "          [ 2.3221,  3.1609]],\n",
      "\n",
      "         [[-0.5281,  1.1079],\n",
      "          [ 3.9142,  3.3278],\n",
      "          [ 1.6654,  2.7964]],\n",
      "\n",
      "         [[-0.4935,  0.3863],\n",
      "          [ 1.7580,  2.5757],\n",
      "          [ 1.7618,  3.1079]]],\n",
      "\n",
      "\n",
      "        [[[ 0.7393,  0.3040],\n",
      "          [ 0.7228,  2.2151],\n",
      "          [ 1.7926,  2.4240]],\n",
      "\n",
      "         [[-0.8338,  0.3145],\n",
      "          [ 1.0488,  2.3009],\n",
      "          [ 2.9569,  4.2369]],\n",
      "\n",
      "         [[ 0.2136,  0.6858],\n",
      "          [ 1.9889,  2.5046],\n",
      "          [ 0.6970,  3.0370]]]])\n"
     ]
    }
   ],
   "source": [
    "print(\"random sample with sample_shape ():\\n\",\n",
    "      mvn_batch.sample(), \"\\n\")\n",
    "print(\"random sample with sample_shape (3,):\\n\",\n",
    "      mvn_batch.sample(sample_shape=(3,)), \"\\n\")\n",
    "print(\"random sample with sample_shape (2, 3):\\n\",\n",
    "      mvn_batch.sample(sample_shape=(2, 3)))\n"
   ]
  },
  {
   "cell_type": "code",
   "execution_count": 17,
   "metadata": {
    "collapsed": false,
    "execution": {
     "iopub.execute_input": "2020-08-20T05:45:09.438899Z",
     "iopub.status.busy": "2020-08-20T05:45:09.438214Z",
     "iopub.status.idle": "2020-08-20T05:45:09.441415Z",
     "shell.execute_reply": "2020-08-20T05:45:09.441834Z"
    },
    "pycharm": {
     "name": "#%%\n"
    }
   },
   "outputs": [
    {
     "name": "stdout",
     "output_type": "stream",
     "text": [
      "normal model:\n",
      " Normal(loc: tensor([5.]), scale: tensor([2.])) \n",
      "\n"
     ]
    }
   ],
   "source": [
    "mu_true = torch.tensor([5.])\n",
    "sigma_true = torch.tensor([2.])\n",
    "normal_model_true = Normal(\n",
    "    loc=mu_true,\n",
    "    scale=sigma_true)\n",
    "print(\"normal model:\\n\", normal_model_true, \"\\n\")"
   ]
  },
  {
   "cell_type": "code",
   "execution_count": 18,
   "metadata": {
    "collapsed": false,
    "execution": {
     "iopub.execute_input": "2020-08-20T05:45:09.445527Z",
     "iopub.status.busy": "2020-08-20T05:45:09.444846Z",
     "iopub.status.idle": "2020-08-20T05:45:09.448432Z",
     "shell.execute_reply": "2020-08-20T05:45:09.448862Z"
    },
    "pycharm": {
     "name": "#%%\n"
    }
   },
   "outputs": [
    {
     "name": "stdout",
     "output_type": "stream",
     "text": [
      "negative likelihood value is tensor(2.1018)\n"
     ]
    }
   ],
   "source": [
    "sample_size = 1000\n",
    "x = normal_model_true.sample(sample_shape=(sample_size,))\n",
    "loss_value = -torch.mean(torch.sum(normal_model_true.log_prob(x), dim = 1))\n",
    "print(\"negative likelihood value is\", loss_value)\n"
   ]
  },
  {
   "cell_type": "code",
   "execution_count": 19,
   "metadata": {
    "collapsed": false,
    "execution": {
     "iopub.execute_input": "2020-08-20T05:45:09.453975Z",
     "iopub.status.busy": "2020-08-20T05:45:09.453254Z",
     "iopub.status.idle": "2020-08-20T05:45:09.539571Z",
     "shell.execute_reply": "2020-08-20T05:45:09.540066Z"
    },
    "pycharm": {
     "name": "#%%\n"
    }
   },
   "outputs": [],
   "source": [
    "epochs = 200\n",
    "lr = 1.0\n",
    "mu = torch.tensor([0.], requires_grad=True)\n",
    "sigma = torch.tensor([1.], requires_grad=True)\n",
    "optimizer = torch.optim.Adam([mu, sigma], lr=.5)\n",
    "for epoch in range(epochs):\n",
    "    normal_model = Normal(loc=mu, scale=sigma)\n",
    "    loss_value = -torch.mean(normal_model.log_prob(x))\n",
    "    optimizer.zero_grad()\n",
    "    loss_value.backward() # compute the gradient\n",
    "    optimizer.step()"
   ]
  },
  {
   "cell_type": "code",
   "execution_count": 20,
   "metadata": {
    "collapsed": false,
    "execution": {
     "iopub.execute_input": "2020-08-20T05:45:09.544242Z",
     "iopub.status.busy": "2020-08-20T05:45:09.543060Z",
     "iopub.status.idle": "2020-08-20T05:45:09.547445Z",
     "shell.execute_reply": "2020-08-20T05:45:09.547917Z"
    },
    "pycharm": {
     "name": "#%%\n"
    }
   },
   "outputs": [
    {
     "name": "stdout",
     "output_type": "stream",
     "text": [
      "ML mean by gradient descent: tensor([5.0841], requires_grad=True)\n",
      "ML std by gradient descent: tensor([1.9769], requires_grad=True)\n"
     ]
    }
   ],
   "source": [
    "print(\"ML mean by gradient descent:\", mu)\n",
    "print(\"ML std by gradient descent:\", sigma)"
   ]
  },
  {
   "cell_type": "code",
   "execution_count": 21,
   "metadata": {
    "collapsed": false,
    "execution": {
     "iopub.execute_input": "2020-08-20T05:45:09.551528Z",
     "iopub.status.busy": "2020-08-20T05:45:09.550804Z",
     "iopub.status.idle": "2020-08-20T05:45:09.555442Z",
     "shell.execute_reply": "2020-08-20T05:45:09.555010Z"
    },
    "pycharm": {
     "name": "#%%\n"
    }
   },
   "outputs": [
    {
     "name": "stdout",
     "output_type": "stream",
     "text": [
      "ML mean by formula: tensor(5.0841)\n",
      "ML std by formula: tensor(1.9776)\n"
     ]
    }
   ],
   "source": [
    "print(\"ML mean by formula:\", torch.mean(x))\n",
    "print(\"ML std by formula:\", torch.std(x, unbiased=False))"
   ]
  },
  {
   "cell_type": "code",
   "execution_count": 22,
   "metadata": {
    "collapsed": false,
    "execution": {
     "iopub.execute_input": "2020-08-20T05:45:09.559887Z",
     "iopub.status.busy": "2020-08-20T05:45:09.559128Z",
     "iopub.status.idle": "2020-08-20T05:45:09.563376Z",
     "shell.execute_reply": "2020-08-20T05:45:09.563843Z"
    },
    "pycharm": {
     "name": "#%%\n"
    }
   },
   "outputs": [
    {
     "name": "stdout",
     "output_type": "stream",
     "text": [
      "true mean vector: \n",
      " tensor([-1.,  0.,  1.])\n",
      "true covariance matrix: \n",
      " "
     ]
    },
    {
     "name": "stdout",
     "output_type": "stream",
     "text": [
      "tensor([[9.0000, 6.0000, 1.2000],\n",
      "        [6.0000, 5.0000, 1.3000],\n",
      "        [1.2000, 1.3000, 0.6600]])\n"
     ]
    }
   ],
   "source": [
    "mu_true = torch.tensor([-1., 0., 1.])\n",
    "sigma_tril_true = torch.tensor([[3., 0., 0.], [2., 1., 0.], [.4, .5, .5]])\n",
    "mvn_model_true = MultivariateNormal(\n",
    "    loc=mu_true,\n",
    "    scale_tril=sigma_tril_true)\n",
    "print(\"true mean vector: \\n\", mvn_model_true.mean)\n",
    "print(\"true covariance matrix: \\n\", mvn_model_true.covariance_matrix)"
   ]
  },
  {
   "cell_type": "code",
   "execution_count": 23,
   "metadata": {
    "collapsed": false,
    "execution": {
     "iopub.execute_input": "2020-08-20T05:45:09.567742Z",
     "iopub.status.busy": "2020-08-20T05:45:09.567020Z",
     "iopub.status.idle": "2020-08-20T05:45:09.571061Z",
     "shell.execute_reply": "2020-08-20T05:45:09.571505Z"
    },
    "pycharm": {
     "name": "#%%\n"
    }
   },
   "outputs": [
    {
     "name": "stdout",
     "output_type": "stream",
     "text": [
      "negative likelihood value is tensor(4.7174)\n"
     ]
    }
   ],
   "source": [
    "sample_size = 1000\n",
    "x = mvn_model_true.sample(sample_shape=(sample_size,))\n",
    "loss_value = -torch.mean(mvn_model_true.log_prob(x))\n",
    "print(\"negative likelihood value is\", loss_value)\n"
   ]
  },
  {
   "cell_type": "code",
   "execution_count": 24,
   "metadata": {
    "collapsed": false,
    "execution": {
     "iopub.execute_input": "2020-08-20T05:45:09.577123Z",
     "iopub.status.busy": "2020-08-20T05:45:09.576393Z",
     "iopub.status.idle": "2020-08-20T05:45:09.979946Z",
     "shell.execute_reply": "2020-08-20T05:45:09.980460Z"
    },
    "pycharm": {
     "name": "#%%\n"
    }
   },
   "outputs": [],
   "source": [
    "epochs = 500\n",
    "lr = .1\n",
    "mu = torch.tensor(\n",
    "    [0., 0., 0.], requires_grad=True)\n",
    "sigma_tril = torch.tensor(\n",
    "    [[1., 0., 0.], [0., 1., 0.], [0., 0., 1.]],\n",
    "    requires_grad=True)\n",
    "optimizer = torch.optim.Adam([mu, sigma_tril], lr=lr)\n",
    "\n",
    "for epoch in range(epochs):\n",
    "    mvn_model = MultivariateNormal(\n",
    "    loc=mu,\n",
    "    scale_tril=sigma_tril)\n",
    "    loss_value = -torch.mean(mvn_model.log_prob(x))\n",
    "    optimizer.zero_grad()\n",
    "    loss_value.backward() # compute the gradient\n",
    "    optimizer.step()"
   ]
  },
  {
   "cell_type": "code",
   "execution_count": 25,
   "metadata": {
    "collapsed": false,
    "execution": {
     "iopub.execute_input": "2020-08-20T05:45:09.984308Z",
     "iopub.status.busy": "2020-08-20T05:45:09.983590Z",
     "iopub.status.idle": "2020-08-20T05:45:09.988021Z",
     "shell.execute_reply": "2020-08-20T05:45:09.988513Z"
    },
    "pycharm": {
     "name": "#%%\n"
    }
   },
   "outputs": [
    {
     "name": "stdout",
     "output_type": "stream",
     "text": [
      "ML mean by gradient descent: \n",
      " tensor([-0.9634, -0.0140,  0.9845], requires_grad=True)\n",
      "ML covariance by gradient descent: \n",
      " tensor([[9.0569, 6.1244, 1.2179],\n",
      "        [6.1244, 5.2158, 1.3481],\n",
      "        [1.2179, 1.3481, 0.6764]], grad_fn=<MmBackward>)\n"
     ]
    }
   ],
   "source": [
    "print(\"ML mean by gradient descent: \\n\",\n",
    "      mu)\n",
    "print(\"ML covariance by gradient descent: \\n\",\n",
    "      sigma_tril @ torch.transpose(sigma_tril, 0, 1))"
   ]
  },
  {
   "cell_type": "code",
   "execution_count": 26,
   "metadata": {
    "collapsed": false,
    "execution": {
     "iopub.execute_input": "2020-08-20T05:45:09.992843Z",
     "iopub.status.busy": "2020-08-20T05:45:09.992039Z",
     "iopub.status.idle": "2020-08-20T05:45:09.996126Z",
     "shell.execute_reply": "2020-08-20T05:45:09.996833Z"
    },
    "pycharm": {
     "name": "#%%\n"
    }
   },
   "outputs": [
    {
     "name": "stdout",
     "output_type": "stream",
     "text": [
      "ML mean by formula: \n",
      " tensor([-0.9634, -0.0140,  0.9845])\n",
      "ML covariance by formula: \n",
      " tensor([[9.0569, 6.1244, 1.2179],\n",
      "        [6.1244, 5.2158, 1.3481],\n",
      "        [1.2179, 1.3481, 0.6764]])\n"
     ]
    }
   ],
   "source": [
    "sample_mean = torch.mean(x, dim = 0)\n",
    "sample_moment2 = (torch.transpose(x, 0, 1) @ x) / sample_size\n",
    "sample_cov = sample_moment2 - torch.ger(sample_mean, sample_mean)\n",
    "print(\"ML mean by formula: \\n\",\n",
    "      sample_mean)\n",
    "print(\"ML covariance by formula: \\n\",\n",
    "      sample_cov)"
   ]
  }
 ],
 "metadata": {
  "kernelspec": {
   "display_name": "Python 3",
   "language": "python",
   "name": "python3"
  },
  "language_info": {
   "codemirror_mode": {
    "name": "ipython",
    "version": 3
   },
   "file_extension": ".py",
   "mimetype": "text/x-python",
   "name": "python",
   "nbconvert_exporter": "python",
   "pygments_lexer": "ipython3",
   "version": "3.8.5"
  }
 },
 "nbformat": 4,
 "nbformat_minor": 0
}