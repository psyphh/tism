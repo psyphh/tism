{
 "cells": [
  {
   "cell_type": "markdown",
   "metadata": {
    "collapsed": false
   },
   "source": [
    "Lab: 最大概似估計\n",
    "================"
   ]
  },
  {
   "cell_type": "code",
   "execution_count": 1,
   "metadata": {
    "collapsed": true,
    "execution": {
     "iopub.execute_input": "2020-08-20T05:11:14.162990Z",
     "iopub.status.busy": "2020-08-20T05:11:14.162315Z",
     "iopub.status.idle": "2020-08-20T05:11:19.972189Z",
     "shell.execute_reply": "2020-08-20T05:11:19.972685Z"
    }
   },
   "outputs": [],
   "source": [
    "import torch"
   ]
  },
  {
   "cell_type": "code",
   "execution_count": 2,
   "metadata": {
    "collapsed": false,
    "execution": {
     "iopub.execute_input": "2020-08-20T05:11:19.976656Z",
     "iopub.status.busy": "2020-08-20T05:11:19.975992Z",
     "iopub.status.idle": "2020-08-20T05:11:19.977772Z",
     "shell.execute_reply": "2020-08-20T05:11:19.978190Z"
    },
    "pycharm": {
     "name": "#%%\n"
    }
   },
   "outputs": [],
   "source": [
    "from torch.distributions import Normal\n",
    "normal = Normal(loc=0., scale=1.)"
   ]
  },
  {
   "cell_type": "code",
   "execution_count": 3,
   "metadata": {
    "collapsed": false,
    "execution": {
     "iopub.execute_input": "2020-08-20T05:11:19.981963Z",
     "iopub.status.busy": "2020-08-20T05:11:19.981337Z",
     "iopub.status.idle": "2020-08-20T05:11:20.021956Z",
     "shell.execute_reply": "2020-08-20T05:11:20.022426Z"
    },
    "pycharm": {
     "name": "#%%\n"
    }
   },
   "outputs": [
    {
     "name": "stdout",
     "output_type": "stream",
     "text": [
      "random sample with shape ():\n",
      " tensor(-1.0330)\n",
      "random sample with shape (3,):\n",
      " tensor([ 0.2361,  0.7297, -0.8811])\n",
      "random sample with shape (2,3):\n",
      " tensor([[-0.9009, -0.9945,  0.1711],\n",
      "        [ 0.6819,  0.2763,  0.1448]])\n"
     ]
    }
   ],
   "source": [
    "print(\"random sample with shape ():\\n\",\n",
    "      normal.sample())\n",
    "print(\"random sample with shape (3,):\\n\",\n",
    "      normal.sample(sample_shape=(3,)))\n",
    "print(\"random sample with shape (2,3):\\n\",\n",
    "      normal.sample(sample_shape=(2, 3)))"
   ]
  },
  {
   "cell_type": "code",
   "execution_count": 4,
   "metadata": {
    "collapsed": false,
    "execution": {
     "iopub.execute_input": "2020-08-20T05:11:20.027833Z",
     "iopub.status.busy": "2020-08-20T05:11:20.026936Z",
     "iopub.status.idle": "2020-08-20T05:11:20.034186Z",
     "shell.execute_reply": "2020-08-20T05:11:20.034717Z"
    },
    "pycharm": {
     "name": "#%%\n"
    }
   },
   "outputs": [
    {
     "name": "stdout",
     "output_type": "stream",
     "text": [
      "cumulative probability given value with shape ():\n",
      " tensor(0.5000) \n",
      "\n",
      "cumulative probability given value with (3,):\n",
      " tensor([0.1587, 0.5000, 0.6915]) \n",
      "\n",
      "cumulative probability given value with (2,3):\n",
      " tensor([[0.1587, 0.5000, 0.6915],\n",
      "        [0.0228, 0.8413, 0.9987]])\n"
     ]
    }
   ],
   "source": [
    "print(\"cumulative probability given value with shape ():\\n\",\n",
    "      normal.cdf(value=0), \"\\n\")\n",
    "print(\"cumulative probability given value with (3,):\\n\",\n",
    "      normal.cdf(value=torch.Tensor([-1, 0, .5])), \"\\n\")\n",
    "print(\"cumulative probability given value with (2,3):\\n\",\n",
    "      normal.cdf(value=torch.Tensor([[-1, 0, .5], [-2, 1, 3]])))"
   ]
  },
  {
   "cell_type": "code",
   "execution_count": 5,
   "metadata": {
    "collapsed": false,
    "execution": {
     "iopub.execute_input": "2020-08-20T05:11:20.043011Z",
     "iopub.status.busy": "2020-08-20T05:11:20.041626Z",
     "iopub.status.idle": "2020-08-20T05:11:20.047076Z",
     "shell.execute_reply": "2020-08-20T05:11:20.047619Z"
    },
    "pycharm": {
     "name": "#%%\n"
    }
   },
   "outputs": [
    {
     "name": "stdout",
     "output_type": "stream",
     "text": [
      "cumulative probability given value with shape ():\n",
      " tensor(-0.9189) \n",
      "\n",
      "cumulative probability given value with (3,):\n",
      " tensor([-1.4189, -0.9189, -1.0439]) \n",
      "\n",
      "cumulative probability given value with (2,3):\n",
      " tensor([[-1.4189, -0.9189, -1.0439],\n",
      "        [-2.9189, -1.4189, -5.4189]])\n"
     ]
    }
   ],
   "source": [
    "print(\"cumulative probability given value with shape ():\\n\",\n",
    "      normal.log_prob(value=0), \"\\n\")\n",
    "print(\"cumulative probability given value with (3,):\\n\",\n",
    "      normal.log_prob(value=torch.Tensor([-1, 0, .5])), \"\\n\")\n",
    "print(\"cumulative probability given value with (2,3):\\n\",\n",
    "      normal.log_prob(value=torch.Tensor([[-1, 0, .5], [-2, 1, 3]])))"
   ]
  },
  {
   "cell_type": "code",
   "execution_count": 6,
   "metadata": {
    "collapsed": false,
    "execution": {
     "iopub.execute_input": "2020-08-20T05:11:20.051397Z",
     "iopub.status.busy": "2020-08-20T05:11:20.050705Z",
     "iopub.status.idle": "2020-08-20T05:11:20.053069Z",
     "shell.execute_reply": "2020-08-20T05:11:20.053522Z"
    },
    "pycharm": {
     "name": "#%%\n"
    }
   },
   "outputs": [
    {
     "name": "stdout",
     "output_type": "stream",
     "text": [
      "Normal(loc: 0.0, scale: 1.0)\n"
     ]
    }
   ],
   "source": [
    "print(normal)"
   ]
  },
  {
   "cell_type": "code",
   "execution_count": 7,
   "metadata": {
    "collapsed": false,
    "execution": {
     "iopub.execute_input": "2020-08-20T05:11:20.057189Z",
     "iopub.status.busy": "2020-08-20T05:11:20.056476Z",
     "iopub.status.idle": "2020-08-20T05:11:20.059224Z",
     "shell.execute_reply": "2020-08-20T05:11:20.059654Z"
    },
    "pycharm": {
     "name": "#%%\n"
    }
   },
   "outputs": [
    {
     "name": "stdout",
     "output_type": "stream",
     "text": [
      "torch.Size([])\n",
      "torch.Size([])\n"
     ]
    }
   ],
   "source": [
    "print(normal.batch_shape)\n",
    "print(normal.event_shape)"
   ]
  },
  {
   "cell_type": "code",
   "execution_count": 8,
   "metadata": {
    "collapsed": false,
    "execution": {
     "iopub.execute_input": "2020-08-20T05:11:20.063705Z",
     "iopub.status.busy": "2020-08-20T05:11:20.063036Z",
     "iopub.status.idle": "2020-08-20T05:11:20.065797Z",
     "shell.execute_reply": "2020-08-20T05:11:20.066269Z"
    },
    "pycharm": {
     "name": "#%%\n"
    }
   },
   "outputs": [
    {
     "name": "stdout",
     "output_type": "stream",
     "text": [
      "Normal(loc: torch.Size([2]), scale: torch.Size([2]))\n"
     ]
    }
   ],
   "source": [
    "normal_batch = Normal(loc=torch.Tensor([0., 1.]), scale=torch.Tensor([1., 1.5]))\n",
    "print(normal_batch)"
   ]
  },
  {
   "cell_type": "code",
   "execution_count": 9,
   "metadata": {
    "collapsed": false,
    "execution": {
     "iopub.execute_input": "2020-08-20T05:11:20.070644Z",
     "iopub.status.busy": "2020-08-20T05:11:20.069907Z",
     "iopub.status.idle": "2020-08-20T05:11:20.076615Z",
     "shell.execute_reply": "2020-08-20T05:11:20.077064Z"
    },
    "pycharm": {
     "name": "#%%\n"
    }
   },
   "outputs": [
    {
     "name": "stdout",
     "output_type": "stream",
     "text": [
      "random sample with sample_shape ():\n",
      " tensor([-1.3858,  1.7345]) \n",
      "\n",
      "random sample with sample_shape (3,):\n",
      " tensor([[0.0061, 2.2872],\n",
      "        [1.6420, 1.6743],\n",
      "        [0.0386, 1.2154]]) \n",
      "\n",
      "random sample with sample_shape (2,3):\n",
      " tensor([[[-0.6740,  1.9691],\n",
      "         [-0.6169,  1.0241],\n",
      "         [ 1.1940,  0.5056]],\n",
      "\n",
      "        [[-1.0854,  1.5424],\n",
      "         [ 0.1015, -0.7252],\n",
      "         [-0.5779,  2.5013]]])\n"
     ]
    }
   ],
   "source": [
    "print(\"random sample with sample_shape ():\\n\",\n",
    "      normal_batch.sample(), \"\\n\")\n",
    "print(\"random sample with sample_shape (3,):\\n\",\n",
    "      normal_batch.sample(sample_shape=(3,)), \"\\n\")\n",
    "print(\"random sample with sample_shape (2,3):\\n\",\n",
    "      normal_batch.sample(sample_shape=(2,3)))\n"
   ]
  },
  {
   "cell_type": "code",
   "execution_count": 10,
   "metadata": {
    "collapsed": false,
    "execution": {
     "iopub.execute_input": "2020-08-20T05:11:20.084350Z",
     "iopub.status.busy": "2020-08-20T05:11:20.083501Z",
     "iopub.status.idle": "2020-08-20T05:11:20.087620Z",
     "shell.execute_reply": "2020-08-20T05:11:20.088293Z"
    },
    "pycharm": {
     "name": "#%%\n"
    }
   },
   "outputs": [
    {
     "name": "stdout",
     "output_type": "stream",
     "text": [
      "log-probability given value with shape ():\n",
      " tensor([-0.9189, -1.5466]) \n",
      "\n",
      "log-probability given value with shape (2,):\n",
      " tensor([-0.9189, -1.5466]) \n",
      "\n",
      "log-probability given value with shape (2,1):\n",
      " tensor([[-0.9189, -1.5466],\n",
      "        [-0.9189, -1.5466]])\n"
     ]
    }
   ],
   "source": [
    "print(\"log-probability given value with shape ():\\n\",\n",
    "      normal_batch.log_prob(0), \"\\n\")\n",
    "print(\"log-probability given value with shape (2,):\\n\",\n",
    "      normal_batch.log_prob(torch.Tensor([0, 0])), \"\\n\")\n",
    "print(\"log-probability given value with shape (2,1):\\n\",\n",
    "      normal_batch.log_prob(torch.Tensor([[0], [0]])))"
   ]
  },
  {
   "cell_type": "code",
   "execution_count": 11,
   "metadata": {
    "collapsed": false,
    "execution": {
     "iopub.execute_input": "2020-08-20T05:11:20.100331Z",
     "iopub.status.busy": "2020-08-20T05:11:20.099035Z",
     "iopub.status.idle": "2020-08-20T05:11:20.106733Z",
     "shell.execute_reply": "2020-08-20T05:11:20.107474Z"
    },
    "pycharm": {
     "name": "#%%\n"
    }
   },
   "outputs": [
    {
     "name": "stdout",
     "output_type": "stream",
     "text": [
      "MultivariateNormal(loc: torch.Size([2]), scale_tril: torch.Size([2, 2]))\n"
     ]
    }
   ],
   "source": [
    "from torch.distributions import MultivariateNormal\n",
    "mvn = MultivariateNormal(\n",
    "    loc=torch.Tensor([0, 1]),\n",
    "    scale_tril=torch.cholesky(torch.Tensor([[1., 0.], [0., .5]])))\n",
    "print(mvn)\n"
   ]
  },
  {
   "cell_type": "code",
   "execution_count": 12,
   "metadata": {
    "collapsed": false,
    "execution": {
     "iopub.execute_input": "2020-08-20T05:11:20.130516Z",
     "iopub.status.busy": "2020-08-20T05:11:20.121222Z",
     "iopub.status.idle": "2020-08-20T05:11:20.170766Z",
     "shell.execute_reply": "2020-08-20T05:11:20.172546Z"
    },
    "pycharm": {
     "name": "#%%\n"
    }
   },
   "outputs": [
    {
     "name": "stdout",
     "output_type": "stream",
     "text": [
      "random sample with sample_shape ():\n",
      " tensor([-0.7959,  0.5442]) \n",
      "\n",
      "random sample with sample_shape (3,):\n",
      " tensor([[ 0.8521,  1.1774],\n",
      "        [-0.7339,  0.7050],\n",
      "        [ 0.7011,  0.5096]]) \n",
      "\n",
      "random sample with sample_shape (2, 3):\n",
      " tensor([[[ 1.4941,  1.8805],\n",
      "         [-1.0049,  1.3060],\n",
      "         [ 0.5838,  0.0278]],\n",
      "\n",
      "        [[-0.5424,  0.8784],\n",
      "         [ 0.9354,  0.3996],\n",
      "         [-0.9415,  2.0385]]])\n"
     ]
    }
   ],
   "source": [
    "print(\"random sample with sample_shape ():\\n\",\n",
    "      mvn.sample(), \"\\n\")\n",
    "print(\"random sample with sample_shape (3,):\\n\",\n",
    "      mvn.sample(sample_shape=(3,)), \"\\n\")\n",
    "print(\"random sample with sample_shape (2, 3):\\n\",\n",
    "      mvn.sample(sample_shape=(2, 3)))"
   ]
  },
  {
   "cell_type": "code",
   "execution_count": 13,
   "metadata": {
    "collapsed": false,
    "execution": {
     "iopub.execute_input": "2020-08-20T05:11:20.182955Z",
     "iopub.status.busy": "2020-08-20T05:11:20.181166Z",
     "iopub.status.idle": "2020-08-20T05:11:20.185162Z",
     "shell.execute_reply": "2020-08-20T05:11:20.187713Z"
    },
    "pycharm": {
     "name": "#%%\n"
    }
   },
   "outputs": [
    {
     "name": "stdout",
     "output_type": "stream",
     "text": [
      "log-probability given value with shape (2,):\n",
      " tensor(-2.4913) \n",
      "\n",
      "log-probability given value with shape (2,1):\n",
      " tensor([-2.4913, -2.4913])\n"
     ]
    }
   ],
   "source": [
    "print(\"log-probability given value with shape (2,):\\n\",\n",
    "      mvn.log_prob(torch.Tensor([0, 0])), \"\\n\")\n",
    "print(\"log-probability given value with shape (2,1):\\n\",\n",
    "      mvn.log_prob(torch.Tensor([[0, 0], [0, 0]])))"
   ]
  },
  {
   "cell_type": "code",
   "execution_count": 14,
   "metadata": {
    "collapsed": false,
    "execution": {
     "iopub.execute_input": "2020-08-20T05:11:20.194868Z",
     "iopub.status.busy": "2020-08-20T05:11:20.193809Z",
     "iopub.status.idle": "2020-08-20T05:11:20.197926Z",
     "shell.execute_reply": "2020-08-20T05:11:20.198462Z"
    },
    "pycharm": {
     "name": "#%%\n"
    }
   },
   "outputs": [
    {
     "name": "stdout",
     "output_type": "stream",
     "text": [
      "torch.Size([])\n",
      "torch.Size([2])\n"
     ]
    }
   ],
   "source": [
    "from torch.distributions import Independent\n",
    "normal_batch = Independent(normal_batch, reinterpreted_batch_ndims=1)\n",
    "print(normal_batch.batch_shape)\n",
    "print(normal_batch.event_shape)\n"
   ]
  },
  {
   "cell_type": "code",
   "execution_count": 15,
   "metadata": {
    "collapsed": false,
    "execution": {
     "iopub.execute_input": "2020-08-20T05:11:20.210466Z",
     "iopub.status.busy": "2020-08-20T05:11:20.204557Z",
     "iopub.status.idle": "2020-08-20T05:11:20.213315Z",
     "shell.execute_reply": "2020-08-20T05:11:20.213757Z"
    },
    "pycharm": {
     "name": "#%%\n"
    }
   },
   "outputs": [
    {
     "data": {
      "text/plain": [
       "MultivariateNormal(loc: torch.Size([3, 2]), scale_tril: torch.Size([3, 2, 2]))"
      ]
     },
     "execution_count": 15,
     "metadata": {},
     "output_type": "execute_result"
    }
   ],
   "source": [
    "mvn_batch = MultivariateNormal(\n",
    "    loc=torch.Tensor([[0, 1],[1, 2],[2, 3]]),\n",
    "    scale_tril=torch.cholesky(torch.Tensor([[1., .2], [.2, .5]])))\n",
    "mvn_batch"
   ]
  },
  {
   "cell_type": "code",
   "execution_count": 16,
   "metadata": {
    "collapsed": false,
    "execution": {
     "iopub.execute_input": "2020-08-20T05:11:20.219749Z",
     "iopub.status.busy": "2020-08-20T05:11:20.219004Z",
     "iopub.status.idle": "2020-08-20T05:11:20.226570Z",
     "shell.execute_reply": "2020-08-20T05:11:20.227109Z"
    },
    "pycharm": {
     "name": "#%%\n"
    }
   },
   "outputs": [
    {
     "name": "stdout",
     "output_type": "stream",
     "text": [
      "random sample with sample_shape ():\n",
      " tensor([[0.7707, 1.5164],\n",
      "        [1.3029, 2.1090],\n",
      "        [1.9505, 1.8095]]) \n",
      "\n",
      "random sample with sample_shape (3,):\n",
      " tensor([[[-0.5095,  1.5331],\n",
      "         [ 0.5600,  2.1920],\n",
      "         [ 1.7309,  2.8085]],\n",
      "\n",
      "        [[ 1.3334,  1.6331],\n",
      "         [ 2.2513,  0.8100],\n",
      "         [ 1.4154,  2.0591]],\n",
      "\n",
      "        [[-0.6919,  1.0226],\n",
      "         [ 1.6935,  3.0619],\n",
      "         [ 1.7238,  1.9924]]]) \n",
      "\n",
      "random sample with sample_shape (2, 3):\n",
      " tensor([[[[ 0.6610,  1.1407],\n",
      "          [-0.2479,  1.9762],\n",
      "          [ 2.7399,  3.9267]],\n",
      "\n",
      "         [[-0.8506,  0.5578],\n",
      "          [-1.0326,  2.0465],\n",
      "          [ 3.5016,  3.5099]],\n",
      "\n",
      "         [[ 1.0685,  1.2752],\n",
      "          [ 2.0830,  1.9612],\n",
      "          [ 2.7275,  3.5985]]],\n",
      "\n",
      "\n",
      "        [[[ 2.2009,  2.7479],\n",
      "          [ 0.8563,  2.2627],\n",
      "          [ 1.1216,  2.9821]],\n",
      "\n",
      "         [[ 1.0087,  0.9289],\n",
      "          [ 0.3635,  1.5086],\n",
      "          [ 1.8260,  2.0614]],\n",
      "\n",
      "         [[ 0.0099,  1.1262],\n",
      "          [ 0.8873,  1.7774],\n",
      "          [ 0.9984,  3.4426]]]])\n"
     ]
    }
   ],
   "source": [
    "print(\"random sample with sample_shape ():\\n\",\n",
    "      mvn_batch.sample(), \"\\n\")\n",
    "print(\"random sample with sample_shape (3,):\\n\",\n",
    "      mvn_batch.sample(sample_shape=(3,)), \"\\n\")\n",
    "print(\"random sample with sample_shape (2, 3):\\n\",\n",
    "      mvn_batch.sample(sample_shape=(2, 3)))\n"
   ]
  },
  {
   "cell_type": "code",
   "execution_count": 17,
   "metadata": {
    "collapsed": false,
    "execution": {
     "iopub.execute_input": "2020-08-20T05:11:20.231515Z",
     "iopub.status.busy": "2020-08-20T05:11:20.230697Z",
     "iopub.status.idle": "2020-08-20T05:11:20.234231Z",
     "shell.execute_reply": "2020-08-20T05:11:20.234680Z"
    },
    "pycharm": {
     "name": "#%%\n"
    }
   },
   "outputs": [
    {
     "name": "stdout",
     "output_type": "stream",
     "text": [
      "normal model:\n",
      " Normal(loc: tensor([5.]), scale: tensor([2.])) \n",
      "\n"
     ]
    }
   ],
   "source": [
    "mu_true = torch.tensor([5.])\n",
    "sigma_true = torch.tensor([2.])\n",
    "normal_model_true = Normal(\n",
    "    loc=mu_true,\n",
    "    scale=sigma_true)\n",
    "print(\"normal model:\\n\", normal_model_true, \"\\n\")"
   ]
  },
  {
   "cell_type": "code",
   "execution_count": 18,
   "metadata": {
    "collapsed": false,
    "execution": {
     "iopub.execute_input": "2020-08-20T05:11:20.238722Z",
     "iopub.status.busy": "2020-08-20T05:11:20.237992Z",
     "iopub.status.idle": "2020-08-20T05:11:20.241797Z",
     "shell.execute_reply": "2020-08-20T05:11:20.242333Z"
    },
    "pycharm": {
     "name": "#%%\n"
    }
   },
   "outputs": [
    {
     "name": "stdout",
     "output_type": "stream",
     "text": [
      "negative likelihood value is tensor(2.0992)\n"
     ]
    }
   ],
   "source": [
    "sample_size = 1000\n",
    "x = normal_model_true.sample(sample_shape=(sample_size,))\n",
    "loss_value = -torch.mean(torch.sum(normal_model_true.log_prob(x), dim = 1))\n",
    "print(\"negative likelihood value is\", loss_value)\n"
   ]
  },
  {
   "cell_type": "code",
   "execution_count": 19,
   "metadata": {
    "collapsed": false,
    "execution": {
     "iopub.execute_input": "2020-08-20T05:11:20.248136Z",
     "iopub.status.busy": "2020-08-20T05:11:20.247369Z",
     "iopub.status.idle": "2020-08-20T05:11:20.342616Z",
     "shell.execute_reply": "2020-08-20T05:11:20.343516Z"
    },
    "pycharm": {
     "name": "#%%\n"
    }
   },
   "outputs": [],
   "source": [
    "epochs = 200\n",
    "lr = 1.0\n",
    "mu = torch.tensor([0.], requires_grad=True)\n",
    "sigma = torch.tensor([1.], requires_grad=True)\n",
    "optimizer = torch.optim.Adam([mu, sigma], lr=.5)\n",
    "for epoch in range(epochs):\n",
    "    normal_model = Normal(loc=mu, scale=sigma)\n",
    "    loss_value = -torch.mean(normal_model.log_prob(x))\n",
    "    optimizer.zero_grad()\n",
    "    loss_value.backward() # compute the gradient\n",
    "    optimizer.step()"
   ]
  },
  {
   "cell_type": "code",
   "execution_count": 20,
   "metadata": {
    "collapsed": false,
    "execution": {
     "iopub.execute_input": "2020-08-20T05:11:20.350385Z",
     "iopub.status.busy": "2020-08-20T05:11:20.348964Z",
     "iopub.status.idle": "2020-08-20T05:11:20.354197Z",
     "shell.execute_reply": "2020-08-20T05:11:20.354916Z"
    },
    "pycharm": {
     "name": "#%%\n"
    }
   },
   "outputs": [
    {
     "name": "stdout",
     "output_type": "stream",
     "text": [
      "ML mean by gradient descent: tensor([4.9741], requires_grad=True)\n",
      "ML std by gradient descent: tensor([1.9711], requires_grad=True)\n"
     ]
    }
   ],
   "source": [
    "print(\"ML mean by gradient descent:\", mu)\n",
    "print(\"ML std by gradient descent:\", sigma)"
   ]
  },
  {
   "cell_type": "code",
   "execution_count": 21,
   "metadata": {
    "collapsed": false,
    "execution": {
     "iopub.execute_input": "2020-08-20T05:11:20.359374Z",
     "iopub.status.busy": "2020-08-20T05:11:20.358530Z",
     "iopub.status.idle": "2020-08-20T05:11:20.363362Z",
     "shell.execute_reply": "2020-08-20T05:11:20.364044Z"
    },
    "pycharm": {
     "name": "#%%\n"
    }
   },
   "outputs": [
    {
     "name": "stdout",
     "output_type": "stream",
     "text": [
      "ML mean by formula: tensor(4.9739)\n",
      "ML std by formula: tensor(1.9738)\n"
     ]
    }
   ],
   "source": [
    "print(\"ML mean by formula:\", torch.mean(x))\n",
    "print(\"ML std by formula:\", torch.std(x, unbiased=False))"
   ]
  },
  {
   "cell_type": "code",
   "execution_count": 22,
   "metadata": {
    "collapsed": false,
    "execution": {
     "iopub.execute_input": "2020-08-20T05:11:20.369769Z",
     "iopub.status.busy": "2020-08-20T05:11:20.368972Z",
     "iopub.status.idle": "2020-08-20T05:11:20.374071Z",
     "shell.execute_reply": "2020-08-20T05:11:20.374530Z"
    },
    "pycharm": {
     "name": "#%%\n"
    }
   },
   "outputs": [
    {
     "name": "stdout",
     "output_type": "stream",
     "text": [
      "true mean vector: \n",
      " tensor([-1.,  0.,  1.])\n",
      "true covariance matrix: \n",
      " tensor([[9.0000, 6.0000, 1.2000],\n",
      "        [6.0000, 5.0000, 1.3000],\n",
      "        [1.2000, 1.3000, 0.6600]])\n"
     ]
    }
   ],
   "source": [
    "mu_true = torch.tensor([-1., 0., 1.])\n",
    "sigma_tril_true = torch.tensor([[3., 0., 0.], [2., 1., 0.], [.4, .5, .5]])\n",
    "mvn_model_true = MultivariateNormal(\n",
    "    loc=mu_true,\n",
    "    scale_tril=sigma_tril_true)\n",
    "print(\"true mean vector: \\n\", mvn_model_true.mean)\n",
    "print(\"true covariance matrix: \\n\", mvn_model_true.covariance_matrix)"
   ]
  },
  {
   "cell_type": "code",
   "execution_count": 23,
   "metadata": {
    "collapsed": false,
    "execution": {
     "iopub.execute_input": "2020-08-20T05:11:20.380646Z",
     "iopub.status.busy": "2020-08-20T05:11:20.379424Z",
     "iopub.status.idle": "2020-08-20T05:11:20.384789Z",
     "shell.execute_reply": "2020-08-20T05:11:20.385367Z"
    },
    "pycharm": {
     "name": "#%%\n"
    }
   },
   "outputs": [
    {
     "name": "stdout",
     "output_type": "stream",
     "text": [
      "negative likelihood value is tensor(4.6414)\n"
     ]
    }
   ],
   "source": [
    "sample_size = 1000\n",
    "x = mvn_model_true.sample(sample_shape=(sample_size,))\n",
    "loss_value = -torch.mean(mvn_model_true.log_prob(x))\n",
    "print(\"negative likelihood value is\", loss_value)\n"
   ]
  },
  {
   "cell_type": "code",
   "execution_count": 24,
   "metadata": {
    "collapsed": false,
    "execution": {
     "iopub.execute_input": "2020-08-20T05:11:20.392416Z",
     "iopub.status.busy": "2020-08-20T05:11:20.390759Z",
     "iopub.status.idle": "2020-08-20T05:11:20.862114Z",
     "shell.execute_reply": "2020-08-20T05:11:20.862711Z"
    },
    "pycharm": {
     "name": "#%%\n"
    }
   },
   "outputs": [],
   "source": [
    "epochs = 500\n",
    "lr = .1\n",
    "mu = torch.tensor(\n",
    "    [0., 0., 0.], requires_grad=True)\n",
    "sigma_tril = torch.tensor(\n",
    "    [[1., 0., 0.], [0., 1., 0.], [0., 0., 1.]],\n",
    "    requires_grad=True)\n",
    "optimizer = torch.optim.Adam([mu, sigma_tril], lr=lr)\n",
    "\n",
    "for epoch in range(epochs):\n",
    "    mvn_model = MultivariateNormal(\n",
    "    loc=mu,\n",
    "    scale_tril=sigma_tril)\n",
    "    loss_value = -torch.mean(mvn_model.log_prob(x))\n",
    "    optimizer.zero_grad()\n",
    "    loss_value.backward() # compute the gradient\n",
    "    optimizer.step()"
   ]
  },
  {
   "cell_type": "code",
   "execution_count": 25,
   "metadata": {
    "collapsed": false,
    "execution": {
     "iopub.execute_input": "2020-08-20T05:11:20.866946Z",
     "iopub.status.busy": "2020-08-20T05:11:20.866243Z",
     "iopub.status.idle": "2020-08-20T05:11:20.870665Z",
     "shell.execute_reply": "2020-08-20T05:11:20.871138Z"
    },
    "pycharm": {
     "name": "#%%\n"
    }
   },
   "outputs": [
    {
     "name": "stdout",
     "output_type": "stream",
     "text": [
      "ML mean by gradient descent: \n",
      " tensor([-1.1439, -0.0916,  1.0015], requires_grad=True)\n",
      "ML covariance by gradient descent: \n",
      " tensor([[8.9720, 5.8738, 1.0911],\n",
      "        [5.8738, 4.8410, 1.2082],\n",
      "        [1.0911, 1.2082, 0.6176]], grad_fn=<MmBackward>)\n"
     ]
    }
   ],
   "source": [
    "print(\"ML mean by gradient descent: \\n\",\n",
    "      mu)\n",
    "print(\"ML covariance by gradient descent: \\n\",\n",
    "      sigma_tril @ torch.transpose(sigma_tril, 0, 1))"
   ]
  },
  {
   "cell_type": "code",
   "execution_count": 26,
   "metadata": {
    "collapsed": false,
    "execution": {
     "iopub.execute_input": "2020-08-20T05:11:20.875908Z",
     "iopub.status.busy": "2020-08-20T05:11:20.875045Z",
     "iopub.status.idle": "2020-08-20T05:11:20.880412Z",
     "shell.execute_reply": "2020-08-20T05:11:20.880885Z"
    },
    "pycharm": {
     "name": "#%%\n"
    }
   },
   "outputs": [
    {
     "name": "stdout",
     "output_type": "stream",
     "text": [
      "ML mean by formula: \n",
      " tensor([-1.1439, -0.0916,  1.0015])\n",
      "ML covariance by formula: \n",
      " tensor([[8.9720, 5.8738, 1.0911],\n",
      "        [5.8738, 4.8410, 1.2082],\n",
      "        [1.0911, 1.2082, 0.6176]])\n"
     ]
    }
   ],
   "source": [
    "sample_mean = torch.mean(x, dim = 0)\n",
    "sample_moment2 = (torch.transpose(x, 0, 1) @ x) / sample_size\n",
    "sample_cov = sample_moment2 - torch.ger(sample_mean, sample_mean)\n",
    "print(\"ML mean by formula: \\n\",\n",
    "      sample_mean)\n",
    "print(\"ML covariance by formula: \\n\",\n",
    "      sample_cov)"
   ]
  }
 ],
 "metadata": {
  "kernelspec": {
   "display_name": "Python 3",
   "language": "python",
   "name": "python3"
  },
  "language_info": {
   "codemirror_mode": {
    "name": "ipython",
    "version": 3
   },
   "file_extension": ".py",
   "mimetype": "text/x-python",
   "name": "python",
   "nbconvert_exporter": "python",
   "pygments_lexer": "ipython3",
   "version": "3.8.5"
  }
 },
 "nbformat": 4,
 "nbformat_minor": 0
}