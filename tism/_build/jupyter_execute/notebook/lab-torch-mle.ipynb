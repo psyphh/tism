{
 "cells": [
  {
   "cell_type": "markdown",
   "metadata": {
    "collapsed": false
   },
   "source": [
    "Lab: 最大概似估計\n",
    "================"
   ]
  },
  {
   "cell_type": "code",
   "execution_count": 1,
   "metadata": {
    "collapsed": true,
    "execution": {
     "iopub.execute_input": "2020-08-21T01:38:48.590066Z",
     "iopub.status.busy": "2020-08-21T01:38:48.589345Z",
     "iopub.status.idle": "2020-08-21T01:38:55.132925Z",
     "shell.execute_reply": "2020-08-21T01:38:55.133468Z"
    }
   },
   "outputs": [],
   "source": [
    "import torch"
   ]
  },
  {
   "cell_type": "code",
   "execution_count": 2,
   "metadata": {
    "collapsed": false,
    "execution": {
     "iopub.execute_input": "2020-08-21T01:38:55.138717Z",
     "iopub.status.busy": "2020-08-21T01:38:55.138099Z",
     "iopub.status.idle": "2020-08-21T01:38:55.140615Z",
     "shell.execute_reply": "2020-08-21T01:38:55.141157Z"
    },
    "pycharm": {
     "name": "#%%\n"
    }
   },
   "outputs": [],
   "source": [
    "from torch.distributions import Normal\n",
    "normal = Normal(loc=0., scale=1.)"
   ]
  },
  {
   "cell_type": "code",
   "execution_count": 3,
   "metadata": {
    "collapsed": false,
    "execution": {
     "iopub.execute_input": "2020-08-21T01:38:55.145574Z",
     "iopub.status.busy": "2020-08-21T01:38:55.144870Z",
     "iopub.status.idle": "2020-08-21T01:38:55.165740Z",
     "shell.execute_reply": "2020-08-21T01:38:55.166164Z"
    },
    "pycharm": {
     "name": "#%%\n"
    }
   },
   "outputs": [
    {
     "name": "stdout",
     "output_type": "stream",
     "text": [
      "random sample with shape ():\n",
      " tensor(0.9295)\n",
      "random sample with shape (3,):\n",
      " tensor([-0.1884, -0.8821, -0.1007])\n",
      "random sample with shape (2,3):\n",
      " tensor([[ 1.2665, -0.3605, -0.1199],\n",
      "        [ 0.2227, -0.6124, -0.2536]])\n"
     ]
    }
   ],
   "source": [
    "print(\"random sample with shape ():\\n\",\n",
    "      normal.sample())\n",
    "print(\"random sample with shape (3,):\\n\",\n",
    "      normal.sample(sample_shape=(3,)))\n",
    "print(\"random sample with shape (2,3):\\n\",\n",
    "      normal.sample(sample_shape=(2, 3)))"
   ]
  },
  {
   "cell_type": "code",
   "execution_count": 4,
   "metadata": {
    "collapsed": false,
    "execution": {
     "iopub.execute_input": "2020-08-21T01:38:55.170722Z",
     "iopub.status.busy": "2020-08-21T01:38:55.170044Z",
     "iopub.status.idle": "2020-08-21T01:38:55.174998Z",
     "shell.execute_reply": "2020-08-21T01:38:55.175423Z"
    },
    "pycharm": {
     "name": "#%%\n"
    }
   },
   "outputs": [
    {
     "name": "stdout",
     "output_type": "stream",
     "text": [
      "cumulative probability given value with shape ():\n",
      " tensor(0.5000) \n",
      "\n",
      "cumulative probability given value with (3,):\n",
      " tensor([0.1587, 0.5000, 0.6915]) \n",
      "\n",
      "cumulative probability given value with (2,3):\n",
      " tensor([[0.1587, 0.5000, 0.6915],\n",
      "        [0.0228, 0.8413, 0.9987]])\n"
     ]
    }
   ],
   "source": [
    "print(\"cumulative probability given value with shape ():\\n\",\n",
    "      normal.cdf(value=0), \"\\n\")\n",
    "print(\"cumulative probability given value with (3,):\\n\",\n",
    "      normal.cdf(value=torch.Tensor([-1, 0, .5])), \"\\n\")\n",
    "print(\"cumulative probability given value with (2,3):\\n\",\n",
    "      normal.cdf(value=torch.Tensor([[-1, 0, .5], [-2, 1, 3]])))"
   ]
  },
  {
   "cell_type": "code",
   "execution_count": 5,
   "metadata": {
    "collapsed": false,
    "execution": {
     "iopub.execute_input": "2020-08-21T01:38:55.179496Z",
     "iopub.status.busy": "2020-08-21T01:38:55.178852Z",
     "iopub.status.idle": "2020-08-21T01:38:55.184955Z",
     "shell.execute_reply": "2020-08-21T01:38:55.184524Z"
    },
    "pycharm": {
     "name": "#%%\n"
    }
   },
   "outputs": [
    {
     "name": "stdout",
     "output_type": "stream",
     "text": [
      "cumulative probability given value with shape ():\n",
      " tensor(-0.9189) \n",
      "\n",
      "cumulative probability given value with (3,):\n",
      " tensor([-1.4189, -0.9189, -1.0439]) \n",
      "\n",
      "cumulative probability given value with (2,3):\n",
      " tensor([[-1.4189, -0.9189, -1.0439],\n",
      "        [-2.9189, -1.4189, -5.4189]])\n"
     ]
    }
   ],
   "source": [
    "print(\"cumulative probability given value with shape ():\\n\",\n",
    "      normal.log_prob(value=0), \"\\n\")\n",
    "print(\"cumulative probability given value with (3,):\\n\",\n",
    "      normal.log_prob(value=torch.Tensor([-1, 0, .5])), \"\\n\")\n",
    "print(\"cumulative probability given value with (2,3):\\n\",\n",
    "      normal.log_prob(value=torch.Tensor([[-1, 0, .5], [-2, 1, 3]])))"
   ]
  },
  {
   "cell_type": "code",
   "execution_count": 6,
   "metadata": {
    "collapsed": false,
    "execution": {
     "iopub.execute_input": "2020-08-21T01:38:55.188268Z",
     "iopub.status.busy": "2020-08-21T01:38:55.187649Z",
     "iopub.status.idle": "2020-08-21T01:38:55.189772Z",
     "shell.execute_reply": "2020-08-21T01:38:55.190191Z"
    },
    "pycharm": {
     "name": "#%%\n"
    }
   },
   "outputs": [
    {
     "name": "stdout",
     "output_type": "stream",
     "text": [
      "Normal(loc: 0.0, scale: 1.0)\n"
     ]
    }
   ],
   "source": [
    "print(normal)"
   ]
  },
  {
   "cell_type": "code",
   "execution_count": 7,
   "metadata": {
    "collapsed": false,
    "execution": {
     "iopub.execute_input": "2020-08-21T01:38:55.193558Z",
     "iopub.status.busy": "2020-08-21T01:38:55.192940Z",
     "iopub.status.idle": "2020-08-21T01:38:55.195145Z",
     "shell.execute_reply": "2020-08-21T01:38:55.195566Z"
    },
    "pycharm": {
     "name": "#%%\n"
    }
   },
   "outputs": [
    {
     "name": "stdout",
     "output_type": "stream",
     "text": [
      "torch.Size([])\n",
      "torch.Size([])\n"
     ]
    }
   ],
   "source": [
    "print(normal.batch_shape)\n",
    "print(normal.event_shape)"
   ]
  },
  {
   "cell_type": "code",
   "execution_count": 8,
   "metadata": {
    "collapsed": false,
    "execution": {
     "iopub.execute_input": "2020-08-21T01:38:55.199256Z",
     "iopub.status.busy": "2020-08-21T01:38:55.198625Z",
     "iopub.status.idle": "2020-08-21T01:38:55.200736Z",
     "shell.execute_reply": "2020-08-21T01:38:55.201224Z"
    },
    "pycharm": {
     "name": "#%%\n"
    }
   },
   "outputs": [
    {
     "name": "stdout",
     "output_type": "stream",
     "text": [
      "Normal(loc: torch.Size([2]), scale: torch.Size([2]))\n"
     ]
    }
   ],
   "source": [
    "normal_batch = Normal(loc=torch.Tensor([0., 1.]), scale=torch.Tensor([1., 1.5]))\n",
    "print(normal_batch)"
   ]
  },
  {
   "cell_type": "code",
   "execution_count": 9,
   "metadata": {
    "collapsed": false,
    "execution": {
     "iopub.execute_input": "2020-08-21T01:38:55.205331Z",
     "iopub.status.busy": "2020-08-21T01:38:55.204578Z",
     "iopub.status.idle": "2020-08-21T01:38:55.210156Z",
     "shell.execute_reply": "2020-08-21T01:38:55.209702Z"
    },
    "pycharm": {
     "name": "#%%\n"
    }
   },
   "outputs": [
    {
     "name": "stdout",
     "output_type": "stream",
     "text": [
      "random sample with sample_shape ():\n",
      " tensor([ 0.3205, -0.5978]) \n",
      "\n",
      "random sample with sample_shape (3,):\n",
      " tensor([[-0.5716,  1.7565],\n",
      "        [ 0.9567, -1.2378],\n",
      "        [-1.0503, -0.3478]]) \n",
      "\n",
      "random sample with sample_shape (2,3):\n",
      " tensor([[[-0.8365, -0.4753],\n",
      "         [-0.9461,  1.1011],\n",
      "         [ 2.1654,  0.6389]],\n",
      "\n",
      "        [[ 0.0993,  1.1349],\n",
      "         [ 1.0866, -1.9107],\n",
      "         [ 1.0602,  2.8958]]])\n"
     ]
    }
   ],
   "source": [
    "print(\"random sample with sample_shape ():\\n\",\n",
    "      normal_batch.sample(), \"\\n\")\n",
    "print(\"random sample with sample_shape (3,):\\n\",\n",
    "      normal_batch.sample(sample_shape=(3,)), \"\\n\")\n",
    "print(\"random sample with sample_shape (2,3):\\n\",\n",
    "      normal_batch.sample(sample_shape=(2,3)))\n"
   ]
  },
  {
   "cell_type": "code",
   "execution_count": 10,
   "metadata": {
    "collapsed": false,
    "execution": {
     "iopub.execute_input": "2020-08-21T01:38:55.214077Z",
     "iopub.status.busy": "2020-08-21T01:38:55.213405Z",
     "iopub.status.idle": "2020-08-21T01:38:55.218385Z",
     "shell.execute_reply": "2020-08-21T01:38:55.218810Z"
    },
    "pycharm": {
     "name": "#%%\n"
    }
   },
   "outputs": [
    {
     "name": "stdout",
     "output_type": "stream",
     "text": [
      "log-probability given value with shape ():\n",
      " tensor([-0.9189, -1.5466]) \n",
      "\n",
      "log-probability given value with shape (2,):\n",
      " tensor([-0.9189, -1.5466]) \n",
      "\n",
      "log-probability given value with shape (2,1):\n",
      " tensor([[-0.9189, -1.5466],\n",
      "        [-0.9189, -1.5466]])\n"
     ]
    }
   ],
   "source": [
    "print(\"log-probability given value with shape ():\\n\",\n",
    "      normal_batch.log_prob(0), \"\\n\")\n",
    "print(\"log-probability given value with shape (2,):\\n\",\n",
    "      normal_batch.log_prob(torch.Tensor([0, 0])), \"\\n\")\n",
    "print(\"log-probability given value with shape (2,1):\\n\",\n",
    "      normal_batch.log_prob(torch.Tensor([[0], [0]])))"
   ]
  },
  {
   "cell_type": "code",
   "execution_count": 11,
   "metadata": {
    "collapsed": false,
    "execution": {
     "iopub.execute_input": "2020-08-21T01:38:55.222710Z",
     "iopub.status.busy": "2020-08-21T01:38:55.221955Z",
     "iopub.status.idle": "2020-08-21T01:38:55.224529Z",
     "shell.execute_reply": "2020-08-21T01:38:55.224956Z"
    },
    "pycharm": {
     "name": "#%%\n"
    }
   },
   "outputs": [
    {
     "name": "stdout",
     "output_type": "stream",
     "text": [
      "MultivariateNormal(loc: torch.Size([2]), scale_tril: torch.Size([2, 2]))\n"
     ]
    }
   ],
   "source": [
    "from torch.distributions import MultivariateNormal\n",
    "mvn = MultivariateNormal(\n",
    "    loc=torch.Tensor([0, 1]),\n",
    "    scale_tril=torch.cholesky(torch.Tensor([[1., 0.], [0., .5]])))\n",
    "print(mvn)\n"
   ]
  },
  {
   "cell_type": "code",
   "execution_count": 12,
   "metadata": {
    "collapsed": false,
    "execution": {
     "iopub.execute_input": "2020-08-21T01:38:55.228720Z",
     "iopub.status.busy": "2020-08-21T01:38:55.228042Z",
     "iopub.status.idle": "2020-08-21T01:38:55.235100Z",
     "shell.execute_reply": "2020-08-21T01:38:55.234680Z"
    },
    "pycharm": {
     "name": "#%%\n"
    }
   },
   "outputs": [
    {
     "name": "stdout",
     "output_type": "stream",
     "text": [
      "random sample with sample_shape ():\n",
      " tensor([-0.5189, -0.2280]) \n",
      "\n",
      "random sample with sample_shape (3,):\n",
      " tensor([[-0.3313,  1.4091],\n",
      "        [-1.3830,  0.3483],\n",
      "        [ 1.2271, -0.3071]]) \n",
      "\n",
      "random sample with sample_shape (2, 3):\n",
      " tensor([[[ 0.6462,  1.0255],\n",
      "         [-0.7205,  1.7626],\n",
      "         [ 0.3417,  1.5046]],\n",
      "\n",
      "        [[ 0.8905,  0.5058],\n",
      "         [-0.0375,  1.3373],\n",
      "         [-0.4642,  1.1783]]])\n"
     ]
    }
   ],
   "source": [
    "print(\"random sample with sample_shape ():\\n\",\n",
    "      mvn.sample(), \"\\n\")\n",
    "print(\"random sample with sample_shape (3,):\\n\",\n",
    "      mvn.sample(sample_shape=(3,)), \"\\n\")\n",
    "print(\"random sample with sample_shape (2, 3):\\n\",\n",
    "      mvn.sample(sample_shape=(2, 3)))"
   ]
  },
  {
   "cell_type": "code",
   "execution_count": 13,
   "metadata": {
    "collapsed": false,
    "execution": {
     "iopub.execute_input": "2020-08-21T01:38:55.238896Z",
     "iopub.status.busy": "2020-08-21T01:38:55.238249Z",
     "iopub.status.idle": "2020-08-21T01:38:55.242419Z",
     "shell.execute_reply": "2020-08-21T01:38:55.242842Z"
    },
    "pycharm": {
     "name": "#%%\n"
    }
   },
   "outputs": [
    {
     "name": "stdout",
     "output_type": "stream",
     "text": [
      "log-probability given value with shape (2,):\n",
      " tensor(-2.4913) \n",
      "\n",
      "log-probability given value with shape (2,1):\n",
      " tensor([-2.4913, -2.4913])\n"
     ]
    }
   ],
   "source": [
    "print(\"log-probability given value with shape (2,):\\n\",\n",
    "      mvn.log_prob(torch.Tensor([0, 0])), \"\\n\")\n",
    "print(\"log-probability given value with shape (2,1):\\n\",\n",
    "      mvn.log_prob(torch.Tensor([[0, 0], [0, 0]])))"
   ]
  },
  {
   "cell_type": "code",
   "execution_count": 14,
   "metadata": {
    "collapsed": false,
    "execution": {
     "iopub.execute_input": "2020-08-21T01:38:55.246528Z",
     "iopub.status.busy": "2020-08-21T01:38:55.245926Z",
     "iopub.status.idle": "2020-08-21T01:38:55.248076Z",
     "shell.execute_reply": "2020-08-21T01:38:55.248496Z"
    },
    "pycharm": {
     "name": "#%%\n"
    }
   },
   "outputs": [
    {
     "name": "stdout",
     "output_type": "stream",
     "text": [
      "torch.Size([])\n",
      "torch.Size([2])\n"
     ]
    }
   ],
   "source": [
    "from torch.distributions import Independent\n",
    "normal_batch = Independent(normal_batch, reinterpreted_batch_ndims=1)\n",
    "print(normal_batch.batch_shape)\n",
    "print(normal_batch.event_shape)\n"
   ]
  },
  {
   "cell_type": "code",
   "execution_count": 15,
   "metadata": {
    "collapsed": false,
    "execution": {
     "iopub.execute_input": "2020-08-21T01:38:55.257427Z",
     "iopub.status.busy": "2020-08-21T01:38:55.256783Z",
     "iopub.status.idle": "2020-08-21T01:38:55.259349Z",
     "shell.execute_reply": "2020-08-21T01:38:55.259778Z"
    },
    "pycharm": {
     "name": "#%%\n"
    }
   },
   "outputs": [
    {
     "data": {
      "text/plain": [
       "MultivariateNormal(loc: torch.Size([3, 2]), scale_tril: torch.Size([3, 2, 2]))"
      ]
     },
     "execution_count": 15,
     "metadata": {},
     "output_type": "execute_result"
    }
   ],
   "source": [
    "mvn_batch = MultivariateNormal(\n",
    "    loc=torch.Tensor([[0, 1],[1, 2],[2, 3]]),\n",
    "    scale_tril=torch.cholesky(torch.Tensor([[1., .2], [.2, .5]])))\n",
    "mvn_batch"
   ]
  },
  {
   "cell_type": "code",
   "execution_count": 16,
   "metadata": {
    "collapsed": false,
    "execution": {
     "iopub.execute_input": "2020-08-21T01:38:55.264024Z",
     "iopub.status.busy": "2020-08-21T01:38:55.263323Z",
     "iopub.status.idle": "2020-08-21T01:38:55.268866Z",
     "shell.execute_reply": "2020-08-21T01:38:55.269309Z"
    },
    "pycharm": {
     "name": "#%%\n"
    }
   },
   "outputs": [
    {
     "name": "stdout",
     "output_type": "stream",
     "text": [
      "random sample with sample_shape ():\n",
      " tensor([[ 0.0847,  1.4848],\n",
      "        [-1.3189,  2.7567],\n",
      "        [ 1.5867,  4.5209]]) \n",
      "\n",
      "random sample with sample_shape (3,):\n",
      " tensor([[[-2.3244,  0.2312],\n",
      "         [ 1.2348,  1.8712],\n",
      "         [ 2.3879,  3.5360]],\n",
      "\n",
      "        [[-0.2209,  1.5717],\n",
      "         [ 0.8786,  2.8911],\n",
      "         [ 0.6307,  2.7636]],\n",
      "\n",
      "        [[ 0.3950,  1.0071],\n",
      "         [ 1.4580,  1.7656],\n",
      "         [ 2.8364,  2.9349]]]) \n",
      "\n",
      "random sample with sample_shape (2, 3):\n",
      " tensor([[[[-0.0586,  0.9190],\n",
      "          [ 0.5611,  1.6489],\n",
      "          [ 3.5022,  3.0107]],\n",
      "\n",
      "         [[-1.0622,  0.5766],\n",
      "          [ 0.1411,  1.4111],\n",
      "          [ 1.6315,  3.7088]],\n",
      "\n",
      "         [[ 1.7255,  0.7592],\n",
      "          [ 0.6242,  3.5455],\n",
      "          [ 1.9021,  1.1335]]],\n",
      "\n",
      "\n",
      "        [[[ 1.5389,  1.5200],\n",
      "          [-0.0430,  1.2177],\n",
      "          [ 1.8611,  3.7190]],\n",
      "\n",
      "         [[-0.6965,  1.3945],\n",
      "          [ 0.7339,  0.3864],\n",
      "          [ 1.0317,  2.2053]],\n",
      "\n",
      "         [[-0.9446,  1.2506],\n",
      "          [ 0.4448,  0.3897],\n",
      "          [ 1.5293,  3.6477]]]])\n"
     ]
    }
   ],
   "source": [
    "print(\"random sample with sample_shape ():\\n\",\n",
    "      mvn_batch.sample(), \"\\n\")\n",
    "print(\"random sample with sample_shape (3,):\\n\",\n",
    "      mvn_batch.sample(sample_shape=(3,)), \"\\n\")\n",
    "print(\"random sample with sample_shape (2, 3):\\n\",\n",
    "      mvn_batch.sample(sample_shape=(2, 3)))\n"
   ]
  },
  {
   "cell_type": "code",
   "execution_count": 17,
   "metadata": {
    "collapsed": false,
    "execution": {
     "iopub.execute_input": "2020-08-21T01:38:55.273111Z",
     "iopub.status.busy": "2020-08-21T01:38:55.272490Z",
     "iopub.status.idle": "2020-08-21T01:38:55.275713Z",
     "shell.execute_reply": "2020-08-21T01:38:55.276139Z"
    },
    "pycharm": {
     "name": "#%%\n"
    }
   },
   "outputs": [
    {
     "name": "stdout",
     "output_type": "stream",
     "text": [
      "normal model:\n",
      " Normal(loc: tensor([5.]), scale: tensor([2.])) \n",
      "\n"
     ]
    }
   ],
   "source": [
    "mu_true = torch.tensor([5.])\n",
    "sigma_true = torch.tensor([2.])\n",
    "normal_model_true = Normal(\n",
    "    loc=mu_true,\n",
    "    scale=sigma_true)\n",
    "print(\"normal model:\\n\", normal_model_true, \"\\n\")"
   ]
  },
  {
   "cell_type": "code",
   "execution_count": 18,
   "metadata": {
    "collapsed": false,
    "execution": {
     "iopub.execute_input": "2020-08-21T01:38:55.280043Z",
     "iopub.status.busy": "2020-08-21T01:38:55.279227Z",
     "iopub.status.idle": "2020-08-21T01:38:55.282670Z",
     "shell.execute_reply": "2020-08-21T01:38:55.283097Z"
    },
    "pycharm": {
     "name": "#%%\n"
    }
   },
   "outputs": [
    {
     "name": "stdout",
     "output_type": "stream",
     "text": [
      "negative likelihood value is tensor(2.0896)\n"
     ]
    }
   ],
   "source": [
    "sample_size = 1000\n",
    "x = normal_model_true.sample(sample_shape=(sample_size,))\n",
    "loss_value = -torch.mean(torch.sum(normal_model_true.log_prob(x), dim = 1))\n",
    "print(\"negative likelihood value is\", loss_value)\n"
   ]
  },
  {
   "cell_type": "code",
   "execution_count": 19,
   "metadata": {
    "collapsed": false,
    "execution": {
     "iopub.execute_input": "2020-08-21T01:38:55.288154Z",
     "iopub.status.busy": "2020-08-21T01:38:55.287541Z",
     "iopub.status.idle": "2020-08-21T01:38:55.371966Z",
     "shell.execute_reply": "2020-08-21T01:38:55.372396Z"
    },
    "pycharm": {
     "name": "#%%\n"
    }
   },
   "outputs": [],
   "source": [
    "epochs = 200\n",
    "lr = 1.0\n",
    "mu = torch.tensor([0.], requires_grad=True)\n",
    "sigma = torch.tensor([1.], requires_grad=True)\n",
    "optimizer = torch.optim.Adam([mu, sigma], lr=.5)\n",
    "for epoch in range(epochs):\n",
    "    normal_model = Normal(loc=mu, scale=sigma)\n",
    "    loss_value = -torch.mean(normal_model.log_prob(x))\n",
    "    optimizer.zero_grad()\n",
    "    loss_value.backward() # compute the gradient\n",
    "    optimizer.step()"
   ]
  },
  {
   "cell_type": "code",
   "execution_count": 20,
   "metadata": {
    "collapsed": false,
    "execution": {
     "iopub.execute_input": "2020-08-21T01:38:55.375822Z",
     "iopub.status.busy": "2020-08-21T01:38:55.375138Z",
     "iopub.status.idle": "2020-08-21T01:38:55.378997Z",
     "shell.execute_reply": "2020-08-21T01:38:55.379385Z"
    },
    "pycharm": {
     "name": "#%%\n"
    }
   },
   "outputs": [
    {
     "name": "stdout",
     "output_type": "stream",
     "text": [
      "ML mean by gradient descent: tensor([5.0086], requires_grad=True)\n",
      "ML std by gradient descent: tensor([1.9517], requires_grad=True)\n"
     ]
    }
   ],
   "source": [
    "print(\"ML mean by gradient descent:\", mu)\n",
    "print(\"ML std by gradient descent:\", sigma)"
   ]
  },
  {
   "cell_type": "code",
   "execution_count": 21,
   "metadata": {
    "collapsed": false,
    "execution": {
     "iopub.execute_input": "2020-08-21T01:38:55.382909Z",
     "iopub.status.busy": "2020-08-21T01:38:55.382170Z",
     "iopub.status.idle": "2020-08-21T01:38:55.386228Z",
     "shell.execute_reply": "2020-08-21T01:38:55.386653Z"
    },
    "pycharm": {
     "name": "#%%\n"
    }
   },
   "outputs": [
    {
     "name": "stdout",
     "output_type": "stream",
     "text": [
      "ML mean by formula: tensor(5.0084)\n",
      "ML std by formula: tensor(1.9545)\n"
     ]
    }
   ],
   "source": [
    "print(\"ML mean by formula:\", torch.mean(x))\n",
    "print(\"ML std by formula:\", torch.std(x, unbiased=False))"
   ]
  },
  {
   "cell_type": "code",
   "execution_count": 22,
   "metadata": {
    "collapsed": false,
    "execution": {
     "iopub.execute_input": "2020-08-21T01:38:55.391119Z",
     "iopub.status.busy": "2020-08-21T01:38:55.390332Z",
     "iopub.status.idle": "2020-08-21T01:38:55.394665Z",
     "shell.execute_reply": "2020-08-21T01:38:55.395098Z"
    },
    "pycharm": {
     "name": "#%%\n"
    }
   },
   "outputs": [
    {
     "name": "stdout",
     "output_type": "stream",
     "text": [
      "true mean vector: \n",
      " tensor([-1.,  0.,  1.])\n",
      "true covariance matrix: \n",
      " tensor([[9.0000, 6.0000, 1.2000],\n",
      "        [6.0000, 5.0000, 1.3000],\n",
      "        [1.2000, 1.3000, 0.6600]])\n"
     ]
    }
   ],
   "source": [
    "mu_true = torch.tensor([-1., 0., 1.])\n",
    "sigma_tril_true = torch.tensor([[3., 0., 0.], [2., 1., 0.], [.4, .5, .5]])\n",
    "mvn_model_true = MultivariateNormal(\n",
    "    loc=mu_true,\n",
    "    scale_tril=sigma_tril_true)\n",
    "print(\"true mean vector: \\n\", mvn_model_true.mean)\n",
    "print(\"true covariance matrix: \\n\", mvn_model_true.covariance_matrix)"
   ]
  },
  {
   "cell_type": "code",
   "execution_count": 23,
   "metadata": {
    "collapsed": false,
    "execution": {
     "iopub.execute_input": "2020-08-21T01:38:55.399147Z",
     "iopub.status.busy": "2020-08-21T01:38:55.398310Z",
     "iopub.status.idle": "2020-08-21T01:38:55.403077Z",
     "shell.execute_reply": "2020-08-21T01:38:55.402586Z"
    },
    "pycharm": {
     "name": "#%%\n"
    }
   },
   "outputs": [
    {
     "name": "stdout",
     "output_type": "stream",
     "text": [
      "negative likelihood value is tensor(4.6349)\n"
     ]
    }
   ],
   "source": [
    "sample_size = 1000\n",
    "x = mvn_model_true.sample(sample_shape=(sample_size,))\n",
    "loss_value = -torch.mean(mvn_model_true.log_prob(x))\n",
    "print(\"negative likelihood value is\", loss_value)\n"
   ]
  },
  {
   "cell_type": "code",
   "execution_count": 24,
   "metadata": {
    "collapsed": false,
    "execution": {
     "iopub.execute_input": "2020-08-21T01:38:55.410345Z",
     "iopub.status.busy": "2020-08-21T01:38:55.409446Z",
     "iopub.status.idle": "2020-08-21T01:38:55.791819Z",
     "shell.execute_reply": "2020-08-21T01:38:55.792310Z"
    },
    "pycharm": {
     "name": "#%%\n"
    }
   },
   "outputs": [],
   "source": [
    "epochs = 500\n",
    "lr = .1\n",
    "mu = torch.tensor(\n",
    "    [0., 0., 0.], requires_grad=True)\n",
    "sigma_tril = torch.tensor(\n",
    "    [[1., 0., 0.], [0., 1., 0.], [0., 0., 1.]],\n",
    "    requires_grad=True)\n",
    "optimizer = torch.optim.Adam([mu, sigma_tril], lr=lr)\n",
    "\n",
    "for epoch in range(epochs):\n",
    "    mvn_model = MultivariateNormal(\n",
    "    loc=mu,\n",
    "    scale_tril=sigma_tril)\n",
    "    loss_value = -torch.mean(mvn_model.log_prob(x))\n",
    "    optimizer.zero_grad()\n",
    "    loss_value.backward() # compute the gradient\n",
    "    optimizer.step()"
   ]
  },
  {
   "cell_type": "code",
   "execution_count": 25,
   "metadata": {
    "collapsed": false,
    "execution": {
     "iopub.execute_input": "2020-08-21T01:38:55.795959Z",
     "iopub.status.busy": "2020-08-21T01:38:55.795271Z",
     "iopub.status.idle": "2020-08-21T01:38:55.799386Z",
     "shell.execute_reply": "2020-08-21T01:38:55.799927Z"
    },
    "pycharm": {
     "name": "#%%\n"
    }
   },
   "outputs": [
    {
     "name": "stdout",
     "output_type": "stream",
     "text": [
      "ML mean by gradient descent: \n",
      " tensor([-0.9429,  0.0496,  1.0101], requires_grad=True)\n",
      "ML covariance by gradient descent: \n",
      " tensor([[8.8793, 5.7819, 1.0710],\n",
      "        [5.7819, 4.7076, 1.1514],\n",
      "        [1.0710, 1.1514, 0.6006]], grad_fn=<MmBackward>)\n"
     ]
    }
   ],
   "source": [
    "print(\"ML mean by gradient descent: \\n\",\n",
    "      mu)\n",
    "print(\"ML covariance by gradient descent: \\n\",\n",
    "      sigma_tril @ torch.transpose(sigma_tril, 0, 1))"
   ]
  },
  {
   "cell_type": "code",
   "execution_count": 26,
   "metadata": {
    "collapsed": false,
    "execution": {
     "iopub.execute_input": "2020-08-21T01:38:55.804109Z",
     "iopub.status.busy": "2020-08-21T01:38:55.803407Z",
     "iopub.status.idle": "2020-08-21T01:38:55.807563Z",
     "shell.execute_reply": "2020-08-21T01:38:55.808015Z"
    },
    "pycharm": {
     "name": "#%%\n"
    }
   },
   "outputs": [
    {
     "name": "stdout",
     "output_type": "stream",
     "text": [
      "ML mean by formula: \n",
      " tensor([-0.9429,  0.0496,  1.0101])\n",
      "ML covariance by formula: \n",
      " tensor([[8.8793, 5.7819, 1.0710],\n",
      "        [5.7819, 4.7076, 1.1514],\n",
      "        [1.0710, 1.1514, 0.6006]])\n"
     ]
    }
   ],
   "source": [
    "sample_mean = torch.mean(x, dim = 0)\n",
    "sample_moment2 = (torch.transpose(x, 0, 1) @ x) / sample_size\n",
    "sample_cov = sample_moment2 - torch.ger(sample_mean, sample_mean)\n",
    "print(\"ML mean by formula: \\n\",\n",
    "      sample_mean)\n",
    "print(\"ML covariance by formula: \\n\",\n",
    "      sample_cov)"
   ]
  }
 ],
 "metadata": {
  "kernelspec": {
   "display_name": "Python 3",
   "language": "python",
   "name": "python3"
  },
  "language_info": {
   "codemirror_mode": {
    "name": "ipython",
    "version": 3
   },
   "file_extension": ".py",
   "mimetype": "text/x-python",
   "name": "python",
   "nbconvert_exporter": "python",
   "pygments_lexer": "ipython3",
   "version": "3.8.5"
  }
 },
 "nbformat": 4,
 "nbformat_minor": 0
}