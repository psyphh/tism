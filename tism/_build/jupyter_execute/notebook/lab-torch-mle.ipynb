{
 "cells": [
  {
   "cell_type": "markdown",
   "metadata": {
    "collapsed": false
   },
   "source": [
    "Lab: 最大概似估計\n",
    "================"
   ]
  },
  {
   "cell_type": "code",
   "execution_count": 1,
   "metadata": {
    "collapsed": true,
    "execution": {
     "iopub.execute_input": "2020-08-27T06:50:38.991354Z",
     "iopub.status.busy": "2020-08-27T06:50:38.990730Z",
     "iopub.status.idle": "2020-08-27T06:50:44.646334Z",
     "shell.execute_reply": "2020-08-27T06:50:44.646954Z"
    }
   },
   "outputs": [],
   "source": [
    "import torch"
   ]
  },
  {
   "cell_type": "code",
   "execution_count": 2,
   "metadata": {
    "collapsed": false,
    "execution": {
     "iopub.execute_input": "2020-08-27T06:50:44.657345Z",
     "iopub.status.busy": "2020-08-27T06:50:44.655148Z",
     "iopub.status.idle": "2020-08-27T06:50:44.660400Z",
     "shell.execute_reply": "2020-08-27T06:50:44.660835Z"
    },
    "pycharm": {
     "name": "#%%\n"
    }
   },
   "outputs": [],
   "source": [
    "from torch.distributions import Normal\n",
    "normal = Normal(loc=0., scale=1.)"
   ]
  },
  {
   "cell_type": "code",
   "execution_count": 3,
   "metadata": {
    "collapsed": false,
    "execution": {
     "iopub.execute_input": "2020-08-27T06:50:44.665703Z",
     "iopub.status.busy": "2020-08-27T06:50:44.664849Z",
     "iopub.status.idle": "2020-08-27T06:50:44.695425Z",
     "shell.execute_reply": "2020-08-27T06:50:44.695964Z"
    },
    "pycharm": {
     "name": "#%%\n"
    }
   },
   "outputs": [
    {
     "name": "stdout",
     "output_type": "stream",
     "text": [
      "random sample with shape ():\n",
      " tensor(-1.7886)\n",
      "random sample with shape (3,):\n",
      " tensor([-1.2067, -1.5614,  1.1364])\n",
      "random sample with shape (2,3):\n",
      " tensor([[ 1.0188,  1.3026,  0.4082],\n",
      "        [ 0.4221, -0.8592,  0.0048]])\n"
     ]
    }
   ],
   "source": [
    "print(\"random sample with shape ():\\n\",\n",
    "      normal.sample())\n",
    "print(\"random sample with shape (3,):\\n\",\n",
    "      normal.sample(sample_shape=(3,)))\n",
    "print(\"random sample with shape (2,3):\\n\",\n",
    "      normal.sample(sample_shape=(2, 3)))"
   ]
  },
  {
   "cell_type": "code",
   "execution_count": 4,
   "metadata": {
    "collapsed": false,
    "execution": {
     "iopub.execute_input": "2020-08-27T06:50:44.700726Z",
     "iopub.status.busy": "2020-08-27T06:50:44.699987Z",
     "iopub.status.idle": "2020-08-27T06:50:44.706513Z",
     "shell.execute_reply": "2020-08-27T06:50:44.706030Z"
    },
    "pycharm": {
     "name": "#%%\n"
    }
   },
   "outputs": [
    {
     "name": "stdout",
     "output_type": "stream",
     "text": [
      "cumulative probability given value with shape ():\n",
      " tensor(0.5000) \n",
      "\n",
      "cumulative probability given value with (3,):\n",
      " tensor([0.1587, 0.5000, 0.6915]) \n",
      "\n",
      "cumulative probability given value with (2,3):\n",
      " tensor([[0.1587, 0.5000, 0.6915],\n",
      "        [0.0228, 0.8413, 0.9987]])\n"
     ]
    }
   ],
   "source": [
    "print(\"cumulative probability given value with shape ():\\n\",\n",
    "      normal.cdf(value=0), \"\\n\")\n",
    "print(\"cumulative probability given value with (3,):\\n\",\n",
    "      normal.cdf(value=torch.Tensor([-1, 0, .5])), \"\\n\")\n",
    "print(\"cumulative probability given value with (2,3):\\n\",\n",
    "      normal.cdf(value=torch.Tensor([[-1, 0, .5], [-2, 1, 3]])))"
   ]
  },
  {
   "cell_type": "code",
   "execution_count": 5,
   "metadata": {
    "collapsed": false,
    "execution": {
     "iopub.execute_input": "2020-08-27T06:50:44.711129Z",
     "iopub.status.busy": "2020-08-27T06:50:44.710345Z",
     "iopub.status.idle": "2020-08-27T06:50:44.716560Z",
     "shell.execute_reply": "2020-08-27T06:50:44.717002Z"
    },
    "pycharm": {
     "name": "#%%\n"
    }
   },
   "outputs": [
    {
     "name": "stdout",
     "output_type": "stream",
     "text": [
      "cumulative probability given value with shape ():\n",
      " tensor(-0.9189) \n",
      "\n",
      "cumulative probability given value with (3,):\n",
      " tensor([-1.4189, -0.9189, -1.0439]) \n",
      "\n",
      "cumulative probability given value with (2,3):\n",
      " tensor([[-1.4189, -0.9189, -1.0439],\n",
      "        [-2.9189, -1.4189, -5.4189]])\n"
     ]
    }
   ],
   "source": [
    "print(\"cumulative probability given value with shape ():\\n\",\n",
    "      normal.log_prob(value=0), \"\\n\")\n",
    "print(\"cumulative probability given value with (3,):\\n\",\n",
    "      normal.log_prob(value=torch.Tensor([-1, 0, .5])), \"\\n\")\n",
    "print(\"cumulative probability given value with (2,3):\\n\",\n",
    "      normal.log_prob(value=torch.Tensor([[-1, 0, .5], [-2, 1, 3]])))"
   ]
  },
  {
   "cell_type": "code",
   "execution_count": 6,
   "metadata": {
    "collapsed": false,
    "execution": {
     "iopub.execute_input": "2020-08-27T06:50:44.720689Z",
     "iopub.status.busy": "2020-08-27T06:50:44.719991Z",
     "iopub.status.idle": "2020-08-27T06:50:44.722424Z",
     "shell.execute_reply": "2020-08-27T06:50:44.722880Z"
    },
    "pycharm": {
     "name": "#%%\n"
    }
   },
   "outputs": [
    {
     "name": "stdout",
     "output_type": "stream",
     "text": [
      "Normal(loc: 0.0, scale: 1.0)\n"
     ]
    }
   ],
   "source": [
    "print(normal)"
   ]
  },
  {
   "cell_type": "code",
   "execution_count": 7,
   "metadata": {
    "collapsed": false,
    "execution": {
     "iopub.execute_input": "2020-08-27T06:50:44.726729Z",
     "iopub.status.busy": "2020-08-27T06:50:44.726089Z",
     "iopub.status.idle": "2020-08-27T06:50:44.728440Z",
     "shell.execute_reply": "2020-08-27T06:50:44.728912Z"
    },
    "pycharm": {
     "name": "#%%\n"
    }
   },
   "outputs": [
    {
     "name": "stdout",
     "output_type": "stream",
     "text": [
      "torch.Size([])\n",
      "torch.Size([])\n"
     ]
    }
   ],
   "source": [
    "print(normal.batch_shape)\n",
    "print(normal.event_shape)"
   ]
  },
  {
   "cell_type": "code",
   "execution_count": 8,
   "metadata": {
    "collapsed": false,
    "execution": {
     "iopub.execute_input": "2020-08-27T06:50:44.733291Z",
     "iopub.status.busy": "2020-08-27T06:50:44.732610Z",
     "iopub.status.idle": "2020-08-27T06:50:44.735121Z",
     "shell.execute_reply": "2020-08-27T06:50:44.735561Z"
    },
    "pycharm": {
     "name": "#%%\n"
    }
   },
   "outputs": [
    {
     "name": "stdout",
     "output_type": "stream",
     "text": [
      "Normal(loc: torch.Size([2]), scale: torch.Size([2]))\n"
     ]
    }
   ],
   "source": [
    "normal_batch = Normal(loc=torch.Tensor([0., 1.]), scale=torch.Tensor([1., 1.5]))\n",
    "print(normal_batch)"
   ]
  },
  {
   "cell_type": "code",
   "execution_count": 9,
   "metadata": {
    "collapsed": false,
    "execution": {
     "iopub.execute_input": "2020-08-27T06:50:44.740105Z",
     "iopub.status.busy": "2020-08-27T06:50:44.739324Z",
     "iopub.status.idle": "2020-08-27T06:50:44.745255Z",
     "shell.execute_reply": "2020-08-27T06:50:44.745709Z"
    },
    "pycharm": {
     "name": "#%%\n"
    }
   },
   "outputs": [
    {
     "name": "stdout",
     "output_type": "stream",
     "text": [
      "random sample with sample_shape ():\n",
      " tensor([-0.6340,  3.3679]) \n",
      "\n",
      "random sample with sample_shape (3,):\n",
      " tensor([[-0.4915,  1.5562],\n",
      "        [ 0.5452,  2.3304],\n",
      "        [-0.0674,  1.6319]]) \n",
      "\n",
      "random sample with sample_shape (2,3):\n",
      " tensor([[[-1.0306,  2.5778],\n",
      "         [ 0.0607,  1.7681],\n",
      "         [ 0.4815, -0.9345]],\n",
      "\n",
      "        [[ 0.5089,  2.7806],\n",
      "         [-0.5045,  1.4897],\n",
      "         [ 0.8944,  0.1244]]])\n"
     ]
    }
   ],
   "source": [
    "print(\"random sample with sample_shape ():\\n\",\n",
    "      normal_batch.sample(), \"\\n\")\n",
    "print(\"random sample with sample_shape (3,):\\n\",\n",
    "      normal_batch.sample(sample_shape=(3,)), \"\\n\")\n",
    "print(\"random sample with sample_shape (2,3):\\n\",\n",
    "      normal_batch.sample(sample_shape=(2,3)))\n"
   ]
  },
  {
   "cell_type": "code",
   "execution_count": 10,
   "metadata": {
    "collapsed": false,
    "execution": {
     "iopub.execute_input": "2020-08-27T06:50:44.750087Z",
     "iopub.status.busy": "2020-08-27T06:50:44.749329Z",
     "iopub.status.idle": "2020-08-27T06:50:44.755500Z",
     "shell.execute_reply": "2020-08-27T06:50:44.756041Z"
    },
    "pycharm": {
     "name": "#%%\n"
    }
   },
   "outputs": [
    {
     "name": "stdout",
     "output_type": "stream",
     "text": [
      "log-probability given value with shape ():\n",
      " tensor([-0.9189, -1.5466]) \n",
      "\n",
      "log-probability given value with shape (2,):\n",
      " tensor([-0.9189, -1.5466]) \n",
      "\n",
      "log-probability given value with shape (2,1):\n",
      " tensor([[-0.9189, -1.5466],\n",
      "        [-0.9189, -1.5466]])\n"
     ]
    }
   ],
   "source": [
    "print(\"log-probability given value with shape ():\\n\",\n",
    "      normal_batch.log_prob(0), \"\\n\")\n",
    "print(\"log-probability given value with shape (2,):\\n\",\n",
    "      normal_batch.log_prob(torch.Tensor([0, 0])), \"\\n\")\n",
    "print(\"log-probability given value with shape (2,1):\\n\",\n",
    "      normal_batch.log_prob(torch.Tensor([[0], [0]])))"
   ]
  },
  {
   "cell_type": "code",
   "execution_count": 11,
   "metadata": {
    "collapsed": false,
    "execution": {
     "iopub.execute_input": "2020-08-27T06:50:44.760552Z",
     "iopub.status.busy": "2020-08-27T06:50:44.759801Z",
     "iopub.status.idle": "2020-08-27T06:50:44.762580Z",
     "shell.execute_reply": "2020-08-27T06:50:44.763070Z"
    },
    "pycharm": {
     "name": "#%%\n"
    }
   },
   "outputs": [
    {
     "name": "stdout",
     "output_type": "stream",
     "text": [
      "MultivariateNormal(loc: torch.Size([2]), scale_tril: torch.Size([2, 2]))\n"
     ]
    }
   ],
   "source": [
    "from torch.distributions import MultivariateNormal\n",
    "mvn = MultivariateNormal(\n",
    "    loc=torch.Tensor([0, 1]),\n",
    "    scale_tril=torch.cholesky(torch.Tensor([[1., 0.], [0., .5]])))\n",
    "print(mvn)\n"
   ]
  },
  {
   "cell_type": "code",
   "execution_count": 12,
   "metadata": {
    "collapsed": false,
    "execution": {
     "iopub.execute_input": "2020-08-27T06:50:44.767554Z",
     "iopub.status.busy": "2020-08-27T06:50:44.766798Z",
     "iopub.status.idle": "2020-08-27T06:50:44.773654Z",
     "shell.execute_reply": "2020-08-27T06:50:44.774097Z"
    },
    "pycharm": {
     "name": "#%%\n"
    }
   },
   "outputs": [
    {
     "name": "stdout",
     "output_type": "stream",
     "text": [
      "random sample with sample_shape ():\n",
      " tensor([-0.8543,  1.4047]) \n",
      "\n",
      "random sample with sample_shape (3,):\n",
      " tensor([[-0.0202,  0.3989],\n",
      "        [-0.5020,  0.0073],\n",
      "        [ 0.4557,  0.4627]]) \n",
      "\n",
      "random sample with sample_shape (2, 3):\n",
      " tensor([[[-0.9723,  0.4815],\n",
      "         [-1.3788,  0.1017],\n",
      "         [ 0.0940,  0.0351]],\n",
      "\n",
      "        [[-1.1022,  1.3271],\n",
      "         [-0.1163,  1.0023],\n",
      "         [ 1.1889,  1.5059]]])\n"
     ]
    }
   ],
   "source": [
    "print(\"random sample with sample_shape ():\\n\",\n",
    "      mvn.sample(), \"\\n\")\n",
    "print(\"random sample with sample_shape (3,):\\n\",\n",
    "      mvn.sample(sample_shape=(3,)), \"\\n\")\n",
    "print(\"random sample with sample_shape (2, 3):\\n\",\n",
    "      mvn.sample(sample_shape=(2, 3)))"
   ]
  },
  {
   "cell_type": "code",
   "execution_count": 13,
   "metadata": {
    "collapsed": false,
    "execution": {
     "iopub.execute_input": "2020-08-27T06:50:44.778960Z",
     "iopub.status.busy": "2020-08-27T06:50:44.778146Z",
     "iopub.status.idle": "2020-08-27T06:50:44.783054Z",
     "shell.execute_reply": "2020-08-27T06:50:44.783485Z"
    },
    "pycharm": {
     "name": "#%%\n"
    }
   },
   "outputs": [
    {
     "name": "stdout",
     "output_type": "stream",
     "text": [
      "log-probability given value with shape (2,):\n",
      " tensor(-2.4913) \n",
      "\n",
      "log-probability given value with shape (2,1):\n",
      " tensor([-2.4913, -2.4913])\n"
     ]
    }
   ],
   "source": [
    "print(\"log-probability given value with shape (2,):\\n\",\n",
    "      mvn.log_prob(torch.Tensor([0, 0])), \"\\n\")\n",
    "print(\"log-probability given value with shape (2,1):\\n\",\n",
    "      mvn.log_prob(torch.Tensor([[0, 0], [0, 0]])))"
   ]
  },
  {
   "cell_type": "code",
   "execution_count": 14,
   "metadata": {
    "collapsed": false,
    "execution": {
     "iopub.execute_input": "2020-08-27T06:50:44.787405Z",
     "iopub.status.busy": "2020-08-27T06:50:44.786782Z",
     "iopub.status.idle": "2020-08-27T06:50:44.789239Z",
     "shell.execute_reply": "2020-08-27T06:50:44.789664Z"
    },
    "pycharm": {
     "name": "#%%\n"
    }
   },
   "outputs": [
    {
     "name": "stdout",
     "output_type": "stream",
     "text": [
      "torch.Size([])\n",
      "torch.Size([2])\n"
     ]
    }
   ],
   "source": [
    "from torch.distributions import Independent\n",
    "normal_batch = Independent(normal_batch, reinterpreted_batch_ndims=1)\n",
    "print(normal_batch.batch_shape)\n",
    "print(normal_batch.event_shape)\n"
   ]
  },
  {
   "cell_type": "code",
   "execution_count": 15,
   "metadata": {
    "collapsed": false,
    "execution": {
     "iopub.execute_input": "2020-08-27T06:50:44.798745Z",
     "iopub.status.busy": "2020-08-27T06:50:44.793332Z",
     "iopub.status.idle": "2020-08-27T06:50:44.801436Z",
     "shell.execute_reply": "2020-08-27T06:50:44.801868Z"
    },
    "pycharm": {
     "name": "#%%\n"
    }
   },
   "outputs": [
    {
     "data": {
      "text/plain": [
       "MultivariateNormal(loc: torch.Size([3, 2]), scale_tril: torch.Size([3, 2, 2]))"
      ]
     },
     "execution_count": 15,
     "metadata": {},
     "output_type": "execute_result"
    }
   ],
   "source": [
    "mvn_batch = MultivariateNormal(\n",
    "    loc=torch.Tensor([[0, 1],[1, 2],[2, 3]]),\n",
    "    scale_tril=torch.cholesky(torch.Tensor([[1., .2], [.2, .5]])))\n",
    "mvn_batch"
   ]
  },
  {
   "cell_type": "code",
   "execution_count": 16,
   "metadata": {
    "collapsed": false,
    "execution": {
     "iopub.execute_input": "2020-08-27T06:50:44.806786Z",
     "iopub.status.busy": "2020-08-27T06:50:44.805951Z",
     "iopub.status.idle": "2020-08-27T06:50:44.812637Z",
     "shell.execute_reply": "2020-08-27T06:50:44.813168Z"
    },
    "pycharm": {
     "name": "#%%\n"
    }
   },
   "outputs": [
    {
     "name": "stdout",
     "output_type": "stream",
     "text": [
      "random sample with sample_shape ():\n",
      " tensor([[-0.6048,  0.4761],\n",
      "        [ 1.2854,  1.3377],\n",
      "        [ 1.1139,  2.9619]]) \n",
      "\n",
      "random sample with sample_shape (3,):\n",
      " tensor([[[ 1.2273,  1.3594],\n",
      "         [-0.9842,  0.5286],\n",
      "         [ 2.5206,  1.9293]],\n",
      "\n",
      "        [[-0.2119,  1.0673],\n",
      "         [ 0.3231,  0.9239],\n",
      "         [ 2.5649,  2.4712]],\n",
      "\n",
      "        [[-0.0410,  2.0827],\n",
      "         [ 0.6460,  2.1593],\n",
      "         [ 1.8229,  3.0561]]]) \n",
      "\n",
      "random sample with sample_shape (2, 3):\n",
      " tensor([[[[-0.7271,  1.0198],\n",
      "          [ 2.3459,  1.4973],\n",
      "          [ 3.4194,  2.5100]],\n",
      "\n",
      "         [[-0.5421,  0.9143],\n",
      "          [ 1.3577,  1.9049],\n",
      "          [ 0.3631,  2.2086]],\n",
      "\n",
      "         [[-0.6288,  0.8936],\n",
      "          [ 0.7414,  1.9123],\n",
      "          [ 2.6031,  2.8700]]],\n",
      "\n",
      "\n",
      "        [[[-0.2162,  1.9304],\n",
      "          [ 1.1326,  2.1860],\n",
      "          [ 1.1356,  2.3910]],\n",
      "\n",
      "         [[ 0.3058,  0.9221],\n",
      "          [ 0.5956,  1.9632],\n",
      "          [ 2.7523,  2.8059]],\n",
      "\n",
      "         [[-1.2248, -0.3657],\n",
      "          [ 0.4758,  1.2733],\n",
      "          [ 1.3062,  3.1573]]]])\n"
     ]
    }
   ],
   "source": [
    "print(\"random sample with sample_shape ():\\n\",\n",
    "      mvn_batch.sample(), \"\\n\")\n",
    "print(\"random sample with sample_shape (3,):\\n\",\n",
    "      mvn_batch.sample(sample_shape=(3,)), \"\\n\")\n",
    "print(\"random sample with sample_shape (2, 3):\\n\",\n",
    "      mvn_batch.sample(sample_shape=(2, 3)))\n"
   ]
  },
  {
   "cell_type": "code",
   "execution_count": 17,
   "metadata": {
    "collapsed": false,
    "execution": {
     "iopub.execute_input": "2020-08-27T06:50:44.817487Z",
     "iopub.status.busy": "2020-08-27T06:50:44.816783Z",
     "iopub.status.idle": "2020-08-27T06:50:44.820414Z",
     "shell.execute_reply": "2020-08-27T06:50:44.820931Z"
    },
    "pycharm": {
     "name": "#%%\n"
    }
   },
   "outputs": [
    {
     "name": "stdout",
     "output_type": "stream",
     "text": [
      "normal model:\n",
      " Normal(loc: tensor([5.]), scale: tensor([2.])) \n",
      "\n"
     ]
    }
   ],
   "source": [
    "mu_true = torch.tensor([5.])\n",
    "sigma_true = torch.tensor([2.])\n",
    "normal_model_true = Normal(\n",
    "    loc=mu_true,\n",
    "    scale=sigma_true)\n",
    "print(\"normal model:\\n\", normal_model_true, \"\\n\")"
   ]
  },
  {
   "cell_type": "code",
   "execution_count": 18,
   "metadata": {
    "collapsed": false,
    "execution": {
     "iopub.execute_input": "2020-08-27T06:50:44.825020Z",
     "iopub.status.busy": "2020-08-27T06:50:44.824380Z",
     "iopub.status.idle": "2020-08-27T06:50:44.827783Z",
     "shell.execute_reply": "2020-08-27T06:50:44.828376Z"
    },
    "pycharm": {
     "name": "#%%\n"
    }
   },
   "outputs": [
    {
     "name": "stdout",
     "output_type": "stream",
     "text": [
      "negative likelihood value is tensor(2.1340)\n"
     ]
    }
   ],
   "source": [
    "sample_size = 1000\n",
    "x = normal_model_true.sample(sample_shape=(sample_size,))\n",
    "loss_value = -torch.mean(torch.sum(normal_model_true.log_prob(x), dim = 1))\n",
    "print(\"negative likelihood value is\", loss_value)\n"
   ]
  },
  {
   "cell_type": "code",
   "execution_count": 19,
   "metadata": {
    "collapsed": false,
    "execution": {
     "iopub.execute_input": "2020-08-27T06:50:44.834049Z",
     "iopub.status.busy": "2020-08-27T06:50:44.833409Z",
     "iopub.status.idle": "2020-08-27T06:50:44.924091Z",
     "shell.execute_reply": "2020-08-27T06:50:44.924492Z"
    },
    "pycharm": {
     "name": "#%%\n"
    }
   },
   "outputs": [],
   "source": [
    "epochs = 200\n",
    "lr = 1.0\n",
    "mu = torch.tensor([0.], requires_grad=True)\n",
    "sigma = torch.tensor([1.], requires_grad=True)\n",
    "optimizer = torch.optim.Adam([mu, sigma], lr=.5)\n",
    "for epoch in range(epochs):\n",
    "    normal_model = Normal(loc=mu, scale=sigma)\n",
    "    loss_value = -torch.mean(normal_model.log_prob(x))\n",
    "    optimizer.zero_grad()\n",
    "    loss_value.backward() # compute the gradient\n",
    "    optimizer.step()"
   ]
  },
  {
   "cell_type": "code",
   "execution_count": 20,
   "metadata": {
    "collapsed": false,
    "execution": {
     "iopub.execute_input": "2020-08-27T06:50:44.928841Z",
     "iopub.status.busy": "2020-08-27T06:50:44.927919Z",
     "iopub.status.idle": "2020-08-27T06:50:44.932060Z",
     "shell.execute_reply": "2020-08-27T06:50:44.932463Z"
    },
    "pycharm": {
     "name": "#%%\n"
    }
   },
   "outputs": [
    {
     "name": "stdout",
     "output_type": "stream",
     "text": [
      "ML mean by gradient descent: tensor([5.0764], requires_grad=True)\n",
      "ML std by gradient descent: tensor([2.0438], requires_grad=True)\n"
     ]
    }
   ],
   "source": [
    "print(\"ML mean by gradient descent:\", mu)\n",
    "print(\"ML std by gradient descent:\", sigma)"
   ]
  },
  {
   "cell_type": "code",
   "execution_count": 21,
   "metadata": {
    "collapsed": false,
    "execution": {
     "iopub.execute_input": "2020-08-27T06:50:44.936547Z",
     "iopub.status.busy": "2020-08-27T06:50:44.935731Z",
     "iopub.status.idle": "2020-08-27T06:50:44.940040Z",
     "shell.execute_reply": "2020-08-27T06:50:44.940442Z"
    },
    "pycharm": {
     "name": "#%%\n"
    }
   },
   "outputs": [
    {
     "name": "stdout",
     "output_type": "stream",
     "text": [
      "ML mean by formula: tensor(5.0764)\n",
      "ML std by formula: tensor(2.0420)\n"
     ]
    }
   ],
   "source": [
    "print(\"ML mean by formula:\", torch.mean(x))\n",
    "print(\"ML std by formula:\", torch.std(x, unbiased=False))"
   ]
  },
  {
   "cell_type": "code",
   "execution_count": 22,
   "metadata": {
    "collapsed": false,
    "execution": {
     "iopub.execute_input": "2020-08-27T06:50:44.945298Z",
     "iopub.status.busy": "2020-08-27T06:50:44.944531Z",
     "iopub.status.idle": "2020-08-27T06:50:44.949194Z",
     "shell.execute_reply": "2020-08-27T06:50:44.948686Z"
    },
    "pycharm": {
     "name": "#%%\n"
    }
   },
   "outputs": [
    {
     "name": "stdout",
     "output_type": "stream",
     "text": [
      "true mean vector: \n",
      " tensor([-1.,  0.,  1.])\n",
      "true covariance matrix: \n",
      " tensor([[9.0000, 6.0000, 1.2000],\n",
      "        [6.0000, 5.0000, 1.3000],\n",
      "        [1.2000, 1.3000, 0.6600]])\n"
     ]
    }
   ],
   "source": [
    "mu_true = torch.tensor([-1., 0., 1.])\n",
    "sigma_tril_true = torch.tensor([[3., 0., 0.], [2., 1., 0.], [.4, .5, .5]])\n",
    "mvn_model_true = MultivariateNormal(\n",
    "    loc=mu_true,\n",
    "    scale_tril=sigma_tril_true)\n",
    "print(\"true mean vector: \\n\", mvn_model_true.mean)\n",
    "print(\"true covariance matrix: \\n\", mvn_model_true.covariance_matrix)"
   ]
  },
  {
   "cell_type": "code",
   "execution_count": 23,
   "metadata": {
    "collapsed": false,
    "execution": {
     "iopub.execute_input": "2020-08-27T06:50:44.953761Z",
     "iopub.status.busy": "2020-08-27T06:50:44.952888Z",
     "iopub.status.idle": "2020-08-27T06:50:44.957344Z",
     "shell.execute_reply": "2020-08-27T06:50:44.957836Z"
    },
    "pycharm": {
     "name": "#%%\n"
    }
   },
   "outputs": [
    {
     "name": "stdout",
     "output_type": "stream",
     "text": [
      "negative likelihood value is tensor(4.6755)\n"
     ]
    }
   ],
   "source": [
    "sample_size = 1000\n",
    "x = mvn_model_true.sample(sample_shape=(sample_size,))\n",
    "loss_value = -torch.mean(mvn_model_true.log_prob(x))\n",
    "print(\"negative likelihood value is\", loss_value)\n"
   ]
  },
  {
   "cell_type": "code",
   "execution_count": 24,
   "metadata": {
    "collapsed": false,
    "execution": {
     "iopub.execute_input": "2020-08-27T06:50:44.963613Z",
     "iopub.status.busy": "2020-08-27T06:50:44.962771Z",
     "iopub.status.idle": "2020-08-27T06:50:45.375817Z",
     "shell.execute_reply": "2020-08-27T06:50:45.376378Z"
    },
    "pycharm": {
     "name": "#%%\n"
    }
   },
   "outputs": [],
   "source": [
    "epochs = 500\n",
    "lr = .1\n",
    "mu = torch.tensor(\n",
    "    [0., 0., 0.], requires_grad=True)\n",
    "sigma_tril = torch.tensor(\n",
    "    [[1., 0., 0.], [0., 1., 0.], [0., 0., 1.]],\n",
    "    requires_grad=True)\n",
    "optimizer = torch.optim.Adam([mu, sigma_tril], lr=lr)\n",
    "\n",
    "for epoch in range(epochs):\n",
    "    mvn_model = MultivariateNormal(\n",
    "    loc=mu,\n",
    "    scale_tril=sigma_tril)\n",
    "    loss_value = -torch.mean(mvn_model.log_prob(x))\n",
    "    optimizer.zero_grad()\n",
    "    loss_value.backward() # compute the gradient\n",
    "    optimizer.step()"
   ]
  },
  {
   "cell_type": "code",
   "execution_count": 25,
   "metadata": {
    "collapsed": false,
    "execution": {
     "iopub.execute_input": "2020-08-27T06:50:45.380376Z",
     "iopub.status.busy": "2020-08-27T06:50:45.379605Z",
     "iopub.status.idle": "2020-08-27T06:50:45.383816Z",
     "shell.execute_reply": "2020-08-27T06:50:45.384293Z"
    },
    "pycharm": {
     "name": "#%%\n"
    }
   },
   "outputs": [
    {
     "name": "stdout",
     "output_type": "stream",
     "text": [
      "ML mean by gradient descent: \n",
      " tensor([-0.8203,  0.1242,  1.0335], requires_grad=True)\n",
      "ML covariance by gradient descent: \n",
      " tensor([[8.9358, 5.9664, 1.2385],\n",
      "        [5.9664, 4.9729, 1.3016],\n",
      "        [1.2385, 1.3016, 0.6590]], grad_fn=<MmBackward>)\n"
     ]
    }
   ],
   "source": [
    "print(\"ML mean by gradient descent: \\n\",\n",
    "      mu)\n",
    "print(\"ML covariance by gradient descent: \\n\",\n",
    "      sigma_tril @ torch.transpose(sigma_tril, 0, 1))"
   ]
  },
  {
   "cell_type": "code",
   "execution_count": 26,
   "metadata": {
    "collapsed": false,
    "execution": {
     "iopub.execute_input": "2020-08-27T06:50:45.388533Z",
     "iopub.status.busy": "2020-08-27T06:50:45.387794Z",
     "iopub.status.idle": "2020-08-27T06:50:45.392049Z",
     "shell.execute_reply": "2020-08-27T06:50:45.392527Z"
    },
    "pycharm": {
     "name": "#%%\n"
    }
   },
   "outputs": [
    {
     "name": "stdout",
     "output_type": "stream",
     "text": [
      "ML mean by formula: \n",
      " tensor([-0.8203,  0.1242,  1.0335])\n",
      "ML covariance by formula: \n",
      " tensor([[8.9358, 5.9664, 1.2385],\n",
      "        [5.9664, 4.9729, 1.3016],\n",
      "        [1.2385, 1.3016, 0.6590]])\n"
     ]
    }
   ],
   "source": [
    "sample_mean = torch.mean(x, dim = 0)\n",
    "sample_moment2 = (torch.transpose(x, 0, 1) @ x) / sample_size\n",
    "sample_cov = sample_moment2 - torch.ger(sample_mean, sample_mean)\n",
    "print(\"ML mean by formula: \\n\",\n",
    "      sample_mean)\n",
    "print(\"ML covariance by formula: \\n\",\n",
    "      sample_cov)"
   ]
  }
 ],
 "metadata": {
  "kernelspec": {
   "display_name": "Python 3",
   "language": "python",
   "name": "python3"
  },
  "language_info": {
   "codemirror_mode": {
    "name": "ipython",
    "version": 3
   },
   "file_extension": ".py",
   "mimetype": "text/x-python",
   "name": "python",
   "nbconvert_exporter": "python",
   "pygments_lexer": "ipython3",
   "version": "3.8.5"
  }
 },
 "nbformat": 4,
 "nbformat_minor": 0
}