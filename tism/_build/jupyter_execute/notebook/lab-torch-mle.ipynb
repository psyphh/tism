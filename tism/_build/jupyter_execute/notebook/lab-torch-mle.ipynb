{
 "cells": [
  {
   "cell_type": "markdown",
   "metadata": {
    "collapsed": false
   },
   "source": [
    "Lab: 最大概似估計\n",
    "================"
   ]
  },
  {
   "cell_type": "code",
   "execution_count": 1,
   "metadata": {
    "collapsed": true,
    "execution": {
     "iopub.execute_input": "2020-08-27T06:47:31.373850Z",
     "iopub.status.busy": "2020-08-27T06:47:31.373209Z",
     "iopub.status.idle": "2020-08-27T06:47:31.676972Z",
     "shell.execute_reply": "2020-08-27T06:47:31.677885Z"
    }
   },
   "outputs": [],
   "source": [
    "import torch"
   ]
  },
  {
   "cell_type": "code",
   "execution_count": 2,
   "metadata": {
    "collapsed": false,
    "execution": {
     "iopub.execute_input": "2020-08-27T06:47:31.682170Z",
     "iopub.status.busy": "2020-08-27T06:47:31.681479Z",
     "iopub.status.idle": "2020-08-27T06:47:31.684178Z",
     "shell.execute_reply": "2020-08-27T06:47:31.684618Z"
    },
    "pycharm": {
     "name": "#%%\n"
    }
   },
   "outputs": [],
   "source": [
    "from torch.distributions import Normal\n",
    "normal = Normal(loc=0., scale=1.)"
   ]
  },
  {
   "cell_type": "code",
   "execution_count": 3,
   "metadata": {
    "collapsed": false,
    "execution": {
     "iopub.execute_input": "2020-08-27T06:47:31.688770Z",
     "iopub.status.busy": "2020-08-27T06:47:31.688123Z",
     "iopub.status.idle": "2020-08-27T06:47:31.694383Z",
     "shell.execute_reply": "2020-08-27T06:47:31.694971Z"
    },
    "pycharm": {
     "name": "#%%\n"
    }
   },
   "outputs": [
    {
     "name": "stdout",
     "output_type": "stream",
     "text": [
      "random sample with shape ():\n",
      " tensor(-0.5375)\n",
      "random sample with shape (3,):\n",
      " tensor([ 0.6526,  0.7198, -0.1674])\n",
      "random sample with shape (2,3):\n",
      " tensor([[ 0.4500,  1.3059, -1.9399],\n",
      "        [-0.8112, -0.9248, -0.1910]])\n"
     ]
    }
   ],
   "source": [
    "print(\"random sample with shape ():\\n\",\n",
    "      normal.sample())\n",
    "print(\"random sample with shape (3,):\\n\",\n",
    "      normal.sample(sample_shape=(3,)))\n",
    "print(\"random sample with shape (2,3):\\n\",\n",
    "      normal.sample(sample_shape=(2, 3)))"
   ]
  },
  {
   "cell_type": "code",
   "execution_count": 4,
   "metadata": {
    "collapsed": false,
    "execution": {
     "iopub.execute_input": "2020-08-27T06:47:31.699627Z",
     "iopub.status.busy": "2020-08-27T06:47:31.698907Z",
     "iopub.status.idle": "2020-08-27T06:47:31.704903Z",
     "shell.execute_reply": "2020-08-27T06:47:31.705404Z"
    },
    "pycharm": {
     "name": "#%%\n"
    }
   },
   "outputs": [
    {
     "name": "stdout",
     "output_type": "stream",
     "text": [
      "cumulative probability given value with shape ():\n",
      " tensor(0.5000) \n",
      "\n",
      "cumulative probability given value with (3,):\n",
      " tensor([0.1587, 0.5000, 0.6915]) \n",
      "\n",
      "cumulative probability given value with (2,3):\n",
      " tensor([[0.1587, 0.5000, 0.6915],\n",
      "        [0.0228, 0.8413, 0.9987]])\n"
     ]
    }
   ],
   "source": [
    "print(\"cumulative probability given value with shape ():\\n\",\n",
    "      normal.cdf(value=0), \"\\n\")\n",
    "print(\"cumulative probability given value with (3,):\\n\",\n",
    "      normal.cdf(value=torch.Tensor([-1, 0, .5])), \"\\n\")\n",
    "print(\"cumulative probability given value with (2,3):\\n\",\n",
    "      normal.cdf(value=torch.Tensor([[-1, 0, .5], [-2, 1, 3]])))"
   ]
  },
  {
   "cell_type": "code",
   "execution_count": 5,
   "metadata": {
    "collapsed": false,
    "execution": {
     "iopub.execute_input": "2020-08-27T06:47:31.710805Z",
     "iopub.status.busy": "2020-08-27T06:47:31.710028Z",
     "iopub.status.idle": "2020-08-27T06:47:31.716303Z",
     "shell.execute_reply": "2020-08-27T06:47:31.716945Z"
    },
    "pycharm": {
     "name": "#%%\n"
    }
   },
   "outputs": [
    {
     "name": "stdout",
     "output_type": "stream",
     "text": [
      "cumulative probability given value with shape ():\n",
      " tensor(-0.9189) \n",
      "\n",
      "cumulative probability given value with (3,):\n",
      " tensor([-1.4189, -0.9189, -1.0439]) \n",
      "\n",
      "cumulative probability given value with (2,3):\n",
      " tensor([[-1.4189, -0.9189, -1.0439],\n",
      "        [-2.9189, -1.4189, -5.4189]])\n"
     ]
    }
   ],
   "source": [
    "print(\"cumulative probability given value with shape ():\\n\",\n",
    "      normal.log_prob(value=0), \"\\n\")\n",
    "print(\"cumulative probability given value with (3,):\\n\",\n",
    "      normal.log_prob(value=torch.Tensor([-1, 0, .5])), \"\\n\")\n",
    "print(\"cumulative probability given value with (2,3):\\n\",\n",
    "      normal.log_prob(value=torch.Tensor([[-1, 0, .5], [-2, 1, 3]])))"
   ]
  },
  {
   "cell_type": "code",
   "execution_count": 6,
   "metadata": {
    "collapsed": false,
    "execution": {
     "iopub.execute_input": "2020-08-27T06:47:31.721058Z",
     "iopub.status.busy": "2020-08-27T06:47:31.720273Z",
     "iopub.status.idle": "2020-08-27T06:47:31.723177Z",
     "shell.execute_reply": "2020-08-27T06:47:31.723616Z"
    },
    "pycharm": {
     "name": "#%%\n"
    }
   },
   "outputs": [
    {
     "name": "stdout",
     "output_type": "stream",
     "text": [
      "Normal(loc: 0.0, scale: 1.0)\n"
     ]
    }
   ],
   "source": [
    "print(normal)"
   ]
  },
  {
   "cell_type": "code",
   "execution_count": 7,
   "metadata": {
    "collapsed": false,
    "execution": {
     "iopub.execute_input": "2020-08-27T06:47:31.727113Z",
     "iopub.status.busy": "2020-08-27T06:47:31.726496Z",
     "iopub.status.idle": "2020-08-27T06:47:31.728756Z",
     "shell.execute_reply": "2020-08-27T06:47:31.729250Z"
    },
    "pycharm": {
     "name": "#%%\n"
    }
   },
   "outputs": [
    {
     "name": "stdout",
     "output_type": "stream",
     "text": [
      "torch.Size([])\n",
      "torch.Size([])\n"
     ]
    }
   ],
   "source": [
    "print(normal.batch_shape)\n",
    "print(normal.event_shape)"
   ]
  },
  {
   "cell_type": "code",
   "execution_count": 8,
   "metadata": {
    "collapsed": false,
    "execution": {
     "iopub.execute_input": "2020-08-27T06:47:31.733230Z",
     "iopub.status.busy": "2020-08-27T06:47:31.732539Z",
     "iopub.status.idle": "2020-08-27T06:47:31.734974Z",
     "shell.execute_reply": "2020-08-27T06:47:31.735609Z"
    },
    "pycharm": {
     "name": "#%%\n"
    }
   },
   "outputs": [
    {
     "name": "stdout",
     "output_type": "stream",
     "text": [
      "Normal(loc: torch.Size([2]), scale: torch.Size([2]))\n"
     ]
    }
   ],
   "source": [
    "normal_batch = Normal(loc=torch.Tensor([0., 1.]), scale=torch.Tensor([1., 1.5]))\n",
    "print(normal_batch)"
   ]
  },
  {
   "cell_type": "code",
   "execution_count": 9,
   "metadata": {
    "collapsed": false,
    "execution": {
     "iopub.execute_input": "2020-08-27T06:47:31.739938Z",
     "iopub.status.busy": "2020-08-27T06:47:31.739191Z",
     "iopub.status.idle": "2020-08-27T06:47:31.744780Z",
     "shell.execute_reply": "2020-08-27T06:47:31.745243Z"
    },
    "pycharm": {
     "name": "#%%\n"
    }
   },
   "outputs": [
    {
     "name": "stdout",
     "output_type": "stream",
     "text": [
      "random sample with sample_shape ():\n",
      " tensor([0.2959, 2.6718]) \n",
      "\n",
      "random sample with sample_shape (3,):\n",
      " tensor([[-1.6329, -0.4173],\n",
      "        [ 0.6373, -1.9564],\n",
      "        [-0.8026,  1.2737]]) \n",
      "\n",
      "random sample with sample_shape (2,3):\n",
      " tensor([[[ 0.7441, -1.5493],\n",
      "         [-0.2312,  1.6810],\n",
      "         [-0.3377, -0.9645]],\n",
      "\n",
      "        [[-0.3351,  0.3939],\n",
      "         [ 0.9689,  2.5815],\n",
      "         [-0.8018,  0.1117]]])\n"
     ]
    }
   ],
   "source": [
    "print(\"random sample with sample_shape ():\\n\",\n",
    "      normal_batch.sample(), \"\\n\")\n",
    "print(\"random sample with sample_shape (3,):\\n\",\n",
    "      normal_batch.sample(sample_shape=(3,)), \"\\n\")\n",
    "print(\"random sample with sample_shape (2,3):\\n\",\n",
    "      normal_batch.sample(sample_shape=(2,3)))\n"
   ]
  },
  {
   "cell_type": "code",
   "execution_count": 10,
   "metadata": {
    "collapsed": false,
    "execution": {
     "iopub.execute_input": "2020-08-27T06:47:31.749752Z",
     "iopub.status.busy": "2020-08-27T06:47:31.748989Z",
     "iopub.status.idle": "2020-08-27T06:47:31.754463Z",
     "shell.execute_reply": "2020-08-27T06:47:31.754901Z"
    },
    "pycharm": {
     "name": "#%%\n"
    }
   },
   "outputs": [
    {
     "name": "stdout",
     "output_type": "stream",
     "text": [
      "log-probability given value with shape ():\n",
      " tensor([-0.9189, -1.5466]) \n",
      "\n",
      "log-probability given value with shape (2,):\n",
      " tensor([-0.9189, -1.5466]) \n",
      "\n",
      "log-probability given value with shape (2,1):\n",
      " tensor([[-0.9189, -1.5466],\n",
      "        [-0.9189, -1.5466]])\n"
     ]
    }
   ],
   "source": [
    "print(\"log-probability given value with shape ():\\n\",\n",
    "      normal_batch.log_prob(0), \"\\n\")\n",
    "print(\"log-probability given value with shape (2,):\\n\",\n",
    "      normal_batch.log_prob(torch.Tensor([0, 0])), \"\\n\")\n",
    "print(\"log-probability given value with shape (2,1):\\n\",\n",
    "      normal_batch.log_prob(torch.Tensor([[0], [0]])))"
   ]
  },
  {
   "cell_type": "code",
   "execution_count": 11,
   "metadata": {
    "collapsed": false,
    "execution": {
     "iopub.execute_input": "2020-08-27T06:47:31.759121Z",
     "iopub.status.busy": "2020-08-27T06:47:31.758284Z",
     "iopub.status.idle": "2020-08-27T06:47:31.761262Z",
     "shell.execute_reply": "2020-08-27T06:47:31.761767Z"
    },
    "pycharm": {
     "name": "#%%\n"
    }
   },
   "outputs": [
    {
     "name": "stdout",
     "output_type": "stream",
     "text": [
      "MultivariateNormal(loc: torch.Size([2]), scale_tril: torch.Size([2, 2]))\n"
     ]
    }
   ],
   "source": [
    "from torch.distributions import MultivariateNormal\n",
    "mvn = MultivariateNormal(\n",
    "    loc=torch.Tensor([0, 1]),\n",
    "    scale_tril=torch.cholesky(torch.Tensor([[1., 0.], [0., .5]])))\n",
    "print(mvn)\n"
   ]
  },
  {
   "cell_type": "code",
   "execution_count": 12,
   "metadata": {
    "collapsed": false,
    "execution": {
     "iopub.execute_input": "2020-08-27T06:47:31.765903Z",
     "iopub.status.busy": "2020-08-27T06:47:31.765264Z",
     "iopub.status.idle": "2020-08-27T06:47:31.774656Z",
     "shell.execute_reply": "2020-08-27T06:47:31.774184Z"
    },
    "pycharm": {
     "name": "#%%\n"
    }
   },
   "outputs": [
    {
     "name": "stdout",
     "output_type": "stream",
     "text": [
      "random sample with sample_shape ():\n",
      " tensor([ 0.0095, -0.3466]) \n",
      "\n",
      "random sample with sample_shape (3,):\n",
      " tensor([[0.5276, 0.9779],\n",
      "        [0.8853, 1.4603],\n",
      "        [0.4926, 2.0687]]) \n",
      "\n",
      "random sample with sample_shape (2, 3):\n",
      " tensor([[[-1.3499,  1.6449],\n",
      "         [ 0.1050, -0.4897],\n",
      "         [ 0.0898,  0.6144]],\n",
      "\n",
      "        [[-0.7772,  1.8796],\n",
      "         [-0.9441,  1.8775],\n",
      "         [-0.4178,  1.2061]]])\n"
     ]
    }
   ],
   "source": [
    "print(\"random sample with sample_shape ():\\n\",\n",
    "      mvn.sample(), \"\\n\")\n",
    "print(\"random sample with sample_shape (3,):\\n\",\n",
    "      mvn.sample(sample_shape=(3,)), \"\\n\")\n",
    "print(\"random sample with sample_shape (2, 3):\\n\",\n",
    "      mvn.sample(sample_shape=(2, 3)))"
   ]
  },
  {
   "cell_type": "code",
   "execution_count": 13,
   "metadata": {
    "collapsed": false,
    "execution": {
     "iopub.execute_input": "2020-08-27T06:47:31.779014Z",
     "iopub.status.busy": "2020-08-27T06:47:31.778249Z",
     "iopub.status.idle": "2020-08-27T06:47:31.783448Z",
     "shell.execute_reply": "2020-08-27T06:47:31.783884Z"
    },
    "pycharm": {
     "name": "#%%\n"
    }
   },
   "outputs": [
    {
     "name": "stdout",
     "output_type": "stream",
     "text": [
      "log-probability given value with shape (2,):\n",
      " tensor(-2.4913) \n",
      "\n",
      "log-probability given value with shape (2,1):\n",
      " tensor([-2.4913, -2.4913])\n"
     ]
    }
   ],
   "source": [
    "print(\"log-probability given value with shape (2,):\\n\",\n",
    "      mvn.log_prob(torch.Tensor([0, 0])), \"\\n\")\n",
    "print(\"log-probability given value with shape (2,1):\\n\",\n",
    "      mvn.log_prob(torch.Tensor([[0, 0], [0, 0]])))"
   ]
  },
  {
   "cell_type": "code",
   "execution_count": 14,
   "metadata": {
    "collapsed": false,
    "execution": {
     "iopub.execute_input": "2020-08-27T06:47:31.787941Z",
     "iopub.status.busy": "2020-08-27T06:47:31.787176Z",
     "iopub.status.idle": "2020-08-27T06:47:31.790033Z",
     "shell.execute_reply": "2020-08-27T06:47:31.790468Z"
    },
    "pycharm": {
     "name": "#%%\n"
    }
   },
   "outputs": [
    {
     "name": "stdout",
     "output_type": "stream",
     "text": [
      "torch.Size([])\n",
      "torch.Size([2])\n"
     ]
    }
   ],
   "source": [
    "from torch.distributions import Independent\n",
    "normal_batch = Independent(normal_batch, reinterpreted_batch_ndims=1)\n",
    "print(normal_batch.batch_shape)\n",
    "print(normal_batch.event_shape)\n"
   ]
  },
  {
   "cell_type": "code",
   "execution_count": 15,
   "metadata": {
    "collapsed": false,
    "execution": {
     "iopub.execute_input": "2020-08-27T06:47:31.801192Z",
     "iopub.status.busy": "2020-08-27T06:47:31.792905Z",
     "iopub.status.idle": "2020-08-27T06:47:31.804163Z",
     "shell.execute_reply": "2020-08-27T06:47:31.804766Z"
    },
    "pycharm": {
     "name": "#%%\n"
    }
   },
   "outputs": [
    {
     "data": {
      "text/plain": [
       "MultivariateNormal(loc: torch.Size([3, 2]), scale_tril: torch.Size([3, 2, 2]))"
      ]
     },
     "execution_count": 15,
     "metadata": {},
     "output_type": "execute_result"
    }
   ],
   "source": [
    "mvn_batch = MultivariateNormal(\n",
    "    loc=torch.Tensor([[0, 1],[1, 2],[2, 3]]),\n",
    "    scale_tril=torch.cholesky(torch.Tensor([[1., .2], [.2, .5]])))\n",
    "mvn_batch"
   ]
  },
  {
   "cell_type": "code",
   "execution_count": 16,
   "metadata": {
    "collapsed": false,
    "execution": {
     "iopub.execute_input": "2020-08-27T06:47:31.808937Z",
     "iopub.status.busy": "2020-08-27T06:47:31.808236Z",
     "iopub.status.idle": "2020-08-27T06:47:31.814967Z",
     "shell.execute_reply": "2020-08-27T06:47:31.815567Z"
    },
    "pycharm": {
     "name": "#%%\n"
    }
   },
   "outputs": [
    {
     "name": "stdout",
     "output_type": "stream",
     "text": [
      "random sample with sample_shape ():\n",
      " tensor([[-1.1759,  0.7234],\n",
      "        [ 2.2967,  2.6732],\n",
      "        [ 2.4495,  3.2737]]) \n",
      "\n",
      "random sample with sample_shape (3,):\n",
      " tensor([[[0.9133, 1.2102],\n",
      "         [0.9494, 1.6224],\n",
      "         [1.4728, 3.7220]],\n",
      "\n",
      "        [[0.5411, 0.7077],\n",
      "         [0.8437, 2.5496],\n",
      "         [2.4281, 2.4536]],\n",
      "\n",
      "        [[0.0987, 0.6569],\n",
      "         [0.3479, 1.8064],\n",
      "         [3.7747, 2.6648]]]) \n",
      "\n",
      "random sample with sample_shape (2, 3):\n",
      " tensor([[[[-0.0631,  0.3916],\n",
      "          [ 1.4256,  2.4096],\n",
      "          [ 0.1691,  1.6225]],\n",
      "\n",
      "         [[-1.9803,  1.8888],\n",
      "          [ 1.2507,  1.1156],\n",
      "          [ 3.0533,  2.8131]],\n",
      "\n",
      "         [[-0.8355,  0.5726],\n",
      "          [ 1.8916,  1.9377],\n",
      "          [ 2.2285,  3.7143]]],\n",
      "\n",
      "\n",
      "        [[[ 0.0131, -0.0956],\n",
      "          [ 1.0848,  2.0932],\n",
      "          [ 2.1682,  2.4639]],\n",
      "\n",
      "         [[-0.5357, -0.7628],\n",
      "          [ 1.2012,  2.5486],\n",
      "          [ 2.7595,  2.9068]],\n",
      "\n",
      "         [[-0.3642, -0.0413],\n",
      "          [ 0.7936,  1.7178],\n",
      "          [ 0.8948,  2.9918]]]])\n"
     ]
    }
   ],
   "source": [
    "print(\"random sample with sample_shape ():\\n\",\n",
    "      mvn_batch.sample(), \"\\n\")\n",
    "print(\"random sample with sample_shape (3,):\\n\",\n",
    "      mvn_batch.sample(sample_shape=(3,)), \"\\n\")\n",
    "print(\"random sample with sample_shape (2, 3):\\n\",\n",
    "      mvn_batch.sample(sample_shape=(2, 3)))\n"
   ]
  },
  {
   "cell_type": "code",
   "execution_count": 17,
   "metadata": {
    "collapsed": false,
    "execution": {
     "iopub.execute_input": "2020-08-27T06:47:31.819971Z",
     "iopub.status.busy": "2020-08-27T06:47:31.819181Z",
     "iopub.status.idle": "2020-08-27T06:47:31.823467Z",
     "shell.execute_reply": "2020-08-27T06:47:31.824113Z"
    },
    "pycharm": {
     "name": "#%%\n"
    }
   },
   "outputs": [
    {
     "name": "stdout",
     "output_type": "stream",
     "text": [
      "normal model:\n",
      " Normal(loc: tensor([5.]), scale: tensor([2.])) \n",
      "\n"
     ]
    }
   ],
   "source": [
    "mu_true = torch.tensor([5.])\n",
    "sigma_true = torch.tensor([2.])\n",
    "normal_model_true = Normal(\n",
    "    loc=mu_true,\n",
    "    scale=sigma_true)\n",
    "print(\"normal model:\\n\", normal_model_true, \"\\n\")"
   ]
  },
  {
   "cell_type": "code",
   "execution_count": 18,
   "metadata": {
    "collapsed": false,
    "execution": {
     "iopub.execute_input": "2020-08-27T06:47:31.828411Z",
     "iopub.status.busy": "2020-08-27T06:47:31.827708Z",
     "iopub.status.idle": "2020-08-27T06:47:31.831650Z",
     "shell.execute_reply": "2020-08-27T06:47:31.832315Z"
    },
    "pycharm": {
     "name": "#%%\n"
    }
   },
   "outputs": [
    {
     "name": "stdout",
     "output_type": "stream",
     "text": [
      "negative likelihood value is tensor(2.1362)\n"
     ]
    }
   ],
   "source": [
    "sample_size = 1000\n",
    "x = normal_model_true.sample(sample_shape=(sample_size,))\n",
    "loss_value = -torch.mean(torch.sum(normal_model_true.log_prob(x), dim = 1))\n",
    "print(\"negative likelihood value is\", loss_value)\n"
   ]
  },
  {
   "cell_type": "code",
   "execution_count": 19,
   "metadata": {
    "collapsed": false,
    "execution": {
     "iopub.execute_input": "2020-08-27T06:47:31.838387Z",
     "iopub.status.busy": "2020-08-27T06:47:31.837538Z",
     "iopub.status.idle": "2020-08-27T06:47:31.926219Z",
     "shell.execute_reply": "2020-08-27T06:47:31.926655Z"
    },
    "pycharm": {
     "name": "#%%\n"
    }
   },
   "outputs": [],
   "source": [
    "epochs = 200\n",
    "lr = 1.0\n",
    "mu = torch.tensor([0.], requires_grad=True)\n",
    "sigma = torch.tensor([1.], requires_grad=True)\n",
    "optimizer = torch.optim.Adam([mu, sigma], lr=.5)\n",
    "for epoch in range(epochs):\n",
    "    normal_model = Normal(loc=mu, scale=sigma)\n",
    "    loss_value = -torch.mean(normal_model.log_prob(x))\n",
    "    optimizer.zero_grad()\n",
    "    loss_value.backward() # compute the gradient\n",
    "    optimizer.step()"
   ]
  },
  {
   "cell_type": "code",
   "execution_count": 20,
   "metadata": {
    "collapsed": false,
    "execution": {
     "iopub.execute_input": "2020-08-27T06:47:31.930406Z",
     "iopub.status.busy": "2020-08-27T06:47:31.929623Z",
     "iopub.status.idle": "2020-08-27T06:47:31.933825Z",
     "shell.execute_reply": "2020-08-27T06:47:31.934270Z"
    },
    "pycharm": {
     "name": "#%%\n"
    }
   },
   "outputs": [
    {
     "name": "stdout",
     "output_type": "stream",
     "text": [
      "ML mean by gradient descent: tensor([5.1666], requires_grad=True)\n",
      "ML std by gradient descent: tensor([2.0451], requires_grad=True)\n"
     ]
    }
   ],
   "source": [
    "print(\"ML mean by gradient descent:\", mu)\n",
    "print(\"ML std by gradient descent:\", sigma)"
   ]
  },
  {
   "cell_type": "code",
   "execution_count": 21,
   "metadata": {
    "collapsed": false,
    "execution": {
     "iopub.execute_input": "2020-08-27T06:47:31.938056Z",
     "iopub.status.busy": "2020-08-27T06:47:31.937288Z",
     "iopub.status.idle": "2020-08-27T06:47:31.941556Z",
     "shell.execute_reply": "2020-08-27T06:47:31.942004Z"
    },
    "pycharm": {
     "name": "#%%\n"
    }
   },
   "outputs": [
    {
     "name": "stdout",
     "output_type": "stream",
     "text": [
      "ML mean by formula: tensor(5.1667)\n",
      "ML std by formula: tensor(2.0409)\n"
     ]
    }
   ],
   "source": [
    "print(\"ML mean by formula:\", torch.mean(x))\n",
    "print(\"ML std by formula:\", torch.std(x, unbiased=False))"
   ]
  },
  {
   "cell_type": "code",
   "execution_count": 22,
   "metadata": {
    "collapsed": false,
    "execution": {
     "iopub.execute_input": "2020-08-27T06:47:31.947035Z",
     "iopub.status.busy": "2020-08-27T06:47:31.946304Z",
     "iopub.status.idle": "2020-08-27T06:47:31.950420Z",
     "shell.execute_reply": "2020-08-27T06:47:31.951049Z"
    },
    "pycharm": {
     "name": "#%%\n"
    }
   },
   "outputs": [
    {
     "name": "stdout",
     "output_type": "stream",
     "text": [
      "true mean vector: \n",
      " tensor([-1.,  0.,  1.])\n",
      "true covariance matrix: \n",
      " tensor([[9.0000, 6.0000, 1.2000],\n",
      "        [6.0000, 5.0000, 1.3000],\n",
      "        [1.2000, 1.3000, 0.6600]])\n"
     ]
    }
   ],
   "source": [
    "mu_true = torch.tensor([-1., 0., 1.])\n",
    "sigma_tril_true = torch.tensor([[3., 0., 0.], [2., 1., 0.], [.4, .5, .5]])\n",
    "mvn_model_true = MultivariateNormal(\n",
    "    loc=mu_true,\n",
    "    scale_tril=sigma_tril_true)\n",
    "print(\"true mean vector: \\n\", mvn_model_true.mean)\n",
    "print(\"true covariance matrix: \\n\", mvn_model_true.covariance_matrix)"
   ]
  },
  {
   "cell_type": "code",
   "execution_count": 23,
   "metadata": {
    "collapsed": false,
    "execution": {
     "iopub.execute_input": "2020-08-27T06:47:31.955105Z",
     "iopub.status.busy": "2020-08-27T06:47:31.954338Z",
     "iopub.status.idle": "2020-08-27T06:47:31.958959Z",
     "shell.execute_reply": "2020-08-27T06:47:31.959544Z"
    },
    "pycharm": {
     "name": "#%%\n"
    }
   },
   "outputs": [
    {
     "name": "stdout",
     "output_type": "stream",
     "text": [
      "negative likelihood value is tensor(4.6904)\n"
     ]
    }
   ],
   "source": [
    "sample_size = 1000\n",
    "x = mvn_model_true.sample(sample_shape=(sample_size,))\n",
    "loss_value = -torch.mean(mvn_model_true.log_prob(x))\n",
    "print(\"negative likelihood value is\", loss_value)\n"
   ]
  },
  {
   "cell_type": "code",
   "execution_count": 24,
   "metadata": {
    "collapsed": false,
    "execution": {
     "iopub.execute_input": "2020-08-27T06:47:31.966641Z",
     "iopub.status.busy": "2020-08-27T06:47:31.965883Z",
     "iopub.status.idle": "2020-08-27T06:47:32.383092Z",
     "shell.execute_reply": "2020-08-27T06:47:32.383594Z"
    },
    "pycharm": {
     "name": "#%%\n"
    }
   },
   "outputs": [],
   "source": [
    "epochs = 500\n",
    "lr = .1\n",
    "mu = torch.tensor(\n",
    "    [0., 0., 0.], requires_grad=True)\n",
    "sigma_tril = torch.tensor(\n",
    "    [[1., 0., 0.], [0., 1., 0.], [0., 0., 1.]],\n",
    "    requires_grad=True)\n",
    "optimizer = torch.optim.Adam([mu, sigma_tril], lr=lr)\n",
    "\n",
    "for epoch in range(epochs):\n",
    "    mvn_model = MultivariateNormal(\n",
    "    loc=mu,\n",
    "    scale_tril=sigma_tril)\n",
    "    loss_value = -torch.mean(mvn_model.log_prob(x))\n",
    "    optimizer.zero_grad()\n",
    "    loss_value.backward() # compute the gradient\n",
    "    optimizer.step()"
   ]
  },
  {
   "cell_type": "code",
   "execution_count": 25,
   "metadata": {
    "collapsed": false,
    "execution": {
     "iopub.execute_input": "2020-08-27T06:47:32.387412Z",
     "iopub.status.busy": "2020-08-27T06:47:32.386699Z",
     "iopub.status.idle": "2020-08-27T06:47:32.390942Z",
     "shell.execute_reply": "2020-08-27T06:47:32.391453Z"
    },
    "pycharm": {
     "name": "#%%\n"
    }
   },
   "outputs": [
    {
     "name": "stdout",
     "output_type": "stream",
     "text": [
      "ML mean by gradient descent: \n",
      " tensor([-0.9021,  0.0480,  0.9758], requires_grad=True)\n",
      "ML covariance by gradient descent: \n",
      " tensor([[9.2005, 6.3344, 1.2912],\n",
      "        [6.3344, 5.3537, 1.3816],\n",
      "        [1.2912, 1.3816, 0.6837]], grad_fn=<MmBackward>)\n"
     ]
    }
   ],
   "source": [
    "print(\"ML mean by gradient descent: \\n\",\n",
    "      mu)\n",
    "print(\"ML covariance by gradient descent: \\n\",\n",
    "      sigma_tril @ torch.transpose(sigma_tril, 0, 1))"
   ]
  },
  {
   "cell_type": "code",
   "execution_count": 26,
   "metadata": {
    "collapsed": false,
    "execution": {
     "iopub.execute_input": "2020-08-27T06:47:32.395747Z",
     "iopub.status.busy": "2020-08-27T06:47:32.395046Z",
     "iopub.status.idle": "2020-08-27T06:47:32.399180Z",
     "shell.execute_reply": "2020-08-27T06:47:32.399622Z"
    },
    "pycharm": {
     "name": "#%%\n"
    }
   },
   "outputs": [
    {
     "name": "stdout",
     "output_type": "stream",
     "text": [
      "ML mean by formula: \n",
      " tensor([-0.9021,  0.0480,  0.9758])\n",
      "ML covariance by formula: \n",
      " tensor([[9.2005, 6.3344, 1.2912],\n",
      "        [6.3344, 5.3537, 1.3816],\n",
      "        [1.2912, 1.3816, 0.6837]])\n"
     ]
    }
   ],
   "source": [
    "sample_mean = torch.mean(x, dim = 0)\n",
    "sample_moment2 = (torch.transpose(x, 0, 1) @ x) / sample_size\n",
    "sample_cov = sample_moment2 - torch.ger(sample_mean, sample_mean)\n",
    "print(\"ML mean by formula: \\n\",\n",
    "      sample_mean)\n",
    "print(\"ML covariance by formula: \\n\",\n",
    "      sample_cov)"
   ]
  }
 ],
 "metadata": {
  "kernelspec": {
   "display_name": "Python 3",
   "language": "python",
   "name": "python3"
  },
  "language_info": {
   "codemirror_mode": {
    "name": "ipython",
    "version": 3
   },
   "file_extension": ".py",
   "mimetype": "text/x-python",
   "name": "python",
   "nbconvert_exporter": "python",
   "pygments_lexer": "ipython3",
   "version": "3.8.5"
  }
 },
 "nbformat": 4,
 "nbformat_minor": 0
}