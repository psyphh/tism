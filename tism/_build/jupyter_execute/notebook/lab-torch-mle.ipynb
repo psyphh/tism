{
 "cells": [
  {
   "cell_type": "markdown",
   "metadata": {
    "collapsed": false
   },
   "source": [
    "Lab: 最大概似估計\n",
    "================"
   ]
  },
  {
   "cell_type": "code",
   "execution_count": 1,
   "metadata": {
    "collapsed": false,
    "execution": {
     "iopub.execute_input": "2020-12-22T07:13:57.289766Z",
     "iopub.status.busy": "2020-12-22T07:13:57.288776Z",
     "iopub.status.idle": "2020-12-22T07:13:57.654886Z",
     "shell.execute_reply": "2020-12-22T07:13:57.655487Z"
    },
    "pycharm": {
     "name": "#%%\n"
    }
   },
   "outputs": [],
   "source": [
    "import torch"
   ]
  },
  {
   "cell_type": "markdown",
   "metadata": {
    "collapsed": false
   },
   "source": [
    "## `torch` 分配物件\n",
    "\n",
    "### 分配物件之基礎\n",
    "`torch.distribution` 內建了許多機率分配物件（見[官方網頁](https://pytorch.org/docs/stable/distributions.html)），而分配物件可供使用者\n",
    "\n",
    "1. 產生隨機樣本。\n",
    "2. 給定實現值計算可能性或機率值。\n",
    "2. 給定上界計算累積機率值（並非每個分配都可以）。\n",
    "\n",
    "在產生一分配物件時，我們需給定該分配的參數。以常態分配為例，其參數包括了平均數與變異數，此兩參數亦稱作位置（location）參數與尺度（scale）參數"
   ]
  },
  {
   "cell_type": "code",
   "execution_count": 2,
   "metadata": {
    "collapsed": false,
    "execution": {
     "iopub.execute_input": "2020-12-22T07:13:57.660608Z",
     "iopub.status.busy": "2020-12-22T07:13:57.659774Z",
     "iopub.status.idle": "2020-12-22T07:13:57.662871Z",
     "shell.execute_reply": "2020-12-22T07:13:57.663265Z"
    },
    "pycharm": {
     "name": "#%%\n"
    }
   },
   "outputs": [],
   "source": [
    "from torch.distributions import Normal\n",
    "normal = Normal(loc=0., scale=1.)"
   ]
  },
  {
   "cell_type": "markdown",
   "metadata": {
    "collapsed": false
   },
   "source": [
    "再以Binomial分配為例，其參數為嘗試次數與成功之機率（也可以使用對數勝率來設定）"
   ]
  },
  {
   "cell_type": "code",
   "execution_count": 3,
   "metadata": {
    "collapsed": false,
    "execution": {
     "iopub.execute_input": "2020-12-22T07:13:57.667368Z",
     "iopub.status.busy": "2020-12-22T07:13:57.666598Z",
     "iopub.status.idle": "2020-12-22T07:13:57.669623Z",
     "shell.execute_reply": "2020-12-22T07:13:57.670217Z"
    },
    "pycharm": {
     "name": "#%%\n"
    }
   },
   "outputs": [],
   "source": [
    "from torch.distributions import Binomial\n",
    "binomial = Binomial(total_count = 10, probs = 0.5)"
   ]
  },
  {
   "cell_type": "markdown",
   "metadata": {
    "collapsed": false
   },
   "source": [
    "我們可以透過對分配物件的列印，以了解其內部之參數設定："
   ]
  },
  {
   "cell_type": "code",
   "execution_count": 4,
   "metadata": {
    "collapsed": false,
    "execution": {
     "iopub.execute_input": "2020-12-22T07:13:57.674208Z",
     "iopub.status.busy": "2020-12-22T07:13:57.673388Z",
     "iopub.status.idle": "2020-12-22T07:13:57.676939Z",
     "shell.execute_reply": "2020-12-22T07:13:57.677460Z"
    },
    "pycharm": {
     "name": "#%%\n"
    }
   },
   "outputs": [
    {
     "name": "stdout",
     "output_type": "stream",
     "text": [
      "Normal(loc: 0.0, scale: 1.0)\n",
      "Binomial(total_count: 10.0, probs: 0.5, logits: 0.0)\n"
     ]
    }
   ],
   "source": [
    "print(normal)\n",
    "print(binomial)"
   ]
  },
  {
   "cell_type": "markdown",
   "metadata": {
    "collapsed": false
   },
   "source": [
    "對於已建立之分配物件，我們可以利用其`.sample()`方法來產生隨機變數"
   ]
  },
  {
   "cell_type": "code",
   "execution_count": 5,
   "metadata": {
    "collapsed": false,
    "execution": {
     "iopub.execute_input": "2020-12-22T07:13:57.681661Z",
     "iopub.status.busy": "2020-12-22T07:13:57.680914Z",
     "iopub.status.idle": "2020-12-22T07:13:57.686694Z",
     "shell.execute_reply": "2020-12-22T07:13:57.687224Z"
    },
    "pycharm": {
     "name": "#%%\n"
    }
   },
   "outputs": [
    {
     "name": "stdout",
     "output_type": "stream",
     "text": [
      "random sample with shape ():\n",
      " tensor(0.7150)\n",
      "random sample with shape (3,):\n",
      " tensor([ 0.5155,  1.0470, -1.1023])\n",
      "random sample with shape (2,3):\n",
      " tensor([[-0.7428,  0.1364,  0.4453],\n",
      "        [-0.5164, -2.0141,  0.5330]])\n"
     ]
    }
   ],
   "source": [
    "print(\"random sample with shape ():\\n\",\n",
    "      normal.sample())\n",
    "print(\"random sample with shape (3,):\\n\",\n",
    "      normal.sample(sample_shape=(3,)))\n",
    "print(\"random sample with shape (2,3):\\n\",\n",
    "      normal.sample(sample_shape=(2, 3)))"
   ]
  },
  {
   "cell_type": "code",
   "execution_count": 6,
   "metadata": {
    "collapsed": false,
    "execution": {
     "iopub.execute_input": "2020-12-22T07:13:57.691196Z",
     "iopub.status.busy": "2020-12-22T07:13:57.690567Z",
     "iopub.status.idle": "2020-12-22T07:13:57.695116Z",
     "shell.execute_reply": "2020-12-22T07:13:57.695586Z"
    },
    "pycharm": {
     "name": "#%%\n"
    }
   },
   "outputs": [
    {
     "name": "stdout",
     "output_type": "stream",
     "text": [
      "random sample with shape ():\n",
      " tensor(6.)\n",
      "random sample with shape (3,):\n",
      " tensor([6., 2., 5.])\n",
      "random sample with shape (2,3):\n",
      " tensor([[4., 6., 5.],\n",
      "        [2., 4., 5.]])\n"
     ]
    }
   ],
   "source": [
    "print(\"random sample with shape ():\\n\",\n",
    "      binomial.sample())\n",
    "print(\"random sample with shape (3,):\\n\",\n",
    "      binomial.sample(sample_shape=(3,)))\n",
    "print(\"random sample with shape (2,3):\\n\",\n",
    "      binomial.sample(sample_shape=(2, 3)))"
   ]
  },
  {
   "cell_type": "markdown",
   "metadata": {
    "collapsed": false
   },
   "source": [
    "從前述的例子，我們可以看到 `sample_shape` 可用於設定產生樣本之個數與樣本張量之排列形狀。\n",
    "\n",
    "給定一組實現值，`log_prob()`可用於計算該實現之對數可能性或機率"
   ]
  },
  {
   "cell_type": "code",
   "execution_count": 7,
   "metadata": {
    "collapsed": false,
    "execution": {
     "iopub.execute_input": "2020-12-22T07:13:57.699945Z",
     "iopub.status.busy": "2020-12-22T07:13:57.699331Z",
     "iopub.status.idle": "2020-12-22T07:13:57.704600Z",
     "shell.execute_reply": "2020-12-22T07:13:57.705036Z"
    },
    "pycharm": {
     "name": "#%%\n"
    }
   },
   "outputs": [
    {
     "name": "stdout",
     "output_type": "stream",
     "text": [
      "log-likelihood given value with shape ():\n",
      " tensor([-0.9189]) \n",
      "\n",
      "log-likelihood given value with (3,):\n",
      " tensor([-1.4189, -0.9189, -1.0439]) \n",
      "\n",
      "log-likelihood given value with (2,3):\n",
      " tensor([[-1.4189, -0.9189, -1.0439],\n",
      "        [-2.9189, -1.4189, -5.4189]])\n"
     ]
    }
   ],
   "source": [
    "print(\"log-likelihood given value with shape ():\\n\",\n",
    "      normal.log_prob(value=torch.Tensor([0])), \"\\n\")\n",
    "print(\"log-likelihood given value with (3,):\\n\",\n",
    "      normal.log_prob(value=torch.Tensor([-1, 0, .5])), \"\\n\")\n",
    "print(\"log-likelihood given value with (2,3):\\n\",\n",
    "      normal.log_prob(value=torch.Tensor([[-1, 0, .5], [-2, 1, 3]])))"
   ]
  },
  {
   "cell_type": "code",
   "execution_count": 8,
   "metadata": {
    "collapsed": false,
    "execution": {
     "iopub.execute_input": "2020-12-22T07:13:57.709413Z",
     "iopub.status.busy": "2020-12-22T07:13:57.708795Z",
     "iopub.status.idle": "2020-12-22T07:13:57.714610Z",
     "shell.execute_reply": "2020-12-22T07:13:57.715083Z"
    },
    "pycharm": {
     "name": "#%%\n"
    }
   },
   "outputs": [
    {
     "name": "stdout",
     "output_type": "stream",
     "text": [
      "log-probability given value with shape ():\n",
      " tensor([-1.4020]) \n",
      "\n",
      "log-probability given value with (3,):\n",
      " tensor([-1.4020, -2.1440, -2.1440]) \n",
      "\n",
      "log-probability given value with (2,3):\n",
      " tensor([[-1.4020, -2.1440, -2.1440],\n",
      "        [-3.1248, -6.9315, -6.9315]])\n"
     ]
    }
   ],
   "source": [
    "print(\"log-probability given value with shape ():\\n\",\n",
    "      binomial.log_prob(value=torch.Tensor([5])), \"\\n\")\n",
    "print(\"log-probability given value with (3,):\\n\",\n",
    "      binomial.log_prob(value=torch.Tensor([5, 3, 7])), \"\\n\")\n",
    "print(\"log-probability given value with (2,3):\\n\",\n",
    "      binomial.log_prob(value=torch.Tensor([[5, 3, 7], [2, 0, 10]])))\n"
   ]
  },
  {
   "cell_type": "markdown",
   "metadata": {
    "collapsed": false
   },
   "source": [
    "在給定上界之數值，常態分配之`.cdf()` 可用於計算該上界數值所對應之累積機率數值"
   ]
  },
  {
   "cell_type": "code",
   "execution_count": 9,
   "metadata": {
    "collapsed": false,
    "execution": {
     "iopub.execute_input": "2020-12-22T07:13:57.719235Z",
     "iopub.status.busy": "2020-12-22T07:13:57.718635Z",
     "iopub.status.idle": "2020-12-22T07:13:57.724209Z",
     "shell.execute_reply": "2020-12-22T07:13:57.723575Z"
    },
    "pycharm": {
     "name": "#%%\n"
    }
   },
   "outputs": [
    {
     "name": "stdout",
     "output_type": "stream",
     "text": [
      "cumulative probability given value with shape ():\n",
      " tensor([0.5000]) \n",
      "\n",
      "cumulative probability given value with (3,):\n",
      " tensor([0.1587, 0.5000, 0.6915]) \n",
      "\n",
      "cumulative probability given value with (2,3):\n",
      " tensor([[0.1587, 0.5000, 0.6915],\n",
      "        [0.0228, 0.8413, 0.9987]])\n"
     ]
    }
   ],
   "source": [
    "print(\"cumulative probability given value with shape ():\\n\",\n",
    "      normal.cdf(value=torch.Tensor([0])), \"\\n\")\n",
    "print(\"cumulative probability given value with (3,):\\n\",\n",
    "      normal.cdf(value=torch.Tensor([-1, 0, .5])), \"\\n\")\n",
    "print(\"cumulative probability given value with (2,3):\\n\",\n",
    "      normal.cdf(value=torch.Tensor([[-1, 0, .5], [-2, 1, 3]])))"
   ]
  },
  {
   "cell_type": "markdown",
   "metadata": {
    "collapsed": false
   },
   "source": [
    "不過，binomial分配並無 `cdf()` 方法可評估累積機率值。"
   ]
  },
  {
   "cell_type": "markdown",
   "metadata": {
    "collapsed": false
   },
   "source": [
    "### 分配物件之形狀\n",
    "`pytorch` 分配物件之設計，乃參考 `tensorflow_probability`此套件，而分配物件在形狀上，牽涉到三類型之形狀：\n",
    "\n",
    "1. 樣本形狀（sample shape）：為用於描述獨立且具有相同分配隨機樣本之形狀，先前產生隨機樣本時，所設定的 `sample_shape` 即為樣本形狀。\n",
    "2. 批次形狀（batch shape）：為用於描述獨立，但不具有相同分配隨機樣本之形狀，其可以透過模型參數之形狀進行設定。\n",
    "3. 事件形狀（event shape）：為用於描述多變量分配之形狀，各變數間可能不具有統計獨立之特性。\n",
    "\n",
    "先前產生的常態分配，其在 `batch_shape` 與 `event_shape` 上，皆為純量，故其數值為0-d之張量。"
   ]
  },
  {
   "cell_type": "code",
   "execution_count": 10,
   "metadata": {
    "collapsed": false,
    "execution": {
     "iopub.execute_input": "2020-12-22T07:13:57.727975Z",
     "iopub.status.busy": "2020-12-22T07:13:57.727289Z",
     "iopub.status.idle": "2020-12-22T07:13:57.729560Z",
     "shell.execute_reply": "2020-12-22T07:13:57.730023Z"
    },
    "pycharm": {
     "name": "#%%\n"
    }
   },
   "outputs": [
    {
     "name": "stdout",
     "output_type": "stream",
     "text": [
      "torch.Size([])\n",
      "torch.Size([])\n"
     ]
    }
   ],
   "source": [
    "from torch.distributions import Normal\n",
    "normal = Normal(loc=0., scale=1.)\n",
    "print(normal.batch_shape)\n",
    "print(normal.event_shape)"
   ]
  },
  {
   "cell_type": "markdown",
   "metadata": {
    "collapsed": false
   },
   "source": [
    "接下來，我們設定一批次形狀為 `[2]` 之常態分配物件："
   ]
  },
  {
   "cell_type": "code",
   "execution_count": 11,
   "metadata": {
    "collapsed": false,
    "execution": {
     "iopub.execute_input": "2020-12-22T07:13:57.733875Z",
     "iopub.status.busy": "2020-12-22T07:13:57.733211Z",
     "iopub.status.idle": "2020-12-22T07:13:57.735503Z",
     "shell.execute_reply": "2020-12-22T07:13:57.736029Z"
    },
    "pycharm": {
     "name": "#%%\n"
    }
   },
   "outputs": [
    {
     "name": "stdout",
     "output_type": "stream",
     "text": [
      "torch.Size([2])\n",
      "torch.Size([])\n"
     ]
    }
   ],
   "source": [
    "normal_batch = Normal(loc=torch.Tensor([0., 1.]),\n",
    "                      scale=torch.Tensor([1., 1.5]))\n",
    "print(normal_batch.batch_shape)\n",
    "print(normal_batch.event_shape)"
   ]
  },
  {
   "cell_type": "markdown",
   "metadata": {
    "collapsed": false
   },
   "source": [
    "該分配可產生一形狀為 `[2]` 之常態隨機變數，第一個元素的平均數為0，變異數為1，第二個元素的平均數為1，變異數為1.5。接著，我們從該分配中產生不同樣本形狀之隨機樣本"
   ]
  },
  {
   "cell_type": "code",
   "execution_count": 12,
   "metadata": {
    "collapsed": false,
    "execution": {
     "iopub.execute_input": "2020-12-22T07:13:57.739723Z",
     "iopub.status.busy": "2020-12-22T07:13:57.739096Z",
     "iopub.status.idle": "2020-12-22T07:13:57.744227Z",
     "shell.execute_reply": "2020-12-22T07:13:57.744689Z"
    },
    "pycharm": {
     "name": "#%%\n"
    }
   },
   "outputs": [
    {
     "name": "stdout",
     "output_type": "stream",
     "text": [
      "random sample with sample_shape ():\n",
      " tensor([2.3854, 0.2639]) \n",
      "\n",
      "random sample with sample_shape (3,):\n",
      " tensor([[-1.4466, -0.4015],\n",
      "        [ 0.6033,  4.1423],\n",
      "        [ 0.1024,  0.6321]]) \n",
      "\n",
      "random sample with sample_shape (2,3):\n",
      " tensor([[[-0.9811,  0.7645],\n",
      "         [ 1.2833,  1.3771],\n",
      "         [-1.4564,  1.6710]],\n",
      "\n",
      "        [[-0.9342,  1.1164],\n",
      "         [ 0.8251,  2.0918],\n",
      "         [ 0.6435,  0.2764]]])\n"
     ]
    }
   ],
   "source": [
    "print(\"random sample with sample_shape ():\\n\",\n",
    "      normal_batch.sample(), \"\\n\")\n",
    "print(\"random sample with sample_shape (3,):\\n\",\n",
    "      normal_batch.sample(sample_shape=(3,)), \"\\n\")\n",
    "print(\"random sample with sample_shape (2,3):\\n\",\n",
    "      normal_batch.sample(sample_shape=(2,3)))"
   ]
  },
  {
   "cell_type": "markdown",
   "metadata": {
    "collapsed": false
   },
   "source": [
    "我們可以看見，產生樣本的張量尺寸為 `sample_size + batch_size`，尺寸的最後一個維度皆為2。\n",
    "\n",
    "\n",
    "當分配物件的 `batch_shape` 為 `[2]` 時，則在評估其對數機率時若僅輸入 `[0]`，則 `[0]` 會被廣播為 `[0, 0]` 評估，而 `[[0], [0]]` 會被廣播為 `[[0, 0], [0, 0]]`。"
   ]
  },
  {
   "cell_type": "code",
   "execution_count": 13,
   "metadata": {
    "collapsed": false,
    "execution": {
     "iopub.execute_input": "2020-12-22T07:13:57.748802Z",
     "iopub.status.busy": "2020-12-22T07:13:57.748147Z",
     "iopub.status.idle": "2020-12-22T07:13:57.753235Z",
     "shell.execute_reply": "2020-12-22T07:13:57.753680Z"
    },
    "pycharm": {
     "name": "#%%\n"
    }
   },
   "outputs": [
    {
     "name": "stdout",
     "output_type": "stream",
     "text": [
      "log-probability given value with shape ():\n",
      " tensor([-0.9189, -1.5466]) \n",
      "\n",
      "log-probability given value with shape (2,):\n",
      " tensor([-0.9189, -1.5466]) \n",
      "\n",
      "log-probability given value with shape (2,1):\n",
      " tensor([[-0.9189, -1.5466],\n",
      "        [-0.9189, -1.5466]])\n"
     ]
    }
   ],
   "source": [
    "print(\"log-probability given value with shape ():\\n\",\n",
    "      normal_batch.log_prob(torch.Tensor([0])), \"\\n\")\n",
    "print(\"log-probability given value with shape (2,):\\n\",\n",
    "      normal_batch.log_prob(torch.Tensor([0, 0])), \"\\n\")\n",
    "print(\"log-probability given value with shape (2,1):\\n\",\n",
    "      normal_batch.log_prob(torch.Tensor([[0], [0]])))"
   ]
  },
  {
   "cell_type": "markdown",
   "metadata": {
    "collapsed": false
   },
   "source": [
    "分配物件的 `event_shape`，可透過多變量分配之參數設定。以多元常態分配為例，我們可以透過其平均數向量與共變異數矩陣設定 `event_shape`"
   ]
  },
  {
   "cell_type": "code",
   "execution_count": 14,
   "metadata": {
    "collapsed": false,
    "execution": {
     "iopub.execute_input": "2020-12-22T07:13:57.757857Z",
     "iopub.status.busy": "2020-12-22T07:13:57.757215Z",
     "iopub.status.idle": "2020-12-22T07:13:57.759937Z",
     "shell.execute_reply": "2020-12-22T07:13:57.760409Z"
    },
    "pycharm": {
     "name": "#%%\n"
    }
   },
   "outputs": [
    {
     "name": "stdout",
     "output_type": "stream",
     "text": [
      "torch.Size([])\n",
      "torch.Size([2])\n"
     ]
    }
   ],
   "source": [
    "from torch.distributions import MultivariateNormal\n",
    "mvn = MultivariateNormal(\n",
    "    loc=torch.Tensor([0, 1]),\n",
    "    scale_tril=torch.cholesky(torch.Tensor([[1., 0.], [0., .5]])))\n",
    "print(mvn.batch_shape)\n",
    "print(mvn.event_shape)"
   ]
  },
  {
   "cell_type": "markdown",
   "metadata": {
    "collapsed": false
   },
   "source": [
    "由於我們給定的平均數向量與共變異數矩陣適用於二維之多變量常態分配，因此，其 `event_shape` 為 `[2]`。這邊需特別注意的是，我們並非直接給定共變異數矩陣，取而代之的是，給定共變異數矩陣之 `cholesky` 拆解。\n",
    "\n",
    "我們可以使用該多元常態分配來產生資料，以及評估其對數可能性數值"
   ]
  },
  {
   "cell_type": "code",
   "execution_count": 15,
   "metadata": {
    "collapsed": false,
    "execution": {
     "iopub.execute_input": "2020-12-22T07:13:57.764326Z",
     "iopub.status.busy": "2020-12-22T07:13:57.763720Z",
     "iopub.status.idle": "2020-12-22T07:13:57.769673Z",
     "shell.execute_reply": "2020-12-22T07:13:57.770205Z"
    },
    "pycharm": {
     "name": "#%%\n"
    }
   },
   "outputs": [
    {
     "name": "stdout",
     "output_type": "stream",
     "text": [
      "random sample with sample_shape ():\n",
      " tensor([-0.5348,  2.7180]) \n",
      "\n",
      "random sample with sample_shape (3,):\n",
      " tensor([[-9.8199e-02, -3.8874e-04],\n",
      "        [-3.0044e-01,  1.2929e+00],\n",
      "        [ 2.8047e+00, -3.7341e-01]]) \n",
      "\n",
      "random sample with sample_shape (2, 3):\n",
      " tensor([[[ 0.5112,  0.6799],\n",
      "         [-0.5119,  1.2624],\n",
      "         [-1.3710,  0.9724]],\n",
      "\n",
      "        [[-0.2688, -0.8212],\n",
      "         [ 0.2388,  1.0519],\n",
      "         [-0.3655,  1.6298]]])\n"
     ]
    }
   ],
   "source": [
    "print(\"random sample with sample_shape ():\\n\",\n",
    "      mvn.sample(), \"\\n\")\n",
    "print(\"random sample with sample_shape (3,):\\n\",\n",
    "      mvn.sample(sample_shape=(3,)), \"\\n\")\n",
    "print(\"random sample with sample_shape (2, 3):\\n\",\n",
    "      mvn.sample(sample_shape=(2, 3)))"
   ]
  },
  {
   "cell_type": "code",
   "execution_count": 16,
   "metadata": {
    "collapsed": false,
    "execution": {
     "iopub.execute_input": "2020-12-22T07:13:57.774092Z",
     "iopub.status.busy": "2020-12-22T07:13:57.773398Z",
     "iopub.status.idle": "2020-12-22T07:13:57.778502Z",
     "shell.execute_reply": "2020-12-22T07:13:57.778980Z"
    },
    "pycharm": {
     "name": "#%%\n"
    }
   },
   "outputs": [
    {
     "name": "stdout",
     "output_type": "stream",
     "text": [
      "log-likelihood given value with shape (2,):\n",
      " tensor(-2.4913) \n",
      "\n",
      "log-likelihood given value with shape (2,1):\n",
      " tensor([-2.4913, -2.4913])\n"
     ]
    }
   ],
   "source": [
    "print(\"log-likelihood given value with shape (2,):\\n\",\n",
    "      mvn.log_prob(torch.Tensor([0, 0])), \"\\n\")\n",
    "print(\"log-likelihood given value with shape (2,1):\\n\",\n",
    "      mvn.log_prob(torch.Tensor([[0, 0], [0, 0]])))"
   ]
  },
  {
   "cell_type": "markdown",
   "metadata": {
    "collapsed": false
   },
   "source": [
    "這邊需要別注意的是，屬於同一事件之觀測值，僅會給予一對數機率值，方便用於建立概似函數。\n",
    "\n",
    "\n",
    "另外，也可以透過 `Independent` 此函數，將分配之 `batch_size` 重新解釋為 `event_size`，`reinterpreted_batch_ndims` 用於設定有多少個面向要從 `batch_shape` 轉為 `event_shape`（從右至左）。"
   ]
  },
  {
   "cell_type": "code",
   "execution_count": 17,
   "metadata": {
    "collapsed": false,
    "execution": {
     "iopub.execute_input": "2020-12-22T07:13:57.782674Z",
     "iopub.status.busy": "2020-12-22T07:13:57.782021Z",
     "iopub.status.idle": "2020-12-22T07:13:57.784450Z",
     "shell.execute_reply": "2020-12-22T07:13:57.784875Z"
    },
    "pycharm": {
     "name": "#%%\n"
    }
   },
   "outputs": [
    {
     "name": "stdout",
     "output_type": "stream",
     "text": [
      "torch.Size([])\n",
      "torch.Size([2])\n"
     ]
    }
   ],
   "source": [
    "from torch.distributions import Independent\n",
    "normal_event = Independent(normal_batch,\n",
    "                           reinterpreted_batch_ndims = 1)\n",
    "print(normal_event.batch_shape)\n",
    "print(normal_event.event_shape)"
   ]
  },
  {
   "cell_type": "markdown",
   "metadata": {
    "collapsed": false
   },
   "source": [
    "最後，我們也可以對多元常態分配設定 `batch_shape`"
   ]
  },
  {
   "cell_type": "code",
   "execution_count": 18,
   "metadata": {
    "collapsed": false,
    "execution": {
     "iopub.execute_input": "2020-12-22T07:13:57.788871Z",
     "iopub.status.busy": "2020-12-22T07:13:57.788239Z",
     "iopub.status.idle": "2020-12-22T07:13:57.790917Z",
     "shell.execute_reply": "2020-12-22T07:13:57.791386Z"
    },
    "pycharm": {
     "name": "#%%\n"
    }
   },
   "outputs": [
    {
     "name": "stdout",
     "output_type": "stream",
     "text": [
      "torch.Size([3])\n",
      "torch.Size([2])\n"
     ]
    }
   ],
   "source": [
    "mvn_batch = MultivariateNormal(\n",
    "    loc=torch.Tensor([[0, 1],[1, 2],[2, 3]]),\n",
    "    scale_tril=torch.cholesky(torch.Tensor([[1., .2], [.2, .5]])))\n",
    "print(mvn_batch.batch_shape)\n",
    "print(mvn_batch.event_shape)"
   ]
  },
  {
   "cell_type": "markdown",
   "metadata": {
    "collapsed": false
   },
   "source": [
    "此分配每次產生一形狀為 `(3, 2)` 之樣本，若進一步設定 `sample_shape`，則其產生之樣本張量形狀為 `smaple_shape + (3, 2)`："
   ]
  },
  {
   "cell_type": "code",
   "execution_count": 19,
   "metadata": {
    "collapsed": false,
    "execution": {
     "iopub.execute_input": "2020-12-22T07:13:57.795112Z",
     "iopub.status.busy": "2020-12-22T07:13:57.794470Z",
     "iopub.status.idle": "2020-12-22T07:13:57.800325Z",
     "shell.execute_reply": "2020-12-22T07:13:57.800858Z"
    },
    "pycharm": {
     "name": "#%%\n"
    }
   },
   "outputs": [
    {
     "name": "stdout",
     "output_type": "stream",
     "text": [
      "random sample with sample_shape ():\n",
      " tensor([[1.8212, 0.8060],\n",
      "        [0.3627, 1.3418],\n",
      "        [0.9773, 1.9695]]) \n",
      "\n",
      "random sample with sample_shape (3,):\n",
      " tensor([[[ 1.3043,  0.8236],\n",
      "         [ 1.0565,  2.7648],\n",
      "         [ 2.0463,  3.5045]],\n",
      "\n",
      "        [[-0.1828, -0.0290],\n",
      "         [ 0.1217,  1.2073],\n",
      "         [-0.8190,  1.8418]],\n",
      "\n",
      "        [[ 0.8808,  1.2373],\n",
      "         [ 2.0861,  2.3475],\n",
      "         [ 2.7290,  3.0479]]]) \n",
      "\n",
      "random sample with sample_shape (2, 3):\n",
      " tensor([[[[-0.1381,  1.9233],\n",
      "          [-0.5562,  0.8182],\n",
      "          [ 2.4346,  4.1137]],\n",
      "\n",
      "         [[-0.5667,  1.8676],\n",
      "          [ 0.8013,  2.6107],\n",
      "          [ 1.3216,  3.0679]],\n",
      "\n",
      "         [[-0.3497,  0.8762],\n",
      "          [ 1.9950,  3.9204],\n",
      "          [ 2.3278,  2.9082]]],\n",
      "\n",
      "\n",
      "        [[[-0.5487,  0.5934],\n",
      "          [-0.5899,  1.4178],\n",
      "          [ 3.7140,  3.4678]],\n",
      "\n",
      "         [[ 0.3956,  1.2277],\n",
      "          [ 2.2518,  3.2341],\n",
      "          [ 1.9208,  3.7957]],\n",
      "\n",
      "         [[ 1.3529,  1.0659],\n",
      "          [ 0.5663,  1.8842],\n",
      "          [ 0.7674,  2.6535]]]])\n"
     ]
    }
   ],
   "source": [
    "print(\"random sample with sample_shape ():\\n\",\n",
    "      mvn_batch.sample(), \"\\n\")\n",
    "print(\"random sample with sample_shape (3,):\\n\",\n",
    "      mvn_batch.sample(sample_shape=(3,)), \"\\n\")\n",
    "print(\"random sample with sample_shape (2, 3):\\n\",\n",
    "      mvn_batch.sample(sample_shape=(2, 3)))"
   ]
  },
  {
   "cell_type": "markdown",
   "metadata": {
    "collapsed": false
   },
   "source": [
    "關於前述三種形狀之說明，讀者亦可參考此[網誌](https://ericmjl.github.io/blog/2019/5/29/reasoning-about-shapes-and-probability-distributions/)。\n",
    "\n",
    "## 最大概似估計法"
   ]
  },
  {
   "cell_type": "markdown",
   "metadata": {
    "collapsed": false
   },
   "source": [
    "### 建立概似函數\n",
    "利用 `torch` 的分配物件，我們可以很容易地來建立概似函數。\n",
    "\n",
    "首先，我們先以常態分配進行說明。為了產生樣本資料，我們先設定一平均數為5，標準差為4之常態分配"
   ]
  },
  {
   "cell_type": "code",
   "execution_count": 20,
   "metadata": {
    "collapsed": false,
    "execution": {
     "iopub.execute_input": "2020-12-22T07:13:57.804544Z",
     "iopub.status.busy": "2020-12-22T07:13:57.803952Z",
     "iopub.status.idle": "2020-12-22T07:13:57.807358Z",
     "shell.execute_reply": "2020-12-22T07:13:57.807830Z"
    },
    "pycharm": {
     "name": "#%%\n"
    }
   },
   "outputs": [
    {
     "name": "stdout",
     "output_type": "stream",
     "text": [
      "normal model:\n",
      " Normal(loc: tensor([5.]), scale: tensor([2.])) \n",
      "\n"
     ]
    }
   ],
   "source": [
    "mu_true = torch.tensor([5.])\n",
    "sigma_true = torch.tensor([2.])\n",
    "model_normal_true = Normal(\n",
    "    loc=mu_true,\n",
    "    scale=sigma_true)\n",
    "print(\"normal model:\\n\", model_normal_true, \"\\n\")"
   ]
  },
  {
   "cell_type": "markdown",
   "metadata": {
    "collapsed": false
   },
   "source": [
    "接著，我們可以利用此常態分配來產生一樣本數為1000之資料，並評估該資料在平均數為5，標準差為4此常態分配下之負對數可能性（negative log-likelihood）"
   ]
  },
  {
   "cell_type": "code",
   "execution_count": 21,
   "metadata": {
    "collapsed": false,
    "execution": {
     "iopub.execute_input": "2020-12-22T07:13:57.811701Z",
     "iopub.status.busy": "2020-12-22T07:13:57.811068Z",
     "iopub.status.idle": "2020-12-22T07:13:57.814443Z",
     "shell.execute_reply": "2020-12-22T07:13:57.814870Z"
    },
    "pycharm": {
     "name": "#%%\n"
    }
   },
   "outputs": [
    {
     "name": "stdout",
     "output_type": "stream",
     "text": [
      "negative likelihood value is tensor(2.1110)\n"
     ]
    }
   ],
   "source": [
    "sample_size = 1000\n",
    "x = model_normal_true.sample(sample_shape=(sample_size,))\n",
    "loss_value = - model_normal_true.log_prob(x).mean()\n",
    "print(\"negative likelihood value is\", loss_value)"
   ]
  },
  {
   "cell_type": "markdown",
   "metadata": {
    "collapsed": false
   },
   "source": [
    "因此，只要在資料的形狀上可以匹配，我們即可使用分配物件的`log_prob()` 方法，再搭配 `sum()` 或是 `mean()` 來計算對數概似函數數值。"
   ]
  },
  {
   "cell_type": "markdown",
   "metadata": {
    "collapsed": false
   },
   "source": [
    "### 進行優化\n",
    "\n",
    "在建立完概似函數後，我們就可以透過 `torch` 的優化器進行優化。在這邊需要特別注意的是，由於模型的參數會在優化過程中更新，因此，其必須使用一可微分之張量來儲存，並且，在每次更新完參數數值後，皆需再次產生一新的分配物件，以計算概述函數之數值"
   ]
  },
  {
   "cell_type": "code",
   "execution_count": 22,
   "metadata": {
    "collapsed": false,
    "execution": {
     "iopub.execute_input": "2020-12-22T07:13:57.820329Z",
     "iopub.status.busy": "2020-12-22T07:13:57.819683Z",
     "iopub.status.idle": "2020-12-22T07:13:57.920401Z",
     "shell.execute_reply": "2020-12-22T07:13:57.920891Z"
    },
    "pycharm": {
     "name": "#%%\n"
    }
   },
   "outputs": [],
   "source": [
    "epochs = 200\n",
    "lr = 1.0\n",
    "mu = torch.tensor([0.], requires_grad=True)\n",
    "sigma = torch.tensor([1.], requires_grad=True)\n",
    "opt = torch.optim.Adam([mu, sigma], lr=.5)\n",
    "for epoch in range(epochs):\n",
    "    model_normal = Normal(loc=mu, scale=sigma)\n",
    "    loss_value = - model_normal.log_prob(x).mean()\n",
    "    opt.zero_grad()\n",
    "    loss_value.backward() # compute the gradient\n",
    "    opt.step()"
   ]
  },
  {
   "cell_type": "code",
   "execution_count": 23,
   "metadata": {
    "collapsed": false,
    "execution": {
     "iopub.execute_input": "2020-12-22T07:13:57.925070Z",
     "iopub.status.busy": "2020-12-22T07:13:57.924407Z",
     "iopub.status.idle": "2020-12-22T07:13:57.926771Z",
     "shell.execute_reply": "2020-12-22T07:13:57.927238Z"
    },
    "pycharm": {
     "name": "#%%\n"
    }
   },
   "outputs": [
    {
     "name": "stdout",
     "output_type": "stream",
     "text": [
      "ML mean by gradient descent: [4.984005]\n",
      "ML std by gradient descent: [1.9957983]\n"
     ]
    }
   ],
   "source": [
    "print(\"ML mean by gradient descent:\", mu.data.numpy())\n",
    "print(\"ML std by gradient descent:\", sigma.data.numpy())"
   ]
  },
  {
   "cell_type": "markdown",
   "metadata": {
    "collapsed": false
   },
   "source": [
    "我們可以比較前述使用梯度下降法所得到的結果，與直接帶公式計算結果間的差異，可以發現兩者間的差異主要展現在小數點後3位，是絕大多數情況下可以忽略的誤差。"
   ]
  },
  {
   "cell_type": "code",
   "execution_count": 24,
   "metadata": {
    "collapsed": false,
    "execution": {
     "iopub.execute_input": "2020-12-22T07:13:57.930745Z",
     "iopub.status.busy": "2020-12-22T07:13:57.930072Z",
     "iopub.status.idle": "2020-12-22T07:13:57.932446Z",
     "shell.execute_reply": "2020-12-22T07:13:57.932908Z"
    },
    "pycharm": {
     "name": "#%%\n"
    }
   },
   "outputs": [
    {
     "name": "stdout",
     "output_type": "stream",
     "text": [
      "ML mean by formula: 4.9838824\n",
      "ML std by formula: 1.9977348\n"
     ]
    }
   ],
   "source": [
    "print(\"ML mean by formula:\", torch.mean(x).numpy())\n",
    "print(\"ML std by formula:\", torch.std(x, unbiased=False).numpy())"
   ]
  },
  {
   "cell_type": "markdown",
   "metadata": {
    "collapsed": false
   },
   "source": [
    "### 多元常態分配之最大概似估計\n",
    "\n",
    "多元常態分配為統計建模中常被使用之分配，因此，我們在此對該分配之參數進行最大概似法之估計。\n",
    "\n",
    "多元常態分配之最大概似估計最麻煩的部分在於，共變異數矩陣是對稱正定矩陣，因此，雖然共變異矩陣中有 $P \\times P$ 個元素，但事實上，其僅有 $P(P+1)/2$ 個能夠自由估計之參數，並且，其數值需滿足正定矩陣之要求。為了處理此困難，在進行多元常態分配之參數設定時，我們不直接設定共變異數矩陣，取而代之的是，設定該矩陣之 Cholesky 拆解，即 `scale_tril`"
   ]
  },
  {
   "cell_type": "code",
   "execution_count": 25,
   "metadata": {
    "collapsed": false,
    "execution": {
     "iopub.execute_input": "2020-12-22T07:13:57.937005Z",
     "iopub.status.busy": "2020-12-22T07:13:57.936411Z",
     "iopub.status.idle": "2020-12-22T07:13:57.940406Z",
     "shell.execute_reply": "2020-12-22T07:13:57.940872Z"
    },
    "pycharm": {
     "name": "#%%\n"
    }
   },
   "outputs": [
    {
     "name": "stdout",
     "output_type": "stream",
     "text": [
      "true mean vector: \n",
      " tensor([-1.,  0.,  1.])\n",
      "true covariance matrix: \n",
      " tensor([[9.0000, 6.0000, 1.2000],\n",
      "        [6.0000, 5.0000, 1.3000],\n",
      "        [1.2000, 1.3000, 0.6600]])\n"
     ]
    }
   ],
   "source": [
    "mu_true = torch.tensor([-1., 0., 1.])\n",
    "sigma_tril_true = torch.tensor([[3., 0., 0.], [2., 1., 0.], [.4, .5, .5]])\n",
    "model_mvn_true = MultivariateNormal(\n",
    "    loc=mu_true,\n",
    "    scale_tril=sigma_tril_true)\n",
    "print(\"true mean vector: \\n\", model_mvn_true.mean)\n",
    "print(\"true covariance matrix: \\n\", model_mvn_true.covariance_matrix)\n"
   ]
  },
  {
   "cell_type": "markdown",
   "metadata": {
    "collapsed": false
   },
   "source": [
    "前一程式碼所展示的共變異數矩陣，可透過以下的公式獲得"
   ]
  },
  {
   "cell_type": "code",
   "execution_count": 26,
   "metadata": {
    "collapsed": false,
    "execution": {
     "iopub.execute_input": "2020-12-22T07:13:57.948217Z",
     "iopub.status.busy": "2020-12-22T07:13:57.943570Z",
     "iopub.status.idle": "2020-12-22T07:13:57.952114Z",
     "shell.execute_reply": "2020-12-22T07:13:57.952549Z"
    },
    "pycharm": {
     "name": "#%%\n"
    }
   },
   "outputs": [
    {
     "data": {
      "text/plain": [
       "tensor([[9.0000, 6.0000, 1.2000],\n",
       "        [6.0000, 5.0000, 1.3000],\n",
       "        [1.2000, 1.3000, 0.6600]])"
      ]
     },
     "execution_count": 26,
     "metadata": {},
     "output_type": "execute_result"
    }
   ],
   "source": [
    "sigma_tril_true @ sigma_tril_true.t()"
   ]
  },
  {
   "cell_type": "markdown",
   "metadata": {
    "collapsed": false
   },
   "source": [
    "前式可以確保所得到的共變異數矩陣為對稱矩陣，另外，如果說給定的對角線元素為正的，則可以進一步確保該共變異數矩陣為對稱正定矩陣。\n",
    "\n",
    "接著，我們就可以利用該分配物件來產生資料、計算概似函數數值、以及計算最大概似估計值。"
   ]
  },
  {
   "cell_type": "code",
   "execution_count": 27,
   "metadata": {
    "collapsed": false,
    "execution": {
     "iopub.execute_input": "2020-12-22T07:13:57.956503Z",
     "iopub.status.busy": "2020-12-22T07:13:57.955779Z",
     "iopub.status.idle": "2020-12-22T07:13:57.959758Z",
     "shell.execute_reply": "2020-12-22T07:13:57.960254Z"
    },
    "pycharm": {
     "name": "#%%\n"
    }
   },
   "outputs": [
    {
     "name": "stdout",
     "output_type": "stream",
     "text": [
      "negative likelihood value is tensor(4.6901)\n"
     ]
    }
   ],
   "source": [
    "sample_size = 1000\n",
    "x = model_mvn_true.sample(sample_shape=(sample_size,))\n",
    "loss_value = -model_mvn_true.log_prob(x).mean()\n",
    "print(\"negative likelihood value is\", loss_value)\n"
   ]
  },
  {
   "cell_type": "code",
   "execution_count": 28,
   "metadata": {
    "collapsed": false,
    "execution": {
     "iopub.execute_input": "2020-12-22T07:13:57.965735Z",
     "iopub.status.busy": "2020-12-22T07:13:57.965131Z",
     "iopub.status.idle": "2020-12-22T07:13:58.394254Z",
     "shell.execute_reply": "2020-12-22T07:13:58.394715Z"
    },
    "pycharm": {
     "name": "#%%\n"
    }
   },
   "outputs": [],
   "source": [
    "epochs = 500\n",
    "lr = .1\n",
    "mu = torch.tensor(\n",
    "    [0., 0., 0.], requires_grad=True)\n",
    "sigma_tril = torch.tensor(\n",
    "    [[1., 0., 0.], [0., 1., 0.], [0., 0., 1.]],\n",
    "    requires_grad=True)\n",
    "opt = torch.optim.Adam([mu, sigma_tril], lr=lr)\n",
    "\n",
    "for epoch in range(epochs):\n",
    "    model_mvn = MultivariateNormal(\n",
    "    loc=mu,\n",
    "    scale_tril=sigma_tril)\n",
    "    loss_value = -torch.mean(model_mvn.log_prob(x))\n",
    "    opt.zero_grad()\n",
    "    loss_value.backward() # compute the gradient\n",
    "    opt.step()"
   ]
  },
  {
   "cell_type": "code",
   "execution_count": 29,
   "metadata": {
    "collapsed": false,
    "execution": {
     "iopub.execute_input": "2020-12-22T07:13:58.398461Z",
     "iopub.status.busy": "2020-12-22T07:13:58.397719Z",
     "iopub.status.idle": "2020-12-22T07:13:58.401875Z",
     "shell.execute_reply": "2020-12-22T07:13:58.402306Z"
    },
    "pycharm": {
     "name": "#%%\n"
    }
   },
   "outputs": [
    {
     "name": "stdout",
     "output_type": "stream",
     "text": [
      "ML mean by gradient descent: \n",
      " tensor([-0.9580,  0.0277,  1.0096], requires_grad=True)\n",
      "ML covariance by gradient descent: \n",
      " tensor([[8.3835, 5.4514, 1.1248],\n",
      "        [5.4514, 4.6129, 1.2742],\n",
      "        [1.1248, 1.2742, 0.6894]], grad_fn=<MmBackward>)\n"
     ]
    }
   ],
   "source": [
    "print(\"ML mean by gradient descent: \\n\", mu)\n",
    "print(\"ML covariance by gradient descent: \\n\", sigma_tril @ sigma_tril.t())"
   ]
  },
  {
   "cell_type": "code",
   "execution_count": 30,
   "metadata": {
    "collapsed": false,
    "execution": {
     "iopub.execute_input": "2020-12-22T07:13:58.406281Z",
     "iopub.status.busy": "2020-12-22T07:13:58.405653Z",
     "iopub.status.idle": "2020-12-22T07:13:58.409986Z",
     "shell.execute_reply": "2020-12-22T07:13:58.410477Z"
    },
    "pycharm": {
     "name": "#%%\n"
    }
   },
   "outputs": [
    {
     "name": "stdout",
     "output_type": "stream",
     "text": [
      "ML mean by formula: \n",
      " tensor([-0.9580,  0.0277,  1.0096])\n",
      "ML covariance by formula: \n",
      " tensor([[8.3835, 5.4514, 1.1248],\n",
      "        [5.4514, 4.6129, 1.2742],\n",
      "        [1.1248, 1.2742, 0.6894]])\n"
     ]
    }
   ],
   "source": [
    "sample_mean = torch.mean(x, dim = 0)\n",
    "sample_moment2 = (x.t() @ x) / sample_size\n",
    "sample_cov = sample_moment2 - torch.ger(sample_mean, sample_mean)\n",
    "print(\"ML mean by formula: \\n\", sample_mean)\n",
    "print(\"ML covariance by formula: \\n\", sample_cov)"
   ]
  },
  {
   "cell_type": "markdown",
   "metadata": {
    "collapsed": false
   },
   "source": [
    "## 實徵範例"
   ]
  },
  {
   "cell_type": "markdown",
   "metadata": {
    "collapsed": false
   },
   "source": [
    "### 產生邏吉斯迴歸資料"
   ]
  },
  {
   "cell_type": "code",
   "execution_count": 31,
   "metadata": {
    "collapsed": false,
    "execution": {
     "iopub.execute_input": "2020-12-22T07:13:58.413949Z",
     "iopub.status.busy": "2020-12-22T07:13:58.413337Z",
     "iopub.status.idle": "2020-12-22T07:13:58.417257Z",
     "shell.execute_reply": "2020-12-22T07:13:58.417681Z"
    },
    "pycharm": {
     "name": "#%%\n"
    }
   },
   "outputs": [
    {
     "data": {
      "text/plain": [
       "<torch._C.Generator at 0x7fefb05981f0>"
      ]
     },
     "execution_count": 31,
     "metadata": {},
     "output_type": "execute_result"
    }
   ],
   "source": [
    "torch.manual_seed(246437)"
   ]
  },
  {
   "cell_type": "code",
   "execution_count": 32,
   "metadata": {
    "collapsed": false,
    "execution": {
     "iopub.execute_input": "2020-12-22T07:13:58.422928Z",
     "iopub.status.busy": "2020-12-22T07:13:58.422227Z",
     "iopub.status.idle": "2020-12-22T07:13:58.424267Z",
     "shell.execute_reply": "2020-12-22T07:13:58.424749Z"
    },
    "pycharm": {
     "name": "#%%\n"
    }
   },
   "outputs": [],
   "source": [
    "from torch.distributions import Bernoulli\n",
    "def generate_data(n_sample,\n",
    "                  weight,\n",
    "                  bias = 0,\n",
    "                  mean_feature = 0,\n",
    "                  std_feature = 1,\n",
    "                  dtype = torch.float64):\n",
    "    weight = torch.tensor(weight, dtype = dtype)\n",
    "    n_feature = weight.shape[0]\n",
    "    x = torch.normal(mean = mean_feature,\n",
    "                     std = std_feature,\n",
    "                     size = (n_sample, n_feature),\n",
    "                     dtype = dtype)\n",
    "    weight = weight.view(size = (-1, 1))\n",
    "    logit = bias + x @ weight\n",
    "    bernoulli = Bernoulli(logits = logit)\n",
    "    y = bernoulli.sample()\n",
    "    return x, y"
   ]
  },
  {
   "cell_type": "code",
   "execution_count": 33,
   "metadata": {
    "collapsed": false,
    "execution": {
     "iopub.execute_input": "2020-12-22T07:13:58.428549Z",
     "iopub.status.busy": "2020-12-22T07:13:58.427880Z",
     "iopub.status.idle": "2020-12-22T07:13:58.430246Z",
     "shell.execute_reply": "2020-12-22T07:13:58.430692Z"
    },
    "pycharm": {
     "name": "#%%\n"
    }
   },
   "outputs": [],
   "source": [
    "# run generate_data\n",
    "x, y = generate_data(n_sample = 1000,\n",
    "                     weight = [-5, 3, 0],\n",
    "                     bias = 2,\n",
    "                     mean_feature = 10,\n",
    "                     std_feature = 3,\n",
    "                     dtype = torch.float64)"
   ]
  },
  {
   "cell_type": "markdown",
   "metadata": {
    "collapsed": false
   },
   "source": [
    "### 建立一進行邏吉斯迴歸分析之物件"
   ]
  },
  {
   "cell_type": "code",
   "execution_count": 34,
   "metadata": {
    "collapsed": false,
    "execution": {
     "iopub.execute_input": "2020-12-22T07:13:58.443982Z",
     "iopub.status.busy": "2020-12-22T07:13:58.443210Z",
     "iopub.status.idle": "2020-12-22T07:13:58.445346Z",
     "shell.execute_reply": "2020-12-22T07:13:58.445875Z"
    },
    "pycharm": {
     "name": "#%%\n"
    }
   },
   "outputs": [],
   "source": [
    "# define a class to fit logistic regression\n",
    "class LogisticRegression():\n",
    "    def __init__(self, dtype = torch.float64):\n",
    "        self.dtype = dtype\n",
    "        self.x = None\n",
    "        self.y = None\n",
    "        self.weight = None\n",
    "        self.bias = None\n",
    "    def log_lik(self, bias, weight):\n",
    "        logit = bias + self.x @ weight\n",
    "        bernoulli = Bernoulli(logits = logit)\n",
    "        return bernoulli.log_prob(self.y).mean()\n",
    "    def fit(self, x, y, optimizer = \"LBFGS\",\n",
    "            epochs = 200, lr = .1, tol = 10**(-7)):\n",
    "        if x.dtype is not self.dtype:\n",
    "            x = x.type(dtype = self.dtype)\n",
    "        if y.dtype is not self.dtype:\n",
    "            y = y.type(dtype = self.dtype)\n",
    "        self.x = x\n",
    "        self.y = y\n",
    "        self.n_sample = x.size()[0]\n",
    "        self.n_feature = x.size()[1]\n",
    "        bias = torch.zeros(size = (1,),\n",
    "                           dtype = self.dtype,\n",
    "                           requires_grad = True)\n",
    "        weight = torch.zeros(size = (self.n_feature, 1),\n",
    "                             dtype = self.dtype,\n",
    "                             requires_grad = True)\n",
    "        if optimizer == \"LBFGS\":\n",
    "            opt = torch.optim.LBFGS([bias, weight],\n",
    "                                    lr=lr, max_iter = epochs,\n",
    "                                    tolerance_grad = tol,\n",
    "                                    line_search_fn = \"strong_wolfe\")\n",
    "            def closure():\n",
    "                opt.zero_grad()\n",
    "                loss_value = - self.log_lik(bias, weight)\n",
    "                loss_value.backward()\n",
    "                return loss_value\n",
    "            opt.step(closure)\n",
    "        else:\n",
    "            opt = getattr(torch.optim, optimizer)([bias, weight], lr=lr)\n",
    "            for epoch in range(epochs):\n",
    "                opt.zero_grad()\n",
    "                loss_value = - self.log_lik(bias, weight)\n",
    "                loss_value.backward()\n",
    "                with torch.no_grad():\n",
    "                    grad_max = max(bias.grad.abs().max().item(),\n",
    "                                   weight.grad.abs().max().item())\n",
    "                if (grad_max < tol):\n",
    "                    break\n",
    "                opt.step()\n",
    "        self.bias = bias.data.numpy()\n",
    "        self.weight = weight.data.numpy()\n",
    "        # print(opt.state_dict())\n",
    "        return self\n",
    "    def vcov(self):\n",
    "        from torch.autograd.functional import hessian\n",
    "        bias, weight = torch.tensor(self.bias), torch.tensor(self.weight)\n",
    "        h = hessian(self.log_lik, (bias, weight))\n",
    "        fisher_obs = -torch.cat([torch.cat([h[0][0],h[0][1].squeeze(dim = 2)], dim = 1),\n",
    "                                torch.cat([h[1][0].squeeze(dim =0).squeeze(dim =1),\n",
    "                                           h[1][1].squeeze()], dim = 1)],\n",
    "                               dim = 0)\n",
    "\n",
    "        vcov = torch.inverse(fisher_obs)/self.n_sample\n",
    "        return vcov"
   ]
  },
  {
   "cell_type": "markdown",
   "metadata": {
    "collapsed": false
   },
   "source": [
    "### 計算模型參數"
   ]
  },
  {
   "cell_type": "code",
   "execution_count": 35,
   "metadata": {
    "collapsed": false,
    "execution": {
     "iopub.execute_input": "2020-12-22T07:13:58.450070Z",
     "iopub.status.busy": "2020-12-22T07:13:58.449344Z",
     "iopub.status.idle": "2020-12-22T07:13:58.481390Z",
     "shell.execute_reply": "2020-12-22T07:13:58.481923Z"
    },
    "pycharm": {
     "name": "#%%\n"
    }
   },
   "outputs": [
    {
     "name": "stdout",
     "output_type": "stream",
     "text": [
      "[3.73765684]\n",
      "[[-6.32144761]\n",
      " [ 3.74170747]\n",
      " [-0.05765073]]\n"
     ]
    }
   ],
   "source": [
    "# fit logistic model\n",
    "model_lr = LogisticRegression()\n",
    "model_lr.fit(x, y, optimizer = \"LBFGS\", epochs = 2000, lr = 1)\n",
    "print(model_lr.bias)\n",
    "print(model_lr.weight)"
   ]
  },
  {
   "cell_type": "code",
   "execution_count": 36,
   "metadata": {
    "collapsed": false,
    "execution": {
     "iopub.execute_input": "2020-12-22T07:13:58.485793Z",
     "iopub.status.busy": "2020-12-22T07:13:58.485158Z",
     "iopub.status.idle": "2020-12-22T07:14:00.235780Z",
     "shell.execute_reply": "2020-12-22T07:14:00.236249Z"
    },
    "pycharm": {
     "name": "#%%\n"
    }
   },
   "outputs": [
    {
     "name": "stdout",
     "output_type": "stream",
     "text": [
      "[3.736656]\n",
      "[[-6.31995124  3.74083793 -0.05764225]]\n"
     ]
    }
   ],
   "source": [
    "# fit logistic model via sklearn\n",
    "# please install sklearn first\n",
    "from sklearn import linear_model\n",
    "model_lr_sklearn = linear_model.LogisticRegression(C=10000)\n",
    "model_lr_sklearn.fit(x, y.flatten())\n",
    "print(model_lr_sklearn.intercept_)\n",
    "print(model_lr_sklearn.coef_)"
   ]
  },
  {
   "cell_type": "markdown",
   "metadata": {
    "collapsed": false
   },
   "source": [
    "### 計算參數估計標準誤"
   ]
  },
  {
   "cell_type": "code",
   "execution_count": 37,
   "metadata": {
    "collapsed": false,
    "execution": {
     "iopub.execute_input": "2020-12-22T07:14:00.239748Z",
     "iopub.status.busy": "2020-12-22T07:14:00.239083Z",
     "iopub.status.idle": "2020-12-22T07:14:00.242741Z",
     "shell.execute_reply": "2020-12-22T07:14:00.243245Z"
    },
    "pycharm": {
     "name": "#%%\n"
    }
   },
   "outputs": [],
   "source": [
    "vcov = model_lr.vcov()"
   ]
  },
  {
   "cell_type": "code",
   "execution_count": 38,
   "metadata": {
    "collapsed": false,
    "execution": {
     "iopub.execute_input": "2020-12-22T07:14:00.246619Z",
     "iopub.status.busy": "2020-12-22T07:14:00.245950Z",
     "iopub.status.idle": "2020-12-22T07:14:00.249459Z",
     "shell.execute_reply": "2020-12-22T07:14:00.249928Z"
    },
    "pycharm": {
     "name": "#%%\n"
    }
   },
   "outputs": [
    {
     "data": {
      "text/plain": [
       "tensor([2.0433, 1.1524, 0.6945, 0.1204], dtype=torch.float64)"
      ]
     },
     "execution_count": 38,
     "metadata": {},
     "output_type": "execute_result"
    }
   ],
   "source": [
    "vcov.diagonal().sqrt()"
   ]
  },
  {
   "cell_type": "code",
   "execution_count": 39,
   "metadata": {
    "collapsed": false,
    "execution": {
     "iopub.execute_input": "2020-12-22T07:14:00.254104Z",
     "iopub.status.busy": "2020-12-22T07:14:00.253366Z",
     "iopub.status.idle": "2020-12-22T07:14:01.570692Z",
     "shell.execute_reply": "2020-12-22T07:14:01.571212Z"
    },
    "pycharm": {
     "name": "#%%\n"
    }
   },
   "outputs": [
    {
     "name": "stdout",
     "output_type": "stream",
     "text": [
      "Optimization terminated successfully.\n",
      "         Current function value: 0.032809\n",
      "         Iterations 13\n",
      "                           Logit Regression Results                           \n",
      "==============================================================================\n",
      "Dep. Variable:                      y   No. Observations:                 1000\n",
      "Model:                          Logit   Df Residuals:                      996\n",
      "Method:                           MLE   Df Model:                            3\n",
      "Date:                Tue, 22 Dec 2020   Pseudo R-squ.:                  0.9211\n",
      "Time:                        15:14:01   Log-Likelihood:                -32.809\n",
      "converged:                       True   LL-Null:                       -415.71\n",
      "Covariance Type:            nonrobust   LLR p-value:                1.133e-165\n",
      "==============================================================================\n",
      "                 coef    std err          z      P>|z|      [0.025      0.975]\n",
      "------------------------------------------------------------------------------\n",
      "const          3.7373      2.043      1.829      0.067      -0.267       7.742\n",
      "x1            -6.3211      1.152     -5.485      0.000      -8.580      -4.063\n",
      "x2             3.7415      0.694      5.388      0.000       2.380       5.103\n",
      "x3            -0.0577      0.120     -0.479      0.632      -0.294       0.178\n",
      "==============================================================================\n",
      "\n",
      "Possibly complete quasi-separation: A fraction 0.81 of observations can be\n",
      "perfectly predicted. This might indicate that there is complete\n",
      "quasi-separation. In this case some parameters will not be identified.\n"
     ]
    }
   ],
   "source": [
    "# fit logistic model via statsmodels\n",
    "# please install statsmodels first\n",
    "import statsmodels.api as sm\n",
    "model_lr_sm = sm.Logit(y.numpy(), sm.add_constant(x.numpy()))\n",
    "print(model_lr_sm.fit().summary())"
   ]
  },
  {
   "cell_type": "markdown",
   "metadata": {
    "collapsed": false,
    "pycharm": {
     "name": "#%% md\n"
    }
   },
   "source": [
    "### 練習\n",
    "1. 請建立一類型，其可以使用最大概似法，執行線性回歸分析。該模型假設給定 $x_n$，$y_n$ 的條件分佈為 $\\text{Normal}(w_0 + \\sum_{p=1}^P w_p x_{np}, \\sigma_{\\epsilon}^2)$。\n",
    "\n",
    "\n",
    "2. 請在前述的類型中，加入一摘要方法（`summary()`），該方法可以列印出參數估計的假設檢定與信賴區間。\n",
    "\n",
    "3. 請建立一類型，其可以估計多元常態分配的平均數與共變異數矩陣，並且提供各參數估計之標準誤。\n"
   ]
  }
 ],
 "metadata": {
  "colab": {
   "collapsed_sections": [
    "-RbLeUMpv_yA"
   ],
   "name": "lab-torch-mle.ipynb",
   "provenance": [],
   "toc_visible": true
  },
  "kernelspec": {
   "display_name": "Python 3",
   "language": "python",
   "name": "python3"
  },
  "language_info": {
   "codemirror_mode": {
    "name": "ipython",
    "version": 3
   },
   "file_extension": ".py",
   "mimetype": "text/x-python",
   "name": "python",
   "nbconvert_exporter": "python",
   "pygments_lexer": "ipython3",
   "version": "3.8.5"
  }
 },
 "nbformat": 4,
 "nbformat_minor": 0
}