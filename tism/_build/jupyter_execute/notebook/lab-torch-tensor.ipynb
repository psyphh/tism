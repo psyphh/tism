{
 "cells": [
  {
   "cell_type": "markdown",
   "metadata": {
    "id": "UPBFUdBe9At-",
    "pycharm": {
     "name": "#%% md\n"
    }
   },
   "source": [
    "Lab: 張量與線性代數\n",
    "================\n",
    "\n",
    "此 lab 中，我們將會透過 `torch` 此套件，學習以下的主題。\n",
    "\n",
    "1. 認識 `torch` 的張量（tensor）之基礎。\n",
    "\n",
    "2. 了解如何對 `torch` 張量進行操弄。\n",
    "\n",
    "3. 使用 `torch` 進行線性代數之運算。\n",
    "\n",
    "4. 應用前述之知識，建立一可進行線性迴歸分析之類型（class）。\n",
    "\n",
    "`torch`之安裝與基礎教學，可參考 [PyTorch官方網頁](https://pytorch.org/get-started/locally)，如果讀者使用的是Google的Colab服務，則不需要另外安裝 `torch`。在安裝完 `torch` 後，可透過以下的指令載入"
   ]
  },
  {
   "cell_type": "code",
   "execution_count": 1,
   "metadata": {
    "execution": {
     "iopub.execute_input": "2020-09-28T10:26:30.850775Z",
     "iopub.status.busy": "2020-09-28T10:26:30.849936Z",
     "iopub.status.idle": "2020-09-28T10:26:31.176458Z",
     "shell.execute_reply": "2020-09-28T10:26:31.176928Z"
    },
    "id": "9zz89G869At_",
    "pycharm": {
     "name": "#%%\n"
    }
   },
   "outputs": [],
   "source": [
    "import torch"
   ]
  },
  {
   "cell_type": "markdown",
   "metadata": {
    "collapsed": false,
    "id": "awqR2BrI9AuB"
   },
   "source": [
    "## 張量之基礎\n",
    "\n",
    "### 張量之輸入\n",
    "`torch` 最基本的物件是張量（tensor），其與 `numpy` 的陣列（array）相當的類似。產生一個張量最基本的方法為，將所欲形成張量的資料（其可為 `python` 的 `list` 或是 `numpy` 的 `ndarray`），置於`torch.tensor`函數中\n"
   ]
  },
  {
   "cell_type": "code",
   "execution_count": 2,
   "metadata": {
    "colab": {
     "base_uri": "https://localhost:8080/",
     "height": 34
    },
    "execution": {
     "iopub.execute_input": "2020-09-28T10:26:31.186537Z",
     "iopub.status.busy": "2020-09-28T10:26:31.185693Z",
     "iopub.status.idle": "2020-09-28T10:26:31.190001Z",
     "shell.execute_reply": "2020-09-28T10:26:31.190501Z"
    },
    "id": "wLmt_TIE9AuC",
    "jupyter": {
     "outputs_hidden": false
    },
    "outputId": "16da78cc-500f-46cd-aa64-12c52cbe3efc",
    "pycharm": {
     "name": "#%%\n"
    }
   },
   "outputs": [
    {
     "data": {
      "text/plain": [
       "torch.Tensor"
      ]
     },
     "execution_count": 2,
     "metadata": {},
     "output_type": "execute_result"
    }
   ],
   "source": [
    "a = torch.tensor(data = [[1, 2, 3, 4],\n",
    "                         [5, 6, 7, 8],\n",
    "                         [9, 10, 11, 12]])\n",
    "type(a)"
   ]
  },
  {
   "cell_type": "markdown",
   "metadata": {
    "id": "zrMkaYVc9AuE",
    "pycharm": {
     "name": "#%% md\n"
    }
   },
   "source": [
    "透過 `type()`，可看見其屬於 `torch.Tensor` 此一類型（class），若欲了解 `a` 的樣貌，我們可使用 `print` 指令來列印其主要的內容"
   ]
  },
  {
   "cell_type": "code",
   "execution_count": 3,
   "metadata": {
    "colab": {
     "base_uri": "https://localhost:8080/",
     "height": 68
    },
    "execution": {
     "iopub.execute_input": "2020-09-28T10:26:31.194834Z",
     "iopub.status.busy": "2020-09-28T10:26:31.194034Z",
     "iopub.status.idle": "2020-09-28T10:26:31.197687Z",
     "shell.execute_reply": "2020-09-28T10:26:31.197205Z"
    },
    "id": "E31n21Kr9AuF",
    "jupyter": {
     "outputs_hidden": false
    },
    "outputId": "976d7564-8173-49a4-8ffd-a88cc1aef5ce",
    "pycharm": {
     "name": "#%%\n"
    }
   },
   "outputs": [
    {
     "name": "stdout",
     "output_type": "stream",
     "text": [
      "tensor([[ 1,  2,  3,  4],\n",
      "        [ 5,  6,  7,  8],\n",
      "        [ 9, 10, 11, 12]])\n"
     ]
    }
   ],
   "source": [
    "print(a)"
   ]
  },
  {
   "cell_type": "markdown",
   "metadata": {
    "id": "OIeqlSWi9AuH",
    "pycharm": {
     "name": "#%% md\n"
    }
   },
   "source": [
    "透過對 `a` 列印的結果，我們可觀察到：\n",
    "\n",
    "+ `a` 內部的資料數值（value）為 `[[1, 2, 3, 4], [5, 6, 7, 8], [9, 10, 11, 12]]`。\n",
    "\n",
    "除此之外，`a` 還有兩個重要的屬性並未顯示在列印的結果中：\n",
    "\n",
    "+ `a` 的尺寸（size）為 `(3, 4)`，表示 `a` 為一 $3 \\times 4$ 之 2d 張量。在進行運算時，張量間的形狀需滿足某些條件，如相同，或是滿足某種廣播（broadcasting）的規則。\n",
    "+ `a` 的資料類型（data type）為 `int64`，表示64位元的整數。在進行運算時，張量間的類型須相同。\n",
    "\n",
    "稍後，我們會討論如何獲得 `torch` 張量的尺寸與資料類型。"
   ]
  },
  {
   "cell_type": "markdown",
   "metadata": {
    "id": "0n-FdRyM9AuI"
   },
   "source": [
    "\n",
    "### 張量之數值\n",
    "若要擷取 `torch` 張量的資料數值（value），則可透過 `.numpy()`獲得，其回傳該張量對應之 `numpy` 陣列"
   ]
  },
  {
   "cell_type": "code",
   "execution_count": 4,
   "metadata": {
    "colab": {
     "base_uri": "https://localhost:8080/",
     "height": 85
    },
    "execution": {
     "iopub.execute_input": "2020-09-28T10:26:31.202026Z",
     "iopub.status.busy": "2020-09-28T10:26:31.201146Z",
     "iopub.status.idle": "2020-09-28T10:26:31.203884Z",
     "shell.execute_reply": "2020-09-28T10:26:31.204471Z"
    },
    "id": "VP4HV4wW9AuI",
    "jupyter": {
     "outputs_hidden": false
    },
    "outputId": "e15d3850-5338-401b-9655-882dc2b321c4",
    "pycharm": {
     "name": "#%%\n"
    }
   },
   "outputs": [
    {
     "name": "stdout",
     "output_type": "stream",
     "text": [
      "data of tensor is: \n",
      " [[ 1  2  3  4]\n",
      " [ 5  6  7  8]\n",
      " [ 9 10 11 12]]\n"
     ]
    }
   ],
   "source": [
    "print(\"data of tensor is: \\n\", a.numpy())"
   ]
  },
  {
   "cell_type": "markdown",
   "metadata": {
    "id": "MtujoPzv9AuL"
   },
   "source": [
    "`numpy` 陣列是 `python` 進行科學運算時，幾乎都會仰賴的資料格式。因此，`.numpy()` 此指令主要用於不同套件間的資料交換，或是希望列印出來的結果比較簡單使用。\n",
    "\n",
    "`torch` 內建了多種函數，以協助產生具有特別數值結構之張量："
   ]
  },
  {
   "cell_type": "code",
   "execution_count": 5,
   "metadata": {
    "colab": {
     "base_uri": "https://localhost:8080/",
     "height": 306
    },
    "execution": {
     "iopub.execute_input": "2020-09-28T10:26:31.209463Z",
     "iopub.status.busy": "2020-09-28T10:26:31.208850Z",
     "iopub.status.idle": "2020-09-28T10:26:31.213199Z",
     "shell.execute_reply": "2020-09-28T10:26:31.213727Z"
    },
    "id": "_1e7KRQC9AuL",
    "jupyter": {
     "outputs_hidden": false
    },
    "outputId": "178d4042-8ec1-4fcb-ebb5-b4356e78b86f",
    "pycharm": {
     "name": "#%%\n"
    }
   },
   "outputs": [
    {
     "name": "stdout",
     "output_type": "stream",
     "text": [
      "tensor with all elements being ones \n",
      " [[1.]\n",
      " [1.]\n",
      " [1.]\n",
      " [1.]]\n",
      "tensor with all elements being zeros \n",
      " [[0. 0. 0.]\n",
      " [0. 0. 0.]]\n",
      "identity-like tensor \n",
      " [[1. 0. 0. 0. 0.]\n",
      " [0. 1. 0. 0. 0.]\n",
      " [0. 0. 1. 0. 0.]]\n",
      "diagonal matrix \n",
      " [[1 0 0 0]\n",
      " [0 2 0 0]\n",
      " [0 0 3 0]\n",
      " [0 0 0 4]]\n"
     ]
    }
   ],
   "source": [
    "print(\"tensor with all elements being ones \\n\",\n",
    "      torch.ones(size = (4, 1)).numpy())\n",
    "print(\"tensor with all elements being zeros \\n\",\n",
    "      torch.zeros(size = (2, 3)).numpy())\n",
    "print(\"identity-like tensor \\n\",\n",
    "      torch.eye(n = 3, m = 5).numpy())\n",
    "print(\"diagonal matrix \\n\",\n",
    "      torch.diag(input = torch.tensor([1, 2, 3, 4])).numpy())"
   ]
  },
  {
   "cell_type": "markdown",
   "metadata": {
    "id": "eRYflb3s9AuN"
   },
   "source": [
    "`torch` 亦可隨機地產生資料，或是直接使用尚未起始化的資料："
   ]
  },
  {
   "cell_type": "code",
   "execution_count": 6,
   "metadata": {
    "colab": {
     "base_uri": "https://localhost:8080/",
     "height": 153
    },
    "execution": {
     "iopub.execute_input": "2020-09-28T10:26:31.217696Z",
     "iopub.status.busy": "2020-09-28T10:26:31.217024Z",
     "iopub.status.idle": "2020-09-28T10:26:31.220430Z",
     "shell.execute_reply": "2020-09-28T10:26:31.221149Z"
    },
    "id": "qSHYPt0B9AuO",
    "jupyter": {
     "outputs_hidden": false
    },
    "outputId": "934eea4a-e941-4ebd-f001-219502fe0b5c",
    "pycharm": {
     "name": "#%%\n"
    }
   },
   "outputs": [
    {
     "name": "stdout",
     "output_type": "stream",
     "text": [
      "tensor with random elements from uniform(0, 1) \n",
      " [[0.5682618  0.46832812 0.30580443 0.24334097 0.47047102 0.20063502]\n",
      " [0.7609221  0.8871692  0.84090495 0.49941212 0.65394753 0.97203535]]\n",
      "tensor with uninitialized data \n",
      " [[1.1e-44 0.0e+00 0.0e+00 0.0e+00 0.0e+00 0.0e+00]\n",
      " [0.0e+00 0.0e+00 0.0e+00 0.0e+00 0.0e+00 0.0e+00]]\n"
     ]
    }
   ],
   "source": [
    "print(\"tensor with random elements from uniform(0, 1) \\n\",\n",
    "      torch.rand(size = (2, 6)).numpy())\n",
    "print(\"tensor with uninitialized data \\n\",\n",
    "      torch.empty(size = (2, 6)).numpy())"
   ]
  },
  {
   "cell_type": "markdown",
   "metadata": {
    "id": "KGtzQJ8Q9AuQ"
   },
   "source": [
    "### 張量之形狀\n",
    "\n",
    "張量之形狀與形狀維度之數量，可透過張量物件的 `.size()`（或 `.shape`） 與 `dim` 方法來獲得"
   ]
  },
  {
   "cell_type": "code",
   "execution_count": 7,
   "metadata": {
    "colab": {
     "base_uri": "https://localhost:8080/",
     "height": 68
    },
    "execution": {
     "iopub.execute_input": "2020-09-28T10:26:31.225659Z",
     "iopub.status.busy": "2020-09-28T10:26:31.225001Z",
     "iopub.status.idle": "2020-09-28T10:26:31.227341Z",
     "shell.execute_reply": "2020-09-28T10:26:31.227804Z"
    },
    "id": "KU6P1KU49AuR",
    "jupyter": {
     "outputs_hidden": false
    },
    "outputId": "a4ad521d-1e0c-4381-c260-325ea8653a04",
    "pycharm": {
     "name": "#%%\n"
    }
   },
   "outputs": [
    {
     "name": "stdout",
     "output_type": "stream",
     "text": [
      "size of tensor is torch.Size([3, 4])\n",
      "size of tensor is torch.Size([3, 4])\n",
      "dim of tensor is 2\n"
     ]
    }
   ],
   "source": [
    "print(\"size of tensor is\", a.size())\n",
    "print(\"size of tensor is\", a.shape)\n",
    "print(\"dim of tensor is\", a.dim())"
   ]
  },
  {
   "cell_type": "markdown",
   "metadata": {
    "id": "36tAvwMJ9AuT"
   },
   "source": [
    "如果要對張量的形狀進行改變的話，可透過 `.view()` 此方法獲得"
   ]
  },
  {
   "cell_type": "code",
   "execution_count": 8,
   "metadata": {
    "colab": {
     "base_uri": "https://localhost:8080/",
     "height": 680
    },
    "execution": {
     "iopub.execute_input": "2020-09-28T10:26:31.232448Z",
     "iopub.status.busy": "2020-09-28T10:26:31.231748Z",
     "iopub.status.idle": "2020-09-28T10:26:31.235517Z",
     "shell.execute_reply": "2020-09-28T10:26:31.235936Z"
    },
    "id": "bLPQX1Kk9AuU",
    "jupyter": {
     "outputs_hidden": false
    },
    "outputId": "8d647ee2-0107-4ea1-932c-75660b0d4f9d",
    "pycharm": {
     "name": "#%%\n"
    }
   },
   "outputs": [
    {
     "name": "stdout",
     "output_type": "stream",
     "text": [
      "tensor with shape (4, 3): \n",
      " [[ 1  2  3]\n",
      " [ 4  5  6]\n",
      " [ 7  8  9]\n",
      " [10 11 12]]\n",
      "tensor with shape (2, 2, 3): \n",
      " [[[ 1  2  3]\n",
      "  [ 4  5  6]]\n",
      "\n",
      " [[ 7  8  9]\n",
      "  [10 11 12]]]\n",
      "tensor with shape (12, 1): \n",
      " [[ 1]\n",
      " [ 2]\n",
      " [ 3]\n",
      " [ 4]\n",
      " [ 5]\n",
      " [ 6]\n",
      " [ 7]\n",
      " [ 8]\n",
      " [ 9]\n",
      " [10]\n",
      " [11]\n",
      " [12]]\n",
      "tensor with shape (12, 1) by (-1, 1): \n",
      " [[ 1]\n",
      " [ 2]\n",
      " [ 3]\n",
      " [ 4]\n",
      " [ 5]\n",
      " [ 6]\n",
      " [ 7]\n",
      " [ 8]\n",
      " [ 9]\n",
      " [10]\n",
      " [11]\n",
      " [12]]\n",
      "tensor with shape (12,): \n",
      " [ 1  2  3  4  5  6  7  8  9 10 11 12]\n"
     ]
    }
   ],
   "source": [
    "print(\"tensor with shape (4, 3): \\n\",\n",
    "      a.view(size = (4, 3)).numpy())\n",
    "print(\"tensor with shape (2, 2, 3): \\n\",\n",
    "      a.view(size = (2, 2, 3)).numpy())\n",
    "print(\"tensor with shape (12, 1): \\n\",\n",
    "      a.view(size = (12, 1)).numpy())\n",
    "print(\"tensor with shape (12, 1) by (-1, 1): \\n\",\n",
    "      a.view(size = (-1, 1)).numpy())\n",
    "print(\"tensor with shape (12,): \\n\",\n",
    "      a.view(size = (12, )).numpy())\n"
   ]
  },
  {
   "cell_type": "markdown",
   "metadata": {
    "id": "OQ3-AgiN9AuW",
    "pycharm": {
     "name": "#%% md\n"
    }
   },
   "source": [
    "注意，`(12, 1)` 與 `(12,)` 兩種形狀是不一樣的，前者為2d的張量，後者為1d的張量。在進行張量操弄時，若將兩者混淆，很可能會帶來錯誤的計算結果。另外，-1表示該面向對應之尺寸，由其它面向決定。\n",
    "\n",
    "`.view()` 所回傳的張量，即為原本張量之資料在不同尺寸下對應之張量，`torch` 並未對資料進行拷貝（copy）。考慮以下的程式碼"
   ]
  },
  {
   "cell_type": "code",
   "execution_count": 9,
   "metadata": {
    "colab": {
     "base_uri": "https://localhost:8080/",
     "height": 136
    },
    "execution": {
     "iopub.execute_input": "2020-09-28T10:26:31.240201Z",
     "iopub.status.busy": "2020-09-28T10:26:31.239350Z",
     "iopub.status.idle": "2020-09-28T10:26:31.243082Z",
     "shell.execute_reply": "2020-09-28T10:26:31.242576Z"
    },
    "id": "qzTKjJGA9AuW",
    "outputId": "d0c29f45-b7e8-4842-e98b-4b1128e8bf03",
    "pycharm": {
     "name": "#%%\n"
    }
   },
   "outputs": [
    {
     "name": "stdout",
     "output_type": "stream",
     "text": [
      "tensor c is: \n",
      " [[0. 0.]\n",
      " [0. 0.]\n",
      " [0. 0.]\n",
      " [0. 0.]]\n",
      "tensor c is: \n",
      " [0. 0. 0. 0. 0. 0. 0. 0.]\n"
     ]
    }
   ],
   "source": [
    "c = torch.zeros(4, 2)\n",
    "d = c.view((8, ))\n",
    "print(\"tensor c is: \\n\",\n",
    "      c.numpy())\n",
    "print(\"tensor c is: \\n\",\n",
    "      d.numpy())"
   ]
  },
  {
   "cell_type": "markdown",
   "metadata": {
    "collapsed": false,
    "id": "NKh83wdl9AuY",
    "pycharm": {
     "name": "#%% md\n"
    }
   },
   "source": [
    "如預期地，`c` 與 `d` 內部有著相同的數值，僅差在尺寸有所不同。接著，我們將 `c` 的內部全部填入1，我們會觀察到 `d` 的數值也跟著改變了："
   ]
  },
  {
   "cell_type": "code",
   "execution_count": 10,
   "metadata": {
    "colab": {
     "base_uri": "https://localhost:8080/",
     "height": 136
    },
    "execution": {
     "iopub.execute_input": "2020-09-28T10:26:31.246654Z",
     "iopub.status.busy": "2020-09-28T10:26:31.245892Z",
     "iopub.status.idle": "2020-09-28T10:26:31.249047Z",
     "shell.execute_reply": "2020-09-28T10:26:31.249470Z"
    },
    "id": "nkdDGNxj9AuZ",
    "outputId": "a8d73bc4-0a6b-4eae-c64e-fadf2c84c2de",
    "pycharm": {
     "name": "#%%\n"
    }
   },
   "outputs": [
    {
     "name": "stdout",
     "output_type": "stream",
     "text": [
      "tensor c is: \n",
      " [[1. 1.]\n",
      " [1. 1.]\n",
      " [1. 1.]\n",
      " [1. 1.]]\n",
      "tensor d is: \n",
      " [1. 1. 1. 1. 1. 1. 1. 1.]\n"
     ]
    }
   ],
   "source": [
    "c.fill_(1)\n",
    "print(\"tensor c is: \\n\",\n",
    "      c.numpy())\n",
    "print(\"tensor d is: \\n\",\n",
    "      d.numpy())"
   ]
  },
  {
   "cell_type": "markdown",
   "metadata": {
    "id": "0vVgs3K29Aub",
    "pycharm": {
     "name": "#%% md\n"
    }
   },
   "source": [
    "這顯示 `c` 與 `d` 背後有著共享的資料內容。在此，讀者需特別注意的是，`torch` 中若有方法的尾端是底線 `_` 的話，則意味著該方法會取代原有物件中的資料，如 `c` 此張量內的數字直接被取代掉了，不需要另外寫 `c = c.fill_(1)`。\n",
    "\n",
    "\n",
    "在0.4版之後，`.reshape()` 此方法亦可改變張量的尺寸，但其有可能會對資料進行拷貝，不過，當資料本身的排列不具有連續性時，僅 `.reshape()` 能夠使用。因此，在 `torch` 的[官方文件](https://pytorch.org/docs/master/tensors.html#torch.Tensor.view)中，建議使用 `.reshape()`此指令。\n",
    "\n",
    "### 張量之資料類型\n",
    "張量的資料類型，可透過 `.dtype` 方法獲得"
   ]
  },
  {
   "cell_type": "code",
   "execution_count": 11,
   "metadata": {
    "colab": {
     "base_uri": "https://localhost:8080/",
     "height": 0
    },
    "execution": {
     "iopub.execute_input": "2020-09-28T10:26:31.252841Z",
     "iopub.status.busy": "2020-09-28T10:26:31.252212Z",
     "iopub.status.idle": "2020-09-28T10:26:31.256248Z",
     "shell.execute_reply": "2020-09-28T10:26:31.256938Z"
    },
    "id": "lCtbW1j_9Auc",
    "jupyter": {
     "outputs_hidden": false
    },
    "outputId": "16a3c8fa-a6b9-4f0c-db37-4b6c408662a5",
    "pycharm": {
     "name": "#%%\n"
    }
   },
   "outputs": [
    {
     "name": "stdout",
     "output_type": "stream",
     "text": [
      "data type of tensor is torch.int64\n"
     ]
    }
   ],
   "source": [
    "print(\"data type of tensor is\", a.dtype)"
   ]
  },
  {
   "cell_type": "markdown",
   "metadata": {
    "id": "N6ECGYQu9Aue",
    "pycharm": {
     "name": "#%% md\n"
    }
   },
   "source": [
    "若是要調整資料類型的話，則可透過 `.type()` 此方法："
   ]
  },
  {
   "cell_type": "code",
   "execution_count": 12,
   "metadata": {
    "colab": {
     "base_uri": "https://localhost:8080/",
     "height": 0
    },
    "execution": {
     "iopub.execute_input": "2020-09-28T10:26:31.261537Z",
     "iopub.status.busy": "2020-09-28T10:26:31.260837Z",
     "iopub.status.idle": "2020-09-28T10:26:31.264266Z",
     "shell.execute_reply": "2020-09-28T10:26:31.264740Z"
    },
    "id": "cGfi2Z2a9Aue",
    "jupyter": {
     "outputs_hidden": false
    },
    "outputId": "57380458-cd59-46b0-926b-c32930b62113",
    "pycharm": {
     "name": "#%%\n"
    }
   },
   "outputs": [
    {
     "name": "stdout",
     "output_type": "stream",
     "text": [
      "tensor([[ 1.,  2.,  3.,  4.],\n",
      "        [ 5.,  6.,  7.,  8.],\n",
      "        [ 9., 10., 11., 12.]], dtype=torch.float64)\n"
     ]
    }
   ],
   "source": [
    "print(a.type(torch.float64))"
   ]
  },
  {
   "cell_type": "markdown",
   "metadata": {
    "id": "IRso66O69Auh",
    "pycharm": {
     "name": "#%% md\n"
    }
   },
   "source": [
    "`torch` 內建多種資料類型，包含整數類型（如 `torch.int32` 與 `torch.int64`）與浮點數類型（如 `torch.float32` 與 `torch.float64`），完整的資料類型請見 [`torch.Tensor`文件](https://pytorch.org/docs/stable/tensors.html)之 `dtype` 欄位。\n",
    "\n",
    "在進行張量的數學運算時，請務必確認張量間的資料類型都是一致的，而 `torch` 常用之資料類型為 `torch.float32` 與 `torch.float64`，前者所需的記憶體較小，但運算結果的數值誤差較大。\n",
    "\n",
    "\n",
    "除了利用 `torch.tensor()` 搭配 `dtype` 產生張量外，另一種產生張量的方法為，直接利用特定資料型態張量的建構式，再利用特定的方法填入數值。例如，以下的程式碼在 CPU 先產稱了一資料類型為 `torch.float64` 之張量，再利用均勻分配隨機生成資料填入："
   ]
  },
  {
   "cell_type": "code",
   "execution_count": 13,
   "metadata": {
    "collapsed": false,
    "execution": {
     "iopub.execute_input": "2020-09-28T10:26:31.268431Z",
     "iopub.status.busy": "2020-09-28T10:26:31.267741Z",
     "iopub.status.idle": "2020-09-28T10:26:31.269629Z",
     "shell.execute_reply": "2020-09-28T10:26:31.270160Z"
    },
    "pycharm": {
     "name": "#%%\n"
    }
   },
   "outputs": [],
   "source": [
    "c = torch.FloatTensor(2, 4).uniform_()\n"
   ]
  },
  {
   "cell_type": "markdown",
   "metadata": {
    "id": "TAeKTEDl9Auh",
    "pycharm": {
     "name": "#%% md\n"
    }
   },
   "source": [
    "前述之張量建構風格，在後續討論到 GPU 計算時會很有幫助。不同資料類型之建構式，可同樣參考 [torch.Tensor文件](https://pytorch.org/docs/stable/tensors.html) 之 `CPU tensor` 欄位（若要在 GPU 上建構張量，則是參考 `GPU tensor` 之欄位）。\n",
    "\n",
    "\n",
    "## 張量之操弄"
   ]
  },
  {
   "cell_type": "markdown",
   "metadata": {
    "id": "ZZfIKPlD9Aui"
   },
   "source": [
    "### 張量之切片\n",
    "\n",
    "若要擷取一張量特定的行（row）或列（column）的話，則可透過切片（slicing）的功能獲得。`torch` 張量的切片方式，與 `numpy` 類似，皆使用中括號 `[]`，再搭配所欲擷取資料行列的索引（index）獲得。"
   ]
  },
  {
   "cell_type": "code",
   "execution_count": 14,
   "metadata": {
    "colab": {
     "base_uri": "https://localhost:8080/",
     "height": 0
    },
    "execution": {
     "iopub.execute_input": "2020-09-28T10:26:31.275309Z",
     "iopub.status.busy": "2020-09-28T10:26:31.274606Z",
     "iopub.status.idle": "2020-09-28T10:26:31.276836Z",
     "shell.execute_reply": "2020-09-28T10:26:31.277306Z"
    },
    "id": "34zpU56v9Aui",
    "jupyter": {
     "outputs_hidden": false
    },
    "outputId": "45365e96-8031-4ea3-dd39-980cb54a9bbd",
    "pycharm": {
     "name": "#%%\n"
    }
   },
   "outputs": [
    {
     "name": "stdout",
     "output_type": "stream",
     "text": [
      "extract 1st row: \n",
      " [1 2 3 4]\n",
      "extract 1st and 2nd rows: \n",
      " [[1 2 3 4]\n",
      " [5 6 7 8]]\n",
      "extract 2nd column: \n",
      " [ 2  6 10]\n",
      "extract 2nd and 3rd columns: \n",
      " [[ 2  3]\n",
      " [ 6  7]\n",
      " [10 11]]\n"
     ]
    }
   ],
   "source": [
    "print(\"extract 1st row: \\n\",\n",
    "      a[0, :].numpy())\n",
    "print(\"extract 1st and 2nd rows: \\n\",\n",
    "      a[:2, :].numpy())\n",
    "print(\"extract 2nd column: \\n\",\n",
    "      a[:, 1].numpy())\n",
    "print(\"extract 2nd and 3rd columns: \\n\",\n",
    "      a[:, 1:3].numpy())"
   ]
  },
  {
   "cell_type": "markdown",
   "metadata": {
    "id": "VqlvOjlH9Auk",
    "pycharm": {
     "name": "#%% md\n"
    }
   },
   "source": [
    "進行切片時，有幾項重點需要注意。\n",
    "\n",
    "+ 各面向之索引從0開始。\n",
    "+ 負號表示從結尾數回來，如 `-1` 表示最後一個位置。\n",
    "+ `:`表示該面向所有元素皆挑選。\n",
    "+ `start:stop` 表示從 `start` 開始挑選到 `stop-1`。\n",
    "+ `start:stop:step` 表示從 `start` 開始到 `stop-1`，間隔 `step` 挑選。"
   ]
  },
  {
   "cell_type": "markdown",
   "metadata": {
    "id": "rhhG55d59Auk",
    "pycharm": {
     "name": "#%% md\n"
    }
   },
   "source": [
    "### 張量之串接\n",
    "多個張量在維度可對應之前提下，可透過 `torch.cat` 串接"
   ]
  },
  {
   "cell_type": "code",
   "execution_count": 15,
   "metadata": {
    "colab": {
     "base_uri": "https://localhost:8080/",
     "height": 0
    },
    "execution": {
     "iopub.execute_input": "2020-09-28T10:26:31.280944Z",
     "iopub.status.busy": "2020-09-28T10:26:31.280320Z",
     "iopub.status.idle": "2020-09-28T10:26:31.283242Z",
     "shell.execute_reply": "2020-09-28T10:26:31.283718Z"
    },
    "id": "-eQxRvjK9Aul",
    "jupyter": {
     "outputs_hidden": false
    },
    "outputId": "f1be9142-161e-47e5-97f9-2f525e609e3a",
    "pycharm": {
     "name": "#%%\n"
    }
   },
   "outputs": [
    {
     "name": "stdout",
     "output_type": "stream",
     "text": [
      "vertical concatenation \n",
      " [[ 1  2  3  4]\n",
      " [ 5  6  7  8]\n",
      " [ 9 10 11 12]\n",
      " [ 1  2  3  4]\n",
      " [ 5  6  7  8]\n",
      " [ 9 10 11 12]]\n",
      "horizontal concatenation \n",
      " [[ 1  2  3  4  1  2  3  4]\n",
      " [ 5  6  7  8  5  6  7  8]\n",
      " [ 9 10 11 12  9 10 11 12]]\n"
     ]
    }
   ],
   "source": [
    "print(\"vertical concatenation \\n\",\n",
    "      torch.cat([a, a], dim = 0).numpy())\n",
    "print(\"horizontal concatenation \\n\",\n",
    "      torch.cat([a, a], dim = 1).numpy())"
   ]
  },
  {
   "cell_type": "markdown",
   "metadata": {
    "id": "iu5qantc9Auo"
   },
   "source": [
    "## 張量之運算\n",
    "考慮以下 `a` 與 `b` 兩張量"
   ]
  },
  {
   "cell_type": "code",
   "execution_count": 16,
   "metadata": {
    "colab": {
     "base_uri": "https://localhost:8080/",
     "height": 153
    },
    "execution": {
     "iopub.execute_input": "2020-09-28T10:26:31.288037Z",
     "iopub.status.busy": "2020-09-28T10:26:31.287374Z",
     "iopub.status.idle": "2020-09-28T10:26:31.290609Z",
     "shell.execute_reply": "2020-09-28T10:26:31.291100Z"
    },
    "id": "23l3g8eK9Auo",
    "jupyter": {
     "outputs_hidden": false
    },
    "outputId": "887134af-089e-4a80-c81b-278eb41c8aeb",
    "pycharm": {
     "name": "#%%\n"
    }
   },
   "outputs": [
    {
     "name": "stdout",
     "output_type": "stream",
     "text": [
      "tensor a is \n",
      " [[1. 2.]\n",
      " [3. 4.]\n",
      " [5. 6.]]\n",
      "tensor b is \n",
      " [[1. 2.]\n",
      " [1. 2.]\n",
      " [1. 2.]]\n"
     ]
    }
   ],
   "source": [
    "a = torch.tensor(data = [[1, 2], [3, 4], [5, 6]],\n",
    "                dtype = torch.float64)\n",
    "b = torch.tensor(data = [[1, 2], [1, 2], [1, 2]],\n",
    "                dtype = torch.float64)\n",
    "print(\"tensor a is \\n\", a.numpy())\n",
    "print(\"tensor b is \\n\", b.numpy())\n"
   ]
  },
  {
   "cell_type": "markdown",
   "metadata": {
    "id": "4DbB7FLK9Auq",
    "pycharm": {
     "name": "#%% md\n"
    }
   },
   "source": [
    "我們將使用 `a` 與 `b` 來展示如何使用 `torch` 進行張量間的計算。"
   ]
  },
  {
   "cell_type": "markdown",
   "metadata": {
    "id": "Jc5ZK-x19Aur"
   },
   "source": [
    "### 張量元素對元素之運算\n",
    "透過 `torch` 的數學函數，可進行張量元素對元素的四則運算"
   ]
  },
  {
   "cell_type": "code",
   "execution_count": 17,
   "metadata": {
    "colab": {
     "base_uri": "https://localhost:8080/",
     "height": 0
    },
    "execution": {
     "iopub.execute_input": "2020-09-28T10:26:31.295101Z",
     "iopub.status.busy": "2020-09-28T10:26:31.294413Z",
     "iopub.status.idle": "2020-09-28T10:26:31.299595Z",
     "shell.execute_reply": "2020-09-28T10:26:31.300106Z"
    },
    "id": "TZa753SL9Aur",
    "jupyter": {
     "outputs_hidden": false
    },
    "outputId": "0dac1de8-0d7d-4426-dd1d-6e4a96a6fec9",
    "pycharm": {
     "name": "#%%\n"
    }
   },
   "outputs": [
    {
     "name": "stdout",
     "output_type": "stream",
     "text": [
      "element-wise add \n",
      " tensor([[2., 4.],\n",
      "        [4., 6.],\n",
      "        [6., 8.]], dtype=torch.float64)\n",
      "element-wise subtract \n",
      " tensor([[0., 0.],\n",
      "        [2., 2.],\n",
      "        [4., 4.]], dtype=torch.float64)\n",
      "element-wise multiply \n",
      " tensor([[ 1.,  4.],\n",
      "        [ 3.,  8.],\n",
      "        [ 5., 12.]], dtype=torch.float64)\n",
      "element-wise divide \n",
      " tensor([[1., 1.],\n",
      "        [3., 2.],\n",
      "        [5., 3.]], dtype=torch.float64)\n"
     ]
    }
   ],
   "source": [
    "print(\"element-wise add \\n\",\n",
    "      torch.add(a, b))\n",
    "print(\"element-wise subtract \\n\",\n",
    "      torch.sub(a, b))\n",
    "print(\"element-wise multiply \\n\",\n",
    "      torch.mul(a, b))\n",
    "print(\"element-wise divide \\n\",\n",
    "      torch.div(a, b))"
   ]
  },
  {
   "cell_type": "markdown",
   "metadata": {
    "id": "ZH5s1OBS9Aut",
    "pycharm": {
     "name": "#%% md\n"
    }
   },
   "source": [
    "前述採用的函數，皆可取代為其所對應之運算子計算"
   ]
  },
  {
   "cell_type": "code",
   "execution_count": 18,
   "metadata": {
    "colab": {
     "base_uri": "https://localhost:8080/",
     "height": 0
    },
    "execution": {
     "iopub.execute_input": "2020-09-28T10:26:31.303687Z",
     "iopub.status.busy": "2020-09-28T10:26:31.303043Z",
     "iopub.status.idle": "2020-09-28T10:26:31.310158Z",
     "shell.execute_reply": "2020-09-28T10:26:31.310583Z"
    },
    "id": "rLrvLPV-9Aut",
    "jupyter": {
     "outputs_hidden": false
    },
    "outputId": "7650b084-9bfe-40fe-faec-c53604926ab2",
    "pycharm": {
     "name": "#%%\n"
    }
   },
   "outputs": [
    {
     "name": "stdout",
     "output_type": "stream",
     "text": [
      "element-wise add \n",
      " tensor([[2., 4.],\n",
      "        [4., 6.],\n",
      "        [6., 8.]], dtype=torch.float64)\n",
      "element-wise subtract \n",
      " tensor([[0., 0.],\n",
      "        [2., 2.],\n",
      "        [4., 4.]], dtype=torch.float64)\n",
      "element-wise multiply \n",
      " tensor([[ 1.,  4.],\n",
      "        [ 3.,  8.],\n",
      "        [ 5., 12.]], dtype=torch.float64)\n",
      "element-wise divide \n",
      " tensor([[1., 1.],\n",
      "        [3., 2.],\n",
      "        [5., 3.]], dtype=torch.float64)\n"
     ]
    }
   ],
   "source": [
    "print(\"element-wise add \\n\", a + b)\n",
    "print(\"element-wise subtract \\n\", a - b)\n",
    "print(\"element-wise multiply \\n\", a * b)\n",
    "print(\"element-wise divide \\n\", a / b)"
   ]
  },
  {
   "cell_type": "markdown",
   "metadata": {
    "id": "LHWAZ7Eb9Auv",
    "pycharm": {
     "name": "#%% md\n"
    }
   },
   "source": [
    "若需要進行絕對值、對數、指數等較為進階之數學運算，可以至 [troch官方文件](https://pytorch.org/docs/stable/torch.html#math-operations) 此模組中尋找對應的數學函數。"
   ]
  },
  {
   "cell_type": "markdown",
   "metadata": {
    "id": "lel6BArc9Auw",
    "pycharm": {
     "name": "#%% md\n"
    }
   },
   "source": [
    "### 張量線性代數之運算\n",
    "除了簡單的四則運算外，當張量的 `dim` 為2時，`torch` 提供了進行線性代數（linear algebra）相關的函數，如\n",
    "\n",
    "+ 矩陣轉置（matrix transpose）"
   ]
  },
  {
   "cell_type": "code",
   "execution_count": 19,
   "metadata": {
    "colab": {
     "base_uri": "https://localhost:8080/",
     "height": 0
    },
    "execution": {
     "iopub.execute_input": "2020-09-28T10:26:31.314499Z",
     "iopub.status.busy": "2020-09-28T10:26:31.313647Z",
     "iopub.status.idle": "2020-09-28T10:26:31.317172Z",
     "shell.execute_reply": "2020-09-28T10:26:31.317671Z"
    },
    "id": "zb-vLX2X9Auw",
    "jupyter": {
     "outputs_hidden": false
    },
    "outputId": "c86433e9-0dde-4a27-9753-fe226b5ffaef",
    "pycharm": {
     "name": "#%%\n"
    }
   },
   "outputs": [
    {
     "name": "stdout",
     "output_type": "stream",
     "text": [
      "transpose of a is \n",
      " [[1. 3. 5.]\n",
      " [2. 4. 6.]]\n",
      "transpose of a is \n",
      " [[1. 3. 5.]\n",
      " [2. 4. 6.]]\n"
     ]
    }
   ],
   "source": [
    "a_t = torch.transpose(input=a, dim0=0, dim1=1)\n",
    "print(\"transpose of a is \\n\",\n",
    "      a_t.numpy())\n",
    "print(\"transpose of a is \\n\",\n",
    "      a.t().numpy())"
   ]
  },
  {
   "cell_type": "markdown",
   "metadata": {
    "id": "e083H5jH9Auy",
    "pycharm": {
     "name": "#%% md\n"
    }
   },
   "source": [
    "+ 矩陣乘法（matrix multiplication）"
   ]
  },
  {
   "cell_type": "code",
   "execution_count": 20,
   "metadata": {
    "colab": {
     "base_uri": "https://localhost:8080/",
     "height": 0
    },
    "execution": {
     "iopub.execute_input": "2020-09-28T10:26:31.321156Z",
     "iopub.status.busy": "2020-09-28T10:26:31.320387Z",
     "iopub.status.idle": "2020-09-28T10:26:31.324100Z",
     "shell.execute_reply": "2020-09-28T10:26:31.324556Z"
    },
    "id": "Hch3BB9k9Auy",
    "jupyter": {
     "outputs_hidden": false
    },
    "outputId": "eb313781-502c-4921-ebb6-913db8ab27ce",
    "pycharm": {
     "name": "#%%\n"
    }
   },
   "outputs": [
    {
     "name": "stdout",
     "output_type": "stream",
     "text": [
      "c = a_t @ a is \n",
      " [[35. 44.]\n",
      " [44. 56.]]\n"
     ]
    }
   ],
   "source": [
    "c = a_t @ a\n",
    "print(\"c = a_t @ a is \\n\",\n",
    "      c.numpy())"
   ]
  },
  {
   "cell_type": "markdown",
   "metadata": {
    "id": "RB0YBjW-9Au0"
   },
   "source": [
    "+ 反矩陣（matrix inverse）"
   ]
  },
  {
   "cell_type": "code",
   "execution_count": 21,
   "metadata": {
    "colab": {
     "base_uri": "https://localhost:8080/",
     "height": 0
    },
    "execution": {
     "iopub.execute_input": "2020-09-28T10:26:31.328593Z",
     "iopub.status.busy": "2020-09-28T10:26:31.327891Z",
     "iopub.status.idle": "2020-09-28T10:26:31.331255Z",
     "shell.execute_reply": "2020-09-28T10:26:31.331713Z"
    },
    "id": "8BEn-HfR9Au0",
    "jupyter": {
     "outputs_hidden": false
    },
    "outputId": "c9bc9484-df69-45cc-f2c7-895d70f39526",
    "pycharm": {
     "name": "#%%\n"
    }
   },
   "outputs": [
    {
     "name": "stdout",
     "output_type": "stream",
     "text": [
      "inverse of c is \n",
      " [[ 2.33333333 -1.83333333]\n",
      " [-1.83333333  1.45833333]]\n",
      "check for inverse (left) \n",
      " [[ 1.00000000e+00 -1.42108547e-14]\n",
      " [ 0.00000000e+00  1.00000000e+00]]\n",
      "check for inverse (right) \n",
      " [[1. 0.]\n",
      " [0. 1.]]\n"
     ]
    }
   ],
   "source": [
    "c_inv = torch.inverse(input = c)\n",
    "print(\"inverse of c is \\n\",\n",
    "      c_inv.numpy()) # c @ c_inv should be identity matrix\n",
    "print(\"check for inverse (left) \\n\",\n",
    "      (c_inv @ c).numpy())\n",
    "print(\"check for inverse (right) \\n\",\n",
    "      (c @ c_inv).numpy())"
   ]
  },
  {
   "cell_type": "markdown",
   "metadata": {
    "id": "Zrzmva0W9Au3",
    "pycharm": {
     "name": "#%% md\n"
    }
   },
   "source": [
    "+ Cholesky 拆解（Cholesky decomposition）"
   ]
  },
  {
   "cell_type": "code",
   "execution_count": 22,
   "metadata": {
    "colab": {
     "base_uri": "https://localhost:8080/",
     "height": 0
    },
    "execution": {
     "iopub.execute_input": "2020-09-28T10:26:31.335535Z",
     "iopub.status.busy": "2020-09-28T10:26:31.334849Z",
     "iopub.status.idle": "2020-09-28T10:26:31.340172Z",
     "shell.execute_reply": "2020-09-28T10:26:31.340761Z"
    },
    "id": "CAHj1B_39Au4",
    "jupyter": {
     "outputs_hidden": false
    },
    "outputId": "e57b43ab-f887-48d2-f5c7-23ac970f1c7c",
    "pycharm": {
     "name": "#%%\n"
    }
   },
   "outputs": [
    {
     "name": "stdout",
     "output_type": "stream",
     "text": [
      "Cholesky factor of c is \n",
      " [[5.91607978 0.        ]\n",
      " [7.43735744 0.82807867]]\n",
      "check for Cholesky decomposition \n",
      " [[35. 44.]\n",
      " [44. 56.]]\n"
     ]
    }
   ],
   "source": [
    "c_chol = torch.cholesky(input = c)\n",
    "print(\"Cholesky factor of c is \\n\",\n",
    "      c_chol.numpy())\n",
    "print(\"check for Cholesky decomposition \\n\",\n",
    "      (c_chol @ torch.transpose(c_chol, 0 , 1)).numpy())"
   ]
  },
  {
   "cell_type": "markdown",
   "metadata": {
    "id": "5xdec3fR9Au5"
   },
   "source": [
    "+ 特徵拆解（eigen-decomposition）"
   ]
  },
  {
   "cell_type": "code",
   "execution_count": 23,
   "metadata": {
    "colab": {
     "base_uri": "https://localhost:8080/",
     "height": 0
    },
    "execution": {
     "iopub.execute_input": "2020-09-28T10:26:31.345321Z",
     "iopub.status.busy": "2020-09-28T10:26:31.344594Z",
     "iopub.status.idle": "2020-09-28T10:26:31.348328Z",
     "shell.execute_reply": "2020-09-28T10:26:31.348829Z"
    },
    "id": "NXgb-fb99Au6",
    "jupyter": {
     "outputs_hidden": false
    },
    "outputId": "761d22a8-9244-43c4-9e17-4788242f5431",
    "pycharm": {
     "name": "#%%\n"
    }
   },
   "outputs": [
    {
     "name": "stdout",
     "output_type": "stream",
     "text": [
      "eigenvalue of c is \n",
      " [ 0.26450509 90.73549491]\n",
      "eigenvector of c is \n",
      " [[-0.78489445  0.61962948]\n",
      " [ 0.61962948  0.78489445]]\n",
      "check for eigen-decomposition \n",
      " [[35. 44.]\n",
      " [44. 56.]]\n"
     ]
    }
   ],
   "source": [
    "e, v = torch.symeig(input = c, eigenvectors=True)\n",
    "print(\"eigenvalue of c is \\n\",\n",
    "      e.numpy())\n",
    "print(\"eigenvector of c is \\n\",\n",
    "      v.numpy())\n",
    "print(\"check for eigen-decomposition \\n\",\n",
    "      (v @ torch.diag(e) @\n",
    "       torch.transpose(v, 0 , 1)).numpy())\n"
   ]
  },
  {
   "cell_type": "markdown",
   "metadata": {
    "id": "75Bo_Hef9Au8"
   },
   "source": [
    "+ 奇異值拆解（singular value decomposition）"
   ]
  },
  {
   "cell_type": "code",
   "execution_count": 24,
   "metadata": {
    "colab": {
     "base_uri": "https://localhost:8080/",
     "height": 0
    },
    "execution": {
     "iopub.execute_input": "2020-09-28T10:26:31.353086Z",
     "iopub.status.busy": "2020-09-28T10:26:31.352469Z",
     "iopub.status.idle": "2020-09-28T10:26:31.357004Z",
     "shell.execute_reply": "2020-09-28T10:26:31.357500Z"
    },
    "id": "L_Wpt4Uq9Au8",
    "jupyter": {
     "outputs_hidden": false
    },
    "outputId": "bf7244a5-735d-4ab9-be28-637cb020d973",
    "pycharm": {
     "name": "#%%\n"
    }
   },
   "outputs": [
    {
     "name": "stdout",
     "output_type": "stream",
     "text": [
      "singular value of a is \n",
      " [9.52551809 0.51430058]\n",
      "left singular vector of a is \n",
      " [[-0.2298477   0.88346102]\n",
      " [-0.52474482  0.24078249]\n",
      " [-0.81964194 -0.40189603]]\n",
      "right singular vector of a is \n",
      " [[-0.61962948 -0.78489445]\n",
      " [-0.78489445  0.61962948]]\n",
      "check for singular value decomposition \n",
      " [[1. 2.]\n",
      " [3. 4.]\n",
      " [5. 6.]]\n"
     ]
    }
   ],
   "source": [
    "u, s, v = torch.svd(input = a)\n",
    "print(\"singular value of a is \\n\",\n",
    "      s.numpy())\n",
    "print(\"left singular vector of a is \\n\",\n",
    "      u.numpy())\n",
    "print(\"right singular vector of a is \\n\",\n",
    "      v.numpy())\n",
    "print(\"check for singular value decomposition \\n\",\n",
    "      (u @ torch.diag(s) @\n",
    "       torch.transpose(v, 0, 1)).numpy())\n"
   ]
  },
  {
   "cell_type": "markdown",
   "metadata": {
    "id": "_A-Y8qaR9Au-",
    "pycharm": {
     "name": "#%% md\n"
    }
   },
   "source": [
    "### 對張量之數值進行摘要\n",
    "`torch` 提供了一些化約（reduction）的函數，對張量內的數值進行摘要"
   ]
  },
  {
   "cell_type": "code",
   "execution_count": 25,
   "metadata": {
    "colab": {
     "base_uri": "https://localhost:8080/",
     "height": 0
    },
    "execution": {
     "iopub.execute_input": "2020-09-28T10:26:31.361693Z",
     "iopub.status.busy": "2020-09-28T10:26:31.361035Z",
     "iopub.status.idle": "2020-09-28T10:26:31.363942Z",
     "shell.execute_reply": "2020-09-28T10:26:31.364408Z"
    },
    "id": "np_L8ttn9Au-",
    "jupyter": {
     "outputs_hidden": false
    },
    "outputId": "3dfaa576-b106-4749-911e-abe1237635d9",
    "pycharm": {
     "name": "#%%\n"
    }
   },
   "outputs": [
    {
     "name": "stdout",
     "output_type": "stream",
     "text": [
      "calculate mean \n",
      " 3.5\n",
      "calculate standard deviation \n",
      " 1.8708286933869707\n",
      "calculate max \n",
      " 6.0\n",
      "calculate min \n",
      " 1.0\n"
     ]
    }
   ],
   "source": [
    "print(\"calculate mean \\n\",\n",
    "      torch.mean(input = a).numpy())\n",
    "print(\"calculate standard deviation \\n\",\n",
    "      torch.std(input = a).numpy())\n",
    "print(\"calculate max \\n\",\n",
    "      torch.max(input = a).numpy())\n",
    "print(\"calculate min \\n\",\n",
    "      torch.min(input = a).numpy())"
   ]
  },
  {
   "cell_type": "markdown",
   "metadata": {
    "id": "8G19P0vK9AvA",
    "pycharm": {
     "name": "#%% md\n"
    }
   },
   "source": [
    "我們亦可對張量的各面向，進行前述的摘要。以平均數為例："
   ]
  },
  {
   "cell_type": "code",
   "execution_count": 26,
   "metadata": {
    "colab": {
     "base_uri": "https://localhost:8080/",
     "height": 0
    },
    "execution": {
     "iopub.execute_input": "2020-09-28T10:26:31.367934Z",
     "iopub.status.busy": "2020-09-28T10:26:31.367342Z",
     "iopub.status.idle": "2020-09-28T10:26:31.370751Z",
     "shell.execute_reply": "2020-09-28T10:26:31.371201Z"
    },
    "id": "EM8PxB6p9AvA",
    "jupyter": {
     "outputs_hidden": false
    },
    "outputId": "5f48f967-ee53-489a-f0c5-6289d17ffbd6",
    "pycharm": {
     "name": "#%%\n"
    }
   },
   "outputs": [
    {
     "name": "stdout",
     "output_type": "stream",
     "text": [
      "calculate mean for each column \n",
      " [3. 4.]\n",
      "calculate mean for each row \n",
      " [1.5 3.5 5.5]\n"
     ]
    }
   ],
   "source": [
    "print(\"calculate mean for each column \\n\",\n",
    "      torch.mean(input = a, dim=0).numpy())\n",
    "print(\"calculate mean for each row \\n\",\n",
    "      torch.mean(input = a, dim=1).numpy())"
   ]
  },
  {
   "cell_type": "markdown",
   "metadata": {
    "collapsed": false,
    "id": "izBk31if9AvD",
    "pycharm": {
     "name": "#%% md\n"
    }
   },
   "source": [
    "其它的化約函數，可以參考[官方文件](https://pytorch.org/docs/stable/torch.html#reduction-ops)。\n",
    "\n",
    "### GPU運算\n",
    "當執行程式碼之機器支援GPU運算時，`torch` 可利用GPU獲得高效能之運算。而機器是否具有GPU 支援，可透過 `torch.cuda.is_available()` 此指令進行判定。若使用 Google 的 Colab 服務，進行 GPU 運算需要點選 `Runtime\\Change runtime type`，在 `Hardware accelerator` 處點選 `GPU`，才會轉移到具有 GPU 之機器進行計算。\n",
    "\n",
    "為了瞭解 GPU 在計算上的幫助，我們撰寫了一個函數 `math_speed_test`，其內部生成一 `(n, n)` 之方陣 `a`，接著對其連續進行 `iter_max` 次的連加，並記錄完成整個工作所需的時間。"
   ]
  },
  {
   "cell_type": "code",
   "execution_count": 27,
   "metadata": {
    "execution": {
     "iopub.execute_input": "2020-09-28T10:26:31.376044Z",
     "iopub.status.busy": "2020-09-28T10:26:31.375330Z",
     "iopub.status.idle": "2020-09-28T10:26:31.377045Z",
     "shell.execute_reply": "2020-09-28T10:26:31.377576Z"
    },
    "id": "tMIh8FFX-CF2"
   },
   "outputs": [],
   "source": [
    "import time\n",
    "def math_speed_test(n, iter_max, device):\n",
    "    a = torch.zeros((n, n), dtype = torch.float64).to(device)\n",
    "    start_time = time.time()\n",
    "    for _ in range(iter_max):\n",
    "        a += a\n",
    "    end_time = time.time()\n",
    "    elapsed_time = end_time - start_time\n",
    "    print(device.upper(), 'time =', elapsed_time)"
   ]
  },
  {
   "cell_type": "markdown",
   "metadata": {
    "collapsed": false,
    "pycharm": {
     "name": "#%% md\n"
    }
   },
   "source": [
    "`torch` 進行 GPU 運算的關鍵步驟在於，利用 `.to(\"cuda\")` 方法將資料送到 GPU 上，而如果將指令改為 `.to(\"cpu\")`，則意味著我們將使用一般的 CPU 進行運算。\n",
    "\n",
    "接下來的程式碼，我們將 `iter_max` 設為 100，`n` 設為 `10`、`100`、以及`1000`，觀察計算時間的變化（注意，下述程式碼得在支援 GPU 之機器上執行，才可以看見 GPU 之計算時間，否則僅會呈現 CPU 的結果）："
   ]
  },
  {
   "cell_type": "code",
   "execution_count": 28,
   "metadata": {
    "colab": {
     "base_uri": "https://localhost:8080/",
     "height": 170
    },
    "execution": {
     "iopub.execute_input": "2020-09-28T10:26:31.381617Z",
     "iopub.status.busy": "2020-09-28T10:26:31.380928Z",
     "iopub.status.idle": "2020-09-28T10:26:31.445240Z",
     "shell.execute_reply": "2020-09-28T10:26:31.445707Z"
    },
    "id": "la-V5Bg99WfT",
    "outputId": "bb1fdb36-85dd-401c-ec2a-4d20c99426ed"
   },
   "outputs": [
    {
     "name": "stdout",
     "output_type": "stream",
     "text": [
      "n = 10\n",
      "CPU time = 0.0007619857788085938\n",
      "n = 100\n",
      "CPU time = 0.0010590553283691406\n",
      "n = 1000\n"
     ]
    },
    {
     "name": "stdout",
     "output_type": "stream",
     "text": [
      "CPU time = 0.055075883865356445\n"
     ]
    }
   ],
   "source": [
    "iter_max = 100\n",
    "for n in [10, 100, 1000]:\n",
    "    print(\"n =\", n)\n",
    "    math_speed_test(n = n, iter_max = iter_max, device = \"cpu\")\n",
    "    if torch.cuda.is_available():\n",
    "        math_speed_test(n = n, iter_max = iter_max, device = \"cuda\")"
   ]
  },
  {
   "cell_type": "markdown",
   "metadata": {
    "id": "sKvw1_YJBy4f"
   },
   "source": [
    "大體上，我們可以觀察到在 `n` 數值為 `10` 或 `100` 時，GPU並沒有顯著的幫助，甚至可能表現得更差。然而，在 `n = 1000`，GPU 可大幅提升計算的速度。\n",
    "\n",
    "除了數學運算外，隨機亂數之生成亦可透過 GPU 顯著的加速，可參考以下之程式碼："
   ]
  },
  {
   "cell_type": "code",
   "execution_count": 29,
   "metadata": {
    "collapsed": false,
    "execution": {
     "iopub.execute_input": "2020-09-28T10:26:31.452071Z",
     "iopub.status.busy": "2020-09-28T10:26:31.451388Z",
     "iopub.status.idle": "2020-09-28T10:26:32.075803Z",
     "shell.execute_reply": "2020-09-28T10:26:32.076711Z"
    },
    "pycharm": {
     "name": "#%%\n"
    }
   },
   "outputs": [
    {
     "name": "stdout",
     "output_type": "stream",
     "text": [
      "n = 10\n"
     ]
    },
    {
     "name": "stdout",
     "output_type": "stream",
     "text": [
      "CPU time = 0.0011761188507080078\n",
      "n = 100\n",
      "CPU time = 0.006195068359375\n",
      "n = 1000\n"
     ]
    },
    {
     "name": "stdout",
     "output_type": "stream",
     "text": [
      "CPU time = 0.6125481128692627\n"
     ]
    }
   ],
   "source": [
    "def random_speed_test(n, iter_max, device):\n",
    "    start_time = time.time()\n",
    "    for _ in range(iter_max):\n",
    "        if device == \"cpu\":\n",
    "            torch.FloatTensor(n, n).uniform_()\n",
    "        elif device == \"cuda\":\n",
    "            torch.cuda.FloatTensor(n, n).uniform_()\n",
    "        else:\n",
    "            None\n",
    "    end_time = time.time()\n",
    "    elapsed_time = end_time - start_time\n",
    "    print(device.upper(), 'time =', elapsed_time)\n",
    "\n",
    "iter_max = 100\n",
    "for n in [10, 100, 1000]:\n",
    "    print(\"n =\", n)\n",
    "    random_speed_test(n = n, iter_max = iter_max, device = \"cpu\")\n",
    "    if torch.cuda.is_available():\n",
    "        random_speed_test(n = n, iter_max = iter_max, device = \"cuda\")"
   ]
  },
  {
   "cell_type": "markdown",
   "metadata": {
    "collapsed": false,
    "pycharm": {
     "name": "#%% md\n"
    }
   },
   "source": [
    "在實務上，我們可以透過以下的程式碼來檢驗機器是否有可供使用的GPU，以動態決定 `device` 應為何："
   ]
  },
  {
   "cell_type": "code",
   "execution_count": 30,
   "metadata": {
    "colab": {
     "base_uri": "https://localhost:8080/",
     "height": 34
    },
    "execution": {
     "iopub.execute_input": "2020-09-28T10:26:32.081939Z",
     "iopub.status.busy": "2020-09-28T10:26:32.081251Z",
     "iopub.status.idle": "2020-09-28T10:26:32.084101Z",
     "shell.execute_reply": "2020-09-28T10:26:32.083607Z"
    },
    "id": "hyUHfRLsBw0U",
    "outputId": "664fc501-4223-4d96-9d8a-49ecbbe2a22a"
   },
   "outputs": [
    {
     "name": "stdout",
     "output_type": "stream",
     "text": [
      "cpu\n"
     ]
    }
   ],
   "source": [
    "device = torch.device('cuda' if torch.cuda.is_available() else 'cpu')\n",
    "print(device)"
   ]
  },
  {
   "cell_type": "markdown",
   "metadata": {
    "id": "Tnt7SwLY9AvF",
    "pycharm": {
     "name": "#%% md\n"
    }
   },
   "source": [
    "## 實徵範例"
   ]
  },
  {
   "cell_type": "markdown",
   "metadata": {
    "id": "NNZXr9v_9AvF"
   },
   "source": [
    "### 產生線性迴歸資料\n",
    "\n",
    "在開始之前，我們先設定一種子，以讓後續的亂數生成都能夠獲得相同的結果（不過，這裡的 `manual_seed` 僅適用於CPU，若使用GPU，請改為 `torch.cuda.manual_seed`）。"
   ]
  },
  {
   "cell_type": "code",
   "execution_count": 31,
   "metadata": {
    "colab": {
     "base_uri": "https://localhost:8080/",
     "height": 34
    },
    "execution": {
     "iopub.execute_input": "2020-09-28T10:26:32.087577Z",
     "iopub.status.busy": "2020-09-28T10:26:32.086987Z",
     "iopub.status.idle": "2020-09-28T10:26:32.094578Z",
     "shell.execute_reply": "2020-09-28T10:26:32.095258Z"
    },
    "id": "nNs8m0DQ9AvG",
    "outputId": "89186214-e662-441e-c374-589a55db311a",
    "pycharm": {
     "name": "#%%\n"
    }
   },
   "outputs": [
    {
     "data": {
      "text/plain": [
       "<torch._C.Generator at 0x7fa068727fb0>"
      ]
     },
     "execution_count": 31,
     "metadata": {},
     "output_type": "execute_result"
    }
   ],
   "source": [
    "torch.manual_seed(48)\n"
   ]
  },
  {
   "cell_type": "code",
   "execution_count": 32,
   "metadata": {
    "execution": {
     "iopub.execute_input": "2020-09-28T10:26:32.102798Z",
     "iopub.status.busy": "2020-09-28T10:26:32.101704Z",
     "iopub.status.idle": "2020-09-28T10:26:32.104233Z",
     "shell.execute_reply": "2020-09-28T10:26:32.104761Z"
    },
    "id": "W4r2rdyO9AvH",
    "pycharm": {
     "name": "#%%\n"
    }
   },
   "outputs": [],
   "source": [
    "# define a function to generate x and y\n",
    "def generate_data(n_sample, weight,\n",
    "                  bias = 0,\n",
    "                  std_residual = 1,\n",
    "                  mean_feature = 0,\n",
    "                  std_feature = 1,\n",
    "                  dtype = torch.float64):\n",
    "    weight = torch.tensor(weight, dtype = dtype)\n",
    "    n_feature = weight.shape[0]\n",
    "    x = torch.normal(mean = mean_feature,\n",
    "                     std = std_feature,\n",
    "                     size = (n_sample, n_feature),\n",
    "                     dtype = dtype)\n",
    "    e = torch.normal(mean = 0,\n",
    "                     std = std_residual,\n",
    "                     size = (n_sample, 1),\n",
    "                     dtype = dtype)\n",
    "    weight = weight.view(size = (-1, 1))\n",
    "    y = bias + x @ weight + e\n",
    "    return x, y"
   ]
  },
  {
   "cell_type": "code",
   "execution_count": 33,
   "metadata": {
    "colab": {
     "base_uri": "https://localhost:8080/",
     "height": 391
    },
    "execution": {
     "iopub.execute_input": "2020-09-28T10:26:32.112064Z",
     "iopub.status.busy": "2020-09-28T10:26:32.111320Z",
     "iopub.status.idle": "2020-09-28T10:26:32.114829Z",
     "shell.execute_reply": "2020-09-28T10:26:32.115355Z"
    },
    "id": "JnbkE3TG9AvJ",
    "outputId": "e41d20f4-0def-450f-a8c1-e983096b727d",
    "pycharm": {
     "name": "#%%\n"
    }
   },
   "outputs": [
    {
     "name": "stdout",
     "output_type": "stream",
     "text": [
      "feature matrix x is \n",
      " [[10.86425232  2.85930239 12.99748957]\n",
      " [ 7.98709525  9.79137811 12.98202577]\n",
      " [ 8.40585824 13.31645195  4.51125723]\n",
      " [10.52843635 10.28388618  8.43102705]\n",
      " [11.25624976 12.04005459 12.59301479]\n",
      " [12.31145327  9.15153143  7.96220487]\n",
      " [11.49807312 14.63609048  6.82995236]\n",
      " [11.7234386   7.16098399  9.8980089 ]\n",
      " [ 7.24735628  7.5570991   5.9154331 ]\n",
      " [11.05035931 10.47430089  4.86376669]]\n",
      "response vector y is \n",
      " [[-42.98404441]\n",
      " [ -4.94309144]\n",
      " [  0.31840093]\n",
      " [-16.21407503]\n",
      " [-13.77391657]\n",
      " [-31.18360077]\n",
      " [ -8.4871242 ]\n",
      " [-31.53590804]\n",
      " [ -7.8563037 ]\n",
      " [-19.27007283]]\n"
     ]
    }
   ],
   "source": [
    "# run generate_data\n",
    "x, y = generate_data(n_sample = 10,\n",
    "                     weight = [-5, 3, 0],\n",
    "                     bias = 5,\n",
    "                     std_residual = 1,\n",
    "                     mean_feature = 10,\n",
    "                     std_feature = 3,\n",
    "                     dtype = torch.float64)\n",
    "print(\"feature matrix x is \\n\", x.numpy())\n",
    "print(\"response vector y is \\n\", y.numpy())\n",
    "\n"
   ]
  },
  {
   "cell_type": "markdown",
   "metadata": {
    "id": "l0pp8vaM9AvL",
    "pycharm": {
     "name": "#%% md\n"
    }
   },
   "source": [
    "### 計算模型參數"
   ]
  },
  {
   "cell_type": "code",
   "execution_count": 34,
   "metadata": {
    "execution": {
     "iopub.execute_input": "2020-09-28T10:26:32.121381Z",
     "iopub.status.busy": "2020-09-28T10:26:32.120629Z",
     "iopub.status.idle": "2020-09-28T10:26:32.122974Z",
     "shell.execute_reply": "2020-09-28T10:26:32.123491Z"
    },
    "id": "dGm_73SA9AvM",
    "pycharm": {
     "name": "#%%\n"
    }
   },
   "outputs": [],
   "source": [
    "# define a function to calculate model parameter\n",
    "def calculate_parameter(x, y, dtype = torch.float64):\n",
    "    if x.dtype is not dtype:\n",
    "        x = x.type(dtype = dtype)\n",
    "    if y.dtype is not dtype:\n",
    "        y = y.type(dtype = dtype)\n",
    "    u = torch.ones(size = (x.size()[0], 1), dtype = dtype)\n",
    "    x_design = torch.cat([u, x], dim = 1)\n",
    "    parameter = torch.inverse(\n",
    "        torch.transpose(x_design, dim0=0, dim1=1) @ x_design) @ \\\n",
    "                torch.transpose(x_design, dim0=0, dim1=1) @ y\n",
    "    bias = parameter[0, 0]\n",
    "    weight = parameter[1:, 0]\n",
    "    return bias, weight"
   ]
  },
  {
   "cell_type": "code",
   "execution_count": 35,
   "metadata": {
    "colab": {
     "base_uri": "https://localhost:8080/",
     "height": 85
    },
    "execution": {
     "iopub.execute_input": "2020-09-28T10:26:32.129849Z",
     "iopub.status.busy": "2020-09-28T10:26:32.129161Z",
     "iopub.status.idle": "2020-09-28T10:26:32.132712Z",
     "shell.execute_reply": "2020-09-28T10:26:32.133159Z"
    },
    "id": "Zvz2eyco9AvO",
    "outputId": "b4bf90fd-b56a-4f3d-f2d1-511023faef4f",
    "pycharm": {
     "name": "#%%\n"
    }
   },
   "outputs": [
    {
     "name": "stdout",
     "output_type": "stream",
     "text": [
      "bias estimate is \n",
      " 4.996612423766793\n",
      "weight estimate is \n",
      " [-4.98003037  2.98762589 -0.00737968]\n"
     ]
    }
   ],
   "source": [
    "# run calculate_parameter\n",
    "x, y = generate_data(n_sample = 1000,\n",
    "                     weight = [-5, 3, 0],\n",
    "                     bias = 5,\n",
    "                     std_residual = 1,\n",
    "                     mean_feature = 10,\n",
    "                     std_feature = 3,\n",
    "                     dtype = torch.float64)\n",
    "bias, weight = calculate_parameter(x, y)\n",
    "print(\"bias estimate is \\n\", bias.numpy())\n",
    "print(\"weight estimate is \\n\", weight.numpy())\n"
   ]
  },
  {
   "cell_type": "markdown",
   "metadata": {
    "collapsed": false,
    "id": "RWWrlUkN9AvQ"
   },
   "source": [
    "### 建立一進行迴歸分析之物件"
   ]
  },
  {
   "cell_type": "code",
   "execution_count": 36,
   "metadata": {
    "execution": {
     "iopub.execute_input": "2020-09-28T10:26:32.139485Z",
     "iopub.status.busy": "2020-09-28T10:26:32.138839Z",
     "iopub.status.idle": "2020-09-28T10:26:32.144763Z",
     "shell.execute_reply": "2020-09-28T10:26:32.145230Z"
    },
    "id": "UMKYz0B39AvQ",
    "pycharm": {
     "name": "#%%\n"
    }
   },
   "outputs": [],
   "source": [
    "# define a class to fit linear regression\n",
    "class LinearRegression():\n",
    "    def __init__(self, dtype = torch.float64):\n",
    "        self.dtype = dtype\n",
    "        self.bias = None\n",
    "        self.weight = None\n",
    "    def fit(self, x, y):\n",
    "        if x.dtype is not self.dtype:\n",
    "            x = x.type(dtype = self.dtype)\n",
    "        if y.dtype is not self.dtype:\n",
    "            y = y.type(dtype = self.dtype)\n",
    "        u = torch.ones(size = (x.size()[0], 1), dtype = self.dtype)\n",
    "        x_design = torch.cat([u, x], dim = 1)\n",
    "        parameter = torch.inverse(\n",
    "            torch.transpose(x_design, dim0=0, dim1=1) @ x_design) @ \\\n",
    "                    torch.transpose(x_design, dim0=0, dim1=1) @ y\n",
    "        self.bias = parameter[0, 0]\n",
    "        self.weight = parameter[1:, 0]\n",
    "        return self"
   ]
  },
  {
   "cell_type": "code",
   "execution_count": 37,
   "metadata": {
    "colab": {
     "base_uri": "https://localhost:8080/",
     "height": 85
    },
    "execution": {
     "iopub.execute_input": "2020-09-28T10:26:32.150460Z",
     "iopub.status.busy": "2020-09-28T10:26:32.149855Z",
     "iopub.status.idle": "2020-09-28T10:26:32.152997Z",
     "shell.execute_reply": "2020-09-28T10:26:32.153470Z"
    },
    "id": "bIyrEE-C9AvS",
    "outputId": "bdc29e8e-fe7a-44aa-d41a-39dcc2ca6c21",
    "pycharm": {
     "name": "#%%\n"
    }
   },
   "outputs": [
    {
     "name": "stdout",
     "output_type": "stream",
     "text": [
      "bias estimate is \n",
      " 4.996612423766793\n",
      "weight estimate is \n",
      " [-4.98003037  2.98762589 -0.00737968]\n"
     ]
    }
   ],
   "source": [
    "model_lr = LinearRegression()\n",
    "model_lr.fit(x, y)\n",
    "print(\"bias estimate is \\n\", model_lr.bias.numpy())\n",
    "print(\"weight estimate is \\n\", model_lr.weight.numpy())"
   ]
  }
 ],
 "metadata": {
  "accelerator": "GPU",
  "colab": {
   "collapsed_sections": [
    "0vVgs3K29Aub",
    "ZZfIKPlD9Aui",
    "rhhG55d59Auk",
    "Jc5ZK-x19Aur",
    "lel6BArc9Auw",
    "_A-Y8qaR9Au-"
   ],
   "name": "lab-torch-tensor.ipynb",
   "provenance": []
  },
  "kernelspec": {
   "display_name": "Python 3",
   "language": "python",
   "name": "python3"
  },
  "language_info": {
   "codemirror_mode": {
    "name": "ipython",
    "version": 3
   },
   "file_extension": ".py",
   "mimetype": "text/x-python",
   "name": "python",
   "nbconvert_exporter": "python",
   "pygments_lexer": "ipython3",
   "version": "3.8.5"
  }
 },
 "nbformat": 4,
 "nbformat_minor": 0
}