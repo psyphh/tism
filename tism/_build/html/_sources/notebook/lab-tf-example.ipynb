{
 "nbformat": 4,
 "nbformat_minor": 0,
 "metadata": {
  "accelerator": "GPU",
  "colab": {
   "name": "lab-tf-example.ipynb",
   "provenance": [],
   "collapsed_sections": []
  },
  "kernelspec": {
   "display_name": "Python 3",
   "name": "python3"
  }
 },
 "cells": [
  {
   "cell_type": "markdown",
   "source": [
    "\n",
    "Lab: `tensoflow` 範例\n",
    "================"
   ],
   "metadata": {
    "collapsed": false
   }
  },
  {
   "cell_type": "code",
   "metadata": {
    "id": "N0okuQckPWIY"
   },
   "source": [
    "import numpy as np\n",
    "import tensorflow as tf\n",
    "import tensorflow_probability as tfp\n",
    "from tensorflow_probability import distributions as tfd"
   ],
   "execution_count": null,
   "outputs": []
  },
  {
   "cell_type": "markdown",
   "metadata": {
    "id": "VC9fzjMEPnj3"
   },
   "source": [
    "## Linear Regression"
   ]
  },
  {
   "cell_type": "code",
   "metadata": {
    "id": "g1RplVD_Qc9Q"
   },
   "source": [
    "# define a function to generate x and y\n",
    "def generate_linear_reg_data(\n",
    "    n_sample, weight, intercept = 0, sd_residual = 1,\n",
    "    dtype = tf.float64, seed = None):\n",
    "    weight = tf.constant(weight, dtype = dtype)\n",
    "    weight = tf.reshape(weight, shape = (-1, 1))\n",
    "    n_feature = weight.shape[0]\n",
    "    x = tf.random.normal(shape = (n_sample, n_feature),\n",
    "                         seed = seed, dtype = dtype)\n",
    "    e = tf.random.normal(shape = (n_sample, 1),\n",
    "                         seed = seed, dtype = dtype)\n",
    "    y = intercept + x @ weight + e\n",
    "    return x, y\n",
    "\n",
    "# run generate_data\n",
    "n_sample = 10000\n",
    "weight_true = [-1, 2, 0]\n",
    "dtype = tf.float64\n",
    "\n",
    "x, y = generate_linear_reg_data(\n",
    "    n_sample = n_sample, weight = weight_true,\n",
    "    intercept = 0, sd_residual = 1,\n",
    "    dtype = dtype, seed = 48)"
   ],
   "execution_count": null,
   "outputs": []
  },
  {
   "cell_type": "code",
   "metadata": {
    "colab": {
     "base_uri": "https://localhost:8080/"
    },
    "id": "WvLX-d0FUSqd",
    "outputId": "82a29269-c784-4b02-d0bb-7647d8891199"
   },
   "source": [
    "# start optimization\n",
    "n_feature = len(weight_true)\n",
    "learning_rate = .1\n",
    "epochs = 500\n",
    "tol = 10**(-4)\n",
    "\n",
    "optimizer = tf.optimizers.SGD(learning_rate = learning_rate)\n",
    "\n",
    "intercept = tf.Variable(tf.zeros((), dtype = dtype), \n",
    "                        name = \"intercept\")\n",
    "weight = tf.Variable(tf.zeros((n_feature, 1), dtype = dtype), \n",
    "                     name = \"weight\")\n",
    "\n",
    "for epoch in tf.range(epochs):\n",
    "    with tf.GradientTape() as tape:\n",
    "        y_hat = intercept + x @ weight\n",
    "        loss_value = tf.reduce_mean((y - y_hat)**2)\n",
    "    gradients = tape.gradient(loss_value, [intercept, weight])\n",
    "    optimizer.apply_gradients(zip(gradients, [intercept, weight]))\n",
    "    #print(weight)\n",
    "    if (tf.reduce_max(\n",
    "            [tf.reduce_mean(\n",
    "                tf.math.abs(x)) for x in gradients]).numpy()) < tol:\n",
    "        print(\"{n} Optimizer Converges After {i} Iterations\".format(\n",
    "            n=optimizer.__class__.__name__, i=epoch))\n",
    "        break\n",
    "\n",
    "print(\"intercept\", intercept.numpy())\n",
    "print(\"weight\", weight.numpy())"
   ],
   "execution_count": null,
   "outputs": [
    {
     "output_type": "stream",
     "text": [
      "SGD Optimizer Converges After 45 Iterations\n",
      "intercept -0.012025053092215555\n",
      "weight [[-0.99697044]\n",
      " [ 1.99617999]\n",
      " [ 0.02433336]]\n"
     ],
     "name": "stdout"
    }
   ]
  },
  {
   "cell_type": "markdown",
   "metadata": {
    "id": "TZ_MZWfBhl5v"
   },
   "source": [
    "## Logistic Regression"
   ]
  },
  {
   "cell_type": "code",
   "metadata": {
    "id": "BMtDMypchoxa"
   },
   "source": [
    "# define a function to generate x and y\n",
    "def generate_logistic_reg_data(\n",
    "    n_sample, weight, intercept = 0, \n",
    "    dtype = tf.float64, seed = None):\n",
    "    weight = tf.constant(weight, dtype = dtype)\n",
    "    weight = tf.reshape(weight, shape = (-1, 1))\n",
    "    n_feature = weight.shape[0]\n",
    "    x = tf.random.normal(shape = (n_sample, n_feature),\n",
    "                         seed = seed, dtype = dtype)\n",
    "    logits = intercept + x @ weight\n",
    "    y = tfd.Bernoulli(logits=logits, dtype=dtype).sample()\n",
    "    return x, y\n",
    "\n",
    "# run generate_data\n",
    "n_sample = 10000\n",
    "weight_true = [-1, 2, 0]\n",
    "dtype = tf.float64\n",
    "\n",
    "x, y = generate_logistic_reg_data(\n",
    "    n_sample = n_sample, \n",
    "    weight = weight_true,intercept = 0, \n",
    "    dtype = dtype, seed = 48)"
   ],
   "execution_count": null,
   "outputs": []
  },
  {
   "cell_type": "code",
   "metadata": {
    "id": "JpGdAGR2iutc"
   },
   "source": [
    "# define a tf.Module to collect parameters\n",
    "class LinearModel(tf.Module):\n",
    "  def __init__(self, n_feature, dtype = tf.float64):\n",
    "    super().__init__()\n",
    "    self.weight = tf.Variable(tf.zeros((n_feature, 1), \n",
    "                                       dtype = dtype), \n",
    "                              name = \"weight\")\n",
    "    self.intercept = tf.Variable(tf.zeros((), dtype = dtype), \n",
    "                                 name = \"intercept\")\n",
    "  def __call__(self, x):\n",
    "    return self.intercept + x @ self.weight"
   ],
   "execution_count": null,
   "outputs": []
  },
  {
   "cell_type": "code",
   "metadata": {
    "colab": {
     "base_uri": "https://localhost:8080/"
    },
    "id": "nJtGDN2skY9T",
    "outputId": "531a9c38-2c8f-4c55-996b-7bb5257ae6f9"
   },
   "source": [
    "n_feature = len(weight_true)\n",
    "learning_rate = .5\n",
    "epochs = 500\n",
    "tol = 10**(-4)\n",
    "\n",
    "linear_model = LinearModel(n_feature, dtype)\n",
    "optimizer = tf.optimizers.SGD(learning_rate = learning_rate)\n",
    "\n",
    "for epoch in tf.range(epochs):\n",
    "    with tf.GradientTape() as tape:\n",
    "        logits = linear_model(x)\n",
    "        loss_value = - tf.reduce_mean(\n",
    "            tfd.Bernoulli(logits=logits).log_prob(y))\n",
    "    gradients = tape.gradient(\n",
    "        loss_value, linear_model.trainable_variables)\n",
    "    optimizer.apply_gradients(\n",
    "        zip(gradients, linear_model.trainable_variables))\n",
    "    if (tf.reduce_max(\n",
    "            [tf.reduce_mean(\n",
    "                tf.math.abs(x)) for x in gradients]).numpy()) < tol:\n",
    "        print(\"{n} Optimizer Converges After {i} Iterations\".format(\n",
    "            n=optimizer.__class__.__name__, i=epoch))\n",
    "        break\n",
    "\n",
    "print(\"intercept\", linear_model.intercept.numpy())\n",
    "print(\"weight\", linear_model.weight.numpy())"
   ],
   "execution_count": null,
   "outputs": [
    {
     "output_type": "stream",
     "text": [
      "SGD Optimizer Converges After 214 Iterations\n",
      "intercept -0.026720774224103634\n",
      "weight [[-1.02562195]\n",
      " [ 1.978216  ]\n",
      " [-0.01374367]]\n"
     ],
     "name": "stdout"
    }
   ]
  },
  {
   "cell_type": "markdown",
   "metadata": {
    "id": "toH0-cITKYZo"
   },
   "source": [
    "## Factor Analysis"
   ]
  },
  {
   "cell_type": "code",
   "metadata": {
    "id": "8npnnKsrKX92"
   },
   "source": [
    "def generate_fa_data(n_sample, n_factor, n_item, \n",
    "                     ld, psi = None, rho = None, \n",
    "                     dtype = tf.float64):\n",
    "    if (n_item % n_factor) != 0:\n",
    "        n_item = n_factor * (n_item // n_factor)\n",
    "    loading = np.zeros((n_item, n_factor))\n",
    "    item_per_factor = (n_item // n_factor)\n",
    "    for i in range(n_factor):\n",
    "        for j in range(i * item_per_factor,\n",
    "                       (i + 1) * item_per_factor):\n",
    "            loading[j, i] = ld\n",
    "    loading = tf.constant(loading, dtype = dtype)\n",
    "    if rho is None:\n",
    "        cor = tf.eye(n_factor, dtype = dtype)\n",
    "    else:\n",
    "        unit = tf.ones((n_factor, 1), dtype = dtype)\n",
    "        identity = tf.eye(n_factor, dtype = dtype)\n",
    "        cor = rho * (unit @ tf.transpose(unit)) + (1 - rho) * identity\n",
    "    if psi is None:\n",
    "        uniqueness = 1 - tf.linalg.diag_part(loading @ cor @ tf.transpose(loading))\n",
    "    else:\n",
    "        uniqueness = psi * tf.ones((n_item, ), dtype = dtype)\n",
    "    \n",
    "    mean = tf.zeros(n_item, dtype = dtype)\n",
    "    cov = loading @ cor @ tf.transpose(loading) + tf.linalg.diag(uniqueness)\n",
    "    dist_x = tfd.MultivariateNormalTriL(\n",
    "        loc = mean, scale_tril = tf.linalg.cholesky(cov))\n",
    "    x = dist_x.sample(n_sample)\n",
    "    return x\n",
    "\n",
    "n_sample = 10000\n",
    "n_factor = 4\n",
    "n_item = 12\n",
    "ld = .7\n",
    "dtype = tf.float64\n",
    "\n",
    "x = generate_fa_data(n_sample, n_factor, \n",
    "                     n_item, ld,\n",
    "                     dtype = dtype)\n",
    "sample_mean = tf.reduce_mean(x, axis = 0)\n",
    "sample_cov = tf.transpose(x - sample_mean) @ (x - sample_mean) / n_sample"
   ],
   "execution_count": null,
   "outputs": []
  },
  {
   "cell_type": "code",
   "metadata": {
    "colab": {
     "base_uri": "https://localhost:8080/"
    },
    "id": "zHW9chhhsx-s",
    "outputId": "3cacd122-b1f1-4b6e-dd1d-3068509b2958"
   },
   "source": [
    "sample_mean"
   ],
   "execution_count": null,
   "outputs": [
    {
     "output_type": "execute_result",
     "data": {
      "text/plain": [
       "<tf.Tensor: shape=(12,), dtype=float64, numpy=\n",
       "array([-0.00025744,  0.0108172 ,  0.00212464, -0.00238797, -0.01340069,\n",
       "       -0.00126519, -0.00721685, -0.00192513,  0.00122365,  0.00195363,\n",
       "        0.01231762,  0.00489383])>"
      ]
     },
     "metadata": {
      "tags": []
     },
     "execution_count": 8
    }
   ]
  },
  {
   "cell_type": "code",
   "metadata": {
    "id": "wffqM99mRdYu"
   },
   "source": [
    "# define a tf.Module to coollect parameters\n",
    "class FactorModel(tf.Module):\n",
    "  def __init__(self, n_item, n_factor, \n",
    "               dtype = tf.float64):\n",
    "    super().__init__()\n",
    "    self.intercept = tf.Variable(\n",
    "        tf.zeros(n_item, dtype = dtype), name = \"intercept\")\n",
    "    self.loading = tf.Variable(\n",
    "        tf.random.uniform((n_item, n_factor), dtype = dtype), \n",
    "        name = \"loading\")\n",
    "    self.uniqueness = tf.Variable(\n",
    "        tf.fill(n_item, value = tf.constant(.2, dtype = dtype)), \n",
    "        name = \"uniqueness\")\n",
    "  def __call__(self):\n",
    "      model_mean = self.intercept\n",
    "      model_cov = self.loading @ tf.transpose(self.loading) + tf.linalg.diag(self.uniqueness)\n",
    "      return model_mean, model_cov"
   ],
   "execution_count": null,
   "outputs": []
  },
  {
   "cell_type": "code",
   "metadata": {
    "colab": {
     "base_uri": "https://localhost:8080/"
    },
    "id": "W6d0DLuFYcMF",
    "outputId": "7b628ed7-f6eb-49f2-b498-d97813798802"
   },
   "source": [
    "learning_rate = .5\n",
    "epochs = 500\n",
    "tol = 10**(-4)\n",
    "\n",
    "factor_model = FactorModel(n_item, n_factor, dtype)\n",
    "optimizer = tf.optimizers.SGD(learning_rate = learning_rate)\n",
    "\n",
    "for epoch in tf.range(epochs):\n",
    "    with tf.GradientTape() as tape:\n",
    "        model_mean, model_cov = factor_model()\n",
    "        mvn = tfd.MultivariateNormalTriL(\n",
    "            loc = model_mean, \n",
    "            scale_tril = tf.linalg.cholesky(model_cov))\n",
    "        loss_value = - tf.reduce_mean(mvn.log_prob(x))\n",
    "    gradients = tape.gradient(\n",
    "        loss_value, factor_model.trainable_variables)\n",
    "    optimizer.apply_gradients(\n",
    "        zip(gradients, factor_model.trainable_variables))\n",
    "    if (tf.reduce_max(\n",
    "            [tf.reduce_mean(\n",
    "                tf.math.abs(x)) for x in gradients]).numpy()) < tol:\n",
    "        print(\"{n} Optimizer Converges After {i} Iterations\".format(\n",
    "            n=optimizer.__class__.__name__, i=epoch))\n",
    "        break\n",
    "\n",
    "print(\"intercept\", factor_model.intercept.numpy())\n",
    "print(\"loading\", factor_model.loading.numpy())\n",
    "print(\"uniqueness\", factor_model.uniqueness.numpy())"
   ],
   "execution_count": null,
   "outputs": [
    {
     "output_type": "stream",
     "text": [
      "SGD Optimizer Converges After 99 Iterations\n",
      "intercept [-0.00025744  0.0108172   0.00212464 -0.00238797 -0.01340069 -0.00126519\n",
      " -0.00721685 -0.00192513  0.00122365  0.00195363  0.01231762  0.00489383]\n",
      "loading [[ 0.02208793  0.5614573  -0.2382961   0.35409804]\n",
      " [ 0.0410299   0.56110347 -0.23138188  0.35632854]\n",
      " [ 0.0491327   0.59170095 -0.23698826  0.37040964]\n",
      " [ 0.22149891 -0.20718196  0.35375063  0.52947563]\n",
      " [ 0.22026891 -0.19553342  0.33475326  0.53578565]\n",
      " [ 0.20835374 -0.20356634  0.33980213  0.52193789]\n",
      " [ 0.55539821 -0.15510115 -0.38612128 -0.05572559]\n",
      " [ 0.57078855 -0.15683796 -0.38019509 -0.05464856]\n",
      " [ 0.57530161 -0.16775008 -0.38702146 -0.07620108]\n",
      " [ 0.34818466  0.34434087  0.40742856 -0.2934482 ]\n",
      " [ 0.35908726  0.34111257  0.42491077 -0.28396796]\n",
      " [ 0.35268189  0.35258359  0.41972744 -0.29421589]]\n",
      "uniqueness [0.51909856 0.52226628 0.47661478 0.49871025 0.49693298 0.50463323\n",
      " 0.52882436 0.51056428 0.49894483 0.51517369 0.52687415 0.50945437]\n"
     ],
     "name": "stdout"
    }
   ]
  },
  {
   "cell_type": "markdown",
   "metadata": {
    "id": "m2MgZjN3hpwt"
   },
   "source": [
    "## Two-Parameter Logistic Model"
   ]
  },
  {
   "cell_type": "code",
   "metadata": {
    "id": "Ps5_2oCmhuJB"
   },
   "source": [
    "def generate_2pl_data(n_sample, n_factor, n_item, \n",
    "                      alpha, beta, rho, \n",
    "                      dtype = tf.float64):\n",
    "    if (n_item % n_factor) != 0:\n",
    "        n_item = n_factor * (n_item // n_factor)\n",
    "    item_per_factor = (n_item // n_factor)\n",
    "    intercept = tf.fill((n_item,), value = tf.constant(alpha, dtype = dtype))\n",
    "    loading = np.zeros((n_item, n_factor))\n",
    "    for i in range(n_factor):\n",
    "        for j in range(i * item_per_factor,\n",
    "                       (i + 1) * item_per_factor):\n",
    "            loading[j, i] = ld\n",
    "    loading = tf.constant(loading, dtype = dtype)\n",
    "    if rho is None:\n",
    "        cor = tf.eye(n_factor, dtype = dtype)\n",
    "    else:\n",
    "        unit = tf.ones((n_factor, 1), dtype = dtype)\n",
    "        identity = tf.eye(n_factor, dtype = dtype)\n",
    "        cor = rho * (unit @ tf.transpose(unit)) + (1 - rho) * identity\n",
    "    dist_eta = tfd.MultivariateNormalTriL(\n",
    "        loc = tf.zeros(n_factor, dtype = dtype), scale_tril = tf.linalg.cholesky(cor))\n",
    "    eta = dist_eta.sample(n_sample)\n",
    "    logits = intercept + eta @ tf.transpose(loading)\n",
    "    x = tfd.Bernoulli(logits=logits, dtype=dtype).sample()\n",
    "    return x"
   ],
   "execution_count": null,
   "outputs": []
  },
  {
   "cell_type": "code",
   "metadata": {
    "id": "cU5w0Eg-r45W"
   },
   "source": [
    "n_sample = 10000\n",
    "n_factor = 5\n",
    "n_item = 25\n",
    "alpha = .2\n",
    "beta = .7 \n",
    "rho = 0\n",
    "dtype = tf.float64\n",
    "x = generate_2pl_data(n_sample, n_factor, n_item, \n",
    "                      alpha, beta, rho, \n",
    "                      dtype = dtype)"
   ],
   "execution_count": null,
   "outputs": []
  },
  {
   "cell_type": "code",
   "metadata": {
    "id": "Uwl2REi6oLc_"
   },
   "source": [
    "class TwoPLModel(tf.Module):\n",
    "    def __init__(self, n_item, n_factor, \n",
    "                 dtype = tf.float64):\n",
    "        super().__init__()\n",
    "        self.dtype = dtype\n",
    "        self.intercept = tf.Variable(\n",
    "            tf.zeros(n_item, dtype = self.dtype), name = \"intercept\")\n",
    "        self.loading = tf.Variable(\n",
    "            tf.random.uniform((n_item, n_factor), dtype = self.dtype), \n",
    "            name = \"loading\")\n",
    "    def __call__(self, x):\n",
    "        n_sample = len(x)\n",
    "        joint_prob = tfd.JointDistributionSequential([\n",
    "            tfd.Independent(\n",
    "                tfd.Normal(\n",
    "                    loc = tf.zeros((n_sample, n_factor), dtype=self.dtype),\n",
    "                    scale = 1.0), \n",
    "                reinterpreted_batch_ndims=1),\n",
    "            lambda eta: tfd.Independent(\n",
    "                tfd.Bernoulli(\n",
    "                    logits= self.intercept + eta @ tf.transpose(self.loading), \n",
    "                    dtype=self.dtype), \n",
    "                reinterpreted_batch_ndims=1)])             \n",
    "        joint_prob._to_track=self\n",
    "        return joint_prob"
   ],
   "execution_count": null,
   "outputs": []
  },
  {
   "cell_type": "code",
   "metadata": {
    "id": "QPXjWR2rGb1S"
   },
   "source": [
    "two_pl_model = TwoPLModel(n_item, n_factor)\n",
    "joint_prob = two_pl_model(x)\n",
    "\n",
    "def target_log_prob_fn(*eta):\n",
    "    return joint_prob.log_prob(eta + (x,))\n",
    "\n",
    "hmc=tfp.mcmc.HamiltonianMonteCarlo(\n",
    "    target_log_prob_fn = target_log_prob_fn,\n",
    "    step_size = .015,\n",
    "    num_leapfrog_steps=3)\n",
    "current_state = joint_prob.sample()[:-1]\n",
    "kernel_results = hmc.bootstrap_results(current_state)\n",
    "\n",
    "@tf.function(autograph=False,\n",
    "             experimental_compile=True)\n",
    "def one_e_step(current_state, kernel_results):\n",
    "    next_state, next_kernel_results = hmc.one_step(\n",
    "        current_state=current_state,\n",
    "        previous_kernel_results=kernel_results)\n",
    "    return next_state, next_kernel_results\n",
    "\n",
    "optimizer=tf.optimizers.RMSprop(learning_rate=.01)\n",
    "\n",
    "@tf.function(autograph=False, \n",
    "             experimental_compile=True)\n",
    "def one_m_step(current_state):\n",
    "    with tf.GradientTape() as tape:\n",
    "        loss_value = -tf.reduce_mean(\n",
    "            target_log_prob_fn(*current_state))\n",
    "    gradients = tape.gradient(loss_value, two_pl_model.trainable_variables)\n",
    "    optimizer.apply_gradients(zip(gradients, two_pl_model.trainable_variables))\n",
    "    return loss_value"
   ],
   "execution_count": null,
   "outputs": []
  },
  {
   "cell_type": "code",
   "metadata": {
    "colab": {
     "base_uri": "https://localhost:8080/"
    },
    "id": "cuL5oF3zLofj",
    "outputId": "c25dadf5-ecd4-45e0-9b74-86f5e9fd1865"
   },
   "source": [
    "import time\n",
    "num_warmup_start = 1\n",
    "num_warmup_iter = 1\n",
    "num_iters = 1\n",
    "num_accepted = 0\n",
    "loss_history = np.zeros([num_iters])\n",
    "tStart = time.time()\n",
    "# Run warm-up stage.\n",
    "for t in range(num_warmup_start):\n",
    "    current_state, kernel_results = one_e_step(\n",
    "        current_state, kernel_results)\n",
    "    num_accepted += kernel_results.is_accepted.numpy().prod()\n",
    "    if t % 500 == 0:\n",
    "        print(\"Warm-Up Iteration: {:>3} Acceptance Rate: {:.3f}\".format(\n",
    "            t, num_accepted / (t + 1)))\n",
    "num_accepted = 0  # reset acceptance rate counter\n",
    "\n",
    "# Run training.\n",
    "for t in range(num_iters):\n",
    "    for _ in range(num_warmup_iter):\n",
    "        current_state, kernel_results = one_e_step(current_state, kernel_results)\n",
    "    loss_value = one_m_step(current_state)\n",
    "    num_accepted += kernel_results.is_accepted.numpy().prod()\n",
    "    loss_history[t] = loss_value.numpy()\n",
    "    if t % 50 == 0:\n",
    "        print(\"Iteration: {:>4} Acceptance Rate: {:.3f} Loss: {:.3f}\".format(\n",
    "            t, num_accepted / (t + 1), loss_history[t]))\n",
    "tEnd = time.time()"
   ],
   "execution_count": null,
   "outputs": [
    {
     "output_type": "stream",
     "text": [
      "Warm-Up Iteration:   0 Acceptance Rate: 0.000\n",
      "Warm-Up Iteration: 500 Acceptance Rate: 0.822\n",
      "Iteration:    0 Acceptance Rate: 0.000 Loss: 23.426\n",
      "Iteration:   50 Acceptance Rate: 0.902 Loss: 23.529\n",
      "Iteration:  100 Acceptance Rate: 0.941 Loss: 23.753\n",
      "Iteration:  150 Acceptance Rate: 0.947 Loss: 23.742\n",
      "Iteration:  200 Acceptance Rate: 0.950 Loss: 23.633\n"
     ],
     "name": "stdout"
    }
   ]
  },
  {
   "cell_type": "code",
   "metadata": {
    "colab": {
     "base_uri": "https://localhost:8080/"
    },
    "id": "BU2I5EgqMlqc",
    "outputId": "1070f273-97c7-4023-dd9d-acfc070bfc0c"
   },
   "source": [
    "print(tEnd - tStart)\n",
    "print(np.around(two_pl_model.trainable_variables[0].numpy(), decimals=2))\n",
    "print(np.around(two_pl_model.trainable_variables[1].numpy(), decimals=2))"
   ],
   "execution_count": null,
   "outputs": [
    {
     "output_type": "stream",
     "text": [
      "25.79387664794922\n",
      "[0.16 0.24 0.15 0.16 0.19 0.2  0.19 0.18 0.19 0.2  0.2  0.2  0.19 0.19\n",
      " 0.2  0.15 0.18 0.21 0.17 0.23 0.18 0.18 0.17 0.23 0.14]\n",
      "[[ 0.16 -0.08  0.09  0.48  0.09]\n",
      " [ 0.04  0.13 -0.05  0.22  0.27]\n",
      " [ 0.05 -0.05  0.09  0.28  0.2 ]\n",
      " [ 0.28  0.05 -0.1   0.35  0.18]\n",
      " [ 0.02 -0.03  0.11  0.35  0.28]\n",
      " [ 0.23  0.1  -0.1   0.02  0.19]\n",
      " [ 0.33  0.05 -0.11 -0.01  0.26]\n",
      " [ 0.4   0.1   0.02 -0.05  0.28]\n",
      " [ 0.3   0.21 -0.12  0.07  0.16]\n",
      " [ 0.23  0.08 -0.1   0.09  0.2 ]\n",
      " [ 0.15 -0.15  0.44  0.05  0.18]\n",
      " [ 0.03 -0.13  0.34  0.16  0.41]\n",
      " [ 0.01 -0.16  0.31  0.26  0.33]\n",
      " [ 0.11 -0.16  0.38  0.24  0.27]\n",
      " [ 0.25 -0.25  0.62 -0.07  0.29]\n",
      " [-0.2   0.21  0.21  0.12 -0.  ]\n",
      " [-0.09  0.28  0.13  0.05 -0.03]\n",
      " [-0.23  0.39  0.24 -0.1   0.09]\n",
      " [-0.1   0.37  0.26  0.02 -0.05]\n",
      " [-0.07  0.43  0.1   0.    0.04]\n",
      " [-0.05  0.52  0.02  0.19 -0.1 ]\n",
      " [ 0.02  0.37  0.14  0.21 -0.16]\n",
      " [ 0.12  0.37  0.13  0.08 -0.19]\n",
      " [ 0.11  0.37  0.22  0.24 -0.32]\n",
      " [ 0.11  0.35  0.1   0.14 -0.2 ]]\n"
     ],
     "name": "stdout"
    }
   ]
  },
  {
   "cell_type": "code",
   "metadata": {
    "colab": {
     "base_uri": "https://localhost:8080/"
    },
    "id": "PD-1UVbZcO9l",
    "outputId": "fad76292-5e31-4226-e416-5a1ff355c3d4",
    "pycharm": {
     "name": "#%%\n"
    }
   },
   "source": [],
   "execution_count": null,
   "outputs": [
    {
     "output_type": "execute_result",
     "data": {
      "text/plain": [
       "<tf.Tensor: shape=(3, 5), dtype=float64, numpy=\n",
       "array([[ 0.15511598, -0.08058979,  0.08665804,  0.48163486,  0.08782219],\n",
       "       [ 0.04422697,  0.12941052, -0.0459003 ,  0.218732  ,  0.27211936],\n",
       "       [ 0.05397605, -0.0450546 ,  0.09205034,  0.28376689,  0.20026456]])>"
      ]
     },
     "metadata": {
      "tags": []
     },
     "execution_count": 21
    }
   ]
  }
 ]
}