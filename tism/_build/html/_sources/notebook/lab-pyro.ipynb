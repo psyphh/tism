{
 "cells": [
  {
   "cell_type": "code",
   "execution_count": null,
   "metadata": {
    "collapsed": true
   },
   "outputs": [],
   "source": [
    "import pyro\n",
    "import torch\n",
    "\n",
    "\n",
    "loading = torch.tensor([[.7, 0, 0],\n",
    "                        [.7, 0, 0],\n",
    "                        [.7, 0, 0],\n",
    "                        [0, .7, 0],\n",
    "                        [0, .7, 0],\n",
    "                        [0, .7, 0],\n",
    "                        [0, 0, .7],\n",
    "                        [0, 0, .7],\n",
    "                        [0, 0, .7]])\n",
    "\n",
    "uniqueness = torch.tensor([.51, .51, .51,\n",
    "                           .51, .51, .51,\n",
    "                           .51, .51, .51])\n"
   ]
  },
  {
   "cell_type": "code",
   "execution_count": 4,
   "outputs": [],
   "source": [
    "import pyro\n",
    "import torch\n",
    "mvn = pyro.distributions.MultivariateNormal(\n",
    "    loc=torch.Tensor([0, 1]),\n",
    "    scale_tril=torch.cholesky(torch.Tensor([[1., 0.], [0., .5]])))\n",
    "\n"
   ],
   "metadata": {
    "collapsed": false,
    "pycharm": {
     "name": "#%%\n"
    }
   }
  }
 ],
 "metadata": {
  "kernelspec": {
   "display_name": "Python 3",
   "language": "python",
   "name": "python3"
  },
  "language_info": {
   "codemirror_mode": {
    "name": "ipython",
    "version": 2
   },
   "file_extension": ".py",
   "mimetype": "text/x-python",
   "name": "python",
   "nbconvert_exporter": "python",
   "pygments_lexer": "ipython2",
   "version": "2.7.6"
  }
 },
 "nbformat": 4,
 "nbformat_minor": 0
}