{
 "cells": [
  {
   "cell_type": "markdown",
   "source": [
    "Lab: 最大概似估計\n",
    "================"
   ],
   "metadata": {
    "collapsed": false
   }
  },
  {
   "cell_type": "code",
   "execution_count": 1,
   "metadata": {
    "collapsed": true
   },
   "outputs": [],
   "source": [
    "import torch"
   ]
  },
  {
   "cell_type": "markdown",
   "source": [
    "## `torch` 分配物件"
   ],
   "metadata": {
    "collapsed": false,
    "pycharm": {
     "name": "#%% md\n"
    }
   }
  },
  {
   "cell_type": "code",
   "execution_count": 2,
   "outputs": [],
   "source": [
    "from torch.distributions import Normal\n",
    "normal = Normal(loc=0., scale=1.)"
   ],
   "metadata": {
    "collapsed": false,
    "pycharm": {
     "name": "#%%\n"
    }
   }
  },
  {
   "cell_type": "code",
   "execution_count": 3,
   "outputs": [
    {
     "name": "stdout",
     "output_type": "stream",
     "text": [
      "random sample with shape ():\n",
      " tensor(-0.2379)\n",
      "random sample with shape (3,):\n",
      " tensor([ 0.8710, -0.1215,  0.3301])\n",
      "random sample with shape (2,3):\n",
      " tensor([[ 1.3719, -0.5663,  0.4880],\n",
      "        [-0.1727,  0.7864,  1.2699]])\n"
     ]
    }
   ],
   "source": [
    "print(\"random sample with shape ():\\n\",\n",
    "      normal.sample())\n",
    "print(\"random sample with shape (3,):\\n\",\n",
    "      normal.sample(sample_shape=(3,)))\n",
    "print(\"random sample with shape (2,3):\\n\",\n",
    "      normal.sample(sample_shape=(2, 3)))"
   ],
   "metadata": {
    "collapsed": false,
    "pycharm": {
     "name": "#%%\n"
    }
   }
  },
  {
   "cell_type": "code",
   "execution_count": 4,
   "outputs": [
    {
     "name": "stdout",
     "output_type": "stream",
     "text": [
      "cumulative probability given value with shape ():\n",
      " tensor(0.5000) \n",
      "\n",
      "cumulative probability given value with (3,):\n",
      " tensor([0.1587, 0.5000, 0.6915]) \n",
      "\n",
      "cumulative probability given value with (2,3):\n",
      " tensor([[0.1587, 0.5000, 0.6915],\n",
      "        [0.0228, 0.8413, 0.9987]])\n"
     ]
    }
   ],
   "source": [
    "print(\"cumulative probability given value with shape ():\\n\",\n",
    "      normal.cdf(value=0), \"\\n\")\n",
    "print(\"cumulative probability given value with (3,):\\n\",\n",
    "      normal.cdf(value=torch.Tensor([-1, 0, .5])), \"\\n\")\n",
    "print(\"cumulative probability given value with (2,3):\\n\",\n",
    "      normal.cdf(value=torch.Tensor([[-1, 0, .5], [-2, 1, 3]])))"
   ],
   "metadata": {
    "collapsed": false,
    "pycharm": {
     "name": "#%%\n"
    }
   }
  },
  {
   "cell_type": "code",
   "execution_count": 5,
   "outputs": [
    {
     "name": "stdout",
     "output_type": "stream",
     "text": [
      "cumulative probability given value with shape ():\n",
      " tensor(-0.9189) \n",
      "\n",
      "cumulative probability given value with (3,):\n",
      " tensor([-1.4189, -0.9189, -1.0439]) \n",
      "\n",
      "cumulative probability given value with (2,3):\n",
      " tensor([[-1.4189, -0.9189, -1.0439],\n",
      "        [-2.9189, -1.4189, -5.4189]])\n"
     ]
    }
   ],
   "source": [
    "print(\"cumulative probability given value with shape ():\\n\",\n",
    "      normal.log_prob(value=0), \"\\n\")\n",
    "print(\"cumulative probability given value with (3,):\\n\",\n",
    "      normal.log_prob(value=torch.Tensor([-1, 0, .5])), \"\\n\")\n",
    "print(\"cumulative probability given value with (2,3):\\n\",\n",
    "      normal.log_prob(value=torch.Tensor([[-1, 0, .5], [-2, 1, 3]])))"
   ],
   "metadata": {
    "collapsed": false,
    "pycharm": {
     "name": "#%%\n"
    }
   }
  },
  {
   "cell_type": "code",
   "execution_count": 6,
   "outputs": [
    {
     "name": "stdout",
     "output_type": "stream",
     "text": [
      "Normal(loc: 0.0, scale: 1.0)\n"
     ]
    }
   ],
   "source": [
    "print(normal)"
   ],
   "metadata": {
    "collapsed": false,
    "pycharm": {
     "name": "#%%\n"
    }
   }
  },
  {
   "cell_type": "code",
   "execution_count": 7,
   "outputs": [
    {
     "name": "stdout",
     "output_type": "stream",
     "text": [
      "torch.Size([])\n",
      "torch.Size([])\n"
     ]
    }
   ],
   "source": [
    "print(normal.batch_shape)\n",
    "print(normal.event_shape)"
   ],
   "metadata": {
    "collapsed": false,
    "pycharm": {
     "name": "#%%\n"
    }
   }
  },
  {
   "cell_type": "code",
   "execution_count": 8,
   "outputs": [
    {
     "name": "stdout",
     "output_type": "stream",
     "text": [
      "Normal(loc: torch.Size([2]), scale: torch.Size([2]))\n"
     ]
    }
   ],
   "source": [
    "normal_batch = Normal(loc=torch.Tensor([0., 1.]), scale=torch.Tensor([1., 1.5]))\n",
    "print(normal_batch)"
   ],
   "metadata": {
    "collapsed": false,
    "pycharm": {
     "name": "#%%\n"
    }
   }
  },
  {
   "cell_type": "code",
   "execution_count": 9,
   "outputs": [
    {
     "name": "stdout",
     "output_type": "stream",
     "text": [
      "random sample with sample_shape ():\n",
      " tensor([ 0.7147, -0.8665]) \n",
      "\n",
      "random sample with sample_shape (3,):\n",
      " tensor([[-0.4114,  0.1911],\n",
      "        [-0.8507,  1.0119],\n",
      "        [-1.4294, -0.3404]]) \n",
      "\n",
      "random sample with sample_shape (2,3):\n",
      " tensor([[[-2.3029, -0.6177],\n",
      "         [ 1.7179,  0.1624],\n",
      "         [-0.3888, -0.5013]],\n",
      "\n",
      "        [[-1.5266,  1.4453],\n",
      "         [ 1.2528,  0.4369],\n",
      "         [ 0.2964,  0.9497]]])\n"
     ]
    }
   ],
   "source": [
    "print(\"random sample with sample_shape ():\\n\",\n",
    "      normal_batch.sample(), \"\\n\")\n",
    "print(\"random sample with sample_shape (3,):\\n\",\n",
    "      normal_batch.sample(sample_shape=(3,)), \"\\n\")\n",
    "print(\"random sample with sample_shape (2,3):\\n\",\n",
    "      normal_batch.sample(sample_shape=(2,3)))\n"
   ],
   "metadata": {
    "collapsed": false,
    "pycharm": {
     "name": "#%%\n"
    }
   }
  },
  {
   "cell_type": "code",
   "execution_count": 10,
   "outputs": [
    {
     "name": "stdout",
     "output_type": "stream",
     "text": [
      "log-probability given value with shape ():\n",
      " tensor([-0.9189, -1.5466]) \n",
      "\n",
      "log-probability given value with shape (2,):\n",
      " tensor([-0.9189, -1.5466]) \n",
      "\n",
      "log-probability given value with shape (2,1):\n",
      " tensor([[-0.9189, -1.5466],\n",
      "        [-0.9189, -1.5466]])\n"
     ]
    }
   ],
   "source": [
    "print(\"log-probability given value with shape ():\\n\",\n",
    "      normal_batch.log_prob(0), \"\\n\")\n",
    "print(\"log-probability given value with shape (2,):\\n\",\n",
    "      normal_batch.log_prob(torch.Tensor([0, 0])), \"\\n\")\n",
    "print(\"log-probability given value with shape (2,1):\\n\",\n",
    "      normal_batch.log_prob(torch.Tensor([[0], [0]])))"
   ],
   "metadata": {
    "collapsed": false,
    "pycharm": {
     "name": "#%%\n"
    }
   }
  },
  {
   "cell_type": "code",
   "execution_count": 11,
   "outputs": [
    {
     "name": "stdout",
     "output_type": "stream",
     "text": [
      "MultivariateNormal(loc: torch.Size([2]), scale_tril: torch.Size([2, 2]))\n"
     ]
    }
   ],
   "source": [
    "from torch.distributions import MultivariateNormal\n",
    "mvn = MultivariateNormal(\n",
    "    loc=torch.Tensor([0, 1]),\n",
    "    scale_tril=torch.cholesky(torch.Tensor([[1., 0.], [0., .5]])))\n",
    "print(mvn)\n"
   ],
   "metadata": {
    "collapsed": false,
    "pycharm": {
     "name": "#%%\n"
    }
   }
  },
  {
   "cell_type": "code",
   "execution_count": 12,
   "outputs": [
    {
     "name": "stdout",
     "output_type": "stream",
     "text": [
      "random sample with sample_shape ():\n",
      " tensor([-0.6045,  1.8964]) \n",
      "\n",
      "random sample with sample_shape (3,):\n",
      " tensor([[-0.5960,  1.8726],\n",
      "        [-0.1623,  1.3997],\n",
      "        [ 0.3080,  0.6629]]) \n",
      "\n",
      "random sample with sample_shape (2, 3):\n",
      " tensor([[[-2.7848, -0.1356],\n",
      "         [-0.0256,  0.6622],\n",
      "         [ 0.3598,  1.5019]],\n",
      "\n",
      "        [[-1.2370,  1.9604],\n",
      "         [-1.1687,  0.4930],\n",
      "         [-0.8746,  1.4270]]])\n"
     ]
    }
   ],
   "source": [
    "print(\"random sample with sample_shape ():\\n\",\n",
    "      mvn.sample(), \"\\n\")\n",
    "print(\"random sample with sample_shape (3,):\\n\",\n",
    "      mvn.sample(sample_shape=(3,)), \"\\n\")\n",
    "print(\"random sample with sample_shape (2, 3):\\n\",\n",
    "      mvn.sample(sample_shape=(2, 3)))"
   ],
   "metadata": {
    "collapsed": false,
    "pycharm": {
     "name": "#%%\n"
    }
   }
  },
  {
   "cell_type": "code",
   "execution_count": 13,
   "outputs": [
    {
     "name": "stdout",
     "output_type": "stream",
     "text": [
      "log-probability given value with shape (2,):\n",
      " tensor(-2.4913) \n",
      "\n",
      "log-probability given value with shape (2,1):\n",
      " tensor([-2.4913, -2.4913])\n"
     ]
    }
   ],
   "source": [
    "print(\"log-probability given value with shape (2,):\\n\",\n",
    "      mvn.log_prob(torch.Tensor([0, 0])), \"\\n\")\n",
    "print(\"log-probability given value with shape (2,1):\\n\",\n",
    "      mvn.log_prob(torch.Tensor([[0, 0], [0, 0]])))"
   ],
   "metadata": {
    "collapsed": false,
    "pycharm": {
     "name": "#%%\n"
    }
   }
  },
  {
   "cell_type": "code",
   "execution_count": 14,
   "outputs": [
    {
     "name": "stdout",
     "output_type": "stream",
     "text": [
      "torch.Size([])\n",
      "torch.Size([2])\n"
     ]
    }
   ],
   "source": [
    "from torch.distributions import Independent\n",
    "normal_batch = Independent(normal_batch, reinterpreted_batch_ndims=1)\n",
    "print(normal_batch.batch_shape)\n",
    "print(normal_batch.event_shape)\n"
   ],
   "metadata": {
    "collapsed": false,
    "pycharm": {
     "name": "#%%\n"
    }
   }
  },
  {
   "cell_type": "code",
   "execution_count": 15,
   "outputs": [
    {
     "data": {
      "text/plain": "MultivariateNormal(loc: torch.Size([3, 2]), scale_tril: torch.Size([3, 2, 2]))"
     },
     "execution_count": 15,
     "metadata": {},
     "output_type": "execute_result"
    }
   ],
   "source": [
    "mvn_batch = MultivariateNormal(\n",
    "    loc=torch.Tensor([[0, 1],[1, 2],[2, 3]]),\n",
    "    scale_tril=torch.cholesky(torch.Tensor([[1., .2], [.2, .5]])))\n",
    "mvn_batch"
   ],
   "metadata": {
    "collapsed": false,
    "pycharm": {
     "name": "#%%\n"
    }
   }
  },
  {
   "cell_type": "code",
   "execution_count": 16,
   "outputs": [
    {
     "name": "stdout",
     "output_type": "stream",
     "text": [
      "random sample with sample_shape ():\n",
      " tensor([[ 3.0610,  0.6208],\n",
      "        [-0.2899,  1.5068],\n",
      "        [ 1.1847,  1.7542]]) \n",
      "\n",
      "random sample with sample_shape (3,):\n",
      " tensor([[[-2.7281,  0.7668],\n",
      "         [ 0.2106,  2.7353],\n",
      "         [ 2.0402,  3.2146]],\n",
      "\n",
      "        [[-0.7326,  0.3473],\n",
      "         [ 2.7581,  2.4140],\n",
      "         [ 1.3786,  3.1373]],\n",
      "\n",
      "        [[ 0.8338,  2.2568],\n",
      "         [ 1.2728,  3.0123],\n",
      "         [ 1.5499,  2.2467]]]) \n",
      "\n",
      "random sample with sample_shape (2, 3):\n",
      " tensor([[[[ 2.1695,  1.8389],\n",
      "          [ 1.6234,  1.7669],\n",
      "          [ 2.8147,  3.6900]],\n",
      "\n",
      "         [[-0.1418,  0.4543],\n",
      "          [ 3.0294,  2.7188],\n",
      "          [ 3.8007,  2.8574]],\n",
      "\n",
      "         [[ 0.6378,  0.5537],\n",
      "          [ 0.6153,  2.9485],\n",
      "          [ 1.9271,  2.5194]]],\n",
      "\n",
      "\n",
      "        [[[-1.7589,  2.2462],\n",
      "          [ 0.7108,  0.6189],\n",
      "          [ 1.4582,  1.6543]],\n",
      "\n",
      "         [[ 1.0417, -0.3261],\n",
      "          [ 1.2526,  1.7957],\n",
      "          [ 3.1879,  1.9891]],\n",
      "\n",
      "         [[-0.5813,  0.3762],\n",
      "          [ 1.5086,  3.2492],\n",
      "          [ 2.2584,  3.2292]]]])\n"
     ]
    }
   ],
   "source": [
    "print(\"random sample with sample_shape ():\\n\",\n",
    "      mvn_batch.sample(), \"\\n\")\n",
    "print(\"random sample with sample_shape (3,):\\n\",\n",
    "      mvn_batch.sample(sample_shape=(3,)), \"\\n\")\n",
    "print(\"random sample with sample_shape (2, 3):\\n\",\n",
    "      mvn_batch.sample(sample_shape=(2, 3)))"
   ],
   "metadata": {
    "collapsed": false,
    "pycharm": {
     "name": "#%%\n"
    }
   }
  },
  {
   "cell_type": "markdown",
   "source": [
    "## 計算最大概似估計值"
   ],
   "metadata": {
    "collapsed": false,
    "pycharm": {
     "name": "#%% md\n"
    }
   }
  },
  {
   "cell_type": "code",
   "execution_count": 17,
   "outputs": [
    {
     "name": "stdout",
     "output_type": "stream",
     "text": [
      "normal model:\n",
      " Normal(loc: tensor([5.]), scale: tensor([2.])) \n",
      "\n"
     ]
    }
   ],
   "source": [
    "mu_true = torch.tensor([5.])\n",
    "sigma_true = torch.tensor([2.])\n",
    "model_normal_true = Normal(\n",
    "    loc=mu_true,\n",
    "    scale=sigma_true)\n",
    "print(\"normal model:\\n\", model_normal_true, \"\\n\")"
   ],
   "metadata": {
    "collapsed": false,
    "pycharm": {
     "name": "#%%\n"
    }
   }
  },
  {
   "cell_type": "code",
   "execution_count": 18,
   "outputs": [
    {
     "name": "stdout",
     "output_type": "stream",
     "text": [
      "negative likelihood value is tensor(2.1365)\n"
     ]
    }
   ],
   "source": [
    "sample_size = 1000\n",
    "x = model_normal_true.sample(sample_shape=(sample_size,))\n",
    "loss_value = -torch.mean(torch.sum(model_normal_true.log_prob(x), dim = 1))\n",
    "print(\"negative likelihood value is\", loss_value)\n"
   ],
   "metadata": {
    "collapsed": false,
    "pycharm": {
     "name": "#%%\n"
    }
   }
  },
  {
   "cell_type": "code",
   "execution_count": 19,
   "outputs": [],
   "source": [
    "epochs = 200\n",
    "lr = 1.0\n",
    "mu = torch.tensor([0.], requires_grad=True)\n",
    "sigma = torch.tensor([1.], requires_grad=True)\n",
    "opt = torch.optim.Adam([mu, sigma], lr=.5)\n",
    "for epoch in range(epochs):\n",
    "    model_normal = Normal(loc=mu, scale=sigma)\n",
    "    loss_value = -torch.mean(model_normal.log_prob(x))\n",
    "    opt.zero_grad()\n",
    "    loss_value.backward() # compute the gradient\n",
    "    opt.step()"
   ],
   "metadata": {
    "collapsed": false,
    "pycharm": {
     "name": "#%%\n"
    }
   }
  },
  {
   "cell_type": "code",
   "execution_count": 20,
   "outputs": [
    {
     "name": "stdout",
     "output_type": "stream",
     "text": [
      "ML mean by gradient descent: tensor([5.0452], requires_grad=True)\n",
      "ML std by gradient descent: tensor([2.0489], requires_grad=True)\n"
     ]
    }
   ],
   "source": [
    "print(\"ML mean by gradient descent:\", mu)\n",
    "print(\"ML std by gradient descent:\", sigma)"
   ],
   "metadata": {
    "collapsed": false,
    "pycharm": {
     "name": "#%%\n"
    }
   }
  },
  {
   "cell_type": "code",
   "execution_count": 21,
   "outputs": [
    {
     "name": "stdout",
     "output_type": "stream",
     "text": [
      "ML mean by formula: tensor(5.0452)\n",
      "ML std by formula: tensor(2.0477)\n"
     ]
    }
   ],
   "source": [
    "print(\"ML mean by formula:\", torch.mean(x))\n",
    "print(\"ML std by formula:\", torch.std(x, unbiased=False))"
   ],
   "metadata": {
    "collapsed": false,
    "pycharm": {
     "name": "#%%\n"
    }
   }
  },
  {
   "cell_type": "code",
   "execution_count": 22,
   "outputs": [
    {
     "name": "stdout",
     "output_type": "stream",
     "text": [
      "true mean vector: \n",
      " tensor([-1.,  0.,  1.])\n",
      "true covariance matrix: \n",
      " tensor([[9.0000, 6.0000, 1.2000],\n",
      "        [6.0000, 5.0000, 1.3000],\n",
      "        [1.2000, 1.3000, 0.6600]])\n"
     ]
    }
   ],
   "source": [
    "mu_true = torch.tensor([-1., 0., 1.])\n",
    "sigma_tril_true = torch.tensor([[3., 0., 0.], [2., 1., 0.], [.4, .5, .5]])\n",
    "model_mvn_true = MultivariateNormal(\n",
    "    loc=mu_true,\n",
    "    scale_tril=sigma_tril_true)\n",
    "print(\"true mean vector: \\n\", model_mvn_true.mean)\n",
    "print(\"true covariance matrix: \\n\", model_mvn_true.covariance_matrix)"
   ],
   "metadata": {
    "collapsed": false,
    "pycharm": {
     "name": "#%%\n"
    }
   }
  },
  {
   "cell_type": "code",
   "execution_count": 23,
   "outputs": [
    {
     "name": "stdout",
     "output_type": "stream",
     "text": [
      "negative likelihood value is tensor(4.6580)\n"
     ]
    }
   ],
   "source": [
    "sample_size = 1000\n",
    "x = model_mvn_true.sample(sample_shape=(sample_size,))\n",
    "loss_value = -torch.mean(model_mvn_true.log_prob(x))\n",
    "print(\"negative likelihood value is\", loss_value)\n"
   ],
   "metadata": {
    "collapsed": false,
    "pycharm": {
     "name": "#%%\n"
    }
   }
  },
  {
   "cell_type": "code",
   "execution_count": 24,
   "outputs": [],
   "source": [
    "epochs = 500\n",
    "lr = .1\n",
    "mu = torch.tensor(\n",
    "    [0., 0., 0.], requires_grad=True)\n",
    "sigma_tril = torch.tensor(\n",
    "    [[1., 0., 0.], [0., 1., 0.], [0., 0., 1.]],\n",
    "    requires_grad=True)\n",
    "opt = torch.optim.Adam([mu, sigma_tril], lr=lr)\n",
    "\n",
    "for epoch in range(epochs):\n",
    "    model_mvn = MultivariateNormal(\n",
    "    loc=mu,\n",
    "    scale_tril=sigma_tril)\n",
    "    loss_value = -torch.mean(model_mvn.log_prob(x))\n",
    "    opt.zero_grad()\n",
    "    loss_value.backward() # compute the gradient\n",
    "    opt.step()"
   ],
   "metadata": {
    "collapsed": false,
    "pycharm": {
     "name": "#%%\n"
    }
   }
  },
  {
   "cell_type": "code",
   "execution_count": 25,
   "outputs": [
    {
     "name": "stdout",
     "output_type": "stream",
     "text": [
      "ML mean by gradient descent: \n",
      " tensor([-1.0928, -0.0909,  0.9762], requires_grad=True)\n",
      "ML covariance by gradient descent: \n",
      " tensor([[9.0985, 6.0085, 1.1247],\n",
      "        [6.0085, 4.9280, 1.2205],\n",
      "        [1.1247, 1.2205, 0.6310]], grad_fn=<MmBackward>)\n"
     ]
    }
   ],
   "source": [
    "print(\"ML mean by gradient descent: \\n\",\n",
    "      mu)\n",
    "print(\"ML covariance by gradient descent: \\n\",\n",
    "      sigma_tril @ torch.transpose(sigma_tril, 0, 1))"
   ],
   "metadata": {
    "collapsed": false,
    "pycharm": {
     "name": "#%%\n"
    }
   }
  },
  {
   "cell_type": "code",
   "execution_count": 26,
   "outputs": [
    {
     "name": "stdout",
     "output_type": "stream",
     "text": [
      "ML mean by formula: \n",
      " tensor([-1.0928, -0.0909,  0.9762])\n",
      "ML covariance by formula: \n",
      " tensor([[9.0985, 6.0085, 1.1247],\n",
      "        [6.0085, 4.9280, 1.2205],\n",
      "        [1.1247, 1.2205, 0.6310]])\n"
     ]
    }
   ],
   "source": [
    "sample_mean = torch.mean(x, dim = 0)\n",
    "sample_moment2 = (torch.transpose(x, 0, 1) @ x) / sample_size\n",
    "sample_cov = sample_moment2 - torch.ger(sample_mean, sample_mean)\n",
    "print(\"ML mean by formula: \\n\",\n",
    "      sample_mean)\n",
    "print(\"ML covariance by formula: \\n\",\n",
    "      sample_cov)\n"
   ],
   "metadata": {
    "collapsed": false,
    "pycharm": {
     "name": "#%%\n"
    }
   }
  },
  {
   "cell_type": "markdown",
   "source": [
    "## 實徵範例"
   ],
   "metadata": {
    "collapsed": false,
    "pycharm": {
     "name": "#%% md\n"
    }
   }
  },
  {
   "cell_type": "markdown",
   "source": [
    "### 產生邏吉斯迴歸資料"
   ],
   "metadata": {
    "collapsed": false,
    "pycharm": {
     "name": "#%% md\n"
    }
   }
  },
  {
   "cell_type": "code",
   "execution_count": 27,
   "outputs": [
    {
     "data": {
      "text/plain": "<torch._C.Generator at 0x7f8210b31070>"
     },
     "execution_count": 27,
     "metadata": {},
     "output_type": "execute_result"
    }
   ],
   "source": [
    "torch.manual_seed(48)"
   ],
   "metadata": {
    "collapsed": false,
    "pycharm": {
     "name": "#%%\n"
    }
   }
  },
  {
   "cell_type": "code",
   "execution_count": 28,
   "outputs": [],
   "source": [
    "from torch.distributions import Bernoulli\n",
    "def generate_data(n_sample,\n",
    "                  weight,\n",
    "                  bias = 0,\n",
    "                  mean_feature = 0,\n",
    "                  std_feature = 1,\n",
    "                  dtype = torch.float64):\n",
    "    weight = torch.tensor(weight, dtype = dtype)\n",
    "    n_feature = weight.shape[0]\n",
    "    x = torch.normal(mean = mean_feature,\n",
    "                     std = std_feature,\n",
    "                     size = (n_sample, n_feature),\n",
    "                     dtype = dtype)\n",
    "    weight = weight.view(size = (-1, 1))\n",
    "    logit = bias + x @ weight\n",
    "    bernoulli = Bernoulli(logits = logit)\n",
    "    y = bernoulli.sample()\n",
    "    return x, y"
   ],
   "metadata": {
    "collapsed": false,
    "pycharm": {
     "name": "#%%\n"
    }
   }
  },
  {
   "cell_type": "code",
   "execution_count": 29,
   "outputs": [],
   "source": [
    "# run generate_data\n",
    "x, y = generate_data(n_sample = 1000,\n",
    "                     weight = [-5, 3, 0],\n",
    "                     bias = 2,\n",
    "                     mean_feature = 10,\n",
    "                     std_feature = 3,\n",
    "                     dtype = torch.float64)"
   ],
   "metadata": {
    "collapsed": false,
    "pycharm": {
     "name": "#%%\n"
    }
   }
  },
  {
   "cell_type": "markdown",
   "source": [
    "### 建立一進行邏吉斯迴歸分析之物件"
   ],
   "metadata": {
    "collapsed": false
   }
  },
  {
   "cell_type": "code",
   "execution_count": 30,
   "outputs": [],
   "source": [
    "# define a class to fit logistic regression\n",
    "class LogisticRegression():\n",
    "    def __init__(self, dtype = torch.float64):\n",
    "        self.dtype = dtype\n",
    "        self.weight = None\n",
    "        self.bias = None\n",
    "    def log_lik(self, x, y):\n",
    "        logit = self.bias + x @ self.weight\n",
    "        bernoulli = Bernoulli(logits = logit)\n",
    "        return torch.mean(bernoulli.log_prob(y))\n",
    "    def fit(self, x, y, epochs = 200, lr = .1):\n",
    "        if x.dtype is not self.dtype:\n",
    "            x = x.type(dtype = self.dtype)\n",
    "        if y.dtype is not self.dtype:\n",
    "            y = y.type(dtype = self.dtype)\n",
    "        n_feature = x.size()[1]\n",
    "        self.bias = torch.zeros(size = (1,),\n",
    "                                dtype = self.dtype,\n",
    "                                requires_grad = True)\n",
    "        self.weight = torch.zeros(size = (n_feature, 1),\n",
    "                                  dtype = self.dtype,\n",
    "                                  requires_grad = True)\n",
    "        opt = torch.optim.Adam([self.bias, self.weight], lr=lr)\n",
    "        for epoch in range(epochs):\n",
    "            loss_value = - self.log_lik(x, y)\n",
    "            opt.zero_grad()\n",
    "            loss_value.backward() # compute the gradient\n",
    "            opt.step()\n",
    "        return self"
   ],
   "metadata": {
    "collapsed": false,
    "pycharm": {
     "name": "#%%\n"
    }
   }
  },
  {
   "cell_type": "markdown",
   "source": [
    "### 計算模型參數"
   ],
   "metadata": {
    "collapsed": false
   }
  },
  {
   "cell_type": "code",
   "execution_count": 31,
   "outputs": [
    {
     "name": "stdout",
     "output_type": "stream",
     "text": [
      "tensor([3.8176], dtype=torch.float64, requires_grad=True)\n",
      "tensor([[-4.6982],\n",
      "        [ 2.6668],\n",
      "        [-0.0054]], dtype=torch.float64, requires_grad=True)\n"
     ]
    }
   ],
   "source": [
    "# fit logistic model\n",
    "model_lr = LogisticRegression()\n",
    "model_lr.fit(x, y, epochs = 2000, lr = 1)\n",
    "print(model_lr.bias)\n",
    "print(model_lr.weight)"
   ],
   "metadata": {
    "collapsed": false,
    "pycharm": {
     "name": "#%%\n"
    }
   }
  },
  {
   "cell_type": "code",
   "execution_count": 32,
   "outputs": [
    {
     "name": "stdout",
     "output_type": "stream",
     "text": [
      "[3.81736449]\n",
      "[[-4.69795962  2.66667074 -0.00543114]]\n"
     ]
    },
    {
     "name": "stderr",
     "output_type": "stream",
     "text": [
      "/Users/phhaung/Documents/PycharmProject/tism/venv/lib/python3.8/site-packages/sklearn/utils/validation.py:72: DataConversionWarning: A column-vector y was passed when a 1d array was expected. Please change the shape of y to (n_samples, ), for example using ravel().\n",
      "  return f(**kwargs)\n"
     ]
    }
   ],
   "source": [
    "# fit logistic model via sklearn\n",
    "# please install sklearn first\n",
    "from sklearn import linear_model\n",
    "model_lr_sklearn = linear_model.LogisticRegression(C=10000)\n",
    "model_lr_sklearn.fit(x, y)\n",
    "print(model_lr_sklearn.intercept_)\n",
    "print(model_lr_sklearn.coef_)"
   ],
   "metadata": {
    "collapsed": false,
    "pycharm": {
     "name": "#%%\n"
    }
   }
  }
 ],
 "metadata": {
  "kernelspec": {
   "display_name": "Python 3",
   "language": "python",
   "name": "python3"
  },
  "language_info": {
   "codemirror_mode": {
    "name": "ipython",
    "version": 2
   },
   "file_extension": ".py",
   "mimetype": "text/x-python",
   "name": "python",
   "nbconvert_exporter": "python",
   "pygments_lexer": "ipython2",
   "version": "2.7.6"
  }
 },
 "nbformat": 4,
 "nbformat_minor": 0
}