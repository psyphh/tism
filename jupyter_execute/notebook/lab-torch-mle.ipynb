{
 "cells": [
  {
   "cell_type": "markdown",
   "metadata": {
    "collapsed": false
   },
   "source": [
    "Lab: 最大概似估計\n",
    "================"
   ]
  },
  {
   "cell_type": "code",
   "execution_count": 1,
   "metadata": {
    "collapsed": true,
    "execution": {
     "iopub.execute_input": "2020-08-20T04:27:56.071388Z",
     "iopub.status.busy": "2020-08-20T04:27:56.070742Z",
     "iopub.status.idle": "2020-08-20T04:27:57.849132Z",
     "shell.execute_reply": "2020-08-20T04:27:57.849616Z"
    }
   },
   "outputs": [],
   "source": [
    "import torch"
   ]
  },
  {
   "cell_type": "code",
   "execution_count": 2,
   "metadata": {
    "collapsed": false,
    "execution": {
     "iopub.execute_input": "2020-08-20T04:27:57.854020Z",
     "iopub.status.busy": "2020-08-20T04:27:57.853220Z",
     "iopub.status.idle": "2020-08-20T04:27:57.856047Z",
     "shell.execute_reply": "2020-08-20T04:27:57.856520Z"
    },
    "pycharm": {
     "name": "#%%\n"
    }
   },
   "outputs": [],
   "source": [
    "from torch.distributions import Normal\n",
    "normal = Normal(loc=0., scale=1.)"
   ]
  },
  {
   "cell_type": "code",
   "execution_count": 3,
   "metadata": {
    "collapsed": false,
    "execution": {
     "iopub.execute_input": "2020-08-20T04:27:57.861892Z",
     "iopub.status.busy": "2020-08-20T04:27:57.860911Z",
     "iopub.status.idle": "2020-08-20T04:27:57.876476Z",
     "shell.execute_reply": "2020-08-20T04:27:57.877057Z"
    },
    "pycharm": {
     "name": "#%%\n"
    }
   },
   "outputs": [
    {
     "name": "stdout",
     "output_type": "stream",
     "text": [
      "random sample with shape ():\n",
      " tensor(-0.9292)\n",
      "random sample with shape (3,):\n",
      " tensor([-0.4284, -1.2013, -1.0546])\n",
      "random sample with shape (2,3):\n",
      " tensor([[-0.4891, -0.8019, -0.5050],\n",
      "        [-1.8835,  0.1514, -0.3004]])\n"
     ]
    }
   ],
   "source": [
    "print(\"random sample with shape ():\\n\",\n",
    "      normal.sample())\n",
    "print(\"random sample with shape (3,):\\n\",\n",
    "      normal.sample(sample_shape=(3,)))\n",
    "print(\"random sample with shape (2,3):\\n\",\n",
    "      normal.sample(sample_shape=(2, 3)))"
   ]
  },
  {
   "cell_type": "code",
   "execution_count": 4,
   "metadata": {
    "collapsed": false,
    "execution": {
     "iopub.execute_input": "2020-08-20T04:27:57.882284Z",
     "iopub.status.busy": "2020-08-20T04:27:57.881204Z",
     "iopub.status.idle": "2020-08-20T04:27:57.887082Z",
     "shell.execute_reply": "2020-08-20T04:27:57.887553Z"
    },
    "pycharm": {
     "name": "#%%\n"
    }
   },
   "outputs": [
    {
     "name": "stdout",
     "output_type": "stream",
     "text": [
      "cumulative probability given value with shape ():\n",
      " tensor(0.5000) \n",
      "\n",
      "cumulative probability given value with (3,):\n",
      " tensor([0.1587, 0.5000, 0.6915]) \n",
      "\n",
      "cumulative probability given value with (2,3):\n",
      " tensor([[0.1587, 0.5000, 0.6915],\n",
      "        [0.0228, 0.8413, 0.9987]])\n"
     ]
    }
   ],
   "source": [
    "print(\"cumulative probability given value with shape ():\\n\",\n",
    "      normal.cdf(value=0), \"\\n\")\n",
    "print(\"cumulative probability given value with (3,):\\n\",\n",
    "      normal.cdf(value=torch.Tensor([-1, 0, .5])), \"\\n\")\n",
    "print(\"cumulative probability given value with (2,3):\\n\",\n",
    "      normal.cdf(value=torch.Tensor([[-1, 0, .5], [-2, 1, 3]])))"
   ]
  },
  {
   "cell_type": "code",
   "execution_count": 5,
   "metadata": {
    "collapsed": false,
    "execution": {
     "iopub.execute_input": "2020-08-20T04:27:57.892260Z",
     "iopub.status.busy": "2020-08-20T04:27:57.891254Z",
     "iopub.status.idle": "2020-08-20T04:27:57.899057Z",
     "shell.execute_reply": "2020-08-20T04:27:57.899550Z"
    },
    "pycharm": {
     "name": "#%%\n"
    }
   },
   "outputs": [
    {
     "name": "stdout",
     "output_type": "stream",
     "text": [
      "cumulative probability given value with shape ():\n",
      " tensor(-0.9189) \n",
      "\n",
      "cumulative probability given value with (3,):\n",
      " tensor([-1.4189, -0.9189, -1.0439]) \n",
      "\n",
      "cumulative probability given value with (2,3):\n",
      " tensor([[-1.4189, -0.9189, -1.0439],\n",
      "        [-2.9189, -1.4189, -5.4189]])\n"
     ]
    }
   ],
   "source": [
    "print(\"cumulative probability given value with shape ():\\n\",\n",
    "      normal.log_prob(value=0), \"\\n\")\n",
    "print(\"cumulative probability given value with (3,):\\n\",\n",
    "      normal.log_prob(value=torch.Tensor([-1, 0, .5])), \"\\n\")\n",
    "print(\"cumulative probability given value with (2,3):\\n\",\n",
    "      normal.log_prob(value=torch.Tensor([[-1, 0, .5], [-2, 1, 3]])))"
   ]
  },
  {
   "cell_type": "code",
   "execution_count": 6,
   "metadata": {
    "collapsed": false,
    "execution": {
     "iopub.execute_input": "2020-08-20T04:27:57.906066Z",
     "iopub.status.busy": "2020-08-20T04:27:57.905340Z",
     "iopub.status.idle": "2020-08-20T04:27:57.908068Z",
     "shell.execute_reply": "2020-08-20T04:27:57.908652Z"
    },
    "pycharm": {
     "name": "#%%\n"
    }
   },
   "outputs": [
    {
     "name": "stdout",
     "output_type": "stream",
     "text": [
      "Normal(loc: 0.0, scale: 1.0)\n"
     ]
    }
   ],
   "source": [
    "print(normal)"
   ]
  },
  {
   "cell_type": "code",
   "execution_count": 7,
   "metadata": {
    "collapsed": false,
    "execution": {
     "iopub.execute_input": "2020-08-20T04:27:57.913675Z",
     "iopub.status.busy": "2020-08-20T04:27:57.912917Z",
     "iopub.status.idle": "2020-08-20T04:27:57.915404Z",
     "shell.execute_reply": "2020-08-20T04:27:57.916061Z"
    },
    "pycharm": {
     "name": "#%%\n"
    }
   },
   "outputs": [
    {
     "name": "stdout",
     "output_type": "stream",
     "text": [
      "torch.Size([])\n",
      "torch.Size([])\n"
     ]
    }
   ],
   "source": [
    "print(normal.batch_shape)\n",
    "print(normal.event_shape)"
   ]
  },
  {
   "cell_type": "code",
   "execution_count": 8,
   "metadata": {
    "collapsed": false,
    "execution": {
     "iopub.execute_input": "2020-08-20T04:27:57.920989Z",
     "iopub.status.busy": "2020-08-20T04:27:57.919976Z",
     "iopub.status.idle": "2020-08-20T04:27:57.922848Z",
     "shell.execute_reply": "2020-08-20T04:27:57.923339Z"
    },
    "pycharm": {
     "name": "#%%\n"
    }
   },
   "outputs": [
    {
     "name": "stdout",
     "output_type": "stream",
     "text": [
      "Normal(loc: torch.Size([2]), scale: torch.Size([2]))\n"
     ]
    }
   ],
   "source": [
    "normal_batch = Normal(loc=torch.Tensor([0., 1.]), scale=torch.Tensor([1., 1.5]))\n",
    "print(normal_batch)"
   ]
  },
  {
   "cell_type": "code",
   "execution_count": 9,
   "metadata": {
    "collapsed": false,
    "execution": {
     "iopub.execute_input": "2020-08-20T04:27:57.928469Z",
     "iopub.status.busy": "2020-08-20T04:27:57.927652Z",
     "iopub.status.idle": "2020-08-20T04:27:57.933563Z",
     "shell.execute_reply": "2020-08-20T04:27:57.934093Z"
    },
    "pycharm": {
     "name": "#%%\n"
    }
   },
   "outputs": [
    {
     "name": "stdout",
     "output_type": "stream",
     "text": [
      "random sample with sample_shape ():\n",
      " tensor([0.2361, 1.9130]) \n",
      "\n",
      "random sample with sample_shape (3,):\n",
      " tensor([[ 0.6217,  2.4277],\n",
      "        [ 1.3643, -0.8847],\n",
      "        [-0.2811,  0.0804]]) \n",
      "\n",
      "random sample with sample_shape (2,3):\n",
      " tensor([[[ 0.3543,  0.3657],\n",
      "         [ 1.1756, -2.3121],\n",
      "         [-0.2631, -0.3508]],\n",
      "\n",
      "        [[-1.1823,  2.1851],\n",
      "         [ 0.0975,  3.7328],\n",
      "         [ 1.2922,  0.4063]]])\n"
     ]
    }
   ],
   "source": [
    "print(\"random sample with sample_shape ():\\n\",\n",
    "      normal_batch.sample(), \"\\n\")\n",
    "print(\"random sample with sample_shape (3,):\\n\",\n",
    "      normal_batch.sample(sample_shape=(3,)), \"\\n\")\n",
    "print(\"random sample with sample_shape (2,3):\\n\",\n",
    "      normal_batch.sample(sample_shape=(2,3)))\n"
   ]
  },
  {
   "cell_type": "code",
   "execution_count": 10,
   "metadata": {
    "collapsed": false,
    "execution": {
     "iopub.execute_input": "2020-08-20T04:27:57.938578Z",
     "iopub.status.busy": "2020-08-20T04:27:57.937845Z",
     "iopub.status.idle": "2020-08-20T04:27:57.944884Z",
     "shell.execute_reply": "2020-08-20T04:27:57.945502Z"
    },
    "pycharm": {
     "name": "#%%\n"
    }
   },
   "outputs": [
    {
     "name": "stdout",
     "output_type": "stream",
     "text": [
      "log-probability given value with shape ():\n",
      " tensor([-0.9189, -1.5466]) \n",
      "\n",
      "log-probability given value with shape (2,):\n",
      " tensor([-0.9189, -1.5466]) \n",
      "\n",
      "log-probability given value with shape (2,1):\n",
      " tensor([[-0.9189, -1.5466],\n",
      "        [-0.9189, -1.5466]])\n"
     ]
    }
   ],
   "source": [
    "print(\"log-probability given value with shape ():\\n\",\n",
    "      normal_batch.log_prob(0), \"\\n\")\n",
    "print(\"log-probability given value with shape (2,):\\n\",\n",
    "      normal_batch.log_prob(torch.Tensor([0, 0])), \"\\n\")\n",
    "print(\"log-probability given value with shape (2,1):\\n\",\n",
    "      normal_batch.log_prob(torch.Tensor([[0], [0]])))"
   ]
  },
  {
   "cell_type": "code",
   "execution_count": 11,
   "metadata": {
    "collapsed": false,
    "execution": {
     "iopub.execute_input": "2020-08-20T04:27:57.951904Z",
     "iopub.status.busy": "2020-08-20T04:27:57.951141Z",
     "iopub.status.idle": "2020-08-20T04:27:57.954140Z",
     "shell.execute_reply": "2020-08-20T04:27:57.954590Z"
    },
    "pycharm": {
     "name": "#%%\n"
    }
   },
   "outputs": [
    {
     "name": "stdout",
     "output_type": "stream",
     "text": [
      "MultivariateNormal(loc: torch.Size([2]), scale_tril: torch.Size([2, 2]))\n"
     ]
    }
   ],
   "source": [
    "from torch.distributions import MultivariateNormal\n",
    "mvn = MultivariateNormal(\n",
    "    loc=torch.Tensor([0, 1]),\n",
    "    scale_tril=torch.cholesky(torch.Tensor([[1., 0.], [0., .5]])))\n",
    "print(mvn)\n"
   ]
  },
  {
   "cell_type": "code",
   "execution_count": 12,
   "metadata": {
    "collapsed": false,
    "execution": {
     "iopub.execute_input": "2020-08-20T04:27:57.959533Z",
     "iopub.status.busy": "2020-08-20T04:27:57.958153Z",
     "iopub.status.idle": "2020-08-20T04:27:57.967240Z",
     "shell.execute_reply": "2020-08-20T04:27:57.967796Z"
    },
    "pycharm": {
     "name": "#%%\n"
    }
   },
   "outputs": [
    {
     "name": "stdout",
     "output_type": "stream",
     "text": [
      "random sample with sample_shape ():\n",
      " tensor([0.1602, 0.8128]) \n",
      "\n",
      "random sample with sample_shape (3,):\n",
      " tensor([[ 0.5483,  0.5185],\n",
      "        [ 2.7751,  0.9492],\n",
      "        [-1.0573,  1.0229]]) \n",
      "\n",
      "random sample with sample_shape (2, 3):\n",
      " tensor([[[ 0.0028,  0.4785],\n",
      "         [-1.8766,  1.6528],\n",
      "         [-0.0436,  1.5666]],\n",
      "\n",
      "        [[ 0.1346,  1.4534],\n",
      "         [-0.5119, -0.2116],\n",
      "         [-0.3745,  0.4643]]])\n"
     ]
    }
   ],
   "source": [
    "print(\"random sample with sample_shape ():\\n\",\n",
    "      mvn.sample(), \"\\n\")\n",
    "print(\"random sample with sample_shape (3,):\\n\",\n",
    "      mvn.sample(sample_shape=(3,)), \"\\n\")\n",
    "print(\"random sample with sample_shape (2, 3):\\n\",\n",
    "      mvn.sample(sample_shape=(2, 3)))"
   ]
  },
  {
   "cell_type": "code",
   "execution_count": 13,
   "metadata": {
    "collapsed": false,
    "execution": {
     "iopub.execute_input": "2020-08-20T04:27:57.972151Z",
     "iopub.status.busy": "2020-08-20T04:27:57.971396Z",
     "iopub.status.idle": "2020-08-20T04:27:57.979444Z",
     "shell.execute_reply": "2020-08-20T04:27:57.978656Z"
    },
    "pycharm": {
     "name": "#%%\n"
    }
   },
   "outputs": [
    {
     "name": "stdout",
     "output_type": "stream",
     "text": [
      "log-probability given value with shape (2,):\n",
      " tensor(-2.4913) \n",
      "\n",
      "log-probability given value with shape (2,1):\n",
      " tensor([-2.4913, -2.4913])\n"
     ]
    }
   ],
   "source": [
    "print(\"log-probability given value with shape (2,):\\n\",\n",
    "      mvn.log_prob(torch.Tensor([0, 0])), \"\\n\")\n",
    "print(\"log-probability given value with shape (2,1):\\n\",\n",
    "      mvn.log_prob(torch.Tensor([[0, 0], [0, 0]])))"
   ]
  },
  {
   "cell_type": "code",
   "execution_count": 14,
   "metadata": {
    "collapsed": false,
    "execution": {
     "iopub.execute_input": "2020-08-20T04:27:57.983764Z",
     "iopub.status.busy": "2020-08-20T04:27:57.983059Z",
     "iopub.status.idle": "2020-08-20T04:27:57.986153Z",
     "shell.execute_reply": "2020-08-20T04:27:57.986819Z"
    },
    "pycharm": {
     "name": "#%%\n"
    }
   },
   "outputs": [
    {
     "name": "stdout",
     "output_type": "stream",
     "text": [
      "torch.Size([])\n",
      "torch.Size([2])\n"
     ]
    }
   ],
   "source": [
    "from torch.distributions import Independent\n",
    "normal_batch = Independent(normal_batch, reinterpreted_batch_ndims=1)\n",
    "print(normal_batch.batch_shape)\n",
    "print(normal_batch.event_shape)\n"
   ]
  },
  {
   "cell_type": "code",
   "execution_count": 15,
   "metadata": {
    "collapsed": false,
    "execution": {
     "iopub.execute_input": "2020-08-20T04:27:57.997265Z",
     "iopub.status.busy": "2020-08-20T04:27:57.990506Z",
     "iopub.status.idle": "2020-08-20T04:27:57.999873Z",
     "shell.execute_reply": "2020-08-20T04:27:58.000284Z"
    },
    "pycharm": {
     "name": "#%%\n"
    }
   },
   "outputs": [
    {
     "data": {
      "text/plain": [
       "MultivariateNormal(loc: torch.Size([3, 2]), scale_tril: torch.Size([3, 2, 2]))"
      ]
     },
     "execution_count": 15,
     "metadata": {},
     "output_type": "execute_result"
    }
   ],
   "source": [
    "mvn_batch = MultivariateNormal(\n",
    "    loc=torch.Tensor([[0, 1],[1, 2],[2, 3]]),\n",
    "    scale_tril=torch.cholesky(torch.Tensor([[1., .2], [.2, .5]])))\n",
    "mvn_batch"
   ]
  },
  {
   "cell_type": "code",
   "execution_count": 16,
   "metadata": {
    "collapsed": false,
    "execution": {
     "iopub.execute_input": "2020-08-20T04:27:58.004531Z",
     "iopub.status.busy": "2020-08-20T04:27:58.003877Z",
     "iopub.status.idle": "2020-08-20T04:27:58.012695Z",
     "shell.execute_reply": "2020-08-20T04:27:58.013766Z"
    },
    "pycharm": {
     "name": "#%%\n"
    }
   },
   "outputs": [
    {
     "name": "stdout",
     "output_type": "stream",
     "text": [
      "random sample with sample_shape ():\n",
      " tensor([[-0.1951,  1.6621],\n",
      "        [ 1.9790,  2.4885],\n",
      "        [ 1.0341,  3.9402]]) \n",
      "\n",
      "random sample with sample_shape (3,):\n",
      " tensor([[[ 1.6847,  1.3233],\n",
      "         [ 0.6749,  2.3131],\n",
      "         [-0.5352,  2.7279]],\n",
      "\n",
      "        [[-0.5025,  1.1958],\n",
      "         [ 1.2068,  0.6099],\n",
      "         [ 1.8227,  1.9458]],\n",
      "\n",
      "        [[ 0.3617,  0.9064],\n",
      "         [ 1.3854,  1.9886],\n",
      "         [ 1.7064,  2.5419]]]) \n",
      "\n",
      "random sample with sample_shape (2, 3):\n",
      " tensor([[[[ 0.1575,  1.8476],\n",
      "          [ 1.1966,  2.7655],\n",
      "          [ 3.6399,  3.5072]],\n",
      "\n",
      "         [[-0.2480,  1.0165],\n",
      "          [ 0.8070,  2.3730],\n",
      "          [ 4.0942,  3.4792]],\n",
      "\n",
      "         [[ 1.7473,  1.4586],\n",
      "          [-0.2429,  3.2896],\n",
      "          [ 2.5905,  3.9202]]],\n",
      "\n",
      "\n",
      "        [[[ 0.1583,  2.6113],\n",
      "          [ 0.0940,  1.4044],\n",
      "          [ 0.8768,  3.8525]],\n",
      "\n",
      "         [[ 0.1326, -0.0335],\n",
      "          [ 1.2256,  2.8588],\n",
      "          [ 1.6560,  3.0161]],\n",
      "\n",
      "         [[-0.3291,  1.9444],\n",
      "          [ 1.3438,  2.9769],\n",
      "          [ 2.2360,  2.3454]]]])\n"
     ]
    }
   ],
   "source": [
    "print(\"random sample with sample_shape ():\\n\",\n",
    "      mvn_batch.sample(), \"\\n\")\n",
    "print(\"random sample with sample_shape (3,):\\n\",\n",
    "      mvn_batch.sample(sample_shape=(3,)), \"\\n\")\n",
    "print(\"random sample with sample_shape (2, 3):\\n\",\n",
    "      mvn_batch.sample(sample_shape=(2, 3)))\n"
   ]
  },
  {
   "cell_type": "code",
   "execution_count": 17,
   "metadata": {
    "collapsed": false,
    "execution": {
     "iopub.execute_input": "2020-08-20T04:27:58.018208Z",
     "iopub.status.busy": "2020-08-20T04:27:58.017515Z",
     "iopub.status.idle": "2020-08-20T04:27:58.020831Z",
     "shell.execute_reply": "2020-08-20T04:27:58.021309Z"
    },
    "pycharm": {
     "name": "#%%\n"
    }
   },
   "outputs": [
    {
     "name": "stdout",
     "output_type": "stream",
     "text": [
      "normal model:\n",
      " Normal(loc: tensor([5.]), scale: tensor([2.])) \n",
      "\n"
     ]
    }
   ],
   "source": [
    "mu_true = torch.tensor([5.])\n",
    "sigma_true = torch.tensor([2.])\n",
    "normal_model_true = Normal(\n",
    "    loc=mu_true,\n",
    "    scale=sigma_true)\n",
    "print(\"normal model:\\n\", normal_model_true, \"\\n\")"
   ]
  },
  {
   "cell_type": "code",
   "execution_count": 18,
   "metadata": {
    "collapsed": false,
    "execution": {
     "iopub.execute_input": "2020-08-20T04:27:58.027880Z",
     "iopub.status.busy": "2020-08-20T04:27:58.024887Z",
     "iopub.status.idle": "2020-08-20T04:27:58.030190Z",
     "shell.execute_reply": "2020-08-20T04:27:58.030731Z"
    },
    "pycharm": {
     "name": "#%%\n"
    }
   },
   "outputs": [
    {
     "name": "stdout",
     "output_type": "stream",
     "text": [
      "negative likelihood value is tensor(2.1385)\n"
     ]
    }
   ],
   "source": [
    "sample_size = 1000\n",
    "x = normal_model_true.sample(sample_shape=(sample_size,))\n",
    "loss_value = -torch.mean(torch.sum(normal_model_true.log_prob(x), dim = 1))\n",
    "print(\"negative likelihood value is\", loss_value)\n"
   ]
  },
  {
   "cell_type": "code",
   "execution_count": 19,
   "metadata": {
    "collapsed": false,
    "execution": {
     "iopub.execute_input": "2020-08-20T04:27:58.037092Z",
     "iopub.status.busy": "2020-08-20T04:27:58.036365Z",
     "iopub.status.idle": "2020-08-20T04:27:58.140691Z",
     "shell.execute_reply": "2020-08-20T04:27:58.141153Z"
    },
    "pycharm": {
     "name": "#%%\n"
    }
   },
   "outputs": [],
   "source": [
    "epochs = 200\n",
    "lr = 1.0\n",
    "mu = torch.tensor([0.], requires_grad=True)\n",
    "sigma = torch.tensor([1.], requires_grad=True)\n",
    "optimizer = torch.optim.Adam([mu, sigma], lr=.5)\n",
    "for epoch in range(epochs):\n",
    "    normal_model = Normal(loc=mu, scale=sigma)\n",
    "    loss_value = -torch.mean(normal_model.log_prob(x))\n",
    "    optimizer.zero_grad()\n",
    "    loss_value.backward() # compute the gradient\n",
    "    optimizer.step()"
   ]
  },
  {
   "cell_type": "code",
   "execution_count": 20,
   "metadata": {
    "collapsed": false,
    "execution": {
     "iopub.execute_input": "2020-08-20T04:27:58.147675Z",
     "iopub.status.busy": "2020-08-20T04:27:58.146710Z",
     "iopub.status.idle": "2020-08-20T04:27:58.149806Z",
     "shell.execute_reply": "2020-08-20T04:27:58.150292Z"
    },
    "pycharm": {
     "name": "#%%\n"
    }
   },
   "outputs": [
    {
     "name": "stdout",
     "output_type": "stream",
     "text": [
      "ML mean by gradient descent: tensor([4.9687], requires_grad=True)\n",
      "ML std by gradient descent: tensor([2.0515], requires_grad=True)\n"
     ]
    }
   ],
   "source": [
    "print(\"ML mean by gradient descent:\", mu)\n",
    "print(\"ML std by gradient descent:\", sigma)"
   ]
  },
  {
   "cell_type": "code",
   "execution_count": 21,
   "metadata": {
    "collapsed": false,
    "execution": {
     "iopub.execute_input": "2020-08-20T04:27:58.154101Z",
     "iopub.status.busy": "2020-08-20T04:27:58.153385Z",
     "iopub.status.idle": "2020-08-20T04:27:58.157537Z",
     "shell.execute_reply": "2020-08-20T04:27:58.157957Z"
    },
    "pycharm": {
     "name": "#%%\n"
    }
   },
   "outputs": [
    {
     "name": "stdout",
     "output_type": "stream",
     "text": [
      "ML mean by formula: tensor(4.9686)\n",
      "ML std by formula: tensor(2.0519)\n"
     ]
    }
   ],
   "source": [
    "print(\"ML mean by formula:\", torch.mean(x))\n",
    "print(\"ML std by formula:\", torch.std(x, unbiased=False))"
   ]
  },
  {
   "cell_type": "code",
   "execution_count": 22,
   "metadata": {
    "collapsed": false,
    "execution": {
     "iopub.execute_input": "2020-08-20T04:27:58.165465Z",
     "iopub.status.busy": "2020-08-20T04:27:58.164321Z",
     "iopub.status.idle": "2020-08-20T04:27:58.167436Z",
     "shell.execute_reply": "2020-08-20T04:27:58.167946Z"
    },
    "pycharm": {
     "name": "#%%\n"
    }
   },
   "outputs": [
    {
     "name": "stdout",
     "output_type": "stream",
     "text": [
      "true mean vector: \n",
      " tensor([-1.,  0.,  1.])\n",
      "true covariance matrix: \n",
      " tensor([[9.0000, 6.0000, 1.2000],\n",
      "        [6.0000, 5.0000, 1.3000],\n",
      "        [1.2000, 1.3000, 0.6600]])\n"
     ]
    }
   ],
   "source": [
    "mu_true = torch.tensor([-1., 0., 1.])\n",
    "sigma_tril_true = torch.tensor([[3., 0., 0.], [2., 1., 0.], [.4, .5, .5]])\n",
    "mvn_model_true = MultivariateNormal(\n",
    "    loc=mu_true,\n",
    "    scale_tril=sigma_tril_true)\n",
    "print(\"true mean vector: \\n\", mvn_model_true.mean)\n",
    "print(\"true covariance matrix: \\n\", mvn_model_true.covariance_matrix)"
   ]
  },
  {
   "cell_type": "code",
   "execution_count": 23,
   "metadata": {
    "collapsed": false,
    "execution": {
     "iopub.execute_input": "2020-08-20T04:27:58.173940Z",
     "iopub.status.busy": "2020-08-20T04:27:58.173061Z",
     "iopub.status.idle": "2020-08-20T04:27:58.178714Z",
     "shell.execute_reply": "2020-08-20T04:27:58.179747Z"
    },
    "pycharm": {
     "name": "#%%\n"
    }
   },
   "outputs": [
    {
     "name": "stdout",
     "output_type": "stream",
     "text": [
      "negative likelihood value is tensor(4.6196)\n"
     ]
    }
   ],
   "source": [
    "sample_size = 1000\n",
    "x = mvn_model_true.sample(sample_shape=(sample_size,))\n",
    "loss_value = -torch.mean(mvn_model_true.log_prob(x))\n",
    "print(\"negative likelihood value is\", loss_value)\n"
   ]
  },
  {
   "cell_type": "code",
   "execution_count": 24,
   "metadata": {
    "collapsed": false,
    "execution": {
     "iopub.execute_input": "2020-08-20T04:27:58.185923Z",
     "iopub.status.busy": "2020-08-20T04:27:58.185188Z",
     "iopub.status.idle": "2020-08-20T04:27:58.706455Z",
     "shell.execute_reply": "2020-08-20T04:27:58.706936Z"
    },
    "pycharm": {
     "name": "#%%\n"
    }
   },
   "outputs": [],
   "source": [
    "epochs = 500\n",
    "lr = .1\n",
    "mu = torch.tensor(\n",
    "    [0., 0., 0.], requires_grad=True)\n",
    "sigma_tril = torch.tensor(\n",
    "    [[1., 0., 0.], [0., 1., 0.], [0., 0., 1.]],\n",
    "    requires_grad=True)\n",
    "optimizer = torch.optim.Adam([mu, sigma_tril], lr=lr)\n",
    "\n",
    "for epoch in range(epochs):\n",
    "    mvn_model = MultivariateNormal(\n",
    "    loc=mu,\n",
    "    scale_tril=sigma_tril)\n",
    "    loss_value = -torch.mean(mvn_model.log_prob(x))\n",
    "    optimizer.zero_grad()\n",
    "    loss_value.backward() # compute the gradient\n",
    "    optimizer.step()"
   ]
  },
  {
   "cell_type": "code",
   "execution_count": 25,
   "metadata": {
    "collapsed": false,
    "execution": {
     "iopub.execute_input": "2020-08-20T04:27:58.711679Z",
     "iopub.status.busy": "2020-08-20T04:27:58.710801Z",
     "iopub.status.idle": "2020-08-20T04:27:58.717109Z",
     "shell.execute_reply": "2020-08-20T04:27:58.717700Z"
    },
    "pycharm": {
     "name": "#%%\n"
    }
   },
   "outputs": [
    {
     "name": "stdout",
     "output_type": "stream",
     "text": [
      "ML mean by gradient descent: \n",
      " tensor([-0.9970, -0.0167,  1.0046], requires_grad=True)\n",
      "ML covariance by gradient descent: \n",
      " tensor([[8.8229, 5.9188, 1.1359],\n",
      "        [5.9188, 4.9350, 1.2512],\n",
      "        [1.1359, 1.2512, 0.6361]], grad_fn=<MmBackward>)\n"
     ]
    }
   ],
   "source": [
    "print(\"ML mean by gradient descent: \\n\",\n",
    "      mu)\n",
    "print(\"ML covariance by gradient descent: \\n\",\n",
    "      sigma_tril @ torch.transpose(sigma_tril, 0, 1))"
   ]
  },
  {
   "cell_type": "code",
   "execution_count": 26,
   "metadata": {
    "collapsed": false,
    "execution": {
     "iopub.execute_input": "2020-08-20T04:27:58.721966Z",
     "iopub.status.busy": "2020-08-20T04:27:58.721187Z",
     "iopub.status.idle": "2020-08-20T04:27:58.726152Z",
     "shell.execute_reply": "2020-08-20T04:27:58.727321Z"
    },
    "pycharm": {
     "name": "#%%\n"
    }
   },
   "outputs": [
    {
     "name": "stdout",
     "output_type": "stream",
     "text": [
      "ML mean by formula: \n",
      " tensor([-0.9970, -0.0167,  1.0046])\n",
      "ML covariance by formula: \n",
      " tensor([[8.8229, 5.9188, 1.1359],\n",
      "        [5.9188, 4.9350, 1.2512],\n",
      "        [1.1359, 1.2512, 0.6361]])\n"
     ]
    }
   ],
   "source": [
    "sample_mean = torch.mean(x, dim = 0)\n",
    "sample_moment2 = (torch.transpose(x, 0, 1) @ x) / sample_size\n",
    "sample_cov = sample_moment2 - torch.ger(sample_mean, sample_mean)\n",
    "print(\"ML mean by formula: \\n\",\n",
    "      sample_mean)\n",
    "print(\"ML covariance by formula: \\n\",\n",
    "      sample_cov)"
   ]
  }
 ],
 "metadata": {
  "kernelspec": {
   "display_name": "Python 3",
   "language": "python",
   "name": "python3"
  },
  "language_info": {
   "codemirror_mode": {
    "name": "ipython",
    "version": 3
   },
   "file_extension": ".py",
   "mimetype": "text/x-python",
   "name": "python",
   "nbconvert_exporter": "python",
   "pygments_lexer": "ipython3",
   "version": "3.8.5"
  }
 },
 "nbformat": 4,
 "nbformat_minor": 0
}