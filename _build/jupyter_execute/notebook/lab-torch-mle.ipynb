{
 "cells": [
  {
   "cell_type": "markdown",
   "metadata": {
    "collapsed": false
   },
   "source": [
    "Lab: 最大概似估計\n",
    "================"
   ]
  },
  {
   "cell_type": "code",
   "execution_count": 1,
   "metadata": {
    "collapsed": true,
    "execution": {
     "iopub.execute_input": "2020-08-20T04:54:11.569432Z",
     "iopub.status.busy": "2020-08-20T04:54:11.568731Z",
     "iopub.status.idle": "2020-08-20T04:54:17.033820Z",
     "shell.execute_reply": "2020-08-20T04:54:17.034297Z"
    }
   },
   "outputs": [],
   "source": [
    "import torch"
   ]
  },
  {
   "cell_type": "code",
   "execution_count": 2,
   "metadata": {
    "collapsed": false,
    "execution": {
     "iopub.execute_input": "2020-08-20T04:54:17.040136Z",
     "iopub.status.busy": "2020-08-20T04:54:17.038871Z",
     "iopub.status.idle": "2020-08-20T04:54:17.041903Z",
     "shell.execute_reply": "2020-08-20T04:54:17.042527Z"
    },
    "pycharm": {
     "name": "#%%\n"
    }
   },
   "outputs": [],
   "source": [
    "from torch.distributions import Normal\n",
    "normal = Normal(loc=0., scale=1.)"
   ]
  },
  {
   "cell_type": "code",
   "execution_count": 3,
   "metadata": {
    "collapsed": false,
    "execution": {
     "iopub.execute_input": "2020-08-20T04:54:17.047612Z",
     "iopub.status.busy": "2020-08-20T04:54:17.046854Z",
     "iopub.status.idle": "2020-08-20T04:54:17.117945Z",
     "shell.execute_reply": "2020-08-20T04:54:17.118451Z"
    },
    "pycharm": {
     "name": "#%%\n"
    }
   },
   "outputs": [
    {
     "name": "stdout",
     "output_type": "stream",
     "text": [
      "random sample with shape ():\n",
      " tensor(-0.7251)\n",
      "random sample with shape (3,):\n",
      " tensor([-0.3210,  0.9775, -0.1056])\n",
      "random sample with shape (2,3):\n",
      " tensor([[-0.3918, -0.3126, -0.8170],\n",
      "        [-0.8180,  0.6034,  0.2298]])\n"
     ]
    }
   ],
   "source": [
    "print(\"random sample with shape ():\\n\",\n",
    "      normal.sample())\n",
    "print(\"random sample with shape (3,):\\n\",\n",
    "      normal.sample(sample_shape=(3,)))\n",
    "print(\"random sample with shape (2,3):\\n\",\n",
    "      normal.sample(sample_shape=(2, 3)))"
   ]
  },
  {
   "cell_type": "code",
   "execution_count": 4,
   "metadata": {
    "collapsed": false,
    "execution": {
     "iopub.execute_input": "2020-08-20T04:54:17.123858Z",
     "iopub.status.busy": "2020-08-20T04:54:17.123079Z",
     "iopub.status.idle": "2020-08-20T04:54:17.129098Z",
     "shell.execute_reply": "2020-08-20T04:54:17.129537Z"
    },
    "pycharm": {
     "name": "#%%\n"
    }
   },
   "outputs": [
    {
     "name": "stdout",
     "output_type": "stream",
     "text": [
      "cumulative probability given value with shape ():\n",
      " tensor(0.5000) \n",
      "\n",
      "cumulative probability given value with (3,):\n",
      " tensor([0.1587, 0.5000, 0.6915]) \n",
      "\n",
      "cumulative probability given value with (2,3):\n",
      " tensor([[0.1587, 0.5000, 0.6915],\n",
      "        [0.0228, 0.8413, 0.9987]])\n"
     ]
    }
   ],
   "source": [
    "print(\"cumulative probability given value with shape ():\\n\",\n",
    "      normal.cdf(value=0), \"\\n\")\n",
    "print(\"cumulative probability given value with (3,):\\n\",\n",
    "      normal.cdf(value=torch.Tensor([-1, 0, .5])), \"\\n\")\n",
    "print(\"cumulative probability given value with (2,3):\\n\",\n",
    "      normal.cdf(value=torch.Tensor([[-1, 0, .5], [-2, 1, 3]])))"
   ]
  },
  {
   "cell_type": "code",
   "execution_count": 5,
   "metadata": {
    "collapsed": false,
    "execution": {
     "iopub.execute_input": "2020-08-20T04:54:17.134238Z",
     "iopub.status.busy": "2020-08-20T04:54:17.133393Z",
     "iopub.status.idle": "2020-08-20T04:54:17.139648Z",
     "shell.execute_reply": "2020-08-20T04:54:17.140163Z"
    },
    "pycharm": {
     "name": "#%%\n"
    }
   },
   "outputs": [
    {
     "name": "stdout",
     "output_type": "stream",
     "text": [
      "cumulative probability given value with shape ():\n",
      " tensor(-0.9189) \n",
      "\n",
      "cumulative probability given value with (3,):\n",
      " tensor([-1.4189, -0.9189, -1.0439]) \n",
      "\n",
      "cumulative probability given value with (2,3):\n",
      " tensor([[-1.4189, -0.9189, -1.0439],\n",
      "        [-2.9189, -1.4189, -5.4189]])\n"
     ]
    }
   ],
   "source": [
    "print(\"cumulative probability given value with shape ():\\n\",\n",
    "      normal.log_prob(value=0), \"\\n\")\n",
    "print(\"cumulative probability given value with (3,):\\n\",\n",
    "      normal.log_prob(value=torch.Tensor([-1, 0, .5])), \"\\n\")\n",
    "print(\"cumulative probability given value with (2,3):\\n\",\n",
    "      normal.log_prob(value=torch.Tensor([[-1, 0, .5], [-2, 1, 3]])))"
   ]
  },
  {
   "cell_type": "code",
   "execution_count": 6,
   "metadata": {
    "collapsed": false,
    "execution": {
     "iopub.execute_input": "2020-08-20T04:54:17.144312Z",
     "iopub.status.busy": "2020-08-20T04:54:17.143521Z",
     "iopub.status.idle": "2020-08-20T04:54:17.146539Z",
     "shell.execute_reply": "2020-08-20T04:54:17.147330Z"
    },
    "pycharm": {
     "name": "#%%\n"
    }
   },
   "outputs": [
    {
     "name": "stdout",
     "output_type": "stream",
     "text": [
      "Normal(loc: 0.0, scale: 1.0)\n"
     ]
    }
   ],
   "source": [
    "print(normal)"
   ]
  },
  {
   "cell_type": "code",
   "execution_count": 7,
   "metadata": {
    "collapsed": false,
    "execution": {
     "iopub.execute_input": "2020-08-20T04:54:17.151992Z",
     "iopub.status.busy": "2020-08-20T04:54:17.151001Z",
     "iopub.status.idle": "2020-08-20T04:54:17.154129Z",
     "shell.execute_reply": "2020-08-20T04:54:17.154630Z"
    },
    "pycharm": {
     "name": "#%%\n"
    }
   },
   "outputs": [
    {
     "name": "stdout",
     "output_type": "stream",
     "text": [
      "torch.Size([])\n",
      "torch.Size([])\n"
     ]
    }
   ],
   "source": [
    "print(normal.batch_shape)\n",
    "print(normal.event_shape)"
   ]
  },
  {
   "cell_type": "code",
   "execution_count": 8,
   "metadata": {
    "collapsed": false,
    "execution": {
     "iopub.execute_input": "2020-08-20T04:54:17.159172Z",
     "iopub.status.busy": "2020-08-20T04:54:17.158362Z",
     "iopub.status.idle": "2020-08-20T04:54:17.161076Z",
     "shell.execute_reply": "2020-08-20T04:54:17.161709Z"
    },
    "pycharm": {
     "name": "#%%\n"
    }
   },
   "outputs": [
    {
     "name": "stdout",
     "output_type": "stream",
     "text": [
      "Normal(loc: torch.Size([2]), scale: torch.Size([2]))\n"
     ]
    }
   ],
   "source": [
    "normal_batch = Normal(loc=torch.Tensor([0., 1.]), scale=torch.Tensor([1., 1.5]))\n",
    "print(normal_batch)"
   ]
  },
  {
   "cell_type": "code",
   "execution_count": 9,
   "metadata": {
    "collapsed": false,
    "execution": {
     "iopub.execute_input": "2020-08-20T04:54:17.167374Z",
     "iopub.status.busy": "2020-08-20T04:54:17.166342Z",
     "iopub.status.idle": "2020-08-20T04:54:17.173246Z",
     "shell.execute_reply": "2020-08-20T04:54:17.173843Z"
    },
    "pycharm": {
     "name": "#%%\n"
    }
   },
   "outputs": [
    {
     "name": "stdout",
     "output_type": "stream",
     "text": [
      "random sample with sample_shape ():\n",
      " tensor([1.0539, 0.6812]) \n",
      "\n",
      "random sample with sample_shape (3,):\n",
      " tensor([[ 1.0815,  4.2408],\n",
      "        [-1.5116,  1.0701],\n",
      "        [-0.2424,  1.5655]]) \n",
      "\n",
      "random sample with sample_shape (2,3):\n",
      " tensor([[[-0.5095, -0.7895],\n",
      "         [-0.6018,  3.1641],\n",
      "         [-0.0365,  1.6315]],\n",
      "\n",
      "        [[ 0.9499,  0.9825],\n",
      "         [ 0.5302,  2.5403],\n",
      "         [-0.5381,  2.5007]]])\n"
     ]
    }
   ],
   "source": [
    "print(\"random sample with sample_shape ():\\n\",\n",
    "      normal_batch.sample(), \"\\n\")\n",
    "print(\"random sample with sample_shape (3,):\\n\",\n",
    "      normal_batch.sample(sample_shape=(3,)), \"\\n\")\n",
    "print(\"random sample with sample_shape (2,3):\\n\",\n",
    "      normal_batch.sample(sample_shape=(2,3)))\n"
   ]
  },
  {
   "cell_type": "code",
   "execution_count": 10,
   "metadata": {
    "collapsed": false,
    "execution": {
     "iopub.execute_input": "2020-08-20T04:54:17.178395Z",
     "iopub.status.busy": "2020-08-20T04:54:17.177706Z",
     "iopub.status.idle": "2020-08-20T04:54:17.183965Z",
     "shell.execute_reply": "2020-08-20T04:54:17.184700Z"
    },
    "pycharm": {
     "name": "#%%\n"
    }
   },
   "outputs": [
    {
     "name": "stdout",
     "output_type": "stream",
     "text": [
      "log-probability given value with shape ():\n",
      " tensor([-0.9189, -1.5466]) \n",
      "\n",
      "log-probability given value with shape (2,):\n",
      " tensor([-0.9189, -1.5466]) \n",
      "\n",
      "log-probability given value with shape (2,1):\n",
      " tensor([[-0.9189, -1.5466],\n",
      "        [-0.9189, -1.5466]])\n"
     ]
    }
   ],
   "source": [
    "print(\"log-probability given value with shape ():\\n\",\n",
    "      normal_batch.log_prob(0), \"\\n\")\n",
    "print(\"log-probability given value with shape (2,):\\n\",\n",
    "      normal_batch.log_prob(torch.Tensor([0, 0])), \"\\n\")\n",
    "print(\"log-probability given value with shape (2,1):\\n\",\n",
    "      normal_batch.log_prob(torch.Tensor([[0], [0]])))"
   ]
  },
  {
   "cell_type": "code",
   "execution_count": 11,
   "metadata": {
    "collapsed": false,
    "execution": {
     "iopub.execute_input": "2020-08-20T04:54:17.189890Z",
     "iopub.status.busy": "2020-08-20T04:54:17.189050Z",
     "iopub.status.idle": "2020-08-20T04:54:17.191872Z",
     "shell.execute_reply": "2020-08-20T04:54:17.192310Z"
    },
    "pycharm": {
     "name": "#%%\n"
    }
   },
   "outputs": [
    {
     "name": "stdout",
     "output_type": "stream",
     "text": [
      "MultivariateNormal(loc: torch.Size([2]), scale_tril: torch.Size([2, 2]))\n"
     ]
    }
   ],
   "source": [
    "from torch.distributions import MultivariateNormal\n",
    "mvn = MultivariateNormal(\n",
    "    loc=torch.Tensor([0, 1]),\n",
    "    scale_tril=torch.cholesky(torch.Tensor([[1., 0.], [0., .5]])))\n",
    "print(mvn)\n"
   ]
  },
  {
   "cell_type": "code",
   "execution_count": 12,
   "metadata": {
    "collapsed": false,
    "execution": {
     "iopub.execute_input": "2020-08-20T04:54:17.197624Z",
     "iopub.status.busy": "2020-08-20T04:54:17.196588Z",
     "iopub.status.idle": "2020-08-20T04:54:17.204224Z",
     "shell.execute_reply": "2020-08-20T04:54:17.204710Z"
    },
    "pycharm": {
     "name": "#%%\n"
    }
   },
   "outputs": [
    {
     "name": "stdout",
     "output_type": "stream",
     "text": [
      "random sample with sample_shape ():\n",
      " tensor([1.0111, 1.8143]) \n",
      "\n",
      "random sample with sample_shape (3,):\n",
      " tensor([[ 0.6033,  1.4658],\n",
      "        [-0.2316,  0.1096],\n",
      "        [-0.6719,  1.2997]]) \n",
      "\n",
      "random sample with sample_shape (2, 3):\n",
      " tensor([[[ 0.0360,  0.4150],\n",
      "         [ 2.0967,  0.7699],\n",
      "         [ 0.2420,  0.9181]],\n",
      "\n",
      "        [[-0.2074,  0.9325],\n",
      "         [-0.5997,  0.6757],\n",
      "         [ 0.9281,  1.2094]]])\n"
     ]
    }
   ],
   "source": [
    "print(\"random sample with sample_shape ():\\n\",\n",
    "      mvn.sample(), \"\\n\")\n",
    "print(\"random sample with sample_shape (3,):\\n\",\n",
    "      mvn.sample(sample_shape=(3,)), \"\\n\")\n",
    "print(\"random sample with sample_shape (2, 3):\\n\",\n",
    "      mvn.sample(sample_shape=(2, 3)))"
   ]
  },
  {
   "cell_type": "code",
   "execution_count": 13,
   "metadata": {
    "collapsed": false,
    "execution": {
     "iopub.execute_input": "2020-08-20T04:54:17.209359Z",
     "iopub.status.busy": "2020-08-20T04:54:17.208618Z",
     "iopub.status.idle": "2020-08-20T04:54:17.214362Z",
     "shell.execute_reply": "2020-08-20T04:54:17.214774Z"
    },
    "pycharm": {
     "name": "#%%\n"
    }
   },
   "outputs": [
    {
     "name": "stdout",
     "output_type": "stream",
     "text": [
      "log-probability given value with shape (2,):\n",
      " tensor(-2.4913) \n",
      "\n",
      "log-probability given value with shape (2,1):\n",
      " tensor([-2.4913, -2.4913])\n"
     ]
    }
   ],
   "source": [
    "print(\"log-probability given value with shape (2,):\\n\",\n",
    "      mvn.log_prob(torch.Tensor([0, 0])), \"\\n\")\n",
    "print(\"log-probability given value with shape (2,1):\\n\",\n",
    "      mvn.log_prob(torch.Tensor([[0, 0], [0, 0]])))"
   ]
  },
  {
   "cell_type": "code",
   "execution_count": 14,
   "metadata": {
    "collapsed": false,
    "execution": {
     "iopub.execute_input": "2020-08-20T04:54:17.220181Z",
     "iopub.status.busy": "2020-08-20T04:54:17.218703Z",
     "iopub.status.idle": "2020-08-20T04:54:17.222136Z",
     "shell.execute_reply": "2020-08-20T04:54:17.222583Z"
    },
    "pycharm": {
     "name": "#%%\n"
    }
   },
   "outputs": [
    {
     "name": "stdout",
     "output_type": "stream",
     "text": [
      "torch.Size([])\n",
      "torch.Size([2])\n"
     ]
    }
   ],
   "source": [
    "from torch.distributions import Independent\n",
    "normal_batch = Independent(normal_batch, reinterpreted_batch_ndims=1)\n",
    "print(normal_batch.batch_shape)\n",
    "print(normal_batch.event_shape)\n"
   ]
  },
  {
   "cell_type": "code",
   "execution_count": 15,
   "metadata": {
    "collapsed": false,
    "execution": {
     "iopub.execute_input": "2020-08-20T04:54:17.227546Z",
     "iopub.status.busy": "2020-08-20T04:54:17.226594Z",
     "iopub.status.idle": "2020-08-20T04:54:17.235812Z",
     "shell.execute_reply": "2020-08-20T04:54:17.236326Z"
    },
    "pycharm": {
     "name": "#%%\n"
    }
   },
   "outputs": [
    {
     "data": {
      "text/plain": [
       "MultivariateNormal(loc: torch.Size([3, 2]), scale_tril: torch.Size([3, 2, 2]))"
      ]
     },
     "execution_count": 15,
     "metadata": {},
     "output_type": "execute_result"
    }
   ],
   "source": [
    "mvn_batch = MultivariateNormal(\n",
    "    loc=torch.Tensor([[0, 1],[1, 2],[2, 3]]),\n",
    "    scale_tril=torch.cholesky(torch.Tensor([[1., .2], [.2, .5]])))\n",
    "mvn_batch"
   ]
  },
  {
   "cell_type": "code",
   "execution_count": 16,
   "metadata": {
    "collapsed": false,
    "execution": {
     "iopub.execute_input": "2020-08-20T04:54:17.240867Z",
     "iopub.status.busy": "2020-08-20T04:54:17.240081Z",
     "iopub.status.idle": "2020-08-20T04:54:17.248118Z",
     "shell.execute_reply": "2020-08-20T04:54:17.248548Z"
    },
    "pycharm": {
     "name": "#%%\n"
    }
   },
   "outputs": [
    {
     "name": "stdout",
     "output_type": "stream",
     "text": [
      "random sample with sample_shape ():\n",
      " tensor([[0.3286, 1.0184],\n",
      "        [0.1563, 1.1976],\n",
      "        [2.2785, 1.9281]]) \n",
      "\n",
      "random sample with sample_shape (3,):\n",
      " tensor([[[ 2.0335,  1.1980],\n",
      "         [-0.2274,  1.0336],\n",
      "         [ 2.2735,  2.7263]],\n",
      "\n",
      "        [[ 0.0739,  0.8529],\n",
      "         [ 1.4763,  1.6400],\n",
      "         [ 1.6496,  2.6528]],\n",
      "\n",
      "        [[ 0.2534,  0.3735],\n",
      "         [ 1.2531,  2.7364],\n",
      "         [ 2.3528,  3.0961]]]) \n",
      "\n",
      "random sample with sample_shape (2, 3):\n",
      " tensor([[[[ 0.2327,  0.8202],\n",
      "          [ 1.9229,  1.9113],\n",
      "          [ 0.4851,  3.4065]],\n",
      "\n",
      "         [[ 0.5540,  0.4060],\n",
      "          [ 0.2189,  1.3886],\n",
      "          [ 1.5919,  2.1573]],\n",
      "\n",
      "         [[ 1.9386,  1.2528],\n",
      "          [ 1.9650,  2.8223],\n",
      "          [ 3.6178,  3.1882]]],\n",
      "\n",
      "\n",
      "        [[[-0.1204,  1.0408],\n",
      "          [ 0.2880,  1.9700],\n",
      "          [ 2.4340,  4.1901]],\n",
      "\n",
      "         [[ 0.2542,  0.6331],\n",
      "          [ 1.5785,  1.0956],\n",
      "          [ 1.3173,  3.8490]],\n",
      "\n",
      "         [[-0.1060,  1.1156],\n",
      "          [ 0.6205,  2.5574],\n",
      "          [-0.1965,  2.6641]]]])\n"
     ]
    }
   ],
   "source": [
    "print(\"random sample with sample_shape ():\\n\",\n",
    "      mvn_batch.sample(), \"\\n\")\n",
    "print(\"random sample with sample_shape (3,):\\n\",\n",
    "      mvn_batch.sample(sample_shape=(3,)), \"\\n\")\n",
    "print(\"random sample with sample_shape (2, 3):\\n\",\n",
    "      mvn_batch.sample(sample_shape=(2, 3)))\n"
   ]
  },
  {
   "cell_type": "code",
   "execution_count": 17,
   "metadata": {
    "collapsed": false,
    "execution": {
     "iopub.execute_input": "2020-08-20T04:54:17.253124Z",
     "iopub.status.busy": "2020-08-20T04:54:17.252300Z",
     "iopub.status.idle": "2020-08-20T04:54:17.256284Z",
     "shell.execute_reply": "2020-08-20T04:54:17.256775Z"
    },
    "pycharm": {
     "name": "#%%\n"
    }
   },
   "outputs": [
    {
     "name": "stdout",
     "output_type": "stream",
     "text": [
      "normal model:\n",
      " Normal(loc: tensor([5.]), scale: tensor([2.])) \n",
      "\n"
     ]
    }
   ],
   "source": [
    "mu_true = torch.tensor([5.])\n",
    "sigma_true = torch.tensor([2.])\n",
    "normal_model_true = Normal(\n",
    "    loc=mu_true,\n",
    "    scale=sigma_true)\n",
    "print(\"normal model:\\n\", normal_model_true, \"\\n\")"
   ]
  },
  {
   "cell_type": "code",
   "execution_count": 18,
   "metadata": {
    "collapsed": false,
    "execution": {
     "iopub.execute_input": "2020-08-20T04:54:17.260778Z",
     "iopub.status.busy": "2020-08-20T04:54:17.260081Z",
     "iopub.status.idle": "2020-08-20T04:54:17.264067Z",
     "shell.execute_reply": "2020-08-20T04:54:17.264570Z"
    },
    "pycharm": {
     "name": "#%%\n"
    }
   },
   "outputs": [
    {
     "name": "stdout",
     "output_type": "stream",
     "text": [
      "negative likelihood value is tensor(2.0789)\n"
     ]
    }
   ],
   "source": [
    "sample_size = 1000\n",
    "x = normal_model_true.sample(sample_shape=(sample_size,))\n",
    "loss_value = -torch.mean(torch.sum(normal_model_true.log_prob(x), dim = 1))\n",
    "print(\"negative likelihood value is\", loss_value)\n"
   ]
  },
  {
   "cell_type": "code",
   "execution_count": 19,
   "metadata": {
    "collapsed": false,
    "execution": {
     "iopub.execute_input": "2020-08-20T04:54:17.270131Z",
     "iopub.status.busy": "2020-08-20T04:54:17.269439Z",
     "iopub.status.idle": "2020-08-20T04:54:17.362578Z",
     "shell.execute_reply": "2020-08-20T04:54:17.363010Z"
    },
    "pycharm": {
     "name": "#%%\n"
    }
   },
   "outputs": [],
   "source": [
    "epochs = 200\n",
    "lr = 1.0\n",
    "mu = torch.tensor([0.], requires_grad=True)\n",
    "sigma = torch.tensor([1.], requires_grad=True)\n",
    "optimizer = torch.optim.Adam([mu, sigma], lr=.5)\n",
    "for epoch in range(epochs):\n",
    "    normal_model = Normal(loc=mu, scale=sigma)\n",
    "    loss_value = -torch.mean(normal_model.log_prob(x))\n",
    "    optimizer.zero_grad()\n",
    "    loss_value.backward() # compute the gradient\n",
    "    optimizer.step()"
   ]
  },
  {
   "cell_type": "code",
   "execution_count": 20,
   "metadata": {
    "collapsed": false,
    "execution": {
     "iopub.execute_input": "2020-08-20T04:54:17.366980Z",
     "iopub.status.busy": "2020-08-20T04:54:17.366168Z",
     "iopub.status.idle": "2020-08-20T04:54:17.370476Z",
     "shell.execute_reply": "2020-08-20T04:54:17.370964Z"
    },
    "pycharm": {
     "name": "#%%\n"
    }
   },
   "outputs": [
    {
     "name": "stdout",
     "output_type": "stream",
     "text": [
      "ML mean by gradient descent: "
     ]
    },
    {
     "name": "stdout",
     "output_type": "stream",
     "text": [
      "tensor([5.0441], requires_grad=True)\n",
      "ML std by gradient descent: tensor([1.9290], requires_grad=True)\n"
     ]
    }
   ],
   "source": [
    "print(\"ML mean by gradient descent:\", mu)\n",
    "print(\"ML std by gradient descent:\", sigma)"
   ]
  },
  {
   "cell_type": "code",
   "execution_count": 21,
   "metadata": {
    "collapsed": false,
    "execution": {
     "iopub.execute_input": "2020-08-20T04:54:17.374906Z",
     "iopub.status.busy": "2020-08-20T04:54:17.374007Z",
     "iopub.status.idle": "2020-08-20T04:54:17.378827Z",
     "shell.execute_reply": "2020-08-20T04:54:17.379337Z"
    },
    "pycharm": {
     "name": "#%%\n"
    }
   },
   "outputs": [
    {
     "name": "stdout",
     "output_type": "stream",
     "text": [
      "ML mean by formula: tensor(5.0440)\n",
      "ML std by formula: tensor(1.9320)\n"
     ]
    }
   ],
   "source": [
    "print(\"ML mean by formula:\", torch.mean(x))\n",
    "print(\"ML std by formula:\", torch.std(x, unbiased=False))"
   ]
  },
  {
   "cell_type": "code",
   "execution_count": 22,
   "metadata": {
    "collapsed": false,
    "execution": {
     "iopub.execute_input": "2020-08-20T04:54:17.384226Z",
     "iopub.status.busy": "2020-08-20T04:54:17.383348Z",
     "iopub.status.idle": "2020-08-20T04:54:17.388187Z",
     "shell.execute_reply": "2020-08-20T04:54:17.388642Z"
    },
    "pycharm": {
     "name": "#%%\n"
    }
   },
   "outputs": [
    {
     "name": "stdout",
     "output_type": "stream",
     "text": [
      "true mean vector: \n",
      " tensor([-1.,  0.,  1.])\n",
      "true covariance matrix: \n",
      " tensor([[9.0000, 6.0000, 1.2000],\n",
      "        [6.0000, 5.0000, 1.3000],\n",
      "        [1.2000, 1.3000, 0.6600]])\n"
     ]
    }
   ],
   "source": [
    "mu_true = torch.tensor([-1., 0., 1.])\n",
    "sigma_tril_true = torch.tensor([[3., 0., 0.], [2., 1., 0.], [.4, .5, .5]])\n",
    "mvn_model_true = MultivariateNormal(\n",
    "    loc=mu_true,\n",
    "    scale_tril=sigma_tril_true)\n",
    "print(\"true mean vector: \\n\", mvn_model_true.mean)\n",
    "print(\"true covariance matrix: \\n\", mvn_model_true.covariance_matrix)"
   ]
  },
  {
   "cell_type": "code",
   "execution_count": 23,
   "metadata": {
    "collapsed": false,
    "execution": {
     "iopub.execute_input": "2020-08-20T04:54:17.392760Z",
     "iopub.status.busy": "2020-08-20T04:54:17.391899Z",
     "iopub.status.idle": "2020-08-20T04:54:17.396683Z",
     "shell.execute_reply": "2020-08-20T04:54:17.397146Z"
    },
    "pycharm": {
     "name": "#%%\n"
    }
   },
   "outputs": [
    {
     "name": "stdout",
     "output_type": "stream",
     "text": [
      "negative likelihood value is tensor(4.7001)\n"
     ]
    }
   ],
   "source": [
    "sample_size = 1000\n",
    "x = mvn_model_true.sample(sample_shape=(sample_size,))\n",
    "loss_value = -torch.mean(mvn_model_true.log_prob(x))\n",
    "print(\"negative likelihood value is\", loss_value)\n"
   ]
  },
  {
   "cell_type": "code",
   "execution_count": 24,
   "metadata": {
    "collapsed": false,
    "execution": {
     "iopub.execute_input": "2020-08-20T04:54:17.403312Z",
     "iopub.status.busy": "2020-08-20T04:54:17.402365Z",
     "iopub.status.idle": "2020-08-20T04:54:17.937157Z",
     "shell.execute_reply": "2020-08-20T04:54:17.937877Z"
    },
    "pycharm": {
     "name": "#%%\n"
    }
   },
   "outputs": [],
   "source": [
    "epochs = 500\n",
    "lr = .1\n",
    "mu = torch.tensor(\n",
    "    [0., 0., 0.], requires_grad=True)\n",
    "sigma_tril = torch.tensor(\n",
    "    [[1., 0., 0.], [0., 1., 0.], [0., 0., 1.]],\n",
    "    requires_grad=True)\n",
    "optimizer = torch.optim.Adam([mu, sigma_tril], lr=lr)\n",
    "\n",
    "for epoch in range(epochs):\n",
    "    mvn_model = MultivariateNormal(\n",
    "    loc=mu,\n",
    "    scale_tril=sigma_tril)\n",
    "    loss_value = -torch.mean(mvn_model.log_prob(x))\n",
    "    optimizer.zero_grad()\n",
    "    loss_value.backward() # compute the gradient\n",
    "    optimizer.step()"
   ]
  },
  {
   "cell_type": "code",
   "execution_count": 25,
   "metadata": {
    "collapsed": false,
    "execution": {
     "iopub.execute_input": "2020-08-20T04:54:17.941750Z",
     "iopub.status.busy": "2020-08-20T04:54:17.941011Z",
     "iopub.status.idle": "2020-08-20T04:54:17.945353Z",
     "shell.execute_reply": "2020-08-20T04:54:17.945835Z"
    },
    "pycharm": {
     "name": "#%%\n"
    }
   },
   "outputs": [
    {
     "name": "stdout",
     "output_type": "stream",
     "text": [
      "ML mean by gradient descent: \n",
      " tensor([-0.9171,  0.0651,  1.0312], requires_grad=True)\n",
      "ML covariance by gradient descent: \n",
      " tensor([[9.4496, 6.3540, 1.2907],\n",
      "        [6.3540, 5.2871, 1.3354],\n",
      "        [1.2907, 1.3354, 0.6424]], grad_fn=<MmBackward>)\n"
     ]
    }
   ],
   "source": [
    "print(\"ML mean by gradient descent: \\n\",\n",
    "      mu)\n",
    "print(\"ML covariance by gradient descent: \\n\",\n",
    "      sigma_tril @ torch.transpose(sigma_tril, 0, 1))"
   ]
  },
  {
   "cell_type": "code",
   "execution_count": 26,
   "metadata": {
    "collapsed": false,
    "execution": {
     "iopub.execute_input": "2020-08-20T04:54:17.950236Z",
     "iopub.status.busy": "2020-08-20T04:54:17.949494Z",
     "iopub.status.idle": "2020-08-20T04:54:17.954226Z",
     "shell.execute_reply": "2020-08-20T04:54:17.954786Z"
    },
    "pycharm": {
     "name": "#%%\n"
    }
   },
   "outputs": [
    {
     "name": "stdout",
     "output_type": "stream",
     "text": [
      "ML mean by formula: \n",
      " tensor([-0.9171,  0.0651,  1.0312])\n",
      "ML covariance by formula: \n",
      " tensor([[9.4496, 6.3540, 1.2907],\n",
      "        [6.3540, 5.2871, 1.3354],\n",
      "        [1.2907, 1.3354, 0.6424]])\n"
     ]
    }
   ],
   "source": [
    "sample_mean = torch.mean(x, dim = 0)\n",
    "sample_moment2 = (torch.transpose(x, 0, 1) @ x) / sample_size\n",
    "sample_cov = sample_moment2 - torch.ger(sample_mean, sample_mean)\n",
    "print(\"ML mean by formula: \\n\",\n",
    "      sample_mean)\n",
    "print(\"ML covariance by formula: \\n\",\n",
    "      sample_cov)"
   ]
  }
 ],
 "metadata": {
  "kernelspec": {
   "display_name": "Python 3",
   "language": "python",
   "name": "python3"
  },
  "language_info": {
   "codemirror_mode": {
    "name": "ipython",
    "version": 3
   },
   "file_extension": ".py",
   "mimetype": "text/x-python",
   "name": "python",
   "nbconvert_exporter": "python",
   "pygments_lexer": "ipython3",
   "version": "3.8.5"
  }
 },
 "nbformat": 4,
 "nbformat_minor": 0
}